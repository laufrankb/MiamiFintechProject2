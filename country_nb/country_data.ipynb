{
 "cells": [
  {
   "cell_type": "markdown",
   "metadata": {},
   "source": [
    "# Initial Imports"
   ]
  },
  {
   "cell_type": "code",
   "execution_count": 135,
   "metadata": {},
   "outputs": [],
   "source": [
    "import pandas as pd\n",
    "import numpy as np\n",
    "from nltk import ngrams\n",
    "from wordcloud import WordCloud\n",
    "import spacy\n",
    "from spacy import displacy\n",
    "from collections import Counter\n",
    "import matplotlib.pyplot as plt\n",
    "import plotly.express as px\n",
    "from PIL import Image\n",
    "from wordcloud import ImageColorGenerator\n",
    "pd.options.plotting.backend = 'hvplot'\n",
    "\n",
    "# Custom .py files\n",
    "from get_lyric_data import get_lyrics\n",
    "from get_chart_data import get_chart_genre\n",
    "from text_processor import process_text\n",
    "from get_lyrics_sentiment import lyrics_sentiment"
   ]
  },
  {
   "cell_type": "markdown",
   "metadata": {},
   "source": [
    "# Lyric Data"
   ]
  },
  {
   "cell_type": "markdown",
   "metadata": {},
   "source": [
    "### Search for top songs in GENRE"
   ]
  },
  {
   "cell_type": "code",
   "execution_count": 2,
   "metadata": {},
   "outputs": [],
   "source": [
    "\"\"\" SHAZAM CORE API REQUEST \"\"\"\n",
    "\"\"\" WORLD CHART BY GENRE ENDPOINT \"\"\"\n",
    "\n",
    "# Use 'World Chart By Genre' endpoint to retrieve chart for a single genre\n",
    "\n",
    "# GENRE CODES\n",
    "# POP,HIP_HOP_RAP,DANCE,ELECTRONIC,SOUL_RNB,ALTERNATIVE,ROCK,LATIN,FILM_TV,COUNTRY,\n",
    "# AFRO_BEATS,WORLDWIDE,REGGAE_DANCE_HALL,HOUSE,K_POP,FRENCH_POP,SINGER_SONGWRITER,REG_MEXICO\n",
    "\n",
    "genre = 'COUNTRY'\n",
    "limit_songs = 50\n",
    "\n",
    "querystring = {\"genre_code\": genre,\"limit\":limit_songs}\n",
    "chart_response = get_chart_genre(querystring)"
   ]
  },
  {
   "cell_type": "code",
   "execution_count": 3,
   "metadata": {},
   "outputs": [
    {
     "name": "stdout",
     "output_type": "stream",
     "text": [
      "The number of songs retrieved is : 50\n"
     ]
    },
    {
     "data": {
      "text/html": [
       "<div>\n",
       "<style scoped>\n",
       "    .dataframe tbody tr th:only-of-type {\n",
       "        vertical-align: middle;\n",
       "    }\n",
       "\n",
       "    .dataframe tbody tr th {\n",
       "        vertical-align: top;\n",
       "    }\n",
       "\n",
       "    .dataframe thead th {\n",
       "        text-align: right;\n",
       "    }\n",
       "</style>\n",
       "<table border=\"1\" class=\"dataframe\">\n",
       "  <thead>\n",
       "    <tr style=\"text-align: right;\">\n",
       "      <th></th>\n",
       "      <th>Track Name</th>\n",
       "      <th>Artists</th>\n",
       "    </tr>\n",
       "    <tr>\n",
       "      <th>TrackIDs</th>\n",
       "      <th></th>\n",
       "      <th></th>\n",
       "    </tr>\n",
       "  </thead>\n",
       "  <tbody>\n",
       "    <tr>\n",
       "      <th>595243928</th>\n",
       "      <td>The Cowboy In Me (Yellowstone Edition)</td>\n",
       "      <td>Tim McGraw</td>\n",
       "    </tr>\n",
       "    <tr>\n",
       "      <th>54640449</th>\n",
       "      <td>Jingle Bell Rock</td>\n",
       "      <td>Bobby Helms</td>\n",
       "    </tr>\n",
       "    <tr>\n",
       "      <th>568180108</th>\n",
       "      <td>Fancy Like</td>\n",
       "      <td>Walker Hayes</td>\n",
       "    </tr>\n",
       "    <tr>\n",
       "      <th>52815945</th>\n",
       "      <td>Enchanted</td>\n",
       "      <td>Taylor Swift</td>\n",
       "    </tr>\n",
       "    <tr>\n",
       "      <th>463807349</th>\n",
       "      <td>Old Town Road (Remix)</td>\n",
       "      <td>Lil Nas X Feat. Billy Ray Cyrus</td>\n",
       "    </tr>\n",
       "  </tbody>\n",
       "</table>\n",
       "</div>"
      ],
      "text/plain": [
       "                                       Track Name  \\\n",
       "TrackIDs                                            \n",
       "595243928  The Cowboy In Me (Yellowstone Edition)   \n",
       "54640449                         Jingle Bell Rock   \n",
       "568180108                              Fancy Like   \n",
       "52815945                                Enchanted   \n",
       "463807349                   Old Town Road (Remix)   \n",
       "\n",
       "                                   Artists  \n",
       "TrackIDs                                    \n",
       "595243928                       Tim McGraw  \n",
       "54640449                       Bobby Helms  \n",
       "568180108                     Walker Hayes  \n",
       "52815945                      Taylor Swift  \n",
       "463807349  Lil Nas X Feat. Billy Ray Cyrus  "
      ]
     },
     "execution_count": 3,
     "metadata": {},
     "output_type": "execute_result"
    }
   ],
   "source": [
    "# Retrieve Track IDs\n",
    "\n",
    "track_ids=[] # song identifier\n",
    "titles = [] # song name\n",
    "subtitles = [] # Main artist and featured artists\n",
    "\n",
    "for track in range(len(chart_response)):\n",
    "    track_ids.append(chart_response[track]['id'])\n",
    "    titles.append(chart_response[track]['title'])\n",
    "    subtitles.append(chart_response[track]['subtitle'])\n",
    "\n",
    "print(f\"The number of songs retrieved is : {len(track_ids)}\")\n",
    "\n",
    "chart_songs = pd.DataFrame({\"Track Name\": titles, \"Artists\": subtitles, 'TrackIDs': track_ids}).set_index('TrackIDs')\n",
    "chart_songs.head(5)\n"
   ]
  },
  {
   "cell_type": "code",
   "execution_count": 550,
   "metadata": {},
   "outputs": [
    {
     "data": {},
     "metadata": {},
     "output_type": "display_data"
    },
    {
     "data": {
      "application/vnd.holoviews_exec.v0+json": "",
      "text/html": [
       "<div id='4403'>\n",
       "\n",
       "\n",
       "\n",
       "\n",
       "\n",
       "  <div class=\"bk-root\" id=\"85cab04d-3740-4705-89d2-7dcaa9ac124d\" data-root-id=\"4403\"></div>\n",
       "</div>\n",
       "<script type=\"application/javascript\">(function(root) {\n",
       "  function embed_document(root) {\n",
       "    var docs_json = {\"212c5635-ce10-4042-9d57-ff04accc75a7\":{\"defs\":[{\"extends\":null,\"module\":null,\"name\":\"ReactiveHTML1\",\"overrides\":[],\"properties\":[]},{\"extends\":null,\"module\":null,\"name\":\"FlexBox1\",\"overrides\":[],\"properties\":[{\"default\":\"flex-start\",\"kind\":null,\"name\":\"align_content\"},{\"default\":\"flex-start\",\"kind\":null,\"name\":\"align_items\"},{\"default\":\"row\",\"kind\":null,\"name\":\"flex_direction\"},{\"default\":\"wrap\",\"kind\":null,\"name\":\"flex_wrap\"},{\"default\":\"flex-start\",\"kind\":null,\"name\":\"justify_content\"}]},{\"extends\":null,\"module\":null,\"name\":\"TemplateActions1\",\"overrides\":[],\"properties\":[{\"default\":0,\"kind\":null,\"name\":\"open_modal\"},{\"default\":0,\"kind\":null,\"name\":\"close_modal\"}]},{\"extends\":null,\"module\":null,\"name\":\"MaterialTemplateActions1\",\"overrides\":[],\"properties\":[{\"default\":0,\"kind\":null,\"name\":\"open_modal\"},{\"default\":0,\"kind\":null,\"name\":\"close_modal\"}]}],\"roots\":{\"references\":[{\"attributes\":{\"margin\":[5,5,5,5],\"name\":\"HSpacer06051\",\"sizing_mode\":\"stretch_width\"},\"id\":\"4404\",\"type\":\"Spacer\"},{\"attributes\":{},\"id\":\"4424\",\"type\":\"SaveTool\"},{\"attributes\":{\"factors\":[\"Taylor Swift\",\"Luke Combs\",\"Walker Hayes\",\"Shania Twain\",\"Chris Stapleton\",\"Tim McGraw\",\"Roy Orbison\",\"Colter Wall\",\"Z\\u00e9 da Timba e Z\\u00e9 Latinha\",\"Georgian People\",\"Jon Pardi\",\"Sam Hunt\",\"Shaboozey\",\"Kenny Chesney\",\"Dolly Parton\",\"Blake Shelton\",\"Dierks Bentley Feat. Breland & Hardy\",\"Brooks & Dunn\",\"Niko Moon\",\"Jimmie Allen & Brad Paisley\",\"Whiskey Myers\",\"Kelsea Ballerini Feat. Kenny Chesney\",\"Gene Autry\",\"Kane Brown\",\"Kacey Musgraves\",\"Jason Aldean & Carrie Underwood\",\"Lil Nas X Feat. Billy Ray Cyrus\",\"Dustin Lynch Feat. MacKenzie Porter\",\"Lady Antebellum\",\"Jordan Davis Feat. Luke Bryan\",\"Morgan Wallen\",\"Michael Ray\",\"Cody Johnson\",\"Parker McCollum\",\"Bobby Helms\",\"The Panhandlers\",\"Ryan Hurd & Maren Morris\",\"Cole Swindell & Lainey Wilson\",\"Warren Zeiders\",\"Carly Pearce & Ashley McBryde\",\"Shane Smith & The Saints\",\"Gabby Barrett\",\"Miranda Lambert\"],\"tags\":[[[\"Artists\",\"Artists\",null]]]},\"id\":\"4405\",\"type\":\"FactorRange\"},{\"attributes\":{\"overlay\":{\"id\":\"4429\"}},\"id\":\"4427\",\"type\":\"BoxZoomTool\"},{\"attributes\":{},\"id\":\"4428\",\"type\":\"ResetTool\"},{\"attributes\":{},\"id\":\"4447\",\"type\":\"AllLabels\"},{\"attributes\":{\"fill_alpha\":{\"value\":0.2},\"fill_color\":{\"value\":\"yellow\"},\"line_alpha\":{\"value\":0.2},\"top\":{\"field\":\"No_full_stop_Songs_in_Top_Chart\"},\"width\":{\"value\":0.8},\"x\":{\"field\":\"Artists\"}},\"id\":\"4442\",\"type\":\"VBar\"},{\"attributes\":{\"fill_color\":{\"value\":\"yellow\"},\"top\":{\"field\":\"No_full_stop_Songs_in_Top_Chart\"},\"width\":{\"value\":0.8},\"x\":{\"field\":\"Artists\"}},\"id\":\"4440\",\"type\":\"VBar\"},{\"attributes\":{},\"id\":\"4438\",\"type\":\"Selection\"},{\"attributes\":{\"fill_alpha\":{\"value\":0.1},\"fill_color\":{\"value\":\"yellow\"},\"line_alpha\":{\"value\":0.1},\"top\":{\"field\":\"No_full_stop_Songs_in_Top_Chart\"},\"width\":{\"value\":0.8},\"x\":{\"field\":\"Artists\"}},\"id\":\"4441\",\"type\":\"VBar\"},{\"attributes\":{},\"id\":\"4446\",\"type\":\"CategoricalTickFormatter\"},{\"attributes\":{},\"id\":\"4418\",\"type\":\"CategoricalTicker\"},{\"attributes\":{\"source\":{\"id\":\"4437\"}},\"id\":\"4444\",\"type\":\"CDSView\"},{\"attributes\":{},\"id\":\"4460\",\"type\":\"UnionRenderers\"},{\"attributes\":{\"data_source\":{\"id\":\"4437\"},\"glyph\":{\"id\":\"4440\"},\"hover_glyph\":null,\"muted_glyph\":{\"id\":\"4442\"},\"nonselection_glyph\":{\"id\":\"4441\"},\"selection_glyph\":{\"id\":\"4445\"},\"view\":{\"id\":\"4444\"}},\"id\":\"4443\",\"type\":\"GlyphRenderer\"},{\"attributes\":{\"bottom\":{\"value\":0},\"fill_alpha\":{\"value\":1.0},\"fill_color\":{\"value\":\"yellow\"},\"hatch_alpha\":{\"value\":1.0},\"hatch_color\":{\"value\":\"black\"},\"hatch_scale\":{\"value\":12.0},\"hatch_weight\":{\"value\":1.0},\"line_alpha\":{\"value\":1.0},\"line_cap\":{\"value\":\"butt\"},\"line_color\":{\"value\":\"black\"},\"line_dash\":{\"value\":[]},\"line_dash_offset\":{\"value\":0},\"line_join\":{\"value\":\"bevel\"},\"line_width\":{\"value\":1},\"top\":{\"field\":\"No_full_stop_Songs_in_Top_Chart\"},\"width\":{\"value\":0.8},\"x\":{\"field\":\"Artists\"}},\"id\":\"4445\",\"type\":\"VBar\"},{\"attributes\":{\"bottom_units\":\"screen\",\"fill_alpha\":0.5,\"fill_color\":\"lightgrey\",\"left_units\":\"screen\",\"level\":\"overlay\",\"line_alpha\":1.0,\"line_color\":\"black\",\"line_dash\":[4,4],\"line_width\":2,\"right_units\":\"screen\",\"syncable\":false,\"top_units\":\"screen\"},\"id\":\"4429\",\"type\":\"BoxAnnotation\"},{\"attributes\":{\"active_multi\":null,\"tools\":[{\"id\":\"4407\"},{\"id\":\"4424\"},{\"id\":\"4425\"},{\"id\":\"4426\"},{\"id\":\"4427\"},{\"id\":\"4428\"}]},\"id\":\"4430\",\"type\":\"Toolbar\"},{\"attributes\":{\"text\":\"Top Artists on COUNTRY Chart\",\"text_color\":\"black\",\"text_font_size\":\"12pt\"},\"id\":\"4409\",\"type\":\"Title\"},{\"attributes\":{\"end\":3.2,\"reset_end\":3.2,\"reset_start\":0.0,\"tags\":[[[\"No. Songs in Top Chart\",\"No. Songs in Top Chart\",null]]]},\"id\":\"4406\",\"type\":\"Range1d\"},{\"attributes\":{\"callback\":null,\"renderers\":[{\"id\":\"4443\"}],\"tags\":[\"hv_created\"],\"tooltips\":[[\"Artists\",\"@{Artists}\"],[\"No. Songs in Top Chart\",\"@{No_full_stop_Songs_in_Top_Chart}\"]]},\"id\":\"4407\",\"type\":\"HoverTool\"},{\"attributes\":{\"children\":[{\"id\":\"4404\"},{\"id\":\"4408\"},{\"id\":\"4472\"}],\"margin\":[0,0,0,0],\"name\":\"Row06047\",\"tags\":[\"embedded\"]},\"id\":\"4403\",\"type\":\"Row\"},{\"attributes\":{},\"id\":\"4413\",\"type\":\"CategoricalScale\"},{\"attributes\":{\"below\":[{\"id\":\"4417\"}],\"center\":[{\"id\":\"4419\"},{\"id\":\"4423\"}],\"left\":[{\"id\":\"4420\"}],\"margin\":[5,5,5,5],\"min_border_bottom\":10,\"min_border_left\":10,\"min_border_right\":10,\"min_border_top\":10,\"renderers\":[{\"id\":\"4443\"}],\"sizing_mode\":\"fixed\",\"title\":{\"id\":\"4409\"},\"toolbar\":{\"id\":\"4430\"},\"width\":1000,\"x_range\":{\"id\":\"4405\"},\"x_scale\":{\"id\":\"4413\"},\"y_range\":{\"id\":\"4406\"},\"y_scale\":{\"id\":\"4415\"}},\"id\":\"4408\",\"subtype\":\"Figure\",\"type\":\"Plot\"},{\"attributes\":{\"margin\":[5,5,5,5],\"name\":\"HSpacer06052\",\"sizing_mode\":\"stretch_width\"},\"id\":\"4472\",\"type\":\"Spacer\"},{\"attributes\":{},\"id\":\"4415\",\"type\":\"LinearScale\"},{\"attributes\":{\"axis\":{\"id\":\"4417\"},\"grid_line_color\":null,\"ticker\":null},\"id\":\"4419\",\"type\":\"Grid\"},{\"attributes\":{},\"id\":\"4449\",\"type\":\"BasicTickFormatter\"},{\"attributes\":{\"data\":{\"Artists\":[\"Taylor Swift\",\"Luke Combs\",\"Walker Hayes\",\"Shania Twain\",\"Chris Stapleton\",\"Tim McGraw\",\"Roy Orbison\",\"Colter Wall\",\"Z\\u00e9 da Timba e Z\\u00e9 Latinha\",\"Georgian People\",\"Jon Pardi\",\"Sam Hunt\",\"Shaboozey\",\"Kenny Chesney\",\"Dolly Parton\",\"Blake Shelton\",\"Dierks Bentley Feat. Breland & Hardy\",\"Brooks & Dunn\",\"Niko Moon\",\"Jimmie Allen & Brad Paisley\",\"Whiskey Myers\",\"Kelsea Ballerini Feat. Kenny Chesney\",\"Gene Autry\",\"Kane Brown\",\"Kacey Musgraves\",\"Jason Aldean & Carrie Underwood\",\"Lil Nas X Feat. Billy Ray Cyrus\",\"Dustin Lynch Feat. MacKenzie Porter\",\"Lady Antebellum\",\"Jordan Davis Feat. Luke Bryan\",\"Morgan Wallen\",\"Michael Ray\",\"Cody Johnson\",\"Parker McCollum\",\"Bobby Helms\",\"The Panhandlers\",\"Ryan Hurd & Maren Morris\",\"Cole Swindell & Lainey Wilson\",\"Warren Zeiders\",\"Carly Pearce & Ashley McBryde\",\"Shane Smith & The Saints\",\"Gabby Barrett\",\"Miranda Lambert\"],\"No_full_stop_Songs_in_Top_Chart\":[3,3,2,2,2,1,1,1,1,1,1,1,1,1,1,1,1,1,1,1,1,1,1,1,1,1,1,1,1,1,1,1,1,1,1,1,1,1,1,1,1,1,1]},\"selected\":{\"id\":\"4438\"},\"selection_policy\":{\"id\":\"4460\"}},\"id\":\"4437\",\"type\":\"ColumnDataSource\"},{\"attributes\":{\"axis\":{\"id\":\"4420\"},\"dimension\":1,\"grid_line_color\":null,\"ticker\":null},\"id\":\"4423\",\"type\":\"Grid\"},{\"attributes\":{},\"id\":\"4450\",\"type\":\"AllLabels\"},{\"attributes\":{},\"id\":\"4425\",\"type\":\"PanTool\"},{\"attributes\":{\"axis_label\":\"Artists\",\"formatter\":{\"id\":\"4446\"},\"major_label_orientation\":0.7853981633974483,\"major_label_policy\":{\"id\":\"4447\"},\"ticker\":{\"id\":\"4418\"}},\"id\":\"4417\",\"type\":\"CategoricalAxis\"},{\"attributes\":{\"axis_label\":\"No. Songs in Top Chart\",\"formatter\":{\"id\":\"4449\"},\"major_label_policy\":{\"id\":\"4450\"},\"ticker\":{\"id\":\"4421\"}},\"id\":\"4420\",\"type\":\"LinearAxis\"},{\"attributes\":{},\"id\":\"4421\",\"type\":\"BasicTicker\"},{\"attributes\":{},\"id\":\"4426\",\"type\":\"WheelZoomTool\"}],\"root_ids\":[\"4403\"]},\"title\":\"Bokeh Application\",\"version\":\"2.3.3\"}};\n",
       "    var render_items = [{\"docid\":\"212c5635-ce10-4042-9d57-ff04accc75a7\",\"root_ids\":[\"4403\"],\"roots\":{\"4403\":\"85cab04d-3740-4705-89d2-7dcaa9ac124d\"}}];\n",
       "    root.Bokeh.embed.embed_items_notebook(docs_json, render_items);\n",
       "  }\n",
       "  if (root.Bokeh !== undefined && root.Bokeh.Panel !== undefined) {\n",
       "    embed_document(root);\n",
       "  } else {\n",
       "    var attempts = 0;\n",
       "    var timer = setInterval(function(root) {\n",
       "      if (root.Bokeh !== undefined && root.Bokeh.Panel !== undefined) {\n",
       "        clearInterval(timer);\n",
       "        embed_document(root);\n",
       "      } else if (document.readyState == \"complete\") {\n",
       "        attempts++;\n",
       "        if (attempts > 200) {\n",
       "          clearInterval(timer);\n",
       "          console.log(\"Bokeh: ERROR: Unable to run BokehJS code because BokehJS library is missing\");\n",
       "        }\n",
       "      }\n",
       "    }, 25, root)\n",
       "  }\n",
       "})(window);</script>"
      ],
      "text/plain": [
       ":Bars   [Artists]   (No. Songs in Top Chart)"
      ]
     },
     "execution_count": 550,
     "metadata": {
      "application/vnd.holoviews_exec.v0+json": {
       "id": "4403"
      }
     },
     "output_type": "execute_result"
    }
   ],
   "source": [
    "# Take a look at the data\n",
    "\n",
    "from collections import Counter\n",
    "\n",
    "artists_list = list(chart_songs.Artists)\n",
    "artist_counts = {artist: artists_list.count(artist) for artist in artists_list} #dict with frequency of artist in top chart\n",
    "\n",
    "artists_df = pd.DataFrame(list(artist_counts.items()),columns = ['Artists','No. Songs in Top Chart']).set_index('Artists')\n",
    "artists_df.sort_values(by = 'No. Songs in Top Chart', ascending=False, inplace=True) #sort values\n",
    "\n",
    "# Plot artists frequency in top chart\n",
    "genre_plot = artists_df.plot.bar(rot=45, width = 1000, height = 600, color = 'yellow', title = f'Top Artists on {genre} Chart')\n",
    "genre_plot"
   ]
  },
  {
   "cell_type": "code",
   "execution_count": 551,
   "metadata": {},
   "outputs": [
    {
     "data": {
      "text/html": [
       "<div>\n",
       "<style scoped>\n",
       "    .dataframe tbody tr th:only-of-type {\n",
       "        vertical-align: middle;\n",
       "    }\n",
       "\n",
       "    .dataframe tbody tr th {\n",
       "        vertical-align: top;\n",
       "    }\n",
       "\n",
       "    .dataframe thead th {\n",
       "        text-align: right;\n",
       "    }\n",
       "</style>\n",
       "<table border=\"1\" class=\"dataframe\">\n",
       "  <thead>\n",
       "    <tr style=\"text-align: right;\">\n",
       "      <th></th>\n",
       "      <th>No. Songs in Top Chart</th>\n",
       "    </tr>\n",
       "    <tr>\n",
       "      <th>Artists</th>\n",
       "      <th></th>\n",
       "    </tr>\n",
       "  </thead>\n",
       "  <tbody>\n",
       "    <tr>\n",
       "      <th>Taylor Swift</th>\n",
       "      <td>3</td>\n",
       "    </tr>\n",
       "    <tr>\n",
       "      <th>Luke Combs</th>\n",
       "      <td>3</td>\n",
       "    </tr>\n",
       "    <tr>\n",
       "      <th>Walker Hayes</th>\n",
       "      <td>2</td>\n",
       "    </tr>\n",
       "    <tr>\n",
       "      <th>Shania Twain</th>\n",
       "      <td>2</td>\n",
       "    </tr>\n",
       "    <tr>\n",
       "      <th>Chris Stapleton</th>\n",
       "      <td>2</td>\n",
       "    </tr>\n",
       "  </tbody>\n",
       "</table>\n",
       "</div>"
      ],
      "text/plain": [
       "                 No. Songs in Top Chart\n",
       "Artists                                \n",
       "Taylor Swift                          3\n",
       "Luke Combs                            3\n",
       "Walker Hayes                          2\n",
       "Shania Twain                          2\n",
       "Chris Stapleton                       2"
      ]
     },
     "execution_count": 551,
     "metadata": {},
     "output_type": "execute_result"
    }
   ],
   "source": [
    "# Top 5 artists\n",
    "artists_df.iloc[:5]"
   ]
  },
  {
   "cell_type": "markdown",
   "metadata": {},
   "source": [
    "### Search lyrics by TRACK"
   ]
  },
  {
   "cell_type": "code",
   "execution_count": 5,
   "metadata": {},
   "outputs": [],
   "source": [
    "\"\"\" SHAZAM CORE API REQUEST \"\"\"\n",
    "\"\"\" TRACK DETAILS ENDPOINT \"\"\"\n",
    "\n",
    "# Retrieve Lyrics for all TrackIDs\n",
    "\n",
    "track_ids  # the list created in \"Search for top songs in Genre\" section is required\n",
    "\n",
    "lyrics=[]\n",
    "\n",
    "for trackID in track_ids:\n",
    "    querystring = {\"track_id\":trackID}\n",
    "    track_details_response = get_lyrics(querystring)\n",
    "\n",
    "    if track_details_response['sections'][1]['type'] != \"LYRICS\":  # Note: tracks with a type != \"LYRICS\" don't contain lyrics\n",
    "        lyrics.append([''])\n",
    "    else:\n",
    "        track_lyrics = track_details_response['sections'][1]['text']\n",
    "        lyrics.append(track_lyrics)"
   ]
  },
  {
   "cell_type": "markdown",
   "metadata": {},
   "source": [
    "### Generate Lyrics DataFrame"
   ]
  },
  {
   "cell_type": "code",
   "execution_count": 6,
   "metadata": {},
   "outputs": [
    {
     "data": {
      "text/html": [
       "<div>\n",
       "<style scoped>\n",
       "    .dataframe tbody tr th:only-of-type {\n",
       "        vertical-align: middle;\n",
       "    }\n",
       "\n",
       "    .dataframe tbody tr th {\n",
       "        vertical-align: top;\n",
       "    }\n",
       "\n",
       "    .dataframe thead th {\n",
       "        text-align: right;\n",
       "    }\n",
       "</style>\n",
       "<table border=\"1\" class=\"dataframe\">\n",
       "  <thead>\n",
       "    <tr style=\"text-align: right;\">\n",
       "      <th></th>\n",
       "      <th>Track Name</th>\n",
       "      <th>Artists</th>\n",
       "      <th>Lyrics</th>\n",
       "    </tr>\n",
       "  </thead>\n",
       "  <tbody>\n",
       "    <tr>\n",
       "      <th>595243928</th>\n",
       "      <td>The Cowboy In Me (Yellowstone Edition)</td>\n",
       "      <td>Tim McGraw</td>\n",
       "      <td></td>\n",
       "    </tr>\n",
       "    <tr>\n",
       "      <th>54640449</th>\n",
       "      <td>Jingle Bell Rock</td>\n",
       "      <td>Bobby Helms</td>\n",
       "      <td>Jingle bell, jingle bell, jingle bell rock Jin...</td>\n",
       "    </tr>\n",
       "    <tr>\n",
       "      <th>568180108</th>\n",
       "      <td>Fancy Like</td>\n",
       "      <td>Walker Hayes</td>\n",
       "      <td>Ayy My girl is bangin' She's so low maintenanc...</td>\n",
       "    </tr>\n",
       "    <tr>\n",
       "      <th>52815945</th>\n",
       "      <td>Enchanted</td>\n",
       "      <td>Taylor Swift</td>\n",
       "      <td>There I was again tonight Forcing laughter, fa...</td>\n",
       "    </tr>\n",
       "    <tr>\n",
       "      <th>463807349</th>\n",
       "      <td>Old Town Road (Remix)</td>\n",
       "      <td>Lil Nas X Feat. Billy Ray Cyrus</td>\n",
       "      <td>Oh, oh-oh Oh  Yeah, I'm gon' take my horse to ...</td>\n",
       "    </tr>\n",
       "  </tbody>\n",
       "</table>\n",
       "</div>"
      ],
      "text/plain": [
       "                                       Track Name  \\\n",
       "595243928  The Cowboy In Me (Yellowstone Edition)   \n",
       "54640449                         Jingle Bell Rock   \n",
       "568180108                              Fancy Like   \n",
       "52815945                                Enchanted   \n",
       "463807349                   Old Town Road (Remix)   \n",
       "\n",
       "                                   Artists  \\\n",
       "595243928                       Tim McGraw   \n",
       "54640449                       Bobby Helms   \n",
       "568180108                     Walker Hayes   \n",
       "52815945                      Taylor Swift   \n",
       "463807349  Lil Nas X Feat. Billy Ray Cyrus   \n",
       "\n",
       "                                                      Lyrics  \n",
       "595243928                                                     \n",
       "54640449   Jingle bell, jingle bell, jingle bell rock Jin...  \n",
       "568180108  Ayy My girl is bangin' She's so low maintenanc...  \n",
       "52815945   There I was again tonight Forcing laughter, fa...  \n",
       "463807349  Oh, oh-oh Oh  Yeah, I'm gon' take my horse to ...  "
      ]
     },
     "execution_count": 6,
     "metadata": {},
     "output_type": "execute_result"
    }
   ],
   "source": [
    "# Add lyrics column to dataframe with chart songs\n",
    "\n",
    "all_lyrics = pd.Series(\" \".join(map(str,song)) for song in lyrics) #each song is stored as a list, this turns each list into a string\n",
    "all_lyrics_df = pd.DataFrame({\"Lyrics\": all_lyrics, \"Track IDs\": track_ids}).set_index('Track IDs')\n",
    "\n",
    "lyrics_df = pd.concat([chart_songs, all_lyrics_df], axis=1)\n",
    "lyrics_df.head(5)"
   ]
  },
  {
   "cell_type": "code",
   "execution_count": 7,
   "metadata": {},
   "outputs": [
    {
     "data": {
      "text/html": [
       "<div>\n",
       "<style scoped>\n",
       "    .dataframe tbody tr th:only-of-type {\n",
       "        vertical-align: middle;\n",
       "    }\n",
       "\n",
       "    .dataframe tbody tr th {\n",
       "        vertical-align: top;\n",
       "    }\n",
       "\n",
       "    .dataframe thead th {\n",
       "        text-align: right;\n",
       "    }\n",
       "</style>\n",
       "<table border=\"1\" class=\"dataframe\">\n",
       "  <thead>\n",
       "    <tr style=\"text-align: right;\">\n",
       "      <th></th>\n",
       "      <th>Track Name</th>\n",
       "      <th>Artists</th>\n",
       "      <th>Lyrics</th>\n",
       "    </tr>\n",
       "  </thead>\n",
       "  <tbody>\n",
       "    <tr>\n",
       "      <th>54640449</th>\n",
       "      <td>Jingle Bell Rock</td>\n",
       "      <td>Bobby Helms</td>\n",
       "      <td>Jingle bell, jingle bell, jingle bell rock Jin...</td>\n",
       "    </tr>\n",
       "    <tr>\n",
       "      <th>568180108</th>\n",
       "      <td>Fancy Like</td>\n",
       "      <td>Walker Hayes</td>\n",
       "      <td>Ayy My girl is bangin' She's so low maintenanc...</td>\n",
       "    </tr>\n",
       "    <tr>\n",
       "      <th>52815945</th>\n",
       "      <td>Enchanted</td>\n",
       "      <td>Taylor Swift</td>\n",
       "      <td>There I was again tonight Forcing laughter, fa...</td>\n",
       "    </tr>\n",
       "    <tr>\n",
       "      <th>463807349</th>\n",
       "      <td>Old Town Road (Remix)</td>\n",
       "      <td>Lil Nas X Feat. Billy Ray Cyrus</td>\n",
       "      <td>Oh, oh-oh Oh  Yeah, I'm gon' take my horse to ...</td>\n",
       "    </tr>\n",
       "    <tr>\n",
       "      <th>559530353</th>\n",
       "      <td>Thinking 'Bout You</td>\n",
       "      <td>Dustin Lynch Feat. MacKenzie Porter</td>\n",
       "      <td>Well, look who it is Last call I thought I'd g...</td>\n",
       "    </tr>\n",
       "  </tbody>\n",
       "</table>\n",
       "</div>"
      ],
      "text/plain": [
       "                      Track Name                              Artists  \\\n",
       "54640449        Jingle Bell Rock                          Bobby Helms   \n",
       "568180108             Fancy Like                         Walker Hayes   \n",
       "52815945               Enchanted                         Taylor Swift   \n",
       "463807349  Old Town Road (Remix)      Lil Nas X Feat. Billy Ray Cyrus   \n",
       "559530353     Thinking 'Bout You  Dustin Lynch Feat. MacKenzie Porter   \n",
       "\n",
       "                                                      Lyrics  \n",
       "54640449   Jingle bell, jingle bell, jingle bell rock Jin...  \n",
       "568180108  Ayy My girl is bangin' She's so low maintenanc...  \n",
       "52815945   There I was again tonight Forcing laughter, fa...  \n",
       "463807349  Oh, oh-oh Oh  Yeah, I'm gon' take my horse to ...  \n",
       "559530353  Well, look who it is Last call I thought I'd g...  "
      ]
     },
     "execution_count": 7,
     "metadata": {},
     "output_type": "execute_result"
    }
   ],
   "source": [
    "# Remove songs without lyrics\n",
    "\n",
    "lyrics_df.drop(lyrics_df.loc[lyrics_df['Lyrics'] == ''].index.tolist(), inplace=True)\n",
    "lyrics_df.head(5)"
   ]
  },
  {
   "cell_type": "code",
   "execution_count": 8,
   "metadata": {},
   "outputs": [
    {
     "data": {
      "text/plain": [
       "134"
      ]
     },
     "execution_count": 8,
     "metadata": {},
     "output_type": "execute_result"
    }
   ],
   "source": [
    "# Find frequency of specific word\n",
    "lyrics_df['Lyrics'].str.count('oh').sum()"
   ]
  },
  {
   "cell_type": "markdown",
   "metadata": {},
   "source": [
    "### Export lyrics to a single .txt file"
   ]
  },
  {
   "cell_type": "code",
   "execution_count": 9,
   "metadata": {},
   "outputs": [
    {
     "name": "stdout",
     "output_type": "stream",
     "text": [
      "Jingle bell, jingle bell, jingle bell rock Jingle bells swing and jingle bells ring Snowing and blowing up bushels of fun Now the jingle hop has begun  Jingle bell, jingle bell, jingle bell rock Jingle bells chime in jingle bell time Dancing and prancing in Jingle Bell Square In the frosty air  What a bright time, it's the right time To rock the night away Jingle bell time is a swell time To go riding in a one-horse sleigh  Giddy-up jingle horse, pick up your feet Jingle around the clock Mix and a-mingle in the jingling beat That's the jingle bell rock  Jingle bell, jingle bell, jingle bell rock Jingle bells chime in jingle bell time Dancing and prancing in Jingle Bell Square In the frosty air  What a bright time, it's the right time To rock the night away Jingle bell time is a swell time To go riding in a one-horse sleigh  Giddy-up jingle horse, pick up your feet Jingle around the clock Mix and a-mingle in the jingling beat That's the jingle bell That's the jingle bell That's the jing\n"
     ]
    }
   ],
   "source": [
    "# Export lyrics to .txt file\n",
    "\n",
    "text = ' '.join(lyrics_df['Lyrics'].tolist())\n",
    "\n",
    "file = open('country_text.txt', 'w')\n",
    "file.write(text)\n",
    "\n",
    "print(text[:1000])"
   ]
  },
  {
   "cell_type": "markdown",
   "metadata": {},
   "source": [
    "# Sentiment Analysis"
   ]
  },
  {
   "cell_type": "code",
   "execution_count": 44,
   "metadata": {},
   "outputs": [
    {
     "data": {
      "text/html": [
       "<div>\n",
       "<style scoped>\n",
       "    .dataframe tbody tr th:only-of-type {\n",
       "        vertical-align: middle;\n",
       "    }\n",
       "\n",
       "    .dataframe tbody tr th {\n",
       "        vertical-align: top;\n",
       "    }\n",
       "\n",
       "    .dataframe thead th {\n",
       "        text-align: right;\n",
       "    }\n",
       "</style>\n",
       "<table border=\"1\" class=\"dataframe\">\n",
       "  <thead>\n",
       "    <tr style=\"text-align: right;\">\n",
       "      <th></th>\n",
       "      <th>Track Name</th>\n",
       "      <th>Artists</th>\n",
       "      <th>Lyrics</th>\n",
       "      <th>Tokens</th>\n",
       "      <th>compound</th>\n",
       "      <th>positive</th>\n",
       "      <th>negative</th>\n",
       "      <th>neutral</th>\n",
       "    </tr>\n",
       "  </thead>\n",
       "  <tbody>\n",
       "    <tr>\n",
       "      <th>54640449</th>\n",
       "      <td>Jingle Bell Rock</td>\n",
       "      <td>Bobby Helms</td>\n",
       "      <td>Jingle bell, jingle bell, jingle bell rock Jin...</td>\n",
       "      <td>[rock, swing, ring, snowing, blowing, bushel, ...</td>\n",
       "      <td>0.8442</td>\n",
       "      <td>0.049</td>\n",
       "      <td>0.000</td>\n",
       "      <td>0.951</td>\n",
       "    </tr>\n",
       "    <tr>\n",
       "      <th>568180108</th>\n",
       "      <td>Fancy Like</td>\n",
       "      <td>Walker Hayes</td>\n",
       "      <td>Ayy My girl is bangin' She's so low maintenanc...</td>\n",
       "      <td>[ayy, girl, bangin, shes, low, maintenance, ne...</td>\n",
       "      <td>0.9986</td>\n",
       "      <td>0.238</td>\n",
       "      <td>0.020</td>\n",
       "      <td>0.742</td>\n",
       "    </tr>\n",
       "    <tr>\n",
       "      <th>52815945</th>\n",
       "      <td>Enchanted</td>\n",
       "      <td>Taylor Swift</td>\n",
       "      <td>There I was again tonight Forcing laughter, fa...</td>\n",
       "      <td>[tonight, forcing, laughter, faking, smile, ol...</td>\n",
       "      <td>0.9954</td>\n",
       "      <td>0.186</td>\n",
       "      <td>0.036</td>\n",
       "      <td>0.778</td>\n",
       "    </tr>\n",
       "    <tr>\n",
       "      <th>463807349</th>\n",
       "      <td>Old Town Road (Remix)</td>\n",
       "      <td>Lil Nas X Feat. Billy Ray Cyrus</td>\n",
       "      <td>Oh, oh-oh Oh  Yeah, I'm gon' take my horse to ...</td>\n",
       "      <td>[yeah, take, horse, old, town, road, ride, til...</td>\n",
       "      <td>0.9643</td>\n",
       "      <td>0.110</td>\n",
       "      <td>0.020</td>\n",
       "      <td>0.871</td>\n",
       "    </tr>\n",
       "    <tr>\n",
       "      <th>559530353</th>\n",
       "      <td>Thinking 'Bout You</td>\n",
       "      <td>Dustin Lynch Feat. MacKenzie Porter</td>\n",
       "      <td>Well, look who it is Last call I thought I'd g...</td>\n",
       "      <td>[well, look, last, call, thought, hows, mama, ...</td>\n",
       "      <td>0.8941</td>\n",
       "      <td>0.059</td>\n",
       "      <td>0.015</td>\n",
       "      <td>0.925</td>\n",
       "    </tr>\n",
       "  </tbody>\n",
       "</table>\n",
       "</div>"
      ],
      "text/plain": [
       "                      Track Name                              Artists  \\\n",
       "54640449        Jingle Bell Rock                          Bobby Helms   \n",
       "568180108             Fancy Like                         Walker Hayes   \n",
       "52815945               Enchanted                         Taylor Swift   \n",
       "463807349  Old Town Road (Remix)      Lil Nas X Feat. Billy Ray Cyrus   \n",
       "559530353     Thinking 'Bout You  Dustin Lynch Feat. MacKenzie Porter   \n",
       "\n",
       "                                                      Lyrics  \\\n",
       "54640449   Jingle bell, jingle bell, jingle bell rock Jin...   \n",
       "568180108  Ayy My girl is bangin' She's so low maintenanc...   \n",
       "52815945   There I was again tonight Forcing laughter, fa...   \n",
       "463807349  Oh, oh-oh Oh  Yeah, I'm gon' take my horse to ...   \n",
       "559530353  Well, look who it is Last call I thought I'd g...   \n",
       "\n",
       "                                                      Tokens  compound  \\\n",
       "54640449   [rock, swing, ring, snowing, blowing, bushel, ...    0.8442   \n",
       "568180108  [ayy, girl, bangin, shes, low, maintenance, ne...    0.9986   \n",
       "52815945   [tonight, forcing, laughter, faking, smile, ol...    0.9954   \n",
       "463807349  [yeah, take, horse, old, town, road, ride, til...    0.9643   \n",
       "559530353  [well, look, last, call, thought, hows, mama, ...    0.8941   \n",
       "\n",
       "           positive  negative  neutral  \n",
       "54640449      0.049     0.000    0.951  \n",
       "568180108     0.238     0.020    0.742  \n",
       "52815945      0.186     0.036    0.778  \n",
       "463807349     0.110     0.020    0.871  \n",
       "559530353     0.059     0.015    0.925  "
      ]
     },
     "execution_count": 44,
     "metadata": {},
     "output_type": "execute_result"
    }
   ],
   "source": [
    "# Use custom function lyrics_sentiment to analyze text with VADER\n",
    "\n",
    "scores = lyrics_sentiment(lyrics_df)\n",
    "sentiments_df = pd.concat([lyrics_df, scores], axis=1, join='inner')\n",
    "sentiments_df.head()"
   ]
  },
  {
   "cell_type": "code",
   "execution_count": 63,
   "metadata": {},
   "outputs": [
    {
     "data": {
      "text/html": [
       "<div>\n",
       "<style scoped>\n",
       "    .dataframe tbody tr th:only-of-type {\n",
       "        vertical-align: middle;\n",
       "    }\n",
       "\n",
       "    .dataframe tbody tr th {\n",
       "        vertical-align: top;\n",
       "    }\n",
       "\n",
       "    .dataframe thead th {\n",
       "        text-align: right;\n",
       "    }\n",
       "</style>\n",
       "<table border=\"1\" class=\"dataframe\">\n",
       "  <thead>\n",
       "    <tr style=\"text-align: right;\">\n",
       "      <th></th>\n",
       "      <th>Track Name</th>\n",
       "      <th>Artists</th>\n",
       "      <th>Lyrics</th>\n",
       "      <th>Tokens</th>\n",
       "      <th>compound</th>\n",
       "      <th>positive</th>\n",
       "      <th>negative</th>\n",
       "      <th>neutral</th>\n",
       "      <th>overall</th>\n",
       "    </tr>\n",
       "  </thead>\n",
       "  <tbody>\n",
       "    <tr>\n",
       "      <th>595689118</th>\n",
       "      <td>All the Mountains Are High</td>\n",
       "      <td>Zé da Timba e Zé Latinha</td>\n",
       "      <td>All the mountains are high And the clouds make...</td>\n",
       "      <td>[mountain, high, cloud, make, feel, safe, moun...</td>\n",
       "      <td>0.9637</td>\n",
       "      <td>0.206</td>\n",
       "      <td>0.016</td>\n",
       "      <td>0.778</td>\n",
       "      <td>1</td>\n",
       "    </tr>\n",
       "    <tr>\n",
       "      <th>559530353</th>\n",
       "      <td>Thinking 'Bout You</td>\n",
       "      <td>Dustin Lynch Feat. MacKenzie Porter</td>\n",
       "      <td>Well, look who it is Last call I thought I'd g...</td>\n",
       "      <td>[well, look, last, call, thought, hows, mama, ...</td>\n",
       "      <td>0.8941</td>\n",
       "      <td>0.059</td>\n",
       "      <td>0.015</td>\n",
       "      <td>0.925</td>\n",
       "      <td>1</td>\n",
       "    </tr>\n",
       "    <tr>\n",
       "      <th>265721100</th>\n",
       "      <td>Sleeping On The Blacktop</td>\n",
       "      <td>Colter Wall</td>\n",
       "      <td>Sunshine beating on the good times Moonlight r...</td>\n",
       "      <td>[sunshine, beating, good, time, moonlight, rai...</td>\n",
       "      <td>-0.6769</td>\n",
       "      <td>0.051</td>\n",
       "      <td>0.074</td>\n",
       "      <td>0.875</td>\n",
       "      <td>-1</td>\n",
       "    </tr>\n",
       "    <tr>\n",
       "      <th>248456076</th>\n",
       "      <td>Tennessee Whiskey</td>\n",
       "      <td>Chris Stapleton</td>\n",
       "      <td>Used to spend my nights out in a bar room Liqu...</td>\n",
       "      <td>[used, spend, night, bar, room, liquor, love, ...</td>\n",
       "      <td>0.9957</td>\n",
       "      <td>0.257</td>\n",
       "      <td>0.012</td>\n",
       "      <td>0.731</td>\n",
       "      <td>1</td>\n",
       "    </tr>\n",
       "    <tr>\n",
       "      <th>566885142</th>\n",
       "      <td>Buy Dirt [Acoustic]</td>\n",
       "      <td>Jordan Davis Feat. Luke Bryan</td>\n",
       "      <td>Few days before he turned 80 He was sitting ou...</td>\n",
       "      <td>[day, turned, sitting, back, rocker, lately, t...</td>\n",
       "      <td>-0.7437</td>\n",
       "      <td>0.082</td>\n",
       "      <td>0.097</td>\n",
       "      <td>0.821</td>\n",
       "      <td>-1</td>\n",
       "    </tr>\n",
       "  </tbody>\n",
       "</table>\n",
       "</div>"
      ],
      "text/plain": [
       "                           Track Name                              Artists  \\\n",
       "595689118  All the Mountains Are High             Zé da Timba e Zé Latinha   \n",
       "559530353          Thinking 'Bout You  Dustin Lynch Feat. MacKenzie Porter   \n",
       "265721100    Sleeping On The Blacktop                          Colter Wall   \n",
       "248456076           Tennessee Whiskey                      Chris Stapleton   \n",
       "566885142         Buy Dirt [Acoustic]        Jordan Davis Feat. Luke Bryan   \n",
       "\n",
       "                                                      Lyrics  \\\n",
       "595689118  All the mountains are high And the clouds make...   \n",
       "559530353  Well, look who it is Last call I thought I'd g...   \n",
       "265721100  Sunshine beating on the good times Moonlight r...   \n",
       "248456076  Used to spend my nights out in a bar room Liqu...   \n",
       "566885142  Few days before he turned 80 He was sitting ou...   \n",
       "\n",
       "                                                      Tokens  compound  \\\n",
       "595689118  [mountain, high, cloud, make, feel, safe, moun...    0.9637   \n",
       "559530353  [well, look, last, call, thought, hows, mama, ...    0.8941   \n",
       "265721100  [sunshine, beating, good, time, moonlight, rai...   -0.6769   \n",
       "248456076  [used, spend, night, bar, room, liquor, love, ...    0.9957   \n",
       "566885142  [day, turned, sitting, back, rocker, lately, t...   -0.7437   \n",
       "\n",
       "           positive  negative  neutral  overall  \n",
       "595689118     0.206     0.016    0.778        1  \n",
       "559530353     0.059     0.015    0.925        1  \n",
       "265721100     0.051     0.074    0.875       -1  \n",
       "248456076     0.257     0.012    0.731        1  \n",
       "566885142     0.082     0.097    0.821       -1  "
      ]
     },
     "execution_count": 63,
     "metadata": {},
     "output_type": "execute_result"
    }
   ],
   "source": [
    "# Compute overall score for each track based on compound score\n",
    "\n",
    "def overall_sentiment(score):\n",
    "\n",
    "    \"\"\" Calculates the overall sentiment based on the compound score \"\"\"\n",
    "\n",
    "    result = 0  # Neutral by default\n",
    "    if score >= 0.05:  # Positive\n",
    "        result = 1\n",
    "    elif score <= -0.05:  # Negative\n",
    "        result = -1\n",
    "\n",
    "    return result\n",
    "\n",
    "sentiments_df['overall'] = sentiments_df['compound'].apply(lambda score: overall_sentiment(score))\n",
    "sentiments_df.sample(5)"
   ]
  },
  {
   "cell_type": "code",
   "execution_count": 327,
   "metadata": {},
   "outputs": [
    {
     "data": {
      "application/vnd.plotly.v1+json": {
       "config": {
        "plotlyServerURL": "https://plot.ly"
       },
       "data": [
        {
         "domain": {
          "x": [
           0,
           1
          ],
          "y": [
           0,
           1
          ]
         },
         "hole": 0.4,
         "hovertemplate": "label=%{label}<br>Count=%{value}<extra></extra>",
         "labels": [
          "Positive",
          "Negative"
         ],
         "legendgroup": "",
         "name": "",
         "showlegend": true,
         "type": "pie",
         "values": [
          34,
          14
         ]
        }
       ],
       "layout": {
        "legend": {
         "tracegroupgap": 0
        },
        "piecolorway": [
         "yellow",
         "orange"
        ],
        "template": {
         "data": {
          "bar": [
           {
            "error_x": {
             "color": "#2a3f5f"
            },
            "error_y": {
             "color": "#2a3f5f"
            },
            "marker": {
             "line": {
              "color": "#E5ECF6",
              "width": 0.5
             }
            },
            "type": "bar"
           }
          ],
          "barpolar": [
           {
            "marker": {
             "line": {
              "color": "#E5ECF6",
              "width": 0.5
             }
            },
            "type": "barpolar"
           }
          ],
          "carpet": [
           {
            "aaxis": {
             "endlinecolor": "#2a3f5f",
             "gridcolor": "white",
             "linecolor": "white",
             "minorgridcolor": "white",
             "startlinecolor": "#2a3f5f"
            },
            "baxis": {
             "endlinecolor": "#2a3f5f",
             "gridcolor": "white",
             "linecolor": "white",
             "minorgridcolor": "white",
             "startlinecolor": "#2a3f5f"
            },
            "type": "carpet"
           }
          ],
          "choropleth": [
           {
            "colorbar": {
             "outlinewidth": 0,
             "ticks": ""
            },
            "type": "choropleth"
           }
          ],
          "contour": [
           {
            "colorbar": {
             "outlinewidth": 0,
             "ticks": ""
            },
            "colorscale": [
             [
              0,
              "#0d0887"
             ],
             [
              0.1111111111111111,
              "#46039f"
             ],
             [
              0.2222222222222222,
              "#7201a8"
             ],
             [
              0.3333333333333333,
              "#9c179e"
             ],
             [
              0.4444444444444444,
              "#bd3786"
             ],
             [
              0.5555555555555556,
              "#d8576b"
             ],
             [
              0.6666666666666666,
              "#ed7953"
             ],
             [
              0.7777777777777778,
              "#fb9f3a"
             ],
             [
              0.8888888888888888,
              "#fdca26"
             ],
             [
              1,
              "#f0f921"
             ]
            ],
            "type": "contour"
           }
          ],
          "contourcarpet": [
           {
            "colorbar": {
             "outlinewidth": 0,
             "ticks": ""
            },
            "type": "contourcarpet"
           }
          ],
          "heatmap": [
           {
            "colorbar": {
             "outlinewidth": 0,
             "ticks": ""
            },
            "colorscale": [
             [
              0,
              "#0d0887"
             ],
             [
              0.1111111111111111,
              "#46039f"
             ],
             [
              0.2222222222222222,
              "#7201a8"
             ],
             [
              0.3333333333333333,
              "#9c179e"
             ],
             [
              0.4444444444444444,
              "#bd3786"
             ],
             [
              0.5555555555555556,
              "#d8576b"
             ],
             [
              0.6666666666666666,
              "#ed7953"
             ],
             [
              0.7777777777777778,
              "#fb9f3a"
             ],
             [
              0.8888888888888888,
              "#fdca26"
             ],
             [
              1,
              "#f0f921"
             ]
            ],
            "type": "heatmap"
           }
          ],
          "heatmapgl": [
           {
            "colorbar": {
             "outlinewidth": 0,
             "ticks": ""
            },
            "colorscale": [
             [
              0,
              "#0d0887"
             ],
             [
              0.1111111111111111,
              "#46039f"
             ],
             [
              0.2222222222222222,
              "#7201a8"
             ],
             [
              0.3333333333333333,
              "#9c179e"
             ],
             [
              0.4444444444444444,
              "#bd3786"
             ],
             [
              0.5555555555555556,
              "#d8576b"
             ],
             [
              0.6666666666666666,
              "#ed7953"
             ],
             [
              0.7777777777777778,
              "#fb9f3a"
             ],
             [
              0.8888888888888888,
              "#fdca26"
             ],
             [
              1,
              "#f0f921"
             ]
            ],
            "type": "heatmapgl"
           }
          ],
          "histogram": [
           {
            "marker": {
             "colorbar": {
              "outlinewidth": 0,
              "ticks": ""
             }
            },
            "type": "histogram"
           }
          ],
          "histogram2d": [
           {
            "colorbar": {
             "outlinewidth": 0,
             "ticks": ""
            },
            "colorscale": [
             [
              0,
              "#0d0887"
             ],
             [
              0.1111111111111111,
              "#46039f"
             ],
             [
              0.2222222222222222,
              "#7201a8"
             ],
             [
              0.3333333333333333,
              "#9c179e"
             ],
             [
              0.4444444444444444,
              "#bd3786"
             ],
             [
              0.5555555555555556,
              "#d8576b"
             ],
             [
              0.6666666666666666,
              "#ed7953"
             ],
             [
              0.7777777777777778,
              "#fb9f3a"
             ],
             [
              0.8888888888888888,
              "#fdca26"
             ],
             [
              1,
              "#f0f921"
             ]
            ],
            "type": "histogram2d"
           }
          ],
          "histogram2dcontour": [
           {
            "colorbar": {
             "outlinewidth": 0,
             "ticks": ""
            },
            "colorscale": [
             [
              0,
              "#0d0887"
             ],
             [
              0.1111111111111111,
              "#46039f"
             ],
             [
              0.2222222222222222,
              "#7201a8"
             ],
             [
              0.3333333333333333,
              "#9c179e"
             ],
             [
              0.4444444444444444,
              "#bd3786"
             ],
             [
              0.5555555555555556,
              "#d8576b"
             ],
             [
              0.6666666666666666,
              "#ed7953"
             ],
             [
              0.7777777777777778,
              "#fb9f3a"
             ],
             [
              0.8888888888888888,
              "#fdca26"
             ],
             [
              1,
              "#f0f921"
             ]
            ],
            "type": "histogram2dcontour"
           }
          ],
          "mesh3d": [
           {
            "colorbar": {
             "outlinewidth": 0,
             "ticks": ""
            },
            "type": "mesh3d"
           }
          ],
          "parcoords": [
           {
            "line": {
             "colorbar": {
              "outlinewidth": 0,
              "ticks": ""
             }
            },
            "type": "parcoords"
           }
          ],
          "pie": [
           {
            "automargin": true,
            "type": "pie"
           }
          ],
          "scatter": [
           {
            "marker": {
             "colorbar": {
              "outlinewidth": 0,
              "ticks": ""
             }
            },
            "type": "scatter"
           }
          ],
          "scatter3d": [
           {
            "line": {
             "colorbar": {
              "outlinewidth": 0,
              "ticks": ""
             }
            },
            "marker": {
             "colorbar": {
              "outlinewidth": 0,
              "ticks": ""
             }
            },
            "type": "scatter3d"
           }
          ],
          "scattercarpet": [
           {
            "marker": {
             "colorbar": {
              "outlinewidth": 0,
              "ticks": ""
             }
            },
            "type": "scattercarpet"
           }
          ],
          "scattergeo": [
           {
            "marker": {
             "colorbar": {
              "outlinewidth": 0,
              "ticks": ""
             }
            },
            "type": "scattergeo"
           }
          ],
          "scattergl": [
           {
            "marker": {
             "colorbar": {
              "outlinewidth": 0,
              "ticks": ""
             }
            },
            "type": "scattergl"
           }
          ],
          "scattermapbox": [
           {
            "marker": {
             "colorbar": {
              "outlinewidth": 0,
              "ticks": ""
             }
            },
            "type": "scattermapbox"
           }
          ],
          "scatterpolar": [
           {
            "marker": {
             "colorbar": {
              "outlinewidth": 0,
              "ticks": ""
             }
            },
            "type": "scatterpolar"
           }
          ],
          "scatterpolargl": [
           {
            "marker": {
             "colorbar": {
              "outlinewidth": 0,
              "ticks": ""
             }
            },
            "type": "scatterpolargl"
           }
          ],
          "scatterternary": [
           {
            "marker": {
             "colorbar": {
              "outlinewidth": 0,
              "ticks": ""
             }
            },
            "type": "scatterternary"
           }
          ],
          "surface": [
           {
            "colorbar": {
             "outlinewidth": 0,
             "ticks": ""
            },
            "colorscale": [
             [
              0,
              "#0d0887"
             ],
             [
              0.1111111111111111,
              "#46039f"
             ],
             [
              0.2222222222222222,
              "#7201a8"
             ],
             [
              0.3333333333333333,
              "#9c179e"
             ],
             [
              0.4444444444444444,
              "#bd3786"
             ],
             [
              0.5555555555555556,
              "#d8576b"
             ],
             [
              0.6666666666666666,
              "#ed7953"
             ],
             [
              0.7777777777777778,
              "#fb9f3a"
             ],
             [
              0.8888888888888888,
              "#fdca26"
             ],
             [
              1,
              "#f0f921"
             ]
            ],
            "type": "surface"
           }
          ],
          "table": [
           {
            "cells": {
             "fill": {
              "color": "#EBF0F8"
             },
             "line": {
              "color": "white"
             }
            },
            "header": {
             "fill": {
              "color": "#C8D4E3"
             },
             "line": {
              "color": "white"
             }
            },
            "type": "table"
           }
          ]
         },
         "layout": {
          "annotationdefaults": {
           "arrowcolor": "#2a3f5f",
           "arrowhead": 0,
           "arrowwidth": 1
          },
          "autotypenumbers": "strict",
          "coloraxis": {
           "colorbar": {
            "outlinewidth": 0,
            "ticks": ""
           }
          },
          "colorscale": {
           "diverging": [
            [
             0,
             "#8e0152"
            ],
            [
             0.1,
             "#c51b7d"
            ],
            [
             0.2,
             "#de77ae"
            ],
            [
             0.3,
             "#f1b6da"
            ],
            [
             0.4,
             "#fde0ef"
            ],
            [
             0.5,
             "#f7f7f7"
            ],
            [
             0.6,
             "#e6f5d0"
            ],
            [
             0.7,
             "#b8e186"
            ],
            [
             0.8,
             "#7fbc41"
            ],
            [
             0.9,
             "#4d9221"
            ],
            [
             1,
             "#276419"
            ]
           ],
           "sequential": [
            [
             0,
             "#0d0887"
            ],
            [
             0.1111111111111111,
             "#46039f"
            ],
            [
             0.2222222222222222,
             "#7201a8"
            ],
            [
             0.3333333333333333,
             "#9c179e"
            ],
            [
             0.4444444444444444,
             "#bd3786"
            ],
            [
             0.5555555555555556,
             "#d8576b"
            ],
            [
             0.6666666666666666,
             "#ed7953"
            ],
            [
             0.7777777777777778,
             "#fb9f3a"
            ],
            [
             0.8888888888888888,
             "#fdca26"
            ],
            [
             1,
             "#f0f921"
            ]
           ],
           "sequentialminus": [
            [
             0,
             "#0d0887"
            ],
            [
             0.1111111111111111,
             "#46039f"
            ],
            [
             0.2222222222222222,
             "#7201a8"
            ],
            [
             0.3333333333333333,
             "#9c179e"
            ],
            [
             0.4444444444444444,
             "#bd3786"
            ],
            [
             0.5555555555555556,
             "#d8576b"
            ],
            [
             0.6666666666666666,
             "#ed7953"
            ],
            [
             0.7777777777777778,
             "#fb9f3a"
            ],
            [
             0.8888888888888888,
             "#fdca26"
            ],
            [
             1,
             "#f0f921"
            ]
           ]
          },
          "colorway": [
           "#636efa",
           "#EF553B",
           "#00cc96",
           "#ab63fa",
           "#FFA15A",
           "#19d3f3",
           "#FF6692",
           "#B6E880",
           "#FF97FF",
           "#FECB52"
          ],
          "font": {
           "color": "#2a3f5f"
          },
          "geo": {
           "bgcolor": "white",
           "lakecolor": "white",
           "landcolor": "#E5ECF6",
           "showlakes": true,
           "showland": true,
           "subunitcolor": "white"
          },
          "hoverlabel": {
           "align": "left"
          },
          "hovermode": "closest",
          "mapbox": {
           "style": "light"
          },
          "paper_bgcolor": "white",
          "plot_bgcolor": "#E5ECF6",
          "polar": {
           "angularaxis": {
            "gridcolor": "white",
            "linecolor": "white",
            "ticks": ""
           },
           "bgcolor": "#E5ECF6",
           "radialaxis": {
            "gridcolor": "white",
            "linecolor": "white",
            "ticks": ""
           }
          },
          "scene": {
           "xaxis": {
            "backgroundcolor": "#E5ECF6",
            "gridcolor": "white",
            "gridwidth": 2,
            "linecolor": "white",
            "showbackground": true,
            "ticks": "",
            "zerolinecolor": "white"
           },
           "yaxis": {
            "backgroundcolor": "#E5ECF6",
            "gridcolor": "white",
            "gridwidth": 2,
            "linecolor": "white",
            "showbackground": true,
            "ticks": "",
            "zerolinecolor": "white"
           },
           "zaxis": {
            "backgroundcolor": "#E5ECF6",
            "gridcolor": "white",
            "gridwidth": 2,
            "linecolor": "white",
            "showbackground": true,
            "ticks": "",
            "zerolinecolor": "white"
           }
          },
          "shapedefaults": {
           "line": {
            "color": "#2a3f5f"
           }
          },
          "ternary": {
           "aaxis": {
            "gridcolor": "white",
            "linecolor": "white",
            "ticks": ""
           },
           "baxis": {
            "gridcolor": "white",
            "linecolor": "white",
            "ticks": ""
           },
           "bgcolor": "#E5ECF6",
           "caxis": {
            "gridcolor": "white",
            "linecolor": "white",
            "ticks": ""
           }
          },
          "title": {
           "x": 0.05
          },
          "xaxis": {
           "automargin": true,
           "gridcolor": "white",
           "linecolor": "white",
           "ticks": "",
           "title": {
            "standoff": 15
           },
           "zerolinecolor": "white",
           "zerolinewidth": 2
          },
          "yaxis": {
           "automargin": true,
           "gridcolor": "white",
           "linecolor": "white",
           "ticks": "",
           "title": {
            "standoff": 15
           },
           "zerolinecolor": "white",
           "zerolinewidth": 2
          }
         }
        },
        "title": {
         "text": "Overall Sentiment for COUNTRY Song Lyrics"
        },
        "width": 500
       }
      }
     },
     "metadata": {},
     "output_type": "display_data"
    }
   ],
   "source": [
    "# Plot overall sentiment scores for genre\n",
    "\n",
    "positives = sentiments_df['overall'].loc[sentiments_df['overall'] == 1 ].count()\n",
    "negatives = sentiments_df['overall'].loc[sentiments_df['overall'] == -1 ].count()\n",
    "index_names = ['Positive', 'Negative']\n",
    "\n",
    "overall = pd.DataFrame([positives,negatives], columns = ['Count'])\n",
    "overall.index = index_names\n",
    "\n",
    "country_sentiment_pie = px.pie(\n",
    "    overall, \n",
    "    values = 'Count', \n",
    "    names=index_names, \n",
    "    hole = 0.4, \n",
    "    color_discrete_sequence=[\"yellow\", \"orange\"], \n",
    "    width=500, \n",
    "    title=f'Overall Sentiment for {genre} Song Lyrics'\n",
    "    )  \n",
    "country_sentiment_pie"
   ]
  },
  {
   "cell_type": "markdown",
   "metadata": {},
   "source": [
    "# Natural Language Processing"
   ]
  },
  {
   "cell_type": "markdown",
   "metadata": {},
   "source": [
    "### Tokenizer"
   ]
  },
  {
   "cell_type": "code",
   "execution_count": 17,
   "metadata": {},
   "outputs": [
    {
     "data": {
      "text/html": [
       "<div>\n",
       "<style scoped>\n",
       "    .dataframe tbody tr th:only-of-type {\n",
       "        vertical-align: middle;\n",
       "    }\n",
       "\n",
       "    .dataframe tbody tr th {\n",
       "        vertical-align: top;\n",
       "    }\n",
       "\n",
       "    .dataframe thead th {\n",
       "        text-align: right;\n",
       "    }\n",
       "</style>\n",
       "<table border=\"1\" class=\"dataframe\">\n",
       "  <thead>\n",
       "    <tr style=\"text-align: right;\">\n",
       "      <th></th>\n",
       "      <th>Track Name</th>\n",
       "      <th>Artists</th>\n",
       "      <th>Lyrics</th>\n",
       "      <th>Tokens</th>\n",
       "    </tr>\n",
       "  </thead>\n",
       "  <tbody>\n",
       "    <tr>\n",
       "      <th>54640449</th>\n",
       "      <td>Jingle Bell Rock</td>\n",
       "      <td>Bobby Helms</td>\n",
       "      <td>Jingle bell, jingle bell, jingle bell rock Jin...</td>\n",
       "      <td>[rock, swing, ring, snowing, blowing, bushel, ...</td>\n",
       "    </tr>\n",
       "    <tr>\n",
       "      <th>568180108</th>\n",
       "      <td>Fancy Like</td>\n",
       "      <td>Walker Hayes</td>\n",
       "      <td>Ayy My girl is bangin' She's so low maintenanc...</td>\n",
       "      <td>[ayy, girl, bangin, shes, low, maintenance, ne...</td>\n",
       "    </tr>\n",
       "    <tr>\n",
       "      <th>52815945</th>\n",
       "      <td>Enchanted</td>\n",
       "      <td>Taylor Swift</td>\n",
       "      <td>There I was again tonight Forcing laughter, fa...</td>\n",
       "      <td>[tonight, forcing, laughter, faking, smile, ol...</td>\n",
       "    </tr>\n",
       "  </tbody>\n",
       "</table>\n",
       "</div>"
      ],
      "text/plain": [
       "                 Track Name       Artists  \\\n",
       "54640449   Jingle Bell Rock   Bobby Helms   \n",
       "568180108        Fancy Like  Walker Hayes   \n",
       "52815945          Enchanted  Taylor Swift   \n",
       "\n",
       "                                                      Lyrics  \\\n",
       "54640449   Jingle bell, jingle bell, jingle bell rock Jin...   \n",
       "568180108  Ayy My girl is bangin' She's so low maintenanc...   \n",
       "52815945   There I was again tonight Forcing laughter, fa...   \n",
       "\n",
       "                                                      Tokens  \n",
       "54640449   [rock, swing, ring, snowing, blowing, bushel, ...  \n",
       "568180108  [ayy, girl, bangin, shes, low, maintenance, ne...  \n",
       "52815945   [tonight, forcing, laughter, faking, smile, ol...  "
      ]
     },
     "execution_count": 17,
     "metadata": {},
     "output_type": "execute_result"
    }
   ],
   "source": [
    "# Create a list of stopwords\n",
    "sw_custom = {'wouldnt','got', 'get','would','ohoh','ooh', 'oh','youll','wan','tell', 'see','wouldn','didnt', 'there', 'theres','said', 'youve', 'wa', 'dont', 'cant', 'oh','ive', 'ill', 'na', 'youre', 'gon', 'im', 'go', 'id', 'say', 'aint', 'oh', 'jingle', 'bell', 'santa', 'claus'}\n",
    "\n",
    "# Run the text_processor function for lyrics dataframe\n",
    "lyrics_tokenized = [process_text(text, sw_custom) for text in lyrics_df['Lyrics']]\n",
    "\n",
    "# Create a new tokens column for dataframe\n",
    "lyrics_df['Tokens'] = lyrics_tokenized\n",
    "lyrics_df.head(3)"
   ]
  },
  {
   "cell_type": "markdown",
   "metadata": {},
   "source": [
    "### N-Grams and Frequency Analyzer"
   ]
  },
  {
   "cell_type": "code",
   "execution_count": 14,
   "metadata": {},
   "outputs": [],
   "source": [
    "# Function bigrams_counter retrieves bigrams in a list of texts\n",
    "\n",
    "def bigrams_counter(texts, n_results, sw_custom): \n",
    "    # Combine all articles in corpus into one large string\n",
    "    big_string = ' '.join(texts)\n",
    "    processed = process_text(big_string, sw_custom)\n",
    "    bigrams = ngrams(processed, n=2)\n",
    "    top = dict(Counter(bigrams).most_common(n_results))\n",
    "    return pd.DataFrame(list(top.items()), columns=['Bigram', 'Count']).set_index('Bigram')"
   ]
  },
  {
   "cell_type": "code",
   "execution_count": 18,
   "metadata": {},
   "outputs": [
    {
     "data": {
      "text/html": [
       "<div>\n",
       "<style scoped>\n",
       "    .dataframe tbody tr th:only-of-type {\n",
       "        vertical-align: middle;\n",
       "    }\n",
       "\n",
       "    .dataframe tbody tr th {\n",
       "        vertical-align: top;\n",
       "    }\n",
       "\n",
       "    .dataframe thead th {\n",
       "        text-align: right;\n",
       "    }\n",
       "</style>\n",
       "<table border=\"1\" class=\"dataframe\">\n",
       "  <thead>\n",
       "    <tr style=\"text-align: right;\">\n",
       "      <th></th>\n",
       "      <th>Count</th>\n",
       "    </tr>\n",
       "    <tr>\n",
       "      <th>Bigram</th>\n",
       "      <th></th>\n",
       "    </tr>\n",
       "  </thead>\n",
       "  <tbody>\n",
       "    <tr>\n",
       "      <th>(good, time)</th>\n",
       "      <td>23</td>\n",
       "    </tr>\n",
       "    <tr>\n",
       "      <th>(still, one)</th>\n",
       "      <td>20</td>\n",
       "    </tr>\n",
       "    <tr>\n",
       "      <th>(trouble, trouble)</th>\n",
       "      <td>19</td>\n",
       "    </tr>\n",
       "    <tr>\n",
       "      <th>(pretty, woman)</th>\n",
       "      <td>16</td>\n",
       "    </tr>\n",
       "    <tr>\n",
       "      <th>(thinking, bout)</th>\n",
       "      <td>12</td>\n",
       "    </tr>\n",
       "    <tr>\n",
       "      <th>(probably, leave)</th>\n",
       "      <td>12</td>\n",
       "    </tr>\n",
       "    <tr>\n",
       "      <th>(hey, darlin)</th>\n",
       "      <td>12</td>\n",
       "    </tr>\n",
       "    <tr>\n",
       "      <th>(tryna, catch)</th>\n",
       "      <td>12</td>\n",
       "    </tr>\n",
       "    <tr>\n",
       "      <th>(catch, good)</th>\n",
       "      <td>12</td>\n",
       "    </tr>\n",
       "    <tr>\n",
       "      <th>(buy, dirt)</th>\n",
       "      <td>11</td>\n",
       "    </tr>\n",
       "  </tbody>\n",
       "</table>\n",
       "</div>"
      ],
      "text/plain": [
       "                    Count\n",
       "Bigram                   \n",
       "(good, time)           23\n",
       "(still, one)           20\n",
       "(trouble, trouble)     19\n",
       "(pretty, woman)        16\n",
       "(thinking, bout)       12\n",
       "(probably, leave)      12\n",
       "(hey, darlin)          12\n",
       "(tryna, catch)         12\n",
       "(catch, good)          12\n",
       "(buy, dirt)            11"
      ]
     },
     "execution_count": 18,
     "metadata": {},
     "output_type": "execute_result"
    }
   ],
   "source": [
    "# Generate the N-grams where N=2\n",
    "bigrams_counter(lyrics_df['Lyrics'], 10, sw_custom)"
   ]
  },
  {
   "cell_type": "code",
   "execution_count": 557,
   "metadata": {},
   "outputs": [
    {
     "data": {},
     "metadata": {},
     "output_type": "display_data"
    },
    {
     "data": {
      "application/vnd.holoviews_exec.v0+json": "",
      "text/html": [
       "<div id='4524'>\n",
       "\n",
       "\n",
       "\n",
       "\n",
       "\n",
       "  <div class=\"bk-root\" id=\"21b957f0-2abd-42b5-b952-c0b02db4744e\" data-root-id=\"4524\"></div>\n",
       "</div>\n",
       "<script type=\"application/javascript\">(function(root) {\n",
       "  function embed_document(root) {\n",
       "    var docs_json = {\"a96ab171-eec1-4a00-9394-124710a037b7\":{\"defs\":[{\"extends\":null,\"module\":null,\"name\":\"ReactiveHTML1\",\"overrides\":[],\"properties\":[]},{\"extends\":null,\"module\":null,\"name\":\"FlexBox1\",\"overrides\":[],\"properties\":[{\"default\":\"flex-start\",\"kind\":null,\"name\":\"align_content\"},{\"default\":\"flex-start\",\"kind\":null,\"name\":\"align_items\"},{\"default\":\"row\",\"kind\":null,\"name\":\"flex_direction\"},{\"default\":\"wrap\",\"kind\":null,\"name\":\"flex_wrap\"},{\"default\":\"flex-start\",\"kind\":null,\"name\":\"justify_content\"}]},{\"extends\":null,\"module\":null,\"name\":\"TemplateActions1\",\"overrides\":[],\"properties\":[{\"default\":0,\"kind\":null,\"name\":\"open_modal\"},{\"default\":0,\"kind\":null,\"name\":\"close_modal\"}]},{\"extends\":null,\"module\":null,\"name\":\"MaterialTemplateActions1\",\"overrides\":[],\"properties\":[{\"default\":0,\"kind\":null,\"name\":\"open_modal\"},{\"default\":0,\"kind\":null,\"name\":\"close_modal\"}]}],\"roots\":{\"references\":[{\"attributes\":{\"children\":[{\"id\":\"4525\"},{\"id\":\"4529\"},{\"id\":\"4593\"}],\"margin\":[0,0,0,0],\"name\":\"Row06196\",\"tags\":[\"embedded\"]},\"id\":\"4524\",\"type\":\"Row\"},{\"attributes\":{},\"id\":\"4568\",\"type\":\"AllLabels\"},{\"attributes\":{\"fill_alpha\":{\"value\":0.2},\"fill_color\":{\"value\":\"yellow\"},\"line_alpha\":{\"value\":0.2},\"top\":{\"field\":\"Count\"},\"width\":{\"value\":0.8},\"x\":{\"field\":\"Word\"}},\"id\":\"4563\",\"type\":\"VBar\"},{\"attributes\":{\"margin\":[5,5,5,5],\"name\":\"HSpacer06201\",\"sizing_mode\":\"stretch_width\"},\"id\":\"4593\",\"type\":\"Spacer\"},{\"attributes\":{\"fill_color\":{\"value\":\"yellow\"},\"top\":{\"field\":\"Count\"},\"width\":{\"value\":0.8},\"x\":{\"field\":\"Word\"}},\"id\":\"4561\",\"type\":\"VBar\"},{\"attributes\":{},\"id\":\"4559\",\"type\":\"Selection\"},{\"attributes\":{\"fill_alpha\":{\"value\":0.1},\"fill_color\":{\"value\":\"yellow\"},\"line_alpha\":{\"value\":0.1},\"top\":{\"field\":\"Count\"},\"width\":{\"value\":0.8},\"x\":{\"field\":\"Word\"}},\"id\":\"4562\",\"type\":\"VBar\"},{\"attributes\":{},\"id\":\"4567\",\"type\":\"CategoricalTickFormatter\"},{\"attributes\":{\"below\":[{\"id\":\"4538\"}],\"center\":[{\"id\":\"4540\"},{\"id\":\"4544\"}],\"height\":300,\"left\":[{\"id\":\"4541\"}],\"margin\":[5,5,5,5],\"min_border_bottom\":10,\"min_border_left\":10,\"min_border_right\":10,\"min_border_top\":10,\"renderers\":[{\"id\":\"4564\"}],\"sizing_mode\":\"fixed\",\"title\":{\"id\":\"4530\"},\"toolbar\":{\"id\":\"4551\"},\"width\":1000,\"x_range\":{\"id\":\"4526\"},\"x_scale\":{\"id\":\"4534\"},\"y_range\":{\"id\":\"4527\"},\"y_scale\":{\"id\":\"4536\"}},\"id\":\"4529\",\"subtype\":\"Figure\",\"type\":\"Plot\"},{\"attributes\":{\"callback\":null,\"renderers\":[{\"id\":\"4564\"}],\"tags\":[\"hv_created\"],\"tooltips\":[[\"Word\",\"@{Word}\"],[\"Count\",\"@{Count}\"]]},\"id\":\"4528\",\"type\":\"HoverTool\"},{\"attributes\":{\"source\":{\"id\":\"4558\"}},\"id\":\"4565\",\"type\":\"CDSView\"},{\"attributes\":{\"data_source\":{\"id\":\"4558\"},\"glyph\":{\"id\":\"4561\"},\"hover_glyph\":null,\"muted_glyph\":{\"id\":\"4563\"},\"nonselection_glyph\":{\"id\":\"4562\"},\"selection_glyph\":{\"id\":\"4566\"},\"view\":{\"id\":\"4565\"}},\"id\":\"4564\",\"type\":\"GlyphRenderer\"},{\"attributes\":{},\"id\":\"4534\",\"type\":\"CategoricalScale\"},{\"attributes\":{\"bottom\":{\"value\":0},\"fill_alpha\":{\"value\":1.0},\"fill_color\":{\"value\":\"yellow\"},\"hatch_alpha\":{\"value\":1.0},\"hatch_color\":{\"value\":\"black\"},\"hatch_scale\":{\"value\":12.0},\"hatch_weight\":{\"value\":1.0},\"line_alpha\":{\"value\":1.0},\"line_cap\":{\"value\":\"butt\"},\"line_color\":{\"value\":\"black\"},\"line_dash\":{\"value\":[]},\"line_dash_offset\":{\"value\":0},\"line_join\":{\"value\":\"bevel\"},\"line_width\":{\"value\":1},\"top\":{\"field\":\"Count\"},\"width\":{\"value\":0.8},\"x\":{\"field\":\"Word\"}},\"id\":\"4566\",\"type\":\"VBar\"},{\"attributes\":{},\"id\":\"4581\",\"type\":\"UnionRenderers\"},{\"attributes\":{\"bottom_units\":\"screen\",\"fill_alpha\":0.5,\"fill_color\":\"lightgrey\",\"left_units\":\"screen\",\"level\":\"overlay\",\"line_alpha\":1.0,\"line_color\":\"black\",\"line_dash\":[4,4],\"line_width\":2,\"right_units\":\"screen\",\"syncable\":false,\"top_units\":\"screen\"},\"id\":\"4550\",\"type\":\"BoxAnnotation\"},{\"attributes\":{\"end\":103.6,\"reset_end\":103.6,\"reset_start\":0.0,\"tags\":[[[\"Count\",\"Count\",null]]]},\"id\":\"4527\",\"type\":\"Range1d\"},{\"attributes\":{},\"id\":\"4539\",\"type\":\"CategoricalTicker\"},{\"attributes\":{\"data\":{\"Count\":[96,96,96,80,79,74,69,59,55,54,52,51,47,47,44,43,42,42,39,39,39,38,38,34,34,32,32,31,31,30,29,28,28,27,27,24,24,24,24,24,24,23,21,21,21,21,21,21,20,20],\"Word\":[\"time\",\"like\",\"yeah\",\"love\",\"one\",\"never\",\"come\",\"back\",\"cause\",\"way\",\"know\",\"always\",\"good\",\"still\",\"night\",\"let\",\"feel\",\"want\",\"take\",\"til\",\"hope\",\"right\",\"baby\",\"little\",\"trouble\",\"hey\",\"town\",\"life\",\"tryna\",\"girl\",\"make\",\"need\",\"whiskey\",\"man\",\"dream\",\"thats\",\"knew\",\"could\",\"well\",\"leave\",\"woman\",\"home\",\"around\",\"keep\",\"two\",\"last\",\"long\",\"rain\",\"every\",\"old\"]},\"selected\":{\"id\":\"4559\"},\"selection_policy\":{\"id\":\"4581\"}},\"id\":\"4558\",\"type\":\"ColumnDataSource\"},{\"attributes\":{\"axis\":{\"id\":\"4538\"},\"grid_line_color\":null,\"ticker\":null},\"id\":\"4540\",\"type\":\"Grid\"},{\"attributes\":{},\"id\":\"4536\",\"type\":\"LinearScale\"},{\"attributes\":{\"axis\":{\"id\":\"4541\"},\"dimension\":1,\"grid_line_color\":null,\"ticker\":null},\"id\":\"4544\",\"type\":\"Grid\"},{\"attributes\":{},\"id\":\"4570\",\"type\":\"BasicTickFormatter\"},{\"attributes\":{},\"id\":\"4546\",\"type\":\"PanTool\"},{\"attributes\":{\"axis_label\":\"Word\",\"formatter\":{\"id\":\"4567\"},\"major_label_orientation\":1.5707963267948966,\"major_label_policy\":{\"id\":\"4568\"},\"ticker\":{\"id\":\"4539\"}},\"id\":\"4538\",\"type\":\"CategoricalAxis\"},{\"attributes\":{},\"id\":\"4571\",\"type\":\"AllLabels\"},{\"attributes\":{\"axis_label\":\"Count\",\"formatter\":{\"id\":\"4570\"},\"major_label_policy\":{\"id\":\"4571\"},\"ticker\":{\"id\":\"4542\"}},\"id\":\"4541\",\"type\":\"LinearAxis\"},{\"attributes\":{},\"id\":\"4542\",\"type\":\"BasicTicker\"},{\"attributes\":{},\"id\":\"4547\",\"type\":\"WheelZoomTool\"},{\"attributes\":{\"text\":\"Top Words for COUNTRY\",\"text_color\":\"black\",\"text_font_size\":\"12pt\"},\"id\":\"4530\",\"type\":\"Title\"},{\"attributes\":{},\"id\":\"4545\",\"type\":\"SaveTool\"},{\"attributes\":{\"margin\":[5,5,5,5],\"name\":\"HSpacer06200\",\"sizing_mode\":\"stretch_width\"},\"id\":\"4525\",\"type\":\"Spacer\"},{\"attributes\":{\"active_multi\":null,\"tools\":[{\"id\":\"4528\"},{\"id\":\"4545\"},{\"id\":\"4546\"},{\"id\":\"4547\"},{\"id\":\"4548\"},{\"id\":\"4549\"}]},\"id\":\"4551\",\"type\":\"Toolbar\"},{\"attributes\":{\"factors\":[\"time\",\"like\",\"yeah\",\"love\",\"one\",\"never\",\"come\",\"back\",\"cause\",\"way\",\"know\",\"always\",\"good\",\"still\",\"night\",\"let\",\"feel\",\"want\",\"take\",\"til\",\"hope\",\"right\",\"baby\",\"little\",\"trouble\",\"hey\",\"town\",\"life\",\"tryna\",\"girl\",\"make\",\"need\",\"whiskey\",\"man\",\"dream\",\"thats\",\"knew\",\"could\",\"well\",\"leave\",\"woman\",\"home\",\"around\",\"keep\",\"two\",\"last\",\"long\",\"rain\",\"every\",\"old\"],\"tags\":[[[\"Word\",\"Word\",null]]]},\"id\":\"4526\",\"type\":\"FactorRange\"},{\"attributes\":{\"overlay\":{\"id\":\"4550\"}},\"id\":\"4548\",\"type\":\"BoxZoomTool\"},{\"attributes\":{},\"id\":\"4549\",\"type\":\"ResetTool\"}],\"root_ids\":[\"4524\"]},\"title\":\"Bokeh Application\",\"version\":\"2.3.3\"}};\n",
       "    var render_items = [{\"docid\":\"a96ab171-eec1-4a00-9394-124710a037b7\",\"root_ids\":[\"4524\"],\"roots\":{\"4524\":\"21b957f0-2abd-42b5-b952-c0b02db4744e\"}}];\n",
       "    root.Bokeh.embed.embed_items_notebook(docs_json, render_items);\n",
       "  }\n",
       "  if (root.Bokeh !== undefined && root.Bokeh.Panel !== undefined) {\n",
       "    embed_document(root);\n",
       "  } else {\n",
       "    var attempts = 0;\n",
       "    var timer = setInterval(function(root) {\n",
       "      if (root.Bokeh !== undefined && root.Bokeh.Panel !== undefined) {\n",
       "        clearInterval(timer);\n",
       "        embed_document(root);\n",
       "      } else if (document.readyState == \"complete\") {\n",
       "        attempts++;\n",
       "        if (attempts > 200) {\n",
       "          clearInterval(timer);\n",
       "          console.log(\"Bokeh: ERROR: Unable to run BokehJS code because BokehJS library is missing\");\n",
       "        }\n",
       "      }\n",
       "    }, 25, root)\n",
       "  }\n",
       "})(window);</script>"
      ],
      "text/plain": [
       ":Bars   [Word]   (Count)"
      ]
     },
     "execution_count": 557,
     "metadata": {
      "application/vnd.holoviews_exec.v0+json": {
       "id": "4524"
      }
     },
     "output_type": "execute_result"
    }
   ],
   "source": [
    "# Frequency Analysis\n",
    "\n",
    "# Function token_count generates the top N words for given text\n",
    "def token_count(tokens, n_results):\n",
    "    \"\"\" Returns the top N tokens \"\"\"\n",
    "    \"\"\" Requires a dataframe series as input\"\"\"\n",
    "    big_string = ' '.join(map(str,tokens))\n",
    "    processed = process_text(big_string, sw_custom)\n",
    "    topN = dict(Counter(processed).most_common(n_results))\n",
    "    return pd.DataFrame(list(topN.items()), columns=['Word', 'Count']).set_index('Word')\n",
    "\n",
    "# Plot most common tokens\n",
    "top_words = token_count(lyrics_df['Tokens'],50)\n",
    "top_words.plot.bar(rot=90, width=1000, color='yellow', title =f'Top Words for {genre}')\n"
   ]
  },
  {
   "cell_type": "code",
   "execution_count": 559,
   "metadata": {},
   "outputs": [],
   "source": [
    "# Export genre top_words to csv\n",
    "top_words.to_csv(f'../all_genres/{genre}_top_words.csv')"
   ]
  },
  {
   "cell_type": "markdown",
   "metadata": {},
   "source": [
    "### Word Cloud"
   ]
  },
  {
   "cell_type": "code",
   "execution_count": 545,
   "metadata": {},
   "outputs": [
    {
     "data": {
      "text/plain": [
       "<wordcloud.wordcloud.WordCloud at 0x2b6008f9d00>"
      ]
     },
     "execution_count": 545,
     "metadata": {},
     "output_type": "execute_result"
    },
    {
     "data": {
      "image/png": "[encoded data removed]",
      "text/plain": [
       "<Figure size 1440x1440 with 1 Axes>"
      ]
     },
     "metadata": {
      "needs_background": "light"
     },
     "output_type": "display_data"
    }
   ],
   "source": [
    "# Generate a word cloud image\n",
    "\n",
    "# Text for word cloud\n",
    "\n",
    "big_string = ' '.join(lyrics_df['Lyrics'])\n",
    "lyrics_text = process_text(big_string, sw_custom)\n",
    "\n",
    "# Add mask\n",
    "mask = np.array(Image.open(\"images/cowboy-boot.png\"))\n",
    "\n",
    "# Create Word Cloud\n",
    "wc_boot = WordCloud(contour_width=1, contour_color='red', width=2000, height=2000, background_color=\"white\", max_words=70, mask=mask).generate(' '.join(lyrics_text))\n",
    "\n",
    "# Create coloring from image\n",
    "image_colors = ImageColorGenerator(mask)\n",
    "plt.figure(figsize=(20,20))\n",
    "plt.imshow(wc_boot.recolor(color_func=image_colors), interpolation=\"bilinear\")\n",
    "\n",
    "plt.axis(\"off\")\n",
    "plt.imshow(wc_boot)\n",
    "\n",
    "# Save image as png\n",
    "wc_boot.to_file(\"images/country.png\")"
   ]
  },
  {
   "cell_type": "markdown",
   "metadata": {},
   "source": [
    "# Name Entity Recognition"
   ]
  },
  {
   "cell_type": "code",
   "execution_count": 136,
   "metadata": {},
   "outputs": [],
   "source": [
    "# Load the spaCy model\n",
    "nlp = spacy.load('en_core_web_sm')"
   ]
  },
  {
   "cell_type": "code",
   "execution_count": 138,
   "metadata": {},
   "outputs": [],
   "source": [
    "# Run the NER processor on all of the text\n",
    "\n",
    "lyrics_text = ' '.join(lyrics_df[\"Lyrics\"])\n",
    "country_ner = nlp(lyrics_text)\n",
    "\n",
    "# Add a title to the document\n",
    "country_ner.user_data['title'] = 'Country NER'"
   ]
  },
  {
   "cell_type": "code",
   "execution_count": 445,
   "metadata": {},
   "outputs": [],
   "source": [
    "# Render the visualization\n",
    "# displacy.render(country_ner, style='ent')"
   ]
  },
  {
   "cell_type": "code",
   "execution_count": 512,
   "metadata": {},
   "outputs": [
    {
     "data": {
      "text/html": [
       "<div>\n",
       "<style scoped>\n",
       "    .dataframe tbody tr th:only-of-type {\n",
       "        vertical-align: middle;\n",
       "    }\n",
       "\n",
       "    .dataframe tbody tr th {\n",
       "        vertical-align: top;\n",
       "    }\n",
       "\n",
       "    .dataframe thead th {\n",
       "        text-align: right;\n",
       "    }\n",
       "</style>\n",
       "<table border=\"1\" class=\"dataframe\">\n",
       "  <thead>\n",
       "    <tr style=\"text-align: right;\">\n",
       "      <th></th>\n",
       "      <th>Frequency</th>\n",
       "      <th>Label</th>\n",
       "    </tr>\n",
       "  </thead>\n",
       "  <tbody>\n",
       "    <tr>\n",
       "      <th>Santa Claus</th>\n",
       "      <td>16</td>\n",
       "      <td>ORG</td>\n",
       "    </tr>\n",
       "    <tr>\n",
       "      <th>Tennessee</th>\n",
       "      <td>13</td>\n",
       "      <td>GPE</td>\n",
       "    </tr>\n",
       "    <tr>\n",
       "      <th>Mississippi</th>\n",
       "      <td>13</td>\n",
       "      <td>GPE</td>\n",
       "    </tr>\n",
       "    <tr>\n",
       "      <th>two</th>\n",
       "      <td>13</td>\n",
       "      <td>CARDINAL</td>\n",
       "    </tr>\n",
       "    <tr>\n",
       "      <th>one</th>\n",
       "      <td>11</td>\n",
       "      <td>CARDINAL</td>\n",
       "    </tr>\n",
       "    <tr>\n",
       "      <th>...</th>\n",
       "      <td>...</td>\n",
       "      <td>...</td>\n",
       "    </tr>\n",
       "    <tr>\n",
       "      <th>Kinda</th>\n",
       "      <td>1</td>\n",
       "      <td>GPE</td>\n",
       "    </tr>\n",
       "    <tr>\n",
       "      <th>Georgia</th>\n",
       "      <td>1</td>\n",
       "      <td>GPE</td>\n",
       "    </tr>\n",
       "    <tr>\n",
       "      <th>Playin</th>\n",
       "      <td>1</td>\n",
       "      <td>ORG</td>\n",
       "    </tr>\n",
       "    <tr>\n",
       "      <th>at least a million</th>\n",
       "      <td>1</td>\n",
       "      <td>CARDINAL</td>\n",
       "    </tr>\n",
       "    <tr>\n",
       "      <th>Sittin</th>\n",
       "      <td>1</td>\n",
       "      <td>ORG</td>\n",
       "    </tr>\n",
       "  </tbody>\n",
       "</table>\n",
       "<p>202 rows × 2 columns</p>\n",
       "</div>"
      ],
      "text/plain": [
       "                    Frequency     Label\n",
       "Santa Claus                16       ORG\n",
       "Tennessee                  13       GPE\n",
       "Mississippi                13       GPE\n",
       "two                        13  CARDINAL\n",
       "one                        11  CARDINAL\n",
       "...                       ...       ...\n",
       "Kinda                       1       GPE\n",
       "Georgia                     1       GPE\n",
       "Playin                      1       ORG\n",
       "at least a million          1  CARDINAL\n",
       "Sittin                      1       ORG\n",
       "\n",
       "[202 rows x 2 columns]"
      ]
     },
     "execution_count": 512,
     "metadata": {},
     "output_type": "execute_result"
    }
   ],
   "source": [
    "# List all Entities\n",
    "\n",
    "ent_labels=[]\n",
    "entities=[]\n",
    "\n",
    "for ent in country_ner.ents:\n",
    "    ent_labels.append(ent.label_)\n",
    "    entities.append(ent.text)\n",
    "\n",
    "# Obtain frequency for each named entity\n",
    "\n",
    "entities_freq = pd.DataFrame.from_dict([Counter(entities)]).T\n",
    "entities_freq.columns = ['Frequency']\n",
    "entities_freq.sort_values(by= 'Frequency', ascending=False, inplace = True)\n",
    "\n",
    "\n",
    "# Retrieve labels for unique named entities\n",
    "\n",
    "unique_nes = entities_freq.index.tolist()\n",
    "\n",
    "labels = []\n",
    "\n",
    "for word in unique_nes:\n",
    "    idx = entities.index(word)\n",
    "    label = ent_labels[idx]\n",
    "    labels.append(label)\n",
    "\n",
    "entities_freq['Label'] = labels\n",
    "\n",
    "entities_freq\n"
   ]
  },
  {
   "cell_type": "code",
   "execution_count": 544,
   "metadata": {},
   "outputs": [
    {
     "data": {},
     "metadata": {},
     "output_type": "display_data"
    },
    {
     "data": {
      "application/vnd.holoviews_exec.v0+json": "",
      "text/html": [
       "<div id='3798'>\n",
       "\n",
       "\n",
       "\n",
       "\n",
       "\n",
       "  <div class=\"bk-root\" id=\"f28bc682-eb28-4eea-960a-7a065cdf6e1c\" data-root-id=\"3798\"></div>\n",
       "</div>\n",
       "<script type=\"application/javascript\">(function(root) {\n",
       "  function embed_document(root) {\n",
       "    var docs_json = {\"13f12c15-c434-4880-9173-5e0df55b10bb\":{\"defs\":[{\"extends\":null,\"module\":null,\"name\":\"ReactiveHTML1\",\"overrides\":[],\"properties\":[]},{\"extends\":null,\"module\":null,\"name\":\"FlexBox1\",\"overrides\":[],\"properties\":[{\"default\":\"flex-start\",\"kind\":null,\"name\":\"align_content\"},{\"default\":\"flex-start\",\"kind\":null,\"name\":\"align_items\"},{\"default\":\"row\",\"kind\":null,\"name\":\"flex_direction\"},{\"default\":\"wrap\",\"kind\":null,\"name\":\"flex_wrap\"},{\"default\":\"flex-start\",\"kind\":null,\"name\":\"justify_content\"}]},{\"extends\":null,\"module\":null,\"name\":\"TemplateActions1\",\"overrides\":[],\"properties\":[{\"default\":0,\"kind\":null,\"name\":\"open_modal\"},{\"default\":0,\"kind\":null,\"name\":\"close_modal\"}]},{\"extends\":null,\"module\":null,\"name\":\"MaterialTemplateActions1\",\"overrides\":[],\"properties\":[{\"default\":0,\"kind\":null,\"name\":\"open_modal\"},{\"default\":0,\"kind\":null,\"name\":\"close_modal\"}]}],\"roots\":{\"references\":[{\"attributes\":{\"margin\":[5,5,5,5],\"name\":\"HSpacer05263\",\"sizing_mode\":\"stretch_width\"},\"id\":\"3867\",\"type\":\"Spacer\"},{\"attributes\":{},\"id\":\"3813\",\"type\":\"CategoricalTicker\"},{\"attributes\":{\"data\":{\"Count\":[79,67,81,113,39,13,6,13,8,30,1,5,7,3,3],\"index\":[\"ORG\",\"GPE\",\"CARDINAL\",\"PERSON\",\"TIME\",\"ORDINAL\",\"FAC\",\"LOC\",\"WORK_OF_ART\",\"DATE\",\"MONEY\",\"QUANTITY\",\"PRODUCT\",\"NORP\",\"EVENT\"]},\"selected\":{\"id\":\"3833\"},\"selection_policy\":{\"id\":\"3855\"}},\"id\":\"3832\",\"type\":\"ColumnDataSource\"},{\"attributes\":{\"axis\":{\"id\":\"3812\"},\"grid_line_color\":null,\"ticker\":null},\"id\":\"3814\",\"type\":\"Grid\"},{\"attributes\":{},\"id\":\"3845\",\"type\":\"AllLabels\"},{\"attributes\":{},\"id\":\"3810\",\"type\":\"LinearScale\"},{\"attributes\":{\"axis\":{\"id\":\"3815\"},\"dimension\":1,\"grid_line_color\":null,\"ticker\":null},\"id\":\"3818\",\"type\":\"Grid\"},{\"attributes\":{},\"id\":\"3844\",\"type\":\"BasicTickFormatter\"},{\"attributes\":{},\"id\":\"3820\",\"type\":\"PanTool\"},{\"attributes\":{\"axis_label\":\"\",\"formatter\":{\"id\":\"3841\"},\"major_label_orientation\":0.7853981633974483,\"major_label_policy\":{\"id\":\"3842\"},\"ticker\":{\"id\":\"3813\"}},\"id\":\"3812\",\"type\":\"CategoricalAxis\"},{\"attributes\":{\"axis_label\":\"Count\",\"formatter\":{\"id\":\"3844\"},\"major_label_policy\":{\"id\":\"3845\"},\"ticker\":{\"id\":\"3816\"}},\"id\":\"3815\",\"type\":\"LinearAxis\"},{\"attributes\":{\"source\":{\"id\":\"3832\"}},\"id\":\"3839\",\"type\":\"CDSView\"},{\"attributes\":{},\"id\":\"3816\",\"type\":\"BasicTicker\"},{\"attributes\":{},\"id\":\"3821\",\"type\":\"WheelZoomTool\"},{\"attributes\":{},\"id\":\"3819\",\"type\":\"SaveTool\"},{\"attributes\":{\"text\":\"Top Named Entities found in COUNTRY Songs\",\"text_color\":\"black\",\"text_font_size\":\"12pt\"},\"id\":\"3804\",\"type\":\"Title\"},{\"attributes\":{\"overlay\":{\"id\":\"3824\"}},\"id\":\"3822\",\"type\":\"BoxZoomTool\"},{\"attributes\":{\"factors\":[\"ORG\",\"GPE\",\"CARDINAL\",\"PERSON\",\"TIME\",\"ORDINAL\",\"FAC\",\"LOC\",\"WORK_OF_ART\",\"DATE\",\"MONEY\",\"QUANTITY\",\"PRODUCT\",\"NORP\",\"EVENT\"],\"tags\":[[[\"index\",\"index\",null]]]},\"id\":\"3800\",\"type\":\"FactorRange\"},{\"attributes\":{},\"id\":\"3823\",\"type\":\"ResetTool\"},{\"attributes\":{\"active_multi\":null,\"tools\":[{\"id\":\"3802\"},{\"id\":\"3819\"},{\"id\":\"3820\"},{\"id\":\"3821\"},{\"id\":\"3822\"},{\"id\":\"3823\"}]},\"id\":\"3825\",\"type\":\"Toolbar\"},{\"attributes\":{},\"id\":\"3842\",\"type\":\"AllLabels\"},{\"attributes\":{\"fill_alpha\":{\"value\":0.2},\"fill_color\":{\"value\":\"yellow\"},\"line_alpha\":{\"value\":0.2},\"top\":{\"field\":\"Count\"},\"width\":{\"value\":0.8},\"x\":{\"field\":\"index\"}},\"id\":\"3837\",\"type\":\"VBar\"},{\"attributes\":{\"fill_color\":{\"value\":\"yellow\"},\"top\":{\"field\":\"Count\"},\"width\":{\"value\":0.8},\"x\":{\"field\":\"index\"}},\"id\":\"3835\",\"type\":\"VBar\"},{\"attributes\":{},\"id\":\"3833\",\"type\":\"Selection\"},{\"attributes\":{\"fill_alpha\":{\"value\":0.1},\"fill_color\":{\"value\":\"yellow\"},\"line_alpha\":{\"value\":0.1},\"top\":{\"field\":\"Count\"},\"width\":{\"value\":0.8},\"x\":{\"field\":\"index\"}},\"id\":\"3836\",\"type\":\"VBar\"},{\"attributes\":{},\"id\":\"3855\",\"type\":\"UnionRenderers\"},{\"attributes\":{},\"id\":\"3841\",\"type\":\"CategoricalTickFormatter\"},{\"attributes\":{\"below\":[{\"id\":\"3812\"}],\"center\":[{\"id\":\"3814\"},{\"id\":\"3818\"}],\"height\":400,\"left\":[{\"id\":\"3815\"}],\"margin\":[5,5,5,5],\"min_border_bottom\":10,\"min_border_left\":10,\"min_border_right\":10,\"min_border_top\":10,\"renderers\":[{\"id\":\"3838\"}],\"sizing_mode\":\"fixed\",\"title\":{\"id\":\"3804\"},\"toolbar\":{\"id\":\"3825\"},\"width\":1000,\"x_range\":{\"id\":\"3800\"},\"x_scale\":{\"id\":\"3808\"},\"y_range\":{\"id\":\"3801\"},\"y_scale\":{\"id\":\"3810\"}},\"id\":\"3803\",\"subtype\":\"Figure\",\"type\":\"Plot\"},{\"attributes\":{\"children\":[{\"id\":\"3799\"},{\"id\":\"3803\"},{\"id\":\"3867\"}],\"margin\":[0,0,0,0],\"name\":\"Row05258\",\"tags\":[\"embedded\"]},\"id\":\"3798\",\"type\":\"Row\"},{\"attributes\":{\"callback\":null,\"renderers\":[{\"id\":\"3838\"}],\"tags\":[\"hv_created\"],\"tooltips\":[[\"index\",\"@{index}\"],[\"Count\",\"@{Count}\"]]},\"id\":\"3802\",\"type\":\"HoverTool\"},{\"attributes\":{\"data_source\":{\"id\":\"3832\"},\"glyph\":{\"id\":\"3835\"},\"hover_glyph\":null,\"muted_glyph\":{\"id\":\"3837\"},\"nonselection_glyph\":{\"id\":\"3836\"},\"selection_glyph\":{\"id\":\"3840\"},\"view\":{\"id\":\"3839\"}},\"id\":\"3838\",\"type\":\"GlyphRenderer\"},{\"attributes\":{\"bottom\":{\"value\":0},\"fill_alpha\":{\"value\":1.0},\"fill_color\":{\"value\":\"yellow\"},\"hatch_alpha\":{\"value\":1.0},\"hatch_color\":{\"value\":\"black\"},\"hatch_scale\":{\"value\":12.0},\"hatch_weight\":{\"value\":1.0},\"line_alpha\":{\"value\":1.0},\"line_cap\":{\"value\":\"butt\"},\"line_color\":{\"value\":\"black\"},\"line_dash\":{\"value\":[]},\"line_dash_offset\":{\"value\":0},\"line_join\":{\"value\":\"bevel\"},\"line_width\":{\"value\":1},\"top\":{\"field\":\"Count\"},\"width\":{\"value\":0.8},\"x\":{\"field\":\"index\"}},\"id\":\"3840\",\"type\":\"VBar\"},{\"attributes\":{},\"id\":\"3808\",\"type\":\"CategoricalScale\"},{\"attributes\":{\"bottom_units\":\"screen\",\"fill_alpha\":0.5,\"fill_color\":\"lightgrey\",\"left_units\":\"screen\",\"level\":\"overlay\",\"line_alpha\":1.0,\"line_color\":\"black\",\"line_dash\":[4,4],\"line_width\":2,\"right_units\":\"screen\",\"syncable\":false,\"top_units\":\"screen\"},\"id\":\"3824\",\"type\":\"BoxAnnotation\"},{\"attributes\":{\"margin\":[5,5,5,5],\"name\":\"HSpacer05262\",\"sizing_mode\":\"stretch_width\"},\"id\":\"3799\",\"type\":\"Spacer\"},{\"attributes\":{\"end\":124.2,\"reset_end\":124.2,\"reset_start\":0.0,\"tags\":[[[\"Count\",\"Count\",null]]]},\"id\":\"3801\",\"type\":\"Range1d\"}],\"root_ids\":[\"3798\"]},\"title\":\"Bokeh Application\",\"version\":\"2.3.3\"}};\n",
       "    var render_items = [{\"docid\":\"13f12c15-c434-4880-9173-5e0df55b10bb\",\"root_ids\":[\"3798\"],\"roots\":{\"3798\":\"f28bc682-eb28-4eea-960a-7a065cdf6e1c\"}}];\n",
       "    root.Bokeh.embed.embed_items_notebook(docs_json, render_items);\n",
       "  }\n",
       "  if (root.Bokeh !== undefined && root.Bokeh.Panel !== undefined) {\n",
       "    embed_document(root);\n",
       "  } else {\n",
       "    var attempts = 0;\n",
       "    var timer = setInterval(function(root) {\n",
       "      if (root.Bokeh !== undefined && root.Bokeh.Panel !== undefined) {\n",
       "        clearInterval(timer);\n",
       "        embed_document(root);\n",
       "      } else if (document.readyState == \"complete\") {\n",
       "        attempts++;\n",
       "        if (attempts > 200) {\n",
       "          clearInterval(timer);\n",
       "          console.log(\"Bokeh: ERROR: Unable to run BokehJS code because BokehJS library is missing\");\n",
       "        }\n",
       "      }\n",
       "    }, 25, root)\n",
       "  }\n",
       "})(window);</script>"
      ],
      "text/plain": [
       ":Bars   [index]   (Count)"
      ]
     },
     "execution_count": 544,
     "metadata": {
      "application/vnd.holoviews_exec.v0+json": {
       "id": "3798"
      }
     },
     "output_type": "execute_result"
    }
   ],
   "source": [
    "# Bar chart of frequencies of Named Entities\n",
    "\n",
    "entities_count = pd.DataFrame.from_dict([Counter(ent_labels)]).T\n",
    "entities_count.columns = ['Count']\n",
    "\n",
    "entities_count.plot.bar(\n",
    "    width=1000, \n",
    "    height = 400,\n",
    "    color = 'yellow', \n",
    "    rot =45, \n",
    "    title = f'Top Named Entities found in {genre} Songs',\n",
    "    hover_cols=['Count']\n",
    "    )"
   ]
  },
  {
   "cell_type": "code",
   "execution_count": 560,
   "metadata": {},
   "outputs": [],
   "source": [
    "# Export Entities dataframe to CSV\n",
    "entities_count.to_csv(f'../all_genres/{genre}_entities_count.csv', index_label='Named_Entity')"
   ]
  },
  {
   "cell_type": "markdown",
   "metadata": {},
   "source": [
    "# Next Word Prediction"
   ]
  },
  {
   "cell_type": "markdown",
   "metadata": {},
   "source": [
    "Using Language Model Module (nltk.lm) from NLTK library\n",
    "\n",
    "--Kneser-Ney Interpolated algorithm or MLE--"
   ]
  },
  {
   "cell_type": "code",
   "execution_count": null,
   "metadata": {},
   "outputs": [],
   "source": []
  },
  {
   "cell_type": "code",
   "execution_count": null,
   "metadata": {},
   "outputs": [],
   "source": []
  },
  {
   "cell_type": "code",
   "execution_count": null,
   "metadata": {},
   "outputs": [],
   "source": []
  },
  {
   "cell_type": "code",
   "execution_count": null,
   "metadata": {},
   "outputs": [],
   "source": []
  },
  {
   "cell_type": "code",
   "execution_count": null,
   "metadata": {},
   "outputs": [],
   "source": []
  },
  {
   "cell_type": "code",
   "execution_count": null,
   "metadata": {},
   "outputs": [],
   "source": []
  }
 ],
 "metadata": {
  "interpreter": {
   "hash": "9b24175bddfaec99ad0d13c7f3c62ff2d27640d666ee47e274bb34432b073efd"
  },
  "kernelspec": {
   "display_name": "Python 3.8.8 64-bit ('MachLearn': conda)",
   "language": "python",
   "name": "python3"
  },
  "language_info": {
   "codemirror_mode": {
    "name": "ipython",
    "version": 3
   },
   "file_extension": ".py",
   "mimetype": "text/x-python",
   "name": "python",
   "nbconvert_exporter": "python",
   "pygments_lexer": "ipython3",
   "version": "3.8.8"
  },
  "orig_nbformat": 4
 },
 "nbformat": 4,
 "nbformat_minor": 2
}
