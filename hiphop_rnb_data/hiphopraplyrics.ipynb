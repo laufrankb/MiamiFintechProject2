{
 "cells": [
  {
   "cell_type": "markdown",
   "id": "ed8ff198-9abb-4144-ac6d-9b26790381b8",
   "metadata": {},
   "source": [
    "# Hip-Hop/ Rap Lyrics"
   ]
  },
  {
   "cell_type": "code",
   "execution_count": 2,
   "id": "97e3f5e6-5a96-4939-a40c-d4bb4b59e9c0",
   "metadata": {},
   "outputs": [],
   "source": [
    "# Imports\n",
    "import requests\n",
    "import os\n",
    "import json\n",
    "import pandas as pd\n",
    "import numpy as np\n",
    "import matplotlib.pyplot as plt\n",
    "import nltk\n",
    "import re\n",
    "import plotly.express as px\n",
    "import spacy\n",
    "import random\n",
    "\n",
    "from dotenv import load_dotenv\n",
    "from collections import Counter\n",
    "from collections import defaultdict\n",
    "from PIL import Image\n",
    "from wordcloud import WordCloud\n",
    "from wordcloud import ImageColorGenerator\n",
    "from nltk.tokenize import word_tokenize, sent_tokenize\n",
    "from nltk.corpus import stopwords\n",
    "from nltk.stem import WordNetLemmatizer, PorterStemmer\n",
    "from string import punctuation\n",
    "from nltk.sentiment.vader import SentimentIntensityAnalyzer\n",
    "from nltk import ngrams\n",
    "from spacy import displacy\n",
    "from nltk.lm import MLE # language model\n",
    "from nltk import word_tokenize, sent_tokenize\n",
    "from nltk.util import pad_sequence, bigrams, ngrams, everygrams\n",
    "from nltk.lm.preprocessing import pad_both_ends, flatten, padded_everygram_pipeline\n",
    "from nltk.tokenize.treebank import TreebankWordDetokenizer"
   ]
  },
  {
   "cell_type": "code",
   "execution_count": 3,
   "id": "4c11e03f-8e21-4f60-8350-9dfcc4c30c2d",
   "metadata": {},
   "outputs": [
    {
     "data": {
      "text/plain": [
       "True"
      ]
     },
     "execution_count": 3,
     "metadata": {},
     "output_type": "execute_result"
    }
   ],
   "source": [
    "# Load .env environment variables\n",
    "load_dotenv()\n",
    "\n",
    "# Set RAPID API key\n",
    "# my_rapid_api_key = os.getenv(\"RAPID_API_KEY\")"
   ]
  },
  {
   "cell_type": "code",
   "execution_count": 4,
   "id": "0d72f422-6c6f-4e0e-98ac-cce3011d5e89",
   "metadata": {},
   "outputs": [],
   "source": [
    "# Define function to use Shazam Core API\n",
    "\n",
    "def get_chart_genre(querystring):\n",
    "\n",
    "    url = \"https://shazam-core.p.rapidapi.com/v1/charts/genre-world\"\n",
    "\n",
    "    headers = {\n",
    "    'x-rapidapi-host': \"shazam-core.p.rapidapi.com\",\n",
    "    'x-rapidapi-key': '8b0d2ef776msh6040e496268c238p105edajsn055150f280c7'\n",
    "    }\n",
    "\n",
    "    response = requests.request(\"GET\", url, headers=headers, params=querystring)\n",
    "\n",
    "    return response.json()"
   ]
  },
  {
   "cell_type": "code",
   "execution_count": 5,
   "id": "93961d91-f969-45d2-82c3-139a4f529d21",
   "metadata": {},
   "outputs": [],
   "source": [
    "# Define function to use Shazam Core API\n",
    "\n",
    "def get_lyrics(querystring):\n",
    "\n",
    "    url = \"https://shazam-core.p.rapidapi.com/v1/tracks/details\"\n",
    "\n",
    "    headers = {\n",
    "    'x-rapidapi-host': \"shazam-core.p.rapidapi.com\",\n",
    "    'x-rapidapi-key': '8b0d2ef776msh6040e496268c238p105edajsn055150f280c7'\n",
    "    }\n",
    "\n",
    "    response = requests.request(\"GET\", url, headers=headers, params=querystring)\n",
    "\n",
    "    return response.json()"
   ]
  },
  {
   "cell_type": "code",
   "execution_count": 6,
   "id": "b85ef371-8cf8-4ba3-abe3-fcd8994db933",
   "metadata": {},
   "outputs": [],
   "source": [
    "# Use 'Track details' endpoint to retrieve lyrics for a single track\n",
    "\n",
    "genre = 'HIP_HOP_RAP'\n",
    "limit_songs = 50\n",
    "\n",
    "querystring = {\"genre_code\":genre,\"limit\":limit_songs}\n",
    "chart_response = get_chart_genre(querystring)"
   ]
  },
  {
   "cell_type": "code",
   "execution_count": 7,
   "id": "d4a2b71b-ef7f-4703-a2ad-beb6eb2df4b4",
   "metadata": {},
   "outputs": [
    {
     "name": "stdout",
     "output_type": "stream",
     "text": [
      "The number of songs retrieved is : 50\n"
     ]
    },
    {
     "data": {
      "text/html": [
       "<div>\n",
       "<style scoped>\n",
       "    .dataframe tbody tr th:only-of-type {\n",
       "        vertical-align: middle;\n",
       "    }\n",
       "\n",
       "    .dataframe tbody tr th {\n",
       "        vertical-align: top;\n",
       "    }\n",
       "\n",
       "    .dataframe thead th {\n",
       "        text-align: right;\n",
       "    }\n",
       "</style>\n",
       "<table border=\"1\" class=\"dataframe\">\n",
       "  <thead>\n",
       "    <tr style=\"text-align: right;\">\n",
       "      <th></th>\n",
       "      <th>Track Name</th>\n",
       "      <th>Artists</th>\n",
       "    </tr>\n",
       "    <tr>\n",
       "      <th>TrackIDs</th>\n",
       "      <th></th>\n",
       "      <th></th>\n",
       "    </tr>\n",
       "  </thead>\n",
       "  <tbody>\n",
       "    <tr>\n",
       "      <th>41264695</th>\n",
       "      <td>Bananza (Belly Dancer)</td>\n",
       "      <td>Akon</td>\n",
       "    </tr>\n",
       "    <tr>\n",
       "      <th>590362040</th>\n",
       "      <td>TO THE MOON</td>\n",
       "      <td>Jnr Choi</td>\n",
       "    </tr>\n",
       "    <tr>\n",
       "      <th>578340247</th>\n",
       "      <td>INDUSTRY BABY</td>\n",
       "      <td>Lil Nas X &amp; Jack Harlow</td>\n",
       "    </tr>\n",
       "    <tr>\n",
       "      <th>579792092</th>\n",
       "      <td>Own Brand Freestyle</td>\n",
       "      <td>FelixThe1st &amp; Dreya Mac Feat. Finch Fetti</td>\n",
       "    </tr>\n",
       "    <tr>\n",
       "      <th>565785367</th>\n",
       "      <td>น้ำแดงน้ำส้ม</td>\n",
       "      <td>JV.JARVIS</td>\n",
       "    </tr>\n",
       "  </tbody>\n",
       "</table>\n",
       "</div>"
      ],
      "text/plain": [
       "                       Track Name                                    Artists\n",
       "TrackIDs                                                                    \n",
       "41264695   Bananza (Belly Dancer)                                       Akon\n",
       "590362040             TO THE MOON                                   Jnr Choi\n",
       "578340247           INDUSTRY BABY                    Lil Nas X & Jack Harlow\n",
       "579792092     Own Brand Freestyle  FelixThe1st & Dreya Mac Feat. Finch Fetti\n",
       "565785367            น้ำแดงน้ำส้ม                                  JV.JARVIS"
      ]
     },
     "execution_count": 7,
     "metadata": {},
     "output_type": "execute_result"
    }
   ],
   "source": [
    "# Retrieve Track IDs\n",
    "\n",
    "track_ids=[] # song identifier\n",
    "titles = [] # song name\n",
    "subtitles = [] # Main artist and featured artists\n",
    "\n",
    "for track in range(len(chart_response)):\n",
    "    track_ids.append(chart_response[track]['id'])\n",
    "    titles.append(chart_response[track]['title'])\n",
    "    subtitles.append(chart_response[track]['subtitle'])\n",
    "\n",
    "print(f\"The number of songs retrieved is : {len(track_ids)}\")\n",
    "\n",
    "chart_songs = pd.DataFrame({\"Track Name\": titles, \"Artists\": subtitles, 'TrackIDs': track_ids}).set_index('TrackIDs')\n",
    "chart_songs.head(5)"
   ]
  },
  {
   "cell_type": "code",
   "execution_count": 60,
   "id": "2a59c38e-410b-4c70-a9aa-e823331ee4a2",
   "metadata": {},
   "outputs": [
    {
     "data": {
      "application/vnd.plotly.v1+json": {
       "config": {
        "plotlyServerURL": "https://plot.ly"
       },
       "data": [
        {
         "alignmentgroup": "True",
         "hovertemplate": "Artists=%{x}<br>value=%{marker.color}<extra></extra>",
         "legendgroup": "",
         "marker": {
          "color": [
           1,
           1,
           1,
           1,
           1,
           1,
           1,
           1,
           1,
           1,
           1,
           1,
           1,
           1,
           1,
           1,
           1,
           1,
           1,
           1,
           1,
           1,
           1,
           1,
           1,
           1,
           1,
           1,
           1,
           1,
           1,
           1,
           1,
           1,
           1,
           1,
           1,
           1,
           1,
           1,
           1,
           1,
           1,
           1,
           1,
           1,
           1,
           1,
           1,
           1
          ],
          "coloraxis": "coloraxis",
          "pattern": {
           "shape": ""
          }
         },
         "name": "",
         "offsetgroup": "",
         "orientation": "v",
         "showlegend": false,
         "textposition": "auto",
         "type": "bar",
         "x": [
          "Akon",
          "RAIKAHO",
          "Jul Feat. Morad",
          "Macklemore & Ryan Lewis Feat. Ray Dalton",
          "Rkomi & Elodie",
          "Eminem",
          "Ricky Rich & ARAM Mafia",
          "Blxst & Tyga Feat. Ty Dolla $ign",
          "Freddie Dredd",
          "Xcho",
          "CupcakKe",
          "Ninho",
          "Yung Lean",
          "Jnr Choi",
          "Flo Rida Feat. T-Pain",
          "Rae Sremmurd",
          "Drake Feat. WizKid & Kyla",
          "Drake Feat. 21 Savage & Project Pat",
          "SwitchOTR Feat. A1 x J1",
          "Moneybagg Yo",
          "Eminem Feat. Dido",
          "24kGoldn Feat. iann dior",
          "Siouxxie",
          "DVRST",
          "Harlem Spartans Feat. Bis & MizOrMac",
          "Tesher & Jason Derulo",
          "ZAPOMNI",
          "Kodak Black",
          "Lil Nas X & Jack Harlow",
          "FelixThe1st & Dreya Mac Feat. Finch Fetti",
          "JV.JARVIS",
          "K'naan Feat. Adam Levine",
          "bbno$ Feat. Rich Brian",
          "Kanye West",
          "Ruger",
          "Nicki Minaj Feat. Lil Wayne",
          "De La Soul",
          "Coolio Feat. L.V.",
          "Hensonn",
          "Kristina Si Feat. Maléna",
          "Post Malone & The Weeknd",
          "Ежемесячные",
          "Latto",
          "Moreart Feat. IHI",
          "Baby Keem Feat. Brent Faiyaz",
          "payton",
          "Masked Wolf",
          "Skylar Grey, Polo G, Mozzy & Eminem",
          "Tech N9ne, Joey Cool, King Iso & Dwayne Johnson",
          "Post Malone & Swae Lee"
         ],
         "xaxis": "x",
         "y": [
          1,
          1,
          1,
          1,
          1,
          1,
          1,
          1,
          1,
          1,
          1,
          1,
          1,
          1,
          1,
          1,
          1,
          1,
          1,
          1,
          1,
          1,
          1,
          1,
          1,
          1,
          1,
          1,
          1,
          1,
          1,
          1,
          1,
          1,
          1,
          1,
          1,
          1,
          1,
          1,
          1,
          1,
          1,
          1,
          1,
          1,
          1,
          1,
          1,
          1
         ],
         "yaxis": "y"
        }
       ],
       "layout": {
        "autosize": true,
        "barmode": "relative",
        "coloraxis": {
         "colorbar": {
          "title": {
           "text": "value"
          }
         },
         "colorscale": [
          [
           0,
           "rgb(255,0,0)"
          ],
          [
           1,
           "rgb(0,0,255)"
          ]
         ]
        },
        "legend": {
         "tracegroupgap": 0
        },
        "template": {
         "data": {
          "bar": [
           {
            "error_x": {
             "color": "#2a3f5f"
            },
            "error_y": {
             "color": "#2a3f5f"
            },
            "marker": {
             "line": {
              "color": "#E5ECF6",
              "width": 0.5
             },
             "pattern": {
              "fillmode": "overlay",
              "size": 10,
              "solidity": 0.2
             }
            },
            "type": "bar"
           }
          ],
          "barpolar": [
           {
            "marker": {
             "line": {
              "color": "#E5ECF6",
              "width": 0.5
             },
             "pattern": {
              "fillmode": "overlay",
              "size": 10,
              "solidity": 0.2
             }
            },
            "type": "barpolar"
           }
          ],
          "carpet": [
           {
            "aaxis": {
             "endlinecolor": "#2a3f5f",
             "gridcolor": "white",
             "linecolor": "white",
             "minorgridcolor": "white",
             "startlinecolor": "#2a3f5f"
            },
            "baxis": {
             "endlinecolor": "#2a3f5f",
             "gridcolor": "white",
             "linecolor": "white",
             "minorgridcolor": "white",
             "startlinecolor": "#2a3f5f"
            },
            "type": "carpet"
           }
          ],
          "choropleth": [
           {
            "colorbar": {
             "outlinewidth": 0,
             "ticks": ""
            },
            "type": "choropleth"
           }
          ],
          "contour": [
           {
            "colorbar": {
             "outlinewidth": 0,
             "ticks": ""
            },
            "colorscale": [
             [
              0,
              "#0d0887"
             ],
             [
              0.1111111111111111,
              "#46039f"
             ],
             [
              0.2222222222222222,
              "#7201a8"
             ],
             [
              0.3333333333333333,
              "#9c179e"
             ],
             [
              0.4444444444444444,
              "#bd3786"
             ],
             [
              0.5555555555555556,
              "#d8576b"
             ],
             [
              0.6666666666666666,
              "#ed7953"
             ],
             [
              0.7777777777777778,
              "#fb9f3a"
             ],
             [
              0.8888888888888888,
              "#fdca26"
             ],
             [
              1,
              "#f0f921"
             ]
            ],
            "type": "contour"
           }
          ],
          "contourcarpet": [
           {
            "colorbar": {
             "outlinewidth": 0,
             "ticks": ""
            },
            "type": "contourcarpet"
           }
          ],
          "heatmap": [
           {
            "colorbar": {
             "outlinewidth": 0,
             "ticks": ""
            },
            "colorscale": [
             [
              0,
              "#0d0887"
             ],
             [
              0.1111111111111111,
              "#46039f"
             ],
             [
              0.2222222222222222,
              "#7201a8"
             ],
             [
              0.3333333333333333,
              "#9c179e"
             ],
             [
              0.4444444444444444,
              "#bd3786"
             ],
             [
              0.5555555555555556,
              "#d8576b"
             ],
             [
              0.6666666666666666,
              "#ed7953"
             ],
             [
              0.7777777777777778,
              "#fb9f3a"
             ],
             [
              0.8888888888888888,
              "#fdca26"
             ],
             [
              1,
              "#f0f921"
             ]
            ],
            "type": "heatmap"
           }
          ],
          "heatmapgl": [
           {
            "colorbar": {
             "outlinewidth": 0,
             "ticks": ""
            },
            "colorscale": [
             [
              0,
              "#0d0887"
             ],
             [
              0.1111111111111111,
              "#46039f"
             ],
             [
              0.2222222222222222,
              "#7201a8"
             ],
             [
              0.3333333333333333,
              "#9c179e"
             ],
             [
              0.4444444444444444,
              "#bd3786"
             ],
             [
              0.5555555555555556,
              "#d8576b"
             ],
             [
              0.6666666666666666,
              "#ed7953"
             ],
             [
              0.7777777777777778,
              "#fb9f3a"
             ],
             [
              0.8888888888888888,
              "#fdca26"
             ],
             [
              1,
              "#f0f921"
             ]
            ],
            "type": "heatmapgl"
           }
          ],
          "histogram": [
           {
            "marker": {
             "pattern": {
              "fillmode": "overlay",
              "size": 10,
              "solidity": 0.2
             }
            },
            "type": "histogram"
           }
          ],
          "histogram2d": [
           {
            "colorbar": {
             "outlinewidth": 0,
             "ticks": ""
            },
            "colorscale": [
             [
              0,
              "#0d0887"
             ],
             [
              0.1111111111111111,
              "#46039f"
             ],
             [
              0.2222222222222222,
              "#7201a8"
             ],
             [
              0.3333333333333333,
              "#9c179e"
             ],
             [
              0.4444444444444444,
              "#bd3786"
             ],
             [
              0.5555555555555556,
              "#d8576b"
             ],
             [
              0.6666666666666666,
              "#ed7953"
             ],
             [
              0.7777777777777778,
              "#fb9f3a"
             ],
             [
              0.8888888888888888,
              "#fdca26"
             ],
             [
              1,
              "#f0f921"
             ]
            ],
            "type": "histogram2d"
           }
          ],
          "histogram2dcontour": [
           {
            "colorbar": {
             "outlinewidth": 0,
             "ticks": ""
            },
            "colorscale": [
             [
              0,
              "#0d0887"
             ],
             [
              0.1111111111111111,
              "#46039f"
             ],
             [
              0.2222222222222222,
              "#7201a8"
             ],
             [
              0.3333333333333333,
              "#9c179e"
             ],
             [
              0.4444444444444444,
              "#bd3786"
             ],
             [
              0.5555555555555556,
              "#d8576b"
             ],
             [
              0.6666666666666666,
              "#ed7953"
             ],
             [
              0.7777777777777778,
              "#fb9f3a"
             ],
             [
              0.8888888888888888,
              "#fdca26"
             ],
             [
              1,
              "#f0f921"
             ]
            ],
            "type": "histogram2dcontour"
           }
          ],
          "mesh3d": [
           {
            "colorbar": {
             "outlinewidth": 0,
             "ticks": ""
            },
            "type": "mesh3d"
           }
          ],
          "parcoords": [
           {
            "line": {
             "colorbar": {
              "outlinewidth": 0,
              "ticks": ""
             }
            },
            "type": "parcoords"
           }
          ],
          "pie": [
           {
            "automargin": true,
            "type": "pie"
           }
          ],
          "scatter": [
           {
            "marker": {
             "colorbar": {
              "outlinewidth": 0,
              "ticks": ""
             }
            },
            "type": "scatter"
           }
          ],
          "scatter3d": [
           {
            "line": {
             "colorbar": {
              "outlinewidth": 0,
              "ticks": ""
             }
            },
            "marker": {
             "colorbar": {
              "outlinewidth": 0,
              "ticks": ""
             }
            },
            "type": "scatter3d"
           }
          ],
          "scattercarpet": [
           {
            "marker": {
             "colorbar": {
              "outlinewidth": 0,
              "ticks": ""
             }
            },
            "type": "scattercarpet"
           }
          ],
          "scattergeo": [
           {
            "marker": {
             "colorbar": {
              "outlinewidth": 0,
              "ticks": ""
             }
            },
            "type": "scattergeo"
           }
          ],
          "scattergl": [
           {
            "marker": {
             "colorbar": {
              "outlinewidth": 0,
              "ticks": ""
             }
            },
            "type": "scattergl"
           }
          ],
          "scattermapbox": [
           {
            "marker": {
             "colorbar": {
              "outlinewidth": 0,
              "ticks": ""
             }
            },
            "type": "scattermapbox"
           }
          ],
          "scatterpolar": [
           {
            "marker": {
             "colorbar": {
              "outlinewidth": 0,
              "ticks": ""
             }
            },
            "type": "scatterpolar"
           }
          ],
          "scatterpolargl": [
           {
            "marker": {
             "colorbar": {
              "outlinewidth": 0,
              "ticks": ""
             }
            },
            "type": "scatterpolargl"
           }
          ],
          "scatterternary": [
           {
            "marker": {
             "colorbar": {
              "outlinewidth": 0,
              "ticks": ""
             }
            },
            "type": "scatterternary"
           }
          ],
          "surface": [
           {
            "colorbar": {
             "outlinewidth": 0,
             "ticks": ""
            },
            "colorscale": [
             [
              0,
              "#0d0887"
             ],
             [
              0.1111111111111111,
              "#46039f"
             ],
             [
              0.2222222222222222,
              "#7201a8"
             ],
             [
              0.3333333333333333,
              "#9c179e"
             ],
             [
              0.4444444444444444,
              "#bd3786"
             ],
             [
              0.5555555555555556,
              "#d8576b"
             ],
             [
              0.6666666666666666,
              "#ed7953"
             ],
             [
              0.7777777777777778,
              "#fb9f3a"
             ],
             [
              0.8888888888888888,
              "#fdca26"
             ],
             [
              1,
              "#f0f921"
             ]
            ],
            "type": "surface"
           }
          ],
          "table": [
           {
            "cells": {
             "fill": {
              "color": "#EBF0F8"
             },
             "line": {
              "color": "white"
             }
            },
            "header": {
             "fill": {
              "color": "#C8D4E3"
             },
             "line": {
              "color": "white"
             }
            },
            "type": "table"
           }
          ]
         },
         "layout": {
          "annotationdefaults": {
           "arrowcolor": "#2a3f5f",
           "arrowhead": 0,
           "arrowwidth": 1
          },
          "autotypenumbers": "strict",
          "coloraxis": {
           "colorbar": {
            "outlinewidth": 0,
            "ticks": ""
           }
          },
          "colorscale": {
           "diverging": [
            [
             0,
             "#8e0152"
            ],
            [
             0.1,
             "#c51b7d"
            ],
            [
             0.2,
             "#de77ae"
            ],
            [
             0.3,
             "#f1b6da"
            ],
            [
             0.4,
             "#fde0ef"
            ],
            [
             0.5,
             "#f7f7f7"
            ],
            [
             0.6,
             "#e6f5d0"
            ],
            [
             0.7,
             "#b8e186"
            ],
            [
             0.8,
             "#7fbc41"
            ],
            [
             0.9,
             "#4d9221"
            ],
            [
             1,
             "#276419"
            ]
           ],
           "sequential": [
            [
             0,
             "#0d0887"
            ],
            [
             0.1111111111111111,
             "#46039f"
            ],
            [
             0.2222222222222222,
             "#7201a8"
            ],
            [
             0.3333333333333333,
             "#9c179e"
            ],
            [
             0.4444444444444444,
             "#bd3786"
            ],
            [
             0.5555555555555556,
             "#d8576b"
            ],
            [
             0.6666666666666666,
             "#ed7953"
            ],
            [
             0.7777777777777778,
             "#fb9f3a"
            ],
            [
             0.8888888888888888,
             "#fdca26"
            ],
            [
             1,
             "#f0f921"
            ]
           ],
           "sequentialminus": [
            [
             0,
             "#0d0887"
            ],
            [
             0.1111111111111111,
             "#46039f"
            ],
            [
             0.2222222222222222,
             "#7201a8"
            ],
            [
             0.3333333333333333,
             "#9c179e"
            ],
            [
             0.4444444444444444,
             "#bd3786"
            ],
            [
             0.5555555555555556,
             "#d8576b"
            ],
            [
             0.6666666666666666,
             "#ed7953"
            ],
            [
             0.7777777777777778,
             "#fb9f3a"
            ],
            [
             0.8888888888888888,
             "#fdca26"
            ],
            [
             1,
             "#f0f921"
            ]
           ]
          },
          "colorway": [
           "#636efa",
           "#EF553B",
           "#00cc96",
           "#ab63fa",
           "#FFA15A",
           "#19d3f3",
           "#FF6692",
           "#B6E880",
           "#FF97FF",
           "#FECB52"
          ],
          "font": {
           "color": "#2a3f5f"
          },
          "geo": {
           "bgcolor": "white",
           "lakecolor": "white",
           "landcolor": "#E5ECF6",
           "showlakes": true,
           "showland": true,
           "subunitcolor": "white"
          },
          "hoverlabel": {
           "align": "left"
          },
          "hovermode": "closest",
          "mapbox": {
           "style": "light"
          },
          "paper_bgcolor": "white",
          "plot_bgcolor": "#E5ECF6",
          "polar": {
           "angularaxis": {
            "gridcolor": "white",
            "linecolor": "white",
            "ticks": ""
           },
           "bgcolor": "#E5ECF6",
           "radialaxis": {
            "gridcolor": "white",
            "linecolor": "white",
            "ticks": ""
           }
          },
          "scene": {
           "xaxis": {
            "backgroundcolor": "#E5ECF6",
            "gridcolor": "white",
            "gridwidth": 2,
            "linecolor": "white",
            "showbackground": true,
            "ticks": "",
            "zerolinecolor": "white"
           },
           "yaxis": {
            "backgroundcolor": "#E5ECF6",
            "gridcolor": "white",
            "gridwidth": 2,
            "linecolor": "white",
            "showbackground": true,
            "ticks": "",
            "zerolinecolor": "white"
           },
           "zaxis": {
            "backgroundcolor": "#E5ECF6",
            "gridcolor": "white",
            "gridwidth": 2,
            "linecolor": "white",
            "showbackground": true,
            "ticks": "",
            "zerolinecolor": "white"
           }
          },
          "shapedefaults": {
           "line": {
            "color": "#2a3f5f"
           }
          },
          "ternary": {
           "aaxis": {
            "gridcolor": "white",
            "linecolor": "white",
            "ticks": ""
           },
           "baxis": {
            "gridcolor": "white",
            "linecolor": "white",
            "ticks": ""
           },
           "bgcolor": "#E5ECF6",
           "caxis": {
            "gridcolor": "white",
            "linecolor": "white",
            "ticks": ""
           }
          },
          "title": {
           "x": 0.05
          },
          "xaxis": {
           "automargin": true,
           "gridcolor": "white",
           "linecolor": "white",
           "ticks": "",
           "title": {
            "standoff": 15
           },
           "zerolinecolor": "white",
           "zerolinewidth": 2
          },
          "yaxis": {
           "automargin": true,
           "gridcolor": "white",
           "linecolor": "white",
           "ticks": "",
           "title": {
            "standoff": 15
           },
           "zerolinecolor": "white",
           "zerolinewidth": 2
          }
         }
        },
        "title": {
         "text": "Hip-Hop/Rap Artists on Top Chart"
        },
        "xaxis": {
         "anchor": "y",
         "autorange": true,
         "domain": [
          0,
          1
         ],
         "range": [
          -0.5,
          49.5
         ],
         "title": {
          "text": "Artists"
         },
         "type": "category"
        },
        "yaxis": {
         "anchor": "x",
         "autorange": true,
         "domain": [
          0,
          1
         ],
         "range": [
          0,
          1.0526315789473684
         ],
         "title": {
          "text": "value"
         },
         "type": "linear"
        }
       }
      },
      "image/png": "[encoded data removed]",
      "text/html": [
       "<div>                            <div id=\"69309ab7-c5bc-4e82-8759-fe26f0666452\" class=\"plotly-graph-div\" style=\"height:800px; width:100%;\"></div>            <script type=\"text/javascript\">                require([\"plotly\"], function(Plotly) {                    window.PLOTLYENV=window.PLOTLYENV || {};                                    if (document.getElementById(\"69309ab7-c5bc-4e82-8759-fe26f0666452\")) {                    Plotly.newPlot(                        \"69309ab7-c5bc-4e82-8759-fe26f0666452\",                        [{\"alignmentgroup\":\"True\",\"hovertemplate\":\"Artists=%{x}<br>value=%{marker.color}<extra></extra>\",\"legendgroup\":\"\",\"marker\":{\"color\":[1,1,1,1,1,1,1,1,1,1,1,1,1,1,1,1,1,1,1,1,1,1,1,1,1,1,1,1,1,1,1,1,1,1,1,1,1,1,1,1,1,1,1,1,1,1,1,1,1,1],\"coloraxis\":\"coloraxis\",\"pattern\":{\"shape\":\"\"}},\"name\":\"\",\"offsetgroup\":\"\",\"orientation\":\"v\",\"showlegend\":false,\"textposition\":\"auto\",\"type\":\"bar\",\"x\":[\"Akon\",\"RAIKAHO\",\"Jul Feat. Morad\",\"Macklemore & Ryan Lewis Feat. Ray Dalton\",\"Rkomi & Elodie\",\"Eminem\",\"Ricky Rich & ARAM Mafia\",\"Blxst & Tyga Feat. Ty Dolla $ign\",\"Freddie Dredd\",\"Xcho\",\"CupcakKe\",\"Ninho\",\"Yung Lean\",\"Jnr Choi\",\"Flo Rida Feat. T-Pain\",\"Rae Sremmurd\",\"Drake Feat. WizKid & Kyla\",\"Drake Feat. 21 Savage & Project Pat\",\"SwitchOTR Feat. A1 x J1\",\"Moneybagg Yo\",\"Eminem Feat. Dido\",\"24kGoldn Feat. iann dior\",\"Siouxxie\",\"DVRST\",\"Harlem Spartans Feat. Bis & MizOrMac\",\"Tesher & Jason Derulo\",\"ZAPOMNI\",\"Kodak Black\",\"Lil Nas X & Jack Harlow\",\"FelixThe1st & Dreya Mac Feat. Finch Fetti\",\"JV.JARVIS\",\"K'naan Feat. Adam Levine\",\"bbno$ Feat. Rich Brian\",\"Kanye West\",\"Ruger\",\"Nicki Minaj Feat. Lil Wayne\",\"De La Soul\",\"Coolio Feat. L.V.\",\"Hensonn\",\"Kristina Si Feat. Mal\\u00e9na\",\"Post Malone & The Weeknd\",\"\\u0415\\u0436\\u0435\\u043c\\u0435\\u0441\\u044f\\u0447\\u043d\\u044b\\u0435\",\"Latto\",\"Moreart Feat. IHI\",\"Baby Keem Feat. Brent Faiyaz\",\"payton\",\"Masked Wolf\",\"Skylar Grey, Polo G, Mozzy & Eminem\",\"Tech N9ne, Joey Cool, King Iso & Dwayne Johnson\",\"Post Malone & Swae Lee\"],\"xaxis\":\"x\",\"y\":[1,1,1,1,1,1,1,1,1,1,1,1,1,1,1,1,1,1,1,1,1,1,1,1,1,1,1,1,1,1,1,1,1,1,1,1,1,1,1,1,1,1,1,1,1,1,1,1,1,1],\"yaxis\":\"y\"}],                        {\"barmode\":\"relative\",\"coloraxis\":{\"colorbar\":{\"title\":{\"text\":\"value\"}},\"colorscale\":[[0.0,\"rgb(255,0,0)\"],[1.0,\"rgb(0,0,255)\"]]},\"height\":800,\"legend\":{\"tracegroupgap\":0},\"template\":{\"data\":{\"bar\":[{\"error_x\":{\"color\":\"#2a3f5f\"},\"error_y\":{\"color\":\"#2a3f5f\"},\"marker\":{\"line\":{\"color\":\"#E5ECF6\",\"width\":0.5},\"pattern\":{\"fillmode\":\"overlay\",\"size\":10,\"solidity\":0.2}},\"type\":\"bar\"}],\"barpolar\":[{\"marker\":{\"line\":{\"color\":\"#E5ECF6\",\"width\":0.5},\"pattern\":{\"fillmode\":\"overlay\",\"size\":10,\"solidity\":0.2}},\"type\":\"barpolar\"}],\"carpet\":[{\"aaxis\":{\"endlinecolor\":\"#2a3f5f\",\"gridcolor\":\"white\",\"linecolor\":\"white\",\"minorgridcolor\":\"white\",\"startlinecolor\":\"#2a3f5f\"},\"baxis\":{\"endlinecolor\":\"#2a3f5f\",\"gridcolor\":\"white\",\"linecolor\":\"white\",\"minorgridcolor\":\"white\",\"startlinecolor\":\"#2a3f5f\"},\"type\":\"carpet\"}],\"choropleth\":[{\"colorbar\":{\"outlinewidth\":0,\"ticks\":\"\"},\"type\":\"choropleth\"}],\"contour\":[{\"colorbar\":{\"outlinewidth\":0,\"ticks\":\"\"},\"colorscale\":[[0.0,\"#0d0887\"],[0.1111111111111111,\"#46039f\"],[0.2222222222222222,\"#7201a8\"],[0.3333333333333333,\"#9c179e\"],[0.4444444444444444,\"#bd3786\"],[0.5555555555555556,\"#d8576b\"],[0.6666666666666666,\"#ed7953\"],[0.7777777777777778,\"#fb9f3a\"],[0.8888888888888888,\"#fdca26\"],[1.0,\"#f0f921\"]],\"type\":\"contour\"}],\"contourcarpet\":[{\"colorbar\":{\"outlinewidth\":0,\"ticks\":\"\"},\"type\":\"contourcarpet\"}],\"heatmap\":[{\"colorbar\":{\"outlinewidth\":0,\"ticks\":\"\"},\"colorscale\":[[0.0,\"#0d0887\"],[0.1111111111111111,\"#46039f\"],[0.2222222222222222,\"#7201a8\"],[0.3333333333333333,\"#9c179e\"],[0.4444444444444444,\"#bd3786\"],[0.5555555555555556,\"#d8576b\"],[0.6666666666666666,\"#ed7953\"],[0.7777777777777778,\"#fb9f3a\"],[0.8888888888888888,\"#fdca26\"],[1.0,\"#f0f921\"]],\"type\":\"heatmap\"}],\"heatmapgl\":[{\"colorbar\":{\"outlinewidth\":0,\"ticks\":\"\"},\"colorscale\":[[0.0,\"#0d0887\"],[0.1111111111111111,\"#46039f\"],[0.2222222222222222,\"#7201a8\"],[0.3333333333333333,\"#9c179e\"],[0.4444444444444444,\"#bd3786\"],[0.5555555555555556,\"#d8576b\"],[0.6666666666666666,\"#ed7953\"],[0.7777777777777778,\"#fb9f3a\"],[0.8888888888888888,\"#fdca26\"],[1.0,\"#f0f921\"]],\"type\":\"heatmapgl\"}],\"histogram\":[{\"marker\":{\"pattern\":{\"fillmode\":\"overlay\",\"size\":10,\"solidity\":0.2}},\"type\":\"histogram\"}],\"histogram2d\":[{\"colorbar\":{\"outlinewidth\":0,\"ticks\":\"\"},\"colorscale\":[[0.0,\"#0d0887\"],[0.1111111111111111,\"#46039f\"],[0.2222222222222222,\"#7201a8\"],[0.3333333333333333,\"#9c179e\"],[0.4444444444444444,\"#bd3786\"],[0.5555555555555556,\"#d8576b\"],[0.6666666666666666,\"#ed7953\"],[0.7777777777777778,\"#fb9f3a\"],[0.8888888888888888,\"#fdca26\"],[1.0,\"#f0f921\"]],\"type\":\"histogram2d\"}],\"histogram2dcontour\":[{\"colorbar\":{\"outlinewidth\":0,\"ticks\":\"\"},\"colorscale\":[[0.0,\"#0d0887\"],[0.1111111111111111,\"#46039f\"],[0.2222222222222222,\"#7201a8\"],[0.3333333333333333,\"#9c179e\"],[0.4444444444444444,\"#bd3786\"],[0.5555555555555556,\"#d8576b\"],[0.6666666666666666,\"#ed7953\"],[0.7777777777777778,\"#fb9f3a\"],[0.8888888888888888,\"#fdca26\"],[1.0,\"#f0f921\"]],\"type\":\"histogram2dcontour\"}],\"mesh3d\":[{\"colorbar\":{\"outlinewidth\":0,\"ticks\":\"\"},\"type\":\"mesh3d\"}],\"parcoords\":[{\"line\":{\"colorbar\":{\"outlinewidth\":0,\"ticks\":\"\"}},\"type\":\"parcoords\"}],\"pie\":[{\"automargin\":true,\"type\":\"pie\"}],\"scatter\":[{\"marker\":{\"colorbar\":{\"outlinewidth\":0,\"ticks\":\"\"}},\"type\":\"scatter\"}],\"scatter3d\":[{\"line\":{\"colorbar\":{\"outlinewidth\":0,\"ticks\":\"\"}},\"marker\":{\"colorbar\":{\"outlinewidth\":0,\"ticks\":\"\"}},\"type\":\"scatter3d\"}],\"scattercarpet\":[{\"marker\":{\"colorbar\":{\"outlinewidth\":0,\"ticks\":\"\"}},\"type\":\"scattercarpet\"}],\"scattergeo\":[{\"marker\":{\"colorbar\":{\"outlinewidth\":0,\"ticks\":\"\"}},\"type\":\"scattergeo\"}],\"scattergl\":[{\"marker\":{\"colorbar\":{\"outlinewidth\":0,\"ticks\":\"\"}},\"type\":\"scattergl\"}],\"scattermapbox\":[{\"marker\":{\"colorbar\":{\"outlinewidth\":0,\"ticks\":\"\"}},\"type\":\"scattermapbox\"}],\"scatterpolar\":[{\"marker\":{\"colorbar\":{\"outlinewidth\":0,\"ticks\":\"\"}},\"type\":\"scatterpolar\"}],\"scatterpolargl\":[{\"marker\":{\"colorbar\":{\"outlinewidth\":0,\"ticks\":\"\"}},\"type\":\"scatterpolargl\"}],\"scatterternary\":[{\"marker\":{\"colorbar\":{\"outlinewidth\":0,\"ticks\":\"\"}},\"type\":\"scatterternary\"}],\"surface\":[{\"colorbar\":{\"outlinewidth\":0,\"ticks\":\"\"},\"colorscale\":[[0.0,\"#0d0887\"],[0.1111111111111111,\"#46039f\"],[0.2222222222222222,\"#7201a8\"],[0.3333333333333333,\"#9c179e\"],[0.4444444444444444,\"#bd3786\"],[0.5555555555555556,\"#d8576b\"],[0.6666666666666666,\"#ed7953\"],[0.7777777777777778,\"#fb9f3a\"],[0.8888888888888888,\"#fdca26\"],[1.0,\"#f0f921\"]],\"type\":\"surface\"}],\"table\":[{\"cells\":{\"fill\":{\"color\":\"#EBF0F8\"},\"line\":{\"color\":\"white\"}},\"header\":{\"fill\":{\"color\":\"#C8D4E3\"},\"line\":{\"color\":\"white\"}},\"type\":\"table\"}]},\"layout\":{\"annotationdefaults\":{\"arrowcolor\":\"#2a3f5f\",\"arrowhead\":0,\"arrowwidth\":1},\"autotypenumbers\":\"strict\",\"coloraxis\":{\"colorbar\":{\"outlinewidth\":0,\"ticks\":\"\"}},\"colorscale\":{\"diverging\":[[0,\"#8e0152\"],[0.1,\"#c51b7d\"],[0.2,\"#de77ae\"],[0.3,\"#f1b6da\"],[0.4,\"#fde0ef\"],[0.5,\"#f7f7f7\"],[0.6,\"#e6f5d0\"],[0.7,\"#b8e186\"],[0.8,\"#7fbc41\"],[0.9,\"#4d9221\"],[1,\"#276419\"]],\"sequential\":[[0.0,\"#0d0887\"],[0.1111111111111111,\"#46039f\"],[0.2222222222222222,\"#7201a8\"],[0.3333333333333333,\"#9c179e\"],[0.4444444444444444,\"#bd3786\"],[0.5555555555555556,\"#d8576b\"],[0.6666666666666666,\"#ed7953\"],[0.7777777777777778,\"#fb9f3a\"],[0.8888888888888888,\"#fdca26\"],[1.0,\"#f0f921\"]],\"sequentialminus\":[[0.0,\"#0d0887\"],[0.1111111111111111,\"#46039f\"],[0.2222222222222222,\"#7201a8\"],[0.3333333333333333,\"#9c179e\"],[0.4444444444444444,\"#bd3786\"],[0.5555555555555556,\"#d8576b\"],[0.6666666666666666,\"#ed7953\"],[0.7777777777777778,\"#fb9f3a\"],[0.8888888888888888,\"#fdca26\"],[1.0,\"#f0f921\"]]},\"colorway\":[\"#636efa\",\"#EF553B\",\"#00cc96\",\"#ab63fa\",\"#FFA15A\",\"#19d3f3\",\"#FF6692\",\"#B6E880\",\"#FF97FF\",\"#FECB52\"],\"font\":{\"color\":\"#2a3f5f\"},\"geo\":{\"bgcolor\":\"white\",\"lakecolor\":\"white\",\"landcolor\":\"#E5ECF6\",\"showlakes\":true,\"showland\":true,\"subunitcolor\":\"white\"},\"hoverlabel\":{\"align\":\"left\"},\"hovermode\":\"closest\",\"mapbox\":{\"style\":\"light\"},\"paper_bgcolor\":\"white\",\"plot_bgcolor\":\"#E5ECF6\",\"polar\":{\"angularaxis\":{\"gridcolor\":\"white\",\"linecolor\":\"white\",\"ticks\":\"\"},\"bgcolor\":\"#E5ECF6\",\"radialaxis\":{\"gridcolor\":\"white\",\"linecolor\":\"white\",\"ticks\":\"\"}},\"scene\":{\"xaxis\":{\"backgroundcolor\":\"#E5ECF6\",\"gridcolor\":\"white\",\"gridwidth\":2,\"linecolor\":\"white\",\"showbackground\":true,\"ticks\":\"\",\"zerolinecolor\":\"white\"},\"yaxis\":{\"backgroundcolor\":\"#E5ECF6\",\"gridcolor\":\"white\",\"gridwidth\":2,\"linecolor\":\"white\",\"showbackground\":true,\"ticks\":\"\",\"zerolinecolor\":\"white\"},\"zaxis\":{\"backgroundcolor\":\"#E5ECF6\",\"gridcolor\":\"white\",\"gridwidth\":2,\"linecolor\":\"white\",\"showbackground\":true,\"ticks\":\"\",\"zerolinecolor\":\"white\"}},\"shapedefaults\":{\"line\":{\"color\":\"#2a3f5f\"}},\"ternary\":{\"aaxis\":{\"gridcolor\":\"white\",\"linecolor\":\"white\",\"ticks\":\"\"},\"baxis\":{\"gridcolor\":\"white\",\"linecolor\":\"white\",\"ticks\":\"\"},\"bgcolor\":\"#E5ECF6\",\"caxis\":{\"gridcolor\":\"white\",\"linecolor\":\"white\",\"ticks\":\"\"}},\"title\":{\"x\":0.05},\"xaxis\":{\"automargin\":true,\"gridcolor\":\"white\",\"linecolor\":\"white\",\"ticks\":\"\",\"title\":{\"standoff\":15},\"zerolinecolor\":\"white\",\"zerolinewidth\":2},\"yaxis\":{\"automargin\":true,\"gridcolor\":\"white\",\"linecolor\":\"white\",\"ticks\":\"\",\"title\":{\"standoff\":15},\"zerolinecolor\":\"white\",\"zerolinewidth\":2}}},\"title\":{\"text\":\"Hip-Hop/Rap Artists on Top Chart\"},\"xaxis\":{\"anchor\":\"y\",\"domain\":[0.0,1.0],\"title\":{\"text\":\"Artists\"}},\"yaxis\":{\"anchor\":\"x\",\"domain\":[0.0,1.0],\"title\":{\"text\":\"value\"}}},                        {\"responsive\": true}                    ).then(function(){\n",
       "                            \n",
       "var gd = document.getElementById('69309ab7-c5bc-4e82-8759-fe26f0666452');\n",
       "var x = new MutationObserver(function (mutations, observer) {{\n",
       "        var display = window.getComputedStyle(gd).display;\n",
       "        if (!display || display === 'none') {{\n",
       "            console.log([gd, 'removed!']);\n",
       "            Plotly.purge(gd);\n",
       "            observer.disconnect();\n",
       "        }}\n",
       "}});\n",
       "\n",
       "// Listen for the removal of the full notebook cells\n",
       "var notebookContainer = gd.closest('#notebook-container');\n",
       "if (notebookContainer) {{\n",
       "    x.observe(notebookContainer, {childList: true});\n",
       "}}\n",
       "\n",
       "// Listen for the clearing of the current output cell\n",
       "var outputEl = gd.closest('.output');\n",
       "if (outputEl) {{\n",
       "    x.observe(outputEl, {childList: true});\n",
       "}}\n",
       "\n",
       "                        })                };                });            </script>        </div>"
      ]
     },
     "metadata": {},
     "output_type": "display_data"
    }
   ],
   "source": [
    "# Look at the data\n",
    "\n",
    "# from collections import Counter\n",
    "\n",
    "artists_list = list(chart_songs.Artists)\n",
    "artist_counts = {artist: artists_list.count(artist) for artist in artists_list} #dict with frequency of artist in top chart\n",
    "\n",
    "artists_df = pd.DataFrame(list(artist_counts.items()),columns = ['Artists','No. Songs in Top Chart']).set_index('Artists')\n",
    "artists_df.sort_values(by = 'No. Songs in Top Chart', ascending=False, inplace=True) #sort values\n",
    "\n",
    "fig2 = px.bar(\n",
    "    artists_df,\n",
    "    color = \"value\",\n",
    "    color_continuous_scale='Bluered_r',\n",
    "    title = 'Hip-Hop/Rap Artists on Top Chart',\n",
    "    height = 800\n",
    ")\n",
    "fig2.show()\n"
   ]
  },
  {
   "cell_type": "code",
   "execution_count": 9,
   "id": "acc39fad-e063-4ae3-87e6-945744f17082",
   "metadata": {},
   "outputs": [],
   "source": [
    "# Retrieve Lyrics for all TrackIDs\n",
    "\n",
    "track_ids  # the list created in \"Search for top songs in Genre\" section is required\n",
    "\n",
    "lyrics=[]\n",
    "\n",
    "for trackID in track_ids:\n",
    "    querystring = {\"track_id\":trackID}\n",
    "    track_details_response = get_lyrics(querystring)\n",
    "\n",
    "    if track_details_response['sections'][1]['type'] != \"LYRICS\":  # Note: tracks with a type != \"LYRICS\" don't contain lyrics\n",
    "        lyrics.append([''])\n",
    "    else:\n",
    "        track_lyrics = track_details_response['sections'][1]['text']\n",
    "        lyrics.append(track_lyrics)"
   ]
  },
  {
   "cell_type": "code",
   "execution_count": 10,
   "id": "4105ea26-eb20-435e-9b08-43bd2b256ef1",
   "metadata": {},
   "outputs": [
    {
     "data": {
      "text/html": [
       "<div>\n",
       "<style scoped>\n",
       "    .dataframe tbody tr th:only-of-type {\n",
       "        vertical-align: middle;\n",
       "    }\n",
       "\n",
       "    .dataframe tbody tr th {\n",
       "        vertical-align: top;\n",
       "    }\n",
       "\n",
       "    .dataframe thead th {\n",
       "        text-align: right;\n",
       "    }\n",
       "</style>\n",
       "<table border=\"1\" class=\"dataframe\">\n",
       "  <thead>\n",
       "    <tr style=\"text-align: right;\">\n",
       "      <th></th>\n",
       "      <th>Track Name</th>\n",
       "      <th>Artists</th>\n",
       "      <th>Lyrics</th>\n",
       "    </tr>\n",
       "  </thead>\n",
       "  <tbody>\n",
       "    <tr>\n",
       "      <th>41264695</th>\n",
       "      <td>Bananza (Belly Dancer)</td>\n",
       "      <td>Akon</td>\n",
       "      <td>Hey, ladies drop it down Just want to see you ...</td>\n",
       "    </tr>\n",
       "    <tr>\n",
       "      <th>590362040</th>\n",
       "      <td>TO THE MOON</td>\n",
       "      <td>Jnr Choi</td>\n",
       "      <td>Pull up the ting gon' turn up Pull up the ting...</td>\n",
       "    </tr>\n",
       "    <tr>\n",
       "      <th>578340247</th>\n",
       "      <td>INDUSTRY BABY</td>\n",
       "      <td>Lil Nas X &amp; Jack Harlow</td>\n",
       "      <td>D-D-Daytrip took it to ten (hey)  Baby back, a...</td>\n",
       "    </tr>\n",
       "    <tr>\n",
       "      <th>579792092</th>\n",
       "      <td>Own Brand Freestyle</td>\n",
       "      <td>FelixThe1st &amp; Dreya Mac Feat. Finch Fetti</td>\n",
       "      <td>Little niggas really wan' at me (at me) Lockdo...</td>\n",
       "    </tr>\n",
       "    <tr>\n",
       "      <th>565785367</th>\n",
       "      <td>น้ำแดงน้ำส้ม</td>\n",
       "      <td>JV.JARVIS</td>\n",
       "      <td>คัมซามิดา สวัสดีค้าบ ในกระเป๋าไม่มียา ชอบไปรัช...</td>\n",
       "    </tr>\n",
       "  </tbody>\n",
       "</table>\n",
       "</div>"
      ],
      "text/plain": [
       "                       Track Name                                    Artists  \\\n",
       "41264695   Bananza (Belly Dancer)                                       Akon   \n",
       "590362040             TO THE MOON                                   Jnr Choi   \n",
       "578340247           INDUSTRY BABY                    Lil Nas X & Jack Harlow   \n",
       "579792092     Own Brand Freestyle  FelixThe1st & Dreya Mac Feat. Finch Fetti   \n",
       "565785367            น้ำแดงน้ำส้ม                                  JV.JARVIS   \n",
       "\n",
       "                                                      Lyrics  \n",
       "41264695   Hey, ladies drop it down Just want to see you ...  \n",
       "590362040  Pull up the ting gon' turn up Pull up the ting...  \n",
       "578340247  D-D-Daytrip took it to ten (hey)  Baby back, a...  \n",
       "579792092  Little niggas really wan' at me (at me) Lockdo...  \n",
       "565785367  คัมซามิดา สวัสดีค้าบ ในกระเป๋าไม่มียา ชอบไปรัช...  "
      ]
     },
     "execution_count": 10,
     "metadata": {},
     "output_type": "execute_result"
    }
   ],
   "source": [
    "# Add lyrics column to dataframe with chart songs\n",
    "\n",
    "all_lyrics = pd.Series(\" \".join(map(str,song)) for song in lyrics) #each song is stored as a list, this turns each list into a string\n",
    "all_lyrics_df = pd.DataFrame({\"Lyrics\": all_lyrics, \"Track IDs\": track_ids}).set_index('Track IDs')\n",
    "\n",
    "lyrics_df = pd.concat([chart_songs, all_lyrics_df], axis=1)\n",
    "lyrics_df.head(5)"
   ]
  },
  {
   "cell_type": "code",
   "execution_count": 11,
   "id": "76cd0512-8130-432d-b715-486f5b3dbb0b",
   "metadata": {},
   "outputs": [
    {
     "data": {
      "text/html": [
       "<div>\n",
       "<style scoped>\n",
       "    .dataframe tbody tr th:only-of-type {\n",
       "        vertical-align: middle;\n",
       "    }\n",
       "\n",
       "    .dataframe tbody tr th {\n",
       "        vertical-align: top;\n",
       "    }\n",
       "\n",
       "    .dataframe thead th {\n",
       "        text-align: right;\n",
       "    }\n",
       "</style>\n",
       "<table border=\"1\" class=\"dataframe\">\n",
       "  <thead>\n",
       "    <tr style=\"text-align: right;\">\n",
       "      <th></th>\n",
       "      <th>Track Name</th>\n",
       "      <th>Artists</th>\n",
       "      <th>Lyrics</th>\n",
       "    </tr>\n",
       "  </thead>\n",
       "  <tbody>\n",
       "    <tr>\n",
       "      <th>41264695</th>\n",
       "      <td>Bananza (Belly Dancer)</td>\n",
       "      <td>Akon</td>\n",
       "      <td>Hey, ladies drop it down Just want to see you ...</td>\n",
       "    </tr>\n",
       "    <tr>\n",
       "      <th>590362040</th>\n",
       "      <td>TO THE MOON</td>\n",
       "      <td>Jnr Choi</td>\n",
       "      <td>Pull up the ting gon' turn up Pull up the ting...</td>\n",
       "    </tr>\n",
       "    <tr>\n",
       "      <th>578340247</th>\n",
       "      <td>INDUSTRY BABY</td>\n",
       "      <td>Lil Nas X &amp; Jack Harlow</td>\n",
       "      <td>D-D-Daytrip took it to ten (hey)  Baby back, a...</td>\n",
       "    </tr>\n",
       "    <tr>\n",
       "      <th>579792092</th>\n",
       "      <td>Own Brand Freestyle</td>\n",
       "      <td>FelixThe1st &amp; Dreya Mac Feat. Finch Fetti</td>\n",
       "      <td>Little niggas really wan' at me (at me) Lockdo...</td>\n",
       "    </tr>\n",
       "    <tr>\n",
       "      <th>565785367</th>\n",
       "      <td>น้ำแดงน้ำส้ม</td>\n",
       "      <td>JV.JARVIS</td>\n",
       "      <td>คัมซามิดา สวัสดีค้าบ ในกระเป๋าไม่มียา ชอบไปรัช...</td>\n",
       "    </tr>\n",
       "    <tr>\n",
       "      <th>52510207</th>\n",
       "      <td>Bang Bang</td>\n",
       "      <td>K'naan Feat. Adam Levine</td>\n",
       "      <td>She shot me, she shot me Bang, bang... she sho...</td>\n",
       "    </tr>\n",
       "    <tr>\n",
       "      <th>577235374</th>\n",
       "      <td>edamame</td>\n",
       "      <td>bbno$ Feat. Rich Brian</td>\n",
       "      <td>Balls hanging low while I pop a bottle off a y...</td>\n",
       "    </tr>\n",
       "    <tr>\n",
       "      <th>578737070</th>\n",
       "      <td>Praise God</td>\n",
       "      <td>Kanye West</td>\n",
       "      <td>That she wrote, Speech to the Young: Speech to...</td>\n",
       "    </tr>\n",
       "    <tr>\n",
       "      <th>591239041</th>\n",
       "      <td>Dior</td>\n",
       "      <td>Ruger</td>\n",
       "      <td>Hmm, oh-yeah-oh  Bad man lookin' good in Dior ...</td>\n",
       "    </tr>\n",
       "    <tr>\n",
       "      <th>74992451</th>\n",
       "      <td>High School</td>\n",
       "      <td>Nicki Minaj Feat. Lil Wayne</td>\n",
       "      <td>He said he came from Jamaica He owned a couple...</td>\n",
       "    </tr>\n",
       "    <tr>\n",
       "      <th>6021080</th>\n",
       "      <td>The Magic Number</td>\n",
       "      <td>De La Soul</td>\n",
       "      <td></td>\n",
       "    </tr>\n",
       "    <tr>\n",
       "      <th>20056730</th>\n",
       "      <td>Gangsta's Paradise</td>\n",
       "      <td>Coolio Feat. L.V.</td>\n",
       "      <td>As I walk through the valley of the shadow of ...</td>\n",
       "    </tr>\n",
       "    <tr>\n",
       "      <th>594563183</th>\n",
       "      <td>Sahara</td>\n",
       "      <td>Hensonn</td>\n",
       "      <td></td>\n",
       "    </tr>\n",
       "    <tr>\n",
       "      <th>594606167</th>\n",
       "      <td>Chem Haskanum</td>\n",
       "      <td>Kristina Si Feat. Maléna</td>\n",
       "      <td>Ահ չեմ հասկանում ինչ ա կատարվում իմ գլխում Չեմ...</td>\n",
       "    </tr>\n",
       "    <tr>\n",
       "      <th>590487170</th>\n",
       "      <td>One Right Now</td>\n",
       "      <td>Post Malone &amp; The Weeknd</td>\n",
       "      <td>Na-na-na-na, na-na Na-na-na-na, oh no Yeah, ye...</td>\n",
       "    </tr>\n",
       "    <tr>\n",
       "      <th>370801349</th>\n",
       "      <td>Только по дури</td>\n",
       "      <td>Ежемесячные</td>\n",
       "      <td>Мой друг МС бомбил только легально и курил тол...</td>\n",
       "    </tr>\n",
       "    <tr>\n",
       "      <th>584725728</th>\n",
       "      <td>Big Energy</td>\n",
       "      <td>Latto</td>\n",
       "      <td>Got that real big energy Got that real big ene...</td>\n",
       "    </tr>\n",
       "    <tr>\n",
       "      <th>545851877</th>\n",
       "      <td>Я буду ***ть</td>\n",
       "      <td>Moreart Feat. IHI</td>\n",
       "      <td></td>\n",
       "    </tr>\n",
       "    <tr>\n",
       "      <th>585881868</th>\n",
       "      <td>lost souls</td>\n",
       "      <td>Baby Keem Feat. Brent Faiyaz</td>\n",
       "      <td>It's a lot of hoes in here, lot of lost souls ...</td>\n",
       "    </tr>\n",
       "    <tr>\n",
       "      <th>587443428</th>\n",
       "      <td>RICH BOY</td>\n",
       "      <td>payton</td>\n",
       "      <td>Like oh, my God, you need a rich boy To give y...</td>\n",
       "    </tr>\n",
       "    <tr>\n",
       "      <th>469270443</th>\n",
       "      <td>Astronaut In The Ocean</td>\n",
       "      <td>Masked Wolf</td>\n",
       "      <td>Astro-naut  What you know about rollin' down i...</td>\n",
       "    </tr>\n",
       "    <tr>\n",
       "      <th>586574460</th>\n",
       "      <td>Last One Standing (From Venom: Let There Be Ca...</td>\n",
       "      <td>Skylar Grey, Polo G, Mozzy &amp; Eminem</td>\n",
       "      <td></td>\n",
       "    </tr>\n",
       "    <tr>\n",
       "      <th>585735678</th>\n",
       "      <td>Face Off</td>\n",
       "      <td>Tech N9ne, Joey Cool, King Iso &amp; Dwayne Johnson</td>\n",
       "      <td>Rumble, they gon' take yo' face off  Spirit of...</td>\n",
       "    </tr>\n",
       "    <tr>\n",
       "      <th>590325377</th>\n",
       "      <td>Super Gremlin</td>\n",
       "      <td>Kodak Black</td>\n",
       "      <td>Yeah, we could be superstars We been rather wr...</td>\n",
       "    </tr>\n",
       "    <tr>\n",
       "      <th>594161539</th>\n",
       "      <td>Кожура</td>\n",
       "      <td>ZAPOMNI</td>\n",
       "      <td>Я со своей д*ри, тебя поцелую Как только докур...</td>\n",
       "    </tr>\n",
       "    <tr>\n",
       "      <th>570961310</th>\n",
       "      <td>Jalebi Baby</td>\n",
       "      <td>Tesher &amp; Jason Derulo</td>\n",
       "      <td></td>\n",
       "    </tr>\n",
       "    <tr>\n",
       "      <th>549013191</th>\n",
       "      <td>Mad About Bars</td>\n",
       "      <td>Harlem Spartans Feat. Bis &amp; MizOrMac</td>\n",
       "      <td></td>\n",
       "    </tr>\n",
       "    <tr>\n",
       "      <th>595827195</th>\n",
       "      <td>La street</td>\n",
       "      <td>Jul Feat. Morad</td>\n",
       "      <td>Leur seul souhait, c'est que j'arrête Que je s...</td>\n",
       "    </tr>\n",
       "    <tr>\n",
       "      <th>53754394</th>\n",
       "      <td>Can't Hold Us</td>\n",
       "      <td>Macklemore &amp; Ryan Lewis Feat. Ray Dalton</td>\n",
       "      <td>Return of the Mack Get 'em, what it is, what i...</td>\n",
       "    </tr>\n",
       "    <tr>\n",
       "      <th>594233500</th>\n",
       "      <td>LA CODA DEL DIAVOLO</td>\n",
       "      <td>Rkomi &amp; Elodie</td>\n",
       "      <td>Quando la notte mi scappo dalle mani, ma tu mi...</td>\n",
       "    </tr>\n",
       "    <tr>\n",
       "      <th>54428397</th>\n",
       "      <td>Without Me</td>\n",
       "      <td>Eminem</td>\n",
       "      <td>Obie Trice, real name no gimmicks  Two trailer...</td>\n",
       "    </tr>\n",
       "    <tr>\n",
       "      <th>375485107</th>\n",
       "      <td>Habibi</td>\n",
       "      <td>Ricky Rich &amp; ARAM Mafia</td>\n",
       "      <td>Yeah, yeah, yeah Aha, aha, habibi, Rick-, Ri-,...</td>\n",
       "    </tr>\n",
       "    <tr>\n",
       "      <th>542990923</th>\n",
       "      <td>Chosen</td>\n",
       "      <td>Blxst &amp; Tyga Feat. Ty Dolla $ign</td>\n",
       "      <td>Ay, when it come to you (sheesh) Pistol I bust...</td>\n",
       "    </tr>\n",
       "    <tr>\n",
       "      <th>468735448</th>\n",
       "      <td>All Alone</td>\n",
       "      <td>Freddie Dredd</td>\n",
       "      <td>Don't act like you don't know Big Narstie said...</td>\n",
       "    </tr>\n",
       "    <tr>\n",
       "      <th>594403685</th>\n",
       "      <td>Эскизы</td>\n",
       "      <td>Xcho</td>\n",
       "      <td>О-о-о, твоя красота  Рисовал эскизы Помнишь ты...</td>\n",
       "    </tr>\n",
       "    <tr>\n",
       "      <th>345849081</th>\n",
       "      <td>Cpr</td>\n",
       "      <td>CupcakKe</td>\n",
       "      <td>Um, dois, três, quatro  No quick head in my be...</td>\n",
       "    </tr>\n",
       "    <tr>\n",
       "      <th>594732573</th>\n",
       "      <td>Jefe</td>\n",
       "      <td>Ninho</td>\n",
       "      <td>J'ai toujours rêvé d'être dans l'top sourd, fa...</td>\n",
       "    </tr>\n",
       "    <tr>\n",
       "      <th>597094911</th>\n",
       "      <td>Летит патруль (by Atlanta)</td>\n",
       "      <td>RAIKAHO</td>\n",
       "      <td></td>\n",
       "    </tr>\n",
       "    <tr>\n",
       "      <th>104382921</th>\n",
       "      <td>Ginseng Strip 2002</td>\n",
       "      <td>Yung Lean</td>\n",
       "      <td>2003 Arizona Iced-Out Boys Yung Leandoer, shaw...</td>\n",
       "    </tr>\n",
       "    <tr>\n",
       "      <th>45235145</th>\n",
       "      <td>Low</td>\n",
       "      <td>Flo Rida Feat. T-Pain</td>\n",
       "      <td>Mm-mm-mm-mm Let me talk to 'em Let me talk to ...</td>\n",
       "    </tr>\n",
       "    <tr>\n",
       "      <th>217450814</th>\n",
       "      <td>This Could Be Us</td>\n",
       "      <td>Rae Sremmurd</td>\n",
       "      <td>Na-na-na-na (Hey) I heard it before SremmLife!...</td>\n",
       "    </tr>\n",
       "    <tr>\n",
       "      <th>315646975</th>\n",
       "      <td>One Dance</td>\n",
       "      <td>Drake Feat. WizKid &amp; Kyla</td>\n",
       "      <td>Baby I like your style  Grips on your waist Fr...</td>\n",
       "    </tr>\n",
       "    <tr>\n",
       "      <th>583860081</th>\n",
       "      <td>Knife Talk [Mixed]</td>\n",
       "      <td>Drake Feat. 21 Savage &amp; Project Pat</td>\n",
       "      <td></td>\n",
       "    </tr>\n",
       "    <tr>\n",
       "      <th>590003456</th>\n",
       "      <td>Coming for You</td>\n",
       "      <td>SwitchOTR Feat. A1 x J1</td>\n",
       "      <td>(Your wild heart will live for younger days) (...</td>\n",
       "    </tr>\n",
       "    <tr>\n",
       "      <th>589156695</th>\n",
       "      <td>Scorpio</td>\n",
       "      <td>Moneybagg Yo</td>\n",
       "      <td>Bein' played, how's it goin' down? (All I want...</td>\n",
       "    </tr>\n",
       "    <tr>\n",
       "      <th>220791</th>\n",
       "      <td>Stan</td>\n",
       "      <td>Eminem Feat. Dido</td>\n",
       "      <td>My tea's gone cold, I'm wondering why I got ou...</td>\n",
       "    </tr>\n",
       "    <tr>\n",
       "      <th>529722332</th>\n",
       "      <td>Mood</td>\n",
       "      <td>24kGoldn Feat. iann dior</td>\n",
       "      <td>Oh-oh-oh Yeah, yeah, yeah, yeah (yeah)  Why yo...</td>\n",
       "    </tr>\n",
       "    <tr>\n",
       "      <th>532428553</th>\n",
       "      <td>Masquerade</td>\n",
       "      <td>Siouxxie</td>\n",
       "      <td>You're now listening to Camp Vamps Radio, bitc...</td>\n",
       "    </tr>\n",
       "    <tr>\n",
       "      <th>571888639</th>\n",
       "      <td>Close Eyes</td>\n",
       "      <td>DVRST</td>\n",
       "      <td>This shit contagious, doin' dope Doin' dope Th...</td>\n",
       "    </tr>\n",
       "    <tr>\n",
       "      <th>442173657</th>\n",
       "      <td>Sunflower (Spider-Man: Into The Spider-Verse)</td>\n",
       "      <td>Post Malone &amp; Swae Lee</td>\n",
       "      <td>Ayy, ayy, ayy, ayy (ooh) Ooh, ooh, ooh, ooh (o...</td>\n",
       "    </tr>\n",
       "  </tbody>\n",
       "</table>\n",
       "</div>"
      ],
      "text/plain": [
       "                                                  Track Name  \\\n",
       "41264695                              Bananza (Belly Dancer)   \n",
       "590362040                                        TO THE MOON   \n",
       "578340247                                      INDUSTRY BABY   \n",
       "579792092                                Own Brand Freestyle   \n",
       "565785367                                       น้ำแดงน้ำส้ม   \n",
       "52510207                                           Bang Bang   \n",
       "577235374                                            edamame   \n",
       "578737070                                         Praise God   \n",
       "591239041                                               Dior   \n",
       "74992451                                         High School   \n",
       "6021080                                     The Magic Number   \n",
       "20056730                                  Gangsta's Paradise   \n",
       "594563183                                             Sahara   \n",
       "594606167                                      Chem Haskanum   \n",
       "590487170                                      One Right Now   \n",
       "370801349                                     Только по дури   \n",
       "584725728                                         Big Energy   \n",
       "545851877                                       Я буду ***ть   \n",
       "585881868                                         lost souls   \n",
       "587443428                                           RICH BOY   \n",
       "469270443                             Astronaut In The Ocean   \n",
       "586574460  Last One Standing (From Venom: Let There Be Ca...   \n",
       "585735678                                           Face Off   \n",
       "590325377                                      Super Gremlin   \n",
       "594161539                                             Кожура   \n",
       "570961310                                        Jalebi Baby   \n",
       "549013191                                     Mad About Bars   \n",
       "595827195                                          La street   \n",
       "53754394                                       Can't Hold Us   \n",
       "594233500                                LA CODA DEL DIAVOLO   \n",
       "54428397                                          Without Me   \n",
       "375485107                                             Habibi   \n",
       "542990923                                             Chosen   \n",
       "468735448                                          All Alone   \n",
       "594403685                                             Эскизы   \n",
       "345849081                                                Cpr   \n",
       "594732573                                               Jefe   \n",
       "597094911                         Летит патруль (by Atlanta)   \n",
       "104382921                                 Ginseng Strip 2002   \n",
       "45235145                                                 Low   \n",
       "217450814                                   This Could Be Us   \n",
       "315646975                                          One Dance   \n",
       "583860081                                 Knife Talk [Mixed]   \n",
       "590003456                                     Coming for You   \n",
       "589156695                                            Scorpio   \n",
       "220791                                                  Stan   \n",
       "529722332                                               Mood   \n",
       "532428553                                         Masquerade   \n",
       "571888639                                         Close Eyes   \n",
       "442173657      Sunflower (Spider-Man: Into The Spider-Verse)   \n",
       "\n",
       "                                                   Artists  \\\n",
       "41264695                                              Akon   \n",
       "590362040                                         Jnr Choi   \n",
       "578340247                          Lil Nas X & Jack Harlow   \n",
       "579792092        FelixThe1st & Dreya Mac Feat. Finch Fetti   \n",
       "565785367                                        JV.JARVIS   \n",
       "52510207                          K'naan Feat. Adam Levine   \n",
       "577235374                           bbno$ Feat. Rich Brian   \n",
       "578737070                                       Kanye West   \n",
       "591239041                                            Ruger   \n",
       "74992451                       Nicki Minaj Feat. Lil Wayne   \n",
       "6021080                                         De La Soul   \n",
       "20056730                                 Coolio Feat. L.V.   \n",
       "594563183                                          Hensonn   \n",
       "594606167                         Kristina Si Feat. Maléna   \n",
       "590487170                         Post Malone & The Weeknd   \n",
       "370801349                                      Ежемесячные   \n",
       "584725728                                            Latto   \n",
       "545851877                                Moreart Feat. IHI   \n",
       "585881868                     Baby Keem Feat. Brent Faiyaz   \n",
       "587443428                                           payton   \n",
       "469270443                                      Masked Wolf   \n",
       "586574460              Skylar Grey, Polo G, Mozzy & Eminem   \n",
       "585735678  Tech N9ne, Joey Cool, King Iso & Dwayne Johnson   \n",
       "590325377                                      Kodak Black   \n",
       "594161539                                          ZAPOMNI   \n",
       "570961310                            Tesher & Jason Derulo   \n",
       "549013191             Harlem Spartans Feat. Bis & MizOrMac   \n",
       "595827195                                  Jul Feat. Morad   \n",
       "53754394          Macklemore & Ryan Lewis Feat. Ray Dalton   \n",
       "594233500                                   Rkomi & Elodie   \n",
       "54428397                                            Eminem   \n",
       "375485107                          Ricky Rich & ARAM Mafia   \n",
       "542990923                 Blxst & Tyga Feat. Ty Dolla $ign   \n",
       "468735448                                    Freddie Dredd   \n",
       "594403685                                             Xcho   \n",
       "345849081                                         CupcakKe   \n",
       "594732573                                            Ninho   \n",
       "597094911                                          RAIKAHO   \n",
       "104382921                                        Yung Lean   \n",
       "45235145                             Flo Rida Feat. T-Pain   \n",
       "217450814                                     Rae Sremmurd   \n",
       "315646975                        Drake Feat. WizKid & Kyla   \n",
       "583860081              Drake Feat. 21 Savage & Project Pat   \n",
       "590003456                          SwitchOTR Feat. A1 x J1   \n",
       "589156695                                     Moneybagg Yo   \n",
       "220791                                   Eminem Feat. Dido   \n",
       "529722332                         24kGoldn Feat. iann dior   \n",
       "532428553                                         Siouxxie   \n",
       "571888639                                            DVRST   \n",
       "442173657                           Post Malone & Swae Lee   \n",
       "\n",
       "                                                      Lyrics  \n",
       "41264695   Hey, ladies drop it down Just want to see you ...  \n",
       "590362040  Pull up the ting gon' turn up Pull up the ting...  \n",
       "578340247  D-D-Daytrip took it to ten (hey)  Baby back, a...  \n",
       "579792092  Little niggas really wan' at me (at me) Lockdo...  \n",
       "565785367  คัมซามิดา สวัสดีค้าบ ในกระเป๋าไม่มียา ชอบไปรัช...  \n",
       "52510207   She shot me, she shot me Bang, bang... she sho...  \n",
       "577235374  Balls hanging low while I pop a bottle off a y...  \n",
       "578737070  That she wrote, Speech to the Young: Speech to...  \n",
       "591239041  Hmm, oh-yeah-oh  Bad man lookin' good in Dior ...  \n",
       "74992451   He said he came from Jamaica He owned a couple...  \n",
       "6021080                                                       \n",
       "20056730   As I walk through the valley of the shadow of ...  \n",
       "594563183                                                     \n",
       "594606167  Ահ չեմ հասկանում ինչ ա կատարվում իմ գլխում Չեմ...  \n",
       "590487170  Na-na-na-na, na-na Na-na-na-na, oh no Yeah, ye...  \n",
       "370801349  Мой друг МС бомбил только легально и курил тол...  \n",
       "584725728  Got that real big energy Got that real big ene...  \n",
       "545851877                                                     \n",
       "585881868  It's a lot of hoes in here, lot of lost souls ...  \n",
       "587443428  Like oh, my God, you need a rich boy To give y...  \n",
       "469270443  Astro-naut  What you know about rollin' down i...  \n",
       "586574460                                                     \n",
       "585735678  Rumble, they gon' take yo' face off  Spirit of...  \n",
       "590325377  Yeah, we could be superstars We been rather wr...  \n",
       "594161539  Я со своей д*ри, тебя поцелую Как только докур...  \n",
       "570961310                                                     \n",
       "549013191                                                     \n",
       "595827195  Leur seul souhait, c'est que j'arrête Que je s...  \n",
       "53754394   Return of the Mack Get 'em, what it is, what i...  \n",
       "594233500  Quando la notte mi scappo dalle mani, ma tu mi...  \n",
       "54428397   Obie Trice, real name no gimmicks  Two trailer...  \n",
       "375485107  Yeah, yeah, yeah Aha, aha, habibi, Rick-, Ri-,...  \n",
       "542990923  Ay, when it come to you (sheesh) Pistol I bust...  \n",
       "468735448  Don't act like you don't know Big Narstie said...  \n",
       "594403685  О-о-о, твоя красота  Рисовал эскизы Помнишь ты...  \n",
       "345849081  Um, dois, três, quatro  No quick head in my be...  \n",
       "594732573  J'ai toujours rêvé d'être dans l'top sourd, fa...  \n",
       "597094911                                                     \n",
       "104382921  2003 Arizona Iced-Out Boys Yung Leandoer, shaw...  \n",
       "45235145   Mm-mm-mm-mm Let me talk to 'em Let me talk to ...  \n",
       "217450814  Na-na-na-na (Hey) I heard it before SremmLife!...  \n",
       "315646975  Baby I like your style  Grips on your waist Fr...  \n",
       "583860081                                                     \n",
       "590003456  (Your wild heart will live for younger days) (...  \n",
       "589156695  Bein' played, how's it goin' down? (All I want...  \n",
       "220791     My tea's gone cold, I'm wondering why I got ou...  \n",
       "529722332  Oh-oh-oh Yeah, yeah, yeah, yeah (yeah)  Why yo...  \n",
       "532428553  You're now listening to Camp Vamps Radio, bitc...  \n",
       "571888639  This shit contagious, doin' dope Doin' dope Th...  \n",
       "442173657  Ayy, ayy, ayy, ayy (ooh) Ooh, ooh, ooh, ooh (o...  "
      ]
     },
     "execution_count": 11,
     "metadata": {},
     "output_type": "execute_result"
    }
   ],
   "source": [
    "lyrics_df.head(50)"
   ]
  },
  {
   "cell_type": "code",
   "execution_count": 12,
   "id": "9a93ea6a-2cb5-4007-b4db-cdea4614cf88",
   "metadata": {},
   "outputs": [
    {
     "data": {
      "text/html": [
       "<div>\n",
       "<style scoped>\n",
       "    .dataframe tbody tr th:only-of-type {\n",
       "        vertical-align: middle;\n",
       "    }\n",
       "\n",
       "    .dataframe tbody tr th {\n",
       "        vertical-align: top;\n",
       "    }\n",
       "\n",
       "    .dataframe thead th {\n",
       "        text-align: right;\n",
       "    }\n",
       "</style>\n",
       "<table border=\"1\" class=\"dataframe\">\n",
       "  <thead>\n",
       "    <tr style=\"text-align: right;\">\n",
       "      <th></th>\n",
       "      <th>Track Name</th>\n",
       "      <th>Artists</th>\n",
       "      <th>Lyrics</th>\n",
       "    </tr>\n",
       "  </thead>\n",
       "  <tbody>\n",
       "    <tr>\n",
       "      <th>41264695</th>\n",
       "      <td>Bananza (Belly Dancer)</td>\n",
       "      <td>Akon</td>\n",
       "      <td>Hey, ladies drop it down Just want to see you ...</td>\n",
       "    </tr>\n",
       "    <tr>\n",
       "      <th>590362040</th>\n",
       "      <td>TO THE MOON</td>\n",
       "      <td>Jnr Choi</td>\n",
       "      <td>Pull up the ting gon' turn up Pull up the ting...</td>\n",
       "    </tr>\n",
       "    <tr>\n",
       "      <th>578340247</th>\n",
       "      <td>INDUSTRY BABY</td>\n",
       "      <td>Lil Nas X &amp; Jack Harlow</td>\n",
       "      <td>D-D-Daytrip took it to ten (hey)  Baby back, a...</td>\n",
       "    </tr>\n",
       "    <tr>\n",
       "      <th>579792092</th>\n",
       "      <td>Own Brand Freestyle</td>\n",
       "      <td>FelixThe1st &amp; Dreya Mac Feat. Finch Fetti</td>\n",
       "      <td>Little niggas really wan' at me (at me) Lockdo...</td>\n",
       "    </tr>\n",
       "    <tr>\n",
       "      <th>565785367</th>\n",
       "      <td>น้ำแดงน้ำส้ม</td>\n",
       "      <td>JV.JARVIS</td>\n",
       "      <td>คัมซามิดา สวัสดีค้าบ ในกระเป๋าไม่มียา ชอบไปรัช...</td>\n",
       "    </tr>\n",
       "    <tr>\n",
       "      <th>52510207</th>\n",
       "      <td>Bang Bang</td>\n",
       "      <td>K'naan Feat. Adam Levine</td>\n",
       "      <td>She shot me, she shot me Bang, bang... she sho...</td>\n",
       "    </tr>\n",
       "    <tr>\n",
       "      <th>577235374</th>\n",
       "      <td>edamame</td>\n",
       "      <td>bbno$ Feat. Rich Brian</td>\n",
       "      <td>Balls hanging low while I pop a bottle off a y...</td>\n",
       "    </tr>\n",
       "    <tr>\n",
       "      <th>578737070</th>\n",
       "      <td>Praise God</td>\n",
       "      <td>Kanye West</td>\n",
       "      <td>That she wrote, Speech to the Young: Speech to...</td>\n",
       "    </tr>\n",
       "    <tr>\n",
       "      <th>591239041</th>\n",
       "      <td>Dior</td>\n",
       "      <td>Ruger</td>\n",
       "      <td>Hmm, oh-yeah-oh  Bad man lookin' good in Dior ...</td>\n",
       "    </tr>\n",
       "    <tr>\n",
       "      <th>74992451</th>\n",
       "      <td>High School</td>\n",
       "      <td>Nicki Minaj Feat. Lil Wayne</td>\n",
       "      <td>He said he came from Jamaica He owned a couple...</td>\n",
       "    </tr>\n",
       "    <tr>\n",
       "      <th>6021080</th>\n",
       "      <td>The Magic Number</td>\n",
       "      <td>De La Soul</td>\n",
       "      <td></td>\n",
       "    </tr>\n",
       "    <tr>\n",
       "      <th>20056730</th>\n",
       "      <td>Gangsta's Paradise</td>\n",
       "      <td>Coolio Feat. L.V.</td>\n",
       "      <td>As I walk through the valley of the shadow of ...</td>\n",
       "    </tr>\n",
       "    <tr>\n",
       "      <th>594563183</th>\n",
       "      <td>Sahara</td>\n",
       "      <td>Hensonn</td>\n",
       "      <td></td>\n",
       "    </tr>\n",
       "    <tr>\n",
       "      <th>594606167</th>\n",
       "      <td>Chem Haskanum</td>\n",
       "      <td>Kristina Si Feat. Maléna</td>\n",
       "      <td>Ահ չեմ հասկանում ինչ ա կատարվում իմ գլխում Չեմ...</td>\n",
       "    </tr>\n",
       "    <tr>\n",
       "      <th>590487170</th>\n",
       "      <td>One Right Now</td>\n",
       "      <td>Post Malone &amp; The Weeknd</td>\n",
       "      <td>Na-na-na-na, na-na Na-na-na-na, oh no Yeah, ye...</td>\n",
       "    </tr>\n",
       "    <tr>\n",
       "      <th>370801349</th>\n",
       "      <td>Только по дури</td>\n",
       "      <td>Ежемесячные</td>\n",
       "      <td>Мой друг МС бомбил только легально и курил тол...</td>\n",
       "    </tr>\n",
       "    <tr>\n",
       "      <th>584725728</th>\n",
       "      <td>Big Energy</td>\n",
       "      <td>Latto</td>\n",
       "      <td>Got that real big energy Got that real big ene...</td>\n",
       "    </tr>\n",
       "    <tr>\n",
       "      <th>545851877</th>\n",
       "      <td>Я буду ***ть</td>\n",
       "      <td>Moreart Feat. IHI</td>\n",
       "      <td></td>\n",
       "    </tr>\n",
       "    <tr>\n",
       "      <th>585881868</th>\n",
       "      <td>lost souls</td>\n",
       "      <td>Baby Keem Feat. Brent Faiyaz</td>\n",
       "      <td>It's a lot of hoes in here, lot of lost souls ...</td>\n",
       "    </tr>\n",
       "    <tr>\n",
       "      <th>587443428</th>\n",
       "      <td>RICH BOY</td>\n",
       "      <td>payton</td>\n",
       "      <td>Like oh, my God, you need a rich boy To give y...</td>\n",
       "    </tr>\n",
       "    <tr>\n",
       "      <th>469270443</th>\n",
       "      <td>Astronaut In The Ocean</td>\n",
       "      <td>Masked Wolf</td>\n",
       "      <td>Astro-naut  What you know about rollin' down i...</td>\n",
       "    </tr>\n",
       "    <tr>\n",
       "      <th>586574460</th>\n",
       "      <td>Last One Standing (From Venom: Let There Be Ca...</td>\n",
       "      <td>Skylar Grey, Polo G, Mozzy &amp; Eminem</td>\n",
       "      <td></td>\n",
       "    </tr>\n",
       "    <tr>\n",
       "      <th>585735678</th>\n",
       "      <td>Face Off</td>\n",
       "      <td>Tech N9ne, Joey Cool, King Iso &amp; Dwayne Johnson</td>\n",
       "      <td>Rumble, they gon' take yo' face off  Spirit of...</td>\n",
       "    </tr>\n",
       "    <tr>\n",
       "      <th>590325377</th>\n",
       "      <td>Super Gremlin</td>\n",
       "      <td>Kodak Black</td>\n",
       "      <td>Yeah, we could be superstars We been rather wr...</td>\n",
       "    </tr>\n",
       "    <tr>\n",
       "      <th>594161539</th>\n",
       "      <td>Кожура</td>\n",
       "      <td>ZAPOMNI</td>\n",
       "      <td>Я со своей д*ри, тебя поцелую Как только докур...</td>\n",
       "    </tr>\n",
       "    <tr>\n",
       "      <th>570961310</th>\n",
       "      <td>Jalebi Baby</td>\n",
       "      <td>Tesher &amp; Jason Derulo</td>\n",
       "      <td></td>\n",
       "    </tr>\n",
       "    <tr>\n",
       "      <th>549013191</th>\n",
       "      <td>Mad About Bars</td>\n",
       "      <td>Harlem Spartans Feat. Bis &amp; MizOrMac</td>\n",
       "      <td></td>\n",
       "    </tr>\n",
       "    <tr>\n",
       "      <th>595827195</th>\n",
       "      <td>La street</td>\n",
       "      <td>Jul Feat. Morad</td>\n",
       "      <td>Leur seul souhait, c'est que j'arrête Que je s...</td>\n",
       "    </tr>\n",
       "    <tr>\n",
       "      <th>53754394</th>\n",
       "      <td>Can't Hold Us</td>\n",
       "      <td>Macklemore &amp; Ryan Lewis Feat. Ray Dalton</td>\n",
       "      <td>Return of the Mack Get 'em, what it is, what i...</td>\n",
       "    </tr>\n",
       "    <tr>\n",
       "      <th>594233500</th>\n",
       "      <td>LA CODA DEL DIAVOLO</td>\n",
       "      <td>Rkomi &amp; Elodie</td>\n",
       "      <td>Quando la notte mi scappo dalle mani, ma tu mi...</td>\n",
       "    </tr>\n",
       "    <tr>\n",
       "      <th>54428397</th>\n",
       "      <td>Without Me</td>\n",
       "      <td>Eminem</td>\n",
       "      <td>Obie Trice, real name no gimmicks  Two trailer...</td>\n",
       "    </tr>\n",
       "    <tr>\n",
       "      <th>375485107</th>\n",
       "      <td>Habibi</td>\n",
       "      <td>Ricky Rich &amp; ARAM Mafia</td>\n",
       "      <td>Yeah, yeah, yeah Aha, aha, habibi, Rick-, Ri-,...</td>\n",
       "    </tr>\n",
       "    <tr>\n",
       "      <th>542990923</th>\n",
       "      <td>Chosen</td>\n",
       "      <td>Blxst &amp; Tyga Feat. Ty Dolla $ign</td>\n",
       "      <td>Ay, when it come to you (sheesh) Pistol I bust...</td>\n",
       "    </tr>\n",
       "    <tr>\n",
       "      <th>468735448</th>\n",
       "      <td>All Alone</td>\n",
       "      <td>Freddie Dredd</td>\n",
       "      <td>Don't act like you don't know Big Narstie said...</td>\n",
       "    </tr>\n",
       "    <tr>\n",
       "      <th>594403685</th>\n",
       "      <td>Эскизы</td>\n",
       "      <td>Xcho</td>\n",
       "      <td>О-о-о, твоя красота  Рисовал эскизы Помнишь ты...</td>\n",
       "    </tr>\n",
       "    <tr>\n",
       "      <th>345849081</th>\n",
       "      <td>Cpr</td>\n",
       "      <td>CupcakKe</td>\n",
       "      <td>Um, dois, três, quatro  No quick head in my be...</td>\n",
       "    </tr>\n",
       "    <tr>\n",
       "      <th>594732573</th>\n",
       "      <td>Jefe</td>\n",
       "      <td>Ninho</td>\n",
       "      <td>J'ai toujours rêvé d'être dans l'top sourd, fa...</td>\n",
       "    </tr>\n",
       "    <tr>\n",
       "      <th>597094911</th>\n",
       "      <td>Летит патруль (by Atlanta)</td>\n",
       "      <td>RAIKAHO</td>\n",
       "      <td></td>\n",
       "    </tr>\n",
       "    <tr>\n",
       "      <th>104382921</th>\n",
       "      <td>Ginseng Strip 2002</td>\n",
       "      <td>Yung Lean</td>\n",
       "      <td>2003 Arizona Iced-Out Boys Yung Leandoer, shaw...</td>\n",
       "    </tr>\n",
       "    <tr>\n",
       "      <th>45235145</th>\n",
       "      <td>Low</td>\n",
       "      <td>Flo Rida Feat. T-Pain</td>\n",
       "      <td>Mm-mm-mm-mm Let me talk to 'em Let me talk to ...</td>\n",
       "    </tr>\n",
       "    <tr>\n",
       "      <th>217450814</th>\n",
       "      <td>This Could Be Us</td>\n",
       "      <td>Rae Sremmurd</td>\n",
       "      <td>Na-na-na-na (Hey) I heard it before SremmLife!...</td>\n",
       "    </tr>\n",
       "    <tr>\n",
       "      <th>315646975</th>\n",
       "      <td>One Dance</td>\n",
       "      <td>Drake Feat. WizKid &amp; Kyla</td>\n",
       "      <td>Baby I like your style  Grips on your waist Fr...</td>\n",
       "    </tr>\n",
       "    <tr>\n",
       "      <th>583860081</th>\n",
       "      <td>Knife Talk [Mixed]</td>\n",
       "      <td>Drake Feat. 21 Savage &amp; Project Pat</td>\n",
       "      <td></td>\n",
       "    </tr>\n",
       "    <tr>\n",
       "      <th>590003456</th>\n",
       "      <td>Coming for You</td>\n",
       "      <td>SwitchOTR Feat. A1 x J1</td>\n",
       "      <td>(Your wild heart will live for younger days) (...</td>\n",
       "    </tr>\n",
       "    <tr>\n",
       "      <th>589156695</th>\n",
       "      <td>Scorpio</td>\n",
       "      <td>Moneybagg Yo</td>\n",
       "      <td>Bein' played, how's it goin' down? (All I want...</td>\n",
       "    </tr>\n",
       "    <tr>\n",
       "      <th>220791</th>\n",
       "      <td>Stan</td>\n",
       "      <td>Eminem Feat. Dido</td>\n",
       "      <td>My tea's gone cold, I'm wondering why I got ou...</td>\n",
       "    </tr>\n",
       "    <tr>\n",
       "      <th>529722332</th>\n",
       "      <td>Mood</td>\n",
       "      <td>24kGoldn Feat. iann dior</td>\n",
       "      <td>Oh-oh-oh Yeah, yeah, yeah, yeah (yeah)  Why yo...</td>\n",
       "    </tr>\n",
       "    <tr>\n",
       "      <th>532428553</th>\n",
       "      <td>Masquerade</td>\n",
       "      <td>Siouxxie</td>\n",
       "      <td>You're now listening to Camp Vamps Radio, bitc...</td>\n",
       "    </tr>\n",
       "    <tr>\n",
       "      <th>571888639</th>\n",
       "      <td>Close Eyes</td>\n",
       "      <td>DVRST</td>\n",
       "      <td>This shit contagious, doin' dope Doin' dope Th...</td>\n",
       "    </tr>\n",
       "    <tr>\n",
       "      <th>442173657</th>\n",
       "      <td>Sunflower (Spider-Man: Into The Spider-Verse)</td>\n",
       "      <td>Post Malone &amp; Swae Lee</td>\n",
       "      <td>Ayy, ayy, ayy, ayy (ooh) Ooh, ooh, ooh, ooh (o...</td>\n",
       "    </tr>\n",
       "  </tbody>\n",
       "</table>\n",
       "</div>"
      ],
      "text/plain": [
       "                                                  Track Name  \\\n",
       "41264695                              Bananza (Belly Dancer)   \n",
       "590362040                                        TO THE MOON   \n",
       "578340247                                      INDUSTRY BABY   \n",
       "579792092                                Own Brand Freestyle   \n",
       "565785367                                       น้ำแดงน้ำส้ม   \n",
       "52510207                                           Bang Bang   \n",
       "577235374                                            edamame   \n",
       "578737070                                         Praise God   \n",
       "591239041                                               Dior   \n",
       "74992451                                         High School   \n",
       "6021080                                     The Magic Number   \n",
       "20056730                                  Gangsta's Paradise   \n",
       "594563183                                             Sahara   \n",
       "594606167                                      Chem Haskanum   \n",
       "590487170                                      One Right Now   \n",
       "370801349                                     Только по дури   \n",
       "584725728                                         Big Energy   \n",
       "545851877                                       Я буду ***ть   \n",
       "585881868                                         lost souls   \n",
       "587443428                                           RICH BOY   \n",
       "469270443                             Astronaut In The Ocean   \n",
       "586574460  Last One Standing (From Venom: Let There Be Ca...   \n",
       "585735678                                           Face Off   \n",
       "590325377                                      Super Gremlin   \n",
       "594161539                                             Кожура   \n",
       "570961310                                        Jalebi Baby   \n",
       "549013191                                     Mad About Bars   \n",
       "595827195                                          La street   \n",
       "53754394                                       Can't Hold Us   \n",
       "594233500                                LA CODA DEL DIAVOLO   \n",
       "54428397                                          Without Me   \n",
       "375485107                                             Habibi   \n",
       "542990923                                             Chosen   \n",
       "468735448                                          All Alone   \n",
       "594403685                                             Эскизы   \n",
       "345849081                                                Cpr   \n",
       "594732573                                               Jefe   \n",
       "597094911                         Летит патруль (by Atlanta)   \n",
       "104382921                                 Ginseng Strip 2002   \n",
       "45235145                                                 Low   \n",
       "217450814                                   This Could Be Us   \n",
       "315646975                                          One Dance   \n",
       "583860081                                 Knife Talk [Mixed]   \n",
       "590003456                                     Coming for You   \n",
       "589156695                                            Scorpio   \n",
       "220791                                                  Stan   \n",
       "529722332                                               Mood   \n",
       "532428553                                         Masquerade   \n",
       "571888639                                         Close Eyes   \n",
       "442173657      Sunflower (Spider-Man: Into The Spider-Verse)   \n",
       "\n",
       "                                                   Artists  \\\n",
       "41264695                                              Akon   \n",
       "590362040                                         Jnr Choi   \n",
       "578340247                          Lil Nas X & Jack Harlow   \n",
       "579792092        FelixThe1st & Dreya Mac Feat. Finch Fetti   \n",
       "565785367                                        JV.JARVIS   \n",
       "52510207                          K'naan Feat. Adam Levine   \n",
       "577235374                           bbno$ Feat. Rich Brian   \n",
       "578737070                                       Kanye West   \n",
       "591239041                                            Ruger   \n",
       "74992451                       Nicki Minaj Feat. Lil Wayne   \n",
       "6021080                                         De La Soul   \n",
       "20056730                                 Coolio Feat. L.V.   \n",
       "594563183                                          Hensonn   \n",
       "594606167                         Kristina Si Feat. Maléna   \n",
       "590487170                         Post Malone & The Weeknd   \n",
       "370801349                                      Ежемесячные   \n",
       "584725728                                            Latto   \n",
       "545851877                                Moreart Feat. IHI   \n",
       "585881868                     Baby Keem Feat. Brent Faiyaz   \n",
       "587443428                                           payton   \n",
       "469270443                                      Masked Wolf   \n",
       "586574460              Skylar Grey, Polo G, Mozzy & Eminem   \n",
       "585735678  Tech N9ne, Joey Cool, King Iso & Dwayne Johnson   \n",
       "590325377                                      Kodak Black   \n",
       "594161539                                          ZAPOMNI   \n",
       "570961310                            Tesher & Jason Derulo   \n",
       "549013191             Harlem Spartans Feat. Bis & MizOrMac   \n",
       "595827195                                  Jul Feat. Morad   \n",
       "53754394          Macklemore & Ryan Lewis Feat. Ray Dalton   \n",
       "594233500                                   Rkomi & Elodie   \n",
       "54428397                                            Eminem   \n",
       "375485107                          Ricky Rich & ARAM Mafia   \n",
       "542990923                 Blxst & Tyga Feat. Ty Dolla $ign   \n",
       "468735448                                    Freddie Dredd   \n",
       "594403685                                             Xcho   \n",
       "345849081                                         CupcakKe   \n",
       "594732573                                            Ninho   \n",
       "597094911                                          RAIKAHO   \n",
       "104382921                                        Yung Lean   \n",
       "45235145                             Flo Rida Feat. T-Pain   \n",
       "217450814                                     Rae Sremmurd   \n",
       "315646975                        Drake Feat. WizKid & Kyla   \n",
       "583860081              Drake Feat. 21 Savage & Project Pat   \n",
       "590003456                          SwitchOTR Feat. A1 x J1   \n",
       "589156695                                     Moneybagg Yo   \n",
       "220791                                   Eminem Feat. Dido   \n",
       "529722332                         24kGoldn Feat. iann dior   \n",
       "532428553                                         Siouxxie   \n",
       "571888639                                            DVRST   \n",
       "442173657                           Post Malone & Swae Lee   \n",
       "\n",
       "                                                      Lyrics  \n",
       "41264695   Hey, ladies drop it down Just want to see you ...  \n",
       "590362040  Pull up the ting gon' turn up Pull up the ting...  \n",
       "578340247  D-D-Daytrip took it to ten (hey)  Baby back, a...  \n",
       "579792092  Little niggas really wan' at me (at me) Lockdo...  \n",
       "565785367  คัมซามิดา สวัสดีค้าบ ในกระเป๋าไม่มียา ชอบไปรัช...  \n",
       "52510207   She shot me, she shot me Bang, bang... she sho...  \n",
       "577235374  Balls hanging low while I pop a bottle off a y...  \n",
       "578737070  That she wrote, Speech to the Young: Speech to...  \n",
       "591239041  Hmm, oh-yeah-oh  Bad man lookin' good in Dior ...  \n",
       "74992451   He said he came from Jamaica He owned a couple...  \n",
       "6021080                                                       \n",
       "20056730   As I walk through the valley of the shadow of ...  \n",
       "594563183                                                     \n",
       "594606167  Ահ չեմ հասկանում ինչ ա կատարվում իմ գլխում Չեմ...  \n",
       "590487170  Na-na-na-na, na-na Na-na-na-na, oh no Yeah, ye...  \n",
       "370801349  Мой друг МС бомбил только легально и курил тол...  \n",
       "584725728  Got that real big energy Got that real big ene...  \n",
       "545851877                                                     \n",
       "585881868  It's a lot of hoes in here, lot of lost souls ...  \n",
       "587443428  Like oh, my God, you need a rich boy To give y...  \n",
       "469270443  Astro-naut  What you know about rollin' down i...  \n",
       "586574460                                                     \n",
       "585735678  Rumble, they gon' take yo' face off  Spirit of...  \n",
       "590325377  Yeah, we could be superstars We been rather wr...  \n",
       "594161539  Я со своей д*ри, тебя поцелую Как только докур...  \n",
       "570961310                                                     \n",
       "549013191                                                     \n",
       "595827195  Leur seul souhait, c'est que j'arrête Que je s...  \n",
       "53754394   Return of the Mack Get 'em, what it is, what i...  \n",
       "594233500  Quando la notte mi scappo dalle mani, ma tu mi...  \n",
       "54428397   Obie Trice, real name no gimmicks  Two trailer...  \n",
       "375485107  Yeah, yeah, yeah Aha, aha, habibi, Rick-, Ri-,...  \n",
       "542990923  Ay, when it come to you (sheesh) Pistol I bust...  \n",
       "468735448  Don't act like you don't know Big Narstie said...  \n",
       "594403685  О-о-о, твоя красота  Рисовал эскизы Помнишь ты...  \n",
       "345849081  Um, dois, três, quatro  No quick head in my be...  \n",
       "594732573  J'ai toujours rêvé d'être dans l'top sourd, fa...  \n",
       "597094911                                                     \n",
       "104382921  2003 Arizona Iced-Out Boys Yung Leandoer, shaw...  \n",
       "45235145   Mm-mm-mm-mm Let me talk to 'em Let me talk to ...  \n",
       "217450814  Na-na-na-na (Hey) I heard it before SremmLife!...  \n",
       "315646975  Baby I like your style  Grips on your waist Fr...  \n",
       "583860081                                                     \n",
       "590003456  (Your wild heart will live for younger days) (...  \n",
       "589156695  Bein' played, how's it goin' down? (All I want...  \n",
       "220791     My tea's gone cold, I'm wondering why I got ou...  \n",
       "529722332  Oh-oh-oh Yeah, yeah, yeah, yeah (yeah)  Why yo...  \n",
       "532428553  You're now listening to Camp Vamps Radio, bitc...  \n",
       "571888639  This shit contagious, doin' dope Doin' dope Th...  \n",
       "442173657  Ayy, ayy, ayy, ayy (ooh) Ooh, ooh, ooh, ooh (o...  "
      ]
     },
     "execution_count": 12,
     "metadata": {},
     "output_type": "execute_result"
    }
   ],
   "source": [
    "lyrics_df.tail(50)"
   ]
  },
  {
   "cell_type": "code",
   "execution_count": 13,
   "id": "85ec99b5-2764-4542-897d-f0c938de9a46",
   "metadata": {},
   "outputs": [
    {
     "data": {
      "text/html": [
       "<div>\n",
       "<style scoped>\n",
       "    .dataframe tbody tr th:only-of-type {\n",
       "        vertical-align: middle;\n",
       "    }\n",
       "\n",
       "    .dataframe tbody tr th {\n",
       "        vertical-align: top;\n",
       "    }\n",
       "\n",
       "    .dataframe thead th {\n",
       "        text-align: right;\n",
       "    }\n",
       "</style>\n",
       "<table border=\"1\" class=\"dataframe\">\n",
       "  <thead>\n",
       "    <tr style=\"text-align: right;\">\n",
       "      <th></th>\n",
       "      <th>Track Name</th>\n",
       "      <th>Artists</th>\n",
       "      <th>Lyrics</th>\n",
       "    </tr>\n",
       "  </thead>\n",
       "  <tbody>\n",
       "    <tr>\n",
       "      <th>41264695</th>\n",
       "      <td>Bananza (Belly Dancer)</td>\n",
       "      <td>Akon</td>\n",
       "      <td>Hey, ladies drop it down Just want to see you ...</td>\n",
       "    </tr>\n",
       "    <tr>\n",
       "      <th>590362040</th>\n",
       "      <td>TO THE MOON</td>\n",
       "      <td>Jnr Choi</td>\n",
       "      <td>Pull up the ting gon' turn up Pull up the ting...</td>\n",
       "    </tr>\n",
       "    <tr>\n",
       "      <th>578340247</th>\n",
       "      <td>INDUSTRY BABY</td>\n",
       "      <td>Lil Nas X &amp; Jack Harlow</td>\n",
       "      <td>D-D-Daytrip took it to ten (hey)  Baby back, a...</td>\n",
       "    </tr>\n",
       "    <tr>\n",
       "      <th>579792092</th>\n",
       "      <td>Own Brand Freestyle</td>\n",
       "      <td>FelixThe1st &amp; Dreya Mac Feat. Finch Fetti</td>\n",
       "      <td>Little niggas really wan' at me (at me) Lockdo...</td>\n",
       "    </tr>\n",
       "    <tr>\n",
       "      <th>565785367</th>\n",
       "      <td>น้ำแดงน้ำส้ม</td>\n",
       "      <td>JV.JARVIS</td>\n",
       "      <td>คัมซามิดา สวัสดีค้าบ ในกระเป๋าไม่มียา ชอบไปรัช...</td>\n",
       "    </tr>\n",
       "  </tbody>\n",
       "</table>\n",
       "</div>"
      ],
      "text/plain": [
       "                       Track Name                                    Artists  \\\n",
       "41264695   Bananza (Belly Dancer)                                       Akon   \n",
       "590362040             TO THE MOON                                   Jnr Choi   \n",
       "578340247           INDUSTRY BABY                    Lil Nas X & Jack Harlow   \n",
       "579792092     Own Brand Freestyle  FelixThe1st & Dreya Mac Feat. Finch Fetti   \n",
       "565785367            น้ำแดงน้ำส้ม                                  JV.JARVIS   \n",
       "\n",
       "                                                      Lyrics  \n",
       "41264695   Hey, ladies drop it down Just want to see you ...  \n",
       "590362040  Pull up the ting gon' turn up Pull up the ting...  \n",
       "578340247  D-D-Daytrip took it to ten (hey)  Baby back, a...  \n",
       "579792092  Little niggas really wan' at me (at me) Lockdo...  \n",
       "565785367  คัมซามิดา สวัสดีค้าบ ในกระเป๋าไม่มียา ชอบไปรัช...  "
      ]
     },
     "execution_count": 13,
     "metadata": {},
     "output_type": "execute_result"
    }
   ],
   "source": [
    "# Remove songs without lyrics\n",
    "\n",
    "lyrics_df.drop(lyrics_df.loc[lyrics_df['Lyrics'] == ''].index.tolist(), inplace=True)\n",
    "lyrics_df.head(5)"
   ]
  },
  {
   "cell_type": "code",
   "execution_count": 14,
   "id": "6cf1492b-ffd2-4d08-9276-988578ea1543",
   "metadata": {},
   "outputs": [
    {
     "data": {
      "text/html": [
       "<div>\n",
       "<style scoped>\n",
       "    .dataframe tbody tr th:only-of-type {\n",
       "        vertical-align: middle;\n",
       "    }\n",
       "\n",
       "    .dataframe tbody tr th {\n",
       "        vertical-align: top;\n",
       "    }\n",
       "\n",
       "    .dataframe thead th {\n",
       "        text-align: right;\n",
       "    }\n",
       "</style>\n",
       "<table border=\"1\" class=\"dataframe\">\n",
       "  <thead>\n",
       "    <tr style=\"text-align: right;\">\n",
       "      <th></th>\n",
       "      <th>Track Name</th>\n",
       "      <th>Artists</th>\n",
       "      <th>Lyrics</th>\n",
       "    </tr>\n",
       "  </thead>\n",
       "  <tbody>\n",
       "    <tr>\n",
       "      <th>41264695</th>\n",
       "      <td>Bananza (Belly Dancer)</td>\n",
       "      <td>Akon</td>\n",
       "      <td>Hey, ladies drop it down Just want to see you ...</td>\n",
       "    </tr>\n",
       "    <tr>\n",
       "      <th>590362040</th>\n",
       "      <td>TO THE MOON</td>\n",
       "      <td>Jnr Choi</td>\n",
       "      <td>Pull up the ting gon' turn up Pull up the ting...</td>\n",
       "    </tr>\n",
       "    <tr>\n",
       "      <th>578340247</th>\n",
       "      <td>INDUSTRY BABY</td>\n",
       "      <td>Lil Nas X &amp; Jack Harlow</td>\n",
       "      <td>D-D-Daytrip took it to ten (hey)  Baby back, a...</td>\n",
       "    </tr>\n",
       "    <tr>\n",
       "      <th>579792092</th>\n",
       "      <td>Own Brand Freestyle</td>\n",
       "      <td>FelixThe1st &amp; Dreya Mac Feat. Finch Fetti</td>\n",
       "      <td>Little niggas really wan' at me (at me) Lockdo...</td>\n",
       "    </tr>\n",
       "    <tr>\n",
       "      <th>565785367</th>\n",
       "      <td>น้ำแดงน้ำส้ม</td>\n",
       "      <td>JV.JARVIS</td>\n",
       "      <td>คัมซามิดา สวัสดีค้าบ ในกระเป๋าไม่มียา ชอบไปรัช...</td>\n",
       "    </tr>\n",
       "    <tr>\n",
       "      <th>52510207</th>\n",
       "      <td>Bang Bang</td>\n",
       "      <td>K'naan Feat. Adam Levine</td>\n",
       "      <td>She shot me, she shot me Bang, bang... she sho...</td>\n",
       "    </tr>\n",
       "    <tr>\n",
       "      <th>577235374</th>\n",
       "      <td>edamame</td>\n",
       "      <td>bbno$ Feat. Rich Brian</td>\n",
       "      <td>Balls hanging low while I pop a bottle off a y...</td>\n",
       "    </tr>\n",
       "    <tr>\n",
       "      <th>578737070</th>\n",
       "      <td>Praise God</td>\n",
       "      <td>Kanye West</td>\n",
       "      <td>That she wrote, Speech to the Young: Speech to...</td>\n",
       "    </tr>\n",
       "    <tr>\n",
       "      <th>591239041</th>\n",
       "      <td>Dior</td>\n",
       "      <td>Ruger</td>\n",
       "      <td>Hmm, oh-yeah-oh  Bad man lookin' good in Dior ...</td>\n",
       "    </tr>\n",
       "    <tr>\n",
       "      <th>74992451</th>\n",
       "      <td>High School</td>\n",
       "      <td>Nicki Minaj Feat. Lil Wayne</td>\n",
       "      <td>He said he came from Jamaica He owned a couple...</td>\n",
       "    </tr>\n",
       "    <tr>\n",
       "      <th>20056730</th>\n",
       "      <td>Gangsta's Paradise</td>\n",
       "      <td>Coolio Feat. L.V.</td>\n",
       "      <td>As I walk through the valley of the shadow of ...</td>\n",
       "    </tr>\n",
       "    <tr>\n",
       "      <th>594606167</th>\n",
       "      <td>Chem Haskanum</td>\n",
       "      <td>Kristina Si Feat. Maléna</td>\n",
       "      <td>Ահ չեմ հասկանում ինչ ա կատարվում իմ գլխում Չեմ...</td>\n",
       "    </tr>\n",
       "    <tr>\n",
       "      <th>590487170</th>\n",
       "      <td>One Right Now</td>\n",
       "      <td>Post Malone &amp; The Weeknd</td>\n",
       "      <td>Na-na-na-na, na-na Na-na-na-na, oh no Yeah, ye...</td>\n",
       "    </tr>\n",
       "    <tr>\n",
       "      <th>370801349</th>\n",
       "      <td>Только по дури</td>\n",
       "      <td>Ежемесячные</td>\n",
       "      <td>Мой друг МС бомбил только легально и курил тол...</td>\n",
       "    </tr>\n",
       "    <tr>\n",
       "      <th>584725728</th>\n",
       "      <td>Big Energy</td>\n",
       "      <td>Latto</td>\n",
       "      <td>Got that real big energy Got that real big ene...</td>\n",
       "    </tr>\n",
       "    <tr>\n",
       "      <th>585881868</th>\n",
       "      <td>lost souls</td>\n",
       "      <td>Baby Keem Feat. Brent Faiyaz</td>\n",
       "      <td>It's a lot of hoes in here, lot of lost souls ...</td>\n",
       "    </tr>\n",
       "    <tr>\n",
       "      <th>587443428</th>\n",
       "      <td>RICH BOY</td>\n",
       "      <td>payton</td>\n",
       "      <td>Like oh, my God, you need a rich boy To give y...</td>\n",
       "    </tr>\n",
       "    <tr>\n",
       "      <th>469270443</th>\n",
       "      <td>Astronaut In The Ocean</td>\n",
       "      <td>Masked Wolf</td>\n",
       "      <td>Astro-naut  What you know about rollin' down i...</td>\n",
       "    </tr>\n",
       "    <tr>\n",
       "      <th>585735678</th>\n",
       "      <td>Face Off</td>\n",
       "      <td>Tech N9ne, Joey Cool, King Iso &amp; Dwayne Johnson</td>\n",
       "      <td>Rumble, they gon' take yo' face off  Spirit of...</td>\n",
       "    </tr>\n",
       "    <tr>\n",
       "      <th>590325377</th>\n",
       "      <td>Super Gremlin</td>\n",
       "      <td>Kodak Black</td>\n",
       "      <td>Yeah, we could be superstars We been rather wr...</td>\n",
       "    </tr>\n",
       "    <tr>\n",
       "      <th>594161539</th>\n",
       "      <td>Кожура</td>\n",
       "      <td>ZAPOMNI</td>\n",
       "      <td>Я со своей д*ри, тебя поцелую Как только докур...</td>\n",
       "    </tr>\n",
       "    <tr>\n",
       "      <th>595827195</th>\n",
       "      <td>La street</td>\n",
       "      <td>Jul Feat. Morad</td>\n",
       "      <td>Leur seul souhait, c'est que j'arrête Que je s...</td>\n",
       "    </tr>\n",
       "    <tr>\n",
       "      <th>53754394</th>\n",
       "      <td>Can't Hold Us</td>\n",
       "      <td>Macklemore &amp; Ryan Lewis Feat. Ray Dalton</td>\n",
       "      <td>Return of the Mack Get 'em, what it is, what i...</td>\n",
       "    </tr>\n",
       "    <tr>\n",
       "      <th>594233500</th>\n",
       "      <td>LA CODA DEL DIAVOLO</td>\n",
       "      <td>Rkomi &amp; Elodie</td>\n",
       "      <td>Quando la notte mi scappo dalle mani, ma tu mi...</td>\n",
       "    </tr>\n",
       "    <tr>\n",
       "      <th>54428397</th>\n",
       "      <td>Without Me</td>\n",
       "      <td>Eminem</td>\n",
       "      <td>Obie Trice, real name no gimmicks  Two trailer...</td>\n",
       "    </tr>\n",
       "    <tr>\n",
       "      <th>375485107</th>\n",
       "      <td>Habibi</td>\n",
       "      <td>Ricky Rich &amp; ARAM Mafia</td>\n",
       "      <td>Yeah, yeah, yeah Aha, aha, habibi, Rick-, Ri-,...</td>\n",
       "    </tr>\n",
       "    <tr>\n",
       "      <th>542990923</th>\n",
       "      <td>Chosen</td>\n",
       "      <td>Blxst &amp; Tyga Feat. Ty Dolla $ign</td>\n",
       "      <td>Ay, when it come to you (sheesh) Pistol I bust...</td>\n",
       "    </tr>\n",
       "    <tr>\n",
       "      <th>468735448</th>\n",
       "      <td>All Alone</td>\n",
       "      <td>Freddie Dredd</td>\n",
       "      <td>Don't act like you don't know Big Narstie said...</td>\n",
       "    </tr>\n",
       "    <tr>\n",
       "      <th>594403685</th>\n",
       "      <td>Эскизы</td>\n",
       "      <td>Xcho</td>\n",
       "      <td>О-о-о, твоя красота  Рисовал эскизы Помнишь ты...</td>\n",
       "    </tr>\n",
       "    <tr>\n",
       "      <th>345849081</th>\n",
       "      <td>Cpr</td>\n",
       "      <td>CupcakKe</td>\n",
       "      <td>Um, dois, três, quatro  No quick head in my be...</td>\n",
       "    </tr>\n",
       "    <tr>\n",
       "      <th>594732573</th>\n",
       "      <td>Jefe</td>\n",
       "      <td>Ninho</td>\n",
       "      <td>J'ai toujours rêvé d'être dans l'top sourd, fa...</td>\n",
       "    </tr>\n",
       "    <tr>\n",
       "      <th>104382921</th>\n",
       "      <td>Ginseng Strip 2002</td>\n",
       "      <td>Yung Lean</td>\n",
       "      <td>2003 Arizona Iced-Out Boys Yung Leandoer, shaw...</td>\n",
       "    </tr>\n",
       "    <tr>\n",
       "      <th>45235145</th>\n",
       "      <td>Low</td>\n",
       "      <td>Flo Rida Feat. T-Pain</td>\n",
       "      <td>Mm-mm-mm-mm Let me talk to 'em Let me talk to ...</td>\n",
       "    </tr>\n",
       "    <tr>\n",
       "      <th>217450814</th>\n",
       "      <td>This Could Be Us</td>\n",
       "      <td>Rae Sremmurd</td>\n",
       "      <td>Na-na-na-na (Hey) I heard it before SremmLife!...</td>\n",
       "    </tr>\n",
       "    <tr>\n",
       "      <th>315646975</th>\n",
       "      <td>One Dance</td>\n",
       "      <td>Drake Feat. WizKid &amp; Kyla</td>\n",
       "      <td>Baby I like your style  Grips on your waist Fr...</td>\n",
       "    </tr>\n",
       "    <tr>\n",
       "      <th>590003456</th>\n",
       "      <td>Coming for You</td>\n",
       "      <td>SwitchOTR Feat. A1 x J1</td>\n",
       "      <td>(Your wild heart will live for younger days) (...</td>\n",
       "    </tr>\n",
       "    <tr>\n",
       "      <th>589156695</th>\n",
       "      <td>Scorpio</td>\n",
       "      <td>Moneybagg Yo</td>\n",
       "      <td>Bein' played, how's it goin' down? (All I want...</td>\n",
       "    </tr>\n",
       "    <tr>\n",
       "      <th>220791</th>\n",
       "      <td>Stan</td>\n",
       "      <td>Eminem Feat. Dido</td>\n",
       "      <td>My tea's gone cold, I'm wondering why I got ou...</td>\n",
       "    </tr>\n",
       "    <tr>\n",
       "      <th>529722332</th>\n",
       "      <td>Mood</td>\n",
       "      <td>24kGoldn Feat. iann dior</td>\n",
       "      <td>Oh-oh-oh Yeah, yeah, yeah, yeah (yeah)  Why yo...</td>\n",
       "    </tr>\n",
       "    <tr>\n",
       "      <th>532428553</th>\n",
       "      <td>Masquerade</td>\n",
       "      <td>Siouxxie</td>\n",
       "      <td>You're now listening to Camp Vamps Radio, bitc...</td>\n",
       "    </tr>\n",
       "    <tr>\n",
       "      <th>571888639</th>\n",
       "      <td>Close Eyes</td>\n",
       "      <td>DVRST</td>\n",
       "      <td>This shit contagious, doin' dope Doin' dope Th...</td>\n",
       "    </tr>\n",
       "    <tr>\n",
       "      <th>442173657</th>\n",
       "      <td>Sunflower (Spider-Man: Into The Spider-Verse)</td>\n",
       "      <td>Post Malone &amp; Swae Lee</td>\n",
       "      <td>Ayy, ayy, ayy, ayy (ooh) Ooh, ooh, ooh, ooh (o...</td>\n",
       "    </tr>\n",
       "  </tbody>\n",
       "</table>\n",
       "</div>"
      ],
      "text/plain": [
       "                                              Track Name  \\\n",
       "41264695                          Bananza (Belly Dancer)   \n",
       "590362040                                    TO THE MOON   \n",
       "578340247                                  INDUSTRY BABY   \n",
       "579792092                            Own Brand Freestyle   \n",
       "565785367                                   น้ำแดงน้ำส้ม   \n",
       "52510207                                       Bang Bang   \n",
       "577235374                                        edamame   \n",
       "578737070                                     Praise God   \n",
       "591239041                                           Dior   \n",
       "74992451                                     High School   \n",
       "20056730                              Gangsta's Paradise   \n",
       "594606167                                  Chem Haskanum   \n",
       "590487170                                  One Right Now   \n",
       "370801349                                 Только по дури   \n",
       "584725728                                     Big Energy   \n",
       "585881868                                     lost souls   \n",
       "587443428                                       RICH BOY   \n",
       "469270443                         Astronaut In The Ocean   \n",
       "585735678                                       Face Off   \n",
       "590325377                                  Super Gremlin   \n",
       "594161539                                         Кожура   \n",
       "595827195                                      La street   \n",
       "53754394                                   Can't Hold Us   \n",
       "594233500                            LA CODA DEL DIAVOLO   \n",
       "54428397                                      Without Me   \n",
       "375485107                                         Habibi   \n",
       "542990923                                         Chosen   \n",
       "468735448                                      All Alone   \n",
       "594403685                                         Эскизы   \n",
       "345849081                                            Cpr   \n",
       "594732573                                           Jefe   \n",
       "104382921                             Ginseng Strip 2002   \n",
       "45235145                                             Low   \n",
       "217450814                               This Could Be Us   \n",
       "315646975                                      One Dance   \n",
       "590003456                                 Coming for You   \n",
       "589156695                                        Scorpio   \n",
       "220791                                              Stan   \n",
       "529722332                                           Mood   \n",
       "532428553                                     Masquerade   \n",
       "571888639                                     Close Eyes   \n",
       "442173657  Sunflower (Spider-Man: Into The Spider-Verse)   \n",
       "\n",
       "                                                   Artists  \\\n",
       "41264695                                              Akon   \n",
       "590362040                                         Jnr Choi   \n",
       "578340247                          Lil Nas X & Jack Harlow   \n",
       "579792092        FelixThe1st & Dreya Mac Feat. Finch Fetti   \n",
       "565785367                                        JV.JARVIS   \n",
       "52510207                          K'naan Feat. Adam Levine   \n",
       "577235374                           bbno$ Feat. Rich Brian   \n",
       "578737070                                       Kanye West   \n",
       "591239041                                            Ruger   \n",
       "74992451                       Nicki Minaj Feat. Lil Wayne   \n",
       "20056730                                 Coolio Feat. L.V.   \n",
       "594606167                         Kristina Si Feat. Maléna   \n",
       "590487170                         Post Malone & The Weeknd   \n",
       "370801349                                      Ежемесячные   \n",
       "584725728                                            Latto   \n",
       "585881868                     Baby Keem Feat. Brent Faiyaz   \n",
       "587443428                                           payton   \n",
       "469270443                                      Masked Wolf   \n",
       "585735678  Tech N9ne, Joey Cool, King Iso & Dwayne Johnson   \n",
       "590325377                                      Kodak Black   \n",
       "594161539                                          ZAPOMNI   \n",
       "595827195                                  Jul Feat. Morad   \n",
       "53754394          Macklemore & Ryan Lewis Feat. Ray Dalton   \n",
       "594233500                                   Rkomi & Elodie   \n",
       "54428397                                            Eminem   \n",
       "375485107                          Ricky Rich & ARAM Mafia   \n",
       "542990923                 Blxst & Tyga Feat. Ty Dolla $ign   \n",
       "468735448                                    Freddie Dredd   \n",
       "594403685                                             Xcho   \n",
       "345849081                                         CupcakKe   \n",
       "594732573                                            Ninho   \n",
       "104382921                                        Yung Lean   \n",
       "45235145                             Flo Rida Feat. T-Pain   \n",
       "217450814                                     Rae Sremmurd   \n",
       "315646975                        Drake Feat. WizKid & Kyla   \n",
       "590003456                          SwitchOTR Feat. A1 x J1   \n",
       "589156695                                     Moneybagg Yo   \n",
       "220791                                   Eminem Feat. Dido   \n",
       "529722332                         24kGoldn Feat. iann dior   \n",
       "532428553                                         Siouxxie   \n",
       "571888639                                            DVRST   \n",
       "442173657                           Post Malone & Swae Lee   \n",
       "\n",
       "                                                      Lyrics  \n",
       "41264695   Hey, ladies drop it down Just want to see you ...  \n",
       "590362040  Pull up the ting gon' turn up Pull up the ting...  \n",
       "578340247  D-D-Daytrip took it to ten (hey)  Baby back, a...  \n",
       "579792092  Little niggas really wan' at me (at me) Lockdo...  \n",
       "565785367  คัมซามิดา สวัสดีค้าบ ในกระเป๋าไม่มียา ชอบไปรัช...  \n",
       "52510207   She shot me, she shot me Bang, bang... she sho...  \n",
       "577235374  Balls hanging low while I pop a bottle off a y...  \n",
       "578737070  That she wrote, Speech to the Young: Speech to...  \n",
       "591239041  Hmm, oh-yeah-oh  Bad man lookin' good in Dior ...  \n",
       "74992451   He said he came from Jamaica He owned a couple...  \n",
       "20056730   As I walk through the valley of the shadow of ...  \n",
       "594606167  Ահ չեմ հասկանում ինչ ա կատարվում իմ գլխում Չեմ...  \n",
       "590487170  Na-na-na-na, na-na Na-na-na-na, oh no Yeah, ye...  \n",
       "370801349  Мой друг МС бомбил только легально и курил тол...  \n",
       "584725728  Got that real big energy Got that real big ene...  \n",
       "585881868  It's a lot of hoes in here, lot of lost souls ...  \n",
       "587443428  Like oh, my God, you need a rich boy To give y...  \n",
       "469270443  Astro-naut  What you know about rollin' down i...  \n",
       "585735678  Rumble, they gon' take yo' face off  Spirit of...  \n",
       "590325377  Yeah, we could be superstars We been rather wr...  \n",
       "594161539  Я со своей д*ри, тебя поцелую Как только докур...  \n",
       "595827195  Leur seul souhait, c'est que j'arrête Que je s...  \n",
       "53754394   Return of the Mack Get 'em, what it is, what i...  \n",
       "594233500  Quando la notte mi scappo dalle mani, ma tu mi...  \n",
       "54428397   Obie Trice, real name no gimmicks  Two trailer...  \n",
       "375485107  Yeah, yeah, yeah Aha, aha, habibi, Rick-, Ri-,...  \n",
       "542990923  Ay, when it come to you (sheesh) Pistol I bust...  \n",
       "468735448  Don't act like you don't know Big Narstie said...  \n",
       "594403685  О-о-о, твоя красота  Рисовал эскизы Помнишь ты...  \n",
       "345849081  Um, dois, três, quatro  No quick head in my be...  \n",
       "594732573  J'ai toujours rêvé d'être dans l'top sourd, fa...  \n",
       "104382921  2003 Arizona Iced-Out Boys Yung Leandoer, shaw...  \n",
       "45235145   Mm-mm-mm-mm Let me talk to 'em Let me talk to ...  \n",
       "217450814  Na-na-na-na (Hey) I heard it before SremmLife!...  \n",
       "315646975  Baby I like your style  Grips on your waist Fr...  \n",
       "590003456  (Your wild heart will live for younger days) (...  \n",
       "589156695  Bein' played, how's it goin' down? (All I want...  \n",
       "220791     My tea's gone cold, I'm wondering why I got ou...  \n",
       "529722332  Oh-oh-oh Yeah, yeah, yeah, yeah (yeah)  Why yo...  \n",
       "532428553  You're now listening to Camp Vamps Radio, bitc...  \n",
       "571888639  This shit contagious, doin' dope Doin' dope Th...  \n",
       "442173657  Ayy, ayy, ayy, ayy (ooh) Ooh, ooh, ooh, ooh (o...  "
      ]
     },
     "execution_count": 14,
     "metadata": {},
     "output_type": "execute_result"
    }
   ],
   "source": [
    "lyrics_df.tail(50)"
   ]
  },
  {
   "cell_type": "code",
   "execution_count": 15,
   "id": "c547fdfb-317f-4e05-bf03-0d04c44c6e62",
   "metadata": {},
   "outputs": [
    {
     "data": {
      "text/html": [
       "<div>\n",
       "<style scoped>\n",
       "    .dataframe tbody tr th:only-of-type {\n",
       "        vertical-align: middle;\n",
       "    }\n",
       "\n",
       "    .dataframe tbody tr th {\n",
       "        vertical-align: top;\n",
       "    }\n",
       "\n",
       "    .dataframe thead th {\n",
       "        text-align: right;\n",
       "    }\n",
       "</style>\n",
       "<table border=\"1\" class=\"dataframe\">\n",
       "  <thead>\n",
       "    <tr style=\"text-align: right;\">\n",
       "      <th></th>\n",
       "      <th>Track Name</th>\n",
       "      <th>Artists</th>\n",
       "      <th>Lyrics</th>\n",
       "    </tr>\n",
       "  </thead>\n",
       "  <tbody>\n",
       "    <tr>\n",
       "      <th>41264695</th>\n",
       "      <td>Bananza (Belly Dancer)</td>\n",
       "      <td>Akon</td>\n",
       "      <td>Hey, ladies drop it down Just want to see you ...</td>\n",
       "    </tr>\n",
       "    <tr>\n",
       "      <th>590362040</th>\n",
       "      <td>TO THE MOON</td>\n",
       "      <td>Jnr Choi</td>\n",
       "      <td>Pull up the ting gon' turn up Pull up the ting...</td>\n",
       "    </tr>\n",
       "    <tr>\n",
       "      <th>578340247</th>\n",
       "      <td>INDUSTRY BABY</td>\n",
       "      <td>Lil Nas X &amp; Jack Harlow</td>\n",
       "      <td>D-D-Daytrip took it to ten (hey)  Baby back, a...</td>\n",
       "    </tr>\n",
       "    <tr>\n",
       "      <th>579792092</th>\n",
       "      <td>Own Brand Freestyle</td>\n",
       "      <td>FelixThe1st &amp; Dreya Mac Feat. Finch Fetti</td>\n",
       "      <td>Little niggas really wan' at me (at me) Lockdo...</td>\n",
       "    </tr>\n",
       "    <tr>\n",
       "      <th>52510207</th>\n",
       "      <td>Bang Bang</td>\n",
       "      <td>K'naan Feat. Adam Levine</td>\n",
       "      <td>She shot me, she shot me Bang, bang... she sho...</td>\n",
       "    </tr>\n",
       "    <tr>\n",
       "      <th>577235374</th>\n",
       "      <td>edamame</td>\n",
       "      <td>bbno$ Feat. Rich Brian</td>\n",
       "      <td>Balls hanging low while I pop a bottle off a y...</td>\n",
       "    </tr>\n",
       "    <tr>\n",
       "      <th>578737070</th>\n",
       "      <td>Praise God</td>\n",
       "      <td>Kanye West</td>\n",
       "      <td>That she wrote, Speech to the Young: Speech to...</td>\n",
       "    </tr>\n",
       "    <tr>\n",
       "      <th>591239041</th>\n",
       "      <td>Dior</td>\n",
       "      <td>Ruger</td>\n",
       "      <td>Hmm, oh-yeah-oh  Bad man lookin' good in Dior ...</td>\n",
       "    </tr>\n",
       "    <tr>\n",
       "      <th>74992451</th>\n",
       "      <td>High School</td>\n",
       "      <td>Nicki Minaj Feat. Lil Wayne</td>\n",
       "      <td>He said he came from Jamaica He owned a couple...</td>\n",
       "    </tr>\n",
       "    <tr>\n",
       "      <th>20056730</th>\n",
       "      <td>Gangsta's Paradise</td>\n",
       "      <td>Coolio Feat. L.V.</td>\n",
       "      <td>As I walk through the valley of the shadow of ...</td>\n",
       "    </tr>\n",
       "    <tr>\n",
       "      <th>590487170</th>\n",
       "      <td>One Right Now</td>\n",
       "      <td>Post Malone &amp; The Weeknd</td>\n",
       "      <td>Na-na-na-na, na-na Na-na-na-na, oh no Yeah, ye...</td>\n",
       "    </tr>\n",
       "    <tr>\n",
       "      <th>584725728</th>\n",
       "      <td>Big Energy</td>\n",
       "      <td>Latto</td>\n",
       "      <td>Got that real big energy Got that real big ene...</td>\n",
       "    </tr>\n",
       "    <tr>\n",
       "      <th>585881868</th>\n",
       "      <td>lost souls</td>\n",
       "      <td>Baby Keem Feat. Brent Faiyaz</td>\n",
       "      <td>It's a lot of hoes in here, lot of lost souls ...</td>\n",
       "    </tr>\n",
       "    <tr>\n",
       "      <th>587443428</th>\n",
       "      <td>RICH BOY</td>\n",
       "      <td>payton</td>\n",
       "      <td>Like oh, my God, you need a rich boy To give y...</td>\n",
       "    </tr>\n",
       "    <tr>\n",
       "      <th>469270443</th>\n",
       "      <td>Astronaut In The Ocean</td>\n",
       "      <td>Masked Wolf</td>\n",
       "      <td>Astro-naut  What you know about rollin' down i...</td>\n",
       "    </tr>\n",
       "    <tr>\n",
       "      <th>585735678</th>\n",
       "      <td>Face Off</td>\n",
       "      <td>Tech N9ne, Joey Cool, King Iso &amp; Dwayne Johnson</td>\n",
       "      <td>Rumble, they gon' take yo' face off  Spirit of...</td>\n",
       "    </tr>\n",
       "    <tr>\n",
       "      <th>590325377</th>\n",
       "      <td>Super Gremlin</td>\n",
       "      <td>Kodak Black</td>\n",
       "      <td>Yeah, we could be superstars We been rather wr...</td>\n",
       "    </tr>\n",
       "    <tr>\n",
       "      <th>53754394</th>\n",
       "      <td>Can't Hold Us</td>\n",
       "      <td>Macklemore &amp; Ryan Lewis Feat. Ray Dalton</td>\n",
       "      <td>Return of the Mack Get 'em, what it is, what i...</td>\n",
       "    </tr>\n",
       "    <tr>\n",
       "      <th>54428397</th>\n",
       "      <td>Without Me</td>\n",
       "      <td>Eminem</td>\n",
       "      <td>Obie Trice, real name no gimmicks  Two trailer...</td>\n",
       "    </tr>\n",
       "    <tr>\n",
       "      <th>375485107</th>\n",
       "      <td>Habibi</td>\n",
       "      <td>Ricky Rich &amp; ARAM Mafia</td>\n",
       "      <td>Yeah, yeah, yeah Aha, aha, habibi, Rick-, Ri-,...</td>\n",
       "    </tr>\n",
       "    <tr>\n",
       "      <th>542990923</th>\n",
       "      <td>Chosen</td>\n",
       "      <td>Blxst &amp; Tyga Feat. Ty Dolla $ign</td>\n",
       "      <td>Ay, when it come to you (sheesh) Pistol I bust...</td>\n",
       "    </tr>\n",
       "    <tr>\n",
       "      <th>468735448</th>\n",
       "      <td>All Alone</td>\n",
       "      <td>Freddie Dredd</td>\n",
       "      <td>Don't act like you don't know Big Narstie said...</td>\n",
       "    </tr>\n",
       "    <tr>\n",
       "      <th>104382921</th>\n",
       "      <td>Ginseng Strip 2002</td>\n",
       "      <td>Yung Lean</td>\n",
       "      <td>2003 Arizona Iced-Out Boys Yung Leandoer, shaw...</td>\n",
       "    </tr>\n",
       "    <tr>\n",
       "      <th>45235145</th>\n",
       "      <td>Low</td>\n",
       "      <td>Flo Rida Feat. T-Pain</td>\n",
       "      <td>Mm-mm-mm-mm Let me talk to 'em Let me talk to ...</td>\n",
       "    </tr>\n",
       "    <tr>\n",
       "      <th>217450814</th>\n",
       "      <td>This Could Be Us</td>\n",
       "      <td>Rae Sremmurd</td>\n",
       "      <td>Na-na-na-na (Hey) I heard it before SremmLife!...</td>\n",
       "    </tr>\n",
       "    <tr>\n",
       "      <th>315646975</th>\n",
       "      <td>One Dance</td>\n",
       "      <td>Drake Feat. WizKid &amp; Kyla</td>\n",
       "      <td>Baby I like your style  Grips on your waist Fr...</td>\n",
       "    </tr>\n",
       "    <tr>\n",
       "      <th>590003456</th>\n",
       "      <td>Coming for You</td>\n",
       "      <td>SwitchOTR Feat. A1 x J1</td>\n",
       "      <td>(Your wild heart will live for younger days) (...</td>\n",
       "    </tr>\n",
       "    <tr>\n",
       "      <th>589156695</th>\n",
       "      <td>Scorpio</td>\n",
       "      <td>Moneybagg Yo</td>\n",
       "      <td>Bein' played, how's it goin' down? (All I want...</td>\n",
       "    </tr>\n",
       "    <tr>\n",
       "      <th>220791</th>\n",
       "      <td>Stan</td>\n",
       "      <td>Eminem Feat. Dido</td>\n",
       "      <td>My tea's gone cold, I'm wondering why I got ou...</td>\n",
       "    </tr>\n",
       "    <tr>\n",
       "      <th>529722332</th>\n",
       "      <td>Mood</td>\n",
       "      <td>24kGoldn Feat. iann dior</td>\n",
       "      <td>Oh-oh-oh Yeah, yeah, yeah, yeah (yeah)  Why yo...</td>\n",
       "    </tr>\n",
       "    <tr>\n",
       "      <th>532428553</th>\n",
       "      <td>Masquerade</td>\n",
       "      <td>Siouxxie</td>\n",
       "      <td>You're now listening to Camp Vamps Radio, bitc...</td>\n",
       "    </tr>\n",
       "    <tr>\n",
       "      <th>571888639</th>\n",
       "      <td>Close Eyes</td>\n",
       "      <td>DVRST</td>\n",
       "      <td>This shit contagious, doin' dope Doin' dope Th...</td>\n",
       "    </tr>\n",
       "    <tr>\n",
       "      <th>442173657</th>\n",
       "      <td>Sunflower (Spider-Man: Into The Spider-Verse)</td>\n",
       "      <td>Post Malone &amp; Swae Lee</td>\n",
       "      <td>Ayy, ayy, ayy, ayy (ooh) Ooh, ooh, ooh, ooh (o...</td>\n",
       "    </tr>\n",
       "  </tbody>\n",
       "</table>\n",
       "</div>"
      ],
      "text/plain": [
       "                                              Track Name  \\\n",
       "41264695                          Bananza (Belly Dancer)   \n",
       "590362040                                    TO THE MOON   \n",
       "578340247                                  INDUSTRY BABY   \n",
       "579792092                            Own Brand Freestyle   \n",
       "52510207                                       Bang Bang   \n",
       "577235374                                        edamame   \n",
       "578737070                                     Praise God   \n",
       "591239041                                           Dior   \n",
       "74992451                                     High School   \n",
       "20056730                              Gangsta's Paradise   \n",
       "590487170                                  One Right Now   \n",
       "584725728                                     Big Energy   \n",
       "585881868                                     lost souls   \n",
       "587443428                                       RICH BOY   \n",
       "469270443                         Astronaut In The Ocean   \n",
       "585735678                                       Face Off   \n",
       "590325377                                  Super Gremlin   \n",
       "53754394                                   Can't Hold Us   \n",
       "54428397                                      Without Me   \n",
       "375485107                                         Habibi   \n",
       "542990923                                         Chosen   \n",
       "468735448                                      All Alone   \n",
       "104382921                             Ginseng Strip 2002   \n",
       "45235145                                             Low   \n",
       "217450814                               This Could Be Us   \n",
       "315646975                                      One Dance   \n",
       "590003456                                 Coming for You   \n",
       "589156695                                        Scorpio   \n",
       "220791                                              Stan   \n",
       "529722332                                           Mood   \n",
       "532428553                                     Masquerade   \n",
       "571888639                                     Close Eyes   \n",
       "442173657  Sunflower (Spider-Man: Into The Spider-Verse)   \n",
       "\n",
       "                                                   Artists  \\\n",
       "41264695                                              Akon   \n",
       "590362040                                         Jnr Choi   \n",
       "578340247                          Lil Nas X & Jack Harlow   \n",
       "579792092        FelixThe1st & Dreya Mac Feat. Finch Fetti   \n",
       "52510207                          K'naan Feat. Adam Levine   \n",
       "577235374                           bbno$ Feat. Rich Brian   \n",
       "578737070                                       Kanye West   \n",
       "591239041                                            Ruger   \n",
       "74992451                       Nicki Minaj Feat. Lil Wayne   \n",
       "20056730                                 Coolio Feat. L.V.   \n",
       "590487170                         Post Malone & The Weeknd   \n",
       "584725728                                            Latto   \n",
       "585881868                     Baby Keem Feat. Brent Faiyaz   \n",
       "587443428                                           payton   \n",
       "469270443                                      Masked Wolf   \n",
       "585735678  Tech N9ne, Joey Cool, King Iso & Dwayne Johnson   \n",
       "590325377                                      Kodak Black   \n",
       "53754394          Macklemore & Ryan Lewis Feat. Ray Dalton   \n",
       "54428397                                            Eminem   \n",
       "375485107                          Ricky Rich & ARAM Mafia   \n",
       "542990923                 Blxst & Tyga Feat. Ty Dolla $ign   \n",
       "468735448                                    Freddie Dredd   \n",
       "104382921                                        Yung Lean   \n",
       "45235145                             Flo Rida Feat. T-Pain   \n",
       "217450814                                     Rae Sremmurd   \n",
       "315646975                        Drake Feat. WizKid & Kyla   \n",
       "590003456                          SwitchOTR Feat. A1 x J1   \n",
       "589156695                                     Moneybagg Yo   \n",
       "220791                                   Eminem Feat. Dido   \n",
       "529722332                         24kGoldn Feat. iann dior   \n",
       "532428553                                         Siouxxie   \n",
       "571888639                                            DVRST   \n",
       "442173657                           Post Malone & Swae Lee   \n",
       "\n",
       "                                                      Lyrics  \n",
       "41264695   Hey, ladies drop it down Just want to see you ...  \n",
       "590362040  Pull up the ting gon' turn up Pull up the ting...  \n",
       "578340247  D-D-Daytrip took it to ten (hey)  Baby back, a...  \n",
       "579792092  Little niggas really wan' at me (at me) Lockdo...  \n",
       "52510207   She shot me, she shot me Bang, bang... she sho...  \n",
       "577235374  Balls hanging low while I pop a bottle off a y...  \n",
       "578737070  That she wrote, Speech to the Young: Speech to...  \n",
       "591239041  Hmm, oh-yeah-oh  Bad man lookin' good in Dior ...  \n",
       "74992451   He said he came from Jamaica He owned a couple...  \n",
       "20056730   As I walk through the valley of the shadow of ...  \n",
       "590487170  Na-na-na-na, na-na Na-na-na-na, oh no Yeah, ye...  \n",
       "584725728  Got that real big energy Got that real big ene...  \n",
       "585881868  It's a lot of hoes in here, lot of lost souls ...  \n",
       "587443428  Like oh, my God, you need a rich boy To give y...  \n",
       "469270443  Astro-naut  What you know about rollin' down i...  \n",
       "585735678  Rumble, they gon' take yo' face off  Spirit of...  \n",
       "590325377  Yeah, we could be superstars We been rather wr...  \n",
       "53754394   Return of the Mack Get 'em, what it is, what i...  \n",
       "54428397   Obie Trice, real name no gimmicks  Two trailer...  \n",
       "375485107  Yeah, yeah, yeah Aha, aha, habibi, Rick-, Ri-,...  \n",
       "542990923  Ay, when it come to you (sheesh) Pistol I bust...  \n",
       "468735448  Don't act like you don't know Big Narstie said...  \n",
       "104382921  2003 Arizona Iced-Out Boys Yung Leandoer, shaw...  \n",
       "45235145   Mm-mm-mm-mm Let me talk to 'em Let me talk to ...  \n",
       "217450814  Na-na-na-na (Hey) I heard it before SremmLife!...  \n",
       "315646975  Baby I like your style  Grips on your waist Fr...  \n",
       "590003456  (Your wild heart will live for younger days) (...  \n",
       "589156695  Bein' played, how's it goin' down? (All I want...  \n",
       "220791     My tea's gone cold, I'm wondering why I got ou...  \n",
       "529722332  Oh-oh-oh Yeah, yeah, yeah, yeah (yeah)  Why yo...  \n",
       "532428553  You're now listening to Camp Vamps Radio, bitc...  \n",
       "571888639  This shit contagious, doin' dope Doin' dope Th...  \n",
       "442173657  Ayy, ayy, ayy, ayy (ooh) Ooh, ooh, ooh, ooh (o...  "
      ]
     },
     "execution_count": 15,
     "metadata": {},
     "output_type": "execute_result"
    }
   ],
   "source": [
    "#Remove empty lyrics\n",
    "new_lyrics_df = lyrics_df.drop(\n",
    "    [\n",
    "        '565785367',\n",
    "        '594606167',\n",
    "        '370801349',\n",
    "        '595827195',\n",
    "        '594233500',\n",
    "        '594403685',\n",
    "        '594732573',\n",
    "        '345849081',\n",
    "        '594161539'\n",
    "    ]\n",
    ")\n",
    "new_lyrics_df.head(50)"
   ]
  },
  {
   "cell_type": "code",
   "execution_count": 16,
   "id": "3eae86ba-613e-445b-b3b1-4f6ab3ab9588",
   "metadata": {},
   "outputs": [
    {
     "data": {
      "text/html": [
       "<div>\n",
       "<style scoped>\n",
       "    .dataframe tbody tr th:only-of-type {\n",
       "        vertical-align: middle;\n",
       "    }\n",
       "\n",
       "    .dataframe tbody tr th {\n",
       "        vertical-align: top;\n",
       "    }\n",
       "\n",
       "    .dataframe thead th {\n",
       "        text-align: right;\n",
       "    }\n",
       "</style>\n",
       "<table border=\"1\" class=\"dataframe\">\n",
       "  <thead>\n",
       "    <tr style=\"text-align: right;\">\n",
       "      <th></th>\n",
       "      <th>Track Name</th>\n",
       "      <th>Artists</th>\n",
       "      <th>Lyrics</th>\n",
       "    </tr>\n",
       "  </thead>\n",
       "  <tbody>\n",
       "    <tr>\n",
       "      <th>41264695</th>\n",
       "      <td>Bananza (Belly Dancer)</td>\n",
       "      <td>Akon</td>\n",
       "      <td>Hey, ladies drop it down Just want to see you ...</td>\n",
       "    </tr>\n",
       "    <tr>\n",
       "      <th>590362040</th>\n",
       "      <td>TO THE MOON</td>\n",
       "      <td>Jnr Choi</td>\n",
       "      <td>Pull up the ting gon' turn up Pull up the ting...</td>\n",
       "    </tr>\n",
       "    <tr>\n",
       "      <th>578340247</th>\n",
       "      <td>INDUSTRY BABY</td>\n",
       "      <td>Lil Nas X &amp; Jack Harlow</td>\n",
       "      <td>D-D-Daytrip took it to ten (hey)  Baby back, a...</td>\n",
       "    </tr>\n",
       "    <tr>\n",
       "      <th>579792092</th>\n",
       "      <td>Own Brand Freestyle</td>\n",
       "      <td>FelixThe1st &amp; Dreya Mac Feat. Finch Fetti</td>\n",
       "      <td>Little niggas really wan' at me (at me) Lockdo...</td>\n",
       "    </tr>\n",
       "    <tr>\n",
       "      <th>52510207</th>\n",
       "      <td>Bang Bang</td>\n",
       "      <td>K'naan Feat. Adam Levine</td>\n",
       "      <td>She shot me, she shot me Bang, bang... she sho...</td>\n",
       "    </tr>\n",
       "    <tr>\n",
       "      <th>577235374</th>\n",
       "      <td>edamame</td>\n",
       "      <td>bbno$ Feat. Rich Brian</td>\n",
       "      <td>Balls hanging low while I pop a bottle off a y...</td>\n",
       "    </tr>\n",
       "    <tr>\n",
       "      <th>578737070</th>\n",
       "      <td>Praise God</td>\n",
       "      <td>Kanye West</td>\n",
       "      <td>That she wrote, Speech to the Young: Speech to...</td>\n",
       "    </tr>\n",
       "    <tr>\n",
       "      <th>591239041</th>\n",
       "      <td>Dior</td>\n",
       "      <td>Ruger</td>\n",
       "      <td>Hmm, oh-yeah-oh  Bad man lookin' good in Dior ...</td>\n",
       "    </tr>\n",
       "    <tr>\n",
       "      <th>74992451</th>\n",
       "      <td>High School</td>\n",
       "      <td>Nicki Minaj Feat. Lil Wayne</td>\n",
       "      <td>He said he came from Jamaica He owned a couple...</td>\n",
       "    </tr>\n",
       "    <tr>\n",
       "      <th>20056730</th>\n",
       "      <td>Gangsta's Paradise</td>\n",
       "      <td>Coolio Feat. L.V.</td>\n",
       "      <td>As I walk through the valley of the shadow of ...</td>\n",
       "    </tr>\n",
       "    <tr>\n",
       "      <th>590487170</th>\n",
       "      <td>One Right Now</td>\n",
       "      <td>Post Malone &amp; The Weeknd</td>\n",
       "      <td>Na-na-na-na, na-na Na-na-na-na, oh no Yeah, ye...</td>\n",
       "    </tr>\n",
       "    <tr>\n",
       "      <th>584725728</th>\n",
       "      <td>Big Energy</td>\n",
       "      <td>Latto</td>\n",
       "      <td>Got that real big energy Got that real big ene...</td>\n",
       "    </tr>\n",
       "    <tr>\n",
       "      <th>585881868</th>\n",
       "      <td>lost souls</td>\n",
       "      <td>Baby Keem Feat. Brent Faiyaz</td>\n",
       "      <td>It's a lot of hoes in here, lot of lost souls ...</td>\n",
       "    </tr>\n",
       "    <tr>\n",
       "      <th>587443428</th>\n",
       "      <td>RICH BOY</td>\n",
       "      <td>payton</td>\n",
       "      <td>Like oh, my God, you need a rich boy To give y...</td>\n",
       "    </tr>\n",
       "    <tr>\n",
       "      <th>469270443</th>\n",
       "      <td>Astronaut In The Ocean</td>\n",
       "      <td>Masked Wolf</td>\n",
       "      <td>Astro-naut  What you know about rollin' down i...</td>\n",
       "    </tr>\n",
       "    <tr>\n",
       "      <th>585735678</th>\n",
       "      <td>Face Off</td>\n",
       "      <td>Tech N9ne, Joey Cool, King Iso &amp; Dwayne Johnson</td>\n",
       "      <td>Rumble, they gon' take yo' face off  Spirit of...</td>\n",
       "    </tr>\n",
       "    <tr>\n",
       "      <th>590325377</th>\n",
       "      <td>Super Gremlin</td>\n",
       "      <td>Kodak Black</td>\n",
       "      <td>Yeah, we could be superstars We been rather wr...</td>\n",
       "    </tr>\n",
       "    <tr>\n",
       "      <th>53754394</th>\n",
       "      <td>Can't Hold Us</td>\n",
       "      <td>Macklemore &amp; Ryan Lewis Feat. Ray Dalton</td>\n",
       "      <td>Return of the Mack Get 'em, what it is, what i...</td>\n",
       "    </tr>\n",
       "    <tr>\n",
       "      <th>54428397</th>\n",
       "      <td>Without Me</td>\n",
       "      <td>Eminem</td>\n",
       "      <td>Obie Trice, real name no gimmicks  Two trailer...</td>\n",
       "    </tr>\n",
       "    <tr>\n",
       "      <th>375485107</th>\n",
       "      <td>Habibi</td>\n",
       "      <td>Ricky Rich &amp; ARAM Mafia</td>\n",
       "      <td>Yeah, yeah, yeah Aha, aha, habibi, Rick-, Ri-,...</td>\n",
       "    </tr>\n",
       "    <tr>\n",
       "      <th>542990923</th>\n",
       "      <td>Chosen</td>\n",
       "      <td>Blxst &amp; Tyga Feat. Ty Dolla $ign</td>\n",
       "      <td>Ay, when it come to you (sheesh) Pistol I bust...</td>\n",
       "    </tr>\n",
       "    <tr>\n",
       "      <th>468735448</th>\n",
       "      <td>All Alone</td>\n",
       "      <td>Freddie Dredd</td>\n",
       "      <td>Don't act like you don't know Big Narstie said...</td>\n",
       "    </tr>\n",
       "    <tr>\n",
       "      <th>104382921</th>\n",
       "      <td>Ginseng Strip 2002</td>\n",
       "      <td>Yung Lean</td>\n",
       "      <td>2003 Arizona Iced-Out Boys Yung Leandoer, shaw...</td>\n",
       "    </tr>\n",
       "    <tr>\n",
       "      <th>45235145</th>\n",
       "      <td>Low</td>\n",
       "      <td>Flo Rida Feat. T-Pain</td>\n",
       "      <td>Mm-mm-mm-mm Let me talk to 'em Let me talk to ...</td>\n",
       "    </tr>\n",
       "    <tr>\n",
       "      <th>217450814</th>\n",
       "      <td>This Could Be Us</td>\n",
       "      <td>Rae Sremmurd</td>\n",
       "      <td>Na-na-na-na (Hey) I heard it before SremmLife!...</td>\n",
       "    </tr>\n",
       "    <tr>\n",
       "      <th>315646975</th>\n",
       "      <td>One Dance</td>\n",
       "      <td>Drake Feat. WizKid &amp; Kyla</td>\n",
       "      <td>Baby I like your style  Grips on your waist Fr...</td>\n",
       "    </tr>\n",
       "    <tr>\n",
       "      <th>590003456</th>\n",
       "      <td>Coming for You</td>\n",
       "      <td>SwitchOTR Feat. A1 x J1</td>\n",
       "      <td>(Your wild heart will live for younger days) (...</td>\n",
       "    </tr>\n",
       "    <tr>\n",
       "      <th>589156695</th>\n",
       "      <td>Scorpio</td>\n",
       "      <td>Moneybagg Yo</td>\n",
       "      <td>Bein' played, how's it goin' down? (All I want...</td>\n",
       "    </tr>\n",
       "    <tr>\n",
       "      <th>220791</th>\n",
       "      <td>Stan</td>\n",
       "      <td>Eminem Feat. Dido</td>\n",
       "      <td>My tea's gone cold, I'm wondering why I got ou...</td>\n",
       "    </tr>\n",
       "    <tr>\n",
       "      <th>529722332</th>\n",
       "      <td>Mood</td>\n",
       "      <td>24kGoldn Feat. iann dior</td>\n",
       "      <td>Oh-oh-oh Yeah, yeah, yeah, yeah (yeah)  Why yo...</td>\n",
       "    </tr>\n",
       "    <tr>\n",
       "      <th>532428553</th>\n",
       "      <td>Masquerade</td>\n",
       "      <td>Siouxxie</td>\n",
       "      <td>You're now listening to Camp Vamps Radio, bitc...</td>\n",
       "    </tr>\n",
       "    <tr>\n",
       "      <th>571888639</th>\n",
       "      <td>Close Eyes</td>\n",
       "      <td>DVRST</td>\n",
       "      <td>This shit contagious, doin' dope Doin' dope Th...</td>\n",
       "    </tr>\n",
       "    <tr>\n",
       "      <th>442173657</th>\n",
       "      <td>Sunflower (Spider-Man: Into The Spider-Verse)</td>\n",
       "      <td>Post Malone &amp; Swae Lee</td>\n",
       "      <td>Ayy, ayy, ayy, ayy (ooh) Ooh, ooh, ooh, ooh (o...</td>\n",
       "    </tr>\n",
       "  </tbody>\n",
       "</table>\n",
       "</div>"
      ],
      "text/plain": [
       "                                              Track Name  \\\n",
       "41264695                          Bananza (Belly Dancer)   \n",
       "590362040                                    TO THE MOON   \n",
       "578340247                                  INDUSTRY BABY   \n",
       "579792092                            Own Brand Freestyle   \n",
       "52510207                                       Bang Bang   \n",
       "577235374                                        edamame   \n",
       "578737070                                     Praise God   \n",
       "591239041                                           Dior   \n",
       "74992451                                     High School   \n",
       "20056730                              Gangsta's Paradise   \n",
       "590487170                                  One Right Now   \n",
       "584725728                                     Big Energy   \n",
       "585881868                                     lost souls   \n",
       "587443428                                       RICH BOY   \n",
       "469270443                         Astronaut In The Ocean   \n",
       "585735678                                       Face Off   \n",
       "590325377                                  Super Gremlin   \n",
       "53754394                                   Can't Hold Us   \n",
       "54428397                                      Without Me   \n",
       "375485107                                         Habibi   \n",
       "542990923                                         Chosen   \n",
       "468735448                                      All Alone   \n",
       "104382921                             Ginseng Strip 2002   \n",
       "45235145                                             Low   \n",
       "217450814                               This Could Be Us   \n",
       "315646975                                      One Dance   \n",
       "590003456                                 Coming for You   \n",
       "589156695                                        Scorpio   \n",
       "220791                                              Stan   \n",
       "529722332                                           Mood   \n",
       "532428553                                     Masquerade   \n",
       "571888639                                     Close Eyes   \n",
       "442173657  Sunflower (Spider-Man: Into The Spider-Verse)   \n",
       "\n",
       "                                                   Artists  \\\n",
       "41264695                                              Akon   \n",
       "590362040                                         Jnr Choi   \n",
       "578340247                          Lil Nas X & Jack Harlow   \n",
       "579792092        FelixThe1st & Dreya Mac Feat. Finch Fetti   \n",
       "52510207                          K'naan Feat. Adam Levine   \n",
       "577235374                           bbno$ Feat. Rich Brian   \n",
       "578737070                                       Kanye West   \n",
       "591239041                                            Ruger   \n",
       "74992451                       Nicki Minaj Feat. Lil Wayne   \n",
       "20056730                                 Coolio Feat. L.V.   \n",
       "590487170                         Post Malone & The Weeknd   \n",
       "584725728                                            Latto   \n",
       "585881868                     Baby Keem Feat. Brent Faiyaz   \n",
       "587443428                                           payton   \n",
       "469270443                                      Masked Wolf   \n",
       "585735678  Tech N9ne, Joey Cool, King Iso & Dwayne Johnson   \n",
       "590325377                                      Kodak Black   \n",
       "53754394          Macklemore & Ryan Lewis Feat. Ray Dalton   \n",
       "54428397                                            Eminem   \n",
       "375485107                          Ricky Rich & ARAM Mafia   \n",
       "542990923                 Blxst & Tyga Feat. Ty Dolla $ign   \n",
       "468735448                                    Freddie Dredd   \n",
       "104382921                                        Yung Lean   \n",
       "45235145                             Flo Rida Feat. T-Pain   \n",
       "217450814                                     Rae Sremmurd   \n",
       "315646975                        Drake Feat. WizKid & Kyla   \n",
       "590003456                          SwitchOTR Feat. A1 x J1   \n",
       "589156695                                     Moneybagg Yo   \n",
       "220791                                   Eminem Feat. Dido   \n",
       "529722332                         24kGoldn Feat. iann dior   \n",
       "532428553                                         Siouxxie   \n",
       "571888639                                            DVRST   \n",
       "442173657                           Post Malone & Swae Lee   \n",
       "\n",
       "                                                      Lyrics  \n",
       "41264695   Hey, ladies drop it down Just want to see you ...  \n",
       "590362040  Pull up the ting gon' turn up Pull up the ting...  \n",
       "578340247  D-D-Daytrip took it to ten (hey)  Baby back, a...  \n",
       "579792092  Little niggas really wan' at me (at me) Lockdo...  \n",
       "52510207   She shot me, she shot me Bang, bang... she sho...  \n",
       "577235374  Balls hanging low while I pop a bottle off a y...  \n",
       "578737070  That she wrote, Speech to the Young: Speech to...  \n",
       "591239041  Hmm, oh-yeah-oh  Bad man lookin' good in Dior ...  \n",
       "74992451   He said he came from Jamaica He owned a couple...  \n",
       "20056730   As I walk through the valley of the shadow of ...  \n",
       "590487170  Na-na-na-na, na-na Na-na-na-na, oh no Yeah, ye...  \n",
       "584725728  Got that real big energy Got that real big ene...  \n",
       "585881868  It's a lot of hoes in here, lot of lost souls ...  \n",
       "587443428  Like oh, my God, you need a rich boy To give y...  \n",
       "469270443  Astro-naut  What you know about rollin' down i...  \n",
       "585735678  Rumble, they gon' take yo' face off  Spirit of...  \n",
       "590325377  Yeah, we could be superstars We been rather wr...  \n",
       "53754394   Return of the Mack Get 'em, what it is, what i...  \n",
       "54428397   Obie Trice, real name no gimmicks  Two trailer...  \n",
       "375485107  Yeah, yeah, yeah Aha, aha, habibi, Rick-, Ri-,...  \n",
       "542990923  Ay, when it come to you (sheesh) Pistol I bust...  \n",
       "468735448  Don't act like you don't know Big Narstie said...  \n",
       "104382921  2003 Arizona Iced-Out Boys Yung Leandoer, shaw...  \n",
       "45235145   Mm-mm-mm-mm Let me talk to 'em Let me talk to ...  \n",
       "217450814  Na-na-na-na (Hey) I heard it before SremmLife!...  \n",
       "315646975  Baby I like your style  Grips on your waist Fr...  \n",
       "590003456  (Your wild heart will live for younger days) (...  \n",
       "589156695  Bein' played, how's it goin' down? (All I want...  \n",
       "220791     My tea's gone cold, I'm wondering why I got ou...  \n",
       "529722332  Oh-oh-oh Yeah, yeah, yeah, yeah (yeah)  Why yo...  \n",
       "532428553  You're now listening to Camp Vamps Radio, bitc...  \n",
       "571888639  This shit contagious, doin' dope Doin' dope Th...  \n",
       "442173657  Ayy, ayy, ayy, ayy (ooh) Ooh, ooh, ooh, ooh (o...  "
      ]
     },
     "execution_count": 16,
     "metadata": {},
     "output_type": "execute_result"
    }
   ],
   "source": [
    "new_lyrics_df.tail(50)"
   ]
  },
  {
   "cell_type": "code",
   "execution_count": 17,
   "id": "f9863254-9481-472a-b5f1-9ea151e891d8",
   "metadata": {},
   "outputs": [],
   "source": [
    "# big_string = new_lyrics_df[\"Lyrics\"].astype(str)\n",
    "# big_string.dtype"
   ]
  },
  {
   "cell_type": "markdown",
   "id": "8b629c0e-b3d3-4c27-8834-dd62c437bb21",
   "metadata": {
    "tags": []
   },
   "source": [
    "# Tokenizer\n",
    "In this section, I will use NLTK and Python to tokenize the text. This will include:\n",
    "\n",
    "- Lowercase each word\n",
    "- Remove Punctuation\n",
    "- Remove Stopwords"
   ]
  },
  {
   "cell_type": "code",
   "execution_count": 18,
   "id": "8aae103f-e2f2-4039-8694-4aa1724b4a78",
   "metadata": {},
   "outputs": [],
   "source": [
    "# Instantiate the lemmatizer\n",
    "lemmatizer = WordNetLemmatizer()"
   ]
  },
  {
   "cell_type": "code",
   "execution_count": 45,
   "id": "97b688d6-e0bc-4a2b-accd-c4a14910619e",
   "metadata": {},
   "outputs": [],
   "source": [
    "def tokenizer(Lyrics):\n",
    "    \"\"\"Tokenizes text.\"\"\"\n",
    "    # Create a list of the words\n",
    "    words_tokened = word_tokenize(Lyrics)\n",
    "\n",
    "    # Convert the words to lowercase\n",
    "    words_lowered = [word.lower() for word in words_tokened]\n",
    "\n",
    "    # Remove the punctuation\n",
    "    regex = re.compile('[^a-zA-Z]')\n",
    "    words_regexed = [regex.sub('', word) for word in words_lowered]\n",
    "    \n",
    "    # Remove the stop words\n",
    "    sw = set(stopwords.words('english'))\n",
    "    sw_add_ons = ['', 'the', 'a', 'at', 'for', 'above', 'ca', 'on', 'is', 'all', 'ai', 'nt', 'wan', 'na', 'uh', 'ay', 'ta', '(mmm)', 'Pengar', 'alla', 'shunos', 'här', 'väst', 'här', 'vill', 'ha', 'ladies', 'Paris-marseille-seille-seille', 'Ayy,', 'habibi,',  'Côt-côté',  'passager,',  'pote,', \"c'était\", 'mort', \"j'ai\", 'enveloppé', \"l'corazon\", 'puissant', \"qu'on\", 'enquête,', 'enquête', \"n'a\", \"d'limite\", 'nos.', 'rick-,', 'ri-,', '(jojo)','ricky', 'aram', 'mafia', 'hon', 'beaucoup', \"d'choses\", 'tête,', \"j'veux\", 'aller', 'mes', 'rêves', 'Déconné,', 'viens', 'déconné,', 'déconné', \"t'es\", \"n'y\", \"j'assume\", 'rôle,' 'trône,.','shit!', 'Tutti', 'miei', 'trucchi,', 'tuoi', 'capelli', 'rosa', '(oddio)', 'quegli', 'occhi', 'così', 'grandi,', \"c'è\", 'spazio', 'è.','coochie', '(slime)', 'bullets', 'bisexual', \"(it's\", 'Knew?', 'ho,', 'na-na-na-na', '(hey).','Воем', 'облака', 'сердце', 'тихо', 'плачет', 'болит,', 'но', 'нам', 'не', 'хватало', 'двоих', 'одной', 'любви', 'мало', 'нам.','vélodrome,', \"l'double\", 'clés', 'baissez', 'cagoules,', 'allumez', \"l'moteur,\", 'chargez', 'machins', '(chargez machins)', \"l'club,\", 'gov,.','tell?' 'regular?', 'Trois', 'assez', \"n'pense\", \"qu'à\", 'brasser?', \"j'veux\", 'quartier', 'vue', 'mer,', 'voulait', 'juste.','Cerchi', 'ti', 'sei', 'insinuata,', 'sinuosa', 'con', 'molti', 'nemici', '(aha)', 'shitty','ig?', '(mm)', 'halfway?','soos', 'mal', 'balanza', '¿millonarios', 'quieren', 'comprar', 'mi', \"J'veux\", 'vie,', 'matins', 'obscurs', 'goût', \"d'déjà\", 'vu', 'nuits', 'mortes', 'monde', \"t'a\", 'abandonné,', 'même', 'gentiment,.','opp,.','(ooh,.','Mecs', 'mettent', 'verre', \"l'air\", 'parfumé', 'avec', 'choupetta,', 'posé', 'gt3', 'poto,', \"j'suis.\",'Braquent', \"'gasin\", 'peine', 'fou,', 'ici,', 'sait', 'trucs', \"j'ai\", 'cote', \"j'te\", 'connais', 'lune', 'fin', 'désert.','(that grip)', \"S'était\", \"t'es,\", 'menaçant', 'g2b,', 'pi-pi-pi-pi-pi,', 'bezbar', 'puissanci', 'dis-leur', \"qu'on\", 'veut', 'montrer', \"(yo'\", 'son).','Bitch?','Best)', 'lines?', 'soos', 'mal', 'naaier.','H-', \"t'arrache\", 'prends.','kilode', 'ti,', 'kilode.',\"T'pousses,\", 'bouillants', 'braise', 'a7,', \"d'sept,\", \"j'rentre\", 'pété,', 'christian,', 'giuseppe', 'baiser,', 'métier,', 'parc', 'vélodrome,.''(big,',  'big.','Troverà', 'pa-pa-ra,', 'pussy,',  'depuis', 'toute', 'petite,' \"m'a\", 'dit', 'faut',  \"d'oseilles\", 'donc', 'mets', 'peine,', 'oui', 'teh', \"j'espère\", \"qu'ils\", 'comprendront', \"j'suis\", 'très', 'loin', 'terre', 'trois', 'assez',\"n'pense\", \"qu'à\", 'brasser?', 'quartier', 'vue', 'mer,', 'masser', 'voulait', 'juste', \"êt'\", 'libre,', \"d'la\", 'alors', 'nuit,', 'nuit', 'nos', 'rêves', \"n'ont\", \"d'prix\", 'alors', 'prie', 'crois-moi,', 'ferais', \"qu'mes\", 'se', 'réalisent','essayent', 'prendre', 'trône,', 'ouais', 'dit', 'leurs', \"qu'ils\", 'essaient', \"j'en\", 'vu', 'signes,', \"j'en\", 'suis', 'coup', \"d'essai\", 'combattu', 'binks', \"j'suis\", 'hautes', 'sphères', 'faut', 'viser', 'tête', 'veux', 'voir', 'tomber', \"l'instant\", \"d'plan\", 'b,', 'ouais', \"d'la\", 'tanger', 'déboussoler', \"d'partout,\", 'étranger,', 'ouais', 'trois', 'assez', \"n'pense\",\"qu'à\", \"j'veux\",'réalisent', 'voulait', 'juste', \"êt'\", \"d'la\", 'alors', \"n'ont\", \"d'prix\", 'prie', 'crois-moi,', 'ferais', 'jojo', \"qu'mes\", 'réalisent', 'toute', 'är', 'farlig,', 'helt', 'olaglig', 'en', 'riktig', 'galning,', 'habibi', 'hon', 'är', 'tia', 'som', 'min', 'nya', 'mamacita,', 'habibi', 'hon', 'är', 'farlig,', 'helt', 'olaglig', 'en', 'riktig', 'galning,', 'habibi', 'som', 'min', 'nya', 'sjuk,', 'inget', 'normalt', 'pengar', 'hon', 'är', 'så', 'jet,', 'hon', 'är', 'benims', 'bästa', 'kram', 'för', 'varje', 'gång', 'träffas', 'så', 'får', 'jag', 'det', 'jag','skakar', 'sin', 'göt', 'gör', 'mig', 'hungrig,', 'feel', 'na-na-na,', 'guzzen', 'har', 'fått', 'mig', 'att', 'falla-la', 'jag', 'att', 'du', 'träffar', 'min', 'mamma-ma,', 'blicken', 'du', 'ger', 'mig', 'får', 'mig', 'aj,' 'du', 'är', 'så', 'sexig', 'sängen,', 'hetsig', 'baby,', 'felfri', 'olaglig', 'en', 'riktig', 'galning,', 'jane', 'stress', 'du', 'kicka', '3:30?', 'får', 'jag', 'casha', 'din', 'dress?', 'hur', 'du', 'slänger', 'ditt', 'hår', 'habibi,', 'på', 'en', 'annan', 'nivå', 'så', 'galen', 'när', 'dina', 'lår', 'nu', 'är', 'det', 'bara', 'hon', 'kan', 'dansa', 'du', 'och', 'jag,', 'kan', 'haffla', 'cashen', 'kastar', 'habibi,', 'vart', 'du', 'vill,' 'gör', 'shoutdown', 'habibi,', 'du', 'kan', 'ratta', 'min', 'c-klass', 'jag', 'kan', 'ge', 'dig', 'fyra', 'ringar', 'du', 'förtjänar', 'allt habibi,', 'farlig,', 'helt', 'olaglig', 'riktig', 'galning', 'nya', 'um', 'dois', 'três', 'quatro', 'ayy,', 'côtoie', 'pas,', 'c', 'est', 'sentimental'  'j',  'mon', 'bébé', 'est', 'nous', 'haïssent', 'qu', 'ils', 'veulent,',  'oh', 'yeah,.', 'ladies', \"fuckin'\", 'd-d-daytrip', 'créme', '(fucking', 'fuckin',  'dé', \"motherfuckin'\", 'fuckin', 'fucking', \"mutherfuckin'\", '(doctor)', 'fais', 'Cashen', 'vi', 'två', 'D-D-Daytrip', 'よ！', 'じゃぁ 行こうぞ！', '-)', 'D', 'sha', 'ba', 'RGF', '(no)', 'too–)', '\"felix', 'nuff)', '(pally)', 'start)', '(nah', 'baddie)', '(like,', '(you', '(with', '(wait)', 'rgf', '(bitch)', 'bitches,', '(smoke)', 'caress)', 'bluff)', '(ah,', '(bitch,', '\"bitch,',   '(just',  'up)', 'bitch!', 'dope)', 'dick', '(', '(ayy, ayy)', '(wet)', '(hah)', 'ジャンケンポン！', '(', ')', 'dddaytrip', '(ohh)', '(you look too–)', '-', 'all-all', '(nah)', 'that)', '(yeah)', 'me)', '(calm)', 'u[p', '(at', ' me)', 'b', '(ah ah)', '(ah', 'ah', 'ah)', '(uh-huh)', '(hey',  'girl)', 'ah', '(valleys)', '(cali)', 'stuff)', 'nigga', 'niggas', 'niggas?\"', 'niggas,', 'shit', 'fuck', 'bitch', 'bitch,', 'fucked', 'pussy', 'hoe', 'motherfucker', 'bitches', 'Temps,', 'v', '-esqui',  'les', 'jnouns,', 'hein,', 'mais', 'pas', 'tout', 'ça)', 'oh,', 'bébé,', 'si', 'tu', 'demandes', 'pourquoi.', '(c', 'mon)', 'chefi',  'toto', 'beats', 'plus', 'de', 'dialogue', '(non)', 'jour', 'meilleur', 'rira', 'quand', 'coeur', 'rempli', 'chansons', 'qui', 'refleurissent', 'broke-ass', 'aj', 'jet', 'ski', 'rör', 'vill,' 'allt', 'jet', 'aj,' 'aj', 'um,', 'dois,', 'três,', 'marche', 'arrière', '(ouais,', 'ouais)', 'love,', 'pour', 'moi', 'ça', '(ouais, ouais)', 'des', 'hauts,', 'des', 'bas,', 'vie', 'd', 'ghetto,', 'vie', 'vit', 'ça,', 'mwana', 'boka', 'vient', 'blocka', 'vivra', 'verra,', 's','assagit', 'cœur', 'pirate,' 'fallait', 'peu', 'pour', 'finir', 'ensemble,', 'trop', 'promesses', 'au', 'portable', 'pour', 'ton', 'ça', 'pète,' 'ramasser', 'douillеs,', 'cogne', 'pour', 'deux', '(cogne pour deux)', 'barre',  'lumière', 'dans', 'le', 'noir,', 'je', 'sens', 'bien', 'près', 'toi', 'il', 'n' 'y', 'perdre', 'temps,', 'ai',  'fait', 'serré', '(j', 'ai', 'déconné,' 'viens', 'm', 'faire', 'un', 'busa)', 's', 'est', 'promis', 's','aimer', '(tu', 'sais', 'pourquoi', 'fait', 't','es', 'seul,', 'seul', 'la,', 'lala,', 'une', 'fille', 'à', 'toutes', 'saisons', 'l', 'amour', 'd', 'un', 'garçon', 'ay,', 'dreya', 'Время', 'тает', 'как', 'же', 'было', 'увидаться', 'пропитанная', 'дымом', 'так', 'хотел', 'с', 'тобой', 'на', 'дне', 'сгорала.', 'Печаль', 'покидают', 'силы,', 'мило', 'остаться', 'я', 'тобою', 'навек', 'веки', 'тяжелы', 'и', 'лжи', 'она', 'инь-янь', 'искала,.', 'Remplir', 'l', 'biberon', 'bambin', 'ah,', 'plein', 'crush,', 'nageuse', 'norme,', 'bugatti', 'divo', 'est', 'jolie,', 'elle,', 'c', 'est',  'dе.', 'Guérilla,', 'là', 'tartine,', 'dort,', 'que', 'paroles', 'et', \"m'aimes,\", 'tant.', 'bahia', 'é', 'capitão', 'areia', 'garoto', 'abandonado', \"d'avancer\", \"l'verra\",  'sous', 'meilleur,', 'problème', 'la', \"c'est\", \"qu'y\", \"qu'une\", 'soignera', 'jamais', 'la', 'dépression', 'comme', 'soigne', 'rhume', 'dis-toi', 'pourras', 'compter', 'sur', 'temps', \"qu'ça\" 'dure', 'allergique', 'la', \"'écouter\", 'va', 'changer,', 'enfin,', 'sauf', \"l'fais\", \"t'as\", \"l'désert\", 'traverser,', 'rien', 'faire,', 'sauf', 'rien', 'sauf', \"d'variét\", 'où', 'meufs', 'sont', 'tous', 'morceaux', \"(j'ai\", 'déconné,' 'viens', \"m'faire\", \"s'est\", \"s'aimer\", \"j'fait\"]\n",
    "    stopwords_removed = [word.lower() for word in words_regexed if word not in sw.union(sw_add_ons)]\n",
    "\n",
    "    # Lemmatize Words into root words\n",
    "    lemmatizer = WordNetLemmatizer()\n",
    "    tokens = [lemmatizer.lemmatize(word) for word in stopwords_removed]\n",
    "\n",
    "    return tokens"
   ]
  },
  {
   "cell_type": "code",
   "execution_count": 46,
   "id": "1e12f962-40cd-4376-b458-b463b2093a2e",
   "metadata": {},
   "outputs": [
    {
     "data": {
      "text/html": [
       "<div>\n",
       "<style scoped>\n",
       "    .dataframe tbody tr th:only-of-type {\n",
       "        vertical-align: middle;\n",
       "    }\n",
       "\n",
       "    .dataframe tbody tr th {\n",
       "        vertical-align: top;\n",
       "    }\n",
       "\n",
       "    .dataframe thead th {\n",
       "        text-align: right;\n",
       "    }\n",
       "</style>\n",
       "<table border=\"1\" class=\"dataframe\">\n",
       "  <thead>\n",
       "    <tr style=\"text-align: right;\">\n",
       "      <th></th>\n",
       "      <th>index</th>\n",
       "      <th>Track Name</th>\n",
       "      <th>Artists</th>\n",
       "      <th>Lyrics</th>\n",
       "      <th>Tokens</th>\n",
       "    </tr>\n",
       "  </thead>\n",
       "  <tbody>\n",
       "    <tr>\n",
       "      <th>0</th>\n",
       "      <td>41264695</td>\n",
       "      <td>Bananza (Belly Dancer)</td>\n",
       "      <td>Akon</td>\n",
       "      <td>Hey, ladies drop it down Just want to see you ...</td>\n",
       "      <td>[hey, drop, want, see, touch, ground, shy, gir...</td>\n",
       "    </tr>\n",
       "    <tr>\n",
       "      <th>1</th>\n",
       "      <td>590362040</td>\n",
       "      <td>TO THE MOON</td>\n",
       "      <td>Jnr Choi</td>\n",
       "      <td>Pull up the ting gon' turn up Pull up the ting...</td>\n",
       "      <td>[pull, ting, gon, turn, pull, ting, gon, turn,...</td>\n",
       "    </tr>\n",
       "    <tr>\n",
       "      <th>2</th>\n",
       "      <td>578340247</td>\n",
       "      <td>INDUSTRY BABY</td>\n",
       "      <td>Lil Nas X &amp; Jack Harlow</td>\n",
       "      <td>D-D-Daytrip took it to ten (hey)  Baby back, a...</td>\n",
       "      <td>[took, ten, hey, baby, back, ayy, couple, rack...</td>\n",
       "    </tr>\n",
       "    <tr>\n",
       "      <th>3</th>\n",
       "      <td>579792092</td>\n",
       "      <td>Own Brand Freestyle</td>\n",
       "      <td>FelixThe1st &amp; Dreya Mac Feat. Finch Fetti</td>\n",
       "      <td>Little niggas really wan' at me (at me) Lockdo...</td>\n",
       "      <td>[little, really, lockdown, still, doin, cali, ...</td>\n",
       "    </tr>\n",
       "    <tr>\n",
       "      <th>4</th>\n",
       "      <td>52510207</td>\n",
       "      <td>Bang Bang</td>\n",
       "      <td>K'naan Feat. Adam Levine</td>\n",
       "      <td>She shot me, she shot me Bang, bang... she sho...</td>\n",
       "      <td>[shot, shot, bang, bang, shot, shot, shot, ban...</td>\n",
       "    </tr>\n",
       "  </tbody>\n",
       "</table>\n",
       "</div>"
      ],
      "text/plain": [
       "       index              Track Name  \\\n",
       "0   41264695  Bananza (Belly Dancer)   \n",
       "1  590362040             TO THE MOON   \n",
       "2  578340247           INDUSTRY BABY   \n",
       "3  579792092     Own Brand Freestyle   \n",
       "4   52510207               Bang Bang   \n",
       "\n",
       "                                     Artists  \\\n",
       "0                                       Akon   \n",
       "1                                   Jnr Choi   \n",
       "2                    Lil Nas X & Jack Harlow   \n",
       "3  FelixThe1st & Dreya Mac Feat. Finch Fetti   \n",
       "4                   K'naan Feat. Adam Levine   \n",
       "\n",
       "                                              Lyrics  \\\n",
       "0  Hey, ladies drop it down Just want to see you ...   \n",
       "1  Pull up the ting gon' turn up Pull up the ting...   \n",
       "2  D-D-Daytrip took it to ten (hey)  Baby back, a...   \n",
       "3  Little niggas really wan' at me (at me) Lockdo...   \n",
       "4  She shot me, she shot me Bang, bang... she sho...   \n",
       "\n",
       "                                              Tokens  \n",
       "0  [hey, drop, want, see, touch, ground, shy, gir...  \n",
       "1  [pull, ting, gon, turn, pull, ting, gon, turn,...  \n",
       "2  [took, ten, hey, baby, back, ayy, couple, rack...  \n",
       "3  [little, really, lockdown, still, doin, cali, ...  \n",
       "4  [shot, shot, bang, bang, shot, shot, shot, ban...  "
      ]
     },
     "execution_count": 46,
     "metadata": {},
     "output_type": "execute_result"
    }
   ],
   "source": [
    "# Create a new tokens column for lyrics\n",
    "lyrics_tokens = [tokenizer(words) for words in new_lyrics_df['Lyrics']]\n",
    "new_lyrics_df['Tokens'] = lyrics_tokens\n",
    "new_lyrics_df.head()"
   ]
  },
  {
   "cell_type": "code",
   "execution_count": 47,
   "id": "69cb67b9-087b-4b3d-a400-de36d2cb11f9",
   "metadata": {},
   "outputs": [],
   "source": [
    "# new_lyrics_df.reset_index(inplace=True)\n",
    "# new_lyrics_df"
   ]
  },
  {
   "cell_type": "code",
   "execution_count": 48,
   "id": "e78fec6e-3a94-4696-8241-0e201f6e1ebf",
   "metadata": {},
   "outputs": [
    {
     "data": {
      "text/html": [
       "<div>\n",
       "<style scoped>\n",
       "    .dataframe tbody tr th:only-of-type {\n",
       "        vertical-align: middle;\n",
       "    }\n",
       "\n",
       "    .dataframe tbody tr th {\n",
       "        vertical-align: top;\n",
       "    }\n",
       "\n",
       "    .dataframe thead th {\n",
       "        text-align: right;\n",
       "    }\n",
       "</style>\n",
       "<table border=\"1\" class=\"dataframe\">\n",
       "  <thead>\n",
       "    <tr style=\"text-align: right;\">\n",
       "      <th></th>\n",
       "      <th>Lyrics</th>\n",
       "      <th>Tokens</th>\n",
       "    </tr>\n",
       "  </thead>\n",
       "  <tbody>\n",
       "    <tr>\n",
       "      <th>0</th>\n",
       "      <td>Hey, ladies drop it down Just want to see you ...</td>\n",
       "      <td>[hey, drop, want, see, touch, ground, shy, gir...</td>\n",
       "    </tr>\n",
       "    <tr>\n",
       "      <th>1</th>\n",
       "      <td>Pull up the ting gon' turn up Pull up the ting...</td>\n",
       "      <td>[pull, ting, gon, turn, pull, ting, gon, turn,...</td>\n",
       "    </tr>\n",
       "    <tr>\n",
       "      <th>2</th>\n",
       "      <td>D-D-Daytrip took it to ten (hey)  Baby back, a...</td>\n",
       "      <td>[took, ten, hey, baby, back, ayy, couple, rack...</td>\n",
       "    </tr>\n",
       "    <tr>\n",
       "      <th>3</th>\n",
       "      <td>Little niggas really wan' at me (at me) Lockdo...</td>\n",
       "      <td>[little, really, lockdown, still, doin, cali, ...</td>\n",
       "    </tr>\n",
       "    <tr>\n",
       "      <th>4</th>\n",
       "      <td>She shot me, she shot me Bang, bang... she sho...</td>\n",
       "      <td>[shot, shot, bang, bang, shot, shot, shot, ban...</td>\n",
       "    </tr>\n",
       "    <tr>\n",
       "      <th>5</th>\n",
       "      <td>Balls hanging low while I pop a bottle off a y...</td>\n",
       "      <td>[ball, hanging, low, pop, bottle, yacht, chain...</td>\n",
       "    </tr>\n",
       "    <tr>\n",
       "      <th>6</th>\n",
       "      <td>That she wrote, Speech to the Young: Speech to...</td>\n",
       "      <td>[wrote, speech, young, speech, progress, towar...</td>\n",
       "    </tr>\n",
       "    <tr>\n",
       "      <th>7</th>\n",
       "      <td>Hmm, oh-yeah-oh  Bad man lookin' good in Dior ...</td>\n",
       "      <td>[hmm, ohyeahoh, bad, man, lookin, good, dior, ...</td>\n",
       "    </tr>\n",
       "    <tr>\n",
       "      <th>8</th>\n",
       "      <td>He said he came from Jamaica He owned a couple...</td>\n",
       "      <td>[said, came, jamaica, owned, couple, acre, cou...</td>\n",
       "    </tr>\n",
       "    <tr>\n",
       "      <th>9</th>\n",
       "      <td>As I walk through the valley of the shadow of ...</td>\n",
       "      <td>[walk, valley, shadow, death, take, look, life...</td>\n",
       "    </tr>\n",
       "    <tr>\n",
       "      <th>10</th>\n",
       "      <td>Na-na-na-na, na-na Na-na-na-na, oh no Yeah, ye...</td>\n",
       "      <td>[nananana, nana, nananana, yeah, yeah, said, l...</td>\n",
       "    </tr>\n",
       "    <tr>\n",
       "      <th>11</th>\n",
       "      <td>Got that real big energy Got that real big ene...</td>\n",
       "      <td>[got, real, big, energy, got, real, big, energ...</td>\n",
       "    </tr>\n",
       "    <tr>\n",
       "      <th>12</th>\n",
       "      <td>It's a lot of hoes in here, lot of lost souls ...</td>\n",
       "      <td>[lot, hoe, lot, lost, soul, whole, group, dime...</td>\n",
       "    </tr>\n",
       "    <tr>\n",
       "      <th>13</th>\n",
       "      <td>Like oh, my God, you need a rich boy To give y...</td>\n",
       "      <td>[like, god, need, rich, boy, give, power, like...</td>\n",
       "    </tr>\n",
       "    <tr>\n",
       "      <th>14</th>\n",
       "      <td>Astro-naut  What you know about rollin' down i...</td>\n",
       "      <td>[astronaut, know, rollin, deep, brain, go, num...</td>\n",
       "    </tr>\n",
       "    <tr>\n",
       "      <th>15</th>\n",
       "      <td>Rumble, they gon' take yo' face off  Spirit of...</td>\n",
       "      <td>[rumble, gon, take, yo, face, spirit, lion, de...</td>\n",
       "    </tr>\n",
       "    <tr>\n",
       "      <th>16</th>\n",
       "      <td>Yeah, we could be superstars We been rather wr...</td>\n",
       "      <td>[yeah, could, superstar, rather, wreckin, car,...</td>\n",
       "    </tr>\n",
       "    <tr>\n",
       "      <th>17</th>\n",
       "      <td>Return of the Mack Get 'em, what it is, what i...</td>\n",
       "      <td>[return, mack, get, em, looking, better, way, ...</td>\n",
       "    </tr>\n",
       "    <tr>\n",
       "      <th>18</th>\n",
       "      <td>Obie Trice, real name no gimmicks  Two trailer...</td>\n",
       "      <td>[obie, trice, real, name, gimmick, two, traile...</td>\n",
       "    </tr>\n",
       "    <tr>\n",
       "      <th>19</th>\n",
       "      <td>Yeah, yeah, yeah Aha, aha, habibi, Rick-, Ri-,...</td>\n",
       "      <td>[yeah, yeah, yeah, aha, aha, rick, ri, rich, r...</td>\n",
       "    </tr>\n",
       "    <tr>\n",
       "      <th>20</th>\n",
       "      <td>Ay, when it come to you (sheesh) Pistol I bust...</td>\n",
       "      <td>[come, sheesh, pistol, bust, issue, trust, wo,...</td>\n",
       "    </tr>\n",
       "    <tr>\n",
       "      <th>21</th>\n",
       "      <td>Don't act like you don't know Big Narstie said...</td>\n",
       "      <td>[act, like, know, big, narstie, said, base, kn...</td>\n",
       "    </tr>\n",
       "    <tr>\n",
       "      <th>22</th>\n",
       "      <td>2003 Arizona Iced-Out Boys Yung Leandoer, shaw...</td>\n",
       "      <td>[arizona, icedout, boy, yung, leandoer, shawty...</td>\n",
       "    </tr>\n",
       "    <tr>\n",
       "      <th>23</th>\n",
       "      <td>Mm-mm-mm-mm Let me talk to 'em Let me talk to ...</td>\n",
       "      <td>[mmmmmmmm, let, talk, em, let, talk, em, let, ...</td>\n",
       "    </tr>\n",
       "    <tr>\n",
       "      <th>24</th>\n",
       "      <td>Na-na-na-na (Hey) I heard it before SremmLife!...</td>\n",
       "      <td>[nananana, hey, heard, sremmlife, hey, eardrum...</td>\n",
       "    </tr>\n",
       "    <tr>\n",
       "      <th>25</th>\n",
       "      <td>Baby I like your style  Grips on your waist Fr...</td>\n",
       "      <td>[baby, like, style, grip, waist, front, way, b...</td>\n",
       "    </tr>\n",
       "    <tr>\n",
       "      <th>26</th>\n",
       "      <td>(Your wild heart will live for younger days) (...</td>\n",
       "      <td>[wild, heart, live, younger, day, think, ever,...</td>\n",
       "    </tr>\n",
       "    <tr>\n",
       "      <th>27</th>\n",
       "      <td>Bein' played, how's it goin' down? (All I want...</td>\n",
       "      <td>[bein, played, goin, want, til, gone, got, kno...</td>\n",
       "    </tr>\n",
       "    <tr>\n",
       "      <th>28</th>\n",
       "      <td>My tea's gone cold, I'm wondering why I got ou...</td>\n",
       "      <td>[tea, gone, cold, wondering, got, bed, morning...</td>\n",
       "    </tr>\n",
       "    <tr>\n",
       "      <th>29</th>\n",
       "      <td>Oh-oh-oh Yeah, yeah, yeah, yeah (yeah)  Why yo...</td>\n",
       "      <td>[ohohoh, yeah, yeah, yeah, yeah, yeah, always,...</td>\n",
       "    </tr>\n",
       "    <tr>\n",
       "      <th>30</th>\n",
       "      <td>You're now listening to Camp Vamps Radio, bitc...</td>\n",
       "      <td>[listening, camp, vamp, radio, sipping, blood,...</td>\n",
       "    </tr>\n",
       "    <tr>\n",
       "      <th>31</th>\n",
       "      <td>This shit contagious, doin' dope Doin' dope Th...</td>\n",
       "      <td>[contagious, doin, dope, doin, dope, contagiou...</td>\n",
       "    </tr>\n",
       "    <tr>\n",
       "      <th>32</th>\n",
       "      <td>Ayy, ayy, ayy, ayy (ooh) Ooh, ooh, ooh, ooh (o...</td>\n",
       "      <td>[ayy, ayy, ayy, ayy, ooh, ooh, ooh, ooh, ooh, ...</td>\n",
       "    </tr>\n",
       "  </tbody>\n",
       "</table>\n",
       "</div>"
      ],
      "text/plain": [
       "                                               Lyrics  \\\n",
       "0   Hey, ladies drop it down Just want to see you ...   \n",
       "1   Pull up the ting gon' turn up Pull up the ting...   \n",
       "2   D-D-Daytrip took it to ten (hey)  Baby back, a...   \n",
       "3   Little niggas really wan' at me (at me) Lockdo...   \n",
       "4   She shot me, she shot me Bang, bang... she sho...   \n",
       "5   Balls hanging low while I pop a bottle off a y...   \n",
       "6   That she wrote, Speech to the Young: Speech to...   \n",
       "7   Hmm, oh-yeah-oh  Bad man lookin' good in Dior ...   \n",
       "8   He said he came from Jamaica He owned a couple...   \n",
       "9   As I walk through the valley of the shadow of ...   \n",
       "10  Na-na-na-na, na-na Na-na-na-na, oh no Yeah, ye...   \n",
       "11  Got that real big energy Got that real big ene...   \n",
       "12  It's a lot of hoes in here, lot of lost souls ...   \n",
       "13  Like oh, my God, you need a rich boy To give y...   \n",
       "14  Astro-naut  What you know about rollin' down i...   \n",
       "15  Rumble, they gon' take yo' face off  Spirit of...   \n",
       "16  Yeah, we could be superstars We been rather wr...   \n",
       "17  Return of the Mack Get 'em, what it is, what i...   \n",
       "18  Obie Trice, real name no gimmicks  Two trailer...   \n",
       "19  Yeah, yeah, yeah Aha, aha, habibi, Rick-, Ri-,...   \n",
       "20  Ay, when it come to you (sheesh) Pistol I bust...   \n",
       "21  Don't act like you don't know Big Narstie said...   \n",
       "22  2003 Arizona Iced-Out Boys Yung Leandoer, shaw...   \n",
       "23  Mm-mm-mm-mm Let me talk to 'em Let me talk to ...   \n",
       "24  Na-na-na-na (Hey) I heard it before SremmLife!...   \n",
       "25  Baby I like your style  Grips on your waist Fr...   \n",
       "26  (Your wild heart will live for younger days) (...   \n",
       "27  Bein' played, how's it goin' down? (All I want...   \n",
       "28  My tea's gone cold, I'm wondering why I got ou...   \n",
       "29  Oh-oh-oh Yeah, yeah, yeah, yeah (yeah)  Why yo...   \n",
       "30  You're now listening to Camp Vamps Radio, bitc...   \n",
       "31  This shit contagious, doin' dope Doin' dope Th...   \n",
       "32  Ayy, ayy, ayy, ayy (ooh) Ooh, ooh, ooh, ooh (o...   \n",
       "\n",
       "                                               Tokens  \n",
       "0   [hey, drop, want, see, touch, ground, shy, gir...  \n",
       "1   [pull, ting, gon, turn, pull, ting, gon, turn,...  \n",
       "2   [took, ten, hey, baby, back, ayy, couple, rack...  \n",
       "3   [little, really, lockdown, still, doin, cali, ...  \n",
       "4   [shot, shot, bang, bang, shot, shot, shot, ban...  \n",
       "5   [ball, hanging, low, pop, bottle, yacht, chain...  \n",
       "6   [wrote, speech, young, speech, progress, towar...  \n",
       "7   [hmm, ohyeahoh, bad, man, lookin, good, dior, ...  \n",
       "8   [said, came, jamaica, owned, couple, acre, cou...  \n",
       "9   [walk, valley, shadow, death, take, look, life...  \n",
       "10  [nananana, nana, nananana, yeah, yeah, said, l...  \n",
       "11  [got, real, big, energy, got, real, big, energ...  \n",
       "12  [lot, hoe, lot, lost, soul, whole, group, dime...  \n",
       "13  [like, god, need, rich, boy, give, power, like...  \n",
       "14  [astronaut, know, rollin, deep, brain, go, num...  \n",
       "15  [rumble, gon, take, yo, face, spirit, lion, de...  \n",
       "16  [yeah, could, superstar, rather, wreckin, car,...  \n",
       "17  [return, mack, get, em, looking, better, way, ...  \n",
       "18  [obie, trice, real, name, gimmick, two, traile...  \n",
       "19  [yeah, yeah, yeah, aha, aha, rick, ri, rich, r...  \n",
       "20  [come, sheesh, pistol, bust, issue, trust, wo,...  \n",
       "21  [act, like, know, big, narstie, said, base, kn...  \n",
       "22  [arizona, icedout, boy, yung, leandoer, shawty...  \n",
       "23  [mmmmmmmm, let, talk, em, let, talk, em, let, ...  \n",
       "24  [nananana, hey, heard, sremmlife, hey, eardrum...  \n",
       "25  [baby, like, style, grip, waist, front, way, b...  \n",
       "26  [wild, heart, live, younger, day, think, ever,...  \n",
       "27  [bein, played, goin, want, til, gone, got, kno...  \n",
       "28  [tea, gone, cold, wondering, got, bed, morning...  \n",
       "29  [ohohoh, yeah, yeah, yeah, yeah, yeah, always,...  \n",
       "30  [listening, camp, vamp, radio, sipping, blood,...  \n",
       "31  [contagious, doin, dope, doin, dope, contagiou...  \n",
       "32  [ayy, ayy, ayy, ayy, ooh, ooh, ooh, ooh, ooh, ...  "
      ]
     },
     "execution_count": 48,
     "metadata": {},
     "output_type": "execute_result"
    }
   ],
   "source": [
    "new_lyrics_df[['Lyrics', 'Tokens']]"
   ]
  },
  {
   "cell_type": "markdown",
   "id": "ac620772-b47c-43a0-8cd2-64acb4ab97e0",
   "metadata": {},
   "source": [
    "# Calculating VADER Sentiment Score for LYRICS\n",
    "\n",
    "As you know the `compound` score could be used to get a normalized score for a sentiment. We create a function called `get_sentiment(score)` that will return a normalized value of sentiment for the `score` parameter based on the rules. This function should return `1` for positive sentiment, `-1` for negative sentiment, and `0` for neutral sentiment."
   ]
  },
  {
   "cell_type": "code",
   "execution_count": 49,
   "id": "3499b1d1-9613-4bea-94fc-7cf3f7ecbd62",
   "metadata": {},
   "outputs": [
    {
     "name": "stderr",
     "output_type": "stream",
     "text": [
      "[nltk_data] Downloading package vader_lexicon to\n",
      "[nltk_data]     /Users/moniqueferguson/nltk_data...\n",
      "[nltk_data]   Package vader_lexicon is already up-to-date!\n"
     ]
    }
   ],
   "source": [
    "# Download/Update the VADER Lexicon\n",
    "nltk.download(\"vader_lexicon\")\n",
    "\n",
    "# Initialize the VADER sentiment analyzer\n",
    "analyzer = SentimentIntensityAnalyzer()"
   ]
  },
  {
   "cell_type": "code",
   "execution_count": 50,
   "id": "5318bdc1-5ebf-47b1-a915-917f8a3a36f7",
   "metadata": {},
   "outputs": [],
   "source": [
    "# Sentiment calculation based on compound score\n",
    "def get_sentiment(score):\n",
    "    \"\"\"\n",
    "    Calculates the sentiment based on the compound score.\n",
    "    \"\"\"\n",
    "    result = 0  # Neutral by default\n",
    "    if score >= 0.05:  # Positive\n",
    "        result = 1\n",
    "    elif score <= -0.05:  # Negative\n",
    "        result = -1\n",
    "\n",
    "    return result\n"
   ]
  },
  {
   "cell_type": "code",
   "execution_count": 51,
   "id": "e7c064a6-9982-427f-9edc-71e1cbbf6fb2",
   "metadata": {},
   "outputs": [
    {
     "data": {
      "text/html": [
       "<div>\n",
       "<style scoped>\n",
       "    .dataframe tbody tr th:only-of-type {\n",
       "        vertical-align: middle;\n",
       "    }\n",
       "\n",
       "    .dataframe tbody tr th {\n",
       "        vertical-align: top;\n",
       "    }\n",
       "\n",
       "    .dataframe thead th {\n",
       "        text-align: right;\n",
       "    }\n",
       "</style>\n",
       "<table border=\"1\" class=\"dataframe\">\n",
       "  <thead>\n",
       "    <tr style=\"text-align: right;\">\n",
       "      <th></th>\n",
       "      <th>index</th>\n",
       "      <th>Track Name</th>\n",
       "      <th>Artists</th>\n",
       "      <th>Lyrics</th>\n",
       "      <th>Tokens</th>\n",
       "      <th>lyrics_compound</th>\n",
       "      <th>lyrics_pos</th>\n",
       "      <th>lyrics_neu</th>\n",
       "      <th>lyrics_neg</th>\n",
       "      <th>lyrics_sent</th>\n",
       "    </tr>\n",
       "  </thead>\n",
       "  <tbody>\n",
       "    <tr>\n",
       "      <th>0</th>\n",
       "      <td>41264695</td>\n",
       "      <td>Bananza (Belly Dancer)</td>\n",
       "      <td>Akon</td>\n",
       "      <td>Hey, ladies drop it down Just want to see you ...</td>\n",
       "      <td>[hey, drop, want, see, touch, ground, shy, gir...</td>\n",
       "      <td>0.9904</td>\n",
       "      <td>0.158</td>\n",
       "      <td>0.754</td>\n",
       "      <td>0.087</td>\n",
       "      <td>1</td>\n",
       "    </tr>\n",
       "    <tr>\n",
       "      <th>1</th>\n",
       "      <td>590362040</td>\n",
       "      <td>TO THE MOON</td>\n",
       "      <td>Jnr Choi</td>\n",
       "      <td>Pull up the ting gon' turn up Pull up the ting...</td>\n",
       "      <td>[pull, ting, gon, turn, pull, ting, gon, turn,...</td>\n",
       "      <td>0.4215</td>\n",
       "      <td>0.076</td>\n",
       "      <td>0.887</td>\n",
       "      <td>0.036</td>\n",
       "      <td>1</td>\n",
       "    </tr>\n",
       "    <tr>\n",
       "      <th>2</th>\n",
       "      <td>578340247</td>\n",
       "      <td>INDUSTRY BABY</td>\n",
       "      <td>Lil Nas X &amp; Jack Harlow</td>\n",
       "      <td>D-D-Daytrip took it to ten (hey)  Baby back, a...</td>\n",
       "      <td>[took, ten, hey, baby, back, ayy, couple, rack...</td>\n",
       "      <td>0.9967</td>\n",
       "      <td>0.161</td>\n",
       "      <td>0.801</td>\n",
       "      <td>0.038</td>\n",
       "      <td>1</td>\n",
       "    </tr>\n",
       "    <tr>\n",
       "      <th>3</th>\n",
       "      <td>579792092</td>\n",
       "      <td>Own Brand Freestyle</td>\n",
       "      <td>FelixThe1st &amp; Dreya Mac Feat. Finch Fetti</td>\n",
       "      <td>Little niggas really wan' at me (at me) Lockdo...</td>\n",
       "      <td>[little, really, lockdown, still, doin, cali, ...</td>\n",
       "      <td>0.9968</td>\n",
       "      <td>0.224</td>\n",
       "      <td>0.636</td>\n",
       "      <td>0.140</td>\n",
       "      <td>1</td>\n",
       "    </tr>\n",
       "    <tr>\n",
       "      <th>4</th>\n",
       "      <td>52510207</td>\n",
       "      <td>Bang Bang</td>\n",
       "      <td>K'naan Feat. Adam Levine</td>\n",
       "      <td>She shot me, she shot me Bang, bang... she sho...</td>\n",
       "      <td>[shot, shot, bang, bang, shot, shot, shot, ban...</td>\n",
       "      <td>0.9943</td>\n",
       "      <td>0.128</td>\n",
       "      <td>0.828</td>\n",
       "      <td>0.044</td>\n",
       "      <td>1</td>\n",
       "    </tr>\n",
       "    <tr>\n",
       "      <th>5</th>\n",
       "      <td>577235374</td>\n",
       "      <td>edamame</td>\n",
       "      <td>bbno$ Feat. Rich Brian</td>\n",
       "      <td>Balls hanging low while I pop a bottle off a y...</td>\n",
       "      <td>[ball, hanging, low, pop, bottle, yacht, chain...</td>\n",
       "      <td>0.9719</td>\n",
       "      <td>0.169</td>\n",
       "      <td>0.717</td>\n",
       "      <td>0.113</td>\n",
       "      <td>1</td>\n",
       "    </tr>\n",
       "    <tr>\n",
       "      <th>6</th>\n",
       "      <td>578737070</td>\n",
       "      <td>Praise God</td>\n",
       "      <td>Kanye West</td>\n",
       "      <td>That she wrote, Speech to the Young: Speech to...</td>\n",
       "      <td>[wrote, speech, young, speech, progress, towar...</td>\n",
       "      <td>0.7701</td>\n",
       "      <td>0.110</td>\n",
       "      <td>0.796</td>\n",
       "      <td>0.094</td>\n",
       "      <td>1</td>\n",
       "    </tr>\n",
       "    <tr>\n",
       "      <th>7</th>\n",
       "      <td>591239041</td>\n",
       "      <td>Dior</td>\n",
       "      <td>Ruger</td>\n",
       "      <td>Hmm, oh-yeah-oh  Bad man lookin' good in Dior ...</td>\n",
       "      <td>[hmm, ohyeahoh, bad, man, lookin, good, dior, ...</td>\n",
       "      <td>-0.9879</td>\n",
       "      <td>0.103</td>\n",
       "      <td>0.737</td>\n",
       "      <td>0.160</td>\n",
       "      <td>-1</td>\n",
       "    </tr>\n",
       "    <tr>\n",
       "      <th>8</th>\n",
       "      <td>74992451</td>\n",
       "      <td>High School</td>\n",
       "      <td>Nicki Minaj Feat. Lil Wayne</td>\n",
       "      <td>He said he came from Jamaica He owned a couple...</td>\n",
       "      <td>[said, came, jamaica, owned, couple, acre, cou...</td>\n",
       "      <td>0.9947</td>\n",
       "      <td>0.178</td>\n",
       "      <td>0.753</td>\n",
       "      <td>0.069</td>\n",
       "      <td>1</td>\n",
       "    </tr>\n",
       "    <tr>\n",
       "      <th>9</th>\n",
       "      <td>20056730</td>\n",
       "      <td>Gangsta's Paradise</td>\n",
       "      <td>Coolio Feat. L.V.</td>\n",
       "      <td>As I walk through the valley of the shadow of ...</td>\n",
       "      <td>[walk, valley, shadow, death, take, look, life...</td>\n",
       "      <td>0.9917</td>\n",
       "      <td>0.170</td>\n",
       "      <td>0.722</td>\n",
       "      <td>0.108</td>\n",
       "      <td>1</td>\n",
       "    </tr>\n",
       "    <tr>\n",
       "      <th>10</th>\n",
       "      <td>590487170</td>\n",
       "      <td>One Right Now</td>\n",
       "      <td>Post Malone &amp; The Weeknd</td>\n",
       "      <td>Na-na-na-na, na-na Na-na-na-na, oh no Yeah, ye...</td>\n",
       "      <td>[nananana, nana, nananana, yeah, yeah, said, l...</td>\n",
       "      <td>0.9587</td>\n",
       "      <td>0.179</td>\n",
       "      <td>0.685</td>\n",
       "      <td>0.137</td>\n",
       "      <td>1</td>\n",
       "    </tr>\n",
       "    <tr>\n",
       "      <th>11</th>\n",
       "      <td>584725728</td>\n",
       "      <td>Big Energy</td>\n",
       "      <td>Latto</td>\n",
       "      <td>Got that real big energy Got that real big ene...</td>\n",
       "      <td>[got, real, big, energy, got, real, big, energ...</td>\n",
       "      <td>0.9915</td>\n",
       "      <td>0.168</td>\n",
       "      <td>0.744</td>\n",
       "      <td>0.088</td>\n",
       "      <td>1</td>\n",
       "    </tr>\n",
       "    <tr>\n",
       "      <th>12</th>\n",
       "      <td>585881868</td>\n",
       "      <td>lost souls</td>\n",
       "      <td>Baby Keem Feat. Brent Faiyaz</td>\n",
       "      <td>It's a lot of hoes in here, lot of lost souls ...</td>\n",
       "      <td>[lot, hoe, lot, lost, soul, whole, group, dime...</td>\n",
       "      <td>-0.7495</td>\n",
       "      <td>0.138</td>\n",
       "      <td>0.710</td>\n",
       "      <td>0.152</td>\n",
       "      <td>-1</td>\n",
       "    </tr>\n",
       "    <tr>\n",
       "      <th>13</th>\n",
       "      <td>587443428</td>\n",
       "      <td>RICH BOY</td>\n",
       "      <td>payton</td>\n",
       "      <td>Like oh, my God, you need a rich boy To give y...</td>\n",
       "      <td>[like, god, need, rich, boy, give, power, like...</td>\n",
       "      <td>0.9918</td>\n",
       "      <td>0.171</td>\n",
       "      <td>0.731</td>\n",
       "      <td>0.098</td>\n",
       "      <td>1</td>\n",
       "    </tr>\n",
       "    <tr>\n",
       "      <th>14</th>\n",
       "      <td>469270443</td>\n",
       "      <td>Astronaut In The Ocean</td>\n",
       "      <td>Masked Wolf</td>\n",
       "      <td>Astro-naut  What you know about rollin' down i...</td>\n",
       "      <td>[astronaut, know, rollin, deep, brain, go, num...</td>\n",
       "      <td>0.9776</td>\n",
       "      <td>0.170</td>\n",
       "      <td>0.738</td>\n",
       "      <td>0.092</td>\n",
       "      <td>1</td>\n",
       "    </tr>\n",
       "    <tr>\n",
       "      <th>15</th>\n",
       "      <td>585735678</td>\n",
       "      <td>Face Off</td>\n",
       "      <td>Tech N9ne, Joey Cool, King Iso &amp; Dwayne Johnson</td>\n",
       "      <td>Rumble, they gon' take yo' face off  Spirit of...</td>\n",
       "      <td>[rumble, gon, take, yo, face, spirit, lion, de...</td>\n",
       "      <td>-0.8315</td>\n",
       "      <td>0.100</td>\n",
       "      <td>0.794</td>\n",
       "      <td>0.107</td>\n",
       "      <td>-1</td>\n",
       "    </tr>\n",
       "    <tr>\n",
       "      <th>16</th>\n",
       "      <td>590325377</td>\n",
       "      <td>Super Gremlin</td>\n",
       "      <td>Kodak Black</td>\n",
       "      <td>Yeah, we could be superstars We been rather wr...</td>\n",
       "      <td>[yeah, could, superstar, rather, wreckin, car,...</td>\n",
       "      <td>-0.9974</td>\n",
       "      <td>0.123</td>\n",
       "      <td>0.668</td>\n",
       "      <td>0.209</td>\n",
       "      <td>-1</td>\n",
       "    </tr>\n",
       "    <tr>\n",
       "      <th>17</th>\n",
       "      <td>53754394</td>\n",
       "      <td>Can't Hold Us</td>\n",
       "      <td>Macklemore &amp; Ryan Lewis Feat. Ray Dalton</td>\n",
       "      <td>Return of the Mack Get 'em, what it is, what i...</td>\n",
       "      <td>[return, mack, get, em, looking, better, way, ...</td>\n",
       "      <td>0.9946</td>\n",
       "      <td>0.129</td>\n",
       "      <td>0.809</td>\n",
       "      <td>0.062</td>\n",
       "      <td>1</td>\n",
       "    </tr>\n",
       "    <tr>\n",
       "      <th>18</th>\n",
       "      <td>54428397</td>\n",
       "      <td>Without Me</td>\n",
       "      <td>Eminem</td>\n",
       "      <td>Obie Trice, real name no gimmicks  Two trailer...</td>\n",
       "      <td>[obie, trice, real, name, gimmick, two, traile...</td>\n",
       "      <td>-0.9988</td>\n",
       "      <td>0.079</td>\n",
       "      <td>0.724</td>\n",
       "      <td>0.197</td>\n",
       "      <td>-1</td>\n",
       "    </tr>\n",
       "    <tr>\n",
       "      <th>19</th>\n",
       "      <td>375485107</td>\n",
       "      <td>Habibi</td>\n",
       "      <td>Ricky Rich &amp; ARAM Mafia</td>\n",
       "      <td>Yeah, yeah, yeah Aha, aha, habibi, Rick-, Ri-,...</td>\n",
       "      <td>[yeah, yeah, yeah, aha, aha, rick, ri, rich, r...</td>\n",
       "      <td>0.9631</td>\n",
       "      <td>0.102</td>\n",
       "      <td>0.863</td>\n",
       "      <td>0.035</td>\n",
       "      <td>1</td>\n",
       "    </tr>\n",
       "    <tr>\n",
       "      <th>20</th>\n",
       "      <td>542990923</td>\n",
       "      <td>Chosen</td>\n",
       "      <td>Blxst &amp; Tyga Feat. Ty Dolla $ign</td>\n",
       "      <td>Ay, when it come to you (sheesh) Pistol I bust...</td>\n",
       "      <td>[come, sheesh, pistol, bust, issue, trust, wo,...</td>\n",
       "      <td>-0.9053</td>\n",
       "      <td>0.142</td>\n",
       "      <td>0.705</td>\n",
       "      <td>0.153</td>\n",
       "      <td>-1</td>\n",
       "    </tr>\n",
       "    <tr>\n",
       "      <th>21</th>\n",
       "      <td>468735448</td>\n",
       "      <td>All Alone</td>\n",
       "      <td>Freddie Dredd</td>\n",
       "      <td>Don't act like you don't know Big Narstie said...</td>\n",
       "      <td>[act, like, know, big, narstie, said, base, kn...</td>\n",
       "      <td>-0.9990</td>\n",
       "      <td>0.069</td>\n",
       "      <td>0.688</td>\n",
       "      <td>0.244</td>\n",
       "      <td>-1</td>\n",
       "    </tr>\n",
       "    <tr>\n",
       "      <th>22</th>\n",
       "      <td>104382921</td>\n",
       "      <td>Ginseng Strip 2002</td>\n",
       "      <td>Yung Lean</td>\n",
       "      <td>2003 Arizona Iced-Out Boys Yung Leandoer, shaw...</td>\n",
       "      <td>[arizona, icedout, boy, yung, leandoer, shawty...</td>\n",
       "      <td>-0.9927</td>\n",
       "      <td>0.152</td>\n",
       "      <td>0.599</td>\n",
       "      <td>0.249</td>\n",
       "      <td>-1</td>\n",
       "    </tr>\n",
       "    <tr>\n",
       "      <th>23</th>\n",
       "      <td>45235145</td>\n",
       "      <td>Low</td>\n",
       "      <td>Flo Rida Feat. T-Pain</td>\n",
       "      <td>Mm-mm-mm-mm Let me talk to 'em Let me talk to ...</td>\n",
       "      <td>[mmmmmmmm, let, talk, em, let, talk, em, let, ...</td>\n",
       "      <td>-0.9971</td>\n",
       "      <td>0.059</td>\n",
       "      <td>0.749</td>\n",
       "      <td>0.192</td>\n",
       "      <td>-1</td>\n",
       "    </tr>\n",
       "    <tr>\n",
       "      <th>24</th>\n",
       "      <td>217450814</td>\n",
       "      <td>This Could Be Us</td>\n",
       "      <td>Rae Sremmurd</td>\n",
       "      <td>Na-na-na-na (Hey) I heard it before SremmLife!...</td>\n",
       "      <td>[nananana, hey, heard, sremmlife, hey, eardrum...</td>\n",
       "      <td>-0.9811</td>\n",
       "      <td>0.115</td>\n",
       "      <td>0.741</td>\n",
       "      <td>0.143</td>\n",
       "      <td>-1</td>\n",
       "    </tr>\n",
       "    <tr>\n",
       "      <th>25</th>\n",
       "      <td>315646975</td>\n",
       "      <td>One Dance</td>\n",
       "      <td>Drake Feat. WizKid &amp; Kyla</td>\n",
       "      <td>Baby I like your style  Grips on your waist Fr...</td>\n",
       "      <td>[baby, like, style, grip, waist, front, way, b...</td>\n",
       "      <td>0.9919</td>\n",
       "      <td>0.153</td>\n",
       "      <td>0.794</td>\n",
       "      <td>0.053</td>\n",
       "      <td>1</td>\n",
       "    </tr>\n",
       "    <tr>\n",
       "      <th>26</th>\n",
       "      <td>590003456</td>\n",
       "      <td>Coming for You</td>\n",
       "      <td>SwitchOTR Feat. A1 x J1</td>\n",
       "      <td>(Your wild heart will live for younger days) (...</td>\n",
       "      <td>[wild, heart, live, younger, day, think, ever,...</td>\n",
       "      <td>-0.9795</td>\n",
       "      <td>0.136</td>\n",
       "      <td>0.682</td>\n",
       "      <td>0.182</td>\n",
       "      <td>-1</td>\n",
       "    </tr>\n",
       "    <tr>\n",
       "      <th>27</th>\n",
       "      <td>589156695</td>\n",
       "      <td>Scorpio</td>\n",
       "      <td>Moneybagg Yo</td>\n",
       "      <td>Bein' played, how's it goin' down? (All I want...</td>\n",
       "      <td>[bein, played, goin, want, til, gone, got, kno...</td>\n",
       "      <td>0.9811</td>\n",
       "      <td>0.156</td>\n",
       "      <td>0.739</td>\n",
       "      <td>0.106</td>\n",
       "      <td>1</td>\n",
       "    </tr>\n",
       "    <tr>\n",
       "      <th>28</th>\n",
       "      <td>220791</td>\n",
       "      <td>Stan</td>\n",
       "      <td>Eminem Feat. Dido</td>\n",
       "      <td>My tea's gone cold, I'm wondering why I got ou...</td>\n",
       "      <td>[tea, gone, cold, wondering, got, bed, morning...</td>\n",
       "      <td>0.8649</td>\n",
       "      <td>0.151</td>\n",
       "      <td>0.709</td>\n",
       "      <td>0.141</td>\n",
       "      <td>1</td>\n",
       "    </tr>\n",
       "    <tr>\n",
       "      <th>29</th>\n",
       "      <td>529722332</td>\n",
       "      <td>Mood</td>\n",
       "      <td>24kGoldn Feat. iann dior</td>\n",
       "      <td>Oh-oh-oh Yeah, yeah, yeah, yeah (yeah)  Why yo...</td>\n",
       "      <td>[ohohoh, yeah, yeah, yeah, yeah, yeah, always,...</td>\n",
       "      <td>0.9978</td>\n",
       "      <td>0.251</td>\n",
       "      <td>0.655</td>\n",
       "      <td>0.094</td>\n",
       "      <td>1</td>\n",
       "    </tr>\n",
       "    <tr>\n",
       "      <th>30</th>\n",
       "      <td>532428553</td>\n",
       "      <td>Masquerade</td>\n",
       "      <td>Siouxxie</td>\n",
       "      <td>You're now listening to Camp Vamps Radio, bitc...</td>\n",
       "      <td>[listening, camp, vamp, radio, sipping, blood,...</td>\n",
       "      <td>0.9897</td>\n",
       "      <td>0.197</td>\n",
       "      <td>0.700</td>\n",
       "      <td>0.103</td>\n",
       "      <td>1</td>\n",
       "    </tr>\n",
       "    <tr>\n",
       "      <th>31</th>\n",
       "      <td>571888639</td>\n",
       "      <td>Close Eyes</td>\n",
       "      <td>DVRST</td>\n",
       "      <td>This shit contagious, doin' dope Doin' dope Th...</td>\n",
       "      <td>[contagious, doin, dope, doin, dope, contagiou...</td>\n",
       "      <td>-0.9989</td>\n",
       "      <td>0.043</td>\n",
       "      <td>0.669</td>\n",
       "      <td>0.288</td>\n",
       "      <td>-1</td>\n",
       "    </tr>\n",
       "    <tr>\n",
       "      <th>32</th>\n",
       "      <td>442173657</td>\n",
       "      <td>Sunflower (Spider-Man: Into The Spider-Verse)</td>\n",
       "      <td>Post Malone &amp; Swae Lee</td>\n",
       "      <td>Ayy, ayy, ayy, ayy (ooh) Ooh, ooh, ooh, ooh (o...</td>\n",
       "      <td>[ayy, ayy, ayy, ayy, ooh, ooh, ooh, ooh, ooh, ...</td>\n",
       "      <td>-0.4784</td>\n",
       "      <td>0.067</td>\n",
       "      <td>0.840</td>\n",
       "      <td>0.093</td>\n",
       "      <td>-1</td>\n",
       "    </tr>\n",
       "  </tbody>\n",
       "</table>\n",
       "</div>"
      ],
      "text/plain": [
       "        index                                     Track Name  \\\n",
       "0    41264695                         Bananza (Belly Dancer)   \n",
       "1   590362040                                    TO THE MOON   \n",
       "2   578340247                                  INDUSTRY BABY   \n",
       "3   579792092                            Own Brand Freestyle   \n",
       "4    52510207                                      Bang Bang   \n",
       "5   577235374                                        edamame   \n",
       "6   578737070                                     Praise God   \n",
       "7   591239041                                           Dior   \n",
       "8    74992451                                    High School   \n",
       "9    20056730                             Gangsta's Paradise   \n",
       "10  590487170                                  One Right Now   \n",
       "11  584725728                                     Big Energy   \n",
       "12  585881868                                     lost souls   \n",
       "13  587443428                                       RICH BOY   \n",
       "14  469270443                         Astronaut In The Ocean   \n",
       "15  585735678                                       Face Off   \n",
       "16  590325377                                  Super Gremlin   \n",
       "17   53754394                                  Can't Hold Us   \n",
       "18   54428397                                     Without Me   \n",
       "19  375485107                                         Habibi   \n",
       "20  542990923                                         Chosen   \n",
       "21  468735448                                      All Alone   \n",
       "22  104382921                             Ginseng Strip 2002   \n",
       "23   45235145                                            Low   \n",
       "24  217450814                               This Could Be Us   \n",
       "25  315646975                                      One Dance   \n",
       "26  590003456                                 Coming for You   \n",
       "27  589156695                                        Scorpio   \n",
       "28     220791                                           Stan   \n",
       "29  529722332                                           Mood   \n",
       "30  532428553                                     Masquerade   \n",
       "31  571888639                                     Close Eyes   \n",
       "32  442173657  Sunflower (Spider-Man: Into The Spider-Verse)   \n",
       "\n",
       "                                            Artists  \\\n",
       "0                                              Akon   \n",
       "1                                          Jnr Choi   \n",
       "2                           Lil Nas X & Jack Harlow   \n",
       "3         FelixThe1st & Dreya Mac Feat. Finch Fetti   \n",
       "4                          K'naan Feat. Adam Levine   \n",
       "5                            bbno$ Feat. Rich Brian   \n",
       "6                                        Kanye West   \n",
       "7                                             Ruger   \n",
       "8                       Nicki Minaj Feat. Lil Wayne   \n",
       "9                                 Coolio Feat. L.V.   \n",
       "10                         Post Malone & The Weeknd   \n",
       "11                                            Latto   \n",
       "12                     Baby Keem Feat. Brent Faiyaz   \n",
       "13                                           payton   \n",
       "14                                      Masked Wolf   \n",
       "15  Tech N9ne, Joey Cool, King Iso & Dwayne Johnson   \n",
       "16                                      Kodak Black   \n",
       "17         Macklemore & Ryan Lewis Feat. Ray Dalton   \n",
       "18                                           Eminem   \n",
       "19                          Ricky Rich & ARAM Mafia   \n",
       "20                 Blxst & Tyga Feat. Ty Dolla $ign   \n",
       "21                                    Freddie Dredd   \n",
       "22                                        Yung Lean   \n",
       "23                            Flo Rida Feat. T-Pain   \n",
       "24                                     Rae Sremmurd   \n",
       "25                        Drake Feat. WizKid & Kyla   \n",
       "26                          SwitchOTR Feat. A1 x J1   \n",
       "27                                     Moneybagg Yo   \n",
       "28                                Eminem Feat. Dido   \n",
       "29                         24kGoldn Feat. iann dior   \n",
       "30                                         Siouxxie   \n",
       "31                                            DVRST   \n",
       "32                           Post Malone & Swae Lee   \n",
       "\n",
       "                                               Lyrics  \\\n",
       "0   Hey, ladies drop it down Just want to see you ...   \n",
       "1   Pull up the ting gon' turn up Pull up the ting...   \n",
       "2   D-D-Daytrip took it to ten (hey)  Baby back, a...   \n",
       "3   Little niggas really wan' at me (at me) Lockdo...   \n",
       "4   She shot me, she shot me Bang, bang... she sho...   \n",
       "5   Balls hanging low while I pop a bottle off a y...   \n",
       "6   That she wrote, Speech to the Young: Speech to...   \n",
       "7   Hmm, oh-yeah-oh  Bad man lookin' good in Dior ...   \n",
       "8   He said he came from Jamaica He owned a couple...   \n",
       "9   As I walk through the valley of the shadow of ...   \n",
       "10  Na-na-na-na, na-na Na-na-na-na, oh no Yeah, ye...   \n",
       "11  Got that real big energy Got that real big ene...   \n",
       "12  It's a lot of hoes in here, lot of lost souls ...   \n",
       "13  Like oh, my God, you need a rich boy To give y...   \n",
       "14  Astro-naut  What you know about rollin' down i...   \n",
       "15  Rumble, they gon' take yo' face off  Spirit of...   \n",
       "16  Yeah, we could be superstars We been rather wr...   \n",
       "17  Return of the Mack Get 'em, what it is, what i...   \n",
       "18  Obie Trice, real name no gimmicks  Two trailer...   \n",
       "19  Yeah, yeah, yeah Aha, aha, habibi, Rick-, Ri-,...   \n",
       "20  Ay, when it come to you (sheesh) Pistol I bust...   \n",
       "21  Don't act like you don't know Big Narstie said...   \n",
       "22  2003 Arizona Iced-Out Boys Yung Leandoer, shaw...   \n",
       "23  Mm-mm-mm-mm Let me talk to 'em Let me talk to ...   \n",
       "24  Na-na-na-na (Hey) I heard it before SremmLife!...   \n",
       "25  Baby I like your style  Grips on your waist Fr...   \n",
       "26  (Your wild heart will live for younger days) (...   \n",
       "27  Bein' played, how's it goin' down? (All I want...   \n",
       "28  My tea's gone cold, I'm wondering why I got ou...   \n",
       "29  Oh-oh-oh Yeah, yeah, yeah, yeah (yeah)  Why yo...   \n",
       "30  You're now listening to Camp Vamps Radio, bitc...   \n",
       "31  This shit contagious, doin' dope Doin' dope Th...   \n",
       "32  Ayy, ayy, ayy, ayy (ooh) Ooh, ooh, ooh, ooh (o...   \n",
       "\n",
       "                                               Tokens  lyrics_compound  \\\n",
       "0   [hey, drop, want, see, touch, ground, shy, gir...           0.9904   \n",
       "1   [pull, ting, gon, turn, pull, ting, gon, turn,...           0.4215   \n",
       "2   [took, ten, hey, baby, back, ayy, couple, rack...           0.9967   \n",
       "3   [little, really, lockdown, still, doin, cali, ...           0.9968   \n",
       "4   [shot, shot, bang, bang, shot, shot, shot, ban...           0.9943   \n",
       "5   [ball, hanging, low, pop, bottle, yacht, chain...           0.9719   \n",
       "6   [wrote, speech, young, speech, progress, towar...           0.7701   \n",
       "7   [hmm, ohyeahoh, bad, man, lookin, good, dior, ...          -0.9879   \n",
       "8   [said, came, jamaica, owned, couple, acre, cou...           0.9947   \n",
       "9   [walk, valley, shadow, death, take, look, life...           0.9917   \n",
       "10  [nananana, nana, nananana, yeah, yeah, said, l...           0.9587   \n",
       "11  [got, real, big, energy, got, real, big, energ...           0.9915   \n",
       "12  [lot, hoe, lot, lost, soul, whole, group, dime...          -0.7495   \n",
       "13  [like, god, need, rich, boy, give, power, like...           0.9918   \n",
       "14  [astronaut, know, rollin, deep, brain, go, num...           0.9776   \n",
       "15  [rumble, gon, take, yo, face, spirit, lion, de...          -0.8315   \n",
       "16  [yeah, could, superstar, rather, wreckin, car,...          -0.9974   \n",
       "17  [return, mack, get, em, looking, better, way, ...           0.9946   \n",
       "18  [obie, trice, real, name, gimmick, two, traile...          -0.9988   \n",
       "19  [yeah, yeah, yeah, aha, aha, rick, ri, rich, r...           0.9631   \n",
       "20  [come, sheesh, pistol, bust, issue, trust, wo,...          -0.9053   \n",
       "21  [act, like, know, big, narstie, said, base, kn...          -0.9990   \n",
       "22  [arizona, icedout, boy, yung, leandoer, shawty...          -0.9927   \n",
       "23  [mmmmmmmm, let, talk, em, let, talk, em, let, ...          -0.9971   \n",
       "24  [nananana, hey, heard, sremmlife, hey, eardrum...          -0.9811   \n",
       "25  [baby, like, style, grip, waist, front, way, b...           0.9919   \n",
       "26  [wild, heart, live, younger, day, think, ever,...          -0.9795   \n",
       "27  [bein, played, goin, want, til, gone, got, kno...           0.9811   \n",
       "28  [tea, gone, cold, wondering, got, bed, morning...           0.8649   \n",
       "29  [ohohoh, yeah, yeah, yeah, yeah, yeah, always,...           0.9978   \n",
       "30  [listening, camp, vamp, radio, sipping, blood,...           0.9897   \n",
       "31  [contagious, doin, dope, doin, dope, contagiou...          -0.9989   \n",
       "32  [ayy, ayy, ayy, ayy, ooh, ooh, ooh, ooh, ooh, ...          -0.4784   \n",
       "\n",
       "    lyrics_pos  lyrics_neu  lyrics_neg  lyrics_sent  \n",
       "0        0.158       0.754       0.087            1  \n",
       "1        0.076       0.887       0.036            1  \n",
       "2        0.161       0.801       0.038            1  \n",
       "3        0.224       0.636       0.140            1  \n",
       "4        0.128       0.828       0.044            1  \n",
       "5        0.169       0.717       0.113            1  \n",
       "6        0.110       0.796       0.094            1  \n",
       "7        0.103       0.737       0.160           -1  \n",
       "8        0.178       0.753       0.069            1  \n",
       "9        0.170       0.722       0.108            1  \n",
       "10       0.179       0.685       0.137            1  \n",
       "11       0.168       0.744       0.088            1  \n",
       "12       0.138       0.710       0.152           -1  \n",
       "13       0.171       0.731       0.098            1  \n",
       "14       0.170       0.738       0.092            1  \n",
       "15       0.100       0.794       0.107           -1  \n",
       "16       0.123       0.668       0.209           -1  \n",
       "17       0.129       0.809       0.062            1  \n",
       "18       0.079       0.724       0.197           -1  \n",
       "19       0.102       0.863       0.035            1  \n",
       "20       0.142       0.705       0.153           -1  \n",
       "21       0.069       0.688       0.244           -1  \n",
       "22       0.152       0.599       0.249           -1  \n",
       "23       0.059       0.749       0.192           -1  \n",
       "24       0.115       0.741       0.143           -1  \n",
       "25       0.153       0.794       0.053            1  \n",
       "26       0.136       0.682       0.182           -1  \n",
       "27       0.156       0.739       0.106            1  \n",
       "28       0.151       0.709       0.141            1  \n",
       "29       0.251       0.655       0.094            1  \n",
       "30       0.197       0.700       0.103            1  \n",
       "31       0.043       0.669       0.288           -1  \n",
       "32       0.067       0.840       0.093           -1  "
      ]
     },
     "execution_count": 51,
     "metadata": {},
     "output_type": "execute_result"
    }
   ],
   "source": [
    "# Sentiment scores dictionaries\n",
    "lyrics_sent = {\n",
    "    \"lyrics_compound\": [],\n",
    "    \"lyrics_pos\": [],\n",
    "    \"lyrics_neu\": [],\n",
    "    \"lyrics_neg\": [],\n",
    "    \"lyrics_sent\": [],\n",
    "}\n",
    "\n",
    "# Get sentiment for the lyrics\n",
    "for index, row in new_lyrics_df.iterrows():\n",
    "    try:\n",
    "        # Sentiment scoring with VADER\n",
    "        lyrics_sentiment = analyzer.polarity_scores(row[\"Lyrics\"])\n",
    "        lyrics_sent[\"lyrics_compound\"].append(lyrics_sentiment[\"compound\"])\n",
    "        lyrics_sent[\"lyrics_pos\"].append(lyrics_sentiment[\"pos\"])\n",
    "        lyrics_sent[\"lyrics_neu\"].append(lyrics_sentiment[\"neu\"])\n",
    "        lyrics_sent[\"lyrics_neg\"].append(lyrics_sentiment[\"neg\"])\n",
    "        lyrics_sent[\"lyrics_sent\"].append(get_sentiment(lyrics_sentiment[\"compound\"]))\n",
    "\n",
    "    except AttributeError:\n",
    "        pass\n",
    "\n",
    "# Attaching sentiment columns to the News DataFrame\n",
    "lyrics_sentiment_df = pd.DataFrame(lyrics_sent)\n",
    "\n",
    "# new_lyrics_df = new_lyrics_df.join(lyrics_sentiment_df)\n",
    "\n",
    "# new_lyrics_df.head()\n",
    "result_lyrics_df = pd.concat([new_lyrics_df, lyrics_sentiment_df], axis=1)\n",
    "result_lyrics_df"
   ]
  },
  {
   "cell_type": "markdown",
   "id": "97ab0f50-c18c-433c-bc15-80c6475c9c4e",
   "metadata": {},
   "source": [
    "### Analyzing Sentiments Results\n",
    "\n",
    "The sentiment of the lyrics\n"
   ]
  },
  {
   "cell_type": "code",
   "execution_count": 52,
   "id": "254c5826-a62a-423e-b651-5d5ecdbceda1",
   "metadata": {},
   "outputs": [
    {
     "data": {
      "application/vnd.plotly.v1+json": {
       "config": {
        "plotlyServerURL": "https://plot.ly"
       },
       "data": [
        {
         "domain": {
          "x": [
           0,
           1
          ],
          "y": [
           0,
           1
          ]
         },
         "hole": 0.4,
         "hovertemplate": "<b>%{hovertext}</b><br><br>label=%{label}<br>Count=%{value}<extra></extra>",
         "hovertext": [
          "Positive",
          "Negative"
         ],
         "labels": [
          "Positive",
          "Negative"
         ],
         "legendgroup": "",
         "name": "",
         "showlegend": true,
         "type": "pie",
         "values": [
          20,
          13
         ]
        }
       ],
       "layout": {
        "height": 500,
        "legend": {
         "tracegroupgap": 0
        },
        "piecolorway": [
         "blue",
         "red"
        ],
        "template": {
         "data": {
          "bar": [
           {
            "error_x": {
             "color": "#2a3f5f"
            },
            "error_y": {
             "color": "#2a3f5f"
            },
            "marker": {
             "line": {
              "color": "#E5ECF6",
              "width": 0.5
             },
             "pattern": {
              "fillmode": "overlay",
              "size": 10,
              "solidity": 0.2
             }
            },
            "type": "bar"
           }
          ],
          "barpolar": [
           {
            "marker": {
             "line": {
              "color": "#E5ECF6",
              "width": 0.5
             },
             "pattern": {
              "fillmode": "overlay",
              "size": 10,
              "solidity": 0.2
             }
            },
            "type": "barpolar"
           }
          ],
          "carpet": [
           {
            "aaxis": {
             "endlinecolor": "#2a3f5f",
             "gridcolor": "white",
             "linecolor": "white",
             "minorgridcolor": "white",
             "startlinecolor": "#2a3f5f"
            },
            "baxis": {
             "endlinecolor": "#2a3f5f",
             "gridcolor": "white",
             "linecolor": "white",
             "minorgridcolor": "white",
             "startlinecolor": "#2a3f5f"
            },
            "type": "carpet"
           }
          ],
          "choropleth": [
           {
            "colorbar": {
             "outlinewidth": 0,
             "ticks": ""
            },
            "type": "choropleth"
           }
          ],
          "contour": [
           {
            "colorbar": {
             "outlinewidth": 0,
             "ticks": ""
            },
            "colorscale": [
             [
              0,
              "#0d0887"
             ],
             [
              0.1111111111111111,
              "#46039f"
             ],
             [
              0.2222222222222222,
              "#7201a8"
             ],
             [
              0.3333333333333333,
              "#9c179e"
             ],
             [
              0.4444444444444444,
              "#bd3786"
             ],
             [
              0.5555555555555556,
              "#d8576b"
             ],
             [
              0.6666666666666666,
              "#ed7953"
             ],
             [
              0.7777777777777778,
              "#fb9f3a"
             ],
             [
              0.8888888888888888,
              "#fdca26"
             ],
             [
              1,
              "#f0f921"
             ]
            ],
            "type": "contour"
           }
          ],
          "contourcarpet": [
           {
            "colorbar": {
             "outlinewidth": 0,
             "ticks": ""
            },
            "type": "contourcarpet"
           }
          ],
          "heatmap": [
           {
            "colorbar": {
             "outlinewidth": 0,
             "ticks": ""
            },
            "colorscale": [
             [
              0,
              "#0d0887"
             ],
             [
              0.1111111111111111,
              "#46039f"
             ],
             [
              0.2222222222222222,
              "#7201a8"
             ],
             [
              0.3333333333333333,
              "#9c179e"
             ],
             [
              0.4444444444444444,
              "#bd3786"
             ],
             [
              0.5555555555555556,
              "#d8576b"
             ],
             [
              0.6666666666666666,
              "#ed7953"
             ],
             [
              0.7777777777777778,
              "#fb9f3a"
             ],
             [
              0.8888888888888888,
              "#fdca26"
             ],
             [
              1,
              "#f0f921"
             ]
            ],
            "type": "heatmap"
           }
          ],
          "heatmapgl": [
           {
            "colorbar": {
             "outlinewidth": 0,
             "ticks": ""
            },
            "colorscale": [
             [
              0,
              "#0d0887"
             ],
             [
              0.1111111111111111,
              "#46039f"
             ],
             [
              0.2222222222222222,
              "#7201a8"
             ],
             [
              0.3333333333333333,
              "#9c179e"
             ],
             [
              0.4444444444444444,
              "#bd3786"
             ],
             [
              0.5555555555555556,
              "#d8576b"
             ],
             [
              0.6666666666666666,
              "#ed7953"
             ],
             [
              0.7777777777777778,
              "#fb9f3a"
             ],
             [
              0.8888888888888888,
              "#fdca26"
             ],
             [
              1,
              "#f0f921"
             ]
            ],
            "type": "heatmapgl"
           }
          ],
          "histogram": [
           {
            "marker": {
             "pattern": {
              "fillmode": "overlay",
              "size": 10,
              "solidity": 0.2
             }
            },
            "type": "histogram"
           }
          ],
          "histogram2d": [
           {
            "colorbar": {
             "outlinewidth": 0,
             "ticks": ""
            },
            "colorscale": [
             [
              0,
              "#0d0887"
             ],
             [
              0.1111111111111111,
              "#46039f"
             ],
             [
              0.2222222222222222,
              "#7201a8"
             ],
             [
              0.3333333333333333,
              "#9c179e"
             ],
             [
              0.4444444444444444,
              "#bd3786"
             ],
             [
              0.5555555555555556,
              "#d8576b"
             ],
             [
              0.6666666666666666,
              "#ed7953"
             ],
             [
              0.7777777777777778,
              "#fb9f3a"
             ],
             [
              0.8888888888888888,
              "#fdca26"
             ],
             [
              1,
              "#f0f921"
             ]
            ],
            "type": "histogram2d"
           }
          ],
          "histogram2dcontour": [
           {
            "colorbar": {
             "outlinewidth": 0,
             "ticks": ""
            },
            "colorscale": [
             [
              0,
              "#0d0887"
             ],
             [
              0.1111111111111111,
              "#46039f"
             ],
             [
              0.2222222222222222,
              "#7201a8"
             ],
             [
              0.3333333333333333,
              "#9c179e"
             ],
             [
              0.4444444444444444,
              "#bd3786"
             ],
             [
              0.5555555555555556,
              "#d8576b"
             ],
             [
              0.6666666666666666,
              "#ed7953"
             ],
             [
              0.7777777777777778,
              "#fb9f3a"
             ],
             [
              0.8888888888888888,
              "#fdca26"
             ],
             [
              1,
              "#f0f921"
             ]
            ],
            "type": "histogram2dcontour"
           }
          ],
          "mesh3d": [
           {
            "colorbar": {
             "outlinewidth": 0,
             "ticks": ""
            },
            "type": "mesh3d"
           }
          ],
          "parcoords": [
           {
            "line": {
             "colorbar": {
              "outlinewidth": 0,
              "ticks": ""
             }
            },
            "type": "parcoords"
           }
          ],
          "pie": [
           {
            "automargin": true,
            "type": "pie"
           }
          ],
          "scatter": [
           {
            "marker": {
             "colorbar": {
              "outlinewidth": 0,
              "ticks": ""
             }
            },
            "type": "scatter"
           }
          ],
          "scatter3d": [
           {
            "line": {
             "colorbar": {
              "outlinewidth": 0,
              "ticks": ""
             }
            },
            "marker": {
             "colorbar": {
              "outlinewidth": 0,
              "ticks": ""
             }
            },
            "type": "scatter3d"
           }
          ],
          "scattercarpet": [
           {
            "marker": {
             "colorbar": {
              "outlinewidth": 0,
              "ticks": ""
             }
            },
            "type": "scattercarpet"
           }
          ],
          "scattergeo": [
           {
            "marker": {
             "colorbar": {
              "outlinewidth": 0,
              "ticks": ""
             }
            },
            "type": "scattergeo"
           }
          ],
          "scattergl": [
           {
            "marker": {
             "colorbar": {
              "outlinewidth": 0,
              "ticks": ""
             }
            },
            "type": "scattergl"
           }
          ],
          "scattermapbox": [
           {
            "marker": {
             "colorbar": {
              "outlinewidth": 0,
              "ticks": ""
             }
            },
            "type": "scattermapbox"
           }
          ],
          "scatterpolar": [
           {
            "marker": {
             "colorbar": {
              "outlinewidth": 0,
              "ticks": ""
             }
            },
            "type": "scatterpolar"
           }
          ],
          "scatterpolargl": [
           {
            "marker": {
             "colorbar": {
              "outlinewidth": 0,
              "ticks": ""
             }
            },
            "type": "scatterpolargl"
           }
          ],
          "scatterternary": [
           {
            "marker": {
             "colorbar": {
              "outlinewidth": 0,
              "ticks": ""
             }
            },
            "type": "scatterternary"
           }
          ],
          "surface": [
           {
            "colorbar": {
             "outlinewidth": 0,
             "ticks": ""
            },
            "colorscale": [
             [
              0,
              "#0d0887"
             ],
             [
              0.1111111111111111,
              "#46039f"
             ],
             [
              0.2222222222222222,
              "#7201a8"
             ],
             [
              0.3333333333333333,
              "#9c179e"
             ],
             [
              0.4444444444444444,
              "#bd3786"
             ],
             [
              0.5555555555555556,
              "#d8576b"
             ],
             [
              0.6666666666666666,
              "#ed7953"
             ],
             [
              0.7777777777777778,
              "#fb9f3a"
             ],
             [
              0.8888888888888888,
              "#fdca26"
             ],
             [
              1,
              "#f0f921"
             ]
            ],
            "type": "surface"
           }
          ],
          "table": [
           {
            "cells": {
             "fill": {
              "color": "#EBF0F8"
             },
             "line": {
              "color": "white"
             }
            },
            "header": {
             "fill": {
              "color": "#C8D4E3"
             },
             "line": {
              "color": "white"
             }
            },
            "type": "table"
           }
          ]
         },
         "layout": {
          "annotationdefaults": {
           "arrowcolor": "#2a3f5f",
           "arrowhead": 0,
           "arrowwidth": 1
          },
          "autotypenumbers": "strict",
          "coloraxis": {
           "colorbar": {
            "outlinewidth": 0,
            "ticks": ""
           }
          },
          "colorscale": {
           "diverging": [
            [
             0,
             "#8e0152"
            ],
            [
             0.1,
             "#c51b7d"
            ],
            [
             0.2,
             "#de77ae"
            ],
            [
             0.3,
             "#f1b6da"
            ],
            [
             0.4,
             "#fde0ef"
            ],
            [
             0.5,
             "#f7f7f7"
            ],
            [
             0.6,
             "#e6f5d0"
            ],
            [
             0.7,
             "#b8e186"
            ],
            [
             0.8,
             "#7fbc41"
            ],
            [
             0.9,
             "#4d9221"
            ],
            [
             1,
             "#276419"
            ]
           ],
           "sequential": [
            [
             0,
             "#0d0887"
            ],
            [
             0.1111111111111111,
             "#46039f"
            ],
            [
             0.2222222222222222,
             "#7201a8"
            ],
            [
             0.3333333333333333,
             "#9c179e"
            ],
            [
             0.4444444444444444,
             "#bd3786"
            ],
            [
             0.5555555555555556,
             "#d8576b"
            ],
            [
             0.6666666666666666,
             "#ed7953"
            ],
            [
             0.7777777777777778,
             "#fb9f3a"
            ],
            [
             0.8888888888888888,
             "#fdca26"
            ],
            [
             1,
             "#f0f921"
            ]
           ],
           "sequentialminus": [
            [
             0,
             "#0d0887"
            ],
            [
             0.1111111111111111,
             "#46039f"
            ],
            [
             0.2222222222222222,
             "#7201a8"
            ],
            [
             0.3333333333333333,
             "#9c179e"
            ],
            [
             0.4444444444444444,
             "#bd3786"
            ],
            [
             0.5555555555555556,
             "#d8576b"
            ],
            [
             0.6666666666666666,
             "#ed7953"
            ],
            [
             0.7777777777777778,
             "#fb9f3a"
            ],
            [
             0.8888888888888888,
             "#fdca26"
            ],
            [
             1,
             "#f0f921"
            ]
           ]
          },
          "colorway": [
           "#636efa",
           "#EF553B",
           "#00cc96",
           "#ab63fa",
           "#FFA15A",
           "#19d3f3",
           "#FF6692",
           "#B6E880",
           "#FF97FF",
           "#FECB52"
          ],
          "font": {
           "color": "#2a3f5f"
          },
          "geo": {
           "bgcolor": "white",
           "lakecolor": "white",
           "landcolor": "#E5ECF6",
           "showlakes": true,
           "showland": true,
           "subunitcolor": "white"
          },
          "hoverlabel": {
           "align": "left"
          },
          "hovermode": "closest",
          "mapbox": {
           "style": "light"
          },
          "paper_bgcolor": "white",
          "plot_bgcolor": "#E5ECF6",
          "polar": {
           "angularaxis": {
            "gridcolor": "white",
            "linecolor": "white",
            "ticks": ""
           },
           "bgcolor": "#E5ECF6",
           "radialaxis": {
            "gridcolor": "white",
            "linecolor": "white",
            "ticks": ""
           }
          },
          "scene": {
           "xaxis": {
            "backgroundcolor": "#E5ECF6",
            "gridcolor": "white",
            "gridwidth": 2,
            "linecolor": "white",
            "showbackground": true,
            "ticks": "",
            "zerolinecolor": "white"
           },
           "yaxis": {
            "backgroundcolor": "#E5ECF6",
            "gridcolor": "white",
            "gridwidth": 2,
            "linecolor": "white",
            "showbackground": true,
            "ticks": "",
            "zerolinecolor": "white"
           },
           "zaxis": {
            "backgroundcolor": "#E5ECF6",
            "gridcolor": "white",
            "gridwidth": 2,
            "linecolor": "white",
            "showbackground": true,
            "ticks": "",
            "zerolinecolor": "white"
           }
          },
          "shapedefaults": {
           "line": {
            "color": "#2a3f5f"
           }
          },
          "ternary": {
           "aaxis": {
            "gridcolor": "white",
            "linecolor": "white",
            "ticks": ""
           },
           "baxis": {
            "gridcolor": "white",
            "linecolor": "white",
            "ticks": ""
           },
           "bgcolor": "#E5ECF6",
           "caxis": {
            "gridcolor": "white",
            "linecolor": "white",
            "ticks": ""
           }
          },
          "title": {
           "x": 0.05
          },
          "xaxis": {
           "automargin": true,
           "gridcolor": "white",
           "linecolor": "white",
           "ticks": "",
           "title": {
            "standoff": 15
           },
           "zerolinecolor": "white",
           "zerolinewidth": 2
          },
          "yaxis": {
           "automargin": true,
           "gridcolor": "white",
           "linecolor": "white",
           "ticks": "",
           "title": {
            "standoff": 15
           },
           "zerolinecolor": "white",
           "zerolinewidth": 2
          }
         }
        },
        "title": {
         "text": "Overall Sentiment for Hip Hip Song Lyrics"
        },
        "width": 1000
       }
      },
      "image/png": "[encoded data removed]",
      "text/html": [
       "<div>                            <div id=\"8b86b450-d12b-4f41-adbe-07289c32046c\" class=\"plotly-graph-div\" style=\"height:500px; width:1000px;\"></div>            <script type=\"text/javascript\">                require([\"plotly\"], function(Plotly) {                    window.PLOTLYENV=window.PLOTLYENV || {};                                    if (document.getElementById(\"8b86b450-d12b-4f41-adbe-07289c32046c\")) {                    Plotly.newPlot(                        \"8b86b450-d12b-4f41-adbe-07289c32046c\",                        [{\"domain\":{\"x\":[0.0,1.0],\"y\":[0.0,1.0]},\"hole\":0.4,\"hovertemplate\":\"<b>%{hovertext}</b><br><br>label=%{label}<br>Count=%{value}<extra></extra>\",\"hovertext\":[\"Positive\",\"Negative\"],\"labels\":[\"Positive\",\"Negative\"],\"legendgroup\":\"\",\"name\":\"\",\"showlegend\":true,\"type\":\"pie\",\"values\":[20,13]}],                        {\"height\":500,\"legend\":{\"tracegroupgap\":0},\"piecolorway\":[\"blue\",\"red\"],\"template\":{\"data\":{\"bar\":[{\"error_x\":{\"color\":\"#2a3f5f\"},\"error_y\":{\"color\":\"#2a3f5f\"},\"marker\":{\"line\":{\"color\":\"#E5ECF6\",\"width\":0.5},\"pattern\":{\"fillmode\":\"overlay\",\"size\":10,\"solidity\":0.2}},\"type\":\"bar\"}],\"barpolar\":[{\"marker\":{\"line\":{\"color\":\"#E5ECF6\",\"width\":0.5},\"pattern\":{\"fillmode\":\"overlay\",\"size\":10,\"solidity\":0.2}},\"type\":\"barpolar\"}],\"carpet\":[{\"aaxis\":{\"endlinecolor\":\"#2a3f5f\",\"gridcolor\":\"white\",\"linecolor\":\"white\",\"minorgridcolor\":\"white\",\"startlinecolor\":\"#2a3f5f\"},\"baxis\":{\"endlinecolor\":\"#2a3f5f\",\"gridcolor\":\"white\",\"linecolor\":\"white\",\"minorgridcolor\":\"white\",\"startlinecolor\":\"#2a3f5f\"},\"type\":\"carpet\"}],\"choropleth\":[{\"colorbar\":{\"outlinewidth\":0,\"ticks\":\"\"},\"type\":\"choropleth\"}],\"contour\":[{\"colorbar\":{\"outlinewidth\":0,\"ticks\":\"\"},\"colorscale\":[[0.0,\"#0d0887\"],[0.1111111111111111,\"#46039f\"],[0.2222222222222222,\"#7201a8\"],[0.3333333333333333,\"#9c179e\"],[0.4444444444444444,\"#bd3786\"],[0.5555555555555556,\"#d8576b\"],[0.6666666666666666,\"#ed7953\"],[0.7777777777777778,\"#fb9f3a\"],[0.8888888888888888,\"#fdca26\"],[1.0,\"#f0f921\"]],\"type\":\"contour\"}],\"contourcarpet\":[{\"colorbar\":{\"outlinewidth\":0,\"ticks\":\"\"},\"type\":\"contourcarpet\"}],\"heatmap\":[{\"colorbar\":{\"outlinewidth\":0,\"ticks\":\"\"},\"colorscale\":[[0.0,\"#0d0887\"],[0.1111111111111111,\"#46039f\"],[0.2222222222222222,\"#7201a8\"],[0.3333333333333333,\"#9c179e\"],[0.4444444444444444,\"#bd3786\"],[0.5555555555555556,\"#d8576b\"],[0.6666666666666666,\"#ed7953\"],[0.7777777777777778,\"#fb9f3a\"],[0.8888888888888888,\"#fdca26\"],[1.0,\"#f0f921\"]],\"type\":\"heatmap\"}],\"heatmapgl\":[{\"colorbar\":{\"outlinewidth\":0,\"ticks\":\"\"},\"colorscale\":[[0.0,\"#0d0887\"],[0.1111111111111111,\"#46039f\"],[0.2222222222222222,\"#7201a8\"],[0.3333333333333333,\"#9c179e\"],[0.4444444444444444,\"#bd3786\"],[0.5555555555555556,\"#d8576b\"],[0.6666666666666666,\"#ed7953\"],[0.7777777777777778,\"#fb9f3a\"],[0.8888888888888888,\"#fdca26\"],[1.0,\"#f0f921\"]],\"type\":\"heatmapgl\"}],\"histogram\":[{\"marker\":{\"pattern\":{\"fillmode\":\"overlay\",\"size\":10,\"solidity\":0.2}},\"type\":\"histogram\"}],\"histogram2d\":[{\"colorbar\":{\"outlinewidth\":0,\"ticks\":\"\"},\"colorscale\":[[0.0,\"#0d0887\"],[0.1111111111111111,\"#46039f\"],[0.2222222222222222,\"#7201a8\"],[0.3333333333333333,\"#9c179e\"],[0.4444444444444444,\"#bd3786\"],[0.5555555555555556,\"#d8576b\"],[0.6666666666666666,\"#ed7953\"],[0.7777777777777778,\"#fb9f3a\"],[0.8888888888888888,\"#fdca26\"],[1.0,\"#f0f921\"]],\"type\":\"histogram2d\"}],\"histogram2dcontour\":[{\"colorbar\":{\"outlinewidth\":0,\"ticks\":\"\"},\"colorscale\":[[0.0,\"#0d0887\"],[0.1111111111111111,\"#46039f\"],[0.2222222222222222,\"#7201a8\"],[0.3333333333333333,\"#9c179e\"],[0.4444444444444444,\"#bd3786\"],[0.5555555555555556,\"#d8576b\"],[0.6666666666666666,\"#ed7953\"],[0.7777777777777778,\"#fb9f3a\"],[0.8888888888888888,\"#fdca26\"],[1.0,\"#f0f921\"]],\"type\":\"histogram2dcontour\"}],\"mesh3d\":[{\"colorbar\":{\"outlinewidth\":0,\"ticks\":\"\"},\"type\":\"mesh3d\"}],\"parcoords\":[{\"line\":{\"colorbar\":{\"outlinewidth\":0,\"ticks\":\"\"}},\"type\":\"parcoords\"}],\"pie\":[{\"automargin\":true,\"type\":\"pie\"}],\"scatter\":[{\"marker\":{\"colorbar\":{\"outlinewidth\":0,\"ticks\":\"\"}},\"type\":\"scatter\"}],\"scatter3d\":[{\"line\":{\"colorbar\":{\"outlinewidth\":0,\"ticks\":\"\"}},\"marker\":{\"colorbar\":{\"outlinewidth\":0,\"ticks\":\"\"}},\"type\":\"scatter3d\"}],\"scattercarpet\":[{\"marker\":{\"colorbar\":{\"outlinewidth\":0,\"ticks\":\"\"}},\"type\":\"scattercarpet\"}],\"scattergeo\":[{\"marker\":{\"colorbar\":{\"outlinewidth\":0,\"ticks\":\"\"}},\"type\":\"scattergeo\"}],\"scattergl\":[{\"marker\":{\"colorbar\":{\"outlinewidth\":0,\"ticks\":\"\"}},\"type\":\"scattergl\"}],\"scattermapbox\":[{\"marker\":{\"colorbar\":{\"outlinewidth\":0,\"ticks\":\"\"}},\"type\":\"scattermapbox\"}],\"scatterpolar\":[{\"marker\":{\"colorbar\":{\"outlinewidth\":0,\"ticks\":\"\"}},\"type\":\"scatterpolar\"}],\"scatterpolargl\":[{\"marker\":{\"colorbar\":{\"outlinewidth\":0,\"ticks\":\"\"}},\"type\":\"scatterpolargl\"}],\"scatterternary\":[{\"marker\":{\"colorbar\":{\"outlinewidth\":0,\"ticks\":\"\"}},\"type\":\"scatterternary\"}],\"surface\":[{\"colorbar\":{\"outlinewidth\":0,\"ticks\":\"\"},\"colorscale\":[[0.0,\"#0d0887\"],[0.1111111111111111,\"#46039f\"],[0.2222222222222222,\"#7201a8\"],[0.3333333333333333,\"#9c179e\"],[0.4444444444444444,\"#bd3786\"],[0.5555555555555556,\"#d8576b\"],[0.6666666666666666,\"#ed7953\"],[0.7777777777777778,\"#fb9f3a\"],[0.8888888888888888,\"#fdca26\"],[1.0,\"#f0f921\"]],\"type\":\"surface\"}],\"table\":[{\"cells\":{\"fill\":{\"color\":\"#EBF0F8\"},\"line\":{\"color\":\"white\"}},\"header\":{\"fill\":{\"color\":\"#C8D4E3\"},\"line\":{\"color\":\"white\"}},\"type\":\"table\"}]},\"layout\":{\"annotationdefaults\":{\"arrowcolor\":\"#2a3f5f\",\"arrowhead\":0,\"arrowwidth\":1},\"autotypenumbers\":\"strict\",\"coloraxis\":{\"colorbar\":{\"outlinewidth\":0,\"ticks\":\"\"}},\"colorscale\":{\"diverging\":[[0,\"#8e0152\"],[0.1,\"#c51b7d\"],[0.2,\"#de77ae\"],[0.3,\"#f1b6da\"],[0.4,\"#fde0ef\"],[0.5,\"#f7f7f7\"],[0.6,\"#e6f5d0\"],[0.7,\"#b8e186\"],[0.8,\"#7fbc41\"],[0.9,\"#4d9221\"],[1,\"#276419\"]],\"sequential\":[[0.0,\"#0d0887\"],[0.1111111111111111,\"#46039f\"],[0.2222222222222222,\"#7201a8\"],[0.3333333333333333,\"#9c179e\"],[0.4444444444444444,\"#bd3786\"],[0.5555555555555556,\"#d8576b\"],[0.6666666666666666,\"#ed7953\"],[0.7777777777777778,\"#fb9f3a\"],[0.8888888888888888,\"#fdca26\"],[1.0,\"#f0f921\"]],\"sequentialminus\":[[0.0,\"#0d0887\"],[0.1111111111111111,\"#46039f\"],[0.2222222222222222,\"#7201a8\"],[0.3333333333333333,\"#9c179e\"],[0.4444444444444444,\"#bd3786\"],[0.5555555555555556,\"#d8576b\"],[0.6666666666666666,\"#ed7953\"],[0.7777777777777778,\"#fb9f3a\"],[0.8888888888888888,\"#fdca26\"],[1.0,\"#f0f921\"]]},\"colorway\":[\"#636efa\",\"#EF553B\",\"#00cc96\",\"#ab63fa\",\"#FFA15A\",\"#19d3f3\",\"#FF6692\",\"#B6E880\",\"#FF97FF\",\"#FECB52\"],\"font\":{\"color\":\"#2a3f5f\"},\"geo\":{\"bgcolor\":\"white\",\"lakecolor\":\"white\",\"landcolor\":\"#E5ECF6\",\"showlakes\":true,\"showland\":true,\"subunitcolor\":\"white\"},\"hoverlabel\":{\"align\":\"left\"},\"hovermode\":\"closest\",\"mapbox\":{\"style\":\"light\"},\"paper_bgcolor\":\"white\",\"plot_bgcolor\":\"#E5ECF6\",\"polar\":{\"angularaxis\":{\"gridcolor\":\"white\",\"linecolor\":\"white\",\"ticks\":\"\"},\"bgcolor\":\"#E5ECF6\",\"radialaxis\":{\"gridcolor\":\"white\",\"linecolor\":\"white\",\"ticks\":\"\"}},\"scene\":{\"xaxis\":{\"backgroundcolor\":\"#E5ECF6\",\"gridcolor\":\"white\",\"gridwidth\":2,\"linecolor\":\"white\",\"showbackground\":true,\"ticks\":\"\",\"zerolinecolor\":\"white\"},\"yaxis\":{\"backgroundcolor\":\"#E5ECF6\",\"gridcolor\":\"white\",\"gridwidth\":2,\"linecolor\":\"white\",\"showbackground\":true,\"ticks\":\"\",\"zerolinecolor\":\"white\"},\"zaxis\":{\"backgroundcolor\":\"#E5ECF6\",\"gridcolor\":\"white\",\"gridwidth\":2,\"linecolor\":\"white\",\"showbackground\":true,\"ticks\":\"\",\"zerolinecolor\":\"white\"}},\"shapedefaults\":{\"line\":{\"color\":\"#2a3f5f\"}},\"ternary\":{\"aaxis\":{\"gridcolor\":\"white\",\"linecolor\":\"white\",\"ticks\":\"\"},\"baxis\":{\"gridcolor\":\"white\",\"linecolor\":\"white\",\"ticks\":\"\"},\"bgcolor\":\"#E5ECF6\",\"caxis\":{\"gridcolor\":\"white\",\"linecolor\":\"white\",\"ticks\":\"\"}},\"title\":{\"x\":0.05},\"xaxis\":{\"automargin\":true,\"gridcolor\":\"white\",\"linecolor\":\"white\",\"ticks\":\"\",\"title\":{\"standoff\":15},\"zerolinecolor\":\"white\",\"zerolinewidth\":2},\"yaxis\":{\"automargin\":true,\"gridcolor\":\"white\",\"linecolor\":\"white\",\"ticks\":\"\",\"title\":{\"standoff\":15},\"zerolinecolor\":\"white\",\"zerolinewidth\":2}}},\"title\":{\"text\":\"Overall Sentiment for Hip Hip Song Lyrics\"},\"width\":1000},                        {\"responsive\": true}                    ).then(function(){\n",
       "                            \n",
       "var gd = document.getElementById('8b86b450-d12b-4f41-adbe-07289c32046c');\n",
       "var x = new MutationObserver(function (mutations, observer) {{\n",
       "        var display = window.getComputedStyle(gd).display;\n",
       "        if (!display || display === 'none') {{\n",
       "            console.log([gd, 'removed!']);\n",
       "            Plotly.purge(gd);\n",
       "            observer.disconnect();\n",
       "        }}\n",
       "}});\n",
       "\n",
       "// Listen for the removal of the full notebook cells\n",
       "var notebookContainer = gd.closest('#notebook-container');\n",
       "if (notebookContainer) {{\n",
       "    x.observe(notebookContainer, {childList: true});\n",
       "}}\n",
       "\n",
       "// Listen for the clearing of the current output cell\n",
       "var outputEl = gd.closest('.output');\n",
       "if (outputEl) {{\n",
       "    x.observe(outputEl, {childList: true});\n",
       "}}\n",
       "\n",
       "                        })                };                });            </script>        </div>"
      ]
     },
     "metadata": {},
     "output_type": "display_data"
    }
   ],
   "source": [
    "# Plot overall sentiment scores for genre\n",
    "\n",
    "positives = result_lyrics_df['lyrics_sent'].loc[result_lyrics_df['lyrics_sent'] == 1 ].count()\n",
    "negatives = result_lyrics_df['lyrics_sent'].loc[result_lyrics_df['lyrics_sent'] == -1 ].count()\n",
    "index_names = ['Positive', 'Negative']\n",
    "\n",
    "lyrics_sentiment = pd.DataFrame([positives,negatives], columns = ['Count'])\n",
    "lyrics_sentiment.index = index_names\n",
    "\n",
    "hiphop_sentiment_pie = px.pie(\n",
    "    lyrics_sentiment, \n",
    "    values = 'Count', \n",
    "    names=index_names,\n",
    "    hover_name = index_names,\n",
    "    hole = 0.4, \n",
    "    color_discrete_sequence=[\"blue\", \"red\"], \n",
    "    width=1000, \n",
    "    height = 500,\n",
    "    title='Overall Sentiment for Hip Hip Song Lyrics'\n",
    "    )  \n",
    "hiphop_sentiment_pie"
   ]
  },
  {
   "cell_type": "code",
   "execution_count": 53,
   "id": "76753d8c-6ab5-404c-8de5-c9dc713875ba",
   "metadata": {},
   "outputs": [
    {
     "data": {
      "text/html": [
       "<div>\n",
       "<style scoped>\n",
       "    .dataframe tbody tr th:only-of-type {\n",
       "        vertical-align: middle;\n",
       "    }\n",
       "\n",
       "    .dataframe tbody tr th {\n",
       "        vertical-align: top;\n",
       "    }\n",
       "\n",
       "    .dataframe thead th {\n",
       "        text-align: right;\n",
       "    }\n",
       "</style>\n",
       "<table border=\"1\" class=\"dataframe\">\n",
       "  <thead>\n",
       "    <tr style=\"text-align: right;\">\n",
       "      <th></th>\n",
       "      <th>lyrics_compound</th>\n",
       "      <th>lyrics_pos</th>\n",
       "      <th>lyrics_neu</th>\n",
       "      <th>lyrics_neg</th>\n",
       "      <th>lyrics_sent</th>\n",
       "    </tr>\n",
       "  </thead>\n",
       "  <tbody>\n",
       "    <tr>\n",
       "      <th>count</th>\n",
       "      <td>33.000000</td>\n",
       "      <td>33.000000</td>\n",
       "      <td>33.000000</td>\n",
       "      <td>33.000000</td>\n",
       "      <td>33.000000</td>\n",
       "    </tr>\n",
       "    <tr>\n",
       "      <th>mean</th>\n",
       "      <td>0.210112</td>\n",
       "      <td>0.137182</td>\n",
       "      <td>0.738394</td>\n",
       "      <td>0.124455</td>\n",
       "      <td>0.212121</td>\n",
       "    </tr>\n",
       "    <tr>\n",
       "      <th>std</th>\n",
       "      <td>0.931786</td>\n",
       "      <td>0.047382</td>\n",
       "      <td>0.065058</td>\n",
       "      <td>0.064075</td>\n",
       "      <td>0.992395</td>\n",
       "    </tr>\n",
       "    <tr>\n",
       "      <th>min</th>\n",
       "      <td>-0.999000</td>\n",
       "      <td>0.043000</td>\n",
       "      <td>0.599000</td>\n",
       "      <td>0.035000</td>\n",
       "      <td>-1.000000</td>\n",
       "    </tr>\n",
       "    <tr>\n",
       "      <th>25%</th>\n",
       "      <td>-0.979500</td>\n",
       "      <td>0.103000</td>\n",
       "      <td>0.700000</td>\n",
       "      <td>0.088000</td>\n",
       "      <td>-1.000000</td>\n",
       "    </tr>\n",
       "    <tr>\n",
       "      <th>50%</th>\n",
       "      <td>0.958700</td>\n",
       "      <td>0.142000</td>\n",
       "      <td>0.737000</td>\n",
       "      <td>0.107000</td>\n",
       "      <td>1.000000</td>\n",
       "    </tr>\n",
       "    <tr>\n",
       "      <th>75%</th>\n",
       "      <td>0.991700</td>\n",
       "      <td>0.169000</td>\n",
       "      <td>0.794000</td>\n",
       "      <td>0.153000</td>\n",
       "      <td>1.000000</td>\n",
       "    </tr>\n",
       "    <tr>\n",
       "      <th>max</th>\n",
       "      <td>0.997800</td>\n",
       "      <td>0.251000</td>\n",
       "      <td>0.887000</td>\n",
       "      <td>0.288000</td>\n",
       "      <td>1.000000</td>\n",
       "    </tr>\n",
       "  </tbody>\n",
       "</table>\n",
       "</div>"
      ],
      "text/plain": [
       "       lyrics_compound  lyrics_pos  lyrics_neu  lyrics_neg  lyrics_sent\n",
       "count        33.000000   33.000000   33.000000   33.000000    33.000000\n",
       "mean          0.210112    0.137182    0.738394    0.124455     0.212121\n",
       "std           0.931786    0.047382    0.065058    0.064075     0.992395\n",
       "min          -0.999000    0.043000    0.599000    0.035000    -1.000000\n",
       "25%          -0.979500    0.103000    0.700000    0.088000    -1.000000\n",
       "50%           0.958700    0.142000    0.737000    0.107000     1.000000\n",
       "75%           0.991700    0.169000    0.794000    0.153000     1.000000\n",
       "max           0.997800    0.251000    0.887000    0.288000     1.000000"
      ]
     },
     "execution_count": 53,
     "metadata": {},
     "output_type": "execute_result"
    }
   ],
   "source": [
    "# Describe lyrics sentiment\n",
    "result_lyrics_df.describe()"
   ]
  },
  {
   "cell_type": "markdown",
   "id": "7791925b-fbf6-4a4b-9b4a-1b58ceb761a3",
   "metadata": {},
   "source": [
    "# NGrams and Frequency Analysis\n",
    "In this section there are the ngrams and word frequency for lyrics.\n",
    "\n",
    "Use NLTK to produce the n-grams for N = 2."
   ]
  },
  {
   "cell_type": "code",
   "execution_count": 54,
   "id": "d3b5fb8a-6f58-4e68-8e5f-0e932167133e",
   "metadata": {},
   "outputs": [
    {
     "name": "stdout",
     "output_type": "stream",
     "text": [
      "{('low', 'low'): 56, ('shot', 'shot'): 29, ('girl', 'go'): 28, ('money', 'make'): 28, ('yeah', 'yeah'): 24, ('bang', 'bang'): 24, ('one', 'right'): 21, ('masquerade', 'masquerade'): 21, ('doin', 'dope'): 21, ('bad', 'man'): 19, ('big', 'energy'): 17, ('hit', 'floor'): 17, ('let', 'get'): 16, ('go', 'round'): 16, ('shot', 'bang'): 15, ('make', 'world'): 14, ('world', 'go'): 14, ('make', 'girl'): 14, ('drop', 'want'): 13, ('want', 'see'): 13, ('shake', 'ya'): 13, ('rumble', 'gon'): 13, ('gon', 'take'): 13, ('take', 'yo'): 13, ('yo', 'face'): 13, ('could', 'u'): 13, ('contagious', 'doin'): 13, ('hey', 'drop'): 12, ('see', 'touch'): 12, ('touch', 'ground'): 12, ('ground', 'shy'): 12, ('shy', 'girl'): 12, ('go', 'bananza'): 12, ('ya', 'body'): 12, ('body', 'like'): 12, ('pull', 'ting'): 12, ('ting', 'gon'): 12, ('gon', 'turn'): 12, ('bang', 'shot'): 12, ('ayy', 'ayy'): 12, ('spendin', 'life'): 12, ('life', 'livin'): 12, ('livin', 'gangsta'): 12, ('gangsta', 'paradise'): 12, ('alright', 'babe'): 12, ('like', 'ceiling'): 12, ('ceiling', 'hold'): 12, ('hold', 'u'): 12, ('back', 'back'): 12, ('u', 'playing'): 12, ('playing', 'money'): 12, ('bananza', 'shake'): 11, ('like', 'belly'): 11, ('belly', 'dancer'): 11, ('get', 'right'): 11, ('big', 'big'): 11, ('face', 'gon'): 11, ('gon', 'rumble'): 11, ('turn', 'pull'): 10, ('ooh', 'ooh'): 10}\n"
     ]
    }
   ],
   "source": [
    "# Generate the Lyrics N-grams where N=2\n",
    "lyrics_text = ' '.join(result_lyrics_df[\"Lyrics\"])\n",
    "lyrics_processed = tokenizer(lyrics_text)\n",
    "lyrics_ngrams = Counter(ngrams(lyrics_processed, n=2))\n",
    "print(dict(lyrics_ngrams.most_common(60)))"
   ]
  },
  {
   "cell_type": "code",
   "execution_count": 55,
   "id": "0935eae4-47cb-48d5-bf4a-9b91cd46d1a9",
   "metadata": {},
   "outputs": [],
   "source": [
    "# Use the token_count function to generate the top 50 words from the lyrics\n",
    "def token_count(Tokens, N=50):\n",
    "    \"\"\"Returns the top N tokens from the frequency count\"\"\"\n",
    "    return Counter(Tokens).most_common(N)"
   ]
  },
  {
   "cell_type": "code",
   "execution_count": 56,
   "id": "516c9c1a-7c36-40d3-ad1d-5d7d99fb6d90",
   "metadata": {},
   "outputs": [
    {
     "data": {
      "text/plain": [
       "[('like', 232),\n",
       " ('got', 139),\n",
       " ('yeah', 116),\n",
       " ('go', 101),\n",
       " ('want', 100),\n",
       " ('know', 99),\n",
       " ('one', 97),\n",
       " ('back', 92),\n",
       " ('get', 82),\n",
       " ('low', 77),\n",
       " ('girl', 75),\n",
       " ('right', 65),\n",
       " ('make', 64),\n",
       " ('let', 61),\n",
       " ('see', 59),\n",
       " ('cause', 55),\n",
       " ('gon', 55),\n",
       " ('could', 55),\n",
       " ('man', 51),\n",
       " ('shot', 51),\n",
       " ('tell', 50),\n",
       " ('bad', 50),\n",
       " ('big', 48),\n",
       " ('baby', 47),\n",
       " ('say', 46),\n",
       " ('bang', 46),\n",
       " ('ayy', 46),\n",
       " ('way', 43),\n",
       " ('money', 43),\n",
       " ('give', 42),\n",
       " ('put', 42),\n",
       " ('time', 40),\n",
       " ('need', 39),\n",
       " ('love', 38),\n",
       " ('u', 35),\n",
       " ('hey', 34),\n",
       " ('hit', 34),\n",
       " ('really', 33),\n",
       " ('em', 33),\n",
       " ('ya', 31),\n",
       " ('life', 31),\n",
       " ('better', 31),\n",
       " ('look', 30),\n",
       " ('take', 30),\n",
       " ('come', 29),\n",
       " ('masquerade', 29),\n",
       " ('never', 28),\n",
       " ('round', 28),\n",
       " ('think', 28),\n",
       " ('face', 28)]"
      ]
     },
     "execution_count": 56,
     "metadata": {},
     "output_type": "execute_result"
    }
   ],
   "source": [
    "# Use token_count to get the top 50 words from rnb lyrics\n",
    "lyrics_top_50 = token_count(lyrics_processed)\n",
    "lyrics_top_50"
   ]
  },
  {
   "cell_type": "code",
   "execution_count": 57,
   "id": "b0ce0303-8e0b-4f64-b96b-97755adcfdf0",
   "metadata": {},
   "outputs": [
    {
     "data": {
      "text/html": [
       "<div>\n",
       "<style scoped>\n",
       "    .dataframe tbody tr th:only-of-type {\n",
       "        vertical-align: middle;\n",
       "    }\n",
       "\n",
       "    .dataframe tbody tr th {\n",
       "        vertical-align: top;\n",
       "    }\n",
       "\n",
       "    .dataframe thead th {\n",
       "        text-align: right;\n",
       "    }\n",
       "</style>\n",
       "<table border=\"1\" class=\"dataframe\">\n",
       "  <thead>\n",
       "    <tr style=\"text-align: right;\">\n",
       "      <th></th>\n",
       "      <th>Count</th>\n",
       "    </tr>\n",
       "    <tr>\n",
       "      <th>Word</th>\n",
       "      <th></th>\n",
       "    </tr>\n",
       "  </thead>\n",
       "  <tbody>\n",
       "    <tr>\n",
       "      <th>like</th>\n",
       "      <td>232</td>\n",
       "    </tr>\n",
       "    <tr>\n",
       "      <th>got</th>\n",
       "      <td>139</td>\n",
       "    </tr>\n",
       "    <tr>\n",
       "      <th>yeah</th>\n",
       "      <td>116</td>\n",
       "    </tr>\n",
       "    <tr>\n",
       "      <th>go</th>\n",
       "      <td>101</td>\n",
       "    </tr>\n",
       "    <tr>\n",
       "      <th>want</th>\n",
       "      <td>100</td>\n",
       "    </tr>\n",
       "    <tr>\n",
       "      <th>know</th>\n",
       "      <td>99</td>\n",
       "    </tr>\n",
       "    <tr>\n",
       "      <th>one</th>\n",
       "      <td>97</td>\n",
       "    </tr>\n",
       "    <tr>\n",
       "      <th>back</th>\n",
       "      <td>92</td>\n",
       "    </tr>\n",
       "    <tr>\n",
       "      <th>get</th>\n",
       "      <td>82</td>\n",
       "    </tr>\n",
       "    <tr>\n",
       "      <th>low</th>\n",
       "      <td>77</td>\n",
       "    </tr>\n",
       "    <tr>\n",
       "      <th>girl</th>\n",
       "      <td>75</td>\n",
       "    </tr>\n",
       "    <tr>\n",
       "      <th>right</th>\n",
       "      <td>65</td>\n",
       "    </tr>\n",
       "    <tr>\n",
       "      <th>make</th>\n",
       "      <td>64</td>\n",
       "    </tr>\n",
       "    <tr>\n",
       "      <th>let</th>\n",
       "      <td>61</td>\n",
       "    </tr>\n",
       "    <tr>\n",
       "      <th>see</th>\n",
       "      <td>59</td>\n",
       "    </tr>\n",
       "    <tr>\n",
       "      <th>cause</th>\n",
       "      <td>55</td>\n",
       "    </tr>\n",
       "    <tr>\n",
       "      <th>gon</th>\n",
       "      <td>55</td>\n",
       "    </tr>\n",
       "    <tr>\n",
       "      <th>could</th>\n",
       "      <td>55</td>\n",
       "    </tr>\n",
       "    <tr>\n",
       "      <th>man</th>\n",
       "      <td>51</td>\n",
       "    </tr>\n",
       "    <tr>\n",
       "      <th>shot</th>\n",
       "      <td>51</td>\n",
       "    </tr>\n",
       "    <tr>\n",
       "      <th>tell</th>\n",
       "      <td>50</td>\n",
       "    </tr>\n",
       "    <tr>\n",
       "      <th>bad</th>\n",
       "      <td>50</td>\n",
       "    </tr>\n",
       "    <tr>\n",
       "      <th>big</th>\n",
       "      <td>48</td>\n",
       "    </tr>\n",
       "    <tr>\n",
       "      <th>baby</th>\n",
       "      <td>47</td>\n",
       "    </tr>\n",
       "    <tr>\n",
       "      <th>say</th>\n",
       "      <td>46</td>\n",
       "    </tr>\n",
       "    <tr>\n",
       "      <th>bang</th>\n",
       "      <td>46</td>\n",
       "    </tr>\n",
       "    <tr>\n",
       "      <th>ayy</th>\n",
       "      <td>46</td>\n",
       "    </tr>\n",
       "    <tr>\n",
       "      <th>way</th>\n",
       "      <td>43</td>\n",
       "    </tr>\n",
       "    <tr>\n",
       "      <th>money</th>\n",
       "      <td>43</td>\n",
       "    </tr>\n",
       "    <tr>\n",
       "      <th>give</th>\n",
       "      <td>42</td>\n",
       "    </tr>\n",
       "    <tr>\n",
       "      <th>put</th>\n",
       "      <td>42</td>\n",
       "    </tr>\n",
       "    <tr>\n",
       "      <th>time</th>\n",
       "      <td>40</td>\n",
       "    </tr>\n",
       "    <tr>\n",
       "      <th>need</th>\n",
       "      <td>39</td>\n",
       "    </tr>\n",
       "    <tr>\n",
       "      <th>love</th>\n",
       "      <td>38</td>\n",
       "    </tr>\n",
       "    <tr>\n",
       "      <th>u</th>\n",
       "      <td>35</td>\n",
       "    </tr>\n",
       "    <tr>\n",
       "      <th>hey</th>\n",
       "      <td>34</td>\n",
       "    </tr>\n",
       "    <tr>\n",
       "      <th>hit</th>\n",
       "      <td>34</td>\n",
       "    </tr>\n",
       "    <tr>\n",
       "      <th>really</th>\n",
       "      <td>33</td>\n",
       "    </tr>\n",
       "    <tr>\n",
       "      <th>em</th>\n",
       "      <td>33</td>\n",
       "    </tr>\n",
       "    <tr>\n",
       "      <th>ya</th>\n",
       "      <td>31</td>\n",
       "    </tr>\n",
       "    <tr>\n",
       "      <th>life</th>\n",
       "      <td>31</td>\n",
       "    </tr>\n",
       "    <tr>\n",
       "      <th>better</th>\n",
       "      <td>31</td>\n",
       "    </tr>\n",
       "    <tr>\n",
       "      <th>look</th>\n",
       "      <td>30</td>\n",
       "    </tr>\n",
       "    <tr>\n",
       "      <th>take</th>\n",
       "      <td>30</td>\n",
       "    </tr>\n",
       "    <tr>\n",
       "      <th>come</th>\n",
       "      <td>29</td>\n",
       "    </tr>\n",
       "    <tr>\n",
       "      <th>masquerade</th>\n",
       "      <td>29</td>\n",
       "    </tr>\n",
       "    <tr>\n",
       "      <th>never</th>\n",
       "      <td>28</td>\n",
       "    </tr>\n",
       "    <tr>\n",
       "      <th>round</th>\n",
       "      <td>28</td>\n",
       "    </tr>\n",
       "    <tr>\n",
       "      <th>think</th>\n",
       "      <td>28</td>\n",
       "    </tr>\n",
       "    <tr>\n",
       "      <th>face</th>\n",
       "      <td>28</td>\n",
       "    </tr>\n",
       "  </tbody>\n",
       "</table>\n",
       "</div>"
      ],
      "text/plain": [
       "            Count\n",
       "Word             \n",
       "like          232\n",
       "got           139\n",
       "yeah          116\n",
       "go            101\n",
       "want          100\n",
       "know           99\n",
       "one            97\n",
       "back           92\n",
       "get            82\n",
       "low            77\n",
       "girl           75\n",
       "right          65\n",
       "make           64\n",
       "let            61\n",
       "see            59\n",
       "cause          55\n",
       "gon            55\n",
       "could          55\n",
       "man            51\n",
       "shot           51\n",
       "tell           50\n",
       "bad            50\n",
       "big            48\n",
       "baby           47\n",
       "say            46\n",
       "bang           46\n",
       "ayy            46\n",
       "way            43\n",
       "money          43\n",
       "give           42\n",
       "put            42\n",
       "time           40\n",
       "need           39\n",
       "love           38\n",
       "u              35\n",
       "hey            34\n",
       "hit            34\n",
       "really         33\n",
       "em             33\n",
       "ya             31\n",
       "life           31\n",
       "better         31\n",
       "look           30\n",
       "take           30\n",
       "come           29\n",
       "masquerade     29\n",
       "never          28\n",
       "round          28\n",
       "think          28\n",
       "face           28"
      ]
     },
     "execution_count": 57,
     "metadata": {},
     "output_type": "execute_result"
    }
   ],
   "source": [
    "# Create df for most common tokens\n",
    "\n",
    "lyrics_top50_df = pd.DataFrame(lyrics_top_50, columns=['Word', 'Count']).set_index('Word')\n",
    "lyrics_top50_df"
   ]
  },
  {
   "cell_type": "code",
   "execution_count": 62,
   "id": "72c72c1b-945d-487f-af9b-eba116948630",
   "metadata": {},
   "outputs": [],
   "source": [
    "# Export Top Words dataframe to CSV\n",
    "lyrics_top50_df.to_csv('hiphop_top_words.csv')"
   ]
  },
  {
   "cell_type": "code",
   "execution_count": 58,
   "id": "b1a02a5c-3432-4090-b005-3be91d56c88b",
   "metadata": {},
   "outputs": [
    {
     "data": {
      "application/vnd.plotly.v1+json": {
       "config": {
        "plotlyServerURL": "https://plot.ly"
       },
       "data": [
        {
         "alignmentgroup": "True",
         "hovertemplate": "Word=%{x}<br>Count=%{marker.color}<extra></extra>",
         "legendgroup": "",
         "marker": {
          "color": [
           232,
           139,
           116,
           101,
           100,
           99,
           97,
           92,
           82,
           77,
           75,
           65,
           64,
           61,
           59,
           55,
           55,
           55,
           51,
           51,
           50,
           50,
           48,
           47,
           46,
           46,
           46,
           43,
           43,
           42,
           42,
           40,
           39,
           38,
           35,
           34,
           34,
           33,
           33,
           31,
           31,
           31,
           30,
           30,
           29,
           29,
           28,
           28,
           28,
           28
          ],
          "coloraxis": "coloraxis",
          "pattern": {
           "shape": ""
          }
         },
         "name": "",
         "offsetgroup": "",
         "orientation": "v",
         "showlegend": false,
         "textposition": "auto",
         "type": "bar",
         "x": [
          "like",
          "got",
          "yeah",
          "go",
          "want",
          "know",
          "one",
          "back",
          "get",
          "low",
          "girl",
          "right",
          "make",
          "let",
          "see",
          "cause",
          "gon",
          "could",
          "man",
          "shot",
          "tell",
          "bad",
          "big",
          "baby",
          "say",
          "bang",
          "ayy",
          "way",
          "money",
          "give",
          "put",
          "time",
          "need",
          "love",
          "u",
          "hey",
          "hit",
          "really",
          "em",
          "ya",
          "life",
          "better",
          "look",
          "take",
          "come",
          "masquerade",
          "never",
          "round",
          "think",
          "face"
         ],
         "xaxis": "x",
         "y": [
          232,
          139,
          116,
          101,
          100,
          99,
          97,
          92,
          82,
          77,
          75,
          65,
          64,
          61,
          59,
          55,
          55,
          55,
          51,
          51,
          50,
          50,
          48,
          47,
          46,
          46,
          46,
          43,
          43,
          42,
          42,
          40,
          39,
          38,
          35,
          34,
          34,
          33,
          33,
          31,
          31,
          31,
          30,
          30,
          29,
          29,
          28,
          28,
          28,
          28
         ],
         "yaxis": "y"
        }
       ],
       "layout": {
        "autosize": true,
        "barmode": "relative",
        "coloraxis": {
         "colorbar": {
          "title": {
           "text": "Count"
          }
         },
         "colorscale": [
          [
           0,
           "rgb(255,0,0)"
          ],
          [
           1,
           "rgb(0,0,255)"
          ]
         ]
        },
        "legend": {
         "tracegroupgap": 0
        },
        "template": {
         "data": {
          "bar": [
           {
            "error_x": {
             "color": "#2a3f5f"
            },
            "error_y": {
             "color": "#2a3f5f"
            },
            "marker": {
             "line": {
              "color": "#E5ECF6",
              "width": 0.5
             },
             "pattern": {
              "fillmode": "overlay",
              "size": 10,
              "solidity": 0.2
             }
            },
            "type": "bar"
           }
          ],
          "barpolar": [
           {
            "marker": {
             "line": {
              "color": "#E5ECF6",
              "width": 0.5
             },
             "pattern": {
              "fillmode": "overlay",
              "size": 10,
              "solidity": 0.2
             }
            },
            "type": "barpolar"
           }
          ],
          "carpet": [
           {
            "aaxis": {
             "endlinecolor": "#2a3f5f",
             "gridcolor": "white",
             "linecolor": "white",
             "minorgridcolor": "white",
             "startlinecolor": "#2a3f5f"
            },
            "baxis": {
             "endlinecolor": "#2a3f5f",
             "gridcolor": "white",
             "linecolor": "white",
             "minorgridcolor": "white",
             "startlinecolor": "#2a3f5f"
            },
            "type": "carpet"
           }
          ],
          "choropleth": [
           {
            "colorbar": {
             "outlinewidth": 0,
             "ticks": ""
            },
            "type": "choropleth"
           }
          ],
          "contour": [
           {
            "colorbar": {
             "outlinewidth": 0,
             "ticks": ""
            },
            "colorscale": [
             [
              0,
              "#0d0887"
             ],
             [
              0.1111111111111111,
              "#46039f"
             ],
             [
              0.2222222222222222,
              "#7201a8"
             ],
             [
              0.3333333333333333,
              "#9c179e"
             ],
             [
              0.4444444444444444,
              "#bd3786"
             ],
             [
              0.5555555555555556,
              "#d8576b"
             ],
             [
              0.6666666666666666,
              "#ed7953"
             ],
             [
              0.7777777777777778,
              "#fb9f3a"
             ],
             [
              0.8888888888888888,
              "#fdca26"
             ],
             [
              1,
              "#f0f921"
             ]
            ],
            "type": "contour"
           }
          ],
          "contourcarpet": [
           {
            "colorbar": {
             "outlinewidth": 0,
             "ticks": ""
            },
            "type": "contourcarpet"
           }
          ],
          "heatmap": [
           {
            "colorbar": {
             "outlinewidth": 0,
             "ticks": ""
            },
            "colorscale": [
             [
              0,
              "#0d0887"
             ],
             [
              0.1111111111111111,
              "#46039f"
             ],
             [
              0.2222222222222222,
              "#7201a8"
             ],
             [
              0.3333333333333333,
              "#9c179e"
             ],
             [
              0.4444444444444444,
              "#bd3786"
             ],
             [
              0.5555555555555556,
              "#d8576b"
             ],
             [
              0.6666666666666666,
              "#ed7953"
             ],
             [
              0.7777777777777778,
              "#fb9f3a"
             ],
             [
              0.8888888888888888,
              "#fdca26"
             ],
             [
              1,
              "#f0f921"
             ]
            ],
            "type": "heatmap"
           }
          ],
          "heatmapgl": [
           {
            "colorbar": {
             "outlinewidth": 0,
             "ticks": ""
            },
            "colorscale": [
             [
              0,
              "#0d0887"
             ],
             [
              0.1111111111111111,
              "#46039f"
             ],
             [
              0.2222222222222222,
              "#7201a8"
             ],
             [
              0.3333333333333333,
              "#9c179e"
             ],
             [
              0.4444444444444444,
              "#bd3786"
             ],
             [
              0.5555555555555556,
              "#d8576b"
             ],
             [
              0.6666666666666666,
              "#ed7953"
             ],
             [
              0.7777777777777778,
              "#fb9f3a"
             ],
             [
              0.8888888888888888,
              "#fdca26"
             ],
             [
              1,
              "#f0f921"
             ]
            ],
            "type": "heatmapgl"
           }
          ],
          "histogram": [
           {
            "marker": {
             "pattern": {
              "fillmode": "overlay",
              "size": 10,
              "solidity": 0.2
             }
            },
            "type": "histogram"
           }
          ],
          "histogram2d": [
           {
            "colorbar": {
             "outlinewidth": 0,
             "ticks": ""
            },
            "colorscale": [
             [
              0,
              "#0d0887"
             ],
             [
              0.1111111111111111,
              "#46039f"
             ],
             [
              0.2222222222222222,
              "#7201a8"
             ],
             [
              0.3333333333333333,
              "#9c179e"
             ],
             [
              0.4444444444444444,
              "#bd3786"
             ],
             [
              0.5555555555555556,
              "#d8576b"
             ],
             [
              0.6666666666666666,
              "#ed7953"
             ],
             [
              0.7777777777777778,
              "#fb9f3a"
             ],
             [
              0.8888888888888888,
              "#fdca26"
             ],
             [
              1,
              "#f0f921"
             ]
            ],
            "type": "histogram2d"
           }
          ],
          "histogram2dcontour": [
           {
            "colorbar": {
             "outlinewidth": 0,
             "ticks": ""
            },
            "colorscale": [
             [
              0,
              "#0d0887"
             ],
             [
              0.1111111111111111,
              "#46039f"
             ],
             [
              0.2222222222222222,
              "#7201a8"
             ],
             [
              0.3333333333333333,
              "#9c179e"
             ],
             [
              0.4444444444444444,
              "#bd3786"
             ],
             [
              0.5555555555555556,
              "#d8576b"
             ],
             [
              0.6666666666666666,
              "#ed7953"
             ],
             [
              0.7777777777777778,
              "#fb9f3a"
             ],
             [
              0.8888888888888888,
              "#fdca26"
             ],
             [
              1,
              "#f0f921"
             ]
            ],
            "type": "histogram2dcontour"
           }
          ],
          "mesh3d": [
           {
            "colorbar": {
             "outlinewidth": 0,
             "ticks": ""
            },
            "type": "mesh3d"
           }
          ],
          "parcoords": [
           {
            "line": {
             "colorbar": {
              "outlinewidth": 0,
              "ticks": ""
             }
            },
            "type": "parcoords"
           }
          ],
          "pie": [
           {
            "automargin": true,
            "type": "pie"
           }
          ],
          "scatter": [
           {
            "marker": {
             "colorbar": {
              "outlinewidth": 0,
              "ticks": ""
             }
            },
            "type": "scatter"
           }
          ],
          "scatter3d": [
           {
            "line": {
             "colorbar": {
              "outlinewidth": 0,
              "ticks": ""
             }
            },
            "marker": {
             "colorbar": {
              "outlinewidth": 0,
              "ticks": ""
             }
            },
            "type": "scatter3d"
           }
          ],
          "scattercarpet": [
           {
            "marker": {
             "colorbar": {
              "outlinewidth": 0,
              "ticks": ""
             }
            },
            "type": "scattercarpet"
           }
          ],
          "scattergeo": [
           {
            "marker": {
             "colorbar": {
              "outlinewidth": 0,
              "ticks": ""
             }
            },
            "type": "scattergeo"
           }
          ],
          "scattergl": [
           {
            "marker": {
             "colorbar": {
              "outlinewidth": 0,
              "ticks": ""
             }
            },
            "type": "scattergl"
           }
          ],
          "scattermapbox": [
           {
            "marker": {
             "colorbar": {
              "outlinewidth": 0,
              "ticks": ""
             }
            },
            "type": "scattermapbox"
           }
          ],
          "scatterpolar": [
           {
            "marker": {
             "colorbar": {
              "outlinewidth": 0,
              "ticks": ""
             }
            },
            "type": "scatterpolar"
           }
          ],
          "scatterpolargl": [
           {
            "marker": {
             "colorbar": {
              "outlinewidth": 0,
              "ticks": ""
             }
            },
            "type": "scatterpolargl"
           }
          ],
          "scatterternary": [
           {
            "marker": {
             "colorbar": {
              "outlinewidth": 0,
              "ticks": ""
             }
            },
            "type": "scatterternary"
           }
          ],
          "surface": [
           {
            "colorbar": {
             "outlinewidth": 0,
             "ticks": ""
            },
            "colorscale": [
             [
              0,
              "#0d0887"
             ],
             [
              0.1111111111111111,
              "#46039f"
             ],
             [
              0.2222222222222222,
              "#7201a8"
             ],
             [
              0.3333333333333333,
              "#9c179e"
             ],
             [
              0.4444444444444444,
              "#bd3786"
             ],
             [
              0.5555555555555556,
              "#d8576b"
             ],
             [
              0.6666666666666666,
              "#ed7953"
             ],
             [
              0.7777777777777778,
              "#fb9f3a"
             ],
             [
              0.8888888888888888,
              "#fdca26"
             ],
             [
              1,
              "#f0f921"
             ]
            ],
            "type": "surface"
           }
          ],
          "table": [
           {
            "cells": {
             "fill": {
              "color": "#EBF0F8"
             },
             "line": {
              "color": "white"
             }
            },
            "header": {
             "fill": {
              "color": "#C8D4E3"
             },
             "line": {
              "color": "white"
             }
            },
            "type": "table"
           }
          ]
         },
         "layout": {
          "annotationdefaults": {
           "arrowcolor": "#2a3f5f",
           "arrowhead": 0,
           "arrowwidth": 1
          },
          "autotypenumbers": "strict",
          "coloraxis": {
           "colorbar": {
            "outlinewidth": 0,
            "ticks": ""
           }
          },
          "colorscale": {
           "diverging": [
            [
             0,
             "#8e0152"
            ],
            [
             0.1,
             "#c51b7d"
            ],
            [
             0.2,
             "#de77ae"
            ],
            [
             0.3,
             "#f1b6da"
            ],
            [
             0.4,
             "#fde0ef"
            ],
            [
             0.5,
             "#f7f7f7"
            ],
            [
             0.6,
             "#e6f5d0"
            ],
            [
             0.7,
             "#b8e186"
            ],
            [
             0.8,
             "#7fbc41"
            ],
            [
             0.9,
             "#4d9221"
            ],
            [
             1,
             "#276419"
            ]
           ],
           "sequential": [
            [
             0,
             "#0d0887"
            ],
            [
             0.1111111111111111,
             "#46039f"
            ],
            [
             0.2222222222222222,
             "#7201a8"
            ],
            [
             0.3333333333333333,
             "#9c179e"
            ],
            [
             0.4444444444444444,
             "#bd3786"
            ],
            [
             0.5555555555555556,
             "#d8576b"
            ],
            [
             0.6666666666666666,
             "#ed7953"
            ],
            [
             0.7777777777777778,
             "#fb9f3a"
            ],
            [
             0.8888888888888888,
             "#fdca26"
            ],
            [
             1,
             "#f0f921"
            ]
           ],
           "sequentialminus": [
            [
             0,
             "#0d0887"
            ],
            [
             0.1111111111111111,
             "#46039f"
            ],
            [
             0.2222222222222222,
             "#7201a8"
            ],
            [
             0.3333333333333333,
             "#9c179e"
            ],
            [
             0.4444444444444444,
             "#bd3786"
            ],
            [
             0.5555555555555556,
             "#d8576b"
            ],
            [
             0.6666666666666666,
             "#ed7953"
            ],
            [
             0.7777777777777778,
             "#fb9f3a"
            ],
            [
             0.8888888888888888,
             "#fdca26"
            ],
            [
             1,
             "#f0f921"
            ]
           ]
          },
          "colorway": [
           "#636efa",
           "#EF553B",
           "#00cc96",
           "#ab63fa",
           "#FFA15A",
           "#19d3f3",
           "#FF6692",
           "#B6E880",
           "#FF97FF",
           "#FECB52"
          ],
          "font": {
           "color": "#2a3f5f"
          },
          "geo": {
           "bgcolor": "white",
           "lakecolor": "white",
           "landcolor": "#E5ECF6",
           "showlakes": true,
           "showland": true,
           "subunitcolor": "white"
          },
          "hoverlabel": {
           "align": "left"
          },
          "hovermode": "closest",
          "mapbox": {
           "style": "light"
          },
          "paper_bgcolor": "white",
          "plot_bgcolor": "#E5ECF6",
          "polar": {
           "angularaxis": {
            "gridcolor": "white",
            "linecolor": "white",
            "ticks": ""
           },
           "bgcolor": "#E5ECF6",
           "radialaxis": {
            "gridcolor": "white",
            "linecolor": "white",
            "ticks": ""
           }
          },
          "scene": {
           "xaxis": {
            "backgroundcolor": "#E5ECF6",
            "gridcolor": "white",
            "gridwidth": 2,
            "linecolor": "white",
            "showbackground": true,
            "ticks": "",
            "zerolinecolor": "white"
           },
           "yaxis": {
            "backgroundcolor": "#E5ECF6",
            "gridcolor": "white",
            "gridwidth": 2,
            "linecolor": "white",
            "showbackground": true,
            "ticks": "",
            "zerolinecolor": "white"
           },
           "zaxis": {
            "backgroundcolor": "#E5ECF6",
            "gridcolor": "white",
            "gridwidth": 2,
            "linecolor": "white",
            "showbackground": true,
            "ticks": "",
            "zerolinecolor": "white"
           }
          },
          "shapedefaults": {
           "line": {
            "color": "#2a3f5f"
           }
          },
          "ternary": {
           "aaxis": {
            "gridcolor": "white",
            "linecolor": "white",
            "ticks": ""
           },
           "baxis": {
            "gridcolor": "white",
            "linecolor": "white",
            "ticks": ""
           },
           "bgcolor": "#E5ECF6",
           "caxis": {
            "gridcolor": "white",
            "linecolor": "white",
            "ticks": ""
           }
          },
          "title": {
           "x": 0.05
          },
          "xaxis": {
           "automargin": true,
           "gridcolor": "white",
           "linecolor": "white",
           "ticks": "",
           "title": {
            "standoff": 15
           },
           "zerolinecolor": "white",
           "zerolinewidth": 2
          },
          "yaxis": {
           "automargin": true,
           "gridcolor": "white",
           "linecolor": "white",
           "ticks": "",
           "title": {
            "standoff": 15
           },
           "zerolinecolor": "white",
           "zerolinewidth": 2
          }
         }
        },
        "title": {
         "text": "Top Words for Hip Hop"
        },
        "xaxis": {
         "anchor": "y",
         "autorange": true,
         "domain": [
          0,
          1
         ],
         "range": [
          -0.5,
          49.5
         ],
         "title": {
          "text": "Word"
         },
         "type": "category"
        },
        "yaxis": {
         "anchor": "x",
         "autorange": true,
         "domain": [
          0,
          1
         ],
         "range": [
          0,
          244.21052631578948
         ],
         "title": {
          "text": "Count"
         },
         "type": "linear"
        }
       }
      },
      "image/png": "[encoded data removed]",
      "text/html": [
       "<div>                            <div id=\"89e54007-2fc0-4f8d-9434-c6410c58a269\" class=\"plotly-graph-div\" style=\"height:525px; width:100%;\"></div>            <script type=\"text/javascript\">                require([\"plotly\"], function(Plotly) {                    window.PLOTLYENV=window.PLOTLYENV || {};                                    if (document.getElementById(\"89e54007-2fc0-4f8d-9434-c6410c58a269\")) {                    Plotly.newPlot(                        \"89e54007-2fc0-4f8d-9434-c6410c58a269\",                        [{\"alignmentgroup\":\"True\",\"hovertemplate\":\"Word=%{x}<br>Count=%{marker.color}<extra></extra>\",\"legendgroup\":\"\",\"marker\":{\"color\":[232,139,116,101,100,99,97,92,82,77,75,65,64,61,59,55,55,55,51,51,50,50,48,47,46,46,46,43,43,42,42,40,39,38,35,34,34,33,33,31,31,31,30,30,29,29,28,28,28,28],\"coloraxis\":\"coloraxis\",\"pattern\":{\"shape\":\"\"}},\"name\":\"\",\"offsetgroup\":\"\",\"orientation\":\"v\",\"showlegend\":false,\"textposition\":\"auto\",\"type\":\"bar\",\"x\":[\"like\",\"got\",\"yeah\",\"go\",\"want\",\"know\",\"one\",\"back\",\"get\",\"low\",\"girl\",\"right\",\"make\",\"let\",\"see\",\"cause\",\"gon\",\"could\",\"man\",\"shot\",\"tell\",\"bad\",\"big\",\"baby\",\"say\",\"bang\",\"ayy\",\"way\",\"money\",\"give\",\"put\",\"time\",\"need\",\"love\",\"u\",\"hey\",\"hit\",\"really\",\"em\",\"ya\",\"life\",\"better\",\"look\",\"take\",\"come\",\"masquerade\",\"never\",\"round\",\"think\",\"face\"],\"xaxis\":\"x\",\"y\":[232,139,116,101,100,99,97,92,82,77,75,65,64,61,59,55,55,55,51,51,50,50,48,47,46,46,46,43,43,42,42,40,39,38,35,34,34,33,33,31,31,31,30,30,29,29,28,28,28,28],\"yaxis\":\"y\"}],                        {\"barmode\":\"relative\",\"coloraxis\":{\"colorbar\":{\"title\":{\"text\":\"Count\"}},\"colorscale\":[[0.0,\"rgb(255,0,0)\"],[1.0,\"rgb(0,0,255)\"]]},\"legend\":{\"tracegroupgap\":0},\"template\":{\"data\":{\"bar\":[{\"error_x\":{\"color\":\"#2a3f5f\"},\"error_y\":{\"color\":\"#2a3f5f\"},\"marker\":{\"line\":{\"color\":\"#E5ECF6\",\"width\":0.5},\"pattern\":{\"fillmode\":\"overlay\",\"size\":10,\"solidity\":0.2}},\"type\":\"bar\"}],\"barpolar\":[{\"marker\":{\"line\":{\"color\":\"#E5ECF6\",\"width\":0.5},\"pattern\":{\"fillmode\":\"overlay\",\"size\":10,\"solidity\":0.2}},\"type\":\"barpolar\"}],\"carpet\":[{\"aaxis\":{\"endlinecolor\":\"#2a3f5f\",\"gridcolor\":\"white\",\"linecolor\":\"white\",\"minorgridcolor\":\"white\",\"startlinecolor\":\"#2a3f5f\"},\"baxis\":{\"endlinecolor\":\"#2a3f5f\",\"gridcolor\":\"white\",\"linecolor\":\"white\",\"minorgridcolor\":\"white\",\"startlinecolor\":\"#2a3f5f\"},\"type\":\"carpet\"}],\"choropleth\":[{\"colorbar\":{\"outlinewidth\":0,\"ticks\":\"\"},\"type\":\"choropleth\"}],\"contour\":[{\"colorbar\":{\"outlinewidth\":0,\"ticks\":\"\"},\"colorscale\":[[0.0,\"#0d0887\"],[0.1111111111111111,\"#46039f\"],[0.2222222222222222,\"#7201a8\"],[0.3333333333333333,\"#9c179e\"],[0.4444444444444444,\"#bd3786\"],[0.5555555555555556,\"#d8576b\"],[0.6666666666666666,\"#ed7953\"],[0.7777777777777778,\"#fb9f3a\"],[0.8888888888888888,\"#fdca26\"],[1.0,\"#f0f921\"]],\"type\":\"contour\"}],\"contourcarpet\":[{\"colorbar\":{\"outlinewidth\":0,\"ticks\":\"\"},\"type\":\"contourcarpet\"}],\"heatmap\":[{\"colorbar\":{\"outlinewidth\":0,\"ticks\":\"\"},\"colorscale\":[[0.0,\"#0d0887\"],[0.1111111111111111,\"#46039f\"],[0.2222222222222222,\"#7201a8\"],[0.3333333333333333,\"#9c179e\"],[0.4444444444444444,\"#bd3786\"],[0.5555555555555556,\"#d8576b\"],[0.6666666666666666,\"#ed7953\"],[0.7777777777777778,\"#fb9f3a\"],[0.8888888888888888,\"#fdca26\"],[1.0,\"#f0f921\"]],\"type\":\"heatmap\"}],\"heatmapgl\":[{\"colorbar\":{\"outlinewidth\":0,\"ticks\":\"\"},\"colorscale\":[[0.0,\"#0d0887\"],[0.1111111111111111,\"#46039f\"],[0.2222222222222222,\"#7201a8\"],[0.3333333333333333,\"#9c179e\"],[0.4444444444444444,\"#bd3786\"],[0.5555555555555556,\"#d8576b\"],[0.6666666666666666,\"#ed7953\"],[0.7777777777777778,\"#fb9f3a\"],[0.8888888888888888,\"#fdca26\"],[1.0,\"#f0f921\"]],\"type\":\"heatmapgl\"}],\"histogram\":[{\"marker\":{\"pattern\":{\"fillmode\":\"overlay\",\"size\":10,\"solidity\":0.2}},\"type\":\"histogram\"}],\"histogram2d\":[{\"colorbar\":{\"outlinewidth\":0,\"ticks\":\"\"},\"colorscale\":[[0.0,\"#0d0887\"],[0.1111111111111111,\"#46039f\"],[0.2222222222222222,\"#7201a8\"],[0.3333333333333333,\"#9c179e\"],[0.4444444444444444,\"#bd3786\"],[0.5555555555555556,\"#d8576b\"],[0.6666666666666666,\"#ed7953\"],[0.7777777777777778,\"#fb9f3a\"],[0.8888888888888888,\"#fdca26\"],[1.0,\"#f0f921\"]],\"type\":\"histogram2d\"}],\"histogram2dcontour\":[{\"colorbar\":{\"outlinewidth\":0,\"ticks\":\"\"},\"colorscale\":[[0.0,\"#0d0887\"],[0.1111111111111111,\"#46039f\"],[0.2222222222222222,\"#7201a8\"],[0.3333333333333333,\"#9c179e\"],[0.4444444444444444,\"#bd3786\"],[0.5555555555555556,\"#d8576b\"],[0.6666666666666666,\"#ed7953\"],[0.7777777777777778,\"#fb9f3a\"],[0.8888888888888888,\"#fdca26\"],[1.0,\"#f0f921\"]],\"type\":\"histogram2dcontour\"}],\"mesh3d\":[{\"colorbar\":{\"outlinewidth\":0,\"ticks\":\"\"},\"type\":\"mesh3d\"}],\"parcoords\":[{\"line\":{\"colorbar\":{\"outlinewidth\":0,\"ticks\":\"\"}},\"type\":\"parcoords\"}],\"pie\":[{\"automargin\":true,\"type\":\"pie\"}],\"scatter\":[{\"marker\":{\"colorbar\":{\"outlinewidth\":0,\"ticks\":\"\"}},\"type\":\"scatter\"}],\"scatter3d\":[{\"line\":{\"colorbar\":{\"outlinewidth\":0,\"ticks\":\"\"}},\"marker\":{\"colorbar\":{\"outlinewidth\":0,\"ticks\":\"\"}},\"type\":\"scatter3d\"}],\"scattercarpet\":[{\"marker\":{\"colorbar\":{\"outlinewidth\":0,\"ticks\":\"\"}},\"type\":\"scattercarpet\"}],\"scattergeo\":[{\"marker\":{\"colorbar\":{\"outlinewidth\":0,\"ticks\":\"\"}},\"type\":\"scattergeo\"}],\"scattergl\":[{\"marker\":{\"colorbar\":{\"outlinewidth\":0,\"ticks\":\"\"}},\"type\":\"scattergl\"}],\"scattermapbox\":[{\"marker\":{\"colorbar\":{\"outlinewidth\":0,\"ticks\":\"\"}},\"type\":\"scattermapbox\"}],\"scatterpolar\":[{\"marker\":{\"colorbar\":{\"outlinewidth\":0,\"ticks\":\"\"}},\"type\":\"scatterpolar\"}],\"scatterpolargl\":[{\"marker\":{\"colorbar\":{\"outlinewidth\":0,\"ticks\":\"\"}},\"type\":\"scatterpolargl\"}],\"scatterternary\":[{\"marker\":{\"colorbar\":{\"outlinewidth\":0,\"ticks\":\"\"}},\"type\":\"scatterternary\"}],\"surface\":[{\"colorbar\":{\"outlinewidth\":0,\"ticks\":\"\"},\"colorscale\":[[0.0,\"#0d0887\"],[0.1111111111111111,\"#46039f\"],[0.2222222222222222,\"#7201a8\"],[0.3333333333333333,\"#9c179e\"],[0.4444444444444444,\"#bd3786\"],[0.5555555555555556,\"#d8576b\"],[0.6666666666666666,\"#ed7953\"],[0.7777777777777778,\"#fb9f3a\"],[0.8888888888888888,\"#fdca26\"],[1.0,\"#f0f921\"]],\"type\":\"surface\"}],\"table\":[{\"cells\":{\"fill\":{\"color\":\"#EBF0F8\"},\"line\":{\"color\":\"white\"}},\"header\":{\"fill\":{\"color\":\"#C8D4E3\"},\"line\":{\"color\":\"white\"}},\"type\":\"table\"}]},\"layout\":{\"annotationdefaults\":{\"arrowcolor\":\"#2a3f5f\",\"arrowhead\":0,\"arrowwidth\":1},\"autotypenumbers\":\"strict\",\"coloraxis\":{\"colorbar\":{\"outlinewidth\":0,\"ticks\":\"\"}},\"colorscale\":{\"diverging\":[[0,\"#8e0152\"],[0.1,\"#c51b7d\"],[0.2,\"#de77ae\"],[0.3,\"#f1b6da\"],[0.4,\"#fde0ef\"],[0.5,\"#f7f7f7\"],[0.6,\"#e6f5d0\"],[0.7,\"#b8e186\"],[0.8,\"#7fbc41\"],[0.9,\"#4d9221\"],[1,\"#276419\"]],\"sequential\":[[0.0,\"#0d0887\"],[0.1111111111111111,\"#46039f\"],[0.2222222222222222,\"#7201a8\"],[0.3333333333333333,\"#9c179e\"],[0.4444444444444444,\"#bd3786\"],[0.5555555555555556,\"#d8576b\"],[0.6666666666666666,\"#ed7953\"],[0.7777777777777778,\"#fb9f3a\"],[0.8888888888888888,\"#fdca26\"],[1.0,\"#f0f921\"]],\"sequentialminus\":[[0.0,\"#0d0887\"],[0.1111111111111111,\"#46039f\"],[0.2222222222222222,\"#7201a8\"],[0.3333333333333333,\"#9c179e\"],[0.4444444444444444,\"#bd3786\"],[0.5555555555555556,\"#d8576b\"],[0.6666666666666666,\"#ed7953\"],[0.7777777777777778,\"#fb9f3a\"],[0.8888888888888888,\"#fdca26\"],[1.0,\"#f0f921\"]]},\"colorway\":[\"#636efa\",\"#EF553B\",\"#00cc96\",\"#ab63fa\",\"#FFA15A\",\"#19d3f3\",\"#FF6692\",\"#B6E880\",\"#FF97FF\",\"#FECB52\"],\"font\":{\"color\":\"#2a3f5f\"},\"geo\":{\"bgcolor\":\"white\",\"lakecolor\":\"white\",\"landcolor\":\"#E5ECF6\",\"showlakes\":true,\"showland\":true,\"subunitcolor\":\"white\"},\"hoverlabel\":{\"align\":\"left\"},\"hovermode\":\"closest\",\"mapbox\":{\"style\":\"light\"},\"paper_bgcolor\":\"white\",\"plot_bgcolor\":\"#E5ECF6\",\"polar\":{\"angularaxis\":{\"gridcolor\":\"white\",\"linecolor\":\"white\",\"ticks\":\"\"},\"bgcolor\":\"#E5ECF6\",\"radialaxis\":{\"gridcolor\":\"white\",\"linecolor\":\"white\",\"ticks\":\"\"}},\"scene\":{\"xaxis\":{\"backgroundcolor\":\"#E5ECF6\",\"gridcolor\":\"white\",\"gridwidth\":2,\"linecolor\":\"white\",\"showbackground\":true,\"ticks\":\"\",\"zerolinecolor\":\"white\"},\"yaxis\":{\"backgroundcolor\":\"#E5ECF6\",\"gridcolor\":\"white\",\"gridwidth\":2,\"linecolor\":\"white\",\"showbackground\":true,\"ticks\":\"\",\"zerolinecolor\":\"white\"},\"zaxis\":{\"backgroundcolor\":\"#E5ECF6\",\"gridcolor\":\"white\",\"gridwidth\":2,\"linecolor\":\"white\",\"showbackground\":true,\"ticks\":\"\",\"zerolinecolor\":\"white\"}},\"shapedefaults\":{\"line\":{\"color\":\"#2a3f5f\"}},\"ternary\":{\"aaxis\":{\"gridcolor\":\"white\",\"linecolor\":\"white\",\"ticks\":\"\"},\"baxis\":{\"gridcolor\":\"white\",\"linecolor\":\"white\",\"ticks\":\"\"},\"bgcolor\":\"#E5ECF6\",\"caxis\":{\"gridcolor\":\"white\",\"linecolor\":\"white\",\"ticks\":\"\"}},\"title\":{\"x\":0.05},\"xaxis\":{\"automargin\":true,\"gridcolor\":\"white\",\"linecolor\":\"white\",\"ticks\":\"\",\"title\":{\"standoff\":15},\"zerolinecolor\":\"white\",\"zerolinewidth\":2},\"yaxis\":{\"automargin\":true,\"gridcolor\":\"white\",\"linecolor\":\"white\",\"ticks\":\"\",\"title\":{\"standoff\":15},\"zerolinecolor\":\"white\",\"zerolinewidth\":2}}},\"title\":{\"text\":\"Top Words for Hip Hop\"},\"xaxis\":{\"anchor\":\"y\",\"domain\":[0.0,1.0],\"title\":{\"text\":\"Word\"}},\"yaxis\":{\"anchor\":\"x\",\"domain\":[0.0,1.0],\"title\":{\"text\":\"Count\"}}},                        {\"responsive\": true}                    ).then(function(){\n",
       "                            \n",
       "var gd = document.getElementById('89e54007-2fc0-4f8d-9434-c6410c58a269');\n",
       "var x = new MutationObserver(function (mutations, observer) {{\n",
       "        var display = window.getComputedStyle(gd).display;\n",
       "        if (!display || display === 'none') {{\n",
       "            console.log([gd, 'removed!']);\n",
       "            Plotly.purge(gd);\n",
       "            observer.disconnect();\n",
       "        }}\n",
       "}});\n",
       "\n",
       "// Listen for the removal of the full notebook cells\n",
       "var notebookContainer = gd.closest('#notebook-container');\n",
       "if (notebookContainer) {{\n",
       "    x.observe(notebookContainer, {childList: true});\n",
       "}}\n",
       "\n",
       "// Listen for the clearing of the current output cell\n",
       "var outputEl = gd.closest('.output');\n",
       "if (outputEl) {{\n",
       "    x.observe(outputEl, {childList: true});\n",
       "}}\n",
       "\n",
       "                        })                };                });            </script>        </div>"
      ]
     },
     "metadata": {},
     "output_type": "display_data"
    }
   ],
   "source": [
    "# Plot most common tokens\n",
    "lyrics_top50_plot = px.bar(\n",
    "    lyrics_top50_df,\n",
    "    y = 'Count',\n",
    "    color = \"Count\",\n",
    "    color_continuous_scale='Bluered_r',\n",
    "    title ='Top Words for Hip Hop'\n",
    ")\n",
    "lyrics_top50_plot"
   ]
  },
  {
   "cell_type": "markdown",
   "id": "458d682b-24ef-44ec-ada0-af7045184cd9",
   "metadata": {},
   "source": [
    "# Hip Hop Word Cloud"
   ]
  },
  {
   "cell_type": "code",
   "execution_count": 32,
   "id": "045bc6c6-a259-4590-a86c-39d3422b33ed",
   "metadata": {},
   "outputs": [
    {
     "data": {
      "image/png": "[encoded data removed]",
      "text/plain": [
       "<Figure size 432x288 with 1 Axes>"
      ]
     },
     "metadata": {
      "needs_background": "light"
     },
     "output_type": "display_data"
    }
   ],
   "source": [
    "# # Generate the Hip Hop word cloud\n",
    "lyrics_words_joined = ' '.join(lyrics_processed)\n",
    "\n",
    "font_path = 'Resources/saiyan_sans/Saiyan-Sans.ttf'\n",
    "\n",
    "mask = np.array(Image.open('Images/a.jpeg'))\n",
    "\n",
    "mask_colors = ImageColorGenerator(mask)\n",
    "\n",
    "wc = WordCloud(background_color=\"white\", font_path=font_path, max_words=2000, mask = mask, max_font_size=256,\n",
    "               random_state=42, width=mask.shape[1], height=mask.shape[0], color_func=mask_colors)\n",
    "wc.generate(lyrics_words_joined)\n",
    "plt.imshow(wc, interpolation=\"bilinear\")\n",
    "plt.axis('off')\n",
    "plt.show()"
   ]
  },
  {
   "cell_type": "code",
   "execution_count": 33,
   "id": "5a98097d-65e5-4f42-8b17-d57e9ba4c2be",
   "metadata": {},
   "outputs": [],
   "source": [
    "# Save image as png\n",
    "# wccc.to_file(\"Images/hiphopboom.png\")"
   ]
  },
  {
   "cell_type": "markdown",
   "id": "5b8c556b-64f3-45dc-a1d3-bd40658eec1d",
   "metadata": {},
   "source": [
    "# Named Entity Recognition\n",
    "In this section, you will build a named entity recognition model for the hip hop lyrics, then visualize the tags using SpaCy."
   ]
  },
  {
   "cell_type": "code",
   "execution_count": 34,
   "id": "ca0cf834-96a6-45c2-a120-3497d13c7a26",
   "metadata": {},
   "outputs": [],
   "source": [
    "# Load the spaCy model\n",
    "nlp = spacy.load('en_core_web_sm')"
   ]
  },
  {
   "cell_type": "code",
   "execution_count": 35,
   "id": "cd7c88ba-5c38-4d65-978b-4d5ba72b6013",
   "metadata": {},
   "outputs": [],
   "source": [
    "# Run the NER processor on all of the text\n",
    "hiphop_ner = nlp(lyrics_text)\n",
    "\n",
    "# Add a title to the document\n",
    "hiphop_ner.user_data['title'] = 'Hip Hop/Rap NER'"
   ]
  },
  {
   "cell_type": "code",
   "execution_count": null,
   "id": "26509d21-b9b4-44f0-91a9-8755192e5fa0",
   "metadata": {},
   "outputs": [],
   "source": [
    "# Render the visualization\n",
    "# displacy.render(hiphop_ner, style='ent')"
   ]
  },
  {
   "cell_type": "code",
   "execution_count": 36,
   "id": "448cfd9e-03e1-4a43-855a-b3f4e9c983bd",
   "metadata": {},
   "outputs": [
    {
     "data": {
      "text/html": [
       "<div>\n",
       "<style scoped>\n",
       "    .dataframe tbody tr th:only-of-type {\n",
       "        vertical-align: middle;\n",
       "    }\n",
       "\n",
       "    .dataframe tbody tr th {\n",
       "        vertical-align: top;\n",
       "    }\n",
       "\n",
       "    .dataframe thead th {\n",
       "        text-align: right;\n",
       "    }\n",
       "</style>\n",
       "<table border=\"1\" class=\"dataframe\">\n",
       "  <thead>\n",
       "    <tr style=\"text-align: right;\">\n",
       "      <th></th>\n",
       "      <th>Frequency</th>\n",
       "      <th>Label</th>\n",
       "    </tr>\n",
       "  </thead>\n",
       "  <tbody>\n",
       "    <tr>\n",
       "      <th>bang</th>\n",
       "      <td>27</td>\n",
       "      <td>GPE</td>\n",
       "    </tr>\n",
       "    <tr>\n",
       "      <th>Bang</th>\n",
       "      <td>18</td>\n",
       "      <td>GPE</td>\n",
       "    </tr>\n",
       "    <tr>\n",
       "      <th>One</th>\n",
       "      <td>15</td>\n",
       "      <td>CARDINAL</td>\n",
       "    </tr>\n",
       "    <tr>\n",
       "      <th>one</th>\n",
       "      <td>13</td>\n",
       "      <td>CARDINAL</td>\n",
       "    </tr>\n",
       "    <tr>\n",
       "      <th>Livin</th>\n",
       "      <td>12</td>\n",
       "      <td>GPE</td>\n",
       "    </tr>\n",
       "    <tr>\n",
       "      <th>...</th>\n",
       "      <td>...</td>\n",
       "      <td>...</td>\n",
       "    </tr>\n",
       "    <tr>\n",
       "      <th>Bastard</th>\n",
       "      <td>1</td>\n",
       "      <td>ORG</td>\n",
       "    </tr>\n",
       "    <tr>\n",
       "      <th>Muhammad Ali</th>\n",
       "      <td>1</td>\n",
       "      <td>PERSON</td>\n",
       "    </tr>\n",
       "    <tr>\n",
       "      <th>Rosa Parks</th>\n",
       "      <td>1</td>\n",
       "      <td>PERSON</td>\n",
       "    </tr>\n",
       "    <tr>\n",
       "      <th>Huey P.</th>\n",
       "      <td>1</td>\n",
       "      <td>PERSON</td>\n",
       "    </tr>\n",
       "    <tr>\n",
       "      <th>Lookin</th>\n",
       "      <td>1</td>\n",
       "      <td>GPE</td>\n",
       "    </tr>\n",
       "  </tbody>\n",
       "</table>\n",
       "<p>350 rows × 2 columns</p>\n",
       "</div>"
      ],
      "text/plain": [
       "              Frequency     Label\n",
       "bang                 27       GPE\n",
       "Bang                 18       GPE\n",
       "One                  15  CARDINAL\n",
       "one                  13  CARDINAL\n",
       "Livin                12       GPE\n",
       "...                 ...       ...\n",
       "Bastard               1       ORG\n",
       "Muhammad Ali          1    PERSON\n",
       "Rosa Parks            1    PERSON\n",
       "Huey P.               1    PERSON\n",
       "Lookin                1       GPE\n",
       "\n",
       "[350 rows x 2 columns]"
      ]
     },
     "execution_count": 36,
     "metadata": {},
     "output_type": "execute_result"
    }
   ],
   "source": [
    "# List all Entities\n",
    "\n",
    "ent_labels=[]\n",
    "entities=[]\n",
    "\n",
    "for ent in hiphop_ner.ents:\n",
    "    ent_labels.append(ent.label_)\n",
    "    entities.append(ent.text)\n",
    "\n",
    "# Obtain frequency for each named entity\n",
    "\n",
    "entities_freq = pd.DataFrame.from_dict([Counter(entities)]).T\n",
    "entities_freq.columns = ['Frequency']\n",
    "entities_freq.sort_values(by= 'Frequency', ascending=False, inplace = True)\n",
    "\n",
    "\n",
    "# Retrieve labels for unique named entities\n",
    "\n",
    "unique_nes = entities_freq.index.tolist()\n",
    "\n",
    "labels = []\n",
    "\n",
    "for word in unique_nes:\n",
    "    idx = entities.index(word)\n",
    "    label = ent_labels[idx]\n",
    "    labels.append(label)\n",
    "\n",
    "entities_freq['Label'] = labels\n",
    "\n",
    "entities_freq"
   ]
  },
  {
   "cell_type": "code",
   "execution_count": 37,
   "id": "3089f7f3-cb93-428a-aac4-5762197a0b92",
   "metadata": {},
   "outputs": [
    {
     "data": {
      "text/html": [
       "<div>\n",
       "<style scoped>\n",
       "    .dataframe tbody tr th:only-of-type {\n",
       "        vertical-align: middle;\n",
       "    }\n",
       "\n",
       "    .dataframe tbody tr th {\n",
       "        vertical-align: top;\n",
       "    }\n",
       "\n",
       "    .dataframe thead th {\n",
       "        text-align: right;\n",
       "    }\n",
       "</style>\n",
       "<table border=\"1\" class=\"dataframe\">\n",
       "  <thead>\n",
       "    <tr style=\"text-align: right;\">\n",
       "      <th></th>\n",
       "      <th>Named_Entity</th>\n",
       "      <th>Count</th>\n",
       "    </tr>\n",
       "  </thead>\n",
       "  <tbody>\n",
       "    <tr>\n",
       "      <th>0</th>\n",
       "      <td>PERSON</td>\n",
       "      <td>187</td>\n",
       "    </tr>\n",
       "    <tr>\n",
       "      <th>1</th>\n",
       "      <td>ORG</td>\n",
       "      <td>153</td>\n",
       "    </tr>\n",
       "    <tr>\n",
       "      <th>2</th>\n",
       "      <td>GPE</td>\n",
       "      <td>107</td>\n",
       "    </tr>\n",
       "    <tr>\n",
       "      <th>3</th>\n",
       "      <td>CARDINAL</td>\n",
       "      <td>68</td>\n",
       "    </tr>\n",
       "    <tr>\n",
       "      <th>4</th>\n",
       "      <td>DATE</td>\n",
       "      <td>31</td>\n",
       "    </tr>\n",
       "  </tbody>\n",
       "</table>\n",
       "</div>"
      ],
      "text/plain": [
       "  Named_Entity  Count\n",
       "0       PERSON    187\n",
       "1          ORG    153\n",
       "2          GPE    107\n",
       "3     CARDINAL     68\n",
       "4         DATE     31"
      ]
     },
     "execution_count": 37,
     "metadata": {},
     "output_type": "execute_result"
    }
   ],
   "source": [
    "# Bar chart of frequencies of Named Entities\n",
    "\n",
    "entities_count = pd.DataFrame.from_dict([Counter(ent_labels)]).T\n",
    "entities_count.columns = ['Count']\n",
    "\n",
    "entities_count.sort_values('Count',inplace=True, ascending=False)\n",
    "\n",
    "entities_count.reset_index(inplace=True)\n",
    "entities_count = entities_count.rename(columns = {'index':'Named_Entity'})\n",
    "\n",
    "entities_count.head()\n",
    "\n"
   ]
  },
  {
   "cell_type": "code",
   "execution_count": 40,
   "id": "90ff28f7-f674-4062-bb1a-fd2b15320837",
   "metadata": {},
   "outputs": [
    {
     "data": {
      "application/vnd.plotly.v1+json": {
       "config": {
        "plotlyServerURL": "https://plot.ly"
       },
       "data": [
        {
         "alignmentgroup": "True",
         "hovertemplate": "Named_Entity=%{x}<br>Count=%{marker.color}<extra></extra>",
         "legendgroup": "",
         "marker": {
          "color": [
           187,
           153,
           107,
           68,
           31,
           21,
           14,
           13,
           8,
           6,
           6,
           4,
           4,
           1,
           1
          ],
          "coloraxis": "coloraxis",
          "pattern": {
           "shape": ""
          }
         },
         "name": "",
         "offsetgroup": "",
         "orientation": "v",
         "showlegend": false,
         "textposition": "auto",
         "type": "bar",
         "x": [
          "PERSON",
          "ORG",
          "GPE",
          "CARDINAL",
          "DATE",
          "TIME",
          "WORK_OF_ART",
          "PRODUCT",
          "ORDINAL",
          "NORP",
          "FAC",
          "QUANTITY",
          "MONEY",
          "LOC",
          "EVENT"
         ],
         "xaxis": "x",
         "y": [
          187,
          153,
          107,
          68,
          31,
          21,
          14,
          13,
          8,
          6,
          6,
          4,
          4,
          1,
          1
         ],
         "yaxis": "y"
        }
       ],
       "layout": {
        "autosize": true,
        "barmode": "relative",
        "coloraxis": {
         "colorbar": {
          "title": {
           "text": "Count"
          }
         },
         "colorscale": [
          [
           0,
           "rgb(255,0,0)"
          ],
          [
           1,
           "rgb(0,0,255)"
          ]
         ]
        },
        "legend": {
         "tracegroupgap": 0
        },
        "template": {
         "data": {
          "bar": [
           {
            "error_x": {
             "color": "#2a3f5f"
            },
            "error_y": {
             "color": "#2a3f5f"
            },
            "marker": {
             "line": {
              "color": "#E5ECF6",
              "width": 0.5
             },
             "pattern": {
              "fillmode": "overlay",
              "size": 10,
              "solidity": 0.2
             }
            },
            "type": "bar"
           }
          ],
          "barpolar": [
           {
            "marker": {
             "line": {
              "color": "#E5ECF6",
              "width": 0.5
             },
             "pattern": {
              "fillmode": "overlay",
              "size": 10,
              "solidity": 0.2
             }
            },
            "type": "barpolar"
           }
          ],
          "carpet": [
           {
            "aaxis": {
             "endlinecolor": "#2a3f5f",
             "gridcolor": "white",
             "linecolor": "white",
             "minorgridcolor": "white",
             "startlinecolor": "#2a3f5f"
            },
            "baxis": {
             "endlinecolor": "#2a3f5f",
             "gridcolor": "white",
             "linecolor": "white",
             "minorgridcolor": "white",
             "startlinecolor": "#2a3f5f"
            },
            "type": "carpet"
           }
          ],
          "choropleth": [
           {
            "colorbar": {
             "outlinewidth": 0,
             "ticks": ""
            },
            "type": "choropleth"
           }
          ],
          "contour": [
           {
            "colorbar": {
             "outlinewidth": 0,
             "ticks": ""
            },
            "colorscale": [
             [
              0,
              "#0d0887"
             ],
             [
              0.1111111111111111,
              "#46039f"
             ],
             [
              0.2222222222222222,
              "#7201a8"
             ],
             [
              0.3333333333333333,
              "#9c179e"
             ],
             [
              0.4444444444444444,
              "#bd3786"
             ],
             [
              0.5555555555555556,
              "#d8576b"
             ],
             [
              0.6666666666666666,
              "#ed7953"
             ],
             [
              0.7777777777777778,
              "#fb9f3a"
             ],
             [
              0.8888888888888888,
              "#fdca26"
             ],
             [
              1,
              "#f0f921"
             ]
            ],
            "type": "contour"
           }
          ],
          "contourcarpet": [
           {
            "colorbar": {
             "outlinewidth": 0,
             "ticks": ""
            },
            "type": "contourcarpet"
           }
          ],
          "heatmap": [
           {
            "colorbar": {
             "outlinewidth": 0,
             "ticks": ""
            },
            "colorscale": [
             [
              0,
              "#0d0887"
             ],
             [
              0.1111111111111111,
              "#46039f"
             ],
             [
              0.2222222222222222,
              "#7201a8"
             ],
             [
              0.3333333333333333,
              "#9c179e"
             ],
             [
              0.4444444444444444,
              "#bd3786"
             ],
             [
              0.5555555555555556,
              "#d8576b"
             ],
             [
              0.6666666666666666,
              "#ed7953"
             ],
             [
              0.7777777777777778,
              "#fb9f3a"
             ],
             [
              0.8888888888888888,
              "#fdca26"
             ],
             [
              1,
              "#f0f921"
             ]
            ],
            "type": "heatmap"
           }
          ],
          "heatmapgl": [
           {
            "colorbar": {
             "outlinewidth": 0,
             "ticks": ""
            },
            "colorscale": [
             [
              0,
              "#0d0887"
             ],
             [
              0.1111111111111111,
              "#46039f"
             ],
             [
              0.2222222222222222,
              "#7201a8"
             ],
             [
              0.3333333333333333,
              "#9c179e"
             ],
             [
              0.4444444444444444,
              "#bd3786"
             ],
             [
              0.5555555555555556,
              "#d8576b"
             ],
             [
              0.6666666666666666,
              "#ed7953"
             ],
             [
              0.7777777777777778,
              "#fb9f3a"
             ],
             [
              0.8888888888888888,
              "#fdca26"
             ],
             [
              1,
              "#f0f921"
             ]
            ],
            "type": "heatmapgl"
           }
          ],
          "histogram": [
           {
            "marker": {
             "pattern": {
              "fillmode": "overlay",
              "size": 10,
              "solidity": 0.2
             }
            },
            "type": "histogram"
           }
          ],
          "histogram2d": [
           {
            "colorbar": {
             "outlinewidth": 0,
             "ticks": ""
            },
            "colorscale": [
             [
              0,
              "#0d0887"
             ],
             [
              0.1111111111111111,
              "#46039f"
             ],
             [
              0.2222222222222222,
              "#7201a8"
             ],
             [
              0.3333333333333333,
              "#9c179e"
             ],
             [
              0.4444444444444444,
              "#bd3786"
             ],
             [
              0.5555555555555556,
              "#d8576b"
             ],
             [
              0.6666666666666666,
              "#ed7953"
             ],
             [
              0.7777777777777778,
              "#fb9f3a"
             ],
             [
              0.8888888888888888,
              "#fdca26"
             ],
             [
              1,
              "#f0f921"
             ]
            ],
            "type": "histogram2d"
           }
          ],
          "histogram2dcontour": [
           {
            "colorbar": {
             "outlinewidth": 0,
             "ticks": ""
            },
            "colorscale": [
             [
              0,
              "#0d0887"
             ],
             [
              0.1111111111111111,
              "#46039f"
             ],
             [
              0.2222222222222222,
              "#7201a8"
             ],
             [
              0.3333333333333333,
              "#9c179e"
             ],
             [
              0.4444444444444444,
              "#bd3786"
             ],
             [
              0.5555555555555556,
              "#d8576b"
             ],
             [
              0.6666666666666666,
              "#ed7953"
             ],
             [
              0.7777777777777778,
              "#fb9f3a"
             ],
             [
              0.8888888888888888,
              "#fdca26"
             ],
             [
              1,
              "#f0f921"
             ]
            ],
            "type": "histogram2dcontour"
           }
          ],
          "mesh3d": [
           {
            "colorbar": {
             "outlinewidth": 0,
             "ticks": ""
            },
            "type": "mesh3d"
           }
          ],
          "parcoords": [
           {
            "line": {
             "colorbar": {
              "outlinewidth": 0,
              "ticks": ""
             }
            },
            "type": "parcoords"
           }
          ],
          "pie": [
           {
            "automargin": true,
            "type": "pie"
           }
          ],
          "scatter": [
           {
            "marker": {
             "colorbar": {
              "outlinewidth": 0,
              "ticks": ""
             }
            },
            "type": "scatter"
           }
          ],
          "scatter3d": [
           {
            "line": {
             "colorbar": {
              "outlinewidth": 0,
              "ticks": ""
             }
            },
            "marker": {
             "colorbar": {
              "outlinewidth": 0,
              "ticks": ""
             }
            },
            "type": "scatter3d"
           }
          ],
          "scattercarpet": [
           {
            "marker": {
             "colorbar": {
              "outlinewidth": 0,
              "ticks": ""
             }
            },
            "type": "scattercarpet"
           }
          ],
          "scattergeo": [
           {
            "marker": {
             "colorbar": {
              "outlinewidth": 0,
              "ticks": ""
             }
            },
            "type": "scattergeo"
           }
          ],
          "scattergl": [
           {
            "marker": {
             "colorbar": {
              "outlinewidth": 0,
              "ticks": ""
             }
            },
            "type": "scattergl"
           }
          ],
          "scattermapbox": [
           {
            "marker": {
             "colorbar": {
              "outlinewidth": 0,
              "ticks": ""
             }
            },
            "type": "scattermapbox"
           }
          ],
          "scatterpolar": [
           {
            "marker": {
             "colorbar": {
              "outlinewidth": 0,
              "ticks": ""
             }
            },
            "type": "scatterpolar"
           }
          ],
          "scatterpolargl": [
           {
            "marker": {
             "colorbar": {
              "outlinewidth": 0,
              "ticks": ""
             }
            },
            "type": "scatterpolargl"
           }
          ],
          "scatterternary": [
           {
            "marker": {
             "colorbar": {
              "outlinewidth": 0,
              "ticks": ""
             }
            },
            "type": "scatterternary"
           }
          ],
          "surface": [
           {
            "colorbar": {
             "outlinewidth": 0,
             "ticks": ""
            },
            "colorscale": [
             [
              0,
              "#0d0887"
             ],
             [
              0.1111111111111111,
              "#46039f"
             ],
             [
              0.2222222222222222,
              "#7201a8"
             ],
             [
              0.3333333333333333,
              "#9c179e"
             ],
             [
              0.4444444444444444,
              "#bd3786"
             ],
             [
              0.5555555555555556,
              "#d8576b"
             ],
             [
              0.6666666666666666,
              "#ed7953"
             ],
             [
              0.7777777777777778,
              "#fb9f3a"
             ],
             [
              0.8888888888888888,
              "#fdca26"
             ],
             [
              1,
              "#f0f921"
             ]
            ],
            "type": "surface"
           }
          ],
          "table": [
           {
            "cells": {
             "fill": {
              "color": "#EBF0F8"
             },
             "line": {
              "color": "white"
             }
            },
            "header": {
             "fill": {
              "color": "#C8D4E3"
             },
             "line": {
              "color": "white"
             }
            },
            "type": "table"
           }
          ]
         },
         "layout": {
          "annotationdefaults": {
           "arrowcolor": "#2a3f5f",
           "arrowhead": 0,
           "arrowwidth": 1
          },
          "autotypenumbers": "strict",
          "coloraxis": {
           "colorbar": {
            "outlinewidth": 0,
            "ticks": ""
           }
          },
          "colorscale": {
           "diverging": [
            [
             0,
             "#8e0152"
            ],
            [
             0.1,
             "#c51b7d"
            ],
            [
             0.2,
             "#de77ae"
            ],
            [
             0.3,
             "#f1b6da"
            ],
            [
             0.4,
             "#fde0ef"
            ],
            [
             0.5,
             "#f7f7f7"
            ],
            [
             0.6,
             "#e6f5d0"
            ],
            [
             0.7,
             "#b8e186"
            ],
            [
             0.8,
             "#7fbc41"
            ],
            [
             0.9,
             "#4d9221"
            ],
            [
             1,
             "#276419"
            ]
           ],
           "sequential": [
            [
             0,
             "#0d0887"
            ],
            [
             0.1111111111111111,
             "#46039f"
            ],
            [
             0.2222222222222222,
             "#7201a8"
            ],
            [
             0.3333333333333333,
             "#9c179e"
            ],
            [
             0.4444444444444444,
             "#bd3786"
            ],
            [
             0.5555555555555556,
             "#d8576b"
            ],
            [
             0.6666666666666666,
             "#ed7953"
            ],
            [
             0.7777777777777778,
             "#fb9f3a"
            ],
            [
             0.8888888888888888,
             "#fdca26"
            ],
            [
             1,
             "#f0f921"
            ]
           ],
           "sequentialminus": [
            [
             0,
             "#0d0887"
            ],
            [
             0.1111111111111111,
             "#46039f"
            ],
            [
             0.2222222222222222,
             "#7201a8"
            ],
            [
             0.3333333333333333,
             "#9c179e"
            ],
            [
             0.4444444444444444,
             "#bd3786"
            ],
            [
             0.5555555555555556,
             "#d8576b"
            ],
            [
             0.6666666666666666,
             "#ed7953"
            ],
            [
             0.7777777777777778,
             "#fb9f3a"
            ],
            [
             0.8888888888888888,
             "#fdca26"
            ],
            [
             1,
             "#f0f921"
            ]
           ]
          },
          "colorway": [
           "#636efa",
           "#EF553B",
           "#00cc96",
           "#ab63fa",
           "#FFA15A",
           "#19d3f3",
           "#FF6692",
           "#B6E880",
           "#FF97FF",
           "#FECB52"
          ],
          "font": {
           "color": "#2a3f5f"
          },
          "geo": {
           "bgcolor": "white",
           "lakecolor": "white",
           "landcolor": "#E5ECF6",
           "showlakes": true,
           "showland": true,
           "subunitcolor": "white"
          },
          "hoverlabel": {
           "align": "left"
          },
          "hovermode": "closest",
          "mapbox": {
           "style": "light"
          },
          "paper_bgcolor": "white",
          "plot_bgcolor": "#E5ECF6",
          "polar": {
           "angularaxis": {
            "gridcolor": "white",
            "linecolor": "white",
            "ticks": ""
           },
           "bgcolor": "#E5ECF6",
           "radialaxis": {
            "gridcolor": "white",
            "linecolor": "white",
            "ticks": ""
           }
          },
          "scene": {
           "xaxis": {
            "backgroundcolor": "#E5ECF6",
            "gridcolor": "white",
            "gridwidth": 2,
            "linecolor": "white",
            "showbackground": true,
            "ticks": "",
            "zerolinecolor": "white"
           },
           "yaxis": {
            "backgroundcolor": "#E5ECF6",
            "gridcolor": "white",
            "gridwidth": 2,
            "linecolor": "white",
            "showbackground": true,
            "ticks": "",
            "zerolinecolor": "white"
           },
           "zaxis": {
            "backgroundcolor": "#E5ECF6",
            "gridcolor": "white",
            "gridwidth": 2,
            "linecolor": "white",
            "showbackground": true,
            "ticks": "",
            "zerolinecolor": "white"
           }
          },
          "shapedefaults": {
           "line": {
            "color": "#2a3f5f"
           }
          },
          "ternary": {
           "aaxis": {
            "gridcolor": "white",
            "linecolor": "white",
            "ticks": ""
           },
           "baxis": {
            "gridcolor": "white",
            "linecolor": "white",
            "ticks": ""
           },
           "bgcolor": "#E5ECF6",
           "caxis": {
            "gridcolor": "white",
            "linecolor": "white",
            "ticks": ""
           }
          },
          "title": {
           "x": 0.05
          },
          "xaxis": {
           "automargin": true,
           "gridcolor": "white",
           "linecolor": "white",
           "ticks": "",
           "title": {
            "standoff": 15
           },
           "zerolinecolor": "white",
           "zerolinewidth": 2
          },
          "yaxis": {
           "automargin": true,
           "gridcolor": "white",
           "linecolor": "white",
           "ticks": "",
           "title": {
            "standoff": 15
           },
           "zerolinecolor": "white",
           "zerolinewidth": 2
          }
         }
        },
        "title": {
         "text": "Top Named Entities found in Hip Hop Songs"
        },
        "xaxis": {
         "anchor": "y",
         "autorange": true,
         "domain": [
          0,
          1
         ],
         "range": [
          -0.5,
          14.5
         ],
         "title": {
          "text": "Named_Entity"
         },
         "type": "category"
        },
        "yaxis": {
         "anchor": "x",
         "autorange": true,
         "domain": [
          0,
          1
         ],
         "range": [
          0,
          196.8421052631579
         ],
         "title": {
          "text": "Count"
         },
         "type": "linear"
        }
       }
      },
      "image/png": "[encoded data removed]",
      "text/html": [
       "<div>                            <div id=\"9034bca7-6054-4906-be43-80b169af066f\" class=\"plotly-graph-div\" style=\"height:525px; width:100%;\"></div>            <script type=\"text/javascript\">                require([\"plotly\"], function(Plotly) {                    window.PLOTLYENV=window.PLOTLYENV || {};                                    if (document.getElementById(\"9034bca7-6054-4906-be43-80b169af066f\")) {                    Plotly.newPlot(                        \"9034bca7-6054-4906-be43-80b169af066f\",                        [{\"alignmentgroup\":\"True\",\"hovertemplate\":\"Named_Entity=%{x}<br>Count=%{marker.color}<extra></extra>\",\"legendgroup\":\"\",\"marker\":{\"color\":[187,153,107,68,31,21,14,13,8,6,6,4,4,1,1],\"coloraxis\":\"coloraxis\",\"pattern\":{\"shape\":\"\"}},\"name\":\"\",\"offsetgroup\":\"\",\"orientation\":\"v\",\"showlegend\":false,\"textposition\":\"auto\",\"type\":\"bar\",\"x\":[\"PERSON\",\"ORG\",\"GPE\",\"CARDINAL\",\"DATE\",\"TIME\",\"WORK_OF_ART\",\"PRODUCT\",\"ORDINAL\",\"NORP\",\"FAC\",\"QUANTITY\",\"MONEY\",\"LOC\",\"EVENT\"],\"xaxis\":\"x\",\"y\":[187,153,107,68,31,21,14,13,8,6,6,4,4,1,1],\"yaxis\":\"y\"}],                        {\"barmode\":\"relative\",\"coloraxis\":{\"colorbar\":{\"title\":{\"text\":\"Count\"}},\"colorscale\":[[0.0,\"rgb(255,0,0)\"],[1.0,\"rgb(0,0,255)\"]]},\"legend\":{\"tracegroupgap\":0},\"template\":{\"data\":{\"bar\":[{\"error_x\":{\"color\":\"#2a3f5f\"},\"error_y\":{\"color\":\"#2a3f5f\"},\"marker\":{\"line\":{\"color\":\"#E5ECF6\",\"width\":0.5},\"pattern\":{\"fillmode\":\"overlay\",\"size\":10,\"solidity\":0.2}},\"type\":\"bar\"}],\"barpolar\":[{\"marker\":{\"line\":{\"color\":\"#E5ECF6\",\"width\":0.5},\"pattern\":{\"fillmode\":\"overlay\",\"size\":10,\"solidity\":0.2}},\"type\":\"barpolar\"}],\"carpet\":[{\"aaxis\":{\"endlinecolor\":\"#2a3f5f\",\"gridcolor\":\"white\",\"linecolor\":\"white\",\"minorgridcolor\":\"white\",\"startlinecolor\":\"#2a3f5f\"},\"baxis\":{\"endlinecolor\":\"#2a3f5f\",\"gridcolor\":\"white\",\"linecolor\":\"white\",\"minorgridcolor\":\"white\",\"startlinecolor\":\"#2a3f5f\"},\"type\":\"carpet\"}],\"choropleth\":[{\"colorbar\":{\"outlinewidth\":0,\"ticks\":\"\"},\"type\":\"choropleth\"}],\"contour\":[{\"colorbar\":{\"outlinewidth\":0,\"ticks\":\"\"},\"colorscale\":[[0.0,\"#0d0887\"],[0.1111111111111111,\"#46039f\"],[0.2222222222222222,\"#7201a8\"],[0.3333333333333333,\"#9c179e\"],[0.4444444444444444,\"#bd3786\"],[0.5555555555555556,\"#d8576b\"],[0.6666666666666666,\"#ed7953\"],[0.7777777777777778,\"#fb9f3a\"],[0.8888888888888888,\"#fdca26\"],[1.0,\"#f0f921\"]],\"type\":\"contour\"}],\"contourcarpet\":[{\"colorbar\":{\"outlinewidth\":0,\"ticks\":\"\"},\"type\":\"contourcarpet\"}],\"heatmap\":[{\"colorbar\":{\"outlinewidth\":0,\"ticks\":\"\"},\"colorscale\":[[0.0,\"#0d0887\"],[0.1111111111111111,\"#46039f\"],[0.2222222222222222,\"#7201a8\"],[0.3333333333333333,\"#9c179e\"],[0.4444444444444444,\"#bd3786\"],[0.5555555555555556,\"#d8576b\"],[0.6666666666666666,\"#ed7953\"],[0.7777777777777778,\"#fb9f3a\"],[0.8888888888888888,\"#fdca26\"],[1.0,\"#f0f921\"]],\"type\":\"heatmap\"}],\"heatmapgl\":[{\"colorbar\":{\"outlinewidth\":0,\"ticks\":\"\"},\"colorscale\":[[0.0,\"#0d0887\"],[0.1111111111111111,\"#46039f\"],[0.2222222222222222,\"#7201a8\"],[0.3333333333333333,\"#9c179e\"],[0.4444444444444444,\"#bd3786\"],[0.5555555555555556,\"#d8576b\"],[0.6666666666666666,\"#ed7953\"],[0.7777777777777778,\"#fb9f3a\"],[0.8888888888888888,\"#fdca26\"],[1.0,\"#f0f921\"]],\"type\":\"heatmapgl\"}],\"histogram\":[{\"marker\":{\"pattern\":{\"fillmode\":\"overlay\",\"size\":10,\"solidity\":0.2}},\"type\":\"histogram\"}],\"histogram2d\":[{\"colorbar\":{\"outlinewidth\":0,\"ticks\":\"\"},\"colorscale\":[[0.0,\"#0d0887\"],[0.1111111111111111,\"#46039f\"],[0.2222222222222222,\"#7201a8\"],[0.3333333333333333,\"#9c179e\"],[0.4444444444444444,\"#bd3786\"],[0.5555555555555556,\"#d8576b\"],[0.6666666666666666,\"#ed7953\"],[0.7777777777777778,\"#fb9f3a\"],[0.8888888888888888,\"#fdca26\"],[1.0,\"#f0f921\"]],\"type\":\"histogram2d\"}],\"histogram2dcontour\":[{\"colorbar\":{\"outlinewidth\":0,\"ticks\":\"\"},\"colorscale\":[[0.0,\"#0d0887\"],[0.1111111111111111,\"#46039f\"],[0.2222222222222222,\"#7201a8\"],[0.3333333333333333,\"#9c179e\"],[0.4444444444444444,\"#bd3786\"],[0.5555555555555556,\"#d8576b\"],[0.6666666666666666,\"#ed7953\"],[0.7777777777777778,\"#fb9f3a\"],[0.8888888888888888,\"#fdca26\"],[1.0,\"#f0f921\"]],\"type\":\"histogram2dcontour\"}],\"mesh3d\":[{\"colorbar\":{\"outlinewidth\":0,\"ticks\":\"\"},\"type\":\"mesh3d\"}],\"parcoords\":[{\"line\":{\"colorbar\":{\"outlinewidth\":0,\"ticks\":\"\"}},\"type\":\"parcoords\"}],\"pie\":[{\"automargin\":true,\"type\":\"pie\"}],\"scatter\":[{\"marker\":{\"colorbar\":{\"outlinewidth\":0,\"ticks\":\"\"}},\"type\":\"scatter\"}],\"scatter3d\":[{\"line\":{\"colorbar\":{\"outlinewidth\":0,\"ticks\":\"\"}},\"marker\":{\"colorbar\":{\"outlinewidth\":0,\"ticks\":\"\"}},\"type\":\"scatter3d\"}],\"scattercarpet\":[{\"marker\":{\"colorbar\":{\"outlinewidth\":0,\"ticks\":\"\"}},\"type\":\"scattercarpet\"}],\"scattergeo\":[{\"marker\":{\"colorbar\":{\"outlinewidth\":0,\"ticks\":\"\"}},\"type\":\"scattergeo\"}],\"scattergl\":[{\"marker\":{\"colorbar\":{\"outlinewidth\":0,\"ticks\":\"\"}},\"type\":\"scattergl\"}],\"scattermapbox\":[{\"marker\":{\"colorbar\":{\"outlinewidth\":0,\"ticks\":\"\"}},\"type\":\"scattermapbox\"}],\"scatterpolar\":[{\"marker\":{\"colorbar\":{\"outlinewidth\":0,\"ticks\":\"\"}},\"type\":\"scatterpolar\"}],\"scatterpolargl\":[{\"marker\":{\"colorbar\":{\"outlinewidth\":0,\"ticks\":\"\"}},\"type\":\"scatterpolargl\"}],\"scatterternary\":[{\"marker\":{\"colorbar\":{\"outlinewidth\":0,\"ticks\":\"\"}},\"type\":\"scatterternary\"}],\"surface\":[{\"colorbar\":{\"outlinewidth\":0,\"ticks\":\"\"},\"colorscale\":[[0.0,\"#0d0887\"],[0.1111111111111111,\"#46039f\"],[0.2222222222222222,\"#7201a8\"],[0.3333333333333333,\"#9c179e\"],[0.4444444444444444,\"#bd3786\"],[0.5555555555555556,\"#d8576b\"],[0.6666666666666666,\"#ed7953\"],[0.7777777777777778,\"#fb9f3a\"],[0.8888888888888888,\"#fdca26\"],[1.0,\"#f0f921\"]],\"type\":\"surface\"}],\"table\":[{\"cells\":{\"fill\":{\"color\":\"#EBF0F8\"},\"line\":{\"color\":\"white\"}},\"header\":{\"fill\":{\"color\":\"#C8D4E3\"},\"line\":{\"color\":\"white\"}},\"type\":\"table\"}]},\"layout\":{\"annotationdefaults\":{\"arrowcolor\":\"#2a3f5f\",\"arrowhead\":0,\"arrowwidth\":1},\"autotypenumbers\":\"strict\",\"coloraxis\":{\"colorbar\":{\"outlinewidth\":0,\"ticks\":\"\"}},\"colorscale\":{\"diverging\":[[0,\"#8e0152\"],[0.1,\"#c51b7d\"],[0.2,\"#de77ae\"],[0.3,\"#f1b6da\"],[0.4,\"#fde0ef\"],[0.5,\"#f7f7f7\"],[0.6,\"#e6f5d0\"],[0.7,\"#b8e186\"],[0.8,\"#7fbc41\"],[0.9,\"#4d9221\"],[1,\"#276419\"]],\"sequential\":[[0.0,\"#0d0887\"],[0.1111111111111111,\"#46039f\"],[0.2222222222222222,\"#7201a8\"],[0.3333333333333333,\"#9c179e\"],[0.4444444444444444,\"#bd3786\"],[0.5555555555555556,\"#d8576b\"],[0.6666666666666666,\"#ed7953\"],[0.7777777777777778,\"#fb9f3a\"],[0.8888888888888888,\"#fdca26\"],[1.0,\"#f0f921\"]],\"sequentialminus\":[[0.0,\"#0d0887\"],[0.1111111111111111,\"#46039f\"],[0.2222222222222222,\"#7201a8\"],[0.3333333333333333,\"#9c179e\"],[0.4444444444444444,\"#bd3786\"],[0.5555555555555556,\"#d8576b\"],[0.6666666666666666,\"#ed7953\"],[0.7777777777777778,\"#fb9f3a\"],[0.8888888888888888,\"#fdca26\"],[1.0,\"#f0f921\"]]},\"colorway\":[\"#636efa\",\"#EF553B\",\"#00cc96\",\"#ab63fa\",\"#FFA15A\",\"#19d3f3\",\"#FF6692\",\"#B6E880\",\"#FF97FF\",\"#FECB52\"],\"font\":{\"color\":\"#2a3f5f\"},\"geo\":{\"bgcolor\":\"white\",\"lakecolor\":\"white\",\"landcolor\":\"#E5ECF6\",\"showlakes\":true,\"showland\":true,\"subunitcolor\":\"white\"},\"hoverlabel\":{\"align\":\"left\"},\"hovermode\":\"closest\",\"mapbox\":{\"style\":\"light\"},\"paper_bgcolor\":\"white\",\"plot_bgcolor\":\"#E5ECF6\",\"polar\":{\"angularaxis\":{\"gridcolor\":\"white\",\"linecolor\":\"white\",\"ticks\":\"\"},\"bgcolor\":\"#E5ECF6\",\"radialaxis\":{\"gridcolor\":\"white\",\"linecolor\":\"white\",\"ticks\":\"\"}},\"scene\":{\"xaxis\":{\"backgroundcolor\":\"#E5ECF6\",\"gridcolor\":\"white\",\"gridwidth\":2,\"linecolor\":\"white\",\"showbackground\":true,\"ticks\":\"\",\"zerolinecolor\":\"white\"},\"yaxis\":{\"backgroundcolor\":\"#E5ECF6\",\"gridcolor\":\"white\",\"gridwidth\":2,\"linecolor\":\"white\",\"showbackground\":true,\"ticks\":\"\",\"zerolinecolor\":\"white\"},\"zaxis\":{\"backgroundcolor\":\"#E5ECF6\",\"gridcolor\":\"white\",\"gridwidth\":2,\"linecolor\":\"white\",\"showbackground\":true,\"ticks\":\"\",\"zerolinecolor\":\"white\"}},\"shapedefaults\":{\"line\":{\"color\":\"#2a3f5f\"}},\"ternary\":{\"aaxis\":{\"gridcolor\":\"white\",\"linecolor\":\"white\",\"ticks\":\"\"},\"baxis\":{\"gridcolor\":\"white\",\"linecolor\":\"white\",\"ticks\":\"\"},\"bgcolor\":\"#E5ECF6\",\"caxis\":{\"gridcolor\":\"white\",\"linecolor\":\"white\",\"ticks\":\"\"}},\"title\":{\"x\":0.05},\"xaxis\":{\"automargin\":true,\"gridcolor\":\"white\",\"linecolor\":\"white\",\"ticks\":\"\",\"title\":{\"standoff\":15},\"zerolinecolor\":\"white\",\"zerolinewidth\":2},\"yaxis\":{\"automargin\":true,\"gridcolor\":\"white\",\"linecolor\":\"white\",\"ticks\":\"\",\"title\":{\"standoff\":15},\"zerolinecolor\":\"white\",\"zerolinewidth\":2}}},\"title\":{\"text\":\"Top Named Entities found in Hip Hop Songs\"},\"xaxis\":{\"anchor\":\"y\",\"domain\":[0.0,1.0],\"title\":{\"text\":\"Named_Entity\"}},\"yaxis\":{\"anchor\":\"x\",\"domain\":[0.0,1.0],\"title\":{\"text\":\"Count\"}}},                        {\"responsive\": true}                    ).then(function(){\n",
       "                            \n",
       "var gd = document.getElementById('9034bca7-6054-4906-be43-80b169af066f');\n",
       "var x = new MutationObserver(function (mutations, observer) {{\n",
       "        var display = window.getComputedStyle(gd).display;\n",
       "        if (!display || display === 'none') {{\n",
       "            console.log([gd, 'removed!']);\n",
       "            Plotly.purge(gd);\n",
       "            observer.disconnect();\n",
       "        }}\n",
       "}});\n",
       "\n",
       "// Listen for the removal of the full notebook cells\n",
       "var notebookContainer = gd.closest('#notebook-container');\n",
       "if (notebookContainer) {{\n",
       "    x.observe(notebookContainer, {childList: true});\n",
       "}}\n",
       "\n",
       "// Listen for the clearing of the current output cell\n",
       "var outputEl = gd.closest('.output');\n",
       "if (outputEl) {{\n",
       "    x.observe(outputEl, {childList: true});\n",
       "}}\n",
       "\n",
       "                        })                };                });            </script>        </div>"
      ]
     },
     "metadata": {},
     "output_type": "display_data"
    }
   ],
   "source": [
    "fig = px.bar(\n",
    "    entities_count,\n",
    "    x=\"Named_Entity\",\n",
    "    y=\"Count\",\n",
    "    color = \"Count\",\n",
    "    color_continuous_scale='Bluered_r',\n",
    "    title = \"Top Named Entities found in Hip Hop Songs\"\n",
    "     )\n",
    "fig.show()"
   ]
  },
  {
   "cell_type": "code",
   "execution_count": 39,
   "id": "dc79a5a1-5e1b-4c6d-8c47-93ea9d9890ad",
   "metadata": {},
   "outputs": [],
   "source": [
    "# Export Entities dataframe to CSV\n",
    "# entities_count.to_csv('hiphop_entities_count.csv', index=False)"
   ]
  },
  {
   "cell_type": "markdown",
   "id": "b136ee3d-aab0-4b12-b501-26ef0b16d0d2",
   "metadata": {},
   "source": [
    "# Build a Markov Chain Function\n",
    "We are going to build a simple Markov chain function that creates a dictionary:\n",
    "\n",
    "- The keys should be all of the words in the corpus\n",
    "- The values should be a list of the words that follow the keys"
   ]
  },
  {
   "cell_type": "code",
   "execution_count": null,
   "id": "ecd41f2d-c1be-4110-8a9f-bdf658bd7a06",
   "metadata": {},
   "outputs": [],
   "source": [
    "from collections import defaultdict\n",
    "\n",
    "def markov_chain(text):\n",
    "    '''The input is a string of text and the output will be a dictionary with each word as\n",
    "       a key and each value as the list of words that come after the key in the text.'''\n",
    "    \n",
    "    # Tokenize the text by word, though including punctuation\n",
    "    words = text.split(' ')\n",
    "#     for t in text:\n",
    "#         words = t.split(' ')\n",
    "#         print(words[0])\n",
    "    \n",
    "    # Initialize a default dictionary to hold all of the words and next words\n",
    "    m_dict = defaultdict(list)\n",
    "    \n",
    "    # Create a zipped list of all of the word pairs and put them in word: list of next words format\n",
    "    for current_word, next_word in zip(words[0:-1], words[1:]):\n",
    "        m_dict[current_word].append(next_word)\n",
    "\n",
    "    # Convert the default dict back into a dictionary\n",
    "    m_dict = dict(m_dict)\n",
    "    return m_dict"
   ]
  },
  {
   "cell_type": "code",
   "execution_count": null,
   "id": "902e433c-d156-457c-b1a8-49fff6157558",
   "metadata": {},
   "outputs": [],
   "source": [
    "# Create the dictionary for lyrics, take a look at it\n",
    "\n",
    "lyrics_dict = markov_chain(lyrics_text)\n",
    "lyrics_dict"
   ]
  },
  {
   "cell_type": "markdown",
   "id": "adcd0d1e-4074-4f6e-b278-5d224f524db1",
   "metadata": {},
   "source": [
    "# Create a Text Generator\n",
    "We're going to create a function that generates sentences. It will take two things as inputs:\n",
    "\n",
    "- The dictionary you just created\n",
    "- The number of words you want generated"
   ]
  },
  {
   "cell_type": "code",
   "execution_count": null,
   "id": "d60898b5-90d4-4cbe-989b-3e4c28f2bfb0",
   "metadata": {},
   "outputs": [],
   "source": [
    "import random\n",
    "\n",
    "def generate_sentence(chain, count=8):\n",
    "    '''Input a dictionary in the format of key = current word, value = list of next words\n",
    "       along with the number of words you would like to see in your generated sentence.'''\n",
    "\n",
    "    # Capitalize the first word\n",
    "    word1 = random.choice(list(chain.keys()))\n",
    "    sentence = word1.capitalize()\n",
    "\n",
    "    # Generate the second word from the value list. Set the new word as the first word. Repeat.\n",
    "    for i in range(count-1):\n",
    "        word2 = random.choice(chain[word1])\n",
    "        word1 = word2\n",
    "        sentence += ' ' + word2\n",
    "\n",
    "    # End it with a period\n",
    "    sentence += '.'\n",
    "    return(sentence)"
   ]
  },
  {
   "cell_type": "code",
   "execution_count": null,
   "id": "6b5a8db8-8baa-4dd7-b277-31076fee90e6",
   "metadata": {},
   "outputs": [],
   "source": [
    "# lines = []\n",
    "# line = []\n",
    "\n",
    "# num_sentences=32\n",
    "\n",
    "# with open('markov_hiphop1.txt', 'w') as file:\n",
    "#     file.write('Hip Hop Song by Markov Chains')\n",
    "#     file.write('\\n')\n",
    "#     file.write('------------------------------------------')\n",
    "#     file.write('\\n')\n",
    "\n",
    "#     for num in range(0,num_sentences):\n",
    "#         line = generate_sentence(lyrics_dict)\n",
    "#         lines.append(line)\n",
    "#         file.write(line)\n",
    "#         file.write('\\n')"
   ]
  },
  {
   "cell_type": "markdown",
   "id": "8782d578-c80f-4f8e-871c-916e8b8539cf",
   "metadata": {},
   "source": [
    "# Maximum Likelihood Estimator (MLE) Algorithm\n",
    "\n",
    "Using Language Model Module (nltk.lm) from NLTK library"
   ]
  },
  {
   "cell_type": "code",
   "execution_count": null,
   "id": "9cbe015e-ca64-4188-8c83-e0d8d1f76540",
   "metadata": {},
   "outputs": [],
   "source": [
    "# Tokenize lyrics corpus\n",
    "lyrics_corpus = list(new_lyrics_df['Lyrics'].apply(word_tokenize))"
   ]
  },
  {
   "cell_type": "code",
   "execution_count": null,
   "id": "b1603ad1-145a-4a49-abaf-4c87cc5d4bd7",
   "metadata": {},
   "outputs": [],
   "source": [
    "# Preprocess the tokenized text for 4-grams language modelling\n",
    "n = 4\n",
    "train_data, padded_sents = padded_everygram_pipeline(n, lyrics_corpus)"
   ]
  },
  {
   "cell_type": "code",
   "execution_count": null,
   "id": "dc1969a6-f52d-46ae-886a-b4233f73cbf4",
   "metadata": {},
   "outputs": [],
   "source": [
    "# Train and fit the model\n",
    "hiphop_model = MLE(n) # Lets train a 4-grams model\n",
    "hiphop_model.fit(train_data, padded_sents)"
   ]
  },
  {
   "cell_type": "code",
   "execution_count": null,
   "id": "2cf20854-90d3-4de9-b524-ec252be36f7d",
   "metadata": {},
   "outputs": [],
   "source": [
    "# Clean up the generated tokens to make it human-like.\n",
    "\n",
    "detokenize = TreebankWordDetokenizer().detokenize\n",
    "\n",
    "def generate_sent(model, num_words, random_seed):\n",
    "    \"\"\"\n",
    "    :param model: An ngram language model from `nltk.lm.model`.\n",
    "    :param num_words: Max no. of words to generate.\n",
    "    :param random_seed: Seed value for random.\n",
    "    \"\"\"\n",
    "    content = []\n",
    "    for token in model.generate(num_words, random_seed=random_seed):\n",
    "        if token == '<s>':\n",
    "            continue\n",
    "        if token == '</s>':\n",
    "            break\n",
    "        content.append(token)\n",
    "    return detokenize(content)"
   ]
  },
  {
   "cell_type": "code",
   "execution_count": 66,
   "id": "81a76f51-d14e-4b30-b556-af7e900a6c93",
   "metadata": {},
   "outputs": [
    {
     "ename": "NameError",
     "evalue": "name 'generate_sent' is not defined",
     "output_type": "error",
     "traceback": [
      "\u001b[0;31m---------------------------------------------------------------------------\u001b[0m",
      "\u001b[0;31mNameError\u001b[0m                                 Traceback (most recent call last)",
      "\u001b[0;32m/var/folders/vh/zjx4gqx97hg9l5h47s2zg86c0000gn/T/ipykernel_33975/3766266683.py\u001b[0m in \u001b[0;36m<module>\u001b[0;34m\u001b[0m\n\u001b[1;32m      1\u001b[0m \u001b[0;31m# Predict text\u001b[0m\u001b[0;34m\u001b[0m\u001b[0;34m\u001b[0m\u001b[0;34m\u001b[0m\u001b[0m\n\u001b[0;32m----> 2\u001b[0;31m \u001b[0mmle_text\u001b[0m \u001b[0;34m=\u001b[0m \u001b[0mgenerate_sent\u001b[0m\u001b[0;34m(\u001b[0m\u001b[0mhiphop_model\u001b[0m\u001b[0;34m,\u001b[0m \u001b[0mnum_words\u001b[0m\u001b[0;34m=\u001b[0m\u001b[0;36m280\u001b[0m\u001b[0;34m,\u001b[0m \u001b[0mrandom_seed\u001b[0m\u001b[0;34m=\u001b[0m\u001b[0;36m128\u001b[0m\u001b[0;34m)\u001b[0m\u001b[0;34m\u001b[0m\u001b[0;34m\u001b[0m\u001b[0m\n\u001b[0m\u001b[1;32m      3\u001b[0m \u001b[0mlen\u001b[0m\u001b[0;34m(\u001b[0m\u001b[0mmle_text\u001b[0m\u001b[0;34m)\u001b[0m\u001b[0;34m\u001b[0m\u001b[0;34m\u001b[0m\u001b[0m\n\u001b[1;32m      4\u001b[0m \u001b[0;34m\u001b[0m\u001b[0m\n\u001b[1;32m      5\u001b[0m \u001b[0;31m# Note: pick a random seed that gives you 1000+ characters as the len(mle_text)\u001b[0m\u001b[0;34m\u001b[0m\u001b[0;34m\u001b[0m\u001b[0;34m\u001b[0m\u001b[0m\n",
      "\u001b[0;31mNameError\u001b[0m: name 'generate_sent' is not defined"
     ]
    }
   ],
   "source": [
    "# Predict text\n",
    "mle_text = generate_sent(hiphop_model, num_words=280, random_seed=128)\n",
    "len(mle_text)  \n",
    "\n",
    "# Note: pick a random seed that gives you 1000+ characters as the len(mle_text) \n",
    "# or run the generate_sent again until you hit your target size of lyrics"
   ]
  },
  {
   "cell_type": "code",
   "execution_count": null,
   "id": "9cd58a1c-42fc-4dc1-94a3-27b99d85268a",
   "metadata": {},
   "outputs": [],
   "source": [
    "# Save predicted lyrics as a .txt file\n",
    "\n",
    "# with open('mle_hiphop.txt', 'w') as file:\n",
    "#     file.write(mle_text)"
   ]
  },
  {
   "cell_type": "markdown",
   "id": "e19dcc60-402b-4fc2-b56c-22c503ffa1f8",
   "metadata": {},
   "source": [
    "# Save MLE Predicted Lyrics to Audio"
   ]
  },
  {
   "cell_type": "code",
   "execution_count": 64,
   "id": "e51380df-82c7-4dd2-916c-74c939aea195",
   "metadata": {},
   "outputs": [],
   "source": [
    "from gtts import gTTS \n",
    "import os"
   ]
  },
  {
   "cell_type": "code",
   "execution_count": 65,
   "id": "2a8d25f4-1ac5-4c18-b4e3-268845a196d2",
   "metadata": {},
   "outputs": [
    {
     "ename": "NameError",
     "evalue": "name 'mle_text' is not defined",
     "output_type": "error",
     "traceback": [
      "\u001b[0;31m---------------------------------------------------------------------------\u001b[0m",
      "\u001b[0;31mNameError\u001b[0m                                 Traceback (most recent call last)",
      "\u001b[0;32m/var/folders/vh/zjx4gqx97hg9l5h47s2zg86c0000gn/T/ipykernel_33975/2604939737.py\u001b[0m in \u001b[0;36m<module>\u001b[0;34m\u001b[0m\n\u001b[0;32m----> 1\u001b[0;31m \u001b[0mspeech\u001b[0m \u001b[0;34m=\u001b[0m \u001b[0mgTTS\u001b[0m\u001b[0;34m(\u001b[0m\u001b[0mtext\u001b[0m \u001b[0;34m=\u001b[0m \u001b[0mmle_text\u001b[0m\u001b[0;34m,\u001b[0m \u001b[0mlang\u001b[0m \u001b[0;34m=\u001b[0m \u001b[0;34m'en'\u001b[0m\u001b[0;34m,\u001b[0m \u001b[0mslow\u001b[0m \u001b[0;34m=\u001b[0m \u001b[0;32mTrue\u001b[0m\u001b[0;34m)\u001b[0m\u001b[0;34m\u001b[0m\u001b[0;34m\u001b[0m\u001b[0m\n\u001b[0m\u001b[1;32m      2\u001b[0m \u001b[0mspeech\u001b[0m\u001b[0;34m.\u001b[0m\u001b[0msave\u001b[0m\u001b[0;34m(\u001b[0m\u001b[0;34m\"hiphop_mle_text.mp4\"\u001b[0m\u001b[0;34m)\u001b[0m\u001b[0;34m\u001b[0m\u001b[0;34m\u001b[0m\u001b[0m\n",
      "\u001b[0;31mNameError\u001b[0m: name 'mle_text' is not defined"
     ]
    }
   ],
   "source": [
    "speech = gTTS(text = mle_text, lang = 'en', slow = True)\n",
    "speech.save(\"hiphop_mle_text.mp4\")"
   ]
  },
  {
   "cell_type": "code",
   "execution_count": null,
   "id": "71679242-79df-43ab-9437-508f5248e9a0",
   "metadata": {},
   "outputs": [],
   "source": []
  }
 ],
 "metadata": {
  "kernelspec": {
   "display_name": "Python 3 (ipykernel)",
   "language": "python",
   "name": "python3"
  },
  "language_info": {
   "codemirror_mode": {
    "name": "ipython",
    "version": 3
   },
   "file_extension": ".py",
   "mimetype": "text/x-python",
   "name": "python",
   "nbconvert_exporter": "python",
   "pygments_lexer": "ipython3",
   "version": "3.8.2"
  }
 },
 "nbformat": 4,
 "nbformat_minor": 5
}
