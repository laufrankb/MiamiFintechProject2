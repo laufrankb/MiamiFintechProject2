{
 "cells": [
  {
   "cell_type": "markdown",
   "id": "a58916e1-a273-4a85-8c2b-905ed641e570",
   "metadata": {},
   "source": [
    "# Pop Lyrics"
   ]
  },
  {
   "cell_type": "code",
   "execution_count": 172,
   "id": "1bce8f68-90e2-4490-93f4-7331fe13a28c",
   "metadata": {},
   "outputs": [],
   "source": [
    "# Imports\n",
    "import requests\n",
    "import os\n",
    "import json\n",
    "import pandas as pd\n",
    "import numpy as np\n",
    "import matplotlib.pyplot as plt\n",
    "import nltk\n",
    "import re\n",
    "import plotly.express as px\n",
    "import spacy\n",
    "import random\n",
    "\n",
    "from dotenv import load_dotenv\n",
    "from collections import Counter\n",
    "from collections import defaultdict\n",
    "from PIL import Image\n",
    "from wordcloud import WordCloud\n",
    "from wordcloud import ImageColorGenerator\n",
    "from nltk.tokenize import word_tokenize, sent_tokenize\n",
    "from nltk.corpus import stopwords\n",
    "from nltk.stem import WordNetLemmatizer, PorterStemmer\n",
    "from string import punctuation\n",
    "from nltk.sentiment.vader import SentimentIntensityAnalyzer\n",
    "from nltk import ngrams\n",
    "from spacy import displacy\n",
    "from nltk.lm import MLE # language model\n",
    "from nltk import word_tokenize, sent_tokenize\n",
    "from nltk.util import pad_sequence, bigrams, ngrams, everygrams\n",
    "from nltk.lm.preprocessing import pad_both_ends, flatten, padded_everygram_pipeline\n",
    "from nltk.tokenize.treebank import TreebankWordDetokenizer"
   ]
  },
  {
   "cell_type": "code",
   "execution_count": 173,
   "id": "dc3a41c4-7b6f-4047-8928-9ddf2fa3826d",
   "metadata": {},
   "outputs": [
    {
     "data": {
      "text/plain": [
       "True"
      ]
     },
     "execution_count": 173,
     "metadata": {},
     "output_type": "execute_result"
    }
   ],
   "source": [
    "# Load .env environment variables\n",
    "load_dotenv()\n",
    "\n",
    "Set RAPID API key\n",
    "my_rapid_api_key = os.getenv(\"RAPID_API_KEY\")\n"
   ]
  },
  {
   "cell_type": "code",
   "execution_count": 174,
   "id": "6d64cb89-093e-47ce-936e-3dec2818eb4c",
   "metadata": {},
   "outputs": [],
   "source": [
    "# Define function to use Shazam Core API\n",
    "\n",
    "def get_chart_genre(querystring):\n",
    "\n",
    "    url = \"https://shazam-core.p.rapidapi.com/v1/charts/genre-world\"\n",
    "\n",
    "    headers = {\n",
    "    'x-rapidapi-host': \"shazam-core.p.rapidapi.com\",\n",
    "    'x-rapidapi-key': my_rapid_api_key\n",
    "    }\n",
    "\n",
    "    response = requests.request(\"GET\", url, headers=headers, params=querystring)\n",
    "\n",
    "    return response.json()"
   ]
  },
  {
   "cell_type": "code",
   "execution_count": 175,
   "id": "98be1bff-70af-4ed6-b691-d8ef8b65ac7f",
   "metadata": {},
   "outputs": [],
   "source": [
    "# Define function to use Shazam Core API\n",
    "\n",
    "def get_lyrics(querystring):\n",
    "\n",
    "    url = \"https://shazam-core.p.rapidapi.com/v1/tracks/details\"\n",
    "\n",
    "    headers = {\n",
    "    'x-rapidapi-host': \"shazam-core.p.rapidapi.com\",\n",
    "    'x-rapidapi-key': my_rapid_api_key\n",
    "    }\n",
    "\n",
    "    response = requests.request(\"GET\", url, headers=headers, params=querystring)\n",
    "\n",
    "    return response.json()"
   ]
  },
  {
   "cell_type": "code",
   "execution_count": 176,
   "id": "91fc0796-d0c5-4f44-9003-66f943123318",
   "metadata": {},
   "outputs": [],
   "source": [
    "# Use 'Track details' endpoint to retrieve lyrics for a single track\n",
    "\n",
    "genre = 'POP'\n",
    "limit_songs = 50\n",
    "country = 'US'\n",
    "\n",
    "querystring = {\"country_code\":country,\"genre_code\":genre,\"limit\":limit_songs}\n",
    "chart_response = get_chart_genre(querystring)"
   ]
  },
  {
   "cell_type": "code",
   "execution_count": 177,
   "id": "f92d406b-316b-4c1e-980a-33606aa38406",
   "metadata": {},
   "outputs": [
    {
     "name": "stdout",
     "output_type": "stream",
     "text": [
      "The number of songs retrieved is : 50\n"
     ]
    },
    {
     "data": {
      "text/html": [
       "<div>\n",
       "<style scoped>\n",
       "    .dataframe tbody tr th:only-of-type {\n",
       "        vertical-align: middle;\n",
       "    }\n",
       "\n",
       "    .dataframe tbody tr th {\n",
       "        vertical-align: top;\n",
       "    }\n",
       "\n",
       "    .dataframe thead th {\n",
       "        text-align: right;\n",
       "    }\n",
       "</style>\n",
       "<table border=\"1\" class=\"dataframe\">\n",
       "  <thead>\n",
       "    <tr style=\"text-align: right;\">\n",
       "      <th></th>\n",
       "      <th>Track Name</th>\n",
       "      <th>Artists</th>\n",
       "    </tr>\n",
       "    <tr>\n",
       "      <th>TrackIDs</th>\n",
       "      <th></th>\n",
       "      <th></th>\n",
       "    </tr>\n",
       "  </thead>\n",
       "  <tbody>\n",
       "    <tr>\n",
       "      <th>579595745</th>\n",
       "      <td>Cold Heart (PNAU Remix)</td>\n",
       "      <td>Elton John &amp; Dua Lipa</td>\n",
       "    </tr>\n",
       "    <tr>\n",
       "      <th>587472945</th>\n",
       "      <td>Easy On Me</td>\n",
       "      <td>Adele</td>\n",
       "    </tr>\n",
       "    <tr>\n",
       "      <th>577983490</th>\n",
       "      <td>abcdefu</td>\n",
       "      <td>GAYLE</td>\n",
       "    </tr>\n",
       "    <tr>\n",
       "      <th>560551698</th>\n",
       "      <td>I'm Alone</td>\n",
       "      <td>Melisa &amp; Tommo</td>\n",
       "    </tr>\n",
       "    <tr>\n",
       "      <th>70596703</th>\n",
       "      <td>Locked Out Of Heaven</td>\n",
       "      <td>Bruno Mars</td>\n",
       "    </tr>\n",
       "  </tbody>\n",
       "</table>\n",
       "</div>"
      ],
      "text/plain": [
       "                        Track Name                Artists\n",
       "TrackIDs                                                 \n",
       "579595745  Cold Heart (PNAU Remix)  Elton John & Dua Lipa\n",
       "587472945               Easy On Me                  Adele\n",
       "577983490                  abcdefu                  GAYLE\n",
       "560551698                I'm Alone         Melisa & Tommo\n",
       "70596703      Locked Out Of Heaven             Bruno Mars"
      ]
     },
     "execution_count": 177,
     "metadata": {},
     "output_type": "execute_result"
    }
   ],
   "source": [
    "# Retrieve Track IDs\n",
    "\n",
    "track_ids=[] # song identifier\n",
    "titles = [] # song name\n",
    "subtitles = [] # Main artist and featured artists\n",
    "\n",
    "for track in range(len(chart_response)):\n",
    "    track_ids.append(chart_response[track]['id'])\n",
    "    titles.append(chart_response[track]['title'])\n",
    "    subtitles.append(chart_response[track]['subtitle'])\n",
    "\n",
    "print(f\"The number of songs retrieved is : {len(track_ids)}\")\n",
    "\n",
    "chart_songs = pd.DataFrame({\"Track Name\": titles, \"Artists\": subtitles, 'TrackIDs': track_ids}).set_index('TrackIDs')\n",
    "chart_songs.head(5)"
   ]
  },
  {
   "cell_type": "code",
   "execution_count": 178,
   "id": "1de172e3-43ff-4761-9827-32cdd95a76c9",
   "metadata": {},
   "outputs": [],
   "source": [
    "# Look at the data\n",
    "\n",
    "# from collections import Counter\n",
    "\n",
    "artists_list = list(chart_songs.Artists)\n",
    "artist_counts = {artist: artists_list.count(artist) for artist in artists_list} #dict with frequency of artist in top chart\n",
    "\n",
    "artists_df = pd.DataFrame(list(artist_counts.items()),columns = ['Artists','No. Songs in Top Chart']).set_index('Artists')\n",
    "artists_df.sort_values(by = 'No. Songs in Top Chart', ascending=False, inplace=True) #sort values"
   ]
  },
  {
   "cell_type": "code",
   "execution_count": 179,
   "id": "a45c2874-08b6-4e4c-85ab-ce508f9bcd82",
   "metadata": {},
   "outputs": [
    {
     "data": {
      "application/vnd.plotly.v1+json": {
       "config": {
        "plotlyServerURL": "https://plot.ly"
       },
       "data": [
        {
         "alignmentgroup": "True",
         "hovertemplate": "Artists=%{x}<br>value=%{marker.color}<extra></extra>",
         "legendgroup": "",
         "marker": {
          "color": [
           4,
           3,
           2,
           2,
           2,
           2,
           1,
           1,
           1,
           1,
           1,
           1,
           1,
           1,
           1,
           1,
           1,
           1,
           1,
           1,
           1,
           1,
           1,
           1,
           1,
           1,
           1,
           1,
           1,
           1,
           1,
           1,
           1,
           1,
           1,
           1,
           1,
           1,
           1,
           1,
           1
          ],
          "coloraxis": "coloraxis",
          "pattern": {
           "shape": ""
          }
         },
         "name": "",
         "offsetgroup": "",
         "orientation": "v",
         "showlegend": false,
         "textposition": "auto",
         "type": "bar",
         "x": [
          "Ed Sheeran",
          "Adele",
          "Doja Cat",
          "Shawn Mendes",
          "Lil Nas X",
          "Olivia Rodrigo",
          "Elton John & Dua Lipa",
          "Phillip Phillips",
          "Doja Cat Feat. SZA",
          "Eric Saade Feat. Gustaf Norén, Filatov & Karas",
          "Doja Cat & The Weeknd",
          "Jon Bellion",
          "Sia",
          "Paloma Faith",
          "Tom Odell",
          "Anastacia",
          "Tones And I",
          "Mark Ronson Feat. Miley Cyrus",
          "Dua Lipa Feat. DaBaby",
          "Люся Чеботина",
          "Dua Lipa",
          "Duncan Laurence",
          "Marshmello & Jonas Brothers",
          "Witt Lowry Feat. Ava Max",
          "Justin Bieber",
          "Amaarae & Moliy Feat. Kali Uchis",
          "GAYLE",
          "Melisa & Tommo",
          "Bruno Mars",
          "The Kid LAROI & Justin Bieber",
          "Coldplay & BTS",
          "Elley Duhé",
          "t.A.T.u.",
          "Capital Cities",
          "Madonna & Sickick",
          "BoyWithUke",
          "SALES",
          "Meghan Trainor",
          "Rod Stewart",
          "NEIKED, Mae Muller & Polo G",
          "Edison Lighthouse"
         ],
         "xaxis": "x",
         "y": [
          4,
          3,
          2,
          2,
          2,
          2,
          1,
          1,
          1,
          1,
          1,
          1,
          1,
          1,
          1,
          1,
          1,
          1,
          1,
          1,
          1,
          1,
          1,
          1,
          1,
          1,
          1,
          1,
          1,
          1,
          1,
          1,
          1,
          1,
          1,
          1,
          1,
          1,
          1,
          1,
          1
         ],
         "yaxis": "y"
        }
       ],
       "layout": {
        "autosize": true,
        "barmode": "relative",
        "coloraxis": {
         "colorbar": {
          "title": {
           "text": "value"
          }
         },
         "colorscale": [
          [
           0,
           "rgb(211, 242, 163)"
          ],
          [
           0.16666666666666666,
           "rgb(151, 225, 150)"
          ],
          [
           0.3333333333333333,
           "rgb(108, 192, 139)"
          ],
          [
           0.5,
           "rgb(76, 155, 130)"
          ],
          [
           0.6666666666666666,
           "rgb(33, 122, 121)"
          ],
          [
           0.8333333333333334,
           "rgb(16, 89, 101)"
          ],
          [
           1,
           "rgb(7, 64, 80)"
          ]
         ]
        },
        "legend": {
         "tracegroupgap": 0
        },
        "template": {
         "data": {
          "bar": [
           {
            "error_x": {
             "color": "#2a3f5f"
            },
            "error_y": {
             "color": "#2a3f5f"
            },
            "marker": {
             "line": {
              "color": "#E5ECF6",
              "width": 0.5
             },
             "pattern": {
              "fillmode": "overlay",
              "size": 10,
              "solidity": 0.2
             }
            },
            "type": "bar"
           }
          ],
          "barpolar": [
           {
            "marker": {
             "line": {
              "color": "#E5ECF6",
              "width": 0.5
             },
             "pattern": {
              "fillmode": "overlay",
              "size": 10,
              "solidity": 0.2
             }
            },
            "type": "barpolar"
           }
          ],
          "carpet": [
           {
            "aaxis": {
             "endlinecolor": "#2a3f5f",
             "gridcolor": "white",
             "linecolor": "white",
             "minorgridcolor": "white",
             "startlinecolor": "#2a3f5f"
            },
            "baxis": {
             "endlinecolor": "#2a3f5f",
             "gridcolor": "white",
             "linecolor": "white",
             "minorgridcolor": "white",
             "startlinecolor": "#2a3f5f"
            },
            "type": "carpet"
           }
          ],
          "choropleth": [
           {
            "colorbar": {
             "outlinewidth": 0,
             "ticks": ""
            },
            "type": "choropleth"
           }
          ],
          "contour": [
           {
            "colorbar": {
             "outlinewidth": 0,
             "ticks": ""
            },
            "colorscale": [
             [
              0,
              "#0d0887"
             ],
             [
              0.1111111111111111,
              "#46039f"
             ],
             [
              0.2222222222222222,
              "#7201a8"
             ],
             [
              0.3333333333333333,
              "#9c179e"
             ],
             [
              0.4444444444444444,
              "#bd3786"
             ],
             [
              0.5555555555555556,
              "#d8576b"
             ],
             [
              0.6666666666666666,
              "#ed7953"
             ],
             [
              0.7777777777777778,
              "#fb9f3a"
             ],
             [
              0.8888888888888888,
              "#fdca26"
             ],
             [
              1,
              "#f0f921"
             ]
            ],
            "type": "contour"
           }
          ],
          "contourcarpet": [
           {
            "colorbar": {
             "outlinewidth": 0,
             "ticks": ""
            },
            "type": "contourcarpet"
           }
          ],
          "heatmap": [
           {
            "colorbar": {
             "outlinewidth": 0,
             "ticks": ""
            },
            "colorscale": [
             [
              0,
              "#0d0887"
             ],
             [
              0.1111111111111111,
              "#46039f"
             ],
             [
              0.2222222222222222,
              "#7201a8"
             ],
             [
              0.3333333333333333,
              "#9c179e"
             ],
             [
              0.4444444444444444,
              "#bd3786"
             ],
             [
              0.5555555555555556,
              "#d8576b"
             ],
             [
              0.6666666666666666,
              "#ed7953"
             ],
             [
              0.7777777777777778,
              "#fb9f3a"
             ],
             [
              0.8888888888888888,
              "#fdca26"
             ],
             [
              1,
              "#f0f921"
             ]
            ],
            "type": "heatmap"
           }
          ],
          "heatmapgl": [
           {
            "colorbar": {
             "outlinewidth": 0,
             "ticks": ""
            },
            "colorscale": [
             [
              0,
              "#0d0887"
             ],
             [
              0.1111111111111111,
              "#46039f"
             ],
             [
              0.2222222222222222,
              "#7201a8"
             ],
             [
              0.3333333333333333,
              "#9c179e"
             ],
             [
              0.4444444444444444,
              "#bd3786"
             ],
             [
              0.5555555555555556,
              "#d8576b"
             ],
             [
              0.6666666666666666,
              "#ed7953"
             ],
             [
              0.7777777777777778,
              "#fb9f3a"
             ],
             [
              0.8888888888888888,
              "#fdca26"
             ],
             [
              1,
              "#f0f921"
             ]
            ],
            "type": "heatmapgl"
           }
          ],
          "histogram": [
           {
            "marker": {
             "pattern": {
              "fillmode": "overlay",
              "size": 10,
              "solidity": 0.2
             }
            },
            "type": "histogram"
           }
          ],
          "histogram2d": [
           {
            "colorbar": {
             "outlinewidth": 0,
             "ticks": ""
            },
            "colorscale": [
             [
              0,
              "#0d0887"
             ],
             [
              0.1111111111111111,
              "#46039f"
             ],
             [
              0.2222222222222222,
              "#7201a8"
             ],
             [
              0.3333333333333333,
              "#9c179e"
             ],
             [
              0.4444444444444444,
              "#bd3786"
             ],
             [
              0.5555555555555556,
              "#d8576b"
             ],
             [
              0.6666666666666666,
              "#ed7953"
             ],
             [
              0.7777777777777778,
              "#fb9f3a"
             ],
             [
              0.8888888888888888,
              "#fdca26"
             ],
             [
              1,
              "#f0f921"
             ]
            ],
            "type": "histogram2d"
           }
          ],
          "histogram2dcontour": [
           {
            "colorbar": {
             "outlinewidth": 0,
             "ticks": ""
            },
            "colorscale": [
             [
              0,
              "#0d0887"
             ],
             [
              0.1111111111111111,
              "#46039f"
             ],
             [
              0.2222222222222222,
              "#7201a8"
             ],
             [
              0.3333333333333333,
              "#9c179e"
             ],
             [
              0.4444444444444444,
              "#bd3786"
             ],
             [
              0.5555555555555556,
              "#d8576b"
             ],
             [
              0.6666666666666666,
              "#ed7953"
             ],
             [
              0.7777777777777778,
              "#fb9f3a"
             ],
             [
              0.8888888888888888,
              "#fdca26"
             ],
             [
              1,
              "#f0f921"
             ]
            ],
            "type": "histogram2dcontour"
           }
          ],
          "mesh3d": [
           {
            "colorbar": {
             "outlinewidth": 0,
             "ticks": ""
            },
            "type": "mesh3d"
           }
          ],
          "parcoords": [
           {
            "line": {
             "colorbar": {
              "outlinewidth": 0,
              "ticks": ""
             }
            },
            "type": "parcoords"
           }
          ],
          "pie": [
           {
            "automargin": true,
            "type": "pie"
           }
          ],
          "scatter": [
           {
            "marker": {
             "colorbar": {
              "outlinewidth": 0,
              "ticks": ""
             }
            },
            "type": "scatter"
           }
          ],
          "scatter3d": [
           {
            "line": {
             "colorbar": {
              "outlinewidth": 0,
              "ticks": ""
             }
            },
            "marker": {
             "colorbar": {
              "outlinewidth": 0,
              "ticks": ""
             }
            },
            "type": "scatter3d"
           }
          ],
          "scattercarpet": [
           {
            "marker": {
             "colorbar": {
              "outlinewidth": 0,
              "ticks": ""
             }
            },
            "type": "scattercarpet"
           }
          ],
          "scattergeo": [
           {
            "marker": {
             "colorbar": {
              "outlinewidth": 0,
              "ticks": ""
             }
            },
            "type": "scattergeo"
           }
          ],
          "scattergl": [
           {
            "marker": {
             "colorbar": {
              "outlinewidth": 0,
              "ticks": ""
             }
            },
            "type": "scattergl"
           }
          ],
          "scattermapbox": [
           {
            "marker": {
             "colorbar": {
              "outlinewidth": 0,
              "ticks": ""
             }
            },
            "type": "scattermapbox"
           }
          ],
          "scatterpolar": [
           {
            "marker": {
             "colorbar": {
              "outlinewidth": 0,
              "ticks": ""
             }
            },
            "type": "scatterpolar"
           }
          ],
          "scatterpolargl": [
           {
            "marker": {
             "colorbar": {
              "outlinewidth": 0,
              "ticks": ""
             }
            },
            "type": "scatterpolargl"
           }
          ],
          "scatterternary": [
           {
            "marker": {
             "colorbar": {
              "outlinewidth": 0,
              "ticks": ""
             }
            },
            "type": "scatterternary"
           }
          ],
          "surface": [
           {
            "colorbar": {
             "outlinewidth": 0,
             "ticks": ""
            },
            "colorscale": [
             [
              0,
              "#0d0887"
             ],
             [
              0.1111111111111111,
              "#46039f"
             ],
             [
              0.2222222222222222,
              "#7201a8"
             ],
             [
              0.3333333333333333,
              "#9c179e"
             ],
             [
              0.4444444444444444,
              "#bd3786"
             ],
             [
              0.5555555555555556,
              "#d8576b"
             ],
             [
              0.6666666666666666,
              "#ed7953"
             ],
             [
              0.7777777777777778,
              "#fb9f3a"
             ],
             [
              0.8888888888888888,
              "#fdca26"
             ],
             [
              1,
              "#f0f921"
             ]
            ],
            "type": "surface"
           }
          ],
          "table": [
           {
            "cells": {
             "fill": {
              "color": "#EBF0F8"
             },
             "line": {
              "color": "white"
             }
            },
            "header": {
             "fill": {
              "color": "#C8D4E3"
             },
             "line": {
              "color": "white"
             }
            },
            "type": "table"
           }
          ]
         },
         "layout": {
          "annotationdefaults": {
           "arrowcolor": "#2a3f5f",
           "arrowhead": 0,
           "arrowwidth": 1
          },
          "autotypenumbers": "strict",
          "coloraxis": {
           "colorbar": {
            "outlinewidth": 0,
            "ticks": ""
           }
          },
          "colorscale": {
           "diverging": [
            [
             0,
             "#8e0152"
            ],
            [
             0.1,
             "#c51b7d"
            ],
            [
             0.2,
             "#de77ae"
            ],
            [
             0.3,
             "#f1b6da"
            ],
            [
             0.4,
             "#fde0ef"
            ],
            [
             0.5,
             "#f7f7f7"
            ],
            [
             0.6,
             "#e6f5d0"
            ],
            [
             0.7,
             "#b8e186"
            ],
            [
             0.8,
             "#7fbc41"
            ],
            [
             0.9,
             "#4d9221"
            ],
            [
             1,
             "#276419"
            ]
           ],
           "sequential": [
            [
             0,
             "#0d0887"
            ],
            [
             0.1111111111111111,
             "#46039f"
            ],
            [
             0.2222222222222222,
             "#7201a8"
            ],
            [
             0.3333333333333333,
             "#9c179e"
            ],
            [
             0.4444444444444444,
             "#bd3786"
            ],
            [
             0.5555555555555556,
             "#d8576b"
            ],
            [
             0.6666666666666666,
             "#ed7953"
            ],
            [
             0.7777777777777778,
             "#fb9f3a"
            ],
            [
             0.8888888888888888,
             "#fdca26"
            ],
            [
             1,
             "#f0f921"
            ]
           ],
           "sequentialminus": [
            [
             0,
             "#0d0887"
            ],
            [
             0.1111111111111111,
             "#46039f"
            ],
            [
             0.2222222222222222,
             "#7201a8"
            ],
            [
             0.3333333333333333,
             "#9c179e"
            ],
            [
             0.4444444444444444,
             "#bd3786"
            ],
            [
             0.5555555555555556,
             "#d8576b"
            ],
            [
             0.6666666666666666,
             "#ed7953"
            ],
            [
             0.7777777777777778,
             "#fb9f3a"
            ],
            [
             0.8888888888888888,
             "#fdca26"
            ],
            [
             1,
             "#f0f921"
            ]
           ]
          },
          "colorway": [
           "#636efa",
           "#EF553B",
           "#00cc96",
           "#ab63fa",
           "#FFA15A",
           "#19d3f3",
           "#FF6692",
           "#B6E880",
           "#FF97FF",
           "#FECB52"
          ],
          "font": {
           "color": "#2a3f5f"
          },
          "geo": {
           "bgcolor": "white",
           "lakecolor": "white",
           "landcolor": "#E5ECF6",
           "showlakes": true,
           "showland": true,
           "subunitcolor": "white"
          },
          "hoverlabel": {
           "align": "left"
          },
          "hovermode": "closest",
          "mapbox": {
           "style": "light"
          },
          "paper_bgcolor": "white",
          "plot_bgcolor": "#E5ECF6",
          "polar": {
           "angularaxis": {
            "gridcolor": "white",
            "linecolor": "white",
            "ticks": ""
           },
           "bgcolor": "#E5ECF6",
           "radialaxis": {
            "gridcolor": "white",
            "linecolor": "white",
            "ticks": ""
           }
          },
          "scene": {
           "xaxis": {
            "backgroundcolor": "#E5ECF6",
            "gridcolor": "white",
            "gridwidth": 2,
            "linecolor": "white",
            "showbackground": true,
            "ticks": "",
            "zerolinecolor": "white"
           },
           "yaxis": {
            "backgroundcolor": "#E5ECF6",
            "gridcolor": "white",
            "gridwidth": 2,
            "linecolor": "white",
            "showbackground": true,
            "ticks": "",
            "zerolinecolor": "white"
           },
           "zaxis": {
            "backgroundcolor": "#E5ECF6",
            "gridcolor": "white",
            "gridwidth": 2,
            "linecolor": "white",
            "showbackground": true,
            "ticks": "",
            "zerolinecolor": "white"
           }
          },
          "shapedefaults": {
           "line": {
            "color": "#2a3f5f"
           }
          },
          "ternary": {
           "aaxis": {
            "gridcolor": "white",
            "linecolor": "white",
            "ticks": ""
           },
           "baxis": {
            "gridcolor": "white",
            "linecolor": "white",
            "ticks": ""
           },
           "bgcolor": "#E5ECF6",
           "caxis": {
            "gridcolor": "white",
            "linecolor": "white",
            "ticks": ""
           }
          },
          "title": {
           "x": 0.05
          },
          "xaxis": {
           "automargin": true,
           "gridcolor": "white",
           "linecolor": "white",
           "ticks": "",
           "title": {
            "standoff": 15
           },
           "zerolinecolor": "white",
           "zerolinewidth": 2
          },
          "yaxis": {
           "automargin": true,
           "gridcolor": "white",
           "linecolor": "white",
           "ticks": "",
           "title": {
            "standoff": 15
           },
           "zerolinecolor": "white",
           "zerolinewidth": 2
          }
         }
        },
        "title": {
         "text": "POP Artists on Top Chart"
        },
        "xaxis": {
         "anchor": "y",
         "autorange": true,
         "domain": [
          0,
          1
         ],
         "range": [
          -0.5,
          40.5
         ],
         "title": {
          "text": "Artists"
         },
         "type": "category"
        },
        "yaxis": {
         "anchor": "x",
         "autorange": true,
         "domain": [
          0,
          1
         ],
         "range": [
          0,
          4.2105263157894735
         ],
         "title": {
          "text": "value"
         },
         "type": "linear"
        }
       }
      },
      "image/png": "[encoded data removed]",
      "text/html": [
       "<div>                            <div id=\"c845f3a0-7a31-4083-9e0b-f06c6833abdb\" class=\"plotly-graph-div\" style=\"height:800px; width:100%;\"></div>            <script type=\"text/javascript\">                require([\"plotly\"], function(Plotly) {                    window.PLOTLYENV=window.PLOTLYENV || {};                                    if (document.getElementById(\"c845f3a0-7a31-4083-9e0b-f06c6833abdb\")) {                    Plotly.newPlot(                        \"c845f3a0-7a31-4083-9e0b-f06c6833abdb\",                        [{\"alignmentgroup\":\"True\",\"hovertemplate\":\"Artists=%{x}<br>value=%{marker.color}<extra></extra>\",\"legendgroup\":\"\",\"marker\":{\"color\":[4,3,2,2,2,2,1,1,1,1,1,1,1,1,1,1,1,1,1,1,1,1,1,1,1,1,1,1,1,1,1,1,1,1,1,1,1,1,1,1,1],\"coloraxis\":\"coloraxis\",\"pattern\":{\"shape\":\"\"}},\"name\":\"\",\"offsetgroup\":\"\",\"orientation\":\"v\",\"showlegend\":false,\"textposition\":\"auto\",\"type\":\"bar\",\"x\":[\"Ed Sheeran\",\"Adele\",\"Doja Cat\",\"Shawn Mendes\",\"Lil Nas X\",\"Olivia Rodrigo\",\"Elton John & Dua Lipa\",\"Phillip Phillips\",\"Doja Cat Feat. SZA\",\"Eric Saade Feat. Gustaf Nor\\u00e9n, Filatov & Karas\",\"Doja Cat & The Weeknd\",\"Jon Bellion\",\"Sia\",\"Paloma Faith\",\"Tom Odell\",\"Anastacia\",\"Tones And I\",\"Mark Ronson Feat. Miley Cyrus\",\"Dua Lipa Feat. DaBaby\",\"\\u041b\\u044e\\u0441\\u044f \\u0427\\u0435\\u0431\\u043e\\u0442\\u0438\\u043d\\u0430\",\"Dua Lipa\",\"Duncan Laurence\",\"Marshmello & Jonas Brothers\",\"Witt Lowry Feat. Ava Max\",\"Justin Bieber\",\"Amaarae & Moliy Feat. Kali Uchis\",\"GAYLE\",\"Melisa & Tommo\",\"Bruno Mars\",\"The Kid LAROI & Justin Bieber\",\"Coldplay & BTS\",\"Elley Duh\\u00e9\",\"t.A.T.u.\",\"Capital Cities\",\"Madonna & Sickick\",\"BoyWithUke\",\"SALES\",\"Meghan Trainor\",\"Rod Stewart\",\"NEIKED, Mae Muller & Polo G\",\"Edison Lighthouse\"],\"xaxis\":\"x\",\"y\":[4,3,2,2,2,2,1,1,1,1,1,1,1,1,1,1,1,1,1,1,1,1,1,1,1,1,1,1,1,1,1,1,1,1,1,1,1,1,1,1,1],\"yaxis\":\"y\"}],                        {\"barmode\":\"relative\",\"coloraxis\":{\"colorbar\":{\"title\":{\"text\":\"value\"}},\"colorscale\":[[0.0,\"rgb(211, 242, 163)\"],[0.16666666666666666,\"rgb(151, 225, 150)\"],[0.3333333333333333,\"rgb(108, 192, 139)\"],[0.5,\"rgb(76, 155, 130)\"],[0.6666666666666666,\"rgb(33, 122, 121)\"],[0.8333333333333334,\"rgb(16, 89, 101)\"],[1.0,\"rgb(7, 64, 80)\"]]},\"height\":800,\"legend\":{\"tracegroupgap\":0},\"template\":{\"data\":{\"bar\":[{\"error_x\":{\"color\":\"#2a3f5f\"},\"error_y\":{\"color\":\"#2a3f5f\"},\"marker\":{\"line\":{\"color\":\"#E5ECF6\",\"width\":0.5},\"pattern\":{\"fillmode\":\"overlay\",\"size\":10,\"solidity\":0.2}},\"type\":\"bar\"}],\"barpolar\":[{\"marker\":{\"line\":{\"color\":\"#E5ECF6\",\"width\":0.5},\"pattern\":{\"fillmode\":\"overlay\",\"size\":10,\"solidity\":0.2}},\"type\":\"barpolar\"}],\"carpet\":[{\"aaxis\":{\"endlinecolor\":\"#2a3f5f\",\"gridcolor\":\"white\",\"linecolor\":\"white\",\"minorgridcolor\":\"white\",\"startlinecolor\":\"#2a3f5f\"},\"baxis\":{\"endlinecolor\":\"#2a3f5f\",\"gridcolor\":\"white\",\"linecolor\":\"white\",\"minorgridcolor\":\"white\",\"startlinecolor\":\"#2a3f5f\"},\"type\":\"carpet\"}],\"choropleth\":[{\"colorbar\":{\"outlinewidth\":0,\"ticks\":\"\"},\"type\":\"choropleth\"}],\"contour\":[{\"colorbar\":{\"outlinewidth\":0,\"ticks\":\"\"},\"colorscale\":[[0.0,\"#0d0887\"],[0.1111111111111111,\"#46039f\"],[0.2222222222222222,\"#7201a8\"],[0.3333333333333333,\"#9c179e\"],[0.4444444444444444,\"#bd3786\"],[0.5555555555555556,\"#d8576b\"],[0.6666666666666666,\"#ed7953\"],[0.7777777777777778,\"#fb9f3a\"],[0.8888888888888888,\"#fdca26\"],[1.0,\"#f0f921\"]],\"type\":\"contour\"}],\"contourcarpet\":[{\"colorbar\":{\"outlinewidth\":0,\"ticks\":\"\"},\"type\":\"contourcarpet\"}],\"heatmap\":[{\"colorbar\":{\"outlinewidth\":0,\"ticks\":\"\"},\"colorscale\":[[0.0,\"#0d0887\"],[0.1111111111111111,\"#46039f\"],[0.2222222222222222,\"#7201a8\"],[0.3333333333333333,\"#9c179e\"],[0.4444444444444444,\"#bd3786\"],[0.5555555555555556,\"#d8576b\"],[0.6666666666666666,\"#ed7953\"],[0.7777777777777778,\"#fb9f3a\"],[0.8888888888888888,\"#fdca26\"],[1.0,\"#f0f921\"]],\"type\":\"heatmap\"}],\"heatmapgl\":[{\"colorbar\":{\"outlinewidth\":0,\"ticks\":\"\"},\"colorscale\":[[0.0,\"#0d0887\"],[0.1111111111111111,\"#46039f\"],[0.2222222222222222,\"#7201a8\"],[0.3333333333333333,\"#9c179e\"],[0.4444444444444444,\"#bd3786\"],[0.5555555555555556,\"#d8576b\"],[0.6666666666666666,\"#ed7953\"],[0.7777777777777778,\"#fb9f3a\"],[0.8888888888888888,\"#fdca26\"],[1.0,\"#f0f921\"]],\"type\":\"heatmapgl\"}],\"histogram\":[{\"marker\":{\"pattern\":{\"fillmode\":\"overlay\",\"size\":10,\"solidity\":0.2}},\"type\":\"histogram\"}],\"histogram2d\":[{\"colorbar\":{\"outlinewidth\":0,\"ticks\":\"\"},\"colorscale\":[[0.0,\"#0d0887\"],[0.1111111111111111,\"#46039f\"],[0.2222222222222222,\"#7201a8\"],[0.3333333333333333,\"#9c179e\"],[0.4444444444444444,\"#bd3786\"],[0.5555555555555556,\"#d8576b\"],[0.6666666666666666,\"#ed7953\"],[0.7777777777777778,\"#fb9f3a\"],[0.8888888888888888,\"#fdca26\"],[1.0,\"#f0f921\"]],\"type\":\"histogram2d\"}],\"histogram2dcontour\":[{\"colorbar\":{\"outlinewidth\":0,\"ticks\":\"\"},\"colorscale\":[[0.0,\"#0d0887\"],[0.1111111111111111,\"#46039f\"],[0.2222222222222222,\"#7201a8\"],[0.3333333333333333,\"#9c179e\"],[0.4444444444444444,\"#bd3786\"],[0.5555555555555556,\"#d8576b\"],[0.6666666666666666,\"#ed7953\"],[0.7777777777777778,\"#fb9f3a\"],[0.8888888888888888,\"#fdca26\"],[1.0,\"#f0f921\"]],\"type\":\"histogram2dcontour\"}],\"mesh3d\":[{\"colorbar\":{\"outlinewidth\":0,\"ticks\":\"\"},\"type\":\"mesh3d\"}],\"parcoords\":[{\"line\":{\"colorbar\":{\"outlinewidth\":0,\"ticks\":\"\"}},\"type\":\"parcoords\"}],\"pie\":[{\"automargin\":true,\"type\":\"pie\"}],\"scatter\":[{\"marker\":{\"colorbar\":{\"outlinewidth\":0,\"ticks\":\"\"}},\"type\":\"scatter\"}],\"scatter3d\":[{\"line\":{\"colorbar\":{\"outlinewidth\":0,\"ticks\":\"\"}},\"marker\":{\"colorbar\":{\"outlinewidth\":0,\"ticks\":\"\"}},\"type\":\"scatter3d\"}],\"scattercarpet\":[{\"marker\":{\"colorbar\":{\"outlinewidth\":0,\"ticks\":\"\"}},\"type\":\"scattercarpet\"}],\"scattergeo\":[{\"marker\":{\"colorbar\":{\"outlinewidth\":0,\"ticks\":\"\"}},\"type\":\"scattergeo\"}],\"scattergl\":[{\"marker\":{\"colorbar\":{\"outlinewidth\":0,\"ticks\":\"\"}},\"type\":\"scattergl\"}],\"scattermapbox\":[{\"marker\":{\"colorbar\":{\"outlinewidth\":0,\"ticks\":\"\"}},\"type\":\"scattermapbox\"}],\"scatterpolar\":[{\"marker\":{\"colorbar\":{\"outlinewidth\":0,\"ticks\":\"\"}},\"type\":\"scatterpolar\"}],\"scatterpolargl\":[{\"marker\":{\"colorbar\":{\"outlinewidth\":0,\"ticks\":\"\"}},\"type\":\"scatterpolargl\"}],\"scatterternary\":[{\"marker\":{\"colorbar\":{\"outlinewidth\":0,\"ticks\":\"\"}},\"type\":\"scatterternary\"}],\"surface\":[{\"colorbar\":{\"outlinewidth\":0,\"ticks\":\"\"},\"colorscale\":[[0.0,\"#0d0887\"],[0.1111111111111111,\"#46039f\"],[0.2222222222222222,\"#7201a8\"],[0.3333333333333333,\"#9c179e\"],[0.4444444444444444,\"#bd3786\"],[0.5555555555555556,\"#d8576b\"],[0.6666666666666666,\"#ed7953\"],[0.7777777777777778,\"#fb9f3a\"],[0.8888888888888888,\"#fdca26\"],[1.0,\"#f0f921\"]],\"type\":\"surface\"}],\"table\":[{\"cells\":{\"fill\":{\"color\":\"#EBF0F8\"},\"line\":{\"color\":\"white\"}},\"header\":{\"fill\":{\"color\":\"#C8D4E3\"},\"line\":{\"color\":\"white\"}},\"type\":\"table\"}]},\"layout\":{\"annotationdefaults\":{\"arrowcolor\":\"#2a3f5f\",\"arrowhead\":0,\"arrowwidth\":1},\"autotypenumbers\":\"strict\",\"coloraxis\":{\"colorbar\":{\"outlinewidth\":0,\"ticks\":\"\"}},\"colorscale\":{\"diverging\":[[0,\"#8e0152\"],[0.1,\"#c51b7d\"],[0.2,\"#de77ae\"],[0.3,\"#f1b6da\"],[0.4,\"#fde0ef\"],[0.5,\"#f7f7f7\"],[0.6,\"#e6f5d0\"],[0.7,\"#b8e186\"],[0.8,\"#7fbc41\"],[0.9,\"#4d9221\"],[1,\"#276419\"]],\"sequential\":[[0.0,\"#0d0887\"],[0.1111111111111111,\"#46039f\"],[0.2222222222222222,\"#7201a8\"],[0.3333333333333333,\"#9c179e\"],[0.4444444444444444,\"#bd3786\"],[0.5555555555555556,\"#d8576b\"],[0.6666666666666666,\"#ed7953\"],[0.7777777777777778,\"#fb9f3a\"],[0.8888888888888888,\"#fdca26\"],[1.0,\"#f0f921\"]],\"sequentialminus\":[[0.0,\"#0d0887\"],[0.1111111111111111,\"#46039f\"],[0.2222222222222222,\"#7201a8\"],[0.3333333333333333,\"#9c179e\"],[0.4444444444444444,\"#bd3786\"],[0.5555555555555556,\"#d8576b\"],[0.6666666666666666,\"#ed7953\"],[0.7777777777777778,\"#fb9f3a\"],[0.8888888888888888,\"#fdca26\"],[1.0,\"#f0f921\"]]},\"colorway\":[\"#636efa\",\"#EF553B\",\"#00cc96\",\"#ab63fa\",\"#FFA15A\",\"#19d3f3\",\"#FF6692\",\"#B6E880\",\"#FF97FF\",\"#FECB52\"],\"font\":{\"color\":\"#2a3f5f\"},\"geo\":{\"bgcolor\":\"white\",\"lakecolor\":\"white\",\"landcolor\":\"#E5ECF6\",\"showlakes\":true,\"showland\":true,\"subunitcolor\":\"white\"},\"hoverlabel\":{\"align\":\"left\"},\"hovermode\":\"closest\",\"mapbox\":{\"style\":\"light\"},\"paper_bgcolor\":\"white\",\"plot_bgcolor\":\"#E5ECF6\",\"polar\":{\"angularaxis\":{\"gridcolor\":\"white\",\"linecolor\":\"white\",\"ticks\":\"\"},\"bgcolor\":\"#E5ECF6\",\"radialaxis\":{\"gridcolor\":\"white\",\"linecolor\":\"white\",\"ticks\":\"\"}},\"scene\":{\"xaxis\":{\"backgroundcolor\":\"#E5ECF6\",\"gridcolor\":\"white\",\"gridwidth\":2,\"linecolor\":\"white\",\"showbackground\":true,\"ticks\":\"\",\"zerolinecolor\":\"white\"},\"yaxis\":{\"backgroundcolor\":\"#E5ECF6\",\"gridcolor\":\"white\",\"gridwidth\":2,\"linecolor\":\"white\",\"showbackground\":true,\"ticks\":\"\",\"zerolinecolor\":\"white\"},\"zaxis\":{\"backgroundcolor\":\"#E5ECF6\",\"gridcolor\":\"white\",\"gridwidth\":2,\"linecolor\":\"white\",\"showbackground\":true,\"ticks\":\"\",\"zerolinecolor\":\"white\"}},\"shapedefaults\":{\"line\":{\"color\":\"#2a3f5f\"}},\"ternary\":{\"aaxis\":{\"gridcolor\":\"white\",\"linecolor\":\"white\",\"ticks\":\"\"},\"baxis\":{\"gridcolor\":\"white\",\"linecolor\":\"white\",\"ticks\":\"\"},\"bgcolor\":\"#E5ECF6\",\"caxis\":{\"gridcolor\":\"white\",\"linecolor\":\"white\",\"ticks\":\"\"}},\"title\":{\"x\":0.05},\"xaxis\":{\"automargin\":true,\"gridcolor\":\"white\",\"linecolor\":\"white\",\"ticks\":\"\",\"title\":{\"standoff\":15},\"zerolinecolor\":\"white\",\"zerolinewidth\":2},\"yaxis\":{\"automargin\":true,\"gridcolor\":\"white\",\"linecolor\":\"white\",\"ticks\":\"\",\"title\":{\"standoff\":15},\"zerolinecolor\":\"white\",\"zerolinewidth\":2}}},\"title\":{\"text\":\"POP Artists on Top Chart\"},\"xaxis\":{\"anchor\":\"y\",\"domain\":[0.0,1.0],\"title\":{\"text\":\"Artists\"}},\"yaxis\":{\"anchor\":\"x\",\"domain\":[0.0,1.0],\"title\":{\"text\":\"value\"}}},                        {\"responsive\": true}                    ).then(function(){\n",
       "                            \n",
       "var gd = document.getElementById('c845f3a0-7a31-4083-9e0b-f06c6833abdb');\n",
       "var x = new MutationObserver(function (mutations, observer) {{\n",
       "        var display = window.getComputedStyle(gd).display;\n",
       "        if (!display || display === 'none') {{\n",
       "            console.log([gd, 'removed!']);\n",
       "            Plotly.purge(gd);\n",
       "            observer.disconnect();\n",
       "        }}\n",
       "}});\n",
       "\n",
       "// Listen for the removal of the full notebook cells\n",
       "var notebookContainer = gd.closest('#notebook-container');\n",
       "if (notebookContainer) {{\n",
       "    x.observe(notebookContainer, {childList: true});\n",
       "}}\n",
       "\n",
       "// Listen for the clearing of the current output cell\n",
       "var outputEl = gd.closest('.output');\n",
       "if (outputEl) {{\n",
       "    x.observe(outputEl, {childList: true});\n",
       "}}\n",
       "\n",
       "                        })                };                });            </script>        </div>"
      ]
     },
     "metadata": {},
     "output_type": "display_data"
    }
   ],
   "source": [
    "# Visualize data\n",
    "\n",
    "fig2 = px.bar(\n",
    "    artists_df,\n",
    "    color = \"value\",\n",
    "    color_continuous_scale='emrld',\n",
    "    title = 'POP Artists on Top Chart',\n",
    "    height = 800\n",
    ")\n",
    "fig2.show()\n"
   ]
  },
  {
   "cell_type": "code",
   "execution_count": 180,
   "id": "2bb19974-08b1-4078-a22c-e6f34c136ef3",
   "metadata": {},
   "outputs": [],
   "source": [
    "# Retrieve Lyrics for all TrackIDs\n",
    "track_ids \n",
    "\n",
    "lyrics=[]\n",
    "\n",
    "for trackID in track_ids:\n",
    "    querystring = {\"track_id\":trackID}\n",
    "    track_details_response = get_lyrics(querystring)\n",
    "\n",
    "    if track_details_response['sections'][1]['type'] != \"LYRICS\":  \n",
    "        lyrics.append([''])\n",
    "    else:\n",
    "        track_lyrics = track_details_response['sections'][1]['text']\n",
    "        lyrics.append(track_lyrics)"
   ]
  },
  {
   "cell_type": "code",
   "execution_count": 181,
   "id": "ebe728a0-c3c1-473c-af45-bd735cbca0b5",
   "metadata": {},
   "outputs": [
    {
     "data": {
      "text/html": [
       "<div>\n",
       "<style scoped>\n",
       "    .dataframe tbody tr th:only-of-type {\n",
       "        vertical-align: middle;\n",
       "    }\n",
       "\n",
       "    .dataframe tbody tr th {\n",
       "        vertical-align: top;\n",
       "    }\n",
       "\n",
       "    .dataframe thead th {\n",
       "        text-align: right;\n",
       "    }\n",
       "</style>\n",
       "<table border=\"1\" class=\"dataframe\">\n",
       "  <thead>\n",
       "    <tr style=\"text-align: right;\">\n",
       "      <th></th>\n",
       "      <th>Track Name</th>\n",
       "      <th>Artists</th>\n",
       "      <th>Lyrics</th>\n",
       "    </tr>\n",
       "  </thead>\n",
       "  <tbody>\n",
       "    <tr>\n",
       "      <th>579595745</th>\n",
       "      <td>Cold Heart (PNAU Remix)</td>\n",
       "      <td>Elton John &amp; Dua Lipa</td>\n",
       "      <td>It's a human sign When things go wrong When th...</td>\n",
       "    </tr>\n",
       "    <tr>\n",
       "      <th>587472945</th>\n",
       "      <td>Easy On Me</td>\n",
       "      <td>Adele</td>\n",
       "      <td>There ain't no gold in this river That I've be...</td>\n",
       "    </tr>\n",
       "    <tr>\n",
       "      <th>577983490</th>\n",
       "      <td>abcdefu</td>\n",
       "      <td>GAYLE</td>\n",
       "      <td>Fuck you and your mom and your sister and your...</td>\n",
       "    </tr>\n",
       "    <tr>\n",
       "      <th>560551698</th>\n",
       "      <td>I'm Alone</td>\n",
       "      <td>Melisa &amp; Tommo</td>\n",
       "      <td></td>\n",
       "    </tr>\n",
       "    <tr>\n",
       "      <th>70596703</th>\n",
       "      <td>Locked Out Of Heaven</td>\n",
       "      <td>Bruno Mars</td>\n",
       "      <td>One, two, one, two, three  Oh yeah yeah Oh yea...</td>\n",
       "    </tr>\n",
       "  </tbody>\n",
       "</table>\n",
       "</div>"
      ],
      "text/plain": [
       "                        Track Name                Artists  \\\n",
       "579595745  Cold Heart (PNAU Remix)  Elton John & Dua Lipa   \n",
       "587472945               Easy On Me                  Adele   \n",
       "577983490                  abcdefu                  GAYLE   \n",
       "560551698                I'm Alone         Melisa & Tommo   \n",
       "70596703      Locked Out Of Heaven             Bruno Mars   \n",
       "\n",
       "                                                      Lyrics  \n",
       "579595745  It's a human sign When things go wrong When th...  \n",
       "587472945  There ain't no gold in this river That I've be...  \n",
       "577983490  Fuck you and your mom and your sister and your...  \n",
       "560551698                                                     \n",
       "70596703   One, two, one, two, three  Oh yeah yeah Oh yea...  "
      ]
     },
     "execution_count": 181,
     "metadata": {},
     "output_type": "execute_result"
    }
   ],
   "source": [
    "# Add lyrics column to dataframe with chart songs\n",
    "\n",
    "all_lyrics = pd.Series(\" \".join(map(str,song)) for song in lyrics) #each song is stored as a list, this turns each list into a string\n",
    "all_lyrics_df = pd.DataFrame({\"Lyrics\": all_lyrics, \"Track IDs\": track_ids}).set_index('Track IDs')\n",
    "\n",
    "lyrics_df = pd.concat([chart_songs, all_lyrics_df], axis=1)\n",
    "lyrics_df.head(5)"
   ]
  },
  {
   "cell_type": "code",
   "execution_count": 182,
   "id": "54ab061e-f8e8-4cc8-8a84-bdd19b7dc904",
   "metadata": {},
   "outputs": [
    {
     "data": {
      "text/html": [
       "<div>\n",
       "<style scoped>\n",
       "    .dataframe tbody tr th:only-of-type {\n",
       "        vertical-align: middle;\n",
       "    }\n",
       "\n",
       "    .dataframe tbody tr th {\n",
       "        vertical-align: top;\n",
       "    }\n",
       "\n",
       "    .dataframe thead th {\n",
       "        text-align: right;\n",
       "    }\n",
       "</style>\n",
       "<table border=\"1\" class=\"dataframe\">\n",
       "  <thead>\n",
       "    <tr style=\"text-align: right;\">\n",
       "      <th></th>\n",
       "      <th>Track Name</th>\n",
       "      <th>Artists</th>\n",
       "      <th>Lyrics</th>\n",
       "    </tr>\n",
       "  </thead>\n",
       "  <tbody>\n",
       "    <tr>\n",
       "      <th>579595745</th>\n",
       "      <td>Cold Heart (PNAU Remix)</td>\n",
       "      <td>Elton John &amp; Dua Lipa</td>\n",
       "      <td>It's a human sign When things go wrong When th...</td>\n",
       "    </tr>\n",
       "    <tr>\n",
       "      <th>587472945</th>\n",
       "      <td>Easy On Me</td>\n",
       "      <td>Adele</td>\n",
       "      <td>There ain't no gold in this river That I've be...</td>\n",
       "    </tr>\n",
       "    <tr>\n",
       "      <th>577983490</th>\n",
       "      <td>abcdefu</td>\n",
       "      <td>GAYLE</td>\n",
       "      <td>Fuck you and your mom and your sister and your...</td>\n",
       "    </tr>\n",
       "    <tr>\n",
       "      <th>560551698</th>\n",
       "      <td>I'm Alone</td>\n",
       "      <td>Melisa &amp; Tommo</td>\n",
       "      <td></td>\n",
       "    </tr>\n",
       "    <tr>\n",
       "      <th>70596703</th>\n",
       "      <td>Locked Out Of Heaven</td>\n",
       "      <td>Bruno Mars</td>\n",
       "      <td>One, two, one, two, three  Oh yeah yeah Oh yea...</td>\n",
       "    </tr>\n",
       "    <tr>\n",
       "      <th>581315745</th>\n",
       "      <td>Shivers</td>\n",
       "      <td>Ed Sheeran</td>\n",
       "      <td>I took an arrow to the heart I never kissed a ...</td>\n",
       "    </tr>\n",
       "    <tr>\n",
       "      <th>552221348</th>\n",
       "      <td>Stay</td>\n",
       "      <td>The Kid LAROI &amp; Justin Bieber</td>\n",
       "      <td>I do the same thing I told you that I never wo...</td>\n",
       "    </tr>\n",
       "    <tr>\n",
       "      <th>573386652</th>\n",
       "      <td>Bad Habits</td>\n",
       "      <td>Ed Sheeran</td>\n",
       "      <td>One, two, three, four Ooh, ooh  Every time you...</td>\n",
       "    </tr>\n",
       "    <tr>\n",
       "      <th>584558302</th>\n",
       "      <td>My Universe</td>\n",
       "      <td>Coldplay &amp; BTS</td>\n",
       "      <td>You (you), you are (you are) my universe And I...</td>\n",
       "    </tr>\n",
       "    <tr>\n",
       "      <th>506004198</th>\n",
       "      <td>Middle of the Night</td>\n",
       "      <td>Elley Duhé</td>\n",
       "      <td>I summoned you, please come to me Don't bury t...</td>\n",
       "    </tr>\n",
       "    <tr>\n",
       "      <th>584941330</th>\n",
       "      <td>Sad Girlz Luv Money Remix</td>\n",
       "      <td>Amaarae &amp; Moliy Feat. Kali Uchis</td>\n",
       "      <td>Kali Uchis  Oh, there's dollars all around Dol...</td>\n",
       "    </tr>\n",
       "    <tr>\n",
       "      <th>582585201</th>\n",
       "      <td>THATS WHAT I WANT</td>\n",
       "      <td>Lil Nas X</td>\n",
       "      <td>One, two, three, four  Need a boy who can cudd...</td>\n",
       "    </tr>\n",
       "    <tr>\n",
       "      <th>20112724</th>\n",
       "      <td>All The Things She Said</td>\n",
       "      <td>t.A.T.u.</td>\n",
       "      <td>All the things she said All the things she sai...</td>\n",
       "    </tr>\n",
       "    <tr>\n",
       "      <th>567517788</th>\n",
       "      <td>Frozen</td>\n",
       "      <td>Madonna &amp; Sickick</td>\n",
       "      <td>How can life be what you want it to be? You're...</td>\n",
       "    </tr>\n",
       "    <tr>\n",
       "      <th>53080365</th>\n",
       "      <td>Rolling In The Deep</td>\n",
       "      <td>Adele</td>\n",
       "      <td>There's a fire starting in my heart Reaching a...</td>\n",
       "    </tr>\n",
       "    <tr>\n",
       "      <th>581842398</th>\n",
       "      <td>Toxic</td>\n",
       "      <td>BoyWithUke</td>\n",
       "      <td>All my friends are toxic, all ambitionless So ...</td>\n",
       "    </tr>\n",
       "    <tr>\n",
       "      <th>317186448</th>\n",
       "      <td>Pope Is a Rockstar</td>\n",
       "      <td>SALES</td>\n",
       "      <td>Now he wants to start talking \"Go ahead,\" when...</td>\n",
       "    </tr>\n",
       "    <tr>\n",
       "      <th>581315785</th>\n",
       "      <td>Overpass Graffiti</td>\n",
       "      <td>Ed Sheeran</td>\n",
       "      <td>This is a dark parade Another rough patch to r...</td>\n",
       "    </tr>\n",
       "    <tr>\n",
       "      <th>149909698</th>\n",
       "      <td>Title</td>\n",
       "      <td>Meghan Trainor</td>\n",
       "      <td>If you want my love He gotta do what he does I...</td>\n",
       "    </tr>\n",
       "    <tr>\n",
       "      <th>20145680</th>\n",
       "      <td>Da Ya Think I'm Sexy?</td>\n",
       "      <td>Rod Stewart</td>\n",
       "      <td>Sugar Sugar, ooh Ooh  She sits alone waiting f...</td>\n",
       "    </tr>\n",
       "    <tr>\n",
       "      <th>584604030</th>\n",
       "      <td>Better Days</td>\n",
       "      <td>NEIKED, Mae Muller &amp; Polo G</td>\n",
       "      <td></td>\n",
       "    </tr>\n",
       "    <tr>\n",
       "      <th>595244229</th>\n",
       "      <td>It'll Be Okay</td>\n",
       "      <td>Shawn Mendes</td>\n",
       "      <td>Are we gonna make it? Is this gonna hurt?  Oh,...</td>\n",
       "    </tr>\n",
       "    <tr>\n",
       "      <th>90166754</th>\n",
       "      <td>Safe And Sound</td>\n",
       "      <td>Capital Cities</td>\n",
       "      <td>I could lift you up I could show you what you ...</td>\n",
       "    </tr>\n",
       "    <tr>\n",
       "      <th>423336107</th>\n",
       "      <td>Into Your Arms</td>\n",
       "      <td>Witt Lowry Feat. Ava Max</td>\n",
       "      <td>I'm out of my head, out of my mind, oh, I If y...</td>\n",
       "    </tr>\n",
       "    <tr>\n",
       "      <th>573239716</th>\n",
       "      <td>Woman</td>\n",
       "      <td>Doja Cat</td>\n",
       "      <td>Hey, woman Hey, woman  Woman Let me be your wo...</td>\n",
       "    </tr>\n",
       "    <tr>\n",
       "      <th>560348547</th>\n",
       "      <td>Ghost</td>\n",
       "      <td>Justin Bieber</td>\n",
       "      <td>Youngblood thinks there's always tomorrow I mi...</td>\n",
       "    </tr>\n",
       "    <tr>\n",
       "      <th>70679146</th>\n",
       "      <td>Another Love</td>\n",
       "      <td>Tom Odell</td>\n",
       "      <td>I wanna take you somewhere so you know I care ...</td>\n",
       "    </tr>\n",
       "    <tr>\n",
       "      <th>588355736</th>\n",
       "      <td>Oh My God</td>\n",
       "      <td>Adele</td>\n",
       "      <td>I ain't got too much time to spend But I'll ma...</td>\n",
       "    </tr>\n",
       "    <tr>\n",
       "      <th>571007966</th>\n",
       "      <td>Leave Before You Love Me</td>\n",
       "      <td>Marshmello &amp; Jonas Brothers</td>\n",
       "      <td>I see you calling I didn't wanna leave you lik...</td>\n",
       "    </tr>\n",
       "    <tr>\n",
       "      <th>565106878</th>\n",
       "      <td>Kiss Me More</td>\n",
       "      <td>Doja Cat Feat. SZA</td>\n",
       "      <td>We hug and, yes, we make love And always just ...</td>\n",
       "    </tr>\n",
       "    <tr>\n",
       "      <th>322789543</th>\n",
       "      <td>Wide Awake (Red Mix)</td>\n",
       "      <td>Eric Saade Feat. Gustaf Norén, Filatov &amp; Karas</td>\n",
       "      <td>You keep me wide awake every day, every weeken...</td>\n",
       "    </tr>\n",
       "    <tr>\n",
       "      <th>573239715</th>\n",
       "      <td>You Right</td>\n",
       "      <td>Doja Cat &amp; The Weeknd</td>\n",
       "      <td>I got a man but I want you I got a man but I w...</td>\n",
       "    </tr>\n",
       "    <tr>\n",
       "      <th>257654920</th>\n",
       "      <td>All Time Low</td>\n",
       "      <td>Jon Bellion</td>\n",
       "      <td>I was the knight in shining armor in your movi...</td>\n",
       "    </tr>\n",
       "    <tr>\n",
       "      <th>308021058</th>\n",
       "      <td>Unstoppable</td>\n",
       "      <td>Sia</td>\n",
       "      <td>All smiles, I know what it takes to fool this ...</td>\n",
       "    </tr>\n",
       "    <tr>\n",
       "      <th>75559942</th>\n",
       "      <td>Gone, Gone, Gone</td>\n",
       "      <td>Phillip Phillips</td>\n",
       "      <td>When life leaves you high and dry I'll be at y...</td>\n",
       "    </tr>\n",
       "    <tr>\n",
       "      <th>573239739</th>\n",
       "      <td>Need To Know</td>\n",
       "      <td>Doja Cat</td>\n",
       "      <td>Yeah, wanna know what it's like (like) Baby, s...</td>\n",
       "    </tr>\n",
       "    <tr>\n",
       "      <th>564095960</th>\n",
       "      <td>good 4 u</td>\n",
       "      <td>Olivia Rodrigo</td>\n",
       "      <td>(Ah)  Well, good for you, I guess you moved on...</td>\n",
       "    </tr>\n",
       "    <tr>\n",
       "      <th>106807815</th>\n",
       "      <td>Only Love Can Hurt Like This</td>\n",
       "      <td>Paloma Faith</td>\n",
       "      <td>I tell myself you don't mean a thing And what ...</td>\n",
       "    </tr>\n",
       "    <tr>\n",
       "      <th>40238388</th>\n",
       "      <td>Left Outside Alone</td>\n",
       "      <td>Anastacia</td>\n",
       "      <td>All my life I've been waiting For you to bring...</td>\n",
       "    </tr>\n",
       "    <tr>\n",
       "      <th>466040067</th>\n",
       "      <td>Dance Monkey</td>\n",
       "      <td>Tones And I</td>\n",
       "      <td>They say, \"Oh my God, I see the way you shine\"...</td>\n",
       "    </tr>\n",
       "    <tr>\n",
       "      <th>549952578</th>\n",
       "      <td>drivers license</td>\n",
       "      <td>Olivia Rodrigo</td>\n",
       "      <td>I got my driver's license last week Just like ...</td>\n",
       "    </tr>\n",
       "    <tr>\n",
       "      <th>342514741</th>\n",
       "      <td>Perfect</td>\n",
       "      <td>Ed Sheeran</td>\n",
       "      <td>I found a love for me Oh darling, just dive ri...</td>\n",
       "    </tr>\n",
       "    <tr>\n",
       "      <th>350525567</th>\n",
       "      <td>There's Nothing Holdin' Me Back</td>\n",
       "      <td>Shawn Mendes</td>\n",
       "      <td>I wanna follow where she goes I think about he...</td>\n",
       "    </tr>\n",
       "    <tr>\n",
       "      <th>451333839</th>\n",
       "      <td>Nothing Breaks Like A Heart</td>\n",
       "      <td>Mark Ronson Feat. Miley Cyrus</td>\n",
       "      <td>This world can hurt you It cuts you deep and l...</td>\n",
       "    </tr>\n",
       "    <tr>\n",
       "      <th>538322038</th>\n",
       "      <td>Levitating</td>\n",
       "      <td>Dua Lipa Feat. DaBaby</td>\n",
       "      <td>Billboard Baby, Dua Lipa make 'em dance when i...</td>\n",
       "    </tr>\n",
       "    <tr>\n",
       "      <th>588485896</th>\n",
       "      <td>СОЛНЦЕ МОНАКО</td>\n",
       "      <td>Люся Чеботина</td>\n",
       "      <td>Зачем мне солнце Монако? Для чего скажи мне лу...</td>\n",
       "    </tr>\n",
       "    <tr>\n",
       "      <th>511164515</th>\n",
       "      <td>Love Again</td>\n",
       "      <td>Dua Lipa</td>\n",
       "      <td>I never thought that I would find a way out I ...</td>\n",
       "    </tr>\n",
       "    <tr>\n",
       "      <th>460791620</th>\n",
       "      <td>Arcade</td>\n",
       "      <td>Duncan Laurence</td>\n",
       "      <td>A broken heart is all that's left I'm still fi...</td>\n",
       "    </tr>\n",
       "    <tr>\n",
       "      <th>556102751</th>\n",
       "      <td>MONTERO (Call Me By Your Name)</td>\n",
       "      <td>Lil Nas X</td>\n",
       "      <td>I caught it bad yesterday You hit me with a ca...</td>\n",
       "    </tr>\n",
       "    <tr>\n",
       "      <th>2935562</th>\n",
       "      <td>Love Grows (Where My Rosemary Goes)</td>\n",
       "      <td>Edison Lighthouse</td>\n",
       "      <td>She ain't got no money Her clothes are kinda f...</td>\n",
       "    </tr>\n",
       "  </tbody>\n",
       "</table>\n",
       "</div>"
      ],
      "text/plain": [
       "                                    Track Name  \\\n",
       "579595745              Cold Heart (PNAU Remix)   \n",
       "587472945                           Easy On Me   \n",
       "577983490                              abcdefu   \n",
       "560551698                            I'm Alone   \n",
       "70596703                  Locked Out Of Heaven   \n",
       "581315745                              Shivers   \n",
       "552221348                                 Stay   \n",
       "573386652                           Bad Habits   \n",
       "584558302                          My Universe   \n",
       "506004198                  Middle of the Night   \n",
       "584941330            Sad Girlz Luv Money Remix   \n",
       "582585201                    THATS WHAT I WANT   \n",
       "20112724               All The Things She Said   \n",
       "567517788                               Frozen   \n",
       "53080365                   Rolling In The Deep   \n",
       "581842398                                Toxic   \n",
       "317186448                   Pope Is a Rockstar   \n",
       "581315785                    Overpass Graffiti   \n",
       "149909698                                Title   \n",
       "20145680                 Da Ya Think I'm Sexy?   \n",
       "584604030                          Better Days   \n",
       "595244229                        It'll Be Okay   \n",
       "90166754                        Safe And Sound   \n",
       "423336107                       Into Your Arms   \n",
       "573239716                                Woman   \n",
       "560348547                                Ghost   \n",
       "70679146                          Another Love   \n",
       "588355736                            Oh My God   \n",
       "571007966             Leave Before You Love Me   \n",
       "565106878                         Kiss Me More   \n",
       "322789543                 Wide Awake (Red Mix)   \n",
       "573239715                            You Right   \n",
       "257654920                         All Time Low   \n",
       "308021058                          Unstoppable   \n",
       "75559942                      Gone, Gone, Gone   \n",
       "573239739                         Need To Know   \n",
       "564095960                             good 4 u   \n",
       "106807815         Only Love Can Hurt Like This   \n",
       "40238388                    Left Outside Alone   \n",
       "466040067                         Dance Monkey   \n",
       "549952578                      drivers license   \n",
       "342514741                              Perfect   \n",
       "350525567      There's Nothing Holdin' Me Back   \n",
       "451333839          Nothing Breaks Like A Heart   \n",
       "538322038                           Levitating   \n",
       "588485896                        СОЛНЦЕ МОНАКО   \n",
       "511164515                           Love Again   \n",
       "460791620                               Arcade   \n",
       "556102751       MONTERO (Call Me By Your Name)   \n",
       "2935562    Love Grows (Where My Rosemary Goes)   \n",
       "\n",
       "                                                  Artists  \\\n",
       "579595745                           Elton John & Dua Lipa   \n",
       "587472945                                           Adele   \n",
       "577983490                                           GAYLE   \n",
       "560551698                                  Melisa & Tommo   \n",
       "70596703                                       Bruno Mars   \n",
       "581315745                                      Ed Sheeran   \n",
       "552221348                   The Kid LAROI & Justin Bieber   \n",
       "573386652                                      Ed Sheeran   \n",
       "584558302                                  Coldplay & BTS   \n",
       "506004198                                      Elley Duhé   \n",
       "584941330                Amaarae & Moliy Feat. Kali Uchis   \n",
       "582585201                                       Lil Nas X   \n",
       "20112724                                         t.A.T.u.   \n",
       "567517788                               Madonna & Sickick   \n",
       "53080365                                            Adele   \n",
       "581842398                                      BoyWithUke   \n",
       "317186448                                           SALES   \n",
       "581315785                                      Ed Sheeran   \n",
       "149909698                                  Meghan Trainor   \n",
       "20145680                                      Rod Stewart   \n",
       "584604030                     NEIKED, Mae Muller & Polo G   \n",
       "595244229                                    Shawn Mendes   \n",
       "90166754                                   Capital Cities   \n",
       "423336107                        Witt Lowry Feat. Ava Max   \n",
       "573239716                                        Doja Cat   \n",
       "560348547                                   Justin Bieber   \n",
       "70679146                                        Tom Odell   \n",
       "588355736                                           Adele   \n",
       "571007966                     Marshmello & Jonas Brothers   \n",
       "565106878                              Doja Cat Feat. SZA   \n",
       "322789543  Eric Saade Feat. Gustaf Norén, Filatov & Karas   \n",
       "573239715                           Doja Cat & The Weeknd   \n",
       "257654920                                     Jon Bellion   \n",
       "308021058                                             Sia   \n",
       "75559942                                 Phillip Phillips   \n",
       "573239739                                        Doja Cat   \n",
       "564095960                                  Olivia Rodrigo   \n",
       "106807815                                    Paloma Faith   \n",
       "40238388                                        Anastacia   \n",
       "466040067                                     Tones And I   \n",
       "549952578                                  Olivia Rodrigo   \n",
       "342514741                                      Ed Sheeran   \n",
       "350525567                                    Shawn Mendes   \n",
       "451333839                   Mark Ronson Feat. Miley Cyrus   \n",
       "538322038                           Dua Lipa Feat. DaBaby   \n",
       "588485896                                   Люся Чеботина   \n",
       "511164515                                        Dua Lipa   \n",
       "460791620                                 Duncan Laurence   \n",
       "556102751                                       Lil Nas X   \n",
       "2935562                                 Edison Lighthouse   \n",
       "\n",
       "                                                      Lyrics  \n",
       "579595745  It's a human sign When things go wrong When th...  \n",
       "587472945  There ain't no gold in this river That I've be...  \n",
       "577983490  Fuck you and your mom and your sister and your...  \n",
       "560551698                                                     \n",
       "70596703   One, two, one, two, three  Oh yeah yeah Oh yea...  \n",
       "581315745  I took an arrow to the heart I never kissed a ...  \n",
       "552221348  I do the same thing I told you that I never wo...  \n",
       "573386652  One, two, three, four Ooh, ooh  Every time you...  \n",
       "584558302  You (you), you are (you are) my universe And I...  \n",
       "506004198  I summoned you, please come to me Don't bury t...  \n",
       "584941330  Kali Uchis  Oh, there's dollars all around Dol...  \n",
       "582585201  One, two, three, four  Need a boy who can cudd...  \n",
       "20112724   All the things she said All the things she sai...  \n",
       "567517788  How can life be what you want it to be? You're...  \n",
       "53080365   There's a fire starting in my heart Reaching a...  \n",
       "581842398  All my friends are toxic, all ambitionless So ...  \n",
       "317186448  Now he wants to start talking \"Go ahead,\" when...  \n",
       "581315785  This is a dark parade Another rough patch to r...  \n",
       "149909698  If you want my love He gotta do what he does I...  \n",
       "20145680   Sugar Sugar, ooh Ooh  She sits alone waiting f...  \n",
       "584604030                                                     \n",
       "595244229  Are we gonna make it? Is this gonna hurt?  Oh,...  \n",
       "90166754   I could lift you up I could show you what you ...  \n",
       "423336107  I'm out of my head, out of my mind, oh, I If y...  \n",
       "573239716  Hey, woman Hey, woman  Woman Let me be your wo...  \n",
       "560348547  Youngblood thinks there's always tomorrow I mi...  \n",
       "70679146   I wanna take you somewhere so you know I care ...  \n",
       "588355736  I ain't got too much time to spend But I'll ma...  \n",
       "571007966  I see you calling I didn't wanna leave you lik...  \n",
       "565106878  We hug and, yes, we make love And always just ...  \n",
       "322789543  You keep me wide awake every day, every weeken...  \n",
       "573239715  I got a man but I want you I got a man but I w...  \n",
       "257654920  I was the knight in shining armor in your movi...  \n",
       "308021058  All smiles, I know what it takes to fool this ...  \n",
       "75559942   When life leaves you high and dry I'll be at y...  \n",
       "573239739  Yeah, wanna know what it's like (like) Baby, s...  \n",
       "564095960  (Ah)  Well, good for you, I guess you moved on...  \n",
       "106807815  I tell myself you don't mean a thing And what ...  \n",
       "40238388   All my life I've been waiting For you to bring...  \n",
       "466040067  They say, \"Oh my God, I see the way you shine\"...  \n",
       "549952578  I got my driver's license last week Just like ...  \n",
       "342514741  I found a love for me Oh darling, just dive ri...  \n",
       "350525567  I wanna follow where she goes I think about he...  \n",
       "451333839  This world can hurt you It cuts you deep and l...  \n",
       "538322038  Billboard Baby, Dua Lipa make 'em dance when i...  \n",
       "588485896  Зачем мне солнце Монако? Для чего скажи мне лу...  \n",
       "511164515  I never thought that I would find a way out I ...  \n",
       "460791620  A broken heart is all that's left I'm still fi...  \n",
       "556102751  I caught it bad yesterday You hit me with a ca...  \n",
       "2935562    She ain't got no money Her clothes are kinda f...  "
      ]
     },
     "execution_count": 182,
     "metadata": {},
     "output_type": "execute_result"
    }
   ],
   "source": [
    "lyrics_df"
   ]
  },
  {
   "cell_type": "code",
   "execution_count": 184,
   "id": "c35ddb98-8f57-4ede-b9c5-d4be60b5b7f2",
   "metadata": {},
   "outputs": [
    {
     "data": {
      "text/html": [
       "<div>\n",
       "<style scoped>\n",
       "    .dataframe tbody tr th:only-of-type {\n",
       "        vertical-align: middle;\n",
       "    }\n",
       "\n",
       "    .dataframe tbody tr th {\n",
       "        vertical-align: top;\n",
       "    }\n",
       "\n",
       "    .dataframe thead th {\n",
       "        text-align: right;\n",
       "    }\n",
       "</style>\n",
       "<table border=\"1\" class=\"dataframe\">\n",
       "  <thead>\n",
       "    <tr style=\"text-align: right;\">\n",
       "      <th></th>\n",
       "      <th>Track Name</th>\n",
       "      <th>Artists</th>\n",
       "      <th>Lyrics</th>\n",
       "    </tr>\n",
       "  </thead>\n",
       "  <tbody>\n",
       "    <tr>\n",
       "      <th>579595745</th>\n",
       "      <td>Cold Heart (PNAU Remix)</td>\n",
       "      <td>Elton John &amp; Dua Lipa</td>\n",
       "      <td>It's a human sign When things go wrong When th...</td>\n",
       "    </tr>\n",
       "    <tr>\n",
       "      <th>587472945</th>\n",
       "      <td>Easy On Me</td>\n",
       "      <td>Adele</td>\n",
       "      <td>There ain't no gold in this river That I've be...</td>\n",
       "    </tr>\n",
       "    <tr>\n",
       "      <th>577983490</th>\n",
       "      <td>abcdefu</td>\n",
       "      <td>GAYLE</td>\n",
       "      <td>Fuck you and your mom and your sister and your...</td>\n",
       "    </tr>\n",
       "    <tr>\n",
       "      <th>70596703</th>\n",
       "      <td>Locked Out Of Heaven</td>\n",
       "      <td>Bruno Mars</td>\n",
       "      <td>One, two, one, two, three  Oh yeah yeah Oh yea...</td>\n",
       "    </tr>\n",
       "    <tr>\n",
       "      <th>581315745</th>\n",
       "      <td>Shivers</td>\n",
       "      <td>Ed Sheeran</td>\n",
       "      <td>I took an arrow to the heart I never kissed a ...</td>\n",
       "    </tr>\n",
       "    <tr>\n",
       "      <th>552221348</th>\n",
       "      <td>Stay</td>\n",
       "      <td>The Kid LAROI &amp; Justin Bieber</td>\n",
       "      <td>I do the same thing I told you that I never wo...</td>\n",
       "    </tr>\n",
       "    <tr>\n",
       "      <th>573386652</th>\n",
       "      <td>Bad Habits</td>\n",
       "      <td>Ed Sheeran</td>\n",
       "      <td>One, two, three, four Ooh, ooh  Every time you...</td>\n",
       "    </tr>\n",
       "    <tr>\n",
       "      <th>584558302</th>\n",
       "      <td>My Universe</td>\n",
       "      <td>Coldplay &amp; BTS</td>\n",
       "      <td>You (you), you are (you are) my universe And I...</td>\n",
       "    </tr>\n",
       "    <tr>\n",
       "      <th>506004198</th>\n",
       "      <td>Middle of the Night</td>\n",
       "      <td>Elley Duhé</td>\n",
       "      <td>I summoned you, please come to me Don't bury t...</td>\n",
       "    </tr>\n",
       "    <tr>\n",
       "      <th>584941330</th>\n",
       "      <td>Sad Girlz Luv Money Remix</td>\n",
       "      <td>Amaarae &amp; Moliy Feat. Kali Uchis</td>\n",
       "      <td>Kali Uchis  Oh, there's dollars all around Dol...</td>\n",
       "    </tr>\n",
       "    <tr>\n",
       "      <th>582585201</th>\n",
       "      <td>THATS WHAT I WANT</td>\n",
       "      <td>Lil Nas X</td>\n",
       "      <td>One, two, three, four  Need a boy who can cudd...</td>\n",
       "    </tr>\n",
       "    <tr>\n",
       "      <th>20112724</th>\n",
       "      <td>All The Things She Said</td>\n",
       "      <td>t.A.T.u.</td>\n",
       "      <td>All the things she said All the things she sai...</td>\n",
       "    </tr>\n",
       "    <tr>\n",
       "      <th>567517788</th>\n",
       "      <td>Frozen</td>\n",
       "      <td>Madonna &amp; Sickick</td>\n",
       "      <td>How can life be what you want it to be? You're...</td>\n",
       "    </tr>\n",
       "    <tr>\n",
       "      <th>53080365</th>\n",
       "      <td>Rolling In The Deep</td>\n",
       "      <td>Adele</td>\n",
       "      <td>There's a fire starting in my heart Reaching a...</td>\n",
       "    </tr>\n",
       "    <tr>\n",
       "      <th>581842398</th>\n",
       "      <td>Toxic</td>\n",
       "      <td>BoyWithUke</td>\n",
       "      <td>All my friends are toxic, all ambitionless So ...</td>\n",
       "    </tr>\n",
       "    <tr>\n",
       "      <th>317186448</th>\n",
       "      <td>Pope Is a Rockstar</td>\n",
       "      <td>SALES</td>\n",
       "      <td>Now he wants to start talking \"Go ahead,\" when...</td>\n",
       "    </tr>\n",
       "    <tr>\n",
       "      <th>581315785</th>\n",
       "      <td>Overpass Graffiti</td>\n",
       "      <td>Ed Sheeran</td>\n",
       "      <td>This is a dark parade Another rough patch to r...</td>\n",
       "    </tr>\n",
       "    <tr>\n",
       "      <th>149909698</th>\n",
       "      <td>Title</td>\n",
       "      <td>Meghan Trainor</td>\n",
       "      <td>If you want my love He gotta do what he does I...</td>\n",
       "    </tr>\n",
       "    <tr>\n",
       "      <th>20145680</th>\n",
       "      <td>Da Ya Think I'm Sexy?</td>\n",
       "      <td>Rod Stewart</td>\n",
       "      <td>Sugar Sugar, ooh Ooh  She sits alone waiting f...</td>\n",
       "    </tr>\n",
       "    <tr>\n",
       "      <th>595244229</th>\n",
       "      <td>It'll Be Okay</td>\n",
       "      <td>Shawn Mendes</td>\n",
       "      <td>Are we gonna make it? Is this gonna hurt?  Oh,...</td>\n",
       "    </tr>\n",
       "    <tr>\n",
       "      <th>90166754</th>\n",
       "      <td>Safe And Sound</td>\n",
       "      <td>Capital Cities</td>\n",
       "      <td>I could lift you up I could show you what you ...</td>\n",
       "    </tr>\n",
       "    <tr>\n",
       "      <th>423336107</th>\n",
       "      <td>Into Your Arms</td>\n",
       "      <td>Witt Lowry Feat. Ava Max</td>\n",
       "      <td>I'm out of my head, out of my mind, oh, I If y...</td>\n",
       "    </tr>\n",
       "    <tr>\n",
       "      <th>573239716</th>\n",
       "      <td>Woman</td>\n",
       "      <td>Doja Cat</td>\n",
       "      <td>Hey, woman Hey, woman  Woman Let me be your wo...</td>\n",
       "    </tr>\n",
       "    <tr>\n",
       "      <th>560348547</th>\n",
       "      <td>Ghost</td>\n",
       "      <td>Justin Bieber</td>\n",
       "      <td>Youngblood thinks there's always tomorrow I mi...</td>\n",
       "    </tr>\n",
       "    <tr>\n",
       "      <th>70679146</th>\n",
       "      <td>Another Love</td>\n",
       "      <td>Tom Odell</td>\n",
       "      <td>I wanna take you somewhere so you know I care ...</td>\n",
       "    </tr>\n",
       "    <tr>\n",
       "      <th>588355736</th>\n",
       "      <td>Oh My God</td>\n",
       "      <td>Adele</td>\n",
       "      <td>I ain't got too much time to spend But I'll ma...</td>\n",
       "    </tr>\n",
       "    <tr>\n",
       "      <th>571007966</th>\n",
       "      <td>Leave Before You Love Me</td>\n",
       "      <td>Marshmello &amp; Jonas Brothers</td>\n",
       "      <td>I see you calling I didn't wanna leave you lik...</td>\n",
       "    </tr>\n",
       "    <tr>\n",
       "      <th>565106878</th>\n",
       "      <td>Kiss Me More</td>\n",
       "      <td>Doja Cat Feat. SZA</td>\n",
       "      <td>We hug and, yes, we make love And always just ...</td>\n",
       "    </tr>\n",
       "    <tr>\n",
       "      <th>322789543</th>\n",
       "      <td>Wide Awake (Red Mix)</td>\n",
       "      <td>Eric Saade Feat. Gustaf Norén, Filatov &amp; Karas</td>\n",
       "      <td>You keep me wide awake every day, every weeken...</td>\n",
       "    </tr>\n",
       "    <tr>\n",
       "      <th>573239715</th>\n",
       "      <td>You Right</td>\n",
       "      <td>Doja Cat &amp; The Weeknd</td>\n",
       "      <td>I got a man but I want you I got a man but I w...</td>\n",
       "    </tr>\n",
       "  </tbody>\n",
       "</table>\n",
       "</div>"
      ],
      "text/plain": [
       "                          Track Name  \\\n",
       "579595745    Cold Heart (PNAU Remix)   \n",
       "587472945                 Easy On Me   \n",
       "577983490                    abcdefu   \n",
       "70596703        Locked Out Of Heaven   \n",
       "581315745                    Shivers   \n",
       "552221348                       Stay   \n",
       "573386652                 Bad Habits   \n",
       "584558302                My Universe   \n",
       "506004198        Middle of the Night   \n",
       "584941330  Sad Girlz Luv Money Remix   \n",
       "582585201          THATS WHAT I WANT   \n",
       "20112724     All The Things She Said   \n",
       "567517788                     Frozen   \n",
       "53080365         Rolling In The Deep   \n",
       "581842398                      Toxic   \n",
       "317186448         Pope Is a Rockstar   \n",
       "581315785          Overpass Graffiti   \n",
       "149909698                      Title   \n",
       "20145680       Da Ya Think I'm Sexy?   \n",
       "595244229              It'll Be Okay   \n",
       "90166754              Safe And Sound   \n",
       "423336107             Into Your Arms   \n",
       "573239716                      Woman   \n",
       "560348547                      Ghost   \n",
       "70679146                Another Love   \n",
       "588355736                  Oh My God   \n",
       "571007966   Leave Before You Love Me   \n",
       "565106878               Kiss Me More   \n",
       "322789543       Wide Awake (Red Mix)   \n",
       "573239715                  You Right   \n",
       "\n",
       "                                                  Artists  \\\n",
       "579595745                           Elton John & Dua Lipa   \n",
       "587472945                                           Adele   \n",
       "577983490                                           GAYLE   \n",
       "70596703                                       Bruno Mars   \n",
       "581315745                                      Ed Sheeran   \n",
       "552221348                   The Kid LAROI & Justin Bieber   \n",
       "573386652                                      Ed Sheeran   \n",
       "584558302                                  Coldplay & BTS   \n",
       "506004198                                      Elley Duhé   \n",
       "584941330                Amaarae & Moliy Feat. Kali Uchis   \n",
       "582585201                                       Lil Nas X   \n",
       "20112724                                         t.A.T.u.   \n",
       "567517788                               Madonna & Sickick   \n",
       "53080365                                            Adele   \n",
       "581842398                                      BoyWithUke   \n",
       "317186448                                           SALES   \n",
       "581315785                                      Ed Sheeran   \n",
       "149909698                                  Meghan Trainor   \n",
       "20145680                                      Rod Stewart   \n",
       "595244229                                    Shawn Mendes   \n",
       "90166754                                   Capital Cities   \n",
       "423336107                        Witt Lowry Feat. Ava Max   \n",
       "573239716                                        Doja Cat   \n",
       "560348547                                   Justin Bieber   \n",
       "70679146                                        Tom Odell   \n",
       "588355736                                           Adele   \n",
       "571007966                     Marshmello & Jonas Brothers   \n",
       "565106878                              Doja Cat Feat. SZA   \n",
       "322789543  Eric Saade Feat. Gustaf Norén, Filatov & Karas   \n",
       "573239715                           Doja Cat & The Weeknd   \n",
       "\n",
       "                                                      Lyrics  \n",
       "579595745  It's a human sign When things go wrong When th...  \n",
       "587472945  There ain't no gold in this river That I've be...  \n",
       "577983490  Fuck you and your mom and your sister and your...  \n",
       "70596703   One, two, one, two, three  Oh yeah yeah Oh yea...  \n",
       "581315745  I took an arrow to the heart I never kissed a ...  \n",
       "552221348  I do the same thing I told you that I never wo...  \n",
       "573386652  One, two, three, four Ooh, ooh  Every time you...  \n",
       "584558302  You (you), you are (you are) my universe And I...  \n",
       "506004198  I summoned you, please come to me Don't bury t...  \n",
       "584941330  Kali Uchis  Oh, there's dollars all around Dol...  \n",
       "582585201  One, two, three, four  Need a boy who can cudd...  \n",
       "20112724   All the things she said All the things she sai...  \n",
       "567517788  How can life be what you want it to be? You're...  \n",
       "53080365   There's a fire starting in my heart Reaching a...  \n",
       "581842398  All my friends are toxic, all ambitionless So ...  \n",
       "317186448  Now he wants to start talking \"Go ahead,\" when...  \n",
       "581315785  This is a dark parade Another rough patch to r...  \n",
       "149909698  If you want my love He gotta do what he does I...  \n",
       "20145680   Sugar Sugar, ooh Ooh  She sits alone waiting f...  \n",
       "595244229  Are we gonna make it? Is this gonna hurt?  Oh,...  \n",
       "90166754   I could lift you up I could show you what you ...  \n",
       "423336107  I'm out of my head, out of my mind, oh, I If y...  \n",
       "573239716  Hey, woman Hey, woman  Woman Let me be your wo...  \n",
       "560348547  Youngblood thinks there's always tomorrow I mi...  \n",
       "70679146   I wanna take you somewhere so you know I care ...  \n",
       "588355736  I ain't got too much time to spend But I'll ma...  \n",
       "571007966  I see you calling I didn't wanna leave you lik...  \n",
       "565106878  We hug and, yes, we make love And always just ...  \n",
       "322789543  You keep me wide awake every day, every weeken...  \n",
       "573239715  I got a man but I want you I got a man but I w...  "
      ]
     },
     "execution_count": 184,
     "metadata": {},
     "output_type": "execute_result"
    }
   ],
   "source": [
    "# Remove songs without lyrics\n",
    "\n",
    "lyrics_df.drop(lyrics_df.loc[lyrics_df['Lyrics'] == ''].index.tolist(), inplace=True)\n",
    "lyrics_df.head(30)"
   ]
  },
  {
   "cell_type": "code",
   "execution_count": 252,
   "id": "1196d78d-359b-4f0e-94e5-b670552b7919",
   "metadata": {},
   "outputs": [
    {
     "data": {
      "text/html": [
       "<div>\n",
       "<style scoped>\n",
       "    .dataframe tbody tr th:only-of-type {\n",
       "        vertical-align: middle;\n",
       "    }\n",
       "\n",
       "    .dataframe tbody tr th {\n",
       "        vertical-align: top;\n",
       "    }\n",
       "\n",
       "    .dataframe thead th {\n",
       "        text-align: right;\n",
       "    }\n",
       "</style>\n",
       "<table border=\"1\" class=\"dataframe\">\n",
       "  <thead>\n",
       "    <tr style=\"text-align: right;\">\n",
       "      <th></th>\n",
       "      <th>Track Name</th>\n",
       "      <th>Artists</th>\n",
       "      <th>Lyrics</th>\n",
       "    </tr>\n",
       "  </thead>\n",
       "  <tbody>\n",
       "    <tr>\n",
       "      <th>579595745</th>\n",
       "      <td>Cold Heart (PNAU Remix)</td>\n",
       "      <td>Elton John &amp; Dua Lipa</td>\n",
       "      <td>It's a human sign When things go wrong When th...</td>\n",
       "    </tr>\n",
       "    <tr>\n",
       "      <th>587472945</th>\n",
       "      <td>Easy On Me</td>\n",
       "      <td>Adele</td>\n",
       "      <td>There ain't no gold in this river That I've be...</td>\n",
       "    </tr>\n",
       "    <tr>\n",
       "      <th>577983490</th>\n",
       "      <td>abcdefu</td>\n",
       "      <td>GAYLE</td>\n",
       "      <td>Fuck you and your mom and your sister and your...</td>\n",
       "    </tr>\n",
       "    <tr>\n",
       "      <th>70596703</th>\n",
       "      <td>Locked Out Of Heaven</td>\n",
       "      <td>Bruno Mars</td>\n",
       "      <td>One, two, one, two, three  Oh yeah yeah Oh yea...</td>\n",
       "    </tr>\n",
       "    <tr>\n",
       "      <th>581315745</th>\n",
       "      <td>Shivers</td>\n",
       "      <td>Ed Sheeran</td>\n",
       "      <td>I took an arrow to the heart I never kissed a ...</td>\n",
       "    </tr>\n",
       "    <tr>\n",
       "      <th>552221348</th>\n",
       "      <td>Stay</td>\n",
       "      <td>The Kid LAROI &amp; Justin Bieber</td>\n",
       "      <td>I do the same thing I told you that I never wo...</td>\n",
       "    </tr>\n",
       "    <tr>\n",
       "      <th>573386652</th>\n",
       "      <td>Bad Habits</td>\n",
       "      <td>Ed Sheeran</td>\n",
       "      <td>One, two, three, four Ooh, ooh  Every time you...</td>\n",
       "    </tr>\n",
       "    <tr>\n",
       "      <th>584558302</th>\n",
       "      <td>My Universe</td>\n",
       "      <td>Coldplay &amp; BTS</td>\n",
       "      <td>You (you), you are (you are) my universe And I...</td>\n",
       "    </tr>\n",
       "    <tr>\n",
       "      <th>506004198</th>\n",
       "      <td>Middle of the Night</td>\n",
       "      <td>Elley Duhé</td>\n",
       "      <td>I summoned you, please come to me Don't bury t...</td>\n",
       "    </tr>\n",
       "    <tr>\n",
       "      <th>584941330</th>\n",
       "      <td>Sad Girlz Luv Money Remix</td>\n",
       "      <td>Amaarae &amp; Moliy Feat. Kali Uchis</td>\n",
       "      <td>Kali Uchis  Oh, there's dollars all around Dol...</td>\n",
       "    </tr>\n",
       "    <tr>\n",
       "      <th>582585201</th>\n",
       "      <td>THATS WHAT I WANT</td>\n",
       "      <td>Lil Nas X</td>\n",
       "      <td>One, two, three, four  Need a boy who can cudd...</td>\n",
       "    </tr>\n",
       "    <tr>\n",
       "      <th>20112724</th>\n",
       "      <td>All The Things She Said</td>\n",
       "      <td>t.A.T.u.</td>\n",
       "      <td>All the things she said All the things she sai...</td>\n",
       "    </tr>\n",
       "    <tr>\n",
       "      <th>567517788</th>\n",
       "      <td>Frozen</td>\n",
       "      <td>Madonna &amp; Sickick</td>\n",
       "      <td>How can life be what you want it to be? You're...</td>\n",
       "    </tr>\n",
       "    <tr>\n",
       "      <th>53080365</th>\n",
       "      <td>Rolling In The Deep</td>\n",
       "      <td>Adele</td>\n",
       "      <td>There's a fire starting in my heart Reaching a...</td>\n",
       "    </tr>\n",
       "    <tr>\n",
       "      <th>581842398</th>\n",
       "      <td>Toxic</td>\n",
       "      <td>BoyWithUke</td>\n",
       "      <td>All my friends are toxic, all ambitionless So ...</td>\n",
       "    </tr>\n",
       "    <tr>\n",
       "      <th>317186448</th>\n",
       "      <td>Pope Is a Rockstar</td>\n",
       "      <td>SALES</td>\n",
       "      <td>Now he wants to start talking \"Go ahead,\" when...</td>\n",
       "    </tr>\n",
       "    <tr>\n",
       "      <th>581315785</th>\n",
       "      <td>Overpass Graffiti</td>\n",
       "      <td>Ed Sheeran</td>\n",
       "      <td>This is a dark parade Another rough patch to r...</td>\n",
       "    </tr>\n",
       "    <tr>\n",
       "      <th>149909698</th>\n",
       "      <td>Title</td>\n",
       "      <td>Meghan Trainor</td>\n",
       "      <td>If you want my love He gotta do what he does I...</td>\n",
       "    </tr>\n",
       "    <tr>\n",
       "      <th>20145680</th>\n",
       "      <td>Da Ya Think I'm Sexy?</td>\n",
       "      <td>Rod Stewart</td>\n",
       "      <td>Sugar Sugar, ooh Ooh  She sits alone waiting f...</td>\n",
       "    </tr>\n",
       "    <tr>\n",
       "      <th>595244229</th>\n",
       "      <td>It'll Be Okay</td>\n",
       "      <td>Shawn Mendes</td>\n",
       "      <td>Are we gonna make it? Is this gonna hurt?  Oh,...</td>\n",
       "    </tr>\n",
       "    <tr>\n",
       "      <th>90166754</th>\n",
       "      <td>Safe And Sound</td>\n",
       "      <td>Capital Cities</td>\n",
       "      <td>I could lift you up I could show you what you ...</td>\n",
       "    </tr>\n",
       "    <tr>\n",
       "      <th>423336107</th>\n",
       "      <td>Into Your Arms</td>\n",
       "      <td>Witt Lowry Feat. Ava Max</td>\n",
       "      <td>I'm out of my head, out of my mind, oh, I If y...</td>\n",
       "    </tr>\n",
       "    <tr>\n",
       "      <th>573239716</th>\n",
       "      <td>Woman</td>\n",
       "      <td>Doja Cat</td>\n",
       "      <td>Hey, woman Hey, woman  Woman Let me be your wo...</td>\n",
       "    </tr>\n",
       "    <tr>\n",
       "      <th>560348547</th>\n",
       "      <td>Ghost</td>\n",
       "      <td>Justin Bieber</td>\n",
       "      <td>Youngblood thinks there's always tomorrow I mi...</td>\n",
       "    </tr>\n",
       "    <tr>\n",
       "      <th>70679146</th>\n",
       "      <td>Another Love</td>\n",
       "      <td>Tom Odell</td>\n",
       "      <td>I wanna take you somewhere so you know I care ...</td>\n",
       "    </tr>\n",
       "    <tr>\n",
       "      <th>588355736</th>\n",
       "      <td>Oh My God</td>\n",
       "      <td>Adele</td>\n",
       "      <td>I ain't got too much time to spend But I'll ma...</td>\n",
       "    </tr>\n",
       "    <tr>\n",
       "      <th>571007966</th>\n",
       "      <td>Leave Before You Love Me</td>\n",
       "      <td>Marshmello &amp; Jonas Brothers</td>\n",
       "      <td>I see you calling I didn't wanna leave you lik...</td>\n",
       "    </tr>\n",
       "    <tr>\n",
       "      <th>565106878</th>\n",
       "      <td>Kiss Me More</td>\n",
       "      <td>Doja Cat Feat. SZA</td>\n",
       "      <td>We hug and, yes, we make love And always just ...</td>\n",
       "    </tr>\n",
       "    <tr>\n",
       "      <th>322789543</th>\n",
       "      <td>Wide Awake (Red Mix)</td>\n",
       "      <td>Eric Saade Feat. Gustaf Norén, Filatov &amp; Karas</td>\n",
       "      <td>You keep me wide awake every day, every weeken...</td>\n",
       "    </tr>\n",
       "    <tr>\n",
       "      <th>573239715</th>\n",
       "      <td>You Right</td>\n",
       "      <td>Doja Cat &amp; The Weeknd</td>\n",
       "      <td>I got a man but I want you I got a man but I w...</td>\n",
       "    </tr>\n",
       "    <tr>\n",
       "      <th>257654920</th>\n",
       "      <td>All Time Low</td>\n",
       "      <td>Jon Bellion</td>\n",
       "      <td>I was the knight in shining armor in your movi...</td>\n",
       "    </tr>\n",
       "    <tr>\n",
       "      <th>308021058</th>\n",
       "      <td>Unstoppable</td>\n",
       "      <td>Sia</td>\n",
       "      <td>All smiles, I know what it takes to fool this ...</td>\n",
       "    </tr>\n",
       "    <tr>\n",
       "      <th>75559942</th>\n",
       "      <td>Gone, Gone, Gone</td>\n",
       "      <td>Phillip Phillips</td>\n",
       "      <td>When life leaves you high and dry I'll be at y...</td>\n",
       "    </tr>\n",
       "    <tr>\n",
       "      <th>573239739</th>\n",
       "      <td>Need To Know</td>\n",
       "      <td>Doja Cat</td>\n",
       "      <td>Yeah, wanna know what it's like (like) Baby, s...</td>\n",
       "    </tr>\n",
       "    <tr>\n",
       "      <th>564095960</th>\n",
       "      <td>good 4 u</td>\n",
       "      <td>Olivia Rodrigo</td>\n",
       "      <td>(Ah)  Well, good for you, I guess you moved on...</td>\n",
       "    </tr>\n",
       "    <tr>\n",
       "      <th>106807815</th>\n",
       "      <td>Only Love Can Hurt Like This</td>\n",
       "      <td>Paloma Faith</td>\n",
       "      <td>I tell myself you don't mean a thing And what ...</td>\n",
       "    </tr>\n",
       "    <tr>\n",
       "      <th>40238388</th>\n",
       "      <td>Left Outside Alone</td>\n",
       "      <td>Anastacia</td>\n",
       "      <td>All my life I've been waiting For you to bring...</td>\n",
       "    </tr>\n",
       "    <tr>\n",
       "      <th>466040067</th>\n",
       "      <td>Dance Monkey</td>\n",
       "      <td>Tones And I</td>\n",
       "      <td>They say, \"Oh my God, I see the way you shine\"...</td>\n",
       "    </tr>\n",
       "    <tr>\n",
       "      <th>549952578</th>\n",
       "      <td>drivers license</td>\n",
       "      <td>Olivia Rodrigo</td>\n",
       "      <td>I got my driver's license last week Just like ...</td>\n",
       "    </tr>\n",
       "    <tr>\n",
       "      <th>342514741</th>\n",
       "      <td>Perfect</td>\n",
       "      <td>Ed Sheeran</td>\n",
       "      <td>I found a love for me Oh darling, just dive ri...</td>\n",
       "    </tr>\n",
       "    <tr>\n",
       "      <th>350525567</th>\n",
       "      <td>There's Nothing Holdin' Me Back</td>\n",
       "      <td>Shawn Mendes</td>\n",
       "      <td>I wanna follow where she goes I think about he...</td>\n",
       "    </tr>\n",
       "    <tr>\n",
       "      <th>451333839</th>\n",
       "      <td>Nothing Breaks Like A Heart</td>\n",
       "      <td>Mark Ronson Feat. Miley Cyrus</td>\n",
       "      <td>This world can hurt you It cuts you deep and l...</td>\n",
       "    </tr>\n",
       "    <tr>\n",
       "      <th>538322038</th>\n",
       "      <td>Levitating</td>\n",
       "      <td>Dua Lipa Feat. DaBaby</td>\n",
       "      <td>Billboard Baby, Dua Lipa make 'em dance when i...</td>\n",
       "    </tr>\n",
       "    <tr>\n",
       "      <th>511164515</th>\n",
       "      <td>Love Again</td>\n",
       "      <td>Dua Lipa</td>\n",
       "      <td>I never thought that I would find a way out I ...</td>\n",
       "    </tr>\n",
       "    <tr>\n",
       "      <th>460791620</th>\n",
       "      <td>Arcade</td>\n",
       "      <td>Duncan Laurence</td>\n",
       "      <td>A broken heart is all that's left I'm still fi...</td>\n",
       "    </tr>\n",
       "    <tr>\n",
       "      <th>556102751</th>\n",
       "      <td>MONTERO (Call Me By Your Name)</td>\n",
       "      <td>Lil Nas X</td>\n",
       "      <td>I caught it bad yesterday You hit me with a ca...</td>\n",
       "    </tr>\n",
       "    <tr>\n",
       "      <th>2935562</th>\n",
       "      <td>Love Grows (Where My Rosemary Goes)</td>\n",
       "      <td>Edison Lighthouse</td>\n",
       "      <td>She ain't got no money Her clothes are kinda f...</td>\n",
       "    </tr>\n",
       "  </tbody>\n",
       "</table>\n",
       "</div>"
      ],
      "text/plain": [
       "                                    Track Name  \\\n",
       "579595745              Cold Heart (PNAU Remix)   \n",
       "587472945                           Easy On Me   \n",
       "577983490                              abcdefu   \n",
       "70596703                  Locked Out Of Heaven   \n",
       "581315745                              Shivers   \n",
       "552221348                                 Stay   \n",
       "573386652                           Bad Habits   \n",
       "584558302                          My Universe   \n",
       "506004198                  Middle of the Night   \n",
       "584941330            Sad Girlz Luv Money Remix   \n",
       "582585201                    THATS WHAT I WANT   \n",
       "20112724               All The Things She Said   \n",
       "567517788                               Frozen   \n",
       "53080365                   Rolling In The Deep   \n",
       "581842398                                Toxic   \n",
       "317186448                   Pope Is a Rockstar   \n",
       "581315785                    Overpass Graffiti   \n",
       "149909698                                Title   \n",
       "20145680                 Da Ya Think I'm Sexy?   \n",
       "595244229                        It'll Be Okay   \n",
       "90166754                        Safe And Sound   \n",
       "423336107                       Into Your Arms   \n",
       "573239716                                Woman   \n",
       "560348547                                Ghost   \n",
       "70679146                          Another Love   \n",
       "588355736                            Oh My God   \n",
       "571007966             Leave Before You Love Me   \n",
       "565106878                         Kiss Me More   \n",
       "322789543                 Wide Awake (Red Mix)   \n",
       "573239715                            You Right   \n",
       "257654920                         All Time Low   \n",
       "308021058                          Unstoppable   \n",
       "75559942                      Gone, Gone, Gone   \n",
       "573239739                         Need To Know   \n",
       "564095960                             good 4 u   \n",
       "106807815         Only Love Can Hurt Like This   \n",
       "40238388                    Left Outside Alone   \n",
       "466040067                         Dance Monkey   \n",
       "549952578                      drivers license   \n",
       "342514741                              Perfect   \n",
       "350525567      There's Nothing Holdin' Me Back   \n",
       "451333839          Nothing Breaks Like A Heart   \n",
       "538322038                           Levitating   \n",
       "511164515                           Love Again   \n",
       "460791620                               Arcade   \n",
       "556102751       MONTERO (Call Me By Your Name)   \n",
       "2935562    Love Grows (Where My Rosemary Goes)   \n",
       "\n",
       "                                                  Artists  \\\n",
       "579595745                           Elton John & Dua Lipa   \n",
       "587472945                                           Adele   \n",
       "577983490                                           GAYLE   \n",
       "70596703                                       Bruno Mars   \n",
       "581315745                                      Ed Sheeran   \n",
       "552221348                   The Kid LAROI & Justin Bieber   \n",
       "573386652                                      Ed Sheeran   \n",
       "584558302                                  Coldplay & BTS   \n",
       "506004198                                      Elley Duhé   \n",
       "584941330                Amaarae & Moliy Feat. Kali Uchis   \n",
       "582585201                                       Lil Nas X   \n",
       "20112724                                         t.A.T.u.   \n",
       "567517788                               Madonna & Sickick   \n",
       "53080365                                            Adele   \n",
       "581842398                                      BoyWithUke   \n",
       "317186448                                           SALES   \n",
       "581315785                                      Ed Sheeran   \n",
       "149909698                                  Meghan Trainor   \n",
       "20145680                                      Rod Stewart   \n",
       "595244229                                    Shawn Mendes   \n",
       "90166754                                   Capital Cities   \n",
       "423336107                        Witt Lowry Feat. Ava Max   \n",
       "573239716                                        Doja Cat   \n",
       "560348547                                   Justin Bieber   \n",
       "70679146                                        Tom Odell   \n",
       "588355736                                           Adele   \n",
       "571007966                     Marshmello & Jonas Brothers   \n",
       "565106878                              Doja Cat Feat. SZA   \n",
       "322789543  Eric Saade Feat. Gustaf Norén, Filatov & Karas   \n",
       "573239715                           Doja Cat & The Weeknd   \n",
       "257654920                                     Jon Bellion   \n",
       "308021058                                             Sia   \n",
       "75559942                                 Phillip Phillips   \n",
       "573239739                                        Doja Cat   \n",
       "564095960                                  Olivia Rodrigo   \n",
       "106807815                                    Paloma Faith   \n",
       "40238388                                        Anastacia   \n",
       "466040067                                     Tones And I   \n",
       "549952578                                  Olivia Rodrigo   \n",
       "342514741                                      Ed Sheeran   \n",
       "350525567                                    Shawn Mendes   \n",
       "451333839                   Mark Ronson Feat. Miley Cyrus   \n",
       "538322038                           Dua Lipa Feat. DaBaby   \n",
       "511164515                                        Dua Lipa   \n",
       "460791620                                 Duncan Laurence   \n",
       "556102751                                       Lil Nas X   \n",
       "2935562                                 Edison Lighthouse   \n",
       "\n",
       "                                                      Lyrics  \n",
       "579595745  It's a human sign When things go wrong When th...  \n",
       "587472945  There ain't no gold in this river That I've be...  \n",
       "577983490  Fuck you and your mom and your sister and your...  \n",
       "70596703   One, two, one, two, three  Oh yeah yeah Oh yea...  \n",
       "581315745  I took an arrow to the heart I never kissed a ...  \n",
       "552221348  I do the same thing I told you that I never wo...  \n",
       "573386652  One, two, three, four Ooh, ooh  Every time you...  \n",
       "584558302  You (you), you are (you are) my universe And I...  \n",
       "506004198  I summoned you, please come to me Don't bury t...  \n",
       "584941330  Kali Uchis  Oh, there's dollars all around Dol...  \n",
       "582585201  One, two, three, four  Need a boy who can cudd...  \n",
       "20112724   All the things she said All the things she sai...  \n",
       "567517788  How can life be what you want it to be? You're...  \n",
       "53080365   There's a fire starting in my heart Reaching a...  \n",
       "581842398  All my friends are toxic, all ambitionless So ...  \n",
       "317186448  Now he wants to start talking \"Go ahead,\" when...  \n",
       "581315785  This is a dark parade Another rough patch to r...  \n",
       "149909698  If you want my love He gotta do what he does I...  \n",
       "20145680   Sugar Sugar, ooh Ooh  She sits alone waiting f...  \n",
       "595244229  Are we gonna make it? Is this gonna hurt?  Oh,...  \n",
       "90166754   I could lift you up I could show you what you ...  \n",
       "423336107  I'm out of my head, out of my mind, oh, I If y...  \n",
       "573239716  Hey, woman Hey, woman  Woman Let me be your wo...  \n",
       "560348547  Youngblood thinks there's always tomorrow I mi...  \n",
       "70679146   I wanna take you somewhere so you know I care ...  \n",
       "588355736  I ain't got too much time to spend But I'll ma...  \n",
       "571007966  I see you calling I didn't wanna leave you lik...  \n",
       "565106878  We hug and, yes, we make love And always just ...  \n",
       "322789543  You keep me wide awake every day, every weeken...  \n",
       "573239715  I got a man but I want you I got a man but I w...  \n",
       "257654920  I was the knight in shining armor in your movi...  \n",
       "308021058  All smiles, I know what it takes to fool this ...  \n",
       "75559942   When life leaves you high and dry I'll be at y...  \n",
       "573239739  Yeah, wanna know what it's like (like) Baby, s...  \n",
       "564095960  (Ah)  Well, good for you, I guess you moved on...  \n",
       "106807815  I tell myself you don't mean a thing And what ...  \n",
       "40238388   All my life I've been waiting For you to bring...  \n",
       "466040067  They say, \"Oh my God, I see the way you shine\"...  \n",
       "549952578  I got my driver's license last week Just like ...  \n",
       "342514741  I found a love for me Oh darling, just dive ri...  \n",
       "350525567  I wanna follow where she goes I think about he...  \n",
       "451333839  This world can hurt you It cuts you deep and l...  \n",
       "538322038  Billboard Baby, Dua Lipa make 'em dance when i...  \n",
       "511164515  I never thought that I would find a way out I ...  \n",
       "460791620  A broken heart is all that's left I'm still fi...  \n",
       "556102751  I caught it bad yesterday You hit me with a ca...  \n",
       "2935562    She ain't got no money Her clothes are kinda f...  "
      ]
     },
     "execution_count": 252,
     "metadata": {},
     "output_type": "execute_result"
    }
   ],
   "source": [
    "#Remove non english lyrics\n",
    "new_lyrics_df = lyrics_df.drop(\n",
    "    [\n",
    "        '588485896'\n",
    "    ]\n",
    ")\n",
    "new_lyrics_df"
   ]
  },
  {
   "cell_type": "markdown",
   "id": "2891aa26-d00a-479c-a7cb-f35322183590",
   "metadata": {},
   "source": [
    "# Tokenizer\n",
    "In this section, we use NLTK and Python to tokenize the text. This will include:\n",
    "\n",
    "- Lowercase each word\n",
    "- Remove Punctuation\n",
    "- Remove Stopwords"
   ]
  },
  {
   "cell_type": "code",
   "execution_count": 253,
   "id": "35550f2f-1a98-4944-a2e2-6b91920ff1c6",
   "metadata": {},
   "outputs": [],
   "source": [
    "# Instantiate the lemmatizer\n",
    "lemmatizer = WordNetLemmatizer()"
   ]
  },
  {
   "cell_type": "code",
   "execution_count": 254,
   "id": "4ecab873-7dde-478f-bc6d-fa11e289c431",
   "metadata": {},
   "outputs": [],
   "source": [
    "def tokenizer(Lyrics):\n",
    "    \"\"\"Tokenizes text.\"\"\"\n",
    "    # Create a list of the words\n",
    "    words_tokened = word_tokenize(Lyrics)\n",
    "\n",
    "    # Convert the words to lowercase\n",
    "    words_lowered = [word.lower() for word in words_tokened]\n",
    "\n",
    "    # Remove the punctuation\n",
    "    regex = re.compile('[^a-zA-Z]')\n",
    "    words_regexed = [regex.sub('', word) for word in words_lowered]\n",
    "    \n",
    "    # Remove the stop words\n",
    "    sw = set(stopwords.words('english'))\n",
    "    sw_add_ons = [ 'christmas', 'fuck', 'doo', '', 'ah', 'ca', 'na', 'Doo', 'doo', 'nt', 'ay', 'wan', 'wo', 'ta', 'oh', 'ohoh', 'cause', 'Romano', 'mistletoe', 'christmas', 'jingle', 'santa', 'dick', 'Hitmaka', 'fuckin', \"fuckin'\", 'fuck', 'shit', 'nigga', 'niggas', 'bitch', 'motherfucker', 'Motherfucker', 'dick']\n",
    "    stopwords_removed = [word.lower() for word in words_regexed if word not in sw.union(sw_add_ons)]\n",
    "\n",
    "    # Lemmatize Words into root words\n",
    "    lemmatizer = WordNetLemmatizer()\n",
    "    tokens = [lemmatizer.lemmatize(word) for word in stopwords_removed]\n",
    "\n",
    "    return tokens"
   ]
  },
  {
   "cell_type": "code",
   "execution_count": 255,
   "id": "933b7f64-7002-47ad-b886-0370e04a55bc",
   "metadata": {},
   "outputs": [
    {
     "data": {
      "text/html": [
       "<div>\n",
       "<style scoped>\n",
       "    .dataframe tbody tr th:only-of-type {\n",
       "        vertical-align: middle;\n",
       "    }\n",
       "\n",
       "    .dataframe tbody tr th {\n",
       "        vertical-align: top;\n",
       "    }\n",
       "\n",
       "    .dataframe thead th {\n",
       "        text-align: right;\n",
       "    }\n",
       "</style>\n",
       "<table border=\"1\" class=\"dataframe\">\n",
       "  <thead>\n",
       "    <tr style=\"text-align: right;\">\n",
       "      <th></th>\n",
       "      <th>Track Name</th>\n",
       "      <th>Artists</th>\n",
       "      <th>Lyrics</th>\n",
       "      <th>Tokens</th>\n",
       "    </tr>\n",
       "  </thead>\n",
       "  <tbody>\n",
       "    <tr>\n",
       "      <th>579595745</th>\n",
       "      <td>Cold Heart (PNAU Remix)</td>\n",
       "      <td>Elton John &amp; Dua Lipa</td>\n",
       "      <td>It's a human sign When things go wrong When th...</td>\n",
       "      <td>[human, sign, thing, go, wrong, scent, lingers...</td>\n",
       "    </tr>\n",
       "    <tr>\n",
       "      <th>587472945</th>\n",
       "      <td>Easy On Me</td>\n",
       "      <td>Adele</td>\n",
       "      <td>There ain't no gold in this river That I've be...</td>\n",
       "      <td>[ai, gold, river, washing, hand, forever, know...</td>\n",
       "    </tr>\n",
       "    <tr>\n",
       "      <th>577983490</th>\n",
       "      <td>abcdefu</td>\n",
       "      <td>GAYLE</td>\n",
       "      <td>Fuck you and your mom and your sister and your...</td>\n",
       "      <td>[mom, sister, job, brokeass, car, call, art, f...</td>\n",
       "    </tr>\n",
       "    <tr>\n",
       "      <th>70596703</th>\n",
       "      <td>Locked Out Of Heaven</td>\n",
       "      <td>Bruno Mars</td>\n",
       "      <td>One, two, one, two, three  Oh yeah yeah Oh yea...</td>\n",
       "      <td>[one, two, one, two, three, yeah, yeah, yeah, ...</td>\n",
       "    </tr>\n",
       "    <tr>\n",
       "      <th>581315745</th>\n",
       "      <td>Shivers</td>\n",
       "      <td>Ed Sheeran</td>\n",
       "      <td>I took an arrow to the heart I never kissed a ...</td>\n",
       "      <td>[took, arrow, heart, never, kissed, mouth, tas...</td>\n",
       "    </tr>\n",
       "  </tbody>\n",
       "</table>\n",
       "</div>"
      ],
      "text/plain": [
       "                        Track Name                Artists  \\\n",
       "579595745  Cold Heart (PNAU Remix)  Elton John & Dua Lipa   \n",
       "587472945               Easy On Me                  Adele   \n",
       "577983490                  abcdefu                  GAYLE   \n",
       "70596703      Locked Out Of Heaven             Bruno Mars   \n",
       "581315745                  Shivers             Ed Sheeran   \n",
       "\n",
       "                                                      Lyrics  \\\n",
       "579595745  It's a human sign When things go wrong When th...   \n",
       "587472945  There ain't no gold in this river That I've be...   \n",
       "577983490  Fuck you and your mom and your sister and your...   \n",
       "70596703   One, two, one, two, three  Oh yeah yeah Oh yea...   \n",
       "581315745  I took an arrow to the heart I never kissed a ...   \n",
       "\n",
       "                                                      Tokens  \n",
       "579595745  [human, sign, thing, go, wrong, scent, lingers...  \n",
       "587472945  [ai, gold, river, washing, hand, forever, know...  \n",
       "577983490  [mom, sister, job, brokeass, car, call, art, f...  \n",
       "70596703   [one, two, one, two, three, yeah, yeah, yeah, ...  \n",
       "581315745  [took, arrow, heart, never, kissed, mouth, tas...  "
      ]
     },
     "execution_count": 255,
     "metadata": {},
     "output_type": "execute_result"
    }
   ],
   "source": [
    "# Create a new tokens column for lyrics\n",
    "lyrics_tokens = [tokenizer(words) for words in new_lyrics_df['Lyrics']]\n",
    "new_lyrics_df['Tokens'] = lyrics_tokens\n",
    "new_lyrics_df.head()"
   ]
  },
  {
   "cell_type": "code",
   "execution_count": 258,
   "id": "ecf7ad13-d951-464d-8631-19bf0b94f322",
   "metadata": {},
   "outputs": [
    {
     "data": {
      "text/html": [
       "<div>\n",
       "<style scoped>\n",
       "    .dataframe tbody tr th:only-of-type {\n",
       "        vertical-align: middle;\n",
       "    }\n",
       "\n",
       "    .dataframe tbody tr th {\n",
       "        vertical-align: top;\n",
       "    }\n",
       "\n",
       "    .dataframe thead th {\n",
       "        text-align: right;\n",
       "    }\n",
       "</style>\n",
       "<table border=\"1\" class=\"dataframe\">\n",
       "  <thead>\n",
       "    <tr style=\"text-align: right;\">\n",
       "      <th></th>\n",
       "      <th>index</th>\n",
       "      <th>Track Name</th>\n",
       "      <th>Artists</th>\n",
       "      <th>Lyrics</th>\n",
       "      <th>Tokens</th>\n",
       "    </tr>\n",
       "  </thead>\n",
       "  <tbody>\n",
       "    <tr>\n",
       "      <th>0</th>\n",
       "      <td>579595745</td>\n",
       "      <td>Cold Heart (PNAU Remix)</td>\n",
       "      <td>Elton John &amp; Dua Lipa</td>\n",
       "      <td>It's a human sign When things go wrong When th...</td>\n",
       "      <td>[human, sign, thing, go, wrong, scent, lingers...</td>\n",
       "    </tr>\n",
       "    <tr>\n",
       "      <th>1</th>\n",
       "      <td>587472945</td>\n",
       "      <td>Easy On Me</td>\n",
       "      <td>Adele</td>\n",
       "      <td>There ain't no gold in this river That I've be...</td>\n",
       "      <td>[ai, gold, river, washing, hand, forever, know...</td>\n",
       "    </tr>\n",
       "    <tr>\n",
       "      <th>2</th>\n",
       "      <td>577983490</td>\n",
       "      <td>abcdefu</td>\n",
       "      <td>GAYLE</td>\n",
       "      <td>Fuck you and your mom and your sister and your...</td>\n",
       "      <td>[mom, sister, job, brokeass, car, call, art, f...</td>\n",
       "    </tr>\n",
       "    <tr>\n",
       "      <th>3</th>\n",
       "      <td>70596703</td>\n",
       "      <td>Locked Out Of Heaven</td>\n",
       "      <td>Bruno Mars</td>\n",
       "      <td>One, two, one, two, three  Oh yeah yeah Oh yea...</td>\n",
       "      <td>[one, two, one, two, three, yeah, yeah, yeah, ...</td>\n",
       "    </tr>\n",
       "    <tr>\n",
       "      <th>4</th>\n",
       "      <td>581315745</td>\n",
       "      <td>Shivers</td>\n",
       "      <td>Ed Sheeran</td>\n",
       "      <td>I took an arrow to the heart I never kissed a ...</td>\n",
       "      <td>[took, arrow, heart, never, kissed, mouth, tas...</td>\n",
       "    </tr>\n",
       "    <tr>\n",
       "      <th>5</th>\n",
       "      <td>552221348</td>\n",
       "      <td>Stay</td>\n",
       "      <td>The Kid LAROI &amp; Justin Bieber</td>\n",
       "      <td>I do the same thing I told you that I never wo...</td>\n",
       "      <td>[thing, told, never, would, told, change, even...</td>\n",
       "    </tr>\n",
       "    <tr>\n",
       "      <th>6</th>\n",
       "      <td>573386652</td>\n",
       "      <td>Bad Habits</td>\n",
       "      <td>Ed Sheeran</td>\n",
       "      <td>One, two, three, four Ooh, ooh  Every time you...</td>\n",
       "      <td>[one, two, three, four, ooh, ooh, every, time,...</td>\n",
       "    </tr>\n",
       "    <tr>\n",
       "      <th>7</th>\n",
       "      <td>584558302</td>\n",
       "      <td>My Universe</td>\n",
       "      <td>Coldplay &amp; BTS</td>\n",
       "      <td>You (you), you are (you are) my universe And I...</td>\n",
       "      <td>[universe, want, want, put, first, universe, n...</td>\n",
       "    </tr>\n",
       "    <tr>\n",
       "      <th>8</th>\n",
       "      <td>506004198</td>\n",
       "      <td>Middle of the Night</td>\n",
       "      <td>Elley Duhé</td>\n",
       "      <td>I summoned you, please come to me Don't bury t...</td>\n",
       "      <td>[summoned, please, come, bury, thought, really...</td>\n",
       "    </tr>\n",
       "    <tr>\n",
       "      <th>9</th>\n",
       "      <td>584941330</td>\n",
       "      <td>Sad Girlz Luv Money Remix</td>\n",
       "      <td>Amaarae &amp; Moliy Feat. Kali Uchis</td>\n",
       "      <td>Kali Uchis  Oh, there's dollars all around Dol...</td>\n",
       "      <td>[kali, uchis, dollar, around, dollar, dollar, ...</td>\n",
       "    </tr>\n",
       "    <tr>\n",
       "      <th>10</th>\n",
       "      <td>582585201</td>\n",
       "      <td>THATS WHAT I WANT</td>\n",
       "      <td>Lil Nas X</td>\n",
       "      <td>One, two, three, four  Need a boy who can cudd...</td>\n",
       "      <td>[one, two, three, four, need, boy, cuddle, nig...</td>\n",
       "    </tr>\n",
       "    <tr>\n",
       "      <th>11</th>\n",
       "      <td>20112724</td>\n",
       "      <td>All The Things She Said</td>\n",
       "      <td>t.A.T.u.</td>\n",
       "      <td>All the things she said All the things she sai...</td>\n",
       "      <td>[thing, said, thing, said, runnin, head, runni...</td>\n",
       "    </tr>\n",
       "    <tr>\n",
       "      <th>12</th>\n",
       "      <td>567517788</td>\n",
       "      <td>Frozen</td>\n",
       "      <td>Madonna &amp; Sickick</td>\n",
       "      <td>How can life be what you want it to be? You're...</td>\n",
       "      <td>[life, want, frozen, heart, open, mmmhmm, coul...</td>\n",
       "    </tr>\n",
       "    <tr>\n",
       "      <th>13</th>\n",
       "      <td>53080365</td>\n",
       "      <td>Rolling In The Deep</td>\n",
       "      <td>Adele</td>\n",
       "      <td>There's a fire starting in my heart Reaching a...</td>\n",
       "      <td>[fire, starting, heart, reaching, fever, pitch...</td>\n",
       "    </tr>\n",
       "    <tr>\n",
       "      <th>14</th>\n",
       "      <td>581842398</td>\n",
       "      <td>Toxic</td>\n",
       "      <td>BoyWithUke</td>\n",
       "      <td>All my friends are toxic, all ambitionless So ...</td>\n",
       "      <td>[friend, toxic, ambitionless, rude, always, ne...</td>\n",
       "    </tr>\n",
       "    <tr>\n",
       "      <th>15</th>\n",
       "      <td>317186448</td>\n",
       "      <td>Pope Is a Rockstar</td>\n",
       "      <td>SALES</td>\n",
       "      <td>Now he wants to start talking \"Go ahead,\" when...</td>\n",
       "      <td>[want, start, talking, go, ahead, walking, fac...</td>\n",
       "    </tr>\n",
       "    <tr>\n",
       "      <th>16</th>\n",
       "      <td>581315785</td>\n",
       "      <td>Overpass Graffiti</td>\n",
       "      <td>Ed Sheeran</td>\n",
       "      <td>This is a dark parade Another rough patch to r...</td>\n",
       "      <td>[dark, parade, another, rough, patch, rain, ra...</td>\n",
       "    </tr>\n",
       "    <tr>\n",
       "      <th>17</th>\n",
       "      <td>149909698</td>\n",
       "      <td>Title</td>\n",
       "      <td>Meghan Trainor</td>\n",
       "      <td>If you want my love He gotta do what he does I...</td>\n",
       "      <td>[want, love, got, want, sweet, like, sugar, gu...</td>\n",
       "    </tr>\n",
       "    <tr>\n",
       "      <th>18</th>\n",
       "      <td>20145680</td>\n",
       "      <td>Da Ya Think I'm Sexy?</td>\n",
       "      <td>Rod Stewart</td>\n",
       "      <td>Sugar Sugar, ooh Ooh  She sits alone waiting f...</td>\n",
       "      <td>[sugar, sugar, ooh, ooh, sits, alone, waiting,...</td>\n",
       "    </tr>\n",
       "    <tr>\n",
       "      <th>19</th>\n",
       "      <td>595244229</td>\n",
       "      <td>It'll Be Okay</td>\n",
       "      <td>Shawn Mendes</td>\n",
       "      <td>Are we gonna make it? Is this gonna hurt?  Oh,...</td>\n",
       "      <td>[gon, make, gon, hurt, try, sedate, never, wor...</td>\n",
       "    </tr>\n",
       "    <tr>\n",
       "      <th>20</th>\n",
       "      <td>90166754</td>\n",
       "      <td>Safe And Sound</td>\n",
       "      <td>Capital Cities</td>\n",
       "      <td>I could lift you up I could show you what you ...</td>\n",
       "      <td>[could, lift, could, show, see, take, could, l...</td>\n",
       "    </tr>\n",
       "    <tr>\n",
       "      <th>21</th>\n",
       "      <td>423336107</td>\n",
       "      <td>Into Your Arms</td>\n",
       "      <td>Witt Lowry Feat. Ava Max</td>\n",
       "      <td>I'm out of my head, out of my mind, oh, I If y...</td>\n",
       "      <td>[head, mind, let, dress, arm, tonight, yeah, l...</td>\n",
       "    </tr>\n",
       "    <tr>\n",
       "      <th>22</th>\n",
       "      <td>573239716</td>\n",
       "      <td>Woman</td>\n",
       "      <td>Doja Cat</td>\n",
       "      <td>Hey, woman Hey, woman  Woman Let me be your wo...</td>\n",
       "      <td>[hey, woman, hey, woman, woman, let, woman, wo...</td>\n",
       "    </tr>\n",
       "    <tr>\n",
       "      <th>23</th>\n",
       "      <td>560348547</td>\n",
       "      <td>Ghost</td>\n",
       "      <td>Justin Bieber</td>\n",
       "      <td>Youngblood thinks there's always tomorrow I mi...</td>\n",
       "      <td>[youngblood, think, always, tomorrow, miss, to...</td>\n",
       "    </tr>\n",
       "    <tr>\n",
       "      <th>24</th>\n",
       "      <td>70679146</td>\n",
       "      <td>Another Love</td>\n",
       "      <td>Tom Odell</td>\n",
       "      <td>I wanna take you somewhere so you know I care ...</td>\n",
       "      <td>[take, somewhere, know, care, cold, know, brou...</td>\n",
       "    </tr>\n",
       "    <tr>\n",
       "      <th>25</th>\n",
       "      <td>588355736</td>\n",
       "      <td>Oh My God</td>\n",
       "      <td>Adele</td>\n",
       "      <td>I ain't got too much time to spend But I'll ma...</td>\n",
       "      <td>[ai, got, much, time, spend, make, time, show,...</td>\n",
       "    </tr>\n",
       "    <tr>\n",
       "      <th>26</th>\n",
       "      <td>571007966</td>\n",
       "      <td>Leave Before You Love Me</td>\n",
       "      <td>Marshmello &amp; Jonas Brothers</td>\n",
       "      <td>I see you calling I didn't wanna leave you lik...</td>\n",
       "      <td>[see, calling, leave, like, five, morning, yea...</td>\n",
       "    </tr>\n",
       "    <tr>\n",
       "      <th>27</th>\n",
       "      <td>565106878</td>\n",
       "      <td>Kiss Me More</td>\n",
       "      <td>Doja Cat Feat. SZA</td>\n",
       "      <td>We hug and, yes, we make love And always just ...</td>\n",
       "      <td>[hug, yes, make, love, always, say, goodnight,...</td>\n",
       "    </tr>\n",
       "    <tr>\n",
       "      <th>28</th>\n",
       "      <td>322789543</td>\n",
       "      <td>Wide Awake (Red Mix)</td>\n",
       "      <td>Eric Saade Feat. Gustaf Norén, Filatov &amp; Karas</td>\n",
       "      <td>You keep me wide awake every day, every weeken...</td>\n",
       "      <td>[keep, wide, awake, every, day, every, weekend...</td>\n",
       "    </tr>\n",
       "    <tr>\n",
       "      <th>29</th>\n",
       "      <td>573239715</td>\n",
       "      <td>You Right</td>\n",
       "      <td>Doja Cat &amp; The Weeknd</td>\n",
       "      <td>I got a man but I want you I got a man but I w...</td>\n",
       "      <td>[got, man, want, got, man, want, nerve, makin,...</td>\n",
       "    </tr>\n",
       "    <tr>\n",
       "      <th>30</th>\n",
       "      <td>257654920</td>\n",
       "      <td>All Time Low</td>\n",
       "      <td>Jon Bellion</td>\n",
       "      <td>I was the knight in shining armor in your movi...</td>\n",
       "      <td>[knight, shining, armor, movie, would, put, li...</td>\n",
       "    </tr>\n",
       "    <tr>\n",
       "      <th>31</th>\n",
       "      <td>308021058</td>\n",
       "      <td>Unstoppable</td>\n",
       "      <td>Sia</td>\n",
       "      <td>All smiles, I know what it takes to fool this ...</td>\n",
       "      <td>[smile, know, take, fool, town, til, sun, go, ...</td>\n",
       "    </tr>\n",
       "    <tr>\n",
       "      <th>32</th>\n",
       "      <td>75559942</td>\n",
       "      <td>Gone, Gone, Gone</td>\n",
       "      <td>Phillip Phillips</td>\n",
       "      <td>When life leaves you high and dry I'll be at y...</td>\n",
       "      <td>[life, leaf, high, dry, door, tonight, need, h...</td>\n",
       "    </tr>\n",
       "    <tr>\n",
       "      <th>33</th>\n",
       "      <td>573239739</td>\n",
       "      <td>Need To Know</td>\n",
       "      <td>Doja Cat</td>\n",
       "      <td>Yeah, wanna know what it's like (like) Baby, s...</td>\n",
       "      <td>[yeah, know, like, like, baby, show, like, lik...</td>\n",
       "    </tr>\n",
       "    <tr>\n",
       "      <th>34</th>\n",
       "      <td>564095960</td>\n",
       "      <td>good 4 u</td>\n",
       "      <td>Olivia Rodrigo</td>\n",
       "      <td>(Ah)  Well, good for you, I guess you moved on...</td>\n",
       "      <td>[well, good, guess, moved, really, easily, fou...</td>\n",
       "    </tr>\n",
       "    <tr>\n",
       "      <th>35</th>\n",
       "      <td>106807815</td>\n",
       "      <td>Only Love Can Hurt Like This</td>\n",
       "      <td>Paloma Faith</td>\n",
       "      <td>I tell myself you don't mean a thing And what ...</td>\n",
       "      <td>[tell, mean, thing, got, got, hold, crumble, t...</td>\n",
       "    </tr>\n",
       "    <tr>\n",
       "      <th>36</th>\n",
       "      <td>40238388</td>\n",
       "      <td>Left Outside Alone</td>\n",
       "      <td>Anastacia</td>\n",
       "      <td>All my life I've been waiting For you to bring...</td>\n",
       "      <td>[life, waiting, bring, fairy, tale, way, livin...</td>\n",
       "    </tr>\n",
       "    <tr>\n",
       "      <th>37</th>\n",
       "      <td>466040067</td>\n",
       "      <td>Dance Monkey</td>\n",
       "      <td>Tones And I</td>\n",
       "      <td>They say, \"Oh my God, I see the way you shine\"...</td>\n",
       "      <td>[say, god, see, way, shine, take, hand, dear, ...</td>\n",
       "    </tr>\n",
       "    <tr>\n",
       "      <th>38</th>\n",
       "      <td>549952578</td>\n",
       "      <td>drivers license</td>\n",
       "      <td>Olivia Rodrigo</td>\n",
       "      <td>I got my driver's license last week Just like ...</td>\n",
       "      <td>[got, driver, license, last, week, like, alway...</td>\n",
       "    </tr>\n",
       "    <tr>\n",
       "      <th>39</th>\n",
       "      <td>342514741</td>\n",
       "      <td>Perfect</td>\n",
       "      <td>Ed Sheeran</td>\n",
       "      <td>I found a love for me Oh darling, just dive ri...</td>\n",
       "      <td>[found, love, darling, dive, right, follow, le...</td>\n",
       "    </tr>\n",
       "    <tr>\n",
       "      <th>40</th>\n",
       "      <td>350525567</td>\n",
       "      <td>There's Nothing Holdin' Me Back</td>\n",
       "      <td>Shawn Mendes</td>\n",
       "      <td>I wanna follow where she goes I think about he...</td>\n",
       "      <td>[follow, go, think, know, let, take, control, ...</td>\n",
       "    </tr>\n",
       "    <tr>\n",
       "      <th>41</th>\n",
       "      <td>451333839</td>\n",
       "      <td>Nothing Breaks Like A Heart</td>\n",
       "      <td>Mark Ronson Feat. Miley Cyrus</td>\n",
       "      <td>This world can hurt you It cuts you deep and l...</td>\n",
       "      <td>[world, hurt, cut, deep, leaf, scar, thing, fa...</td>\n",
       "    </tr>\n",
       "    <tr>\n",
       "      <th>42</th>\n",
       "      <td>538322038</td>\n",
       "      <td>Levitating</td>\n",
       "      <td>Dua Lipa Feat. DaBaby</td>\n",
       "      <td>Billboard Baby, Dua Lipa make 'em dance when i...</td>\n",
       "      <td>[billboard, baby, dua, lipa, make, em, dance, ...</td>\n",
       "    </tr>\n",
       "    <tr>\n",
       "      <th>43</th>\n",
       "      <td>511164515</td>\n",
       "      <td>Love Again</td>\n",
       "      <td>Dua Lipa</td>\n",
       "      <td>I never thought that I would find a way out I ...</td>\n",
       "      <td>[never, thought, would, find, way, never, thou...</td>\n",
       "    </tr>\n",
       "    <tr>\n",
       "      <th>44</th>\n",
       "      <td>460791620</td>\n",
       "      <td>Arcade</td>\n",
       "      <td>Duncan Laurence</td>\n",
       "      <td>A broken heart is all that's left I'm still fi...</td>\n",
       "      <td>[broken, heart, left, still, fixing, crack, lo...</td>\n",
       "    </tr>\n",
       "    <tr>\n",
       "      <th>45</th>\n",
       "      <td>556102751</td>\n",
       "      <td>MONTERO (Call Me By Your Name)</td>\n",
       "      <td>Lil Nas X</td>\n",
       "      <td>I caught it bad yesterday You hit me with a ca...</td>\n",
       "      <td>[caught, bad, yesterday, hit, call, place, ai,...</td>\n",
       "    </tr>\n",
       "    <tr>\n",
       "      <th>46</th>\n",
       "      <td>2935562</td>\n",
       "      <td>Love Grows (Where My Rosemary Goes)</td>\n",
       "      <td>Edison Lighthouse</td>\n",
       "      <td>She ain't got no money Her clothes are kinda f...</td>\n",
       "      <td>[ai, got, money, clothes, kinda, funny, hair, ...</td>\n",
       "    </tr>\n",
       "  </tbody>\n",
       "</table>\n",
       "</div>"
      ],
      "text/plain": [
       "        index                           Track Name  \\\n",
       "0   579595745              Cold Heart (PNAU Remix)   \n",
       "1   587472945                           Easy On Me   \n",
       "2   577983490                              abcdefu   \n",
       "3    70596703                 Locked Out Of Heaven   \n",
       "4   581315745                              Shivers   \n",
       "5   552221348                                 Stay   \n",
       "6   573386652                           Bad Habits   \n",
       "7   584558302                          My Universe   \n",
       "8   506004198                  Middle of the Night   \n",
       "9   584941330            Sad Girlz Luv Money Remix   \n",
       "10  582585201                    THATS WHAT I WANT   \n",
       "11   20112724              All The Things She Said   \n",
       "12  567517788                               Frozen   \n",
       "13   53080365                  Rolling In The Deep   \n",
       "14  581842398                                Toxic   \n",
       "15  317186448                   Pope Is a Rockstar   \n",
       "16  581315785                    Overpass Graffiti   \n",
       "17  149909698                                Title   \n",
       "18   20145680                Da Ya Think I'm Sexy?   \n",
       "19  595244229                        It'll Be Okay   \n",
       "20   90166754                       Safe And Sound   \n",
       "21  423336107                       Into Your Arms   \n",
       "22  573239716                                Woman   \n",
       "23  560348547                                Ghost   \n",
       "24   70679146                         Another Love   \n",
       "25  588355736                            Oh My God   \n",
       "26  571007966             Leave Before You Love Me   \n",
       "27  565106878                         Kiss Me More   \n",
       "28  322789543                 Wide Awake (Red Mix)   \n",
       "29  573239715                            You Right   \n",
       "30  257654920                         All Time Low   \n",
       "31  308021058                          Unstoppable   \n",
       "32   75559942                     Gone, Gone, Gone   \n",
       "33  573239739                         Need To Know   \n",
       "34  564095960                             good 4 u   \n",
       "35  106807815         Only Love Can Hurt Like This   \n",
       "36   40238388                   Left Outside Alone   \n",
       "37  466040067                         Dance Monkey   \n",
       "38  549952578                      drivers license   \n",
       "39  342514741                              Perfect   \n",
       "40  350525567      There's Nothing Holdin' Me Back   \n",
       "41  451333839          Nothing Breaks Like A Heart   \n",
       "42  538322038                           Levitating   \n",
       "43  511164515                           Love Again   \n",
       "44  460791620                               Arcade   \n",
       "45  556102751       MONTERO (Call Me By Your Name)   \n",
       "46    2935562  Love Grows (Where My Rosemary Goes)   \n",
       "\n",
       "                                           Artists  \\\n",
       "0                            Elton John & Dua Lipa   \n",
       "1                                            Adele   \n",
       "2                                            GAYLE   \n",
       "3                                       Bruno Mars   \n",
       "4                                       Ed Sheeran   \n",
       "5                    The Kid LAROI & Justin Bieber   \n",
       "6                                       Ed Sheeran   \n",
       "7                                   Coldplay & BTS   \n",
       "8                                       Elley Duhé   \n",
       "9                 Amaarae & Moliy Feat. Kali Uchis   \n",
       "10                                       Lil Nas X   \n",
       "11                                        t.A.T.u.   \n",
       "12                               Madonna & Sickick   \n",
       "13                                           Adele   \n",
       "14                                      BoyWithUke   \n",
       "15                                           SALES   \n",
       "16                                      Ed Sheeran   \n",
       "17                                  Meghan Trainor   \n",
       "18                                     Rod Stewart   \n",
       "19                                    Shawn Mendes   \n",
       "20                                  Capital Cities   \n",
       "21                        Witt Lowry Feat. Ava Max   \n",
       "22                                        Doja Cat   \n",
       "23                                   Justin Bieber   \n",
       "24                                       Tom Odell   \n",
       "25                                           Adele   \n",
       "26                     Marshmello & Jonas Brothers   \n",
       "27                              Doja Cat Feat. SZA   \n",
       "28  Eric Saade Feat. Gustaf Norén, Filatov & Karas   \n",
       "29                           Doja Cat & The Weeknd   \n",
       "30                                     Jon Bellion   \n",
       "31                                             Sia   \n",
       "32                                Phillip Phillips   \n",
       "33                                        Doja Cat   \n",
       "34                                  Olivia Rodrigo   \n",
       "35                                    Paloma Faith   \n",
       "36                                       Anastacia   \n",
       "37                                     Tones And I   \n",
       "38                                  Olivia Rodrigo   \n",
       "39                                      Ed Sheeran   \n",
       "40                                    Shawn Mendes   \n",
       "41                   Mark Ronson Feat. Miley Cyrus   \n",
       "42                           Dua Lipa Feat. DaBaby   \n",
       "43                                        Dua Lipa   \n",
       "44                                 Duncan Laurence   \n",
       "45                                       Lil Nas X   \n",
       "46                               Edison Lighthouse   \n",
       "\n",
       "                                               Lyrics  \\\n",
       "0   It's a human sign When things go wrong When th...   \n",
       "1   There ain't no gold in this river That I've be...   \n",
       "2   Fuck you and your mom and your sister and your...   \n",
       "3   One, two, one, two, three  Oh yeah yeah Oh yea...   \n",
       "4   I took an arrow to the heart I never kissed a ...   \n",
       "5   I do the same thing I told you that I never wo...   \n",
       "6   One, two, three, four Ooh, ooh  Every time you...   \n",
       "7   You (you), you are (you are) my universe And I...   \n",
       "8   I summoned you, please come to me Don't bury t...   \n",
       "9   Kali Uchis  Oh, there's dollars all around Dol...   \n",
       "10  One, two, three, four  Need a boy who can cudd...   \n",
       "11  All the things she said All the things she sai...   \n",
       "12  How can life be what you want it to be? You're...   \n",
       "13  There's a fire starting in my heart Reaching a...   \n",
       "14  All my friends are toxic, all ambitionless So ...   \n",
       "15  Now he wants to start talking \"Go ahead,\" when...   \n",
       "16  This is a dark parade Another rough patch to r...   \n",
       "17  If you want my love He gotta do what he does I...   \n",
       "18  Sugar Sugar, ooh Ooh  She sits alone waiting f...   \n",
       "19  Are we gonna make it? Is this gonna hurt?  Oh,...   \n",
       "20  I could lift you up I could show you what you ...   \n",
       "21  I'm out of my head, out of my mind, oh, I If y...   \n",
       "22  Hey, woman Hey, woman  Woman Let me be your wo...   \n",
       "23  Youngblood thinks there's always tomorrow I mi...   \n",
       "24  I wanna take you somewhere so you know I care ...   \n",
       "25  I ain't got too much time to spend But I'll ma...   \n",
       "26  I see you calling I didn't wanna leave you lik...   \n",
       "27  We hug and, yes, we make love And always just ...   \n",
       "28  You keep me wide awake every day, every weeken...   \n",
       "29  I got a man but I want you I got a man but I w...   \n",
       "30  I was the knight in shining armor in your movi...   \n",
       "31  All smiles, I know what it takes to fool this ...   \n",
       "32  When life leaves you high and dry I'll be at y...   \n",
       "33  Yeah, wanna know what it's like (like) Baby, s...   \n",
       "34  (Ah)  Well, good for you, I guess you moved on...   \n",
       "35  I tell myself you don't mean a thing And what ...   \n",
       "36  All my life I've been waiting For you to bring...   \n",
       "37  They say, \"Oh my God, I see the way you shine\"...   \n",
       "38  I got my driver's license last week Just like ...   \n",
       "39  I found a love for me Oh darling, just dive ri...   \n",
       "40  I wanna follow where she goes I think about he...   \n",
       "41  This world can hurt you It cuts you deep and l...   \n",
       "42  Billboard Baby, Dua Lipa make 'em dance when i...   \n",
       "43  I never thought that I would find a way out I ...   \n",
       "44  A broken heart is all that's left I'm still fi...   \n",
       "45  I caught it bad yesterday You hit me with a ca...   \n",
       "46  She ain't got no money Her clothes are kinda f...   \n",
       "\n",
       "                                               Tokens  \n",
       "0   [human, sign, thing, go, wrong, scent, lingers...  \n",
       "1   [ai, gold, river, washing, hand, forever, know...  \n",
       "2   [mom, sister, job, brokeass, car, call, art, f...  \n",
       "3   [one, two, one, two, three, yeah, yeah, yeah, ...  \n",
       "4   [took, arrow, heart, never, kissed, mouth, tas...  \n",
       "5   [thing, told, never, would, told, change, even...  \n",
       "6   [one, two, three, four, ooh, ooh, every, time,...  \n",
       "7   [universe, want, want, put, first, universe, n...  \n",
       "8   [summoned, please, come, bury, thought, really...  \n",
       "9   [kali, uchis, dollar, around, dollar, dollar, ...  \n",
       "10  [one, two, three, four, need, boy, cuddle, nig...  \n",
       "11  [thing, said, thing, said, runnin, head, runni...  \n",
       "12  [life, want, frozen, heart, open, mmmhmm, coul...  \n",
       "13  [fire, starting, heart, reaching, fever, pitch...  \n",
       "14  [friend, toxic, ambitionless, rude, always, ne...  \n",
       "15  [want, start, talking, go, ahead, walking, fac...  \n",
       "16  [dark, parade, another, rough, patch, rain, ra...  \n",
       "17  [want, love, got, want, sweet, like, sugar, gu...  \n",
       "18  [sugar, sugar, ooh, ooh, sits, alone, waiting,...  \n",
       "19  [gon, make, gon, hurt, try, sedate, never, wor...  \n",
       "20  [could, lift, could, show, see, take, could, l...  \n",
       "21  [head, mind, let, dress, arm, tonight, yeah, l...  \n",
       "22  [hey, woman, hey, woman, woman, let, woman, wo...  \n",
       "23  [youngblood, think, always, tomorrow, miss, to...  \n",
       "24  [take, somewhere, know, care, cold, know, brou...  \n",
       "25  [ai, got, much, time, spend, make, time, show,...  \n",
       "26  [see, calling, leave, like, five, morning, yea...  \n",
       "27  [hug, yes, make, love, always, say, goodnight,...  \n",
       "28  [keep, wide, awake, every, day, every, weekend...  \n",
       "29  [got, man, want, got, man, want, nerve, makin,...  \n",
       "30  [knight, shining, armor, movie, would, put, li...  \n",
       "31  [smile, know, take, fool, town, til, sun, go, ...  \n",
       "32  [life, leaf, high, dry, door, tonight, need, h...  \n",
       "33  [yeah, know, like, like, baby, show, like, lik...  \n",
       "34  [well, good, guess, moved, really, easily, fou...  \n",
       "35  [tell, mean, thing, got, got, hold, crumble, t...  \n",
       "36  [life, waiting, bring, fairy, tale, way, livin...  \n",
       "37  [say, god, see, way, shine, take, hand, dear, ...  \n",
       "38  [got, driver, license, last, week, like, alway...  \n",
       "39  [found, love, darling, dive, right, follow, le...  \n",
       "40  [follow, go, think, know, let, take, control, ...  \n",
       "41  [world, hurt, cut, deep, leaf, scar, thing, fa...  \n",
       "42  [billboard, baby, dua, lipa, make, em, dance, ...  \n",
       "43  [never, thought, would, find, way, never, thou...  \n",
       "44  [broken, heart, left, still, fixing, crack, lo...  \n",
       "45  [caught, bad, yesterday, hit, call, place, ai,...  \n",
       "46  [ai, got, money, clothes, kinda, funny, hair, ...  "
      ]
     },
     "execution_count": 258,
     "metadata": {},
     "output_type": "execute_result"
    }
   ],
   "source": [
    "new_lyrics_df.reset_index(inplace=True)\n",
    "new_lyrics_df"
   ]
  },
  {
   "cell_type": "code",
   "execution_count": 259,
   "id": "2299cebc-617b-47c0-a76f-b02bf9cfef2b",
   "metadata": {},
   "outputs": [
    {
     "data": {
      "text/html": [
       "<div>\n",
       "<style scoped>\n",
       "    .dataframe tbody tr th:only-of-type {\n",
       "        vertical-align: middle;\n",
       "    }\n",
       "\n",
       "    .dataframe tbody tr th {\n",
       "        vertical-align: top;\n",
       "    }\n",
       "\n",
       "    .dataframe thead th {\n",
       "        text-align: right;\n",
       "    }\n",
       "</style>\n",
       "<table border=\"1\" class=\"dataframe\">\n",
       "  <thead>\n",
       "    <tr style=\"text-align: right;\">\n",
       "      <th></th>\n",
       "      <th>Lyrics</th>\n",
       "      <th>Tokens</th>\n",
       "    </tr>\n",
       "  </thead>\n",
       "  <tbody>\n",
       "    <tr>\n",
       "      <th>0</th>\n",
       "      <td>It's a human sign When things go wrong When th...</td>\n",
       "      <td>[human, sign, thing, go, wrong, scent, lingers...</td>\n",
       "    </tr>\n",
       "    <tr>\n",
       "      <th>1</th>\n",
       "      <td>There ain't no gold in this river That I've be...</td>\n",
       "      <td>[ai, gold, river, washing, hand, forever, know...</td>\n",
       "    </tr>\n",
       "    <tr>\n",
       "      <th>2</th>\n",
       "      <td>Fuck you and your mom and your sister and your...</td>\n",
       "      <td>[mom, sister, job, brokeass, car, call, art, f...</td>\n",
       "    </tr>\n",
       "    <tr>\n",
       "      <th>3</th>\n",
       "      <td>One, two, one, two, three  Oh yeah yeah Oh yea...</td>\n",
       "      <td>[one, two, one, two, three, yeah, yeah, yeah, ...</td>\n",
       "    </tr>\n",
       "    <tr>\n",
       "      <th>4</th>\n",
       "      <td>I took an arrow to the heart I never kissed a ...</td>\n",
       "      <td>[took, arrow, heart, never, kissed, mouth, tas...</td>\n",
       "    </tr>\n",
       "    <tr>\n",
       "      <th>5</th>\n",
       "      <td>I do the same thing I told you that I never wo...</td>\n",
       "      <td>[thing, told, never, would, told, change, even...</td>\n",
       "    </tr>\n",
       "    <tr>\n",
       "      <th>6</th>\n",
       "      <td>One, two, three, four Ooh, ooh  Every time you...</td>\n",
       "      <td>[one, two, three, four, ooh, ooh, every, time,...</td>\n",
       "    </tr>\n",
       "    <tr>\n",
       "      <th>7</th>\n",
       "      <td>You (you), you are (you are) my universe And I...</td>\n",
       "      <td>[universe, want, want, put, first, universe, n...</td>\n",
       "    </tr>\n",
       "    <tr>\n",
       "      <th>8</th>\n",
       "      <td>I summoned you, please come to me Don't bury t...</td>\n",
       "      <td>[summoned, please, come, bury, thought, really...</td>\n",
       "    </tr>\n",
       "    <tr>\n",
       "      <th>9</th>\n",
       "      <td>Kali Uchis  Oh, there's dollars all around Dol...</td>\n",
       "      <td>[kali, uchis, dollar, around, dollar, dollar, ...</td>\n",
       "    </tr>\n",
       "    <tr>\n",
       "      <th>10</th>\n",
       "      <td>One, two, three, four  Need a boy who can cudd...</td>\n",
       "      <td>[one, two, three, four, need, boy, cuddle, nig...</td>\n",
       "    </tr>\n",
       "    <tr>\n",
       "      <th>11</th>\n",
       "      <td>All the things she said All the things she sai...</td>\n",
       "      <td>[thing, said, thing, said, runnin, head, runni...</td>\n",
       "    </tr>\n",
       "    <tr>\n",
       "      <th>12</th>\n",
       "      <td>How can life be what you want it to be? You're...</td>\n",
       "      <td>[life, want, frozen, heart, open, mmmhmm, coul...</td>\n",
       "    </tr>\n",
       "    <tr>\n",
       "      <th>13</th>\n",
       "      <td>There's a fire starting in my heart Reaching a...</td>\n",
       "      <td>[fire, starting, heart, reaching, fever, pitch...</td>\n",
       "    </tr>\n",
       "    <tr>\n",
       "      <th>14</th>\n",
       "      <td>All my friends are toxic, all ambitionless So ...</td>\n",
       "      <td>[friend, toxic, ambitionless, rude, always, ne...</td>\n",
       "    </tr>\n",
       "    <tr>\n",
       "      <th>15</th>\n",
       "      <td>Now he wants to start talking \"Go ahead,\" when...</td>\n",
       "      <td>[want, start, talking, go, ahead, walking, fac...</td>\n",
       "    </tr>\n",
       "    <tr>\n",
       "      <th>16</th>\n",
       "      <td>This is a dark parade Another rough patch to r...</td>\n",
       "      <td>[dark, parade, another, rough, patch, rain, ra...</td>\n",
       "    </tr>\n",
       "    <tr>\n",
       "      <th>17</th>\n",
       "      <td>If you want my love He gotta do what he does I...</td>\n",
       "      <td>[want, love, got, want, sweet, like, sugar, gu...</td>\n",
       "    </tr>\n",
       "    <tr>\n",
       "      <th>18</th>\n",
       "      <td>Sugar Sugar, ooh Ooh  She sits alone waiting f...</td>\n",
       "      <td>[sugar, sugar, ooh, ooh, sits, alone, waiting,...</td>\n",
       "    </tr>\n",
       "    <tr>\n",
       "      <th>19</th>\n",
       "      <td>Are we gonna make it? Is this gonna hurt?  Oh,...</td>\n",
       "      <td>[gon, make, gon, hurt, try, sedate, never, wor...</td>\n",
       "    </tr>\n",
       "    <tr>\n",
       "      <th>20</th>\n",
       "      <td>I could lift you up I could show you what you ...</td>\n",
       "      <td>[could, lift, could, show, see, take, could, l...</td>\n",
       "    </tr>\n",
       "    <tr>\n",
       "      <th>21</th>\n",
       "      <td>I'm out of my head, out of my mind, oh, I If y...</td>\n",
       "      <td>[head, mind, let, dress, arm, tonight, yeah, l...</td>\n",
       "    </tr>\n",
       "    <tr>\n",
       "      <th>22</th>\n",
       "      <td>Hey, woman Hey, woman  Woman Let me be your wo...</td>\n",
       "      <td>[hey, woman, hey, woman, woman, let, woman, wo...</td>\n",
       "    </tr>\n",
       "    <tr>\n",
       "      <th>23</th>\n",
       "      <td>Youngblood thinks there's always tomorrow I mi...</td>\n",
       "      <td>[youngblood, think, always, tomorrow, miss, to...</td>\n",
       "    </tr>\n",
       "    <tr>\n",
       "      <th>24</th>\n",
       "      <td>I wanna take you somewhere so you know I care ...</td>\n",
       "      <td>[take, somewhere, know, care, cold, know, brou...</td>\n",
       "    </tr>\n",
       "    <tr>\n",
       "      <th>25</th>\n",
       "      <td>I ain't got too much time to spend But I'll ma...</td>\n",
       "      <td>[ai, got, much, time, spend, make, time, show,...</td>\n",
       "    </tr>\n",
       "    <tr>\n",
       "      <th>26</th>\n",
       "      <td>I see you calling I didn't wanna leave you lik...</td>\n",
       "      <td>[see, calling, leave, like, five, morning, yea...</td>\n",
       "    </tr>\n",
       "    <tr>\n",
       "      <th>27</th>\n",
       "      <td>We hug and, yes, we make love And always just ...</td>\n",
       "      <td>[hug, yes, make, love, always, say, goodnight,...</td>\n",
       "    </tr>\n",
       "    <tr>\n",
       "      <th>28</th>\n",
       "      <td>You keep me wide awake every day, every weeken...</td>\n",
       "      <td>[keep, wide, awake, every, day, every, weekend...</td>\n",
       "    </tr>\n",
       "    <tr>\n",
       "      <th>29</th>\n",
       "      <td>I got a man but I want you I got a man but I w...</td>\n",
       "      <td>[got, man, want, got, man, want, nerve, makin,...</td>\n",
       "    </tr>\n",
       "    <tr>\n",
       "      <th>30</th>\n",
       "      <td>I was the knight in shining armor in your movi...</td>\n",
       "      <td>[knight, shining, armor, movie, would, put, li...</td>\n",
       "    </tr>\n",
       "    <tr>\n",
       "      <th>31</th>\n",
       "      <td>All smiles, I know what it takes to fool this ...</td>\n",
       "      <td>[smile, know, take, fool, town, til, sun, go, ...</td>\n",
       "    </tr>\n",
       "    <tr>\n",
       "      <th>32</th>\n",
       "      <td>When life leaves you high and dry I'll be at y...</td>\n",
       "      <td>[life, leaf, high, dry, door, tonight, need, h...</td>\n",
       "    </tr>\n",
       "    <tr>\n",
       "      <th>33</th>\n",
       "      <td>Yeah, wanna know what it's like (like) Baby, s...</td>\n",
       "      <td>[yeah, know, like, like, baby, show, like, lik...</td>\n",
       "    </tr>\n",
       "    <tr>\n",
       "      <th>34</th>\n",
       "      <td>(Ah)  Well, good for you, I guess you moved on...</td>\n",
       "      <td>[well, good, guess, moved, really, easily, fou...</td>\n",
       "    </tr>\n",
       "    <tr>\n",
       "      <th>35</th>\n",
       "      <td>I tell myself you don't mean a thing And what ...</td>\n",
       "      <td>[tell, mean, thing, got, got, hold, crumble, t...</td>\n",
       "    </tr>\n",
       "    <tr>\n",
       "      <th>36</th>\n",
       "      <td>All my life I've been waiting For you to bring...</td>\n",
       "      <td>[life, waiting, bring, fairy, tale, way, livin...</td>\n",
       "    </tr>\n",
       "    <tr>\n",
       "      <th>37</th>\n",
       "      <td>They say, \"Oh my God, I see the way you shine\"...</td>\n",
       "      <td>[say, god, see, way, shine, take, hand, dear, ...</td>\n",
       "    </tr>\n",
       "    <tr>\n",
       "      <th>38</th>\n",
       "      <td>I got my driver's license last week Just like ...</td>\n",
       "      <td>[got, driver, license, last, week, like, alway...</td>\n",
       "    </tr>\n",
       "    <tr>\n",
       "      <th>39</th>\n",
       "      <td>I found a love for me Oh darling, just dive ri...</td>\n",
       "      <td>[found, love, darling, dive, right, follow, le...</td>\n",
       "    </tr>\n",
       "    <tr>\n",
       "      <th>40</th>\n",
       "      <td>I wanna follow where she goes I think about he...</td>\n",
       "      <td>[follow, go, think, know, let, take, control, ...</td>\n",
       "    </tr>\n",
       "    <tr>\n",
       "      <th>41</th>\n",
       "      <td>This world can hurt you It cuts you deep and l...</td>\n",
       "      <td>[world, hurt, cut, deep, leaf, scar, thing, fa...</td>\n",
       "    </tr>\n",
       "    <tr>\n",
       "      <th>42</th>\n",
       "      <td>Billboard Baby, Dua Lipa make 'em dance when i...</td>\n",
       "      <td>[billboard, baby, dua, lipa, make, em, dance, ...</td>\n",
       "    </tr>\n",
       "    <tr>\n",
       "      <th>43</th>\n",
       "      <td>I never thought that I would find a way out I ...</td>\n",
       "      <td>[never, thought, would, find, way, never, thou...</td>\n",
       "    </tr>\n",
       "    <tr>\n",
       "      <th>44</th>\n",
       "      <td>A broken heart is all that's left I'm still fi...</td>\n",
       "      <td>[broken, heart, left, still, fixing, crack, lo...</td>\n",
       "    </tr>\n",
       "    <tr>\n",
       "      <th>45</th>\n",
       "      <td>I caught it bad yesterday You hit me with a ca...</td>\n",
       "      <td>[caught, bad, yesterday, hit, call, place, ai,...</td>\n",
       "    </tr>\n",
       "    <tr>\n",
       "      <th>46</th>\n",
       "      <td>She ain't got no money Her clothes are kinda f...</td>\n",
       "      <td>[ai, got, money, clothes, kinda, funny, hair, ...</td>\n",
       "    </tr>\n",
       "  </tbody>\n",
       "</table>\n",
       "</div>"
      ],
      "text/plain": [
       "                                               Lyrics  \\\n",
       "0   It's a human sign When things go wrong When th...   \n",
       "1   There ain't no gold in this river That I've be...   \n",
       "2   Fuck you and your mom and your sister and your...   \n",
       "3   One, two, one, two, three  Oh yeah yeah Oh yea...   \n",
       "4   I took an arrow to the heart I never kissed a ...   \n",
       "5   I do the same thing I told you that I never wo...   \n",
       "6   One, two, three, four Ooh, ooh  Every time you...   \n",
       "7   You (you), you are (you are) my universe And I...   \n",
       "8   I summoned you, please come to me Don't bury t...   \n",
       "9   Kali Uchis  Oh, there's dollars all around Dol...   \n",
       "10  One, two, three, four  Need a boy who can cudd...   \n",
       "11  All the things she said All the things she sai...   \n",
       "12  How can life be what you want it to be? You're...   \n",
       "13  There's a fire starting in my heart Reaching a...   \n",
       "14  All my friends are toxic, all ambitionless So ...   \n",
       "15  Now he wants to start talking \"Go ahead,\" when...   \n",
       "16  This is a dark parade Another rough patch to r...   \n",
       "17  If you want my love He gotta do what he does I...   \n",
       "18  Sugar Sugar, ooh Ooh  She sits alone waiting f...   \n",
       "19  Are we gonna make it? Is this gonna hurt?  Oh,...   \n",
       "20  I could lift you up I could show you what you ...   \n",
       "21  I'm out of my head, out of my mind, oh, I If y...   \n",
       "22  Hey, woman Hey, woman  Woman Let me be your wo...   \n",
       "23  Youngblood thinks there's always tomorrow I mi...   \n",
       "24  I wanna take you somewhere so you know I care ...   \n",
       "25  I ain't got too much time to spend But I'll ma...   \n",
       "26  I see you calling I didn't wanna leave you lik...   \n",
       "27  We hug and, yes, we make love And always just ...   \n",
       "28  You keep me wide awake every day, every weeken...   \n",
       "29  I got a man but I want you I got a man but I w...   \n",
       "30  I was the knight in shining armor in your movi...   \n",
       "31  All smiles, I know what it takes to fool this ...   \n",
       "32  When life leaves you high and dry I'll be at y...   \n",
       "33  Yeah, wanna know what it's like (like) Baby, s...   \n",
       "34  (Ah)  Well, good for you, I guess you moved on...   \n",
       "35  I tell myself you don't mean a thing And what ...   \n",
       "36  All my life I've been waiting For you to bring...   \n",
       "37  They say, \"Oh my God, I see the way you shine\"...   \n",
       "38  I got my driver's license last week Just like ...   \n",
       "39  I found a love for me Oh darling, just dive ri...   \n",
       "40  I wanna follow where she goes I think about he...   \n",
       "41  This world can hurt you It cuts you deep and l...   \n",
       "42  Billboard Baby, Dua Lipa make 'em dance when i...   \n",
       "43  I never thought that I would find a way out I ...   \n",
       "44  A broken heart is all that's left I'm still fi...   \n",
       "45  I caught it bad yesterday You hit me with a ca...   \n",
       "46  She ain't got no money Her clothes are kinda f...   \n",
       "\n",
       "                                               Tokens  \n",
       "0   [human, sign, thing, go, wrong, scent, lingers...  \n",
       "1   [ai, gold, river, washing, hand, forever, know...  \n",
       "2   [mom, sister, job, brokeass, car, call, art, f...  \n",
       "3   [one, two, one, two, three, yeah, yeah, yeah, ...  \n",
       "4   [took, arrow, heart, never, kissed, mouth, tas...  \n",
       "5   [thing, told, never, would, told, change, even...  \n",
       "6   [one, two, three, four, ooh, ooh, every, time,...  \n",
       "7   [universe, want, want, put, first, universe, n...  \n",
       "8   [summoned, please, come, bury, thought, really...  \n",
       "9   [kali, uchis, dollar, around, dollar, dollar, ...  \n",
       "10  [one, two, three, four, need, boy, cuddle, nig...  \n",
       "11  [thing, said, thing, said, runnin, head, runni...  \n",
       "12  [life, want, frozen, heart, open, mmmhmm, coul...  \n",
       "13  [fire, starting, heart, reaching, fever, pitch...  \n",
       "14  [friend, toxic, ambitionless, rude, always, ne...  \n",
       "15  [want, start, talking, go, ahead, walking, fac...  \n",
       "16  [dark, parade, another, rough, patch, rain, ra...  \n",
       "17  [want, love, got, want, sweet, like, sugar, gu...  \n",
       "18  [sugar, sugar, ooh, ooh, sits, alone, waiting,...  \n",
       "19  [gon, make, gon, hurt, try, sedate, never, wor...  \n",
       "20  [could, lift, could, show, see, take, could, l...  \n",
       "21  [head, mind, let, dress, arm, tonight, yeah, l...  \n",
       "22  [hey, woman, hey, woman, woman, let, woman, wo...  \n",
       "23  [youngblood, think, always, tomorrow, miss, to...  \n",
       "24  [take, somewhere, know, care, cold, know, brou...  \n",
       "25  [ai, got, much, time, spend, make, time, show,...  \n",
       "26  [see, calling, leave, like, five, morning, yea...  \n",
       "27  [hug, yes, make, love, always, say, goodnight,...  \n",
       "28  [keep, wide, awake, every, day, every, weekend...  \n",
       "29  [got, man, want, got, man, want, nerve, makin,...  \n",
       "30  [knight, shining, armor, movie, would, put, li...  \n",
       "31  [smile, know, take, fool, town, til, sun, go, ...  \n",
       "32  [life, leaf, high, dry, door, tonight, need, h...  \n",
       "33  [yeah, know, like, like, baby, show, like, lik...  \n",
       "34  [well, good, guess, moved, really, easily, fou...  \n",
       "35  [tell, mean, thing, got, got, hold, crumble, t...  \n",
       "36  [life, waiting, bring, fairy, tale, way, livin...  \n",
       "37  [say, god, see, way, shine, take, hand, dear, ...  \n",
       "38  [got, driver, license, last, week, like, alway...  \n",
       "39  [found, love, darling, dive, right, follow, le...  \n",
       "40  [follow, go, think, know, let, take, control, ...  \n",
       "41  [world, hurt, cut, deep, leaf, scar, thing, fa...  \n",
       "42  [billboard, baby, dua, lipa, make, em, dance, ...  \n",
       "43  [never, thought, would, find, way, never, thou...  \n",
       "44  [broken, heart, left, still, fixing, crack, lo...  \n",
       "45  [caught, bad, yesterday, hit, call, place, ai,...  \n",
       "46  [ai, got, money, clothes, kinda, funny, hair, ...  "
      ]
     },
     "execution_count": 259,
     "metadata": {},
     "output_type": "execute_result"
    }
   ],
   "source": [
    "new_lyrics_df[['Lyrics', 'Tokens']]"
   ]
  },
  {
   "cell_type": "markdown",
   "id": "2d639785-fdbd-451e-8d7a-e44e3b10af1c",
   "metadata": {
    "tags": []
   },
   "source": [
    "# Calculating VADER Sentiment Score for LYRICS\n",
    "\n",
    "As you know the `compound` score could be used to get a normalized score for a sentiment. We create a function called `get_sentiment(score)` that will return a normalized value of sentiment for the `score` parameter based on the rules. This function should return `1` for positive sentiment, `-1` for negative sentiment, and `0` for neutral sentiment."
   ]
  },
  {
   "cell_type": "code",
   "execution_count": 260,
   "id": "cc0145cf-bcd7-41b6-83bb-767b0a6757f8",
   "metadata": {},
   "outputs": [
    {
     "name": "stderr",
     "output_type": "stream",
     "text": [
      "[nltk_data] Downloading package vader_lexicon to\n",
      "[nltk_data]     /Users/moniqueferguson/nltk_data...\n",
      "[nltk_data]   Package vader_lexicon is already up-to-date!\n"
     ]
    }
   ],
   "source": [
    "# Download/Update the VADER Lexicon\n",
    "nltk.download(\"vader_lexicon\")\n",
    "\n",
    "# Initialize the VADER sentiment analyzer\n",
    "analyzer = SentimentIntensityAnalyzer()"
   ]
  },
  {
   "cell_type": "code",
   "execution_count": 261,
   "id": "77b1f713-313d-469d-a9df-19861494af5e",
   "metadata": {},
   "outputs": [],
   "source": [
    "# Sentiment calculation based on compound score\n",
    "def get_sentiment(score):\n",
    "    \"\"\"\n",
    "    Calculates the sentiment based on the compound score.\n",
    "    \"\"\"\n",
    "    result = 0  # Neutral by default\n",
    "    if score >= 0.05:  # Positive\n",
    "        result = 1\n",
    "    elif score <= -0.05:  # Negative\n",
    "        result = -1\n",
    "\n",
    "    return result"
   ]
  },
  {
   "cell_type": "code",
   "execution_count": 262,
   "id": "78be27ce-8f53-4ce8-a1b2-9ee03d5cc909",
   "metadata": {},
   "outputs": [
    {
     "data": {
      "text/html": [
       "<div>\n",
       "<style scoped>\n",
       "    .dataframe tbody tr th:only-of-type {\n",
       "        vertical-align: middle;\n",
       "    }\n",
       "\n",
       "    .dataframe tbody tr th {\n",
       "        vertical-align: top;\n",
       "    }\n",
       "\n",
       "    .dataframe thead th {\n",
       "        text-align: right;\n",
       "    }\n",
       "</style>\n",
       "<table border=\"1\" class=\"dataframe\">\n",
       "  <thead>\n",
       "    <tr style=\"text-align: right;\">\n",
       "      <th></th>\n",
       "      <th>index</th>\n",
       "      <th>Track Name</th>\n",
       "      <th>Artists</th>\n",
       "      <th>Lyrics</th>\n",
       "      <th>Tokens</th>\n",
       "      <th>lyrics_compound</th>\n",
       "      <th>lyrics_pos</th>\n",
       "      <th>lyrics_neu</th>\n",
       "      <th>lyrics_neg</th>\n",
       "      <th>lyrics_sent</th>\n",
       "    </tr>\n",
       "  </thead>\n",
       "  <tbody>\n",
       "    <tr>\n",
       "      <th>0</th>\n",
       "      <td>579595745</td>\n",
       "      <td>Cold Heart (PNAU Remix)</td>\n",
       "      <td>Elton John &amp; Dua Lipa</td>\n",
       "      <td>It's a human sign When things go wrong When th...</td>\n",
       "      <td>[human, sign, thing, go, wrong, scent, lingers...</td>\n",
       "      <td>-0.9942</td>\n",
       "      <td>0.064</td>\n",
       "      <td>0.654</td>\n",
       "      <td>0.282</td>\n",
       "      <td>-1</td>\n",
       "    </tr>\n",
       "    <tr>\n",
       "      <th>1</th>\n",
       "      <td>587472945</td>\n",
       "      <td>Easy On Me</td>\n",
       "      <td>Adele</td>\n",
       "      <td>There ain't no gold in this river That I've be...</td>\n",
       "      <td>[ai, gold, river, washing, hand, forever, know...</td>\n",
       "      <td>0.9888</td>\n",
       "      <td>0.210</td>\n",
       "      <td>0.746</td>\n",
       "      <td>0.043</td>\n",
       "      <td>1</td>\n",
       "    </tr>\n",
       "    <tr>\n",
       "      <th>2</th>\n",
       "      <td>577983490</td>\n",
       "      <td>abcdefu</td>\n",
       "      <td>GAYLE</td>\n",
       "      <td>Fuck you and your mom and your sister and your...</td>\n",
       "      <td>[mom, sister, job, brokeass, car, call, art, f...</td>\n",
       "      <td>-0.9957</td>\n",
       "      <td>0.091</td>\n",
       "      <td>0.651</td>\n",
       "      <td>0.259</td>\n",
       "      <td>-1</td>\n",
       "    </tr>\n",
       "    <tr>\n",
       "      <th>3</th>\n",
       "      <td>70596703</td>\n",
       "      <td>Locked Out Of Heaven</td>\n",
       "      <td>Bruno Mars</td>\n",
       "      <td>One, two, one, two, three  Oh yeah yeah Oh yea...</td>\n",
       "      <td>[one, two, one, two, three, yeah, yeah, yeah, ...</td>\n",
       "      <td>0.9996</td>\n",
       "      <td>0.439</td>\n",
       "      <td>0.557</td>\n",
       "      <td>0.004</td>\n",
       "      <td>1</td>\n",
       "    </tr>\n",
       "    <tr>\n",
       "      <th>4</th>\n",
       "      <td>581315745</td>\n",
       "      <td>Shivers</td>\n",
       "      <td>Ed Sheeran</td>\n",
       "      <td>I took an arrow to the heart I never kissed a ...</td>\n",
       "      <td>[took, arrow, heart, never, kissed, mouth, tas...</td>\n",
       "      <td>0.9974</td>\n",
       "      <td>0.179</td>\n",
       "      <td>0.789</td>\n",
       "      <td>0.031</td>\n",
       "      <td>1</td>\n",
       "    </tr>\n",
       "    <tr>\n",
       "      <th>5</th>\n",
       "      <td>552221348</td>\n",
       "      <td>Stay</td>\n",
       "      <td>The Kid LAROI &amp; Justin Bieber</td>\n",
       "      <td>I do the same thing I told you that I never wo...</td>\n",
       "      <td>[thing, told, never, would, told, change, even...</td>\n",
       "      <td>-0.6610</td>\n",
       "      <td>0.072</td>\n",
       "      <td>0.843</td>\n",
       "      <td>0.085</td>\n",
       "      <td>-1</td>\n",
       "    </tr>\n",
       "    <tr>\n",
       "      <th>6</th>\n",
       "      <td>573386652</td>\n",
       "      <td>Bad Habits</td>\n",
       "      <td>Ed Sheeran</td>\n",
       "      <td>One, two, three, four Ooh, ooh  Every time you...</td>\n",
       "      <td>[one, two, three, four, ooh, ooh, every, time,...</td>\n",
       "      <td>-0.9949</td>\n",
       "      <td>0.106</td>\n",
       "      <td>0.684</td>\n",
       "      <td>0.210</td>\n",
       "      <td>-1</td>\n",
       "    </tr>\n",
       "    <tr>\n",
       "      <th>7</th>\n",
       "      <td>584558302</td>\n",
       "      <td>My Universe</td>\n",
       "      <td>Coldplay &amp; BTS</td>\n",
       "      <td>You (you), you are (you are) my universe And I...</td>\n",
       "      <td>[universe, want, want, put, first, universe, n...</td>\n",
       "      <td>0.7210</td>\n",
       "      <td>0.038</td>\n",
       "      <td>0.954</td>\n",
       "      <td>0.008</td>\n",
       "      <td>1</td>\n",
       "    </tr>\n",
       "    <tr>\n",
       "      <th>8</th>\n",
       "      <td>506004198</td>\n",
       "      <td>Middle of the Night</td>\n",
       "      <td>Elley Duhé</td>\n",
       "      <td>I summoned you, please come to me Don't bury t...</td>\n",
       "      <td>[summoned, please, come, bury, thought, really...</td>\n",
       "      <td>0.9306</td>\n",
       "      <td>0.069</td>\n",
       "      <td>0.910</td>\n",
       "      <td>0.021</td>\n",
       "      <td>1</td>\n",
       "    </tr>\n",
       "    <tr>\n",
       "      <th>9</th>\n",
       "      <td>584941330</td>\n",
       "      <td>Sad Girlz Luv Money Remix</td>\n",
       "      <td>Amaarae &amp; Moliy Feat. Kali Uchis</td>\n",
       "      <td>Kali Uchis  Oh, there's dollars all around Dol...</td>\n",
       "      <td>[kali, uchis, dollar, around, dollar, dollar, ...</td>\n",
       "      <td>0.9973</td>\n",
       "      <td>0.220</td>\n",
       "      <td>0.719</td>\n",
       "      <td>0.061</td>\n",
       "      <td>1</td>\n",
       "    </tr>\n",
       "    <tr>\n",
       "      <th>10</th>\n",
       "      <td>582585201</td>\n",
       "      <td>THATS WHAT I WANT</td>\n",
       "      <td>Lil Nas X</td>\n",
       "      <td>One, two, three, four  Need a boy who can cudd...</td>\n",
       "      <td>[one, two, three, four, need, boy, cuddle, nig...</td>\n",
       "      <td>0.9981</td>\n",
       "      <td>0.274</td>\n",
       "      <td>0.658</td>\n",
       "      <td>0.069</td>\n",
       "      <td>1</td>\n",
       "    </tr>\n",
       "    <tr>\n",
       "      <th>11</th>\n",
       "      <td>20112724</td>\n",
       "      <td>All The Things She Said</td>\n",
       "      <td>t.A.T.u.</td>\n",
       "      <td>All the things she said All the things she sai...</td>\n",
       "      <td>[thing, said, thing, said, runnin, head, runni...</td>\n",
       "      <td>0.2598</td>\n",
       "      <td>0.059</td>\n",
       "      <td>0.886</td>\n",
       "      <td>0.055</td>\n",
       "      <td>1</td>\n",
       "    </tr>\n",
       "    <tr>\n",
       "      <th>12</th>\n",
       "      <td>567517788</td>\n",
       "      <td>Frozen</td>\n",
       "      <td>Madonna &amp; Sickick</td>\n",
       "      <td>How can life be what you want it to be? You're...</td>\n",
       "      <td>[life, want, frozen, heart, open, mmmhmm, coul...</td>\n",
       "      <td>0.0772</td>\n",
       "      <td>0.015</td>\n",
       "      <td>0.985</td>\n",
       "      <td>0.000</td>\n",
       "      <td>1</td>\n",
       "    </tr>\n",
       "    <tr>\n",
       "      <th>13</th>\n",
       "      <td>53080365</td>\n",
       "      <td>Rolling In The Deep</td>\n",
       "      <td>Adele</td>\n",
       "      <td>There's a fire starting in my heart Reaching a...</td>\n",
       "      <td>[fire, starting, heart, reaching, fever, pitch...</td>\n",
       "      <td>0.9975</td>\n",
       "      <td>0.165</td>\n",
       "      <td>0.784</td>\n",
       "      <td>0.051</td>\n",
       "      <td>1</td>\n",
       "    </tr>\n",
       "    <tr>\n",
       "      <th>14</th>\n",
       "      <td>581842398</td>\n",
       "      <td>Toxic</td>\n",
       "      <td>BoyWithUke</td>\n",
       "      <td>All my friends are toxic, all ambitionless So ...</td>\n",
       "      <td>[friend, toxic, ambitionless, rude, always, ne...</td>\n",
       "      <td>0.9312</td>\n",
       "      <td>0.120</td>\n",
       "      <td>0.776</td>\n",
       "      <td>0.104</td>\n",
       "      <td>1</td>\n",
       "    </tr>\n",
       "    <tr>\n",
       "      <th>15</th>\n",
       "      <td>317186448</td>\n",
       "      <td>Pope Is a Rockstar</td>\n",
       "      <td>SALES</td>\n",
       "      <td>Now he wants to start talking \"Go ahead,\" when...</td>\n",
       "      <td>[want, start, talking, go, ahead, walking, fac...</td>\n",
       "      <td>0.8811</td>\n",
       "      <td>0.118</td>\n",
       "      <td>0.847</td>\n",
       "      <td>0.035</td>\n",
       "      <td>1</td>\n",
       "    </tr>\n",
       "    <tr>\n",
       "      <th>16</th>\n",
       "      <td>581315785</td>\n",
       "      <td>Overpass Graffiti</td>\n",
       "      <td>Ed Sheeran</td>\n",
       "      <td>This is a dark parade Another rough patch to r...</td>\n",
       "      <td>[dark, parade, another, rough, patch, rain, ra...</td>\n",
       "      <td>0.9827</td>\n",
       "      <td>0.193</td>\n",
       "      <td>0.684</td>\n",
       "      <td>0.123</td>\n",
       "      <td>1</td>\n",
       "    </tr>\n",
       "    <tr>\n",
       "      <th>17</th>\n",
       "      <td>149909698</td>\n",
       "      <td>Title</td>\n",
       "      <td>Meghan Trainor</td>\n",
       "      <td>If you want my love He gotta do what he does I...</td>\n",
       "      <td>[want, love, got, want, sweet, like, sugar, gu...</td>\n",
       "      <td>0.9890</td>\n",
       "      <td>0.174</td>\n",
       "      <td>0.739</td>\n",
       "      <td>0.086</td>\n",
       "      <td>1</td>\n",
       "    </tr>\n",
       "    <tr>\n",
       "      <th>18</th>\n",
       "      <td>20145680</td>\n",
       "      <td>Da Ya Think I'm Sexy?</td>\n",
       "      <td>Rod Stewart</td>\n",
       "      <td>Sugar Sugar, ooh Ooh  She sits alone waiting f...</td>\n",
       "      <td>[sugar, sugar, ooh, ooh, sits, alone, waiting,...</td>\n",
       "      <td>0.8787</td>\n",
       "      <td>0.083</td>\n",
       "      <td>0.885</td>\n",
       "      <td>0.031</td>\n",
       "      <td>1</td>\n",
       "    </tr>\n",
       "    <tr>\n",
       "      <th>19</th>\n",
       "      <td>595244229</td>\n",
       "      <td>It'll Be Okay</td>\n",
       "      <td>Shawn Mendes</td>\n",
       "      <td>Are we gonna make it? Is this gonna hurt?  Oh,...</td>\n",
       "      <td>[gon, make, gon, hurt, try, sedate, never, wor...</td>\n",
       "      <td>0.9939</td>\n",
       "      <td>0.249</td>\n",
       "      <td>0.670</td>\n",
       "      <td>0.081</td>\n",
       "      <td>1</td>\n",
       "    </tr>\n",
       "    <tr>\n",
       "      <th>20</th>\n",
       "      <td>90166754</td>\n",
       "      <td>Safe And Sound</td>\n",
       "      <td>Capital Cities</td>\n",
       "      <td>I could lift you up I could show you what you ...</td>\n",
       "      <td>[could, lift, could, show, see, take, could, l...</td>\n",
       "      <td>0.9982</td>\n",
       "      <td>0.301</td>\n",
       "      <td>0.685</td>\n",
       "      <td>0.014</td>\n",
       "      <td>1</td>\n",
       "    </tr>\n",
       "    <tr>\n",
       "      <th>21</th>\n",
       "      <td>423336107</td>\n",
       "      <td>Into Your Arms</td>\n",
       "      <td>Witt Lowry Feat. Ava Max</td>\n",
       "      <td>I'm out of my head, out of my mind, oh, I If y...</td>\n",
       "      <td>[head, mind, let, dress, arm, tonight, yeah, l...</td>\n",
       "      <td>0.9914</td>\n",
       "      <td>0.126</td>\n",
       "      <td>0.797</td>\n",
       "      <td>0.077</td>\n",
       "      <td>1</td>\n",
       "    </tr>\n",
       "    <tr>\n",
       "      <th>22</th>\n",
       "      <td>573239716</td>\n",
       "      <td>Woman</td>\n",
       "      <td>Doja Cat</td>\n",
       "      <td>Hey, woman Hey, woman  Woman Let me be your wo...</td>\n",
       "      <td>[hey, woman, hey, woman, woman, let, woman, wo...</td>\n",
       "      <td>0.9553</td>\n",
       "      <td>0.110</td>\n",
       "      <td>0.820</td>\n",
       "      <td>0.070</td>\n",
       "      <td>1</td>\n",
       "    </tr>\n",
       "    <tr>\n",
       "      <th>23</th>\n",
       "      <td>560348547</td>\n",
       "      <td>Ghost</td>\n",
       "      <td>Justin Bieber</td>\n",
       "      <td>Youngblood thinks there's always tomorrow I mi...</td>\n",
       "      <td>[youngblood, think, always, tomorrow, miss, to...</td>\n",
       "      <td>0.8885</td>\n",
       "      <td>0.115</td>\n",
       "      <td>0.776</td>\n",
       "      <td>0.109</td>\n",
       "      <td>1</td>\n",
       "    </tr>\n",
       "    <tr>\n",
       "      <th>24</th>\n",
       "      <td>70679146</td>\n",
       "      <td>Another Love</td>\n",
       "      <td>Tom Odell</td>\n",
       "      <td>I wanna take you somewhere so you know I care ...</td>\n",
       "      <td>[take, somewhere, know, care, cold, know, brou...</td>\n",
       "      <td>0.9986</td>\n",
       "      <td>0.335</td>\n",
       "      <td>0.511</td>\n",
       "      <td>0.154</td>\n",
       "      <td>1</td>\n",
       "    </tr>\n",
       "    <tr>\n",
       "      <th>25</th>\n",
       "      <td>588355736</td>\n",
       "      <td>Oh My God</td>\n",
       "      <td>Adele</td>\n",
       "      <td>I ain't got too much time to spend But I'll ma...</td>\n",
       "      <td>[ai, got, much, time, spend, make, time, show,...</td>\n",
       "      <td>0.9445</td>\n",
       "      <td>0.176</td>\n",
       "      <td>0.690</td>\n",
       "      <td>0.134</td>\n",
       "      <td>1</td>\n",
       "    </tr>\n",
       "    <tr>\n",
       "      <th>26</th>\n",
       "      <td>571007966</td>\n",
       "      <td>Leave Before You Love Me</td>\n",
       "      <td>Marshmello &amp; Jonas Brothers</td>\n",
       "      <td>I see you calling I didn't wanna leave you lik...</td>\n",
       "      <td>[see, calling, leave, like, five, morning, yea...</td>\n",
       "      <td>0.9946</td>\n",
       "      <td>0.244</td>\n",
       "      <td>0.680</td>\n",
       "      <td>0.076</td>\n",
       "      <td>1</td>\n",
       "    </tr>\n",
       "    <tr>\n",
       "      <th>27</th>\n",
       "      <td>565106878</td>\n",
       "      <td>Kiss Me More</td>\n",
       "      <td>Doja Cat Feat. SZA</td>\n",
       "      <td>We hug and, yes, we make love And always just ...</td>\n",
       "      <td>[hug, yes, make, love, always, say, goodnight,...</td>\n",
       "      <td>0.9980</td>\n",
       "      <td>0.227</td>\n",
       "      <td>0.698</td>\n",
       "      <td>0.076</td>\n",
       "      <td>1</td>\n",
       "    </tr>\n",
       "    <tr>\n",
       "      <th>28</th>\n",
       "      <td>322789543</td>\n",
       "      <td>Wide Awake (Red Mix)</td>\n",
       "      <td>Eric Saade Feat. Gustaf Norén, Filatov &amp; Karas</td>\n",
       "      <td>You keep me wide awake every day, every weeken...</td>\n",
       "      <td>[keep, wide, awake, every, day, every, weekend...</td>\n",
       "      <td>-0.8991</td>\n",
       "      <td>0.063</td>\n",
       "      <td>0.838</td>\n",
       "      <td>0.099</td>\n",
       "      <td>-1</td>\n",
       "    </tr>\n",
       "    <tr>\n",
       "      <th>29</th>\n",
       "      <td>573239715</td>\n",
       "      <td>You Right</td>\n",
       "      <td>Doja Cat &amp; The Weeknd</td>\n",
       "      <td>I got a man but I want you I got a man but I w...</td>\n",
       "      <td>[got, man, want, got, man, want, nerve, makin,...</td>\n",
       "      <td>-0.9512</td>\n",
       "      <td>0.088</td>\n",
       "      <td>0.804</td>\n",
       "      <td>0.108</td>\n",
       "      <td>-1</td>\n",
       "    </tr>\n",
       "    <tr>\n",
       "      <th>30</th>\n",
       "      <td>257654920</td>\n",
       "      <td>All Time Low</td>\n",
       "      <td>Jon Bellion</td>\n",
       "      <td>I was the knight in shining armor in your movi...</td>\n",
       "      <td>[knight, shining, armor, movie, would, put, li...</td>\n",
       "      <td>-0.9999</td>\n",
       "      <td>0.023</td>\n",
       "      <td>0.300</td>\n",
       "      <td>0.677</td>\n",
       "      <td>-1</td>\n",
       "    </tr>\n",
       "    <tr>\n",
       "      <th>31</th>\n",
       "      <td>308021058</td>\n",
       "      <td>Unstoppable</td>\n",
       "      <td>Sia</td>\n",
       "      <td>All smiles, I know what it takes to fool this ...</td>\n",
       "      <td>[smile, know, take, fool, town, til, sun, go, ...</td>\n",
       "      <td>0.9929</td>\n",
       "      <td>0.266</td>\n",
       "      <td>0.556</td>\n",
       "      <td>0.178</td>\n",
       "      <td>1</td>\n",
       "    </tr>\n",
       "    <tr>\n",
       "      <th>32</th>\n",
       "      <td>75559942</td>\n",
       "      <td>Gone, Gone, Gone</td>\n",
       "      <td>Phillip Phillips</td>\n",
       "      <td>When life leaves you high and dry I'll be at y...</td>\n",
       "      <td>[life, leaf, high, dry, door, tonight, need, h...</td>\n",
       "      <td>0.9976</td>\n",
       "      <td>0.246</td>\n",
       "      <td>0.685</td>\n",
       "      <td>0.069</td>\n",
       "      <td>1</td>\n",
       "    </tr>\n",
       "    <tr>\n",
       "      <th>33</th>\n",
       "      <td>573239739</td>\n",
       "      <td>Need To Know</td>\n",
       "      <td>Doja Cat</td>\n",
       "      <td>Yeah, wanna know what it's like (like) Baby, s...</td>\n",
       "      <td>[yeah, know, like, like, baby, show, like, lik...</td>\n",
       "      <td>-0.9106</td>\n",
       "      <td>0.140</td>\n",
       "      <td>0.721</td>\n",
       "      <td>0.139</td>\n",
       "      <td>-1</td>\n",
       "    </tr>\n",
       "    <tr>\n",
       "      <th>34</th>\n",
       "      <td>564095960</td>\n",
       "      <td>good 4 u</td>\n",
       "      <td>Olivia Rodrigo</td>\n",
       "      <td>(Ah)  Well, good for you, I guess you moved on...</td>\n",
       "      <td>[well, good, guess, moved, really, easily, fou...</td>\n",
       "      <td>0.9987</td>\n",
       "      <td>0.299</td>\n",
       "      <td>0.617</td>\n",
       "      <td>0.084</td>\n",
       "      <td>1</td>\n",
       "    </tr>\n",
       "    <tr>\n",
       "      <th>35</th>\n",
       "      <td>106807815</td>\n",
       "      <td>Only Love Can Hurt Like This</td>\n",
       "      <td>Paloma Faith</td>\n",
       "      <td>I tell myself you don't mean a thing And what ...</td>\n",
       "      <td>[tell, mean, thing, got, got, hold, crumble, t...</td>\n",
       "      <td>0.9992</td>\n",
       "      <td>0.457</td>\n",
       "      <td>0.332</td>\n",
       "      <td>0.211</td>\n",
       "      <td>1</td>\n",
       "    </tr>\n",
       "    <tr>\n",
       "      <th>36</th>\n",
       "      <td>40238388</td>\n",
       "      <td>Left Outside Alone</td>\n",
       "      <td>Anastacia</td>\n",
       "      <td>All my life I've been waiting For you to bring...</td>\n",
       "      <td>[life, waiting, bring, fairy, tale, way, livin...</td>\n",
       "      <td>-0.4339</td>\n",
       "      <td>0.132</td>\n",
       "      <td>0.705</td>\n",
       "      <td>0.163</td>\n",
       "      <td>-1</td>\n",
       "    </tr>\n",
       "    <tr>\n",
       "      <th>37</th>\n",
       "      <td>466040067</td>\n",
       "      <td>Dance Monkey</td>\n",
       "      <td>Tones And I</td>\n",
       "      <td>They say, \"Oh my God, I see the way you shine\"...</td>\n",
       "      <td>[say, god, see, way, shine, take, hand, dear, ...</td>\n",
       "      <td>0.0387</td>\n",
       "      <td>0.030</td>\n",
       "      <td>0.946</td>\n",
       "      <td>0.023</td>\n",
       "      <td>0</td>\n",
       "    </tr>\n",
       "    <tr>\n",
       "      <th>38</th>\n",
       "      <td>549952578</td>\n",
       "      <td>drivers license</td>\n",
       "      <td>Olivia Rodrigo</td>\n",
       "      <td>I got my driver's license last week Just like ...</td>\n",
       "      <td>[got, driver, license, last, week, like, alway...</td>\n",
       "      <td>0.5180</td>\n",
       "      <td>0.123</td>\n",
       "      <td>0.752</td>\n",
       "      <td>0.125</td>\n",
       "      <td>1</td>\n",
       "    </tr>\n",
       "    <tr>\n",
       "      <th>39</th>\n",
       "      <td>342514741</td>\n",
       "      <td>Perfect</td>\n",
       "      <td>Ed Sheeran</td>\n",
       "      <td>I found a love for me Oh darling, just dive ri...</td>\n",
       "      <td>[found, love, darling, dive, right, follow, le...</td>\n",
       "      <td>0.9989</td>\n",
       "      <td>0.333</td>\n",
       "      <td>0.648</td>\n",
       "      <td>0.019</td>\n",
       "      <td>1</td>\n",
       "    </tr>\n",
       "    <tr>\n",
       "      <th>40</th>\n",
       "      <td>350525567</td>\n",
       "      <td>There's Nothing Holdin' Me Back</td>\n",
       "      <td>Shawn Mendes</td>\n",
       "      <td>I wanna follow where she goes I think about he...</td>\n",
       "      <td>[follow, go, think, know, let, take, control, ...</td>\n",
       "      <td>0.9439</td>\n",
       "      <td>0.117</td>\n",
       "      <td>0.806</td>\n",
       "      <td>0.077</td>\n",
       "      <td>1</td>\n",
       "    </tr>\n",
       "    <tr>\n",
       "      <th>41</th>\n",
       "      <td>451333839</td>\n",
       "      <td>Nothing Breaks Like A Heart</td>\n",
       "      <td>Mark Ronson Feat. Miley Cyrus</td>\n",
       "      <td>This world can hurt you It cuts you deep and l...</td>\n",
       "      <td>[world, hurt, cut, deep, leaf, scar, thing, fa...</td>\n",
       "      <td>-0.9964</td>\n",
       "      <td>0.089</td>\n",
       "      <td>0.675</td>\n",
       "      <td>0.236</td>\n",
       "      <td>-1</td>\n",
       "    </tr>\n",
       "    <tr>\n",
       "      <th>42</th>\n",
       "      <td>538322038</td>\n",
       "      <td>Levitating</td>\n",
       "      <td>Dua Lipa Feat. DaBaby</td>\n",
       "      <td>Billboard Baby, Dua Lipa make 'em dance when i...</td>\n",
       "      <td>[billboard, baby, dua, lipa, make, em, dance, ...</td>\n",
       "      <td>0.9992</td>\n",
       "      <td>0.247</td>\n",
       "      <td>0.737</td>\n",
       "      <td>0.017</td>\n",
       "      <td>1</td>\n",
       "    </tr>\n",
       "    <tr>\n",
       "      <th>43</th>\n",
       "      <td>511164515</td>\n",
       "      <td>Love Again</td>\n",
       "      <td>Dua Lipa</td>\n",
       "      <td>I never thought that I would find a way out I ...</td>\n",
       "      <td>[never, thought, would, find, way, never, thou...</td>\n",
       "      <td>0.9982</td>\n",
       "      <td>0.255</td>\n",
       "      <td>0.639</td>\n",
       "      <td>0.106</td>\n",
       "      <td>1</td>\n",
       "    </tr>\n",
       "    <tr>\n",
       "      <th>44</th>\n",
       "      <td>460791620</td>\n",
       "      <td>Arcade</td>\n",
       "      <td>Duncan Laurence</td>\n",
       "      <td>A broken heart is all that's left I'm still fi...</td>\n",
       "      <td>[broken, heart, left, still, fixing, crack, lo...</td>\n",
       "      <td>0.9201</td>\n",
       "      <td>0.162</td>\n",
       "      <td>0.725</td>\n",
       "      <td>0.113</td>\n",
       "      <td>1</td>\n",
       "    </tr>\n",
       "    <tr>\n",
       "      <th>45</th>\n",
       "      <td>556102751</td>\n",
       "      <td>MONTERO (Call Me By Your Name)</td>\n",
       "      <td>Lil Nas X</td>\n",
       "      <td>I caught it bad yesterday You hit me with a ca...</td>\n",
       "      <td>[caught, bad, yesterday, hit, call, place, ai,...</td>\n",
       "      <td>-0.6467</td>\n",
       "      <td>0.124</td>\n",
       "      <td>0.771</td>\n",
       "      <td>0.106</td>\n",
       "      <td>-1</td>\n",
       "    </tr>\n",
       "    <tr>\n",
       "      <th>46</th>\n",
       "      <td>2935562</td>\n",
       "      <td>Love Grows (Where My Rosemary Goes)</td>\n",
       "      <td>Edison Lighthouse</td>\n",
       "      <td>She ain't got no money Her clothes are kinda f...</td>\n",
       "      <td>[ai, got, money, clothes, kinda, funny, hair, ...</td>\n",
       "      <td>0.9984</td>\n",
       "      <td>0.367</td>\n",
       "      <td>0.611</td>\n",
       "      <td>0.022</td>\n",
       "      <td>1</td>\n",
       "    </tr>\n",
       "  </tbody>\n",
       "</table>\n",
       "</div>"
      ],
      "text/plain": [
       "        index                           Track Name  \\\n",
       "0   579595745              Cold Heart (PNAU Remix)   \n",
       "1   587472945                           Easy On Me   \n",
       "2   577983490                              abcdefu   \n",
       "3    70596703                 Locked Out Of Heaven   \n",
       "4   581315745                              Shivers   \n",
       "5   552221348                                 Stay   \n",
       "6   573386652                           Bad Habits   \n",
       "7   584558302                          My Universe   \n",
       "8   506004198                  Middle of the Night   \n",
       "9   584941330            Sad Girlz Luv Money Remix   \n",
       "10  582585201                    THATS WHAT I WANT   \n",
       "11   20112724              All The Things She Said   \n",
       "12  567517788                               Frozen   \n",
       "13   53080365                  Rolling In The Deep   \n",
       "14  581842398                                Toxic   \n",
       "15  317186448                   Pope Is a Rockstar   \n",
       "16  581315785                    Overpass Graffiti   \n",
       "17  149909698                                Title   \n",
       "18   20145680                Da Ya Think I'm Sexy?   \n",
       "19  595244229                        It'll Be Okay   \n",
       "20   90166754                       Safe And Sound   \n",
       "21  423336107                       Into Your Arms   \n",
       "22  573239716                                Woman   \n",
       "23  560348547                                Ghost   \n",
       "24   70679146                         Another Love   \n",
       "25  588355736                            Oh My God   \n",
       "26  571007966             Leave Before You Love Me   \n",
       "27  565106878                         Kiss Me More   \n",
       "28  322789543                 Wide Awake (Red Mix)   \n",
       "29  573239715                            You Right   \n",
       "30  257654920                         All Time Low   \n",
       "31  308021058                          Unstoppable   \n",
       "32   75559942                     Gone, Gone, Gone   \n",
       "33  573239739                         Need To Know   \n",
       "34  564095960                             good 4 u   \n",
       "35  106807815         Only Love Can Hurt Like This   \n",
       "36   40238388                   Left Outside Alone   \n",
       "37  466040067                         Dance Monkey   \n",
       "38  549952578                      drivers license   \n",
       "39  342514741                              Perfect   \n",
       "40  350525567      There's Nothing Holdin' Me Back   \n",
       "41  451333839          Nothing Breaks Like A Heart   \n",
       "42  538322038                           Levitating   \n",
       "43  511164515                           Love Again   \n",
       "44  460791620                               Arcade   \n",
       "45  556102751       MONTERO (Call Me By Your Name)   \n",
       "46    2935562  Love Grows (Where My Rosemary Goes)   \n",
       "\n",
       "                                           Artists  \\\n",
       "0                            Elton John & Dua Lipa   \n",
       "1                                            Adele   \n",
       "2                                            GAYLE   \n",
       "3                                       Bruno Mars   \n",
       "4                                       Ed Sheeran   \n",
       "5                    The Kid LAROI & Justin Bieber   \n",
       "6                                       Ed Sheeran   \n",
       "7                                   Coldplay & BTS   \n",
       "8                                       Elley Duhé   \n",
       "9                 Amaarae & Moliy Feat. Kali Uchis   \n",
       "10                                       Lil Nas X   \n",
       "11                                        t.A.T.u.   \n",
       "12                               Madonna & Sickick   \n",
       "13                                           Adele   \n",
       "14                                      BoyWithUke   \n",
       "15                                           SALES   \n",
       "16                                      Ed Sheeran   \n",
       "17                                  Meghan Trainor   \n",
       "18                                     Rod Stewart   \n",
       "19                                    Shawn Mendes   \n",
       "20                                  Capital Cities   \n",
       "21                        Witt Lowry Feat. Ava Max   \n",
       "22                                        Doja Cat   \n",
       "23                                   Justin Bieber   \n",
       "24                                       Tom Odell   \n",
       "25                                           Adele   \n",
       "26                     Marshmello & Jonas Brothers   \n",
       "27                              Doja Cat Feat. SZA   \n",
       "28  Eric Saade Feat. Gustaf Norén, Filatov & Karas   \n",
       "29                           Doja Cat & The Weeknd   \n",
       "30                                     Jon Bellion   \n",
       "31                                             Sia   \n",
       "32                                Phillip Phillips   \n",
       "33                                        Doja Cat   \n",
       "34                                  Olivia Rodrigo   \n",
       "35                                    Paloma Faith   \n",
       "36                                       Anastacia   \n",
       "37                                     Tones And I   \n",
       "38                                  Olivia Rodrigo   \n",
       "39                                      Ed Sheeran   \n",
       "40                                    Shawn Mendes   \n",
       "41                   Mark Ronson Feat. Miley Cyrus   \n",
       "42                           Dua Lipa Feat. DaBaby   \n",
       "43                                        Dua Lipa   \n",
       "44                                 Duncan Laurence   \n",
       "45                                       Lil Nas X   \n",
       "46                               Edison Lighthouse   \n",
       "\n",
       "                                               Lyrics  \\\n",
       "0   It's a human sign When things go wrong When th...   \n",
       "1   There ain't no gold in this river That I've be...   \n",
       "2   Fuck you and your mom and your sister and your...   \n",
       "3   One, two, one, two, three  Oh yeah yeah Oh yea...   \n",
       "4   I took an arrow to the heart I never kissed a ...   \n",
       "5   I do the same thing I told you that I never wo...   \n",
       "6   One, two, three, four Ooh, ooh  Every time you...   \n",
       "7   You (you), you are (you are) my universe And I...   \n",
       "8   I summoned you, please come to me Don't bury t...   \n",
       "9   Kali Uchis  Oh, there's dollars all around Dol...   \n",
       "10  One, two, three, four  Need a boy who can cudd...   \n",
       "11  All the things she said All the things she sai...   \n",
       "12  How can life be what you want it to be? You're...   \n",
       "13  There's a fire starting in my heart Reaching a...   \n",
       "14  All my friends are toxic, all ambitionless So ...   \n",
       "15  Now he wants to start talking \"Go ahead,\" when...   \n",
       "16  This is a dark parade Another rough patch to r...   \n",
       "17  If you want my love He gotta do what he does I...   \n",
       "18  Sugar Sugar, ooh Ooh  She sits alone waiting f...   \n",
       "19  Are we gonna make it? Is this gonna hurt?  Oh,...   \n",
       "20  I could lift you up I could show you what you ...   \n",
       "21  I'm out of my head, out of my mind, oh, I If y...   \n",
       "22  Hey, woman Hey, woman  Woman Let me be your wo...   \n",
       "23  Youngblood thinks there's always tomorrow I mi...   \n",
       "24  I wanna take you somewhere so you know I care ...   \n",
       "25  I ain't got too much time to spend But I'll ma...   \n",
       "26  I see you calling I didn't wanna leave you lik...   \n",
       "27  We hug and, yes, we make love And always just ...   \n",
       "28  You keep me wide awake every day, every weeken...   \n",
       "29  I got a man but I want you I got a man but I w...   \n",
       "30  I was the knight in shining armor in your movi...   \n",
       "31  All smiles, I know what it takes to fool this ...   \n",
       "32  When life leaves you high and dry I'll be at y...   \n",
       "33  Yeah, wanna know what it's like (like) Baby, s...   \n",
       "34  (Ah)  Well, good for you, I guess you moved on...   \n",
       "35  I tell myself you don't mean a thing And what ...   \n",
       "36  All my life I've been waiting For you to bring...   \n",
       "37  They say, \"Oh my God, I see the way you shine\"...   \n",
       "38  I got my driver's license last week Just like ...   \n",
       "39  I found a love for me Oh darling, just dive ri...   \n",
       "40  I wanna follow where she goes I think about he...   \n",
       "41  This world can hurt you It cuts you deep and l...   \n",
       "42  Billboard Baby, Dua Lipa make 'em dance when i...   \n",
       "43  I never thought that I would find a way out I ...   \n",
       "44  A broken heart is all that's left I'm still fi...   \n",
       "45  I caught it bad yesterday You hit me with a ca...   \n",
       "46  She ain't got no money Her clothes are kinda f...   \n",
       "\n",
       "                                               Tokens  lyrics_compound  \\\n",
       "0   [human, sign, thing, go, wrong, scent, lingers...          -0.9942   \n",
       "1   [ai, gold, river, washing, hand, forever, know...           0.9888   \n",
       "2   [mom, sister, job, brokeass, car, call, art, f...          -0.9957   \n",
       "3   [one, two, one, two, three, yeah, yeah, yeah, ...           0.9996   \n",
       "4   [took, arrow, heart, never, kissed, mouth, tas...           0.9974   \n",
       "5   [thing, told, never, would, told, change, even...          -0.6610   \n",
       "6   [one, two, three, four, ooh, ooh, every, time,...          -0.9949   \n",
       "7   [universe, want, want, put, first, universe, n...           0.7210   \n",
       "8   [summoned, please, come, bury, thought, really...           0.9306   \n",
       "9   [kali, uchis, dollar, around, dollar, dollar, ...           0.9973   \n",
       "10  [one, two, three, four, need, boy, cuddle, nig...           0.9981   \n",
       "11  [thing, said, thing, said, runnin, head, runni...           0.2598   \n",
       "12  [life, want, frozen, heart, open, mmmhmm, coul...           0.0772   \n",
       "13  [fire, starting, heart, reaching, fever, pitch...           0.9975   \n",
       "14  [friend, toxic, ambitionless, rude, always, ne...           0.9312   \n",
       "15  [want, start, talking, go, ahead, walking, fac...           0.8811   \n",
       "16  [dark, parade, another, rough, patch, rain, ra...           0.9827   \n",
       "17  [want, love, got, want, sweet, like, sugar, gu...           0.9890   \n",
       "18  [sugar, sugar, ooh, ooh, sits, alone, waiting,...           0.8787   \n",
       "19  [gon, make, gon, hurt, try, sedate, never, wor...           0.9939   \n",
       "20  [could, lift, could, show, see, take, could, l...           0.9982   \n",
       "21  [head, mind, let, dress, arm, tonight, yeah, l...           0.9914   \n",
       "22  [hey, woman, hey, woman, woman, let, woman, wo...           0.9553   \n",
       "23  [youngblood, think, always, tomorrow, miss, to...           0.8885   \n",
       "24  [take, somewhere, know, care, cold, know, brou...           0.9986   \n",
       "25  [ai, got, much, time, spend, make, time, show,...           0.9445   \n",
       "26  [see, calling, leave, like, five, morning, yea...           0.9946   \n",
       "27  [hug, yes, make, love, always, say, goodnight,...           0.9980   \n",
       "28  [keep, wide, awake, every, day, every, weekend...          -0.8991   \n",
       "29  [got, man, want, got, man, want, nerve, makin,...          -0.9512   \n",
       "30  [knight, shining, armor, movie, would, put, li...          -0.9999   \n",
       "31  [smile, know, take, fool, town, til, sun, go, ...           0.9929   \n",
       "32  [life, leaf, high, dry, door, tonight, need, h...           0.9976   \n",
       "33  [yeah, know, like, like, baby, show, like, lik...          -0.9106   \n",
       "34  [well, good, guess, moved, really, easily, fou...           0.9987   \n",
       "35  [tell, mean, thing, got, got, hold, crumble, t...           0.9992   \n",
       "36  [life, waiting, bring, fairy, tale, way, livin...          -0.4339   \n",
       "37  [say, god, see, way, shine, take, hand, dear, ...           0.0387   \n",
       "38  [got, driver, license, last, week, like, alway...           0.5180   \n",
       "39  [found, love, darling, dive, right, follow, le...           0.9989   \n",
       "40  [follow, go, think, know, let, take, control, ...           0.9439   \n",
       "41  [world, hurt, cut, deep, leaf, scar, thing, fa...          -0.9964   \n",
       "42  [billboard, baby, dua, lipa, make, em, dance, ...           0.9992   \n",
       "43  [never, thought, would, find, way, never, thou...           0.9982   \n",
       "44  [broken, heart, left, still, fixing, crack, lo...           0.9201   \n",
       "45  [caught, bad, yesterday, hit, call, place, ai,...          -0.6467   \n",
       "46  [ai, got, money, clothes, kinda, funny, hair, ...           0.9984   \n",
       "\n",
       "    lyrics_pos  lyrics_neu  lyrics_neg  lyrics_sent  \n",
       "0        0.064       0.654       0.282           -1  \n",
       "1        0.210       0.746       0.043            1  \n",
       "2        0.091       0.651       0.259           -1  \n",
       "3        0.439       0.557       0.004            1  \n",
       "4        0.179       0.789       0.031            1  \n",
       "5        0.072       0.843       0.085           -1  \n",
       "6        0.106       0.684       0.210           -1  \n",
       "7        0.038       0.954       0.008            1  \n",
       "8        0.069       0.910       0.021            1  \n",
       "9        0.220       0.719       0.061            1  \n",
       "10       0.274       0.658       0.069            1  \n",
       "11       0.059       0.886       0.055            1  \n",
       "12       0.015       0.985       0.000            1  \n",
       "13       0.165       0.784       0.051            1  \n",
       "14       0.120       0.776       0.104            1  \n",
       "15       0.118       0.847       0.035            1  \n",
       "16       0.193       0.684       0.123            1  \n",
       "17       0.174       0.739       0.086            1  \n",
       "18       0.083       0.885       0.031            1  \n",
       "19       0.249       0.670       0.081            1  \n",
       "20       0.301       0.685       0.014            1  \n",
       "21       0.126       0.797       0.077            1  \n",
       "22       0.110       0.820       0.070            1  \n",
       "23       0.115       0.776       0.109            1  \n",
       "24       0.335       0.511       0.154            1  \n",
       "25       0.176       0.690       0.134            1  \n",
       "26       0.244       0.680       0.076            1  \n",
       "27       0.227       0.698       0.076            1  \n",
       "28       0.063       0.838       0.099           -1  \n",
       "29       0.088       0.804       0.108           -1  \n",
       "30       0.023       0.300       0.677           -1  \n",
       "31       0.266       0.556       0.178            1  \n",
       "32       0.246       0.685       0.069            1  \n",
       "33       0.140       0.721       0.139           -1  \n",
       "34       0.299       0.617       0.084            1  \n",
       "35       0.457       0.332       0.211            1  \n",
       "36       0.132       0.705       0.163           -1  \n",
       "37       0.030       0.946       0.023            0  \n",
       "38       0.123       0.752       0.125            1  \n",
       "39       0.333       0.648       0.019            1  \n",
       "40       0.117       0.806       0.077            1  \n",
       "41       0.089       0.675       0.236           -1  \n",
       "42       0.247       0.737       0.017            1  \n",
       "43       0.255       0.639       0.106            1  \n",
       "44       0.162       0.725       0.113            1  \n",
       "45       0.124       0.771       0.106           -1  \n",
       "46       0.367       0.611       0.022            1  "
      ]
     },
     "execution_count": 262,
     "metadata": {},
     "output_type": "execute_result"
    }
   ],
   "source": [
    "# Sentiment scores dictionaries\n",
    "lyrics_sent = {\n",
    "    \"lyrics_compound\": [],\n",
    "    \"lyrics_pos\": [],\n",
    "    \"lyrics_neu\": [],\n",
    "    \"lyrics_neg\": [],\n",
    "    \"lyrics_sent\": [],\n",
    "}\n",
    "\n",
    "# Get sentiment for the lyrics\n",
    "for index, row in new_lyrics_df.iterrows():\n",
    "    try:\n",
    "        # Sentiment scoring with VADER\n",
    "        lyrics_sentiment = analyzer.polarity_scores(row[\"Lyrics\"])\n",
    "        lyrics_sent[\"lyrics_compound\"].append(lyrics_sentiment[\"compound\"])\n",
    "        lyrics_sent[\"lyrics_pos\"].append(lyrics_sentiment[\"pos\"])\n",
    "        lyrics_sent[\"lyrics_neu\"].append(lyrics_sentiment[\"neu\"])\n",
    "        lyrics_sent[\"lyrics_neg\"].append(lyrics_sentiment[\"neg\"])\n",
    "        lyrics_sent[\"lyrics_sent\"].append(get_sentiment(lyrics_sentiment[\"compound\"]))\n",
    "\n",
    "    except AttributeError:\n",
    "        pass\n",
    "\n",
    "# Attaching sentiment columns to the News DataFrame\n",
    "lyrics_sentiment_df = pd.DataFrame(lyrics_sent)\n",
    "\n",
    "# new_lyrics_df = new_lyrics_df.join(lyrics_sentiment_df)\n",
    "\n",
    "# new_lyrics_df.head()\n",
    "result_lyrics_df = pd.concat([new_lyrics_df, lyrics_sentiment_df], axis=1)\n",
    "result_lyrics_df"
   ]
  },
  {
   "cell_type": "markdown",
   "id": "bdf73d9c-51ac-4d4e-928c-2a9230f06073",
   "metadata": {
    "tags": []
   },
   "source": [
    "### Analyzing Sentiments Results\n",
    "\n",
    "The sentiment of the lyrics"
   ]
  },
  {
   "cell_type": "code",
   "execution_count": 264,
   "id": "3b3aeb59-ef87-46fb-b612-ae29873d0b0c",
   "metadata": {},
   "outputs": [],
   "source": [
    "# Save image as png\n",
    "# pop_sentiment_pie.to_file(\"Images/rnb_sentiment_pie.png\")"
   ]
  },
  {
   "cell_type": "code",
   "execution_count": 265,
   "id": "95c91e2a-77af-473b-a187-17fa2e7e6ec2",
   "metadata": {},
   "outputs": [
    {
     "data": {
      "application/vnd.plotly.v1+json": {
       "config": {
        "plotlyServerURL": "https://plot.ly"
       },
       "data": [
        {
         "domain": {
          "x": [
           0,
           1
          ],
          "y": [
           0,
           1
          ]
         },
         "hole": 0.4,
         "hovertemplate": "label=%{label}<br>Count=%{value}<extra></extra>",
         "labels": [
          "Positive",
          "Negative"
         ],
         "legendgroup": "",
         "name": "",
         "showlegend": true,
         "type": "pie",
         "values": [
          35,
          11
         ]
        }
       ],
       "layout": {
        "height": 500,
        "legend": {
         "tracegroupgap": 0
        },
        "piecolorway": [
         "lime",
         "green"
        ],
        "template": {
         "data": {
          "bar": [
           {
            "error_x": {
             "color": "#2a3f5f"
            },
            "error_y": {
             "color": "#2a3f5f"
            },
            "marker": {
             "line": {
              "color": "#E5ECF6",
              "width": 0.5
             },
             "pattern": {
              "fillmode": "overlay",
              "size": 10,
              "solidity": 0.2
             }
            },
            "type": "bar"
           }
          ],
          "barpolar": [
           {
            "marker": {
             "line": {
              "color": "#E5ECF6",
              "width": 0.5
             },
             "pattern": {
              "fillmode": "overlay",
              "size": 10,
              "solidity": 0.2
             }
            },
            "type": "barpolar"
           }
          ],
          "carpet": [
           {
            "aaxis": {
             "endlinecolor": "#2a3f5f",
             "gridcolor": "white",
             "linecolor": "white",
             "minorgridcolor": "white",
             "startlinecolor": "#2a3f5f"
            },
            "baxis": {
             "endlinecolor": "#2a3f5f",
             "gridcolor": "white",
             "linecolor": "white",
             "minorgridcolor": "white",
             "startlinecolor": "#2a3f5f"
            },
            "type": "carpet"
           }
          ],
          "choropleth": [
           {
            "colorbar": {
             "outlinewidth": 0,
             "ticks": ""
            },
            "type": "choropleth"
           }
          ],
          "contour": [
           {
            "colorbar": {
             "outlinewidth": 0,
             "ticks": ""
            },
            "colorscale": [
             [
              0,
              "#0d0887"
             ],
             [
              0.1111111111111111,
              "#46039f"
             ],
             [
              0.2222222222222222,
              "#7201a8"
             ],
             [
              0.3333333333333333,
              "#9c179e"
             ],
             [
              0.4444444444444444,
              "#bd3786"
             ],
             [
              0.5555555555555556,
              "#d8576b"
             ],
             [
              0.6666666666666666,
              "#ed7953"
             ],
             [
              0.7777777777777778,
              "#fb9f3a"
             ],
             [
              0.8888888888888888,
              "#fdca26"
             ],
             [
              1,
              "#f0f921"
             ]
            ],
            "type": "contour"
           }
          ],
          "contourcarpet": [
           {
            "colorbar": {
             "outlinewidth": 0,
             "ticks": ""
            },
            "type": "contourcarpet"
           }
          ],
          "heatmap": [
           {
            "colorbar": {
             "outlinewidth": 0,
             "ticks": ""
            },
            "colorscale": [
             [
              0,
              "#0d0887"
             ],
             [
              0.1111111111111111,
              "#46039f"
             ],
             [
              0.2222222222222222,
              "#7201a8"
             ],
             [
              0.3333333333333333,
              "#9c179e"
             ],
             [
              0.4444444444444444,
              "#bd3786"
             ],
             [
              0.5555555555555556,
              "#d8576b"
             ],
             [
              0.6666666666666666,
              "#ed7953"
             ],
             [
              0.7777777777777778,
              "#fb9f3a"
             ],
             [
              0.8888888888888888,
              "#fdca26"
             ],
             [
              1,
              "#f0f921"
             ]
            ],
            "type": "heatmap"
           }
          ],
          "heatmapgl": [
           {
            "colorbar": {
             "outlinewidth": 0,
             "ticks": ""
            },
            "colorscale": [
             [
              0,
              "#0d0887"
             ],
             [
              0.1111111111111111,
              "#46039f"
             ],
             [
              0.2222222222222222,
              "#7201a8"
             ],
             [
              0.3333333333333333,
              "#9c179e"
             ],
             [
              0.4444444444444444,
              "#bd3786"
             ],
             [
              0.5555555555555556,
              "#d8576b"
             ],
             [
              0.6666666666666666,
              "#ed7953"
             ],
             [
              0.7777777777777778,
              "#fb9f3a"
             ],
             [
              0.8888888888888888,
              "#fdca26"
             ],
             [
              1,
              "#f0f921"
             ]
            ],
            "type": "heatmapgl"
           }
          ],
          "histogram": [
           {
            "marker": {
             "pattern": {
              "fillmode": "overlay",
              "size": 10,
              "solidity": 0.2
             }
            },
            "type": "histogram"
           }
          ],
          "histogram2d": [
           {
            "colorbar": {
             "outlinewidth": 0,
             "ticks": ""
            },
            "colorscale": [
             [
              0,
              "#0d0887"
             ],
             [
              0.1111111111111111,
              "#46039f"
             ],
             [
              0.2222222222222222,
              "#7201a8"
             ],
             [
              0.3333333333333333,
              "#9c179e"
             ],
             [
              0.4444444444444444,
              "#bd3786"
             ],
             [
              0.5555555555555556,
              "#d8576b"
             ],
             [
              0.6666666666666666,
              "#ed7953"
             ],
             [
              0.7777777777777778,
              "#fb9f3a"
             ],
             [
              0.8888888888888888,
              "#fdca26"
             ],
             [
              1,
              "#f0f921"
             ]
            ],
            "type": "histogram2d"
           }
          ],
          "histogram2dcontour": [
           {
            "colorbar": {
             "outlinewidth": 0,
             "ticks": ""
            },
            "colorscale": [
             [
              0,
              "#0d0887"
             ],
             [
              0.1111111111111111,
              "#46039f"
             ],
             [
              0.2222222222222222,
              "#7201a8"
             ],
             [
              0.3333333333333333,
              "#9c179e"
             ],
             [
              0.4444444444444444,
              "#bd3786"
             ],
             [
              0.5555555555555556,
              "#d8576b"
             ],
             [
              0.6666666666666666,
              "#ed7953"
             ],
             [
              0.7777777777777778,
              "#fb9f3a"
             ],
             [
              0.8888888888888888,
              "#fdca26"
             ],
             [
              1,
              "#f0f921"
             ]
            ],
            "type": "histogram2dcontour"
           }
          ],
          "mesh3d": [
           {
            "colorbar": {
             "outlinewidth": 0,
             "ticks": ""
            },
            "type": "mesh3d"
           }
          ],
          "parcoords": [
           {
            "line": {
             "colorbar": {
              "outlinewidth": 0,
              "ticks": ""
             }
            },
            "type": "parcoords"
           }
          ],
          "pie": [
           {
            "automargin": true,
            "type": "pie"
           }
          ],
          "scatter": [
           {
            "marker": {
             "colorbar": {
              "outlinewidth": 0,
              "ticks": ""
             }
            },
            "type": "scatter"
           }
          ],
          "scatter3d": [
           {
            "line": {
             "colorbar": {
              "outlinewidth": 0,
              "ticks": ""
             }
            },
            "marker": {
             "colorbar": {
              "outlinewidth": 0,
              "ticks": ""
             }
            },
            "type": "scatter3d"
           }
          ],
          "scattercarpet": [
           {
            "marker": {
             "colorbar": {
              "outlinewidth": 0,
              "ticks": ""
             }
            },
            "type": "scattercarpet"
           }
          ],
          "scattergeo": [
           {
            "marker": {
             "colorbar": {
              "outlinewidth": 0,
              "ticks": ""
             }
            },
            "type": "scattergeo"
           }
          ],
          "scattergl": [
           {
            "marker": {
             "colorbar": {
              "outlinewidth": 0,
              "ticks": ""
             }
            },
            "type": "scattergl"
           }
          ],
          "scattermapbox": [
           {
            "marker": {
             "colorbar": {
              "outlinewidth": 0,
              "ticks": ""
             }
            },
            "type": "scattermapbox"
           }
          ],
          "scatterpolar": [
           {
            "marker": {
             "colorbar": {
              "outlinewidth": 0,
              "ticks": ""
             }
            },
            "type": "scatterpolar"
           }
          ],
          "scatterpolargl": [
           {
            "marker": {
             "colorbar": {
              "outlinewidth": 0,
              "ticks": ""
             }
            },
            "type": "scatterpolargl"
           }
          ],
          "scatterternary": [
           {
            "marker": {
             "colorbar": {
              "outlinewidth": 0,
              "ticks": ""
             }
            },
            "type": "scatterternary"
           }
          ],
          "surface": [
           {
            "colorbar": {
             "outlinewidth": 0,
             "ticks": ""
            },
            "colorscale": [
             [
              0,
              "#0d0887"
             ],
             [
              0.1111111111111111,
              "#46039f"
             ],
             [
              0.2222222222222222,
              "#7201a8"
             ],
             [
              0.3333333333333333,
              "#9c179e"
             ],
             [
              0.4444444444444444,
              "#bd3786"
             ],
             [
              0.5555555555555556,
              "#d8576b"
             ],
             [
              0.6666666666666666,
              "#ed7953"
             ],
             [
              0.7777777777777778,
              "#fb9f3a"
             ],
             [
              0.8888888888888888,
              "#fdca26"
             ],
             [
              1,
              "#f0f921"
             ]
            ],
            "type": "surface"
           }
          ],
          "table": [
           {
            "cells": {
             "fill": {
              "color": "#EBF0F8"
             },
             "line": {
              "color": "white"
             }
            },
            "header": {
             "fill": {
              "color": "#C8D4E3"
             },
             "line": {
              "color": "white"
             }
            },
            "type": "table"
           }
          ]
         },
         "layout": {
          "annotationdefaults": {
           "arrowcolor": "#2a3f5f",
           "arrowhead": 0,
           "arrowwidth": 1
          },
          "autotypenumbers": "strict",
          "coloraxis": {
           "colorbar": {
            "outlinewidth": 0,
            "ticks": ""
           }
          },
          "colorscale": {
           "diverging": [
            [
             0,
             "#8e0152"
            ],
            [
             0.1,
             "#c51b7d"
            ],
            [
             0.2,
             "#de77ae"
            ],
            [
             0.3,
             "#f1b6da"
            ],
            [
             0.4,
             "#fde0ef"
            ],
            [
             0.5,
             "#f7f7f7"
            ],
            [
             0.6,
             "#e6f5d0"
            ],
            [
             0.7,
             "#b8e186"
            ],
            [
             0.8,
             "#7fbc41"
            ],
            [
             0.9,
             "#4d9221"
            ],
            [
             1,
             "#276419"
            ]
           ],
           "sequential": [
            [
             0,
             "#0d0887"
            ],
            [
             0.1111111111111111,
             "#46039f"
            ],
            [
             0.2222222222222222,
             "#7201a8"
            ],
            [
             0.3333333333333333,
             "#9c179e"
            ],
            [
             0.4444444444444444,
             "#bd3786"
            ],
            [
             0.5555555555555556,
             "#d8576b"
            ],
            [
             0.6666666666666666,
             "#ed7953"
            ],
            [
             0.7777777777777778,
             "#fb9f3a"
            ],
            [
             0.8888888888888888,
             "#fdca26"
            ],
            [
             1,
             "#f0f921"
            ]
           ],
           "sequentialminus": [
            [
             0,
             "#0d0887"
            ],
            [
             0.1111111111111111,
             "#46039f"
            ],
            [
             0.2222222222222222,
             "#7201a8"
            ],
            [
             0.3333333333333333,
             "#9c179e"
            ],
            [
             0.4444444444444444,
             "#bd3786"
            ],
            [
             0.5555555555555556,
             "#d8576b"
            ],
            [
             0.6666666666666666,
             "#ed7953"
            ],
            [
             0.7777777777777778,
             "#fb9f3a"
            ],
            [
             0.8888888888888888,
             "#fdca26"
            ],
            [
             1,
             "#f0f921"
            ]
           ]
          },
          "colorway": [
           "#636efa",
           "#EF553B",
           "#00cc96",
           "#ab63fa",
           "#FFA15A",
           "#19d3f3",
           "#FF6692",
           "#B6E880",
           "#FF97FF",
           "#FECB52"
          ],
          "font": {
           "color": "#2a3f5f"
          },
          "geo": {
           "bgcolor": "white",
           "lakecolor": "white",
           "landcolor": "#E5ECF6",
           "showlakes": true,
           "showland": true,
           "subunitcolor": "white"
          },
          "hoverlabel": {
           "align": "left"
          },
          "hovermode": "closest",
          "mapbox": {
           "style": "light"
          },
          "paper_bgcolor": "white",
          "plot_bgcolor": "#E5ECF6",
          "polar": {
           "angularaxis": {
            "gridcolor": "white",
            "linecolor": "white",
            "ticks": ""
           },
           "bgcolor": "#E5ECF6",
           "radialaxis": {
            "gridcolor": "white",
            "linecolor": "white",
            "ticks": ""
           }
          },
          "scene": {
           "xaxis": {
            "backgroundcolor": "#E5ECF6",
            "gridcolor": "white",
            "gridwidth": 2,
            "linecolor": "white",
            "showbackground": true,
            "ticks": "",
            "zerolinecolor": "white"
           },
           "yaxis": {
            "backgroundcolor": "#E5ECF6",
            "gridcolor": "white",
            "gridwidth": 2,
            "linecolor": "white",
            "showbackground": true,
            "ticks": "",
            "zerolinecolor": "white"
           },
           "zaxis": {
            "backgroundcolor": "#E5ECF6",
            "gridcolor": "white",
            "gridwidth": 2,
            "linecolor": "white",
            "showbackground": true,
            "ticks": "",
            "zerolinecolor": "white"
           }
          },
          "shapedefaults": {
           "line": {
            "color": "#2a3f5f"
           }
          },
          "ternary": {
           "aaxis": {
            "gridcolor": "white",
            "linecolor": "white",
            "ticks": ""
           },
           "baxis": {
            "gridcolor": "white",
            "linecolor": "white",
            "ticks": ""
           },
           "bgcolor": "#E5ECF6",
           "caxis": {
            "gridcolor": "white",
            "linecolor": "white",
            "ticks": ""
           }
          },
          "title": {
           "x": 0.05
          },
          "xaxis": {
           "automargin": true,
           "gridcolor": "white",
           "linecolor": "white",
           "ticks": "",
           "title": {
            "standoff": 15
           },
           "zerolinecolor": "white",
           "zerolinewidth": 2
          },
          "yaxis": {
           "automargin": true,
           "gridcolor": "white",
           "linecolor": "white",
           "ticks": "",
           "title": {
            "standoff": 15
           },
           "zerolinecolor": "white",
           "zerolinewidth": 2
          }
         }
        },
        "title": {
         "text": "Overall Sentiment for POP Song Lyrics"
        },
        "width": 1000
       }
      },
      "image/png": "[encoded data removed]",
      "text/html": [
       "<div>                            <div id=\"c816f4c1-8231-4fb3-95e4-71e0656d74dc\" class=\"plotly-graph-div\" style=\"height:500px; width:1000px;\"></div>            <script type=\"text/javascript\">                require([\"plotly\"], function(Plotly) {                    window.PLOTLYENV=window.PLOTLYENV || {};                                    if (document.getElementById(\"c816f4c1-8231-4fb3-95e4-71e0656d74dc\")) {                    Plotly.newPlot(                        \"c816f4c1-8231-4fb3-95e4-71e0656d74dc\",                        [{\"domain\":{\"x\":[0.0,1.0],\"y\":[0.0,1.0]},\"hole\":0.4,\"hovertemplate\":\"label=%{label}<br>Count=%{value}<extra></extra>\",\"labels\":[\"Positive\",\"Negative\"],\"legendgroup\":\"\",\"name\":\"\",\"showlegend\":true,\"type\":\"pie\",\"values\":[35,11]}],                        {\"height\":500,\"legend\":{\"tracegroupgap\":0},\"piecolorway\":[\"lime\",\"green\"],\"template\":{\"data\":{\"bar\":[{\"error_x\":{\"color\":\"#2a3f5f\"},\"error_y\":{\"color\":\"#2a3f5f\"},\"marker\":{\"line\":{\"color\":\"#E5ECF6\",\"width\":0.5},\"pattern\":{\"fillmode\":\"overlay\",\"size\":10,\"solidity\":0.2}},\"type\":\"bar\"}],\"barpolar\":[{\"marker\":{\"line\":{\"color\":\"#E5ECF6\",\"width\":0.5},\"pattern\":{\"fillmode\":\"overlay\",\"size\":10,\"solidity\":0.2}},\"type\":\"barpolar\"}],\"carpet\":[{\"aaxis\":{\"endlinecolor\":\"#2a3f5f\",\"gridcolor\":\"white\",\"linecolor\":\"white\",\"minorgridcolor\":\"white\",\"startlinecolor\":\"#2a3f5f\"},\"baxis\":{\"endlinecolor\":\"#2a3f5f\",\"gridcolor\":\"white\",\"linecolor\":\"white\",\"minorgridcolor\":\"white\",\"startlinecolor\":\"#2a3f5f\"},\"type\":\"carpet\"}],\"choropleth\":[{\"colorbar\":{\"outlinewidth\":0,\"ticks\":\"\"},\"type\":\"choropleth\"}],\"contour\":[{\"colorbar\":{\"outlinewidth\":0,\"ticks\":\"\"},\"colorscale\":[[0.0,\"#0d0887\"],[0.1111111111111111,\"#46039f\"],[0.2222222222222222,\"#7201a8\"],[0.3333333333333333,\"#9c179e\"],[0.4444444444444444,\"#bd3786\"],[0.5555555555555556,\"#d8576b\"],[0.6666666666666666,\"#ed7953\"],[0.7777777777777778,\"#fb9f3a\"],[0.8888888888888888,\"#fdca26\"],[1.0,\"#f0f921\"]],\"type\":\"contour\"}],\"contourcarpet\":[{\"colorbar\":{\"outlinewidth\":0,\"ticks\":\"\"},\"type\":\"contourcarpet\"}],\"heatmap\":[{\"colorbar\":{\"outlinewidth\":0,\"ticks\":\"\"},\"colorscale\":[[0.0,\"#0d0887\"],[0.1111111111111111,\"#46039f\"],[0.2222222222222222,\"#7201a8\"],[0.3333333333333333,\"#9c179e\"],[0.4444444444444444,\"#bd3786\"],[0.5555555555555556,\"#d8576b\"],[0.6666666666666666,\"#ed7953\"],[0.7777777777777778,\"#fb9f3a\"],[0.8888888888888888,\"#fdca26\"],[1.0,\"#f0f921\"]],\"type\":\"heatmap\"}],\"heatmapgl\":[{\"colorbar\":{\"outlinewidth\":0,\"ticks\":\"\"},\"colorscale\":[[0.0,\"#0d0887\"],[0.1111111111111111,\"#46039f\"],[0.2222222222222222,\"#7201a8\"],[0.3333333333333333,\"#9c179e\"],[0.4444444444444444,\"#bd3786\"],[0.5555555555555556,\"#d8576b\"],[0.6666666666666666,\"#ed7953\"],[0.7777777777777778,\"#fb9f3a\"],[0.8888888888888888,\"#fdca26\"],[1.0,\"#f0f921\"]],\"type\":\"heatmapgl\"}],\"histogram\":[{\"marker\":{\"pattern\":{\"fillmode\":\"overlay\",\"size\":10,\"solidity\":0.2}},\"type\":\"histogram\"}],\"histogram2d\":[{\"colorbar\":{\"outlinewidth\":0,\"ticks\":\"\"},\"colorscale\":[[0.0,\"#0d0887\"],[0.1111111111111111,\"#46039f\"],[0.2222222222222222,\"#7201a8\"],[0.3333333333333333,\"#9c179e\"],[0.4444444444444444,\"#bd3786\"],[0.5555555555555556,\"#d8576b\"],[0.6666666666666666,\"#ed7953\"],[0.7777777777777778,\"#fb9f3a\"],[0.8888888888888888,\"#fdca26\"],[1.0,\"#f0f921\"]],\"type\":\"histogram2d\"}],\"histogram2dcontour\":[{\"colorbar\":{\"outlinewidth\":0,\"ticks\":\"\"},\"colorscale\":[[0.0,\"#0d0887\"],[0.1111111111111111,\"#46039f\"],[0.2222222222222222,\"#7201a8\"],[0.3333333333333333,\"#9c179e\"],[0.4444444444444444,\"#bd3786\"],[0.5555555555555556,\"#d8576b\"],[0.6666666666666666,\"#ed7953\"],[0.7777777777777778,\"#fb9f3a\"],[0.8888888888888888,\"#fdca26\"],[1.0,\"#f0f921\"]],\"type\":\"histogram2dcontour\"}],\"mesh3d\":[{\"colorbar\":{\"outlinewidth\":0,\"ticks\":\"\"},\"type\":\"mesh3d\"}],\"parcoords\":[{\"line\":{\"colorbar\":{\"outlinewidth\":0,\"ticks\":\"\"}},\"type\":\"parcoords\"}],\"pie\":[{\"automargin\":true,\"type\":\"pie\"}],\"scatter\":[{\"marker\":{\"colorbar\":{\"outlinewidth\":0,\"ticks\":\"\"}},\"type\":\"scatter\"}],\"scatter3d\":[{\"line\":{\"colorbar\":{\"outlinewidth\":0,\"ticks\":\"\"}},\"marker\":{\"colorbar\":{\"outlinewidth\":0,\"ticks\":\"\"}},\"type\":\"scatter3d\"}],\"scattercarpet\":[{\"marker\":{\"colorbar\":{\"outlinewidth\":0,\"ticks\":\"\"}},\"type\":\"scattercarpet\"}],\"scattergeo\":[{\"marker\":{\"colorbar\":{\"outlinewidth\":0,\"ticks\":\"\"}},\"type\":\"scattergeo\"}],\"scattergl\":[{\"marker\":{\"colorbar\":{\"outlinewidth\":0,\"ticks\":\"\"}},\"type\":\"scattergl\"}],\"scattermapbox\":[{\"marker\":{\"colorbar\":{\"outlinewidth\":0,\"ticks\":\"\"}},\"type\":\"scattermapbox\"}],\"scatterpolar\":[{\"marker\":{\"colorbar\":{\"outlinewidth\":0,\"ticks\":\"\"}},\"type\":\"scatterpolar\"}],\"scatterpolargl\":[{\"marker\":{\"colorbar\":{\"outlinewidth\":0,\"ticks\":\"\"}},\"type\":\"scatterpolargl\"}],\"scatterternary\":[{\"marker\":{\"colorbar\":{\"outlinewidth\":0,\"ticks\":\"\"}},\"type\":\"scatterternary\"}],\"surface\":[{\"colorbar\":{\"outlinewidth\":0,\"ticks\":\"\"},\"colorscale\":[[0.0,\"#0d0887\"],[0.1111111111111111,\"#46039f\"],[0.2222222222222222,\"#7201a8\"],[0.3333333333333333,\"#9c179e\"],[0.4444444444444444,\"#bd3786\"],[0.5555555555555556,\"#d8576b\"],[0.6666666666666666,\"#ed7953\"],[0.7777777777777778,\"#fb9f3a\"],[0.8888888888888888,\"#fdca26\"],[1.0,\"#f0f921\"]],\"type\":\"surface\"}],\"table\":[{\"cells\":{\"fill\":{\"color\":\"#EBF0F8\"},\"line\":{\"color\":\"white\"}},\"header\":{\"fill\":{\"color\":\"#C8D4E3\"},\"line\":{\"color\":\"white\"}},\"type\":\"table\"}]},\"layout\":{\"annotationdefaults\":{\"arrowcolor\":\"#2a3f5f\",\"arrowhead\":0,\"arrowwidth\":1},\"autotypenumbers\":\"strict\",\"coloraxis\":{\"colorbar\":{\"outlinewidth\":0,\"ticks\":\"\"}},\"colorscale\":{\"diverging\":[[0,\"#8e0152\"],[0.1,\"#c51b7d\"],[0.2,\"#de77ae\"],[0.3,\"#f1b6da\"],[0.4,\"#fde0ef\"],[0.5,\"#f7f7f7\"],[0.6,\"#e6f5d0\"],[0.7,\"#b8e186\"],[0.8,\"#7fbc41\"],[0.9,\"#4d9221\"],[1,\"#276419\"]],\"sequential\":[[0.0,\"#0d0887\"],[0.1111111111111111,\"#46039f\"],[0.2222222222222222,\"#7201a8\"],[0.3333333333333333,\"#9c179e\"],[0.4444444444444444,\"#bd3786\"],[0.5555555555555556,\"#d8576b\"],[0.6666666666666666,\"#ed7953\"],[0.7777777777777778,\"#fb9f3a\"],[0.8888888888888888,\"#fdca26\"],[1.0,\"#f0f921\"]],\"sequentialminus\":[[0.0,\"#0d0887\"],[0.1111111111111111,\"#46039f\"],[0.2222222222222222,\"#7201a8\"],[0.3333333333333333,\"#9c179e\"],[0.4444444444444444,\"#bd3786\"],[0.5555555555555556,\"#d8576b\"],[0.6666666666666666,\"#ed7953\"],[0.7777777777777778,\"#fb9f3a\"],[0.8888888888888888,\"#fdca26\"],[1.0,\"#f0f921\"]]},\"colorway\":[\"#636efa\",\"#EF553B\",\"#00cc96\",\"#ab63fa\",\"#FFA15A\",\"#19d3f3\",\"#FF6692\",\"#B6E880\",\"#FF97FF\",\"#FECB52\"],\"font\":{\"color\":\"#2a3f5f\"},\"geo\":{\"bgcolor\":\"white\",\"lakecolor\":\"white\",\"landcolor\":\"#E5ECF6\",\"showlakes\":true,\"showland\":true,\"subunitcolor\":\"white\"},\"hoverlabel\":{\"align\":\"left\"},\"hovermode\":\"closest\",\"mapbox\":{\"style\":\"light\"},\"paper_bgcolor\":\"white\",\"plot_bgcolor\":\"#E5ECF6\",\"polar\":{\"angularaxis\":{\"gridcolor\":\"white\",\"linecolor\":\"white\",\"ticks\":\"\"},\"bgcolor\":\"#E5ECF6\",\"radialaxis\":{\"gridcolor\":\"white\",\"linecolor\":\"white\",\"ticks\":\"\"}},\"scene\":{\"xaxis\":{\"backgroundcolor\":\"#E5ECF6\",\"gridcolor\":\"white\",\"gridwidth\":2,\"linecolor\":\"white\",\"showbackground\":true,\"ticks\":\"\",\"zerolinecolor\":\"white\"},\"yaxis\":{\"backgroundcolor\":\"#E5ECF6\",\"gridcolor\":\"white\",\"gridwidth\":2,\"linecolor\":\"white\",\"showbackground\":true,\"ticks\":\"\",\"zerolinecolor\":\"white\"},\"zaxis\":{\"backgroundcolor\":\"#E5ECF6\",\"gridcolor\":\"white\",\"gridwidth\":2,\"linecolor\":\"white\",\"showbackground\":true,\"ticks\":\"\",\"zerolinecolor\":\"white\"}},\"shapedefaults\":{\"line\":{\"color\":\"#2a3f5f\"}},\"ternary\":{\"aaxis\":{\"gridcolor\":\"white\",\"linecolor\":\"white\",\"ticks\":\"\"},\"baxis\":{\"gridcolor\":\"white\",\"linecolor\":\"white\",\"ticks\":\"\"},\"bgcolor\":\"#E5ECF6\",\"caxis\":{\"gridcolor\":\"white\",\"linecolor\":\"white\",\"ticks\":\"\"}},\"title\":{\"x\":0.05},\"xaxis\":{\"automargin\":true,\"gridcolor\":\"white\",\"linecolor\":\"white\",\"ticks\":\"\",\"title\":{\"standoff\":15},\"zerolinecolor\":\"white\",\"zerolinewidth\":2},\"yaxis\":{\"automargin\":true,\"gridcolor\":\"white\",\"linecolor\":\"white\",\"ticks\":\"\",\"title\":{\"standoff\":15},\"zerolinecolor\":\"white\",\"zerolinewidth\":2}}},\"title\":{\"text\":\"Overall Sentiment for POP Song Lyrics\"},\"width\":1000},                        {\"responsive\": true}                    ).then(function(){\n",
       "                            \n",
       "var gd = document.getElementById('c816f4c1-8231-4fb3-95e4-71e0656d74dc');\n",
       "var x = new MutationObserver(function (mutations, observer) {{\n",
       "        var display = window.getComputedStyle(gd).display;\n",
       "        if (!display || display === 'none') {{\n",
       "            console.log([gd, 'removed!']);\n",
       "            Plotly.purge(gd);\n",
       "            observer.disconnect();\n",
       "        }}\n",
       "}});\n",
       "\n",
       "// Listen for the removal of the full notebook cells\n",
       "var notebookContainer = gd.closest('#notebook-container');\n",
       "if (notebookContainer) {{\n",
       "    x.observe(notebookContainer, {childList: true});\n",
       "}}\n",
       "\n",
       "// Listen for the clearing of the current output cell\n",
       "var outputEl = gd.closest('.output');\n",
       "if (outputEl) {{\n",
       "    x.observe(outputEl, {childList: true});\n",
       "}}\n",
       "\n",
       "                        })                };                });            </script>        </div>"
      ]
     },
     "metadata": {},
     "output_type": "display_data"
    }
   ],
   "source": [
    "# import plotly.express as px\n",
    "# Plot overall sentiment scores for genre\n",
    "\n",
    "positives = result_lyrics_df['lyrics_sent'].loc[result_lyrics_df['lyrics_sent'] == 1 ].count()\n",
    "negatives = result_lyrics_df['lyrics_sent'].loc[result_lyrics_df['lyrics_sent'] == -1 ].count()\n",
    "index_names = ['Positive', 'Negative']\n",
    "\n",
    "lyrics_sentiment = pd.DataFrame([positives,negatives], columns = ['Count'])\n",
    "lyrics_sentiment.index = index_names\n",
    "\n",
    "pop_sentiment_pie = px.pie(\n",
    "    lyrics_sentiment, \n",
    "    values = 'Count', \n",
    "    names=index_names, \n",
    "    hole = 0.4, \n",
    "    color_discrete_sequence=[\"lime\", \"green\"],\n",
    "    width=1000, \n",
    "    height = 500,\n",
    "    title='Overall Sentiment for POP Song Lyrics'\n",
    "    )  \n",
    "pop_sentiment_pie"
   ]
  },
  {
   "cell_type": "code",
   "execution_count": 266,
   "id": "5cf00617-be15-475b-a5c9-12dcc0484bd4",
   "metadata": {},
   "outputs": [
    {
     "data": {
      "text/html": [
       "<div>\n",
       "<style scoped>\n",
       "    .dataframe tbody tr th:only-of-type {\n",
       "        vertical-align: middle;\n",
       "    }\n",
       "\n",
       "    .dataframe tbody tr th {\n",
       "        vertical-align: top;\n",
       "    }\n",
       "\n",
       "    .dataframe thead th {\n",
       "        text-align: right;\n",
       "    }\n",
       "</style>\n",
       "<table border=\"1\" class=\"dataframe\">\n",
       "  <thead>\n",
       "    <tr style=\"text-align: right;\">\n",
       "      <th></th>\n",
       "      <th>lyrics_compound</th>\n",
       "      <th>lyrics_pos</th>\n",
       "      <th>lyrics_neu</th>\n",
       "      <th>lyrics_neg</th>\n",
       "      <th>lyrics_sent</th>\n",
       "    </tr>\n",
       "  </thead>\n",
       "  <tbody>\n",
       "    <tr>\n",
       "      <th>count</th>\n",
       "      <td>47.000000</td>\n",
       "      <td>47.000000</td>\n",
       "      <td>47.000000</td>\n",
       "      <td>47.000000</td>\n",
       "      <td>47.000000</td>\n",
       "    </tr>\n",
       "    <tr>\n",
       "      <th>mean</th>\n",
       "      <td>0.474749</td>\n",
       "      <td>0.173043</td>\n",
       "      <td>0.722255</td>\n",
       "      <td>0.104702</td>\n",
       "      <td>0.510638</td>\n",
       "    </tr>\n",
       "    <tr>\n",
       "      <th>std</th>\n",
       "      <td>0.783643</td>\n",
       "      <td>0.107479</td>\n",
       "      <td>0.135649</td>\n",
       "      <td>0.108968</td>\n",
       "      <td>0.856493</td>\n",
       "    </tr>\n",
       "    <tr>\n",
       "      <th>min</th>\n",
       "      <td>-0.999900</td>\n",
       "      <td>0.015000</td>\n",
       "      <td>0.300000</td>\n",
       "      <td>0.000000</td>\n",
       "      <td>-1.000000</td>\n",
       "    </tr>\n",
       "    <tr>\n",
       "      <th>25%</th>\n",
       "      <td>0.057950</td>\n",
       "      <td>0.090000</td>\n",
       "      <td>0.664000</td>\n",
       "      <td>0.039000</td>\n",
       "      <td>0.500000</td>\n",
       "    </tr>\n",
       "    <tr>\n",
       "      <th>50%</th>\n",
       "      <td>0.944500</td>\n",
       "      <td>0.140000</td>\n",
       "      <td>0.721000</td>\n",
       "      <td>0.081000</td>\n",
       "      <td>1.000000</td>\n",
       "    </tr>\n",
       "    <tr>\n",
       "      <th>75%</th>\n",
       "      <td>0.997550</td>\n",
       "      <td>0.246500</td>\n",
       "      <td>0.800500</td>\n",
       "      <td>0.124000</td>\n",
       "      <td>1.000000</td>\n",
       "    </tr>\n",
       "    <tr>\n",
       "      <th>max</th>\n",
       "      <td>0.999600</td>\n",
       "      <td>0.457000</td>\n",
       "      <td>0.985000</td>\n",
       "      <td>0.677000</td>\n",
       "      <td>1.000000</td>\n",
       "    </tr>\n",
       "  </tbody>\n",
       "</table>\n",
       "</div>"
      ],
      "text/plain": [
       "       lyrics_compound  lyrics_pos  lyrics_neu  lyrics_neg  lyrics_sent\n",
       "count        47.000000   47.000000   47.000000   47.000000    47.000000\n",
       "mean          0.474749    0.173043    0.722255    0.104702     0.510638\n",
       "std           0.783643    0.107479    0.135649    0.108968     0.856493\n",
       "min          -0.999900    0.015000    0.300000    0.000000    -1.000000\n",
       "25%           0.057950    0.090000    0.664000    0.039000     0.500000\n",
       "50%           0.944500    0.140000    0.721000    0.081000     1.000000\n",
       "75%           0.997550    0.246500    0.800500    0.124000     1.000000\n",
       "max           0.999600    0.457000    0.985000    0.677000     1.000000"
      ]
     },
     "execution_count": 266,
     "metadata": {},
     "output_type": "execute_result"
    }
   ],
   "source": [
    "# Describe lyrics sentiment\n",
    "result_lyrics_df.describe()"
   ]
  },
  {
   "cell_type": "markdown",
   "id": "4fc2a3b8-1b7c-429a-81cf-57d39c7d3072",
   "metadata": {
    "tags": []
   },
   "source": [
    "# NGrams and Frequency Analysis\n",
    "In this section there are the ngrams and word frequency for lyrics.\n",
    "\n",
    "Use NLTK to produce the n-grams"
   ]
  },
  {
   "cell_type": "code",
   "execution_count": 267,
   "id": "d5150ab8-22ce-454d-851f-239c4645f2a4",
   "metadata": {},
   "outputs": [
    {
     "name": "stdout",
     "output_type": "stream",
     "text": [
      "{('low', 'low'): 151, ('yeah', 'yeah'): 85, ('thing', 'said'): 44, ('woman', 'woman'): 39, ('day', 'every'): 36, ('every', 'weekend'): 35, ('low', 'lololow'): 33, ('lololow', 'low'): 33, ('said', 'thing'): 29, ('safe', 'sound'): 27, ('lord', 'let'): 24, ('unstoppable', 'today'): 23, ('weekend', 'day'): 22, ('nah', 'nah'): 21, ('runnin', 'head'): 20, ('today', 'unstoppable'): 20, ('sound', 'safe'): 19, ('every', 'day'): 19, ('feel', 'like'): 18, ('middle', 'night'): 18, ('another', 'love'): 18, ('love', 'hurt'): 18, ('wide', 'awake'): 17, ('lie', 'lie'): 17, ('hurt', 'like'): 17, ('got', 'love'): 17, ('rolling', 'deep'): 16, ('title', 'title'): 16, ('let', 'say'): 16, ('say', 'lord'): 16, ('give', 'title'): 15, ('bad', 'habit'): 14, ('habit', 'lead'): 14, ('keep', 'wide'): 14, ('awake', 'every'): 14, ('low', 'woah'): 13, ('need', 'stay'): 12, ('head', 'runnin'): 12, ('gon', 'wish'): 12, ('wish', 'never'): 12, ('never', 'met'): 12, ('love', 'tear'): 12, ('tear', 'used'): 12, ('long', 'gone'): 12, ('know', 'like'): 12, ('left', 'outside'): 12, ('outside', 'alone'): 12, ('nothing', 'break'): 12, ('break', 'like'): 12, ('like', 'heart'): 12, ('like', 'like'): 11, ('like', 'love'): 11, ('tear', 'gon'): 11, ('gon', 'fall'): 11, ('fall', 'rolling'): 11, ('need', 'know'): 11, ('leave', 'love'): 11, ('weekend', 'keep'): 11, ('gon', 'get'): 10, ('yeah', 'know'): 10, ('love', 'long'): 10, ('love', 'leave'): 10, ('love', 'got'): 10, ('let', 'let'): 10, ('woah', 'low'): 10, ('dance', 'dance'): 10, ('move', 'move'): 10, ('nothing', 'nothing'): 10, ('make', 'feel'): 9, ('ooh', 'love'): 9, ('love', 'like'): 9, ('know', 'know'): 9, ('ooh', 'ooh'): 9, ('night', 'middle'): 9, ('call', 'name'): 9, ('get', 'paid'): 9, ('paid', 'yeah'): 9, ('head', 'thing'): 9, ('fly', 'away'): 9, ('know', 'really'): 9}\n"
     ]
    }
   ],
   "source": [
    "# Generate the Bitcoin N-grams where N=2\n",
    "lyrics_text = ' '.join(new_lyrics_df[\"Lyrics\"])\n",
    "lyrics_processed = tokenizer(lyrics_text)\n",
    "lyrics_ngrams = Counter(ngrams(lyrics_processed, n=2))\n",
    "print(dict(lyrics_ngrams.most_common(80)))"
   ]
  },
  {
   "cell_type": "code",
   "execution_count": 268,
   "id": "05280dad-b32e-45d4-9503-7c09c9c695f6",
   "metadata": {},
   "outputs": [],
   "source": [
    "# Use the token_count function to generate the top 50 words from the lyrics\n",
    "def token_count(Tokens, N=50):\n",
    "    \"\"\"Returns the top N tokens from the frequency count\"\"\"\n",
    "    return Counter(Tokens).most_common(N)"
   ]
  },
  {
   "cell_type": "code",
   "execution_count": 269,
   "id": "2d377666-78cd-43c0-9870-03879c6824db",
   "metadata": {},
   "outputs": [
    {
     "data": {
      "text/plain": [
       "[('low', 200),\n",
       " ('yeah', 194),\n",
       " ('love', 179),\n",
       " ('know', 176),\n",
       " ('like', 166),\n",
       " ('got', 102),\n",
       " ('never', 95),\n",
       " ('baby', 93),\n",
       " ('need', 89),\n",
       " ('want', 83),\n",
       " ('let', 77),\n",
       " ('thing', 76),\n",
       " ('every', 70),\n",
       " ('feel', 67),\n",
       " ('say', 65),\n",
       " ('woman', 65),\n",
       " ('said', 64),\n",
       " ('way', 63),\n",
       " ('make', 62),\n",
       " ('night', 58),\n",
       " ('could', 53),\n",
       " ('time', 52),\n",
       " ('heart', 51),\n",
       " ('gon', 51),\n",
       " ('get', 51),\n",
       " ('day', 50),\n",
       " ('come', 49),\n",
       " ('see', 45),\n",
       " ('ooh', 43),\n",
       " ('really', 42),\n",
       " ('take', 41),\n",
       " ('alone', 39),\n",
       " ('weekend', 39),\n",
       " ('right', 38),\n",
       " ('nothing', 38),\n",
       " ('go', 37),\n",
       " ('dance', 36),\n",
       " ('give', 35),\n",
       " ('head', 35),\n",
       " ('lie', 33),\n",
       " ('safe', 33),\n",
       " ('lololow', 33),\n",
       " ('call', 32),\n",
       " ('title', 32),\n",
       " ('life', 31),\n",
       " ('think', 29),\n",
       " ('well', 29),\n",
       " ('tear', 29),\n",
       " ('ai', 28),\n",
       " ('sound', 28)]"
      ]
     },
     "execution_count": 269,
     "metadata": {},
     "output_type": "execute_result"
    }
   ],
   "source": [
    "# Use token_count to get the top 50 words from rnb lyrics\n",
    "lyrics_top_50 = token_count(lyrics_processed)\n",
    "lyrics_top_50"
   ]
  },
  {
   "cell_type": "code",
   "execution_count": 270,
   "id": "83a987b0-2af0-4c3c-8c80-6d766b45cc7c",
   "metadata": {
    "tags": []
   },
   "outputs": [
    {
     "data": {
      "text/html": [
       "<div>\n",
       "<style scoped>\n",
       "    .dataframe tbody tr th:only-of-type {\n",
       "        vertical-align: middle;\n",
       "    }\n",
       "\n",
       "    .dataframe tbody tr th {\n",
       "        vertical-align: top;\n",
       "    }\n",
       "\n",
       "    .dataframe thead th {\n",
       "        text-align: right;\n",
       "    }\n",
       "</style>\n",
       "<table border=\"1\" class=\"dataframe\">\n",
       "  <thead>\n",
       "    <tr style=\"text-align: right;\">\n",
       "      <th></th>\n",
       "      <th>Count</th>\n",
       "    </tr>\n",
       "    <tr>\n",
       "      <th>Word</th>\n",
       "      <th></th>\n",
       "    </tr>\n",
       "  </thead>\n",
       "  <tbody>\n",
       "    <tr>\n",
       "      <th>low</th>\n",
       "      <td>200</td>\n",
       "    </tr>\n",
       "    <tr>\n",
       "      <th>yeah</th>\n",
       "      <td>194</td>\n",
       "    </tr>\n",
       "    <tr>\n",
       "      <th>love</th>\n",
       "      <td>179</td>\n",
       "    </tr>\n",
       "    <tr>\n",
       "      <th>know</th>\n",
       "      <td>176</td>\n",
       "    </tr>\n",
       "    <tr>\n",
       "      <th>like</th>\n",
       "      <td>166</td>\n",
       "    </tr>\n",
       "    <tr>\n",
       "      <th>got</th>\n",
       "      <td>102</td>\n",
       "    </tr>\n",
       "    <tr>\n",
       "      <th>never</th>\n",
       "      <td>95</td>\n",
       "    </tr>\n",
       "    <tr>\n",
       "      <th>baby</th>\n",
       "      <td>93</td>\n",
       "    </tr>\n",
       "    <tr>\n",
       "      <th>need</th>\n",
       "      <td>89</td>\n",
       "    </tr>\n",
       "    <tr>\n",
       "      <th>want</th>\n",
       "      <td>83</td>\n",
       "    </tr>\n",
       "    <tr>\n",
       "      <th>let</th>\n",
       "      <td>77</td>\n",
       "    </tr>\n",
       "    <tr>\n",
       "      <th>thing</th>\n",
       "      <td>76</td>\n",
       "    </tr>\n",
       "    <tr>\n",
       "      <th>every</th>\n",
       "      <td>70</td>\n",
       "    </tr>\n",
       "    <tr>\n",
       "      <th>feel</th>\n",
       "      <td>67</td>\n",
       "    </tr>\n",
       "    <tr>\n",
       "      <th>say</th>\n",
       "      <td>65</td>\n",
       "    </tr>\n",
       "    <tr>\n",
       "      <th>woman</th>\n",
       "      <td>65</td>\n",
       "    </tr>\n",
       "    <tr>\n",
       "      <th>said</th>\n",
       "      <td>64</td>\n",
       "    </tr>\n",
       "    <tr>\n",
       "      <th>way</th>\n",
       "      <td>63</td>\n",
       "    </tr>\n",
       "    <tr>\n",
       "      <th>make</th>\n",
       "      <td>62</td>\n",
       "    </tr>\n",
       "    <tr>\n",
       "      <th>night</th>\n",
       "      <td>58</td>\n",
       "    </tr>\n",
       "    <tr>\n",
       "      <th>could</th>\n",
       "      <td>53</td>\n",
       "    </tr>\n",
       "    <tr>\n",
       "      <th>time</th>\n",
       "      <td>52</td>\n",
       "    </tr>\n",
       "    <tr>\n",
       "      <th>heart</th>\n",
       "      <td>51</td>\n",
       "    </tr>\n",
       "    <tr>\n",
       "      <th>gon</th>\n",
       "      <td>51</td>\n",
       "    </tr>\n",
       "    <tr>\n",
       "      <th>get</th>\n",
       "      <td>51</td>\n",
       "    </tr>\n",
       "    <tr>\n",
       "      <th>day</th>\n",
       "      <td>50</td>\n",
       "    </tr>\n",
       "    <tr>\n",
       "      <th>come</th>\n",
       "      <td>49</td>\n",
       "    </tr>\n",
       "    <tr>\n",
       "      <th>see</th>\n",
       "      <td>45</td>\n",
       "    </tr>\n",
       "    <tr>\n",
       "      <th>ooh</th>\n",
       "      <td>43</td>\n",
       "    </tr>\n",
       "    <tr>\n",
       "      <th>really</th>\n",
       "      <td>42</td>\n",
       "    </tr>\n",
       "    <tr>\n",
       "      <th>take</th>\n",
       "      <td>41</td>\n",
       "    </tr>\n",
       "    <tr>\n",
       "      <th>alone</th>\n",
       "      <td>39</td>\n",
       "    </tr>\n",
       "    <tr>\n",
       "      <th>weekend</th>\n",
       "      <td>39</td>\n",
       "    </tr>\n",
       "    <tr>\n",
       "      <th>right</th>\n",
       "      <td>38</td>\n",
       "    </tr>\n",
       "    <tr>\n",
       "      <th>nothing</th>\n",
       "      <td>38</td>\n",
       "    </tr>\n",
       "    <tr>\n",
       "      <th>go</th>\n",
       "      <td>37</td>\n",
       "    </tr>\n",
       "    <tr>\n",
       "      <th>dance</th>\n",
       "      <td>36</td>\n",
       "    </tr>\n",
       "    <tr>\n",
       "      <th>give</th>\n",
       "      <td>35</td>\n",
       "    </tr>\n",
       "    <tr>\n",
       "      <th>head</th>\n",
       "      <td>35</td>\n",
       "    </tr>\n",
       "    <tr>\n",
       "      <th>lie</th>\n",
       "      <td>33</td>\n",
       "    </tr>\n",
       "    <tr>\n",
       "      <th>safe</th>\n",
       "      <td>33</td>\n",
       "    </tr>\n",
       "    <tr>\n",
       "      <th>lololow</th>\n",
       "      <td>33</td>\n",
       "    </tr>\n",
       "    <tr>\n",
       "      <th>call</th>\n",
       "      <td>32</td>\n",
       "    </tr>\n",
       "    <tr>\n",
       "      <th>title</th>\n",
       "      <td>32</td>\n",
       "    </tr>\n",
       "    <tr>\n",
       "      <th>life</th>\n",
       "      <td>31</td>\n",
       "    </tr>\n",
       "    <tr>\n",
       "      <th>think</th>\n",
       "      <td>29</td>\n",
       "    </tr>\n",
       "    <tr>\n",
       "      <th>well</th>\n",
       "      <td>29</td>\n",
       "    </tr>\n",
       "    <tr>\n",
       "      <th>tear</th>\n",
       "      <td>29</td>\n",
       "    </tr>\n",
       "    <tr>\n",
       "      <th>ai</th>\n",
       "      <td>28</td>\n",
       "    </tr>\n",
       "    <tr>\n",
       "      <th>sound</th>\n",
       "      <td>28</td>\n",
       "    </tr>\n",
       "  </tbody>\n",
       "</table>\n",
       "</div>"
      ],
      "text/plain": [
       "         Count\n",
       "Word          \n",
       "low        200\n",
       "yeah       194\n",
       "love       179\n",
       "know       176\n",
       "like       166\n",
       "got        102\n",
       "never       95\n",
       "baby        93\n",
       "need        89\n",
       "want        83\n",
       "let         77\n",
       "thing       76\n",
       "every       70\n",
       "feel        67\n",
       "say         65\n",
       "woman       65\n",
       "said        64\n",
       "way         63\n",
       "make        62\n",
       "night       58\n",
       "could       53\n",
       "time        52\n",
       "heart       51\n",
       "gon         51\n",
       "get         51\n",
       "day         50\n",
       "come        49\n",
       "see         45\n",
       "ooh         43\n",
       "really      42\n",
       "take        41\n",
       "alone       39\n",
       "weekend     39\n",
       "right       38\n",
       "nothing     38\n",
       "go          37\n",
       "dance       36\n",
       "give        35\n",
       "head        35\n",
       "lie         33\n",
       "safe        33\n",
       "lololow     33\n",
       "call        32\n",
       "title       32\n",
       "life        31\n",
       "think       29\n",
       "well        29\n",
       "tear        29\n",
       "ai          28\n",
       "sound       28"
      ]
     },
     "execution_count": 270,
     "metadata": {},
     "output_type": "execute_result"
    }
   ],
   "source": [
    "# Create df for most common tokens\n",
    "\n",
    "lyrics_top50_df = pd.DataFrame(lyrics_top_50, columns=['Word', 'Count']).set_index('Word')\n",
    "lyrics_top50_df"
   ]
  },
  {
   "cell_type": "code",
   "execution_count": 271,
   "id": "b4b8ad34-aefe-4325-bf84-553df1efb0b8",
   "metadata": {},
   "outputs": [],
   "source": [
    "# Export Top Words dataframe to CSV\n",
    "# lyrics_top50_df.to_csv('pop_top_words.csv')"
   ]
  },
  {
   "cell_type": "code",
   "execution_count": 272,
   "id": "aa7c3a1b-cd19-4b19-8dd1-24be0d541c51",
   "metadata": {},
   "outputs": [
    {
     "data": {
      "application/vnd.plotly.v1+json": {
       "config": {
        "plotlyServerURL": "https://plot.ly"
       },
       "data": [
        {
         "alignmentgroup": "True",
         "hovertemplate": "Word=%{x}<br>Count=%{marker.color}<extra></extra>",
         "legendgroup": "",
         "marker": {
          "color": [
           200,
           194,
           179,
           176,
           166,
           102,
           95,
           93,
           89,
           83,
           77,
           76,
           70,
           67,
           65,
           65,
           64,
           63,
           62,
           58,
           53,
           52,
           51,
           51,
           51,
           50,
           49,
           45,
           43,
           42,
           41,
           39,
           39,
           38,
           38,
           37,
           36,
           35,
           35,
           33,
           33,
           33,
           32,
           32,
           31,
           29,
           29,
           29,
           28,
           28
          ],
          "coloraxis": "coloraxis",
          "pattern": {
           "shape": ""
          }
         },
         "name": "",
         "offsetgroup": "",
         "orientation": "v",
         "showlegend": false,
         "textposition": "auto",
         "type": "bar",
         "x": [
          "low",
          "yeah",
          "love",
          "know",
          "like",
          "got",
          "never",
          "baby",
          "need",
          "want",
          "let",
          "thing",
          "every",
          "feel",
          "say",
          "woman",
          "said",
          "way",
          "make",
          "night",
          "could",
          "time",
          "heart",
          "gon",
          "get",
          "day",
          "come",
          "see",
          "ooh",
          "really",
          "take",
          "alone",
          "weekend",
          "right",
          "nothing",
          "go",
          "dance",
          "give",
          "head",
          "lie",
          "safe",
          "lololow",
          "call",
          "title",
          "life",
          "think",
          "well",
          "tear",
          "ai",
          "sound"
         ],
         "xaxis": "x",
         "y": [
          200,
          194,
          179,
          176,
          166,
          102,
          95,
          93,
          89,
          83,
          77,
          76,
          70,
          67,
          65,
          65,
          64,
          63,
          62,
          58,
          53,
          52,
          51,
          51,
          51,
          50,
          49,
          45,
          43,
          42,
          41,
          39,
          39,
          38,
          38,
          37,
          36,
          35,
          35,
          33,
          33,
          33,
          32,
          32,
          31,
          29,
          29,
          29,
          28,
          28
         ],
         "yaxis": "y"
        }
       ],
       "layout": {
        "autosize": true,
        "barmode": "relative",
        "coloraxis": {
         "colorbar": {
          "title": {
           "text": "Count"
          }
         },
         "colorscale": [
          [
           0,
           "rgb(211, 242, 163)"
          ],
          [
           0.16666666666666666,
           "rgb(151, 225, 150)"
          ],
          [
           0.3333333333333333,
           "rgb(108, 192, 139)"
          ],
          [
           0.5,
           "rgb(76, 155, 130)"
          ],
          [
           0.6666666666666666,
           "rgb(33, 122, 121)"
          ],
          [
           0.8333333333333334,
           "rgb(16, 89, 101)"
          ],
          [
           1,
           "rgb(7, 64, 80)"
          ]
         ]
        },
        "legend": {
         "tracegroupgap": 0
        },
        "template": {
         "data": {
          "bar": [
           {
            "error_x": {
             "color": "#2a3f5f"
            },
            "error_y": {
             "color": "#2a3f5f"
            },
            "marker": {
             "line": {
              "color": "#E5ECF6",
              "width": 0.5
             },
             "pattern": {
              "fillmode": "overlay",
              "size": 10,
              "solidity": 0.2
             }
            },
            "type": "bar"
           }
          ],
          "barpolar": [
           {
            "marker": {
             "line": {
              "color": "#E5ECF6",
              "width": 0.5
             },
             "pattern": {
              "fillmode": "overlay",
              "size": 10,
              "solidity": 0.2
             }
            },
            "type": "barpolar"
           }
          ],
          "carpet": [
           {
            "aaxis": {
             "endlinecolor": "#2a3f5f",
             "gridcolor": "white",
             "linecolor": "white",
             "minorgridcolor": "white",
             "startlinecolor": "#2a3f5f"
            },
            "baxis": {
             "endlinecolor": "#2a3f5f",
             "gridcolor": "white",
             "linecolor": "white",
             "minorgridcolor": "white",
             "startlinecolor": "#2a3f5f"
            },
            "type": "carpet"
           }
          ],
          "choropleth": [
           {
            "colorbar": {
             "outlinewidth": 0,
             "ticks": ""
            },
            "type": "choropleth"
           }
          ],
          "contour": [
           {
            "colorbar": {
             "outlinewidth": 0,
             "ticks": ""
            },
            "colorscale": [
             [
              0,
              "#0d0887"
             ],
             [
              0.1111111111111111,
              "#46039f"
             ],
             [
              0.2222222222222222,
              "#7201a8"
             ],
             [
              0.3333333333333333,
              "#9c179e"
             ],
             [
              0.4444444444444444,
              "#bd3786"
             ],
             [
              0.5555555555555556,
              "#d8576b"
             ],
             [
              0.6666666666666666,
              "#ed7953"
             ],
             [
              0.7777777777777778,
              "#fb9f3a"
             ],
             [
              0.8888888888888888,
              "#fdca26"
             ],
             [
              1,
              "#f0f921"
             ]
            ],
            "type": "contour"
           }
          ],
          "contourcarpet": [
           {
            "colorbar": {
             "outlinewidth": 0,
             "ticks": ""
            },
            "type": "contourcarpet"
           }
          ],
          "heatmap": [
           {
            "colorbar": {
             "outlinewidth": 0,
             "ticks": ""
            },
            "colorscale": [
             [
              0,
              "#0d0887"
             ],
             [
              0.1111111111111111,
              "#46039f"
             ],
             [
              0.2222222222222222,
              "#7201a8"
             ],
             [
              0.3333333333333333,
              "#9c179e"
             ],
             [
              0.4444444444444444,
              "#bd3786"
             ],
             [
              0.5555555555555556,
              "#d8576b"
             ],
             [
              0.6666666666666666,
              "#ed7953"
             ],
             [
              0.7777777777777778,
              "#fb9f3a"
             ],
             [
              0.8888888888888888,
              "#fdca26"
             ],
             [
              1,
              "#f0f921"
             ]
            ],
            "type": "heatmap"
           }
          ],
          "heatmapgl": [
           {
            "colorbar": {
             "outlinewidth": 0,
             "ticks": ""
            },
            "colorscale": [
             [
              0,
              "#0d0887"
             ],
             [
              0.1111111111111111,
              "#46039f"
             ],
             [
              0.2222222222222222,
              "#7201a8"
             ],
             [
              0.3333333333333333,
              "#9c179e"
             ],
             [
              0.4444444444444444,
              "#bd3786"
             ],
             [
              0.5555555555555556,
              "#d8576b"
             ],
             [
              0.6666666666666666,
              "#ed7953"
             ],
             [
              0.7777777777777778,
              "#fb9f3a"
             ],
             [
              0.8888888888888888,
              "#fdca26"
             ],
             [
              1,
              "#f0f921"
             ]
            ],
            "type": "heatmapgl"
           }
          ],
          "histogram": [
           {
            "marker": {
             "pattern": {
              "fillmode": "overlay",
              "size": 10,
              "solidity": 0.2
             }
            },
            "type": "histogram"
           }
          ],
          "histogram2d": [
           {
            "colorbar": {
             "outlinewidth": 0,
             "ticks": ""
            },
            "colorscale": [
             [
              0,
              "#0d0887"
             ],
             [
              0.1111111111111111,
              "#46039f"
             ],
             [
              0.2222222222222222,
              "#7201a8"
             ],
             [
              0.3333333333333333,
              "#9c179e"
             ],
             [
              0.4444444444444444,
              "#bd3786"
             ],
             [
              0.5555555555555556,
              "#d8576b"
             ],
             [
              0.6666666666666666,
              "#ed7953"
             ],
             [
              0.7777777777777778,
              "#fb9f3a"
             ],
             [
              0.8888888888888888,
              "#fdca26"
             ],
             [
              1,
              "#f0f921"
             ]
            ],
            "type": "histogram2d"
           }
          ],
          "histogram2dcontour": [
           {
            "colorbar": {
             "outlinewidth": 0,
             "ticks": ""
            },
            "colorscale": [
             [
              0,
              "#0d0887"
             ],
             [
              0.1111111111111111,
              "#46039f"
             ],
             [
              0.2222222222222222,
              "#7201a8"
             ],
             [
              0.3333333333333333,
              "#9c179e"
             ],
             [
              0.4444444444444444,
              "#bd3786"
             ],
             [
              0.5555555555555556,
              "#d8576b"
             ],
             [
              0.6666666666666666,
              "#ed7953"
             ],
             [
              0.7777777777777778,
              "#fb9f3a"
             ],
             [
              0.8888888888888888,
              "#fdca26"
             ],
             [
              1,
              "#f0f921"
             ]
            ],
            "type": "histogram2dcontour"
           }
          ],
          "mesh3d": [
           {
            "colorbar": {
             "outlinewidth": 0,
             "ticks": ""
            },
            "type": "mesh3d"
           }
          ],
          "parcoords": [
           {
            "line": {
             "colorbar": {
              "outlinewidth": 0,
              "ticks": ""
             }
            },
            "type": "parcoords"
           }
          ],
          "pie": [
           {
            "automargin": true,
            "type": "pie"
           }
          ],
          "scatter": [
           {
            "marker": {
             "colorbar": {
              "outlinewidth": 0,
              "ticks": ""
             }
            },
            "type": "scatter"
           }
          ],
          "scatter3d": [
           {
            "line": {
             "colorbar": {
              "outlinewidth": 0,
              "ticks": ""
             }
            },
            "marker": {
             "colorbar": {
              "outlinewidth": 0,
              "ticks": ""
             }
            },
            "type": "scatter3d"
           }
          ],
          "scattercarpet": [
           {
            "marker": {
             "colorbar": {
              "outlinewidth": 0,
              "ticks": ""
             }
            },
            "type": "scattercarpet"
           }
          ],
          "scattergeo": [
           {
            "marker": {
             "colorbar": {
              "outlinewidth": 0,
              "ticks": ""
             }
            },
            "type": "scattergeo"
           }
          ],
          "scattergl": [
           {
            "marker": {
             "colorbar": {
              "outlinewidth": 0,
              "ticks": ""
             }
            },
            "type": "scattergl"
           }
          ],
          "scattermapbox": [
           {
            "marker": {
             "colorbar": {
              "outlinewidth": 0,
              "ticks": ""
             }
            },
            "type": "scattermapbox"
           }
          ],
          "scatterpolar": [
           {
            "marker": {
             "colorbar": {
              "outlinewidth": 0,
              "ticks": ""
             }
            },
            "type": "scatterpolar"
           }
          ],
          "scatterpolargl": [
           {
            "marker": {
             "colorbar": {
              "outlinewidth": 0,
              "ticks": ""
             }
            },
            "type": "scatterpolargl"
           }
          ],
          "scatterternary": [
           {
            "marker": {
             "colorbar": {
              "outlinewidth": 0,
              "ticks": ""
             }
            },
            "type": "scatterternary"
           }
          ],
          "surface": [
           {
            "colorbar": {
             "outlinewidth": 0,
             "ticks": ""
            },
            "colorscale": [
             [
              0,
              "#0d0887"
             ],
             [
              0.1111111111111111,
              "#46039f"
             ],
             [
              0.2222222222222222,
              "#7201a8"
             ],
             [
              0.3333333333333333,
              "#9c179e"
             ],
             [
              0.4444444444444444,
              "#bd3786"
             ],
             [
              0.5555555555555556,
              "#d8576b"
             ],
             [
              0.6666666666666666,
              "#ed7953"
             ],
             [
              0.7777777777777778,
              "#fb9f3a"
             ],
             [
              0.8888888888888888,
              "#fdca26"
             ],
             [
              1,
              "#f0f921"
             ]
            ],
            "type": "surface"
           }
          ],
          "table": [
           {
            "cells": {
             "fill": {
              "color": "#EBF0F8"
             },
             "line": {
              "color": "white"
             }
            },
            "header": {
             "fill": {
              "color": "#C8D4E3"
             },
             "line": {
              "color": "white"
             }
            },
            "type": "table"
           }
          ]
         },
         "layout": {
          "annotationdefaults": {
           "arrowcolor": "#2a3f5f",
           "arrowhead": 0,
           "arrowwidth": 1
          },
          "autotypenumbers": "strict",
          "coloraxis": {
           "colorbar": {
            "outlinewidth": 0,
            "ticks": ""
           }
          },
          "colorscale": {
           "diverging": [
            [
             0,
             "#8e0152"
            ],
            [
             0.1,
             "#c51b7d"
            ],
            [
             0.2,
             "#de77ae"
            ],
            [
             0.3,
             "#f1b6da"
            ],
            [
             0.4,
             "#fde0ef"
            ],
            [
             0.5,
             "#f7f7f7"
            ],
            [
             0.6,
             "#e6f5d0"
            ],
            [
             0.7,
             "#b8e186"
            ],
            [
             0.8,
             "#7fbc41"
            ],
            [
             0.9,
             "#4d9221"
            ],
            [
             1,
             "#276419"
            ]
           ],
           "sequential": [
            [
             0,
             "#0d0887"
            ],
            [
             0.1111111111111111,
             "#46039f"
            ],
            [
             0.2222222222222222,
             "#7201a8"
            ],
            [
             0.3333333333333333,
             "#9c179e"
            ],
            [
             0.4444444444444444,
             "#bd3786"
            ],
            [
             0.5555555555555556,
             "#d8576b"
            ],
            [
             0.6666666666666666,
             "#ed7953"
            ],
            [
             0.7777777777777778,
             "#fb9f3a"
            ],
            [
             0.8888888888888888,
             "#fdca26"
            ],
            [
             1,
             "#f0f921"
            ]
           ],
           "sequentialminus": [
            [
             0,
             "#0d0887"
            ],
            [
             0.1111111111111111,
             "#46039f"
            ],
            [
             0.2222222222222222,
             "#7201a8"
            ],
            [
             0.3333333333333333,
             "#9c179e"
            ],
            [
             0.4444444444444444,
             "#bd3786"
            ],
            [
             0.5555555555555556,
             "#d8576b"
            ],
            [
             0.6666666666666666,
             "#ed7953"
            ],
            [
             0.7777777777777778,
             "#fb9f3a"
            ],
            [
             0.8888888888888888,
             "#fdca26"
            ],
            [
             1,
             "#f0f921"
            ]
           ]
          },
          "colorway": [
           "#636efa",
           "#EF553B",
           "#00cc96",
           "#ab63fa",
           "#FFA15A",
           "#19d3f3",
           "#FF6692",
           "#B6E880",
           "#FF97FF",
           "#FECB52"
          ],
          "font": {
           "color": "#2a3f5f"
          },
          "geo": {
           "bgcolor": "white",
           "lakecolor": "white",
           "landcolor": "#E5ECF6",
           "showlakes": true,
           "showland": true,
           "subunitcolor": "white"
          },
          "hoverlabel": {
           "align": "left"
          },
          "hovermode": "closest",
          "mapbox": {
           "style": "light"
          },
          "paper_bgcolor": "white",
          "plot_bgcolor": "#E5ECF6",
          "polar": {
           "angularaxis": {
            "gridcolor": "white",
            "linecolor": "white",
            "ticks": ""
           },
           "bgcolor": "#E5ECF6",
           "radialaxis": {
            "gridcolor": "white",
            "linecolor": "white",
            "ticks": ""
           }
          },
          "scene": {
           "xaxis": {
            "backgroundcolor": "#E5ECF6",
            "gridcolor": "white",
            "gridwidth": 2,
            "linecolor": "white",
            "showbackground": true,
            "ticks": "",
            "zerolinecolor": "white"
           },
           "yaxis": {
            "backgroundcolor": "#E5ECF6",
            "gridcolor": "white",
            "gridwidth": 2,
            "linecolor": "white",
            "showbackground": true,
            "ticks": "",
            "zerolinecolor": "white"
           },
           "zaxis": {
            "backgroundcolor": "#E5ECF6",
            "gridcolor": "white",
            "gridwidth": 2,
            "linecolor": "white",
            "showbackground": true,
            "ticks": "",
            "zerolinecolor": "white"
           }
          },
          "shapedefaults": {
           "line": {
            "color": "#2a3f5f"
           }
          },
          "ternary": {
           "aaxis": {
            "gridcolor": "white",
            "linecolor": "white",
            "ticks": ""
           },
           "baxis": {
            "gridcolor": "white",
            "linecolor": "white",
            "ticks": ""
           },
           "bgcolor": "#E5ECF6",
           "caxis": {
            "gridcolor": "white",
            "linecolor": "white",
            "ticks": ""
           }
          },
          "title": {
           "x": 0.05
          },
          "xaxis": {
           "automargin": true,
           "gridcolor": "white",
           "linecolor": "white",
           "ticks": "",
           "title": {
            "standoff": 15
           },
           "zerolinecolor": "white",
           "zerolinewidth": 2
          },
          "yaxis": {
           "automargin": true,
           "gridcolor": "white",
           "linecolor": "white",
           "ticks": "",
           "title": {
            "standoff": 15
           },
           "zerolinecolor": "white",
           "zerolinewidth": 2
          }
         }
        },
        "title": {
         "text": "Top Words for POP"
        },
        "xaxis": {
         "anchor": "y",
         "autorange": true,
         "domain": [
          0,
          1
         ],
         "range": [
          -0.5,
          49.5
         ],
         "title": {
          "text": "Word"
         },
         "type": "category"
        },
        "yaxis": {
         "anchor": "x",
         "autorange": true,
         "domain": [
          0,
          1
         ],
         "range": [
          0,
          210.5263157894737
         ],
         "title": {
          "text": "Count"
         },
         "type": "linear"
        }
       }
      },
      "image/png": "[encoded data removed]",
      "text/html": [
       "<div>                            <div id=\"b419c88c-b5aa-4c93-b3db-e45529390ed0\" class=\"plotly-graph-div\" style=\"height:525px; width:100%;\"></div>            <script type=\"text/javascript\">                require([\"plotly\"], function(Plotly) {                    window.PLOTLYENV=window.PLOTLYENV || {};                                    if (document.getElementById(\"b419c88c-b5aa-4c93-b3db-e45529390ed0\")) {                    Plotly.newPlot(                        \"b419c88c-b5aa-4c93-b3db-e45529390ed0\",                        [{\"alignmentgroup\":\"True\",\"hovertemplate\":\"Word=%{x}<br>Count=%{marker.color}<extra></extra>\",\"legendgroup\":\"\",\"marker\":{\"color\":[200,194,179,176,166,102,95,93,89,83,77,76,70,67,65,65,64,63,62,58,53,52,51,51,51,50,49,45,43,42,41,39,39,38,38,37,36,35,35,33,33,33,32,32,31,29,29,29,28,28],\"coloraxis\":\"coloraxis\",\"pattern\":{\"shape\":\"\"}},\"name\":\"\",\"offsetgroup\":\"\",\"orientation\":\"v\",\"showlegend\":false,\"textposition\":\"auto\",\"type\":\"bar\",\"x\":[\"low\",\"yeah\",\"love\",\"know\",\"like\",\"got\",\"never\",\"baby\",\"need\",\"want\",\"let\",\"thing\",\"every\",\"feel\",\"say\",\"woman\",\"said\",\"way\",\"make\",\"night\",\"could\",\"time\",\"heart\",\"gon\",\"get\",\"day\",\"come\",\"see\",\"ooh\",\"really\",\"take\",\"alone\",\"weekend\",\"right\",\"nothing\",\"go\",\"dance\",\"give\",\"head\",\"lie\",\"safe\",\"lololow\",\"call\",\"title\",\"life\",\"think\",\"well\",\"tear\",\"ai\",\"sound\"],\"xaxis\":\"x\",\"y\":[200,194,179,176,166,102,95,93,89,83,77,76,70,67,65,65,64,63,62,58,53,52,51,51,51,50,49,45,43,42,41,39,39,38,38,37,36,35,35,33,33,33,32,32,31,29,29,29,28,28],\"yaxis\":\"y\"}],                        {\"barmode\":\"relative\",\"coloraxis\":{\"colorbar\":{\"title\":{\"text\":\"Count\"}},\"colorscale\":[[0.0,\"rgb(211, 242, 163)\"],[0.16666666666666666,\"rgb(151, 225, 150)\"],[0.3333333333333333,\"rgb(108, 192, 139)\"],[0.5,\"rgb(76, 155, 130)\"],[0.6666666666666666,\"rgb(33, 122, 121)\"],[0.8333333333333334,\"rgb(16, 89, 101)\"],[1.0,\"rgb(7, 64, 80)\"]]},\"legend\":{\"tracegroupgap\":0},\"template\":{\"data\":{\"bar\":[{\"error_x\":{\"color\":\"#2a3f5f\"},\"error_y\":{\"color\":\"#2a3f5f\"},\"marker\":{\"line\":{\"color\":\"#E5ECF6\",\"width\":0.5},\"pattern\":{\"fillmode\":\"overlay\",\"size\":10,\"solidity\":0.2}},\"type\":\"bar\"}],\"barpolar\":[{\"marker\":{\"line\":{\"color\":\"#E5ECF6\",\"width\":0.5},\"pattern\":{\"fillmode\":\"overlay\",\"size\":10,\"solidity\":0.2}},\"type\":\"barpolar\"}],\"carpet\":[{\"aaxis\":{\"endlinecolor\":\"#2a3f5f\",\"gridcolor\":\"white\",\"linecolor\":\"white\",\"minorgridcolor\":\"white\",\"startlinecolor\":\"#2a3f5f\"},\"baxis\":{\"endlinecolor\":\"#2a3f5f\",\"gridcolor\":\"white\",\"linecolor\":\"white\",\"minorgridcolor\":\"white\",\"startlinecolor\":\"#2a3f5f\"},\"type\":\"carpet\"}],\"choropleth\":[{\"colorbar\":{\"outlinewidth\":0,\"ticks\":\"\"},\"type\":\"choropleth\"}],\"contour\":[{\"colorbar\":{\"outlinewidth\":0,\"ticks\":\"\"},\"colorscale\":[[0.0,\"#0d0887\"],[0.1111111111111111,\"#46039f\"],[0.2222222222222222,\"#7201a8\"],[0.3333333333333333,\"#9c179e\"],[0.4444444444444444,\"#bd3786\"],[0.5555555555555556,\"#d8576b\"],[0.6666666666666666,\"#ed7953\"],[0.7777777777777778,\"#fb9f3a\"],[0.8888888888888888,\"#fdca26\"],[1.0,\"#f0f921\"]],\"type\":\"contour\"}],\"contourcarpet\":[{\"colorbar\":{\"outlinewidth\":0,\"ticks\":\"\"},\"type\":\"contourcarpet\"}],\"heatmap\":[{\"colorbar\":{\"outlinewidth\":0,\"ticks\":\"\"},\"colorscale\":[[0.0,\"#0d0887\"],[0.1111111111111111,\"#46039f\"],[0.2222222222222222,\"#7201a8\"],[0.3333333333333333,\"#9c179e\"],[0.4444444444444444,\"#bd3786\"],[0.5555555555555556,\"#d8576b\"],[0.6666666666666666,\"#ed7953\"],[0.7777777777777778,\"#fb9f3a\"],[0.8888888888888888,\"#fdca26\"],[1.0,\"#f0f921\"]],\"type\":\"heatmap\"}],\"heatmapgl\":[{\"colorbar\":{\"outlinewidth\":0,\"ticks\":\"\"},\"colorscale\":[[0.0,\"#0d0887\"],[0.1111111111111111,\"#46039f\"],[0.2222222222222222,\"#7201a8\"],[0.3333333333333333,\"#9c179e\"],[0.4444444444444444,\"#bd3786\"],[0.5555555555555556,\"#d8576b\"],[0.6666666666666666,\"#ed7953\"],[0.7777777777777778,\"#fb9f3a\"],[0.8888888888888888,\"#fdca26\"],[1.0,\"#f0f921\"]],\"type\":\"heatmapgl\"}],\"histogram\":[{\"marker\":{\"pattern\":{\"fillmode\":\"overlay\",\"size\":10,\"solidity\":0.2}},\"type\":\"histogram\"}],\"histogram2d\":[{\"colorbar\":{\"outlinewidth\":0,\"ticks\":\"\"},\"colorscale\":[[0.0,\"#0d0887\"],[0.1111111111111111,\"#46039f\"],[0.2222222222222222,\"#7201a8\"],[0.3333333333333333,\"#9c179e\"],[0.4444444444444444,\"#bd3786\"],[0.5555555555555556,\"#d8576b\"],[0.6666666666666666,\"#ed7953\"],[0.7777777777777778,\"#fb9f3a\"],[0.8888888888888888,\"#fdca26\"],[1.0,\"#f0f921\"]],\"type\":\"histogram2d\"}],\"histogram2dcontour\":[{\"colorbar\":{\"outlinewidth\":0,\"ticks\":\"\"},\"colorscale\":[[0.0,\"#0d0887\"],[0.1111111111111111,\"#46039f\"],[0.2222222222222222,\"#7201a8\"],[0.3333333333333333,\"#9c179e\"],[0.4444444444444444,\"#bd3786\"],[0.5555555555555556,\"#d8576b\"],[0.6666666666666666,\"#ed7953\"],[0.7777777777777778,\"#fb9f3a\"],[0.8888888888888888,\"#fdca26\"],[1.0,\"#f0f921\"]],\"type\":\"histogram2dcontour\"}],\"mesh3d\":[{\"colorbar\":{\"outlinewidth\":0,\"ticks\":\"\"},\"type\":\"mesh3d\"}],\"parcoords\":[{\"line\":{\"colorbar\":{\"outlinewidth\":0,\"ticks\":\"\"}},\"type\":\"parcoords\"}],\"pie\":[{\"automargin\":true,\"type\":\"pie\"}],\"scatter\":[{\"marker\":{\"colorbar\":{\"outlinewidth\":0,\"ticks\":\"\"}},\"type\":\"scatter\"}],\"scatter3d\":[{\"line\":{\"colorbar\":{\"outlinewidth\":0,\"ticks\":\"\"}},\"marker\":{\"colorbar\":{\"outlinewidth\":0,\"ticks\":\"\"}},\"type\":\"scatter3d\"}],\"scattercarpet\":[{\"marker\":{\"colorbar\":{\"outlinewidth\":0,\"ticks\":\"\"}},\"type\":\"scattercarpet\"}],\"scattergeo\":[{\"marker\":{\"colorbar\":{\"outlinewidth\":0,\"ticks\":\"\"}},\"type\":\"scattergeo\"}],\"scattergl\":[{\"marker\":{\"colorbar\":{\"outlinewidth\":0,\"ticks\":\"\"}},\"type\":\"scattergl\"}],\"scattermapbox\":[{\"marker\":{\"colorbar\":{\"outlinewidth\":0,\"ticks\":\"\"}},\"type\":\"scattermapbox\"}],\"scatterpolar\":[{\"marker\":{\"colorbar\":{\"outlinewidth\":0,\"ticks\":\"\"}},\"type\":\"scatterpolar\"}],\"scatterpolargl\":[{\"marker\":{\"colorbar\":{\"outlinewidth\":0,\"ticks\":\"\"}},\"type\":\"scatterpolargl\"}],\"scatterternary\":[{\"marker\":{\"colorbar\":{\"outlinewidth\":0,\"ticks\":\"\"}},\"type\":\"scatterternary\"}],\"surface\":[{\"colorbar\":{\"outlinewidth\":0,\"ticks\":\"\"},\"colorscale\":[[0.0,\"#0d0887\"],[0.1111111111111111,\"#46039f\"],[0.2222222222222222,\"#7201a8\"],[0.3333333333333333,\"#9c179e\"],[0.4444444444444444,\"#bd3786\"],[0.5555555555555556,\"#d8576b\"],[0.6666666666666666,\"#ed7953\"],[0.7777777777777778,\"#fb9f3a\"],[0.8888888888888888,\"#fdca26\"],[1.0,\"#f0f921\"]],\"type\":\"surface\"}],\"table\":[{\"cells\":{\"fill\":{\"color\":\"#EBF0F8\"},\"line\":{\"color\":\"white\"}},\"header\":{\"fill\":{\"color\":\"#C8D4E3\"},\"line\":{\"color\":\"white\"}},\"type\":\"table\"}]},\"layout\":{\"annotationdefaults\":{\"arrowcolor\":\"#2a3f5f\",\"arrowhead\":0,\"arrowwidth\":1},\"autotypenumbers\":\"strict\",\"coloraxis\":{\"colorbar\":{\"outlinewidth\":0,\"ticks\":\"\"}},\"colorscale\":{\"diverging\":[[0,\"#8e0152\"],[0.1,\"#c51b7d\"],[0.2,\"#de77ae\"],[0.3,\"#f1b6da\"],[0.4,\"#fde0ef\"],[0.5,\"#f7f7f7\"],[0.6,\"#e6f5d0\"],[0.7,\"#b8e186\"],[0.8,\"#7fbc41\"],[0.9,\"#4d9221\"],[1,\"#276419\"]],\"sequential\":[[0.0,\"#0d0887\"],[0.1111111111111111,\"#46039f\"],[0.2222222222222222,\"#7201a8\"],[0.3333333333333333,\"#9c179e\"],[0.4444444444444444,\"#bd3786\"],[0.5555555555555556,\"#d8576b\"],[0.6666666666666666,\"#ed7953\"],[0.7777777777777778,\"#fb9f3a\"],[0.8888888888888888,\"#fdca26\"],[1.0,\"#f0f921\"]],\"sequentialminus\":[[0.0,\"#0d0887\"],[0.1111111111111111,\"#46039f\"],[0.2222222222222222,\"#7201a8\"],[0.3333333333333333,\"#9c179e\"],[0.4444444444444444,\"#bd3786\"],[0.5555555555555556,\"#d8576b\"],[0.6666666666666666,\"#ed7953\"],[0.7777777777777778,\"#fb9f3a\"],[0.8888888888888888,\"#fdca26\"],[1.0,\"#f0f921\"]]},\"colorway\":[\"#636efa\",\"#EF553B\",\"#00cc96\",\"#ab63fa\",\"#FFA15A\",\"#19d3f3\",\"#FF6692\",\"#B6E880\",\"#FF97FF\",\"#FECB52\"],\"font\":{\"color\":\"#2a3f5f\"},\"geo\":{\"bgcolor\":\"white\",\"lakecolor\":\"white\",\"landcolor\":\"#E5ECF6\",\"showlakes\":true,\"showland\":true,\"subunitcolor\":\"white\"},\"hoverlabel\":{\"align\":\"left\"},\"hovermode\":\"closest\",\"mapbox\":{\"style\":\"light\"},\"paper_bgcolor\":\"white\",\"plot_bgcolor\":\"#E5ECF6\",\"polar\":{\"angularaxis\":{\"gridcolor\":\"white\",\"linecolor\":\"white\",\"ticks\":\"\"},\"bgcolor\":\"#E5ECF6\",\"radialaxis\":{\"gridcolor\":\"white\",\"linecolor\":\"white\",\"ticks\":\"\"}},\"scene\":{\"xaxis\":{\"backgroundcolor\":\"#E5ECF6\",\"gridcolor\":\"white\",\"gridwidth\":2,\"linecolor\":\"white\",\"showbackground\":true,\"ticks\":\"\",\"zerolinecolor\":\"white\"},\"yaxis\":{\"backgroundcolor\":\"#E5ECF6\",\"gridcolor\":\"white\",\"gridwidth\":2,\"linecolor\":\"white\",\"showbackground\":true,\"ticks\":\"\",\"zerolinecolor\":\"white\"},\"zaxis\":{\"backgroundcolor\":\"#E5ECF6\",\"gridcolor\":\"white\",\"gridwidth\":2,\"linecolor\":\"white\",\"showbackground\":true,\"ticks\":\"\",\"zerolinecolor\":\"white\"}},\"shapedefaults\":{\"line\":{\"color\":\"#2a3f5f\"}},\"ternary\":{\"aaxis\":{\"gridcolor\":\"white\",\"linecolor\":\"white\",\"ticks\":\"\"},\"baxis\":{\"gridcolor\":\"white\",\"linecolor\":\"white\",\"ticks\":\"\"},\"bgcolor\":\"#E5ECF6\",\"caxis\":{\"gridcolor\":\"white\",\"linecolor\":\"white\",\"ticks\":\"\"}},\"title\":{\"x\":0.05},\"xaxis\":{\"automargin\":true,\"gridcolor\":\"white\",\"linecolor\":\"white\",\"ticks\":\"\",\"title\":{\"standoff\":15},\"zerolinecolor\":\"white\",\"zerolinewidth\":2},\"yaxis\":{\"automargin\":true,\"gridcolor\":\"white\",\"linecolor\":\"white\",\"ticks\":\"\",\"title\":{\"standoff\":15},\"zerolinecolor\":\"white\",\"zerolinewidth\":2}}},\"title\":{\"text\":\"Top Words for POP\"},\"xaxis\":{\"anchor\":\"y\",\"domain\":[0.0,1.0],\"title\":{\"text\":\"Word\"}},\"yaxis\":{\"anchor\":\"x\",\"domain\":[0.0,1.0],\"title\":{\"text\":\"Count\"}}},                        {\"responsive\": true}                    ).then(function(){\n",
       "                            \n",
       "var gd = document.getElementById('b419c88c-b5aa-4c93-b3db-e45529390ed0');\n",
       "var x = new MutationObserver(function (mutations, observer) {{\n",
       "        var display = window.getComputedStyle(gd).display;\n",
       "        if (!display || display === 'none') {{\n",
       "            console.log([gd, 'removed!']);\n",
       "            Plotly.purge(gd);\n",
       "            observer.disconnect();\n",
       "        }}\n",
       "}});\n",
       "\n",
       "// Listen for the removal of the full notebook cells\n",
       "var notebookContainer = gd.closest('#notebook-container');\n",
       "if (notebookContainer) {{\n",
       "    x.observe(notebookContainer, {childList: true});\n",
       "}}\n",
       "\n",
       "// Listen for the clearing of the current output cell\n",
       "var outputEl = gd.closest('.output');\n",
       "if (outputEl) {{\n",
       "    x.observe(outputEl, {childList: true});\n",
       "}}\n",
       "\n",
       "                        })                };                });            </script>        </div>"
      ]
     },
     "metadata": {},
     "output_type": "display_data"
    }
   ],
   "source": [
    "# Plot most common tokens\n",
    "lyrics_top50_plot = px.bar(\n",
    "    lyrics_top50_df,\n",
    "    y = 'Count',\n",
    "    color = \"Count\",\n",
    "    color_continuous_scale='emrld',\n",
    "    title ='Top Words for POP'\n",
    ")\n",
    "lyrics_top50_plot"
   ]
  },
  {
   "cell_type": "markdown",
   "id": "7d9668f0-d4ed-4bec-a4ef-f8ad4d67a658",
   "metadata": {},
   "source": [
    "# Word Clouds\n",
    "In this section, I generate word clouds hip hop rap lyrics"
   ]
  },
  {
   "cell_type": "code",
   "execution_count": 273,
   "id": "533746de-1090-4f36-9f44-62b1b315d5ca",
   "metadata": {},
   "outputs": [
    {
     "data": {
      "image/png": "[encoded data removed]",
      "text/plain": [
       "<Figure size 432x288 with 3 Axes>"
      ]
     },
     "metadata": {
      "needs_background": "light"
     },
     "output_type": "display_data"
    }
   ],
   "source": [
    "# Generate the RnB lyrics word cloud\n",
    "lyrics_words_joined = ' '.join(lyrics_processed)\n",
    "\n",
    "rnb_coloring = np.array(Image.open(\"Images/pop.png\"))\n",
    "\n",
    "wccc = WordCloud(background_color=\"white\", max_words=2000, mask=rnb_coloring, max_font_size=120, random_state=42, width=2000, height=1200)\n",
    "\n",
    "# generate word cloud\n",
    "wccc.generate(lyrics_words_joined)\n",
    "\n",
    "# create coloring from image\n",
    "image_colors = ImageColorGenerator(rnb_coloring)\n",
    "\n",
    "# show\n",
    "fig, axes = plt.subplots(1, 3)\n",
    "axes[0].imshow(wccc, interpolation=\"bilinear\")\n",
    "# recolor wordcloud and show\n",
    "# we could also give color_func=image_colors directly in the constructor\n",
    "axes[1].imshow(wccc.recolor(color_func=image_colors), interpolation=\"bilinear\")\n",
    "axes[2].imshow(rnb_coloring, cmap=plt.cm.gray, interpolation=\"bilinear\")\n",
    "for ax in axes:\n",
    "    ax.set_axis_off()\n",
    "plt.show()\n"
   ]
  },
  {
   "cell_type": "code",
   "execution_count": 274,
   "id": "a402828e-c650-4e47-8b00-ee3890be3fe4",
   "metadata": {},
   "outputs": [],
   "source": [
    "# Save image as png\n",
    "# wccc.to_file(\"Images/popwordcloud.png\")"
   ]
  },
  {
   "cell_type": "markdown",
   "id": "8bf53451-0423-42f7-9cd0-64cf92ac6ec6",
   "metadata": {},
   "source": [
    "# Named Entity Recognition\n",
    "In this section, we build a named entity recognition model for the hip hop lyrics, then visualize the tags using SpaCy."
   ]
  },
  {
   "cell_type": "code",
   "execution_count": 275,
   "id": "653ca1b5-9bec-456d-ad66-c695aebe377a",
   "metadata": {},
   "outputs": [],
   "source": [
    "# Load the spaCy model\n",
    "nlp = spacy.load('en_core_web_sm')"
   ]
  },
  {
   "cell_type": "code",
   "execution_count": 276,
   "id": "3ef62d5f-92a0-4761-a9d4-a9b812b4a9ec",
   "metadata": {},
   "outputs": [],
   "source": [
    "# Run the NER processor on all of the text\n",
    "rnb_ner = nlp(lyrics_text)\n",
    "\n",
    "# Add a title to the document\n",
    "rnb_ner.user_data['title'] = 'R&B Soul NER'"
   ]
  },
  {
   "cell_type": "code",
   "execution_count": 277,
   "id": "145eb192-296f-47bf-99f9-b3ea9ac87089",
   "metadata": {
    "tags": []
   },
   "outputs": [
    {
     "data": {
      "text/html": [
       "<span class=\"tex2jax_ignore\"><h2 style=\"margin: 0\">R&B Soul NER</h2>\n",
       "\n",
       "<div class=\"entities\" style=\"line-height: 2.5; direction: ltr\">It's a human sign When things go wrong When the scent of her lingers And temptation's strong  Cold, cold heart Hard done by you Some things looking better, baby Just passing through (oh, no, no, no, no)  And I think it's gonna be a long, long time '\n",
       "<mark class=\"entity\" style=\"background: #aa9cfc; padding: 0.45em 0.6em; margin: 0 0.25em; line-height: 1; border-radius: 0.35em;\">\n",
       "    Til\n",
       "    <span style=\"font-size: 0.8em; font-weight: bold; line-height: 1; border-radius: 0.35em; vertical-align: middle; margin-left: 0.5rem\">PERSON</span>\n",
       "</mark>\n",
       " touchdown brings me 'round again to find I'm not the man they think I am at home Oh, no, no, no  And this is what I should have said Well, I thought it but I kept it hid  Cold, cold heart Hard done by you Something's looking better, baby Just passing through (oh, no, no, no, no)  And I think it's gonna be a long, long time '\n",
       "<mark class=\"entity\" style=\"background: #aa9cfc; padding: 0.45em 0.6em; margin: 0 0.25em; line-height: 1; border-radius: 0.35em;\">\n",
       "    Til\n",
       "    <span style=\"font-size: 0.8em; font-weight: bold; line-height: 1; border-radius: 0.35em; vertical-align: middle; margin-left: 0.5rem\">PERSON</span>\n",
       "</mark>\n",
       " touchdown brings me 'round again to find I'm not the man they think I am at home Oh, no, no, no (no, no, no, no)  And this is what I should have said Well, I thought it but I kept it hid  Cold, cold heart Hard done by you Some things looking better, baby Just passing through (oh, no, no, no, no)  And I think it's gonna be a long, long time '\n",
       "<mark class=\"entity\" style=\"background: #aa9cfc; padding: 0.45em 0.6em; margin: 0 0.25em; line-height: 1; border-radius: 0.35em;\">\n",
       "    Til\n",
       "    <span style=\"font-size: 0.8em; font-weight: bold; line-height: 1; border-radius: 0.35em; vertical-align: middle; margin-left: 0.5rem\">PERSON</span>\n",
       "</mark>\n",
       " touchdown brings me 'round again to find I'm not the man they think I am at home Oh, no, no, no (no, no, no, no) And this is what I should have said ('\n",
       "<mark class=\"entity\" style=\"background: #aa9cfc; padding: 0.45em 0.6em; margin: 0 0.25em; line-height: 1; border-radius: 0.35em;\">\n",
       "    Til\n",
       "    <span style=\"font-size: 0.8em; font-weight: bold; line-height: 1; border-radius: 0.35em; vertical-align: middle; margin-left: 0.5rem\">PERSON</span>\n",
       "</mark>\n",
       " touchdown brings me 'round again to find) Well, I thought it but I kept it hid (No, no, no, no)  Shoorah, shoorah \n",
       "<mark class=\"entity\" style=\"background: #aa9cfc; padding: 0.45em 0.6em; margin: 0 0.25em; line-height: 1; border-radius: 0.35em;\">\n",
       "    Shoorah\n",
       "    <span style=\"font-size: 0.8em; font-weight: bold; line-height: 1; border-radius: 0.35em; vertical-align: middle; margin-left: 0.5rem\">PERSON</span>\n",
       "</mark>\n",
       ", shoorah Oh, no, no, no, no There ain't no gold in this river That I've been washing my hands in forever I know there is hope in these waters But I can't bring myself to swim When I am drowning in this silence \n",
       "<mark class=\"entity\" style=\"background: #bfeeb7; padding: 0.45em 0.6em; margin: 0 0.25em; line-height: 1; border-radius: 0.35em;\">\n",
       "    Baby\n",
       "    <span style=\"font-size: 0.8em; font-weight: bold; line-height: 1; border-radius: 0.35em; vertical-align: middle; margin-left: 0.5rem\">PRODUCT</span>\n",
       "</mark>\n",
       ", let me in  Go easy on me, baby I was still a child Didn't get the chance to Feel the world around me I had no time to choose what I chose to do So go easy on me  There ain't no room for our things to change When we are both so deeply stuck in our ways You can't deny how hard I've tried I changed who I was to put you both \n",
       "<mark class=\"entity\" style=\"background: #e4e7d2; padding: 0.45em 0.6em; margin: 0 0.25em; line-height: 1; border-radius: 0.35em;\">\n",
       "    first\n",
       "    <span style=\"font-size: 0.8em; font-weight: bold; line-height: 1; border-radius: 0.35em; vertical-align: middle; margin-left: 0.5rem\">ORDINAL</span>\n",
       "</mark>\n",
       " But now I give up  Go easy on me, baby I was still a child Didn't get the chance to Feel the world around me Had no time to choose what I chose to do So go easy on me  I had good intentions And the highest hopes But I know right now It probably doesn't even show  Go easy on me, baby I was still a child I didn't get the chance to Feel the world around me I had no time to choose what I chose to do So go easy on me Fuck you and your mom and your sister and your job And your broke-ass car and that shit you call art Fuck you and your friends that I'll never see again Everybody but your dog, you can all fuck off  I swear I meant to mean the best when it ended Even tried to bite my tongue when you start shit Now you're textin' all my friends asking questions They never even liked you in the \n",
       "<mark class=\"entity\" style=\"background: #e4e7d2; padding: 0.45em 0.6em; margin: 0 0.25em; line-height: 1; border-radius: 0.35em;\">\n",
       "    first\n",
       "    <span style=\"font-size: 0.8em; font-weight: bold; line-height: 1; border-radius: 0.35em; vertical-align: middle; margin-left: 0.5rem\">ORDINAL</span>\n",
       "</mark>\n",
       " place Dated a girl that I hate for the attention She only made it \n",
       "<mark class=\"entity\" style=\"background: #bfe1d9; padding: 0.45em 0.6em; margin: 0 0.25em; line-height: 1; border-radius: 0.35em;\">\n",
       "    two days\n",
       "    <span style=\"font-size: 0.8em; font-weight: bold; line-height: 1; border-radius: 0.35em; vertical-align: middle; margin-left: 0.5rem\">DATE</span>\n",
       "</mark>\n",
       ", what a connection It's like you'd do anything for my affection You're goin' all about it in the worst ways  I was into you, but I'm over it now And I was tryin' to be nice But nothing's getting through, so let me spell it out  A-B-C-D-E, \n",
       "<mark class=\"entity\" style=\"background: #bfeeb7; padding: 0.45em 0.6em; margin: 0 0.25em; line-height: 1; border-radius: 0.35em;\">\n",
       "    F-U\n",
       "    <span style=\"font-size: 0.8em; font-weight: bold; line-height: 1; border-radius: 0.35em; vertical-align: middle; margin-left: 0.5rem\">PRODUCT</span>\n",
       "</mark>\n",
       " And your mom and your sister and your job And your broke-ass car and that shit you call art Fuck you and your friends that I'll never see again Everybody but your dog, you can all fuck off  Nah, \n",
       "<mark class=\"entity\" style=\"background: #feca74; padding: 0.45em 0.6em; margin: 0 0.25em; line-height: 1; border-radius: 0.35em;\">\n",
       "    nah\n",
       "    <span style=\"font-size: 0.8em; font-weight: bold; line-height: 1; border-radius: 0.35em; vertical-align: middle; margin-left: 0.5rem\">GPE</span>\n",
       "</mark>\n",
       ", \n",
       "<mark class=\"entity\" style=\"background: #feca74; padding: 0.45em 0.6em; margin: 0 0.25em; line-height: 1; border-radius: 0.35em;\">\n",
       "    nah\n",
       "    <span style=\"font-size: 0.8em; font-weight: bold; line-height: 1; border-radius: 0.35em; vertical-align: middle; margin-left: 0.5rem\">GPE</span>\n",
       "</mark>\n",
       ", \n",
       "<mark class=\"entity\" style=\"background: #feca74; padding: 0.45em 0.6em; margin: 0 0.25em; line-height: 1; border-radius: 0.35em;\">\n",
       "    nah\n",
       "    <span style=\"font-size: 0.8em; font-weight: bold; line-height: 1; border-radius: 0.35em; vertical-align: middle; margin-left: 0.5rem\">GPE</span>\n",
       "</mark>\n",
       ", \n",
       "<mark class=\"entity\" style=\"background: #feca74; padding: 0.45em 0.6em; margin: 0 0.25em; line-height: 1; border-radius: 0.35em;\">\n",
       "    nah\n",
       "    <span style=\"font-size: 0.8em; font-weight: bold; line-height: 1; border-radius: 0.35em; vertical-align: middle; margin-left: 0.5rem\">GPE</span>\n",
       "</mark>\n",
       ", \n",
       "<mark class=\"entity\" style=\"background: #feca74; padding: 0.45em 0.6em; margin: 0 0.25em; line-height: 1; border-radius: 0.35em;\">\n",
       "    nah\n",
       "    <span style=\"font-size: 0.8em; font-weight: bold; line-height: 1; border-radius: 0.35em; vertical-align: middle; margin-left: 0.5rem\">GPE</span>\n",
       "</mark>\n",
       ", \n",
       "<mark class=\"entity\" style=\"background: #aa9cfc; padding: 0.45em 0.6em; margin: 0 0.25em; line-height: 1; border-radius: 0.35em;\">\n",
       "    nah\n",
       "    <span style=\"font-size: 0.8em; font-weight: bold; line-height: 1; border-radius: 0.35em; vertical-align: middle; margin-left: 0.5rem\">PERSON</span>\n",
       "</mark>\n",
       ", nah A-B-C-D-E, \n",
       "<mark class=\"entity\" style=\"background: #bfeeb7; padding: 0.45em 0.6em; margin: 0 0.25em; line-height: 1; border-radius: 0.35em;\">\n",
       "    F-U  You\n",
       "    <span style=\"font-size: 0.8em; font-weight: bold; line-height: 1; border-radius: 0.35em; vertical-align: middle; margin-left: 0.5rem\">PRODUCT</span>\n",
       "</mark>\n",
       " said you just needed space and so I gave it When I had nothin' to say you couldn't take it Told everyone I'm a bitch, so I became it Always had to put yourself above me  I was into you, but I'm over it now And I was tryin' to be nice But nothing's getting through, so let me spell it out  A-B-C-D-E, \n",
       "<mark class=\"entity\" style=\"background: #bfeeb7; padding: 0.45em 0.6em; margin: 0 0.25em; line-height: 1; border-radius: 0.35em;\">\n",
       "    F-U\n",
       "    <span style=\"font-size: 0.8em; font-weight: bold; line-height: 1; border-radius: 0.35em; vertical-align: middle; margin-left: 0.5rem\">PRODUCT</span>\n",
       "</mark>\n",
       " And your mom and your sister and your job And your craigslist couch and the way your voice sounds Fuck you and your friends that I'll never see again Everybody but your dog, you can all fuck off  Nah, \n",
       "<mark class=\"entity\" style=\"background: #feca74; padding: 0.45em 0.6em; margin: 0 0.25em; line-height: 1; border-radius: 0.35em;\">\n",
       "    nah\n",
       "    <span style=\"font-size: 0.8em; font-weight: bold; line-height: 1; border-radius: 0.35em; vertical-align: middle; margin-left: 0.5rem\">GPE</span>\n",
       "</mark>\n",
       ", \n",
       "<mark class=\"entity\" style=\"background: #feca74; padding: 0.45em 0.6em; margin: 0 0.25em; line-height: 1; border-radius: 0.35em;\">\n",
       "    nah\n",
       "    <span style=\"font-size: 0.8em; font-weight: bold; line-height: 1; border-radius: 0.35em; vertical-align: middle; margin-left: 0.5rem\">GPE</span>\n",
       "</mark>\n",
       ", \n",
       "<mark class=\"entity\" style=\"background: #feca74; padding: 0.45em 0.6em; margin: 0 0.25em; line-height: 1; border-radius: 0.35em;\">\n",
       "    nah\n",
       "    <span style=\"font-size: 0.8em; font-weight: bold; line-height: 1; border-radius: 0.35em; vertical-align: middle; margin-left: 0.5rem\">GPE</span>\n",
       "</mark>\n",
       ", \n",
       "<mark class=\"entity\" style=\"background: #feca74; padding: 0.45em 0.6em; margin: 0 0.25em; line-height: 1; border-radius: 0.35em;\">\n",
       "    nah\n",
       "    <span style=\"font-size: 0.8em; font-weight: bold; line-height: 1; border-radius: 0.35em; vertical-align: middle; margin-left: 0.5rem\">GPE</span>\n",
       "</mark>\n",
       ", \n",
       "<mark class=\"entity\" style=\"background: #feca74; padding: 0.45em 0.6em; margin: 0 0.25em; line-height: 1; border-radius: 0.35em;\">\n",
       "    nah\n",
       "    <span style=\"font-size: 0.8em; font-weight: bold; line-height: 1; border-radius: 0.35em; vertical-align: middle; margin-left: 0.5rem\">GPE</span>\n",
       "</mark>\n",
       ", \n",
       "<mark class=\"entity\" style=\"background: #aa9cfc; padding: 0.45em 0.6em; margin: 0 0.25em; line-height: 1; border-radius: 0.35em;\">\n",
       "    nah\n",
       "    <span style=\"font-size: 0.8em; font-weight: bold; line-height: 1; border-radius: 0.35em; vertical-align: middle; margin-left: 0.5rem\">PERSON</span>\n",
       "</mark>\n",
       ", nah A-B-C-D-E, \n",
       "<mark class=\"entity\" style=\"background: #bfeeb7; padding: 0.45em 0.6em; margin: 0 0.25em; line-height: 1; border-radius: 0.35em;\">\n",
       "    F-U Nah\n",
       "    <span style=\"font-size: 0.8em; font-weight: bold; line-height: 1; border-radius: 0.35em; vertical-align: middle; margin-left: 0.5rem\">PRODUCT</span>\n",
       "</mark>\n",
       ", \n",
       "<mark class=\"entity\" style=\"background: #feca74; padding: 0.45em 0.6em; margin: 0 0.25em; line-height: 1; border-radius: 0.35em;\">\n",
       "    nah\n",
       "    <span style=\"font-size: 0.8em; font-weight: bold; line-height: 1; border-radius: 0.35em; vertical-align: middle; margin-left: 0.5rem\">GPE</span>\n",
       "</mark>\n",
       ", \n",
       "<mark class=\"entity\" style=\"background: #feca74; padding: 0.45em 0.6em; margin: 0 0.25em; line-height: 1; border-radius: 0.35em;\">\n",
       "    nah\n",
       "    <span style=\"font-size: 0.8em; font-weight: bold; line-height: 1; border-radius: 0.35em; vertical-align: middle; margin-left: 0.5rem\">GPE</span>\n",
       "</mark>\n",
       ", \n",
       "<mark class=\"entity\" style=\"background: #feca74; padding: 0.45em 0.6em; margin: 0 0.25em; line-height: 1; border-radius: 0.35em;\">\n",
       "    nah\n",
       "    <span style=\"font-size: 0.8em; font-weight: bold; line-height: 1; border-radius: 0.35em; vertical-align: middle; margin-left: 0.5rem\">GPE</span>\n",
       "</mark>\n",
       ", \n",
       "<mark class=\"entity\" style=\"background: #feca74; padding: 0.45em 0.6em; margin: 0 0.25em; line-height: 1; border-radius: 0.35em;\">\n",
       "    nah\n",
       "    <span style=\"font-size: 0.8em; font-weight: bold; line-height: 1; border-radius: 0.35em; vertical-align: middle; margin-left: 0.5rem\">GPE</span>\n",
       "</mark>\n",
       ", \n",
       "<mark class=\"entity\" style=\"background: #feca74; padding: 0.45em 0.6em; margin: 0 0.25em; line-height: 1; border-radius: 0.35em;\">\n",
       "    nah\n",
       "    <span style=\"font-size: 0.8em; font-weight: bold; line-height: 1; border-radius: 0.35em; vertical-align: middle; margin-left: 0.5rem\">GPE</span>\n",
       "</mark>\n",
       ", \n",
       "<mark class=\"entity\" style=\"background: #aa9cfc; padding: 0.45em 0.6em; margin: 0 0.25em; line-height: 1; border-radius: 0.35em;\">\n",
       "    nah\n",
       "    <span style=\"font-size: 0.8em; font-weight: bold; line-height: 1; border-radius: 0.35em; vertical-align: middle; margin-left: 0.5rem\">PERSON</span>\n",
       "</mark>\n",
       ", nah A-B-C-D-E, \n",
       "<mark class=\"entity\" style=\"background: #bfeeb7; padding: 0.45em 0.6em; margin: 0 0.25em; line-height: 1; border-radius: 0.35em;\">\n",
       "    F-U\n",
       "    <span style=\"font-size: 0.8em; font-weight: bold; line-height: 1; border-radius: 0.35em; vertical-align: middle; margin-left: 0.5rem\">PRODUCT</span>\n",
       "</mark>\n",
       "  And your mom and your sister and your job And your broke-ass car and that shit you call art Fuck you and your friends that I'll never see again Everybody but your dog, you can all fuck off \n",
       "<mark class=\"entity\" style=\"background: #e4e7d2; padding: 0.45em 0.6em; margin: 0 0.25em; line-height: 1; border-radius: 0.35em;\">\n",
       "    One\n",
       "    <span style=\"font-size: 0.8em; font-weight: bold; line-height: 1; border-radius: 0.35em; vertical-align: middle; margin-left: 0.5rem\">CARDINAL</span>\n",
       "</mark>\n",
       ", \n",
       "<mark class=\"entity\" style=\"background: #e4e7d2; padding: 0.45em 0.6em; margin: 0 0.25em; line-height: 1; border-radius: 0.35em;\">\n",
       "    two\n",
       "    <span style=\"font-size: 0.8em; font-weight: bold; line-height: 1; border-radius: 0.35em; vertical-align: middle; margin-left: 0.5rem\">CARDINAL</span>\n",
       "</mark>\n",
       ", \n",
       "<mark class=\"entity\" style=\"background: #e4e7d2; padding: 0.45em 0.6em; margin: 0 0.25em; line-height: 1; border-radius: 0.35em;\">\n",
       "    one\n",
       "    <span style=\"font-size: 0.8em; font-weight: bold; line-height: 1; border-radius: 0.35em; vertical-align: middle; margin-left: 0.5rem\">CARDINAL</span>\n",
       "</mark>\n",
       ", \n",
       "<mark class=\"entity\" style=\"background: #e4e7d2; padding: 0.45em 0.6em; margin: 0 0.25em; line-height: 1; border-radius: 0.35em;\">\n",
       "    two\n",
       "    <span style=\"font-size: 0.8em; font-weight: bold; line-height: 1; border-radius: 0.35em; vertical-align: middle; margin-left: 0.5rem\">CARDINAL</span>\n",
       "</mark>\n",
       ", \n",
       "<mark class=\"entity\" style=\"background: #e4e7d2; padding: 0.45em 0.6em; margin: 0 0.25em; line-height: 1; border-radius: 0.35em;\">\n",
       "    three\n",
       "    <span style=\"font-size: 0.8em; font-weight: bold; line-height: 1; border-radius: 0.35em; vertical-align: middle; margin-left: 0.5rem\">CARDINAL</span>\n",
       "</mark>\n",
       "  Oh yeah yeah Oh yeah yeah yeah yeah yeah, uh! Oh yeah yeah Oh yeah yeah yeah yeah, uh!  Never had much faith in love or miracles (miracles), uh! Never wanna put my heart on the line, uh! But swimming in your water is something spiritual (spiritual), uh! I'm born again every time you spend the night, uh!  'Cause your sex takes me to paradise Yeah your sex takes me to paradise And it shows, yeah, yeah, yeah  'Cause you make me feel like I've been locked out of heaven For too lo-ong, for too lo-ong Yeah you make me feel like I've been locked out of heaven For too lo-ong, for too lo-ong, ooh  Oh yeah yeah yeah yeah, uh! Oh yeah yeah Oh yeah yeah yeah yeah, uh!  You bring me to my knees You make me testify (testify), uh! You can make a sinner change his ways, uh! Open up your gates 'cause I can't wait to see the light, uh! And right there is where I wanna stay, uh!  'Cause your sex takes me to paradise Yeah your sex takes me to paradise And it shows, yeah, yeah, yeah  'Cause you make me feel like I've been locked out of heaven For too lo-ong, for too lo-ong Yeah you make me feel like I've been locked out of heaven For too lo-ong, for too lo-ong, ooh  Oh oh oh oh, yeah, yeah, yeah Can't I just stay here? Spend the rest of my days here? Oh oh oh oh, yeah, yeah, yeah Can't I just stay here? Spend the rest of my days here?  'Cause you make me feel like I've been locked out of heaven For too lo-ong, for too lo-ong Yeah you make me feel like I've been locked out of heaven For too lo-ong, for too lo-ong, ooh  Oh yeah yeah yeah yeah, uh! Oh yeah yeah Oh yeah yeah yeah yeah, uh! I took an arrow to the heart I never kissed a mouth that taste like yours Strawberries and something more Ooh, yeah, I want it all  Lipstick on my guitar (ooh) Fill up the engine, we can drive real far Go dancing underneath the stars Ooh, yeah, I want it all Mmh, you got me feeling like  I wanna be that guy I wanna kiss your eyes I wanna drink that smile I wanna feel like I'm Like my soul's on fire I wanna stay up \n",
       "<mark class=\"entity\" style=\"background: #bfe1d9; padding: 0.45em 0.6em; margin: 0 0.25em; line-height: 1; border-radius: 0.35em;\">\n",
       "    all day\n",
       "    <span style=\"font-size: 0.8em; font-weight: bold; line-height: 1; border-radius: 0.35em; vertical-align: middle; margin-left: 0.5rem\">DATE</span>\n",
       "</mark>\n",
       " and all night Yeah, you got me singing like  Ooh, I love it when you do it like that And when you're close up, give me the shivers Oh, baby, you wanna dance 'til the sunlight cracks And when they say the party's over, then we bring it right back  And we'll say \n",
       "<mark class=\"entity\" style=\"background: #7aecec; padding: 0.45em 0.6em; margin: 0 0.25em; line-height: 1; border-radius: 0.35em;\">\n",
       "    Ooh\n",
       "    <span style=\"font-size: 0.8em; font-weight: bold; line-height: 1; border-radius: 0.35em; vertical-align: middle; margin-left: 0.5rem\">ORG</span>\n",
       "</mark>\n",
       ", I love it when you do it like that And when you're close up, give me the shivers Oh, baby, you wanna dance 'til the sunlight cracks? And when they say the party's over, then we bring it right back  Into the car On the back seat in the moonlit dark Wrap me up between your legs and arms Ooh, I can't get enough  You know you could tear me apart (ooh) Put me back together, and take my heart I never thought that I could love this hard Ooh, I can't get enough \n",
       "<mark class=\"entity\" style=\"background: #aa9cfc; padding: 0.45em 0.6em; margin: 0 0.25em; line-height: 1; border-radius: 0.35em;\">\n",
       "    Mmh\n",
       "    <span style=\"font-size: 0.8em; font-weight: bold; line-height: 1; border-radius: 0.35em; vertical-align: middle; margin-left: 0.5rem\">PERSON</span>\n",
       "</mark>\n",
       ", you got me feeling like  I wanna be that guy I wanna kiss your eyes I wanna drink that smile I wanna feel like I'm Like my soul's on fire I wanna stay up \n",
       "<mark class=\"entity\" style=\"background: #bfe1d9; padding: 0.45em 0.6em; margin: 0 0.25em; line-height: 1; border-radius: 0.35em;\">\n",
       "    all day\n",
       "    <span style=\"font-size: 0.8em; font-weight: bold; line-height: 1; border-radius: 0.35em; vertical-align: middle; margin-left: 0.5rem\">DATE</span>\n",
       "</mark>\n",
       " and all night Yeah, you got me singing like  Ooh, I love it when you do it like that And when you're close up, give me the shivers Oh, baby, you wanna dance 'til the sunlight cracks? And when they say the party's over, then we'll bring it right back  And we'll say \n",
       "<mark class=\"entity\" style=\"background: #7aecec; padding: 0.45em 0.6em; margin: 0 0.25em; line-height: 1; border-radius: 0.35em;\">\n",
       "    Ooh\n",
       "    <span style=\"font-size: 0.8em; font-weight: bold; line-height: 1; border-radius: 0.35em; vertical-align: middle; margin-left: 0.5rem\">ORG</span>\n",
       "</mark>\n",
       ", I love it when you do it like that And when you're close up, give me the shivers Oh, baby, you wanna dance 'til the sunlight cracks And when they say the party's over, then we'll bring it right back  Baby, you burn so hot, you make me shiver With the fire you got, this thing we started I don't want it to stop, you know you make me shiver-er-er  Baby, you burn so hot, you make me shiver With the fire you got, this thing we started I don't want it to stop, you know you make me shiver Yeah, you got me singing like  Ooh, I love it when you do it like that And when you're close up, give me the shivers Oh, baby, you wanna dance 'til the sunlight cracks And when they say the party's over, then we'll bring it right back  And we'll say \n",
       "<mark class=\"entity\" style=\"background: #7aecec; padding: 0.45em 0.6em; margin: 0 0.25em; line-height: 1; border-radius: 0.35em;\">\n",
       "    Ooh\n",
       "    <span style=\"font-size: 0.8em; font-weight: bold; line-height: 1; border-radius: 0.35em; vertical-align: middle; margin-left: 0.5rem\">ORG</span>\n",
       "</mark>\n",
       ", I love it when you do it like that And when you're close up, give me the shivers Oh, baby, you wanna dance 'til sunlight cracks And when they say the party's over, then we'll bring it right back  Hey I do the same thing I told you that I never would I told you I'd change, even when I knew I never could Know that I can't find nobody else as good as you I need you to stay, need you to stay, hey (oh)  I get drunk, wake up, I'm wasted still I realize the time that I wasted here I feel like you can't feel the way I feel Oh, I'll be fucked up if you can't be right here  Oh-oh-oh-whoa (oh-oh-whoa, oh-oh-whoa) Oh-oh-oh-whoa (oh-oh-whoa, oh-oh-whoa) Oh-oh-oh-whoa (oh-oh-whoa, oh-oh-whoa) Oh, I'll be fucked up if you can't be right here  I do the same thing I told you that I never would I told you I'd change, even when I knew I never could Know that I can't find nobody else as good as you I need you to stay, need you to stay, hey I do the same thing I told you that I never would I told you I'd change even when I knew I never could Know that I can't find nobody else as good as you I need you to stay, need you to stay, hey  When I'm away from you, I miss your touch (ooh-ooh) You're the reason I believe in love It's been difficult for me to trust (ooh-ooh) And I'm afraid that I'ma fuck it up Ain't no way that I can leave you stranded 'Cause you ain't ever left me empty-handed And you know that I know that I can't live without you So, baby, stay  Oh-oh-oh-whoa (oh-oh-whoa, oh-oh-whoa) Oh-oh-oh-whoa (oh-oh-whoa, oh-oh-whoa) Oh-oh-oh-whoa (oh-oh-whoa, oh-oh-whoa) I'll be fucked up if you can't be right here  I do the same thing I told you that I never would I told you I'd change, even when I knew I never could Know that I can't find nobody else as good as you I need you to stay, need you to stay, hey I do the same thing I told you that I never would I told you I'd change even when I knew I never could Know that I can't find nobody else as good as you I need you to stay, need you to stay, hey  Oh-oh-oh I need you to stay, need you to stay, hey \n",
       "<mark class=\"entity\" style=\"background: #e4e7d2; padding: 0.45em 0.6em; margin: 0 0.25em; line-height: 1; border-radius: 0.35em;\">\n",
       "    One\n",
       "    <span style=\"font-size: 0.8em; font-weight: bold; line-height: 1; border-radius: 0.35em; vertical-align: middle; margin-left: 0.5rem\">CARDINAL</span>\n",
       "</mark>\n",
       ", \n",
       "<mark class=\"entity\" style=\"background: #e4e7d2; padding: 0.45em 0.6em; margin: 0 0.25em; line-height: 1; border-radius: 0.35em;\">\n",
       "    two\n",
       "    <span style=\"font-size: 0.8em; font-weight: bold; line-height: 1; border-radius: 0.35em; vertical-align: middle; margin-left: 0.5rem\">CARDINAL</span>\n",
       "</mark>\n",
       ", \n",
       "<mark class=\"entity\" style=\"background: #e4e7d2; padding: 0.45em 0.6em; margin: 0 0.25em; line-height: 1; border-radius: 0.35em;\">\n",
       "    three\n",
       "    <span style=\"font-size: 0.8em; font-weight: bold; line-height: 1; border-radius: 0.35em; vertical-align: middle; margin-left: 0.5rem\">CARDINAL</span>\n",
       "</mark>\n",
       ", \n",
       "<mark class=\"entity\" style=\"background: #e4e7d2; padding: 0.45em 0.6em; margin: 0 0.25em; line-height: 1; border-radius: 0.35em;\">\n",
       "    four\n",
       "    <span style=\"font-size: 0.8em; font-weight: bold; line-height: 1; border-radius: 0.35em; vertical-align: middle; margin-left: 0.5rem\">CARDINAL</span>\n",
       "</mark>\n",
       " Ooh, ooh  Every time you come around, you know I can't say no Every time the sun goes down, I let you take control I can feel the paradise before my world implodes And \n",
       "<mark class=\"entity\" style=\"background: #bfe1d9; padding: 0.45em 0.6em; margin: 0 0.25em; line-height: 1; border-radius: 0.35em;\">\n",
       "    tonight\n",
       "    <span style=\"font-size: 0.8em; font-weight: bold; line-height: 1; border-radius: 0.35em; vertical-align: middle; margin-left: 0.5rem\">TIME</span>\n",
       "</mark>\n",
       " had something wonderful  My bad habits lead to \n",
       "<mark class=\"entity\" style=\"background: #bfe1d9; padding: 0.45em 0.6em; margin: 0 0.25em; line-height: 1; border-radius: 0.35em;\">\n",
       "    late nights\n",
       "    <span style=\"font-size: 0.8em; font-weight: bold; line-height: 1; border-radius: 0.35em; vertical-align: middle; margin-left: 0.5rem\">DATE</span>\n",
       "</mark>\n",
       " endin' alone \n",
       "<mark class=\"entity\" style=\"background: #bfeeb7; padding: 0.45em 0.6em; margin: 0 0.25em; line-height: 1; border-radius: 0.35em;\">\n",
       "    Conversations\n",
       "    <span style=\"font-size: 0.8em; font-weight: bold; line-height: 1; border-radius: 0.35em; vertical-align: middle; margin-left: 0.5rem\">PRODUCT</span>\n",
       "</mark>\n",
       " with a stranger I barely know \n",
       "<mark class=\"entity\" style=\"background: #aa9cfc; padding: 0.45em 0.6em; margin: 0 0.25em; line-height: 1; border-radius: 0.35em;\">\n",
       "    Swearin\n",
       "    <span style=\"font-size: 0.8em; font-weight: bold; line-height: 1; border-radius: 0.35em; vertical-align: middle; margin-left: 0.5rem\">PERSON</span>\n",
       "</mark>\n",
       "' this will be the last, but it probably won't I got nothin' left to lose, or use, or do  My bad habits lead to wide eyes stare into space And I know I'll lose control of the things that I say Yeah, I was lookin' for a way out, now I can't escape Nothin' happens after \n",
       "<mark class=\"entity\" style=\"background: #e4e7d2; padding: 0.45em 0.6em; margin: 0 0.25em; line-height: 1; border-radius: 0.35em;\">\n",
       "    two\n",
       "    <span style=\"font-size: 0.8em; font-weight: bold; line-height: 1; border-radius: 0.35em; vertical-align: middle; margin-left: 0.5rem\">CARDINAL</span>\n",
       "</mark>\n",
       ", it's true, it's true My bad habits lead to you  Ooh-ooh, ooh-ooh My bad habits lead to you Ooh-ooh, ooh-ooh My bad habits lead to you  Every pure intention ends when the good times start \n",
       "<mark class=\"entity\" style=\"background: #7aecec; padding: 0.45em 0.6em; margin: 0 0.25em; line-height: 1; border-radius: 0.35em;\">\n",
       "    Fallin\n",
       "    <span style=\"font-size: 0.8em; font-weight: bold; line-height: 1; border-radius: 0.35em; vertical-align: middle; margin-left: 0.5rem\">ORG</span>\n",
       "</mark>\n",
       "' over everything to reach the \n",
       "<mark class=\"entity\" style=\"background: #e4e7d2; padding: 0.45em 0.6em; margin: 0 0.25em; line-height: 1; border-radius: 0.35em;\">\n",
       "    first\n",
       "    <span style=\"font-size: 0.8em; font-weight: bold; line-height: 1; border-radius: 0.35em; vertical-align: middle; margin-left: 0.5rem\">ORDINAL</span>\n",
       "</mark>\n",
       " time's spark It started under neon lights, and then it all got dark I only know how to go too far  My bad habits lead to \n",
       "<mark class=\"entity\" style=\"background: #bfe1d9; padding: 0.45em 0.6em; margin: 0 0.25em; line-height: 1; border-radius: 0.35em;\">\n",
       "    late nights\n",
       "    <span style=\"font-size: 0.8em; font-weight: bold; line-height: 1; border-radius: 0.35em; vertical-align: middle; margin-left: 0.5rem\">DATE</span>\n",
       "</mark>\n",
       " endin' alone \n",
       "<mark class=\"entity\" style=\"background: #bfeeb7; padding: 0.45em 0.6em; margin: 0 0.25em; line-height: 1; border-radius: 0.35em;\">\n",
       "    Conversations\n",
       "    <span style=\"font-size: 0.8em; font-weight: bold; line-height: 1; border-radius: 0.35em; vertical-align: middle; margin-left: 0.5rem\">PRODUCT</span>\n",
       "</mark>\n",
       " with a stranger I barely know \n",
       "<mark class=\"entity\" style=\"background: #aa9cfc; padding: 0.45em 0.6em; margin: 0 0.25em; line-height: 1; border-radius: 0.35em;\">\n",
       "    Swearin\n",
       "    <span style=\"font-size: 0.8em; font-weight: bold; line-height: 1; border-radius: 0.35em; vertical-align: middle; margin-left: 0.5rem\">PERSON</span>\n",
       "</mark>\n",
       "' this will be the last, but it probably won't I got nothin' left to lose, or use, or do  My bad habits lead to wide eyes stare into space And I know I'll lose control of the things that I say Yeah, I was lookin' for a way out, now I can't escape Nothin' happens after \n",
       "<mark class=\"entity\" style=\"background: #e4e7d2; padding: 0.45em 0.6em; margin: 0 0.25em; line-height: 1; border-radius: 0.35em;\">\n",
       "    two\n",
       "    <span style=\"font-size: 0.8em; font-weight: bold; line-height: 1; border-radius: 0.35em; vertical-align: middle; margin-left: 0.5rem\">CARDINAL</span>\n",
       "</mark>\n",
       ", it's true, it's true My bad habits lead to you  Ooh-ooh, ooh-ooh My bad habits lead to you Ooh-ooh, ooh-ooh  We took the long way 'round \n",
       "<mark class=\"entity\" style=\"background: #7aecec; padding: 0.45em 0.6em; margin: 0 0.25em; line-height: 1; border-radius: 0.35em;\">\n",
       "    Burned\n",
       "    <span style=\"font-size: 0.8em; font-weight: bold; line-height: 1; border-radius: 0.35em; vertical-align: middle; margin-left: 0.5rem\">ORG</span>\n",
       "</mark>\n",
       " 'til the fun ran out, now  My bad habits lead to \n",
       "<mark class=\"entity\" style=\"background: #bfe1d9; padding: 0.45em 0.6em; margin: 0 0.25em; line-height: 1; border-radius: 0.35em;\">\n",
       "    late nights\n",
       "    <span style=\"font-size: 0.8em; font-weight: bold; line-height: 1; border-radius: 0.35em; vertical-align: middle; margin-left: 0.5rem\">DATE</span>\n",
       "</mark>\n",
       " endin' alone \n",
       "<mark class=\"entity\" style=\"background: #bfeeb7; padding: 0.45em 0.6em; margin: 0 0.25em; line-height: 1; border-radius: 0.35em;\">\n",
       "    Conversations\n",
       "    <span style=\"font-size: 0.8em; font-weight: bold; line-height: 1; border-radius: 0.35em; vertical-align: middle; margin-left: 0.5rem\">PRODUCT</span>\n",
       "</mark>\n",
       " with a stranger I barely know \n",
       "<mark class=\"entity\" style=\"background: #aa9cfc; padding: 0.45em 0.6em; margin: 0 0.25em; line-height: 1; border-radius: 0.35em;\">\n",
       "    Swearin\n",
       "    <span style=\"font-size: 0.8em; font-weight: bold; line-height: 1; border-radius: 0.35em; vertical-align: middle; margin-left: 0.5rem\">PERSON</span>\n",
       "</mark>\n",
       "' this will be the last, but it probably won't I got nothin' left to lose, or use, or do  My bad habits lead to wide eyes stare into space And I know I'll lose control of the things that I say Yeah, I was lookin' for a way out, now I can't escape Nothin' happens after \n",
       "<mark class=\"entity\" style=\"background: #e4e7d2; padding: 0.45em 0.6em; margin: 0 0.25em; line-height: 1; border-radius: 0.35em;\">\n",
       "    two\n",
       "    <span style=\"font-size: 0.8em; font-weight: bold; line-height: 1; border-radius: 0.35em; vertical-align: middle; margin-left: 0.5rem\">CARDINAL</span>\n",
       "</mark>\n",
       ", it's true, it's true My bad habits lead to you  Ooh-ooh, ooh-ooh My bad habits lead to you Ooh-ooh, ooh-ooh My bad habits lead to you You (you), you are (you are) my universe And I (I) just want (just want) to put you \n",
       "<mark class=\"entity\" style=\"background: #e4e7d2; padding: 0.45em 0.6em; margin: 0 0.25em; line-height: 1; border-radius: 0.35em;\">\n",
       "    first\n",
       "    <span style=\"font-size: 0.8em; font-weight: bold; line-height: 1; border-radius: 0.35em; vertical-align: middle; margin-left: 0.5rem\">ORDINAL</span>\n",
       "</mark>\n",
       " And you (you), you are (you are) my universe, and I  In the night, I lie and look up at you When the morning comes, I watch you rise There's a paradise they couldn't capture That bright infinity inside your eyes  매일 밤 네게 \n",
       "<mark class=\"entity\" style=\"background: #aa9cfc; padding: 0.45em 0.6em; margin: 0 0.25em; line-height: 1; border-radius: 0.35em;\">\n",
       "    날아가\n",
       "    <span style=\"font-size: 0.8em; font-weight: bold; line-height: 1; border-radius: 0.35em; vertical-align: middle; margin-left: 0.5rem\">PERSON</span>\n",
       "</mark>\n",
       " (가) 꿈이란 것도 잊은 채 나 웃으며 너를 만나 (나) Never-ending forever, baby  You (you), you are (you are) my universe And I (I) just want (just want) to put you \n",
       "<mark class=\"entity\" style=\"background: #e4e7d2; padding: 0.45em 0.6em; margin: 0 0.25em; line-height: 1; border-radius: 0.35em;\">\n",
       "    first\n",
       "    <span style=\"font-size: 0.8em; font-weight: bold; line-height: 1; border-radius: 0.35em; vertical-align: middle; margin-left: 0.5rem\">ORDINAL</span>\n",
       "</mark>\n",
       " And you (you), you are (you are) my universe And you make my world light up inside  어둠이 내겐 더 편했었지 길어진 그림자 속에서 (eyes) And they said that we can't be together Because, because we come from different sides  You (you), you are (you are) my universe And I (I) just want (just want) to put you \n",
       "<mark class=\"entity\" style=\"background: #e4e7d2; padding: 0.45em 0.6em; margin: 0 0.25em; line-height: 1; border-radius: 0.35em;\">\n",
       "    first\n",
       "    <span style=\"font-size: 0.8em; font-weight: bold; line-height: 1; border-radius: 0.35em; vertical-align: middle; margin-left: 0.5rem\">ORDINAL</span>\n",
       "</mark>\n",
       " And you (you), you are (you are) my universe And you make my world light up inside  My universe (doo-doo, doo-doo) My universe (doo-doo, doo-doo) My universe (doo-doo, doo-doo) (You make my world) You make my world light up inside You make my world light up inside  나를 밝혀주는 건 너란 사랑으로 수 놓아진 별 내 우주의 넌 또 다른 세상을 만들어 주는 걸 너는 내 별이자 나의 우주니까 지금 이 \n",
       "<mark class=\"entity\" style=\"background: #7aecec; padding: 0.45em 0.6em; margin: 0 0.25em; line-height: 1; border-radius: 0.35em;\">\n",
       "    시련도 결국엔\n",
       "    <span style=\"font-size: 0.8em; font-weight: bold; line-height: 1; border-radius: 0.35em; vertical-align: middle; margin-left: 0.5rem\">ORG</span>\n",
       "</mark>\n",
       " 잠시니까 너는 언제까지나 지금처럼 밝게만 빛나줘 우리는 너를 따라 이 긴 밤을 수놓을 거야  너와 함께 날아가 (가) When I'm without you, I'm crazy 자 어서 내 손을 잡아 (아) We are made of each other, baby  You (you), you are (you are) my universe And I (I) just want (just want) to put you \n",
       "<mark class=\"entity\" style=\"background: #e4e7d2; padding: 0.45em 0.6em; margin: 0 0.25em; line-height: 1; border-radius: 0.35em;\">\n",
       "    first\n",
       "    <span style=\"font-size: 0.8em; font-weight: bold; line-height: 1; border-radius: 0.35em; vertical-align: middle; margin-left: 0.5rem\">ORDINAL</span>\n",
       "</mark>\n",
       " And you (you), you are (you are) my universe And you make my world light up inside  My universe (you, you are) My universe (I just want) My universe (you, you are my universe, and I) My universe I summoned you, please come to me Don't bury thoughts that you really want I fill you up, drink from my cup Within me lies what you really want  Come, lay me down 'Cause you know this 'Cause you know this love  In \n",
       "<mark class=\"entity\" style=\"background: #bfe1d9; padding: 0.45em 0.6em; margin: 0 0.25em; line-height: 1; border-radius: 0.35em;\">\n",
       "    the middle of the night\n",
       "    <span style=\"font-size: 0.8em; font-weight: bold; line-height: 1; border-radius: 0.35em; vertical-align: middle; margin-left: 0.5rem\">DATE</span>\n",
       "</mark>\n",
       " In \n",
       "<mark class=\"entity\" style=\"background: #bfe1d9; padding: 0.45em 0.6em; margin: 0 0.25em; line-height: 1; border-radius: 0.35em;\">\n",
       "    the middle of the night\n",
       "    <span style=\"font-size: 0.8em; font-weight: bold; line-height: 1; border-radius: 0.35em; vertical-align: middle; margin-left: 0.5rem\">DATE</span>\n",
       "</mark>\n",
       " Just call my name, I'm yours to tame  In \n",
       "<mark class=\"entity\" style=\"background: #bfe1d9; padding: 0.45em 0.6em; margin: 0 0.25em; line-height: 1; border-radius: 0.35em;\">\n",
       "    the middle of the night\n",
       "    <span style=\"font-size: 0.8em; font-weight: bold; line-height: 1; border-radius: 0.35em; vertical-align: middle; margin-left: 0.5rem\">DATE</span>\n",
       "</mark>\n",
       " In \n",
       "<mark class=\"entity\" style=\"background: #bfe1d9; padding: 0.45em 0.6em; margin: 0 0.25em; line-height: 1; border-radius: 0.35em;\">\n",
       "    the middle of the night\n",
       "    <span style=\"font-size: 0.8em; font-weight: bold; line-height: 1; border-radius: 0.35em; vertical-align: middle; margin-left: 0.5rem\">DATE</span>\n",
       "</mark>\n",
       " I'm wide awake I crave your taste \n",
       "<mark class=\"entity\" style=\"background: #bfe1d9; padding: 0.45em 0.6em; margin: 0 0.25em; line-height: 1; border-radius: 0.35em;\">\n",
       "    all night\n",
       "    <span style=\"font-size: 0.8em; font-weight: bold; line-height: 1; border-radius: 0.35em; vertical-align: middle; margin-left: 0.5rem\">TIME</span>\n",
       "</mark>\n",
       " long '\n",
       "<mark class=\"entity\" style=\"background: #f0d0ff; padding: 0.45em 0.6em; margin: 0 0.25em; line-height: 1; border-radius: 0.35em;\">\n",
       "    Til morning\n",
       "    <span style=\"font-size: 0.8em; font-weight: bold; line-height: 1; border-radius: 0.35em; vertical-align: middle; margin-left: 0.5rem\">WORK_OF_ART</span>\n",
       "</mark>\n",
       " comes  I'm getting what is mine You gon' get yours, oh no, ooh In \n",
       "<mark class=\"entity\" style=\"background: #bfe1d9; padding: 0.45em 0.6em; margin: 0 0.25em; line-height: 1; border-radius: 0.35em;\">\n",
       "    the middle of the night\n",
       "    <span style=\"font-size: 0.8em; font-weight: bold; line-height: 1; border-radius: 0.35em; vertical-align: middle; margin-left: 0.5rem\">DATE</span>\n",
       "</mark>\n",
       " In \n",
       "<mark class=\"entity\" style=\"background: #bfe1d9; padding: 0.45em 0.6em; margin: 0 0.25em; line-height: 1; border-radius: 0.35em;\">\n",
       "    the middle of the night\n",
       "    <span style=\"font-size: 0.8em; font-weight: bold; line-height: 1; border-radius: 0.35em; vertical-align: middle; margin-left: 0.5rem\">DATE</span>\n",
       "</mark>\n",
       ", oh  These burning flames, these crashing waves \n",
       "<mark class=\"entity\" style=\"background: #aa9cfc; padding: 0.45em 0.6em; margin: 0 0.25em; line-height: 1; border-radius: 0.35em;\">\n",
       "    Wash\n",
       "    <span style=\"font-size: 0.8em; font-weight: bold; line-height: 1; border-radius: 0.35em; vertical-align: middle; margin-left: 0.5rem\">PERSON</span>\n",
       "</mark>\n",
       " over me like a Hurricane I captivate, you're hypnotized Feel powerful, but it's me again  Come, lay me down 'Cause I know this 'Cause I know this love  In \n",
       "<mark class=\"entity\" style=\"background: #bfe1d9; padding: 0.45em 0.6em; margin: 0 0.25em; line-height: 1; border-radius: 0.35em;\">\n",
       "    the middle of the night\n",
       "    <span style=\"font-size: 0.8em; font-weight: bold; line-height: 1; border-radius: 0.35em; vertical-align: middle; margin-left: 0.5rem\">DATE</span>\n",
       "</mark>\n",
       " In \n",
       "<mark class=\"entity\" style=\"background: #bfe1d9; padding: 0.45em 0.6em; margin: 0 0.25em; line-height: 1; border-radius: 0.35em;\">\n",
       "    the middle of the night\n",
       "    <span style=\"font-size: 0.8em; font-weight: bold; line-height: 1; border-radius: 0.35em; vertical-align: middle; margin-left: 0.5rem\">DATE</span>\n",
       "</mark>\n",
       " Just call my name, I'm yours to tame  In \n",
       "<mark class=\"entity\" style=\"background: #bfe1d9; padding: 0.45em 0.6em; margin: 0 0.25em; line-height: 1; border-radius: 0.35em;\">\n",
       "    the middle of the night\n",
       "    <span style=\"font-size: 0.8em; font-weight: bold; line-height: 1; border-radius: 0.35em; vertical-align: middle; margin-left: 0.5rem\">DATE</span>\n",
       "</mark>\n",
       " In \n",
       "<mark class=\"entity\" style=\"background: #bfe1d9; padding: 0.45em 0.6em; margin: 0 0.25em; line-height: 1; border-radius: 0.35em;\">\n",
       "    the middle of the night\n",
       "    <span style=\"font-size: 0.8em; font-weight: bold; line-height: 1; border-radius: 0.35em; vertical-align: middle; margin-left: 0.5rem\">DATE</span>\n",
       "</mark>\n",
       " I'm wide awake I crave your taste \n",
       "<mark class=\"entity\" style=\"background: #bfe1d9; padding: 0.45em 0.6em; margin: 0 0.25em; line-height: 1; border-radius: 0.35em;\">\n",
       "    all night\n",
       "    <span style=\"font-size: 0.8em; font-weight: bold; line-height: 1; border-radius: 0.35em; vertical-align: middle; margin-left: 0.5rem\">TIME</span>\n",
       "</mark>\n",
       " long '\n",
       "<mark class=\"entity\" style=\"background: #f0d0ff; padding: 0.45em 0.6em; margin: 0 0.25em; line-height: 1; border-radius: 0.35em;\">\n",
       "    Til morning\n",
       "    <span style=\"font-size: 0.8em; font-weight: bold; line-height: 1; border-radius: 0.35em; vertical-align: middle; margin-left: 0.5rem\">WORK_OF_ART</span>\n",
       "</mark>\n",
       " comes  I'm getting what is mine You gon' get yours, oh no, ooh In \n",
       "<mark class=\"entity\" style=\"background: #bfe1d9; padding: 0.45em 0.6em; margin: 0 0.25em; line-height: 1; border-radius: 0.35em;\">\n",
       "    the middle of the night\n",
       "    <span style=\"font-size: 0.8em; font-weight: bold; line-height: 1; border-radius: 0.35em; vertical-align: middle; margin-left: 0.5rem\">DATE</span>\n",
       "</mark>\n",
       " In \n",
       "<mark class=\"entity\" style=\"background: #bfe1d9; padding: 0.45em 0.6em; margin: 0 0.25em; line-height: 1; border-radius: 0.35em;\">\n",
       "    the middle of the night\n",
       "    <span style=\"font-size: 0.8em; font-weight: bold; line-height: 1; border-radius: 0.35em; vertical-align: middle; margin-left: 0.5rem\">DATE</span>\n",
       "</mark>\n",
       ", oh  Just call on me, ah Just call my name Like you need me  In \n",
       "<mark class=\"entity\" style=\"background: #bfe1d9; padding: 0.45em 0.6em; margin: 0 0.25em; line-height: 1; border-radius: 0.35em;\">\n",
       "    the middle of the night\n",
       "    <span style=\"font-size: 0.8em; font-weight: bold; line-height: 1; border-radius: 0.35em; vertical-align: middle; margin-left: 0.5rem\">DATE</span>\n",
       "</mark>\n",
       " In \n",
       "<mark class=\"entity\" style=\"background: #bfe1d9; padding: 0.45em 0.6em; margin: 0 0.25em; line-height: 1; border-radius: 0.35em;\">\n",
       "    the middle of the night\n",
       "    <span style=\"font-size: 0.8em; font-weight: bold; line-height: 1; border-radius: 0.35em; vertical-align: middle; margin-left: 0.5rem\">DATE</span>\n",
       "</mark>\n",
       " Just call my name, I'm yours to tame  In \n",
       "<mark class=\"entity\" style=\"background: #bfe1d9; padding: 0.45em 0.6em; margin: 0 0.25em; line-height: 1; border-radius: 0.35em;\">\n",
       "    the middle of the night\n",
       "    <span style=\"font-size: 0.8em; font-weight: bold; line-height: 1; border-radius: 0.35em; vertical-align: middle; margin-left: 0.5rem\">DATE</span>\n",
       "</mark>\n",
       " In \n",
       "<mark class=\"entity\" style=\"background: #bfe1d9; padding: 0.45em 0.6em; margin: 0 0.25em; line-height: 1; border-radius: 0.35em;\">\n",
       "    the middle of the night\n",
       "    <span style=\"font-size: 0.8em; font-weight: bold; line-height: 1; border-radius: 0.35em; vertical-align: middle; margin-left: 0.5rem\">DATE</span>\n",
       "</mark>\n",
       " I'm wide awake I crave your taste \n",
       "<mark class=\"entity\" style=\"background: #bfe1d9; padding: 0.45em 0.6em; margin: 0 0.25em; line-height: 1; border-radius: 0.35em;\">\n",
       "    all night\n",
       "    <span style=\"font-size: 0.8em; font-weight: bold; line-height: 1; border-radius: 0.35em; vertical-align: middle; margin-left: 0.5rem\">TIME</span>\n",
       "</mark>\n",
       " long '\n",
       "<mark class=\"entity\" style=\"background: #f0d0ff; padding: 0.45em 0.6em; margin: 0 0.25em; line-height: 1; border-radius: 0.35em;\">\n",
       "    Til morning\n",
       "    <span style=\"font-size: 0.8em; font-weight: bold; line-height: 1; border-radius: 0.35em; vertical-align: middle; margin-left: 0.5rem\">WORK_OF_ART</span>\n",
       "</mark>\n",
       " comes  I'm getting what is mine You gon' get yours, oh-ooh In \n",
       "<mark class=\"entity\" style=\"background: #bfe1d9; padding: 0.45em 0.6em; margin: 0 0.25em; line-height: 1; border-radius: 0.35em;\">\n",
       "    the middle of the night\n",
       "    <span style=\"font-size: 0.8em; font-weight: bold; line-height: 1; border-radius: 0.35em; vertical-align: middle; margin-left: 0.5rem\">DATE</span>\n",
       "</mark>\n",
       " In \n",
       "<mark class=\"entity\" style=\"background: #bfe1d9; padding: 0.45em 0.6em; margin: 0 0.25em; line-height: 1; border-radius: 0.35em;\">\n",
       "    the middle of the night\n",
       "    <span style=\"font-size: 0.8em; font-weight: bold; line-height: 1; border-radius: 0.35em; vertical-align: middle; margin-left: 0.5rem\">DATE</span>\n",
       "</mark>\n",
       ", oh-oh \n",
       "<mark class=\"entity\" style=\"background: #aa9cfc; padding: 0.45em 0.6em; margin: 0 0.25em; line-height: 1; border-radius: 0.35em;\">\n",
       "    Kali Uchis  Oh\n",
       "    <span style=\"font-size: 0.8em; font-weight: bold; line-height: 1; border-radius: 0.35em; vertical-align: middle; margin-left: 0.5rem\">PERSON</span>\n",
       "</mark>\n",
       ", there's dollars all around Dollar, dollar bills, yeah Dollar, dollar bills (\n",
       "<mark class=\"entity\" style=\"background: #aa9cfc; padding: 0.45em 0.6em; margin: 0 0.25em; line-height: 1; border-radius: 0.35em;\">\n",
       "    Kali\n",
       "    <span style=\"font-size: 0.8em; font-weight: bold; line-height: 1; border-radius: 0.35em; vertical-align: middle; margin-left: 0.5rem\">PERSON</span>\n",
       "</mark>\n",
       ") Yeah, you've been staring at me (¿pa' que me mires?) I don't really know how long now  I feel like there's nothing in my way All this money on me, it feels amazing In the Range Rover, I'm racing Me and your nigga still dating I don't wanna talk, I'm dancing, dancing  I don't need no fake love, no, I don't need no favor I know my time gon' come, just me and my make-up I'm gonna make the paper, I'm gonna make the paper I'm gonna make dollar bills, I'm gonna get paid, yeah  Get the fuck outta my way, I'm gonna get paid, yeah I wanna get paid, yeah, just gimme my mula-la-la Get the fuck outta my way, I'm gonna get paid, yeah I'm gonna get paid, yeah, just gimme my mula-la-la  I really like to party, I really like to party I really like to party, I cannot control my body So, when this song is starting, just cancel all your plans, oh It's evident in my dancing, moonwalk like \n",
       "<mark class=\"entity\" style=\"background: #aa9cfc; padding: 0.45em 0.6em; margin: 0 0.25em; line-height: 1; border-radius: 0.35em;\">\n",
       "    Michael Jackson\n",
       "    <span style=\"font-size: 0.8em; font-weight: bold; line-height: 1; border-radius: 0.35em; vertical-align: middle; margin-left: 0.5rem\">PERSON</span>\n",
       "</mark>\n",
       "  I really like your body, I really like your body I don't know why you hide it, I wanna see you behind me You know you don't gotta lie to me, yo quiero sentirte inside of me \n",
       "<mark class=\"entity\" style=\"background: #aa9cfc; padding: 0.45em 0.6em; margin: 0 0.25em; line-height: 1; border-radius: 0.35em;\">\n",
       "    Todo el día\n",
       "    <span style=\"font-size: 0.8em; font-weight: bold; line-height: 1; border-radius: 0.35em; vertical-align: middle; margin-left: 0.5rem\">PERSON</span>\n",
       "</mark>\n",
       " imaginándote, lo quiero pa' mí to' la noche  And you know I don't need no favors You know I don't need no fake love I'm that bitch on and off for the cameras Type of bitch few people can handle And I walk like I know my pussy dangerous  Talk like my words are made of angel dust When I whisper to you in a couple languages \n",
       "<mark class=\"entity\" style=\"background: #aa9cfc; padding: 0.45em 0.6em; margin: 0 0.25em; line-height: 1; border-radius: 0.35em;\">\n",
       "    Lo\n",
       "    <span style=\"font-size: 0.8em; font-weight: bold; line-height: 1; border-radius: 0.35em; vertical-align: middle; margin-left: 0.5rem\">PERSON</span>\n",
       "</mark>\n",
       " que quiero, papi, es besos en la espalda pues Como \n",
       "<mark class=\"entity\" style=\"background: #e4e7d2; padding: 0.45em 0.6em; margin: 0 0.25em; line-height: 1; border-radius: 0.35em;\">\n",
       "    100\n",
       "    <span style=\"font-size: 0.8em; font-weight: bold; line-height: 1; border-radius: 0.35em; vertical-align: middle; margin-left: 0.5rem\">CARDINAL</span>\n",
       "</mark>\n",
       " millón de besos todo el día That's the only thing que me da alegría  Sabes que yo quiero hacerte cosas sucias Y quemarte con estas caricias \n",
       "<mark class=\"entity\" style=\"background: #aa9cfc; padding: 0.45em 0.6em; margin: 0 0.25em; line-height: 1; border-radius: 0.35em;\">\n",
       "    Tu lengua en todo\n",
       "    <span style=\"font-size: 0.8em; font-weight: bold; line-height: 1; border-radius: 0.35em; vertical-align: middle; margin-left: 0.5rem\">PERSON</span>\n",
       "</mark>\n",
       " mi cuerpo Cuando termines, te quedas por dentro \n",
       "<mark class=\"entity\" style=\"background: #aa9cfc; padding: 0.45em 0.6em; margin: 0 0.25em; line-height: 1; border-radius: 0.35em;\">\n",
       "    Tu lengua en\n",
       "    <span style=\"font-size: 0.8em; font-weight: bold; line-height: 1; border-radius: 0.35em; vertical-align: middle; margin-left: 0.5rem\">PERSON</span>\n",
       "</mark>\n",
       " todo mi cuerpo Y cuando termines te quedas por dentro  Get the fuck outta my way, I'm gonna get paid, yeah I wanna get paid, yeah, just gimme my mula-la-la Get the fuck outta my way, I'm gonna get paid, yeah I'm gonna get paid, yeah, just gimme my mula-la-la  I really like to party, I really like your body I really wanna get naughty, I think you're such a hottie Slow dancing in the party, oh yes we're making money Book a flight to \n",
       "<mark class=\"entity\" style=\"background: #feca74; padding: 0.45em 0.6em; margin: 0 0.25em; line-height: 1; border-radius: 0.35em;\">\n",
       "    Miami\n",
       "    <span style=\"font-size: 0.8em; font-weight: bold; line-height: 1; border-radius: 0.35em; vertical-align: middle; margin-left: 0.5rem\">GPE</span>\n",
       "</mark>\n",
       ", baby, take me out the country  Why you wanna act like \n",
       "<mark class=\"entity\" style=\"background: #aa9cfc; padding: 0.45em 0.6em; margin: 0 0.25em; line-height: 1; border-radius: 0.35em;\">\n",
       "    Leo\n",
       "    <span style=\"font-size: 0.8em; font-weight: bold; line-height: 1; border-radius: 0.35em; vertical-align: middle; margin-left: 0.5rem\">PERSON</span>\n",
       "</mark>\n",
       "? Like you don't love me please, oh Like you don't spend money, oh Like you don't eat my pussy  To the left, to the right To the front with it, oh, yeah, yeah, yeah I know, that's right If the money's going up, say yeah, yeah, yeah \n",
       "<mark class=\"entity\" style=\"background: #e4e7d2; padding: 0.45em 0.6em; margin: 0 0.25em; line-height: 1; border-radius: 0.35em;\">\n",
       "    One\n",
       "    <span style=\"font-size: 0.8em; font-weight: bold; line-height: 1; border-radius: 0.35em; vertical-align: middle; margin-left: 0.5rem\">CARDINAL</span>\n",
       "</mark>\n",
       ", \n",
       "<mark class=\"entity\" style=\"background: #e4e7d2; padding: 0.45em 0.6em; margin: 0 0.25em; line-height: 1; border-radius: 0.35em;\">\n",
       "    two\n",
       "    <span style=\"font-size: 0.8em; font-weight: bold; line-height: 1; border-radius: 0.35em; vertical-align: middle; margin-left: 0.5rem\">CARDINAL</span>\n",
       "</mark>\n",
       ", \n",
       "<mark class=\"entity\" style=\"background: #e4e7d2; padding: 0.45em 0.6em; margin: 0 0.25em; line-height: 1; border-radius: 0.35em;\">\n",
       "    three\n",
       "    <span style=\"font-size: 0.8em; font-weight: bold; line-height: 1; border-radius: 0.35em; vertical-align: middle; margin-left: 0.5rem\">CARDINAL</span>\n",
       "</mark>\n",
       ", \n",
       "<mark class=\"entity\" style=\"background: #e4e7d2; padding: 0.45em 0.6em; margin: 0 0.25em; line-height: 1; border-radius: 0.35em;\">\n",
       "    four\n",
       "    <span style=\"font-size: 0.8em; font-weight: bold; line-height: 1; border-radius: 0.35em; vertical-align: middle; margin-left: 0.5rem\">CARDINAL</span>\n",
       "</mark>\n",
       "  Need a boy who can cuddle with me all night Keep me warm, love me long, be my sunlight Tell me lies, we can argue, we can fight Yeah, we did it before, but we'll do it \n",
       "<mark class=\"entity\" style=\"background: #bfe1d9; padding: 0.45em 0.6em; margin: 0 0.25em; line-height: 1; border-radius: 0.35em;\">\n",
       "    tonight\n",
       "    <span style=\"font-size: 0.8em; font-weight: bold; line-height: 1; border-radius: 0.35em; vertical-align: middle; margin-left: 0.5rem\">TIME</span>\n",
       "</mark>\n",
       "  An afro, black boy with the gold teeth With dark skin, looking at me like he know me I wonder if he got the G or the B Let me find out and see, coming over to me, yeah  These days, I'm way too lonely I'm missing out, I know \n",
       "<mark class=\"entity\" style=\"background: #bfe1d9; padding: 0.45em 0.6em; margin: 0 0.25em; line-height: 1; border-radius: 0.35em;\">\n",
       "    These days\n",
       "    <span style=\"font-size: 0.8em; font-weight: bold; line-height: 1; border-radius: 0.35em; vertical-align: middle; margin-left: 0.5rem\">DATE</span>\n",
       "</mark>\n",
       ", I'm way too alone And I'm known for giving love away, but  I want someone who love me I need someone who needs me 'Cause it don't feel right when it's late at night And it's just me in my dreams So I want someone to love, that's what I fucking want  Look, you know it's harder to find in these times But I got nothing but love on my mind (my mind) I need a baby with love in my prime Need an adversary to my &quot;down to marry&quot;  Like, tell me, &quot;That's life&quot; when I'm stressing at night Be like, &quot;You'll be okay&quot;, and, &quot;Everything's all right,&quot; uh Let me in that thing, 'cause I'm not wanting anything But your loving, your body, and a little bit of your brain  These days, I'm way too lonely I'm missing out, I know \n",
       "<mark class=\"entity\" style=\"background: #bfe1d9; padding: 0.45em 0.6em; margin: 0 0.25em; line-height: 1; border-radius: 0.35em;\">\n",
       "    These days\n",
       "    <span style=\"font-size: 0.8em; font-weight: bold; line-height: 1; border-radius: 0.35em; vertical-align: middle; margin-left: 0.5rem\">DATE</span>\n",
       "</mark>\n",
       ", I'm way too alone And I'm known for giving love away, but  I want someone who love me I need someone who needs me 'Cause it don't feel right when it's late at night And it's just me in my dreams So I want someone to love, that's what I fucking want  I want (I) someone to love me I need (I) someone who needs me 'Cause it don't feel right when it's late at night And it's just me in my dreams So I want someone to love, that's what I fucking want All the things she said All the things she said Runnin' through my head Runnin' through my head Runnin' through my head  All the things she said All the things she said Runnin' through my head Runnin' through my head All the things she said This is not enough  I'm in serious shit, I feel totally lost If I'm asking for help, it's only because Being with you has opened my eyes Could I ever believe such a perfect surprise?  I keep asking myself, wondering how I keep closing my eyes, but I can't block you out \n",
       "<mark class=\"entity\" style=\"background: #aa9cfc; padding: 0.45em 0.6em; margin: 0 0.25em; line-height: 1; border-radius: 0.35em;\">\n",
       "    Wanna\n",
       "    <span style=\"font-size: 0.8em; font-weight: bold; line-height: 1; border-radius: 0.35em; vertical-align: middle; margin-left: 0.5rem\">PERSON</span>\n",
       "</mark>\n",
       " fly to a place where it's just you and me Nobody else, so we can be free (Nobody else, so we can be free)  All the things she said All the things she said Runnin' through my head Runnin' through my head Runnin' through my head  All the things she said All the things she said Runnin' through my head Runnin' through my head All the things she said This is not enough (я сошла с ума, ма) (This is not enough)  All the things she said All the things she said All the things she said All the things she said All the things she said All the things she said All the things she said  And I'm all mixed up, feeling cornered and rushed They say it's my fault, but I want her so much \n",
       "<mark class=\"entity\" style=\"background: #aa9cfc; padding: 0.45em 0.6em; margin: 0 0.25em; line-height: 1; border-radius: 0.35em;\">\n",
       "    Wanna\n",
       "    <span style=\"font-size: 0.8em; font-weight: bold; line-height: 1; border-radius: 0.35em; vertical-align: middle; margin-left: 0.5rem\">PERSON</span>\n",
       "</mark>\n",
       " fly her away where the sun and rain Come in over my face, wash away all the shame  When they stop and stare, don't worry me 'Cause I'm feeling for her what she's feeling for me I can try to pretend, I can try to forget But it's driving me mad, going out of my head  All the things she said All the things she said Runnin' through my head Runnin' through my head Runnin' through my head  All the things she said All the things she said Runnin' through my head Runnin' through my head All the things she said This is not enough (я сошла с ума, ма) This is not enough  All the things she said All the things she said All the things she said All the things she said  All the things she said All the things she said All the things she said All the things she said  Things she said All the things she said All the things she said  Mother, \n",
       "<mark class=\"entity\" style=\"background: #feca74; padding: 0.45em 0.6em; margin: 0 0.25em; line-height: 1; border-radius: 0.35em;\">\n",
       "    lookin\n",
       "    <span style=\"font-size: 0.8em; font-weight: bold; line-height: 1; border-radius: 0.35em; vertical-align: middle; margin-left: 0.5rem\">GPE</span>\n",
       "</mark>\n",
       "' at me Tell me what do you see? Yes, I've lost my mind \n",
       "<mark class=\"entity\" style=\"background: #feca74; padding: 0.45em 0.6em; margin: 0 0.25em; line-height: 1; border-radius: 0.35em;\">\n",
       "    Daddy\n",
       "    <span style=\"font-size: 0.8em; font-weight: bold; line-height: 1; border-radius: 0.35em; vertical-align: middle; margin-left: 0.5rem\">GPE</span>\n",
       "</mark>\n",
       ", \n",
       "<mark class=\"entity\" style=\"background: #feca74; padding: 0.45em 0.6em; margin: 0 0.25em; line-height: 1; border-radius: 0.35em;\">\n",
       "    lookin\n",
       "    <span style=\"font-size: 0.8em; font-weight: bold; line-height: 1; border-radius: 0.35em; vertical-align: middle; margin-left: 0.5rem\">GPE</span>\n",
       "</mark>\n",
       "' at me Will I ever be free? Have I crossed the line?  All the things she said All the things she said Runnin' through my head Runnin' through my head Runnin' through my head  All the things she said All the things she said Runnin' through my head Runnin' through my head All the things she said This is not enough (я сошла с ума, ма) This is not enough  All the things she said All the things she said All the things she said All the things she said All the things she said All the things she said How can life be what you want it to be? You're frozen When your heart's not open  Mmm-hmm If I could melt your heart Mmm-hmm We'd never be apart Mmm-hmm If I could melt your heart Mmm-hmm We'd never be apart (sick) Mmm-hmm If I could melt your heart (mm) Mmm-hmm We'd never be apart  Mmm-hmm Give yourself to me (mm) Mmm-hmm We'd never be apart (sick) Mmm-hmm If I could melt your heart Mmm-hmm We'd never be apart  Mmm-hmm If I could melt your heart Mmm-hmm We'd never be apart (sick) Mmm-hmm There's a fire starting in my heart Reaching a fever pitch and it's bringing me out the dark Finally, I can see you crystal clear Go ahead and sell me out and I'll lay your ship bare  See how I'll leave with every piece of you Don't underestimate the things that I will do There's a fire starting in my heart Reaching a fever pitch and it's bring me out the dark  The scars of your love remind me of us They keep me thinking that we almost had it all The scars of your love, they leave me breathless I can't help feeling  We could have had it all (You're gonna wish you never had met me) Rolling in the deep (Tears are gonna fall, rolling in the deep) You had my heart inside of your hands (You're gonna wish you never had met me) And you played it to the beat (Tears are gonna fall, rolling in the deep)  Baby, I have no story to be told But I've heard one on you and I'm gonna make your head burn Think of me in the depths of your despair Make a home down there as mine sure won't be shared  (You're gonna wish you never had met me) The scars of your love remind me of us (Tears are gonna fall, rolling in the deep) They keep me thinking that we almost had it all (You're gonna wish you never had met me) The scars of your love, they leave me breathless (Tears are gonna fall, rolling in the deep) I can't help feeling  We could have had it all (You're gonna wish you never had met me) Rolling in the deep (Tears are gonna fall, rolling in the deep) You had my heart inside of your hands (You're gonna wish you never had met me) And you played it to the beat (Tears are gonna fall, rolling in the deep)  Could have had it all Rolling in the deep You had my heart inside of your hands But you played it with a beating  Throw your soul through every open door Count your blessings to find what you look for Turn my sorrow into treasured gold You'll pay me back in kind and reap just what you've sown  (You're gonna wish you never had met me) We could have had it all (Tears are gonna fall, rolling in the deep) We could have had it all (You're gonna wish you never had met me) It all, it all, it all (Tears are gonna fall, rolling in the deep)  We could have had it all (You're gonna wish you never had met me) Rolling in the deep (Tears are gonna fall, rolling in the deep) You had my heart inside of your hands (You're gonna wish you never had met me) And you played it to the beat (Tears are gonna fall, rolling in the deep)  We could have had it all (You're gonna wish you never had met me) Rolling in the deep (Tears are gonna fall, rolling in the deep) You had my heart inside of your hands (You're gonna wish you never had met me)  But you played it You played it You played it You played it to the beat All my friends are toxic, all ambitionless So rude and always negative I need new friends, but it's not that quick and easy Oh, I'm drowning, let me breathe  I'm better off all by myself Though I'm feelin' \n",
       "<mark class=\"entity\" style=\"background: #feca74; padding: 0.45em 0.6em; margin: 0 0.25em; line-height: 1; border-radius: 0.35em;\">\n",
       "    kinda\n",
       "    <span style=\"font-size: 0.8em; font-weight: bold; line-height: 1; border-radius: 0.35em; vertical-align: middle; margin-left: 0.5rem\">GPE</span>\n",
       "</mark>\n",
       " empty without somebody else Oh, I hear you cryin' out for help But you never showed for me when I was ringin' your cellphone Oh, you don't know how it feels to be alone \n",
       "<mark class=\"entity\" style=\"background: #bfeeb7; padding: 0.45em 0.6em; margin: 0 0.25em; line-height: 1; border-radius: 0.35em;\">\n",
       "    Baby\n",
       "    <span style=\"font-size: 0.8em; font-weight: bold; line-height: 1; border-radius: 0.35em; vertical-align: middle; margin-left: 0.5rem\">PRODUCT</span>\n",
       "</mark>\n",
       ", oh, I'll make you know, I'll make you know, oh  (I'm drowning, let me breathe) (I'm drowning, let me breathe) (I'm drowning, let me breathe) (I'm drowning, let me breathe)  But life is immaculate, backin' it up a bit \n",
       "<mark class=\"entity\" style=\"background: #aa9cfc; padding: 0.45em 0.6em; margin: 0 0.25em; line-height: 1; border-radius: 0.35em;\">\n",
       "    Countin\n",
       "    <span style=\"font-size: 0.8em; font-weight: bold; line-height: 1; border-radius: 0.35em; vertical-align: middle; margin-left: 0.5rem\">PERSON</span>\n",
       "</mark>\n",
       "' my hours and knocking on wood Avoiding my opposites, chewin' on chocolate Had a bit limited time, but I should Be good for \n",
       "<mark class=\"entity\" style=\"background: #bfe1d9; padding: 0.45em 0.6em; margin: 0 0.25em; line-height: 1; border-radius: 0.35em;\">\n",
       "    a minute\n",
       "    <span style=\"font-size: 0.8em; font-weight: bold; line-height: 1; border-radius: 0.35em; vertical-align: middle; margin-left: 0.5rem\">TIME</span>\n",
       "</mark>\n",
       ", don't want to admit it I'm running on \n",
       "<mark class=\"entity\" style=\"background: #bfe1d9; padding: 0.45em 0.6em; margin: 0 0.25em; line-height: 1; border-radius: 0.35em;\">\n",
       "    seconds\n",
       "    <span style=\"font-size: 0.8em; font-weight: bold; line-height: 1; border-radius: 0.35em; vertical-align: middle; margin-left: 0.5rem\">TIME</span>\n",
       "</mark>\n",
       ", I'm rigid, I'm screwed Don't know what to do, I'm thinking of you I'm drinking up bottles and bottles of booze  I'm better off all by myself Though I'm feelin' \n",
       "<mark class=\"entity\" style=\"background: #feca74; padding: 0.45em 0.6em; margin: 0 0.25em; line-height: 1; border-radius: 0.35em;\">\n",
       "    kinda\n",
       "    <span style=\"font-size: 0.8em; font-weight: bold; line-height: 1; border-radius: 0.35em; vertical-align: middle; margin-left: 0.5rem\">GPE</span>\n",
       "</mark>\n",
       " empty without somebody else Oh, I hear you cryin' out for help But you never showed for me when I was ringin' your cellphone Oh, you don't know how it feels to be alone \n",
       "<mark class=\"entity\" style=\"background: #bfeeb7; padding: 0.45em 0.6em; margin: 0 0.25em; line-height: 1; border-radius: 0.35em;\">\n",
       "    Baby\n",
       "    <span style=\"font-size: 0.8em; font-weight: bold; line-height: 1; border-radius: 0.35em; vertical-align: middle; margin-left: 0.5rem\">PRODUCT</span>\n",
       "</mark>\n",
       ", oh, I'll make you know, I'll make you know, oh  I fell into your river That's where you told me lies You said that I'd feel better But this is where good guys die You took my pride away, but You cannot take my life I'll find another way I'll wonder if you're takin' my life  Don't you see how I...  I'm better off all by myself Though I'm feelin' \n",
       "<mark class=\"entity\" style=\"background: #feca74; padding: 0.45em 0.6em; margin: 0 0.25em; line-height: 1; border-radius: 0.35em;\">\n",
       "    kinda\n",
       "    <span style=\"font-size: 0.8em; font-weight: bold; line-height: 1; border-radius: 0.35em; vertical-align: middle; margin-left: 0.5rem\">GPE</span>\n",
       "</mark>\n",
       " empty without somebody else Oh, I hear you cryin' out for help But you never showed for me when I was ringin' your cellphone Oh, you don't know how it feels to be alone \n",
       "<mark class=\"entity\" style=\"background: #bfeeb7; padding: 0.45em 0.6em; margin: 0 0.25em; line-height: 1; border-radius: 0.35em;\">\n",
       "    Baby\n",
       "    <span style=\"font-size: 0.8em; font-weight: bold; line-height: 1; border-radius: 0.35em; vertical-align: middle; margin-left: 0.5rem\">PRODUCT</span>\n",
       "</mark>\n",
       ", oh, I'll make you know, I'll make you know, oh  I'm better off all by myself Though I'm feelin' \n",
       "<mark class=\"entity\" style=\"background: #feca74; padding: 0.45em 0.6em; margin: 0 0.25em; line-height: 1; border-radius: 0.35em;\">\n",
       "    kinda\n",
       "    <span style=\"font-size: 0.8em; font-weight: bold; line-height: 1; border-radius: 0.35em; vertical-align: middle; margin-left: 0.5rem\">GPE</span>\n",
       "</mark>\n",
       " empty without somebody else Oh, I hear you cryin' out for help But you never showed for me when I was ringin' your cellphone Oh, you don't know how it feels to be alone \n",
       "<mark class=\"entity\" style=\"background: #bfeeb7; padding: 0.45em 0.6em; margin: 0 0.25em; line-height: 1; border-radius: 0.35em;\">\n",
       "    Baby\n",
       "    <span style=\"font-size: 0.8em; font-weight: bold; line-height: 1; border-radius: 0.35em; vertical-align: middle; margin-left: 0.5rem\">PRODUCT</span>\n",
       "</mark>\n",
       ", oh, I'll make you know, I'll make you know, oh Now he wants to start talking &quot;Go ahead,&quot; when I'm walking Face the lie that I'm hawking &quot;No, don't wanna, won't happen&quot;  \n",
       "<mark class=\"entity\" style=\"background: #aa9cfc; padding: 0.45em 0.6em; margin: 0 0.25em; line-height: 1; border-radius: 0.35em;\">\n",
       "    Pope\n",
       "    <span style=\"font-size: 0.8em; font-weight: bold; line-height: 1; border-radius: 0.35em; vertical-align: middle; margin-left: 0.5rem\">PERSON</span>\n",
       "</mark>\n",
       " is a rockstar You take your clothes off Heading for the last fight Before our worlds part  We can wait forever for the world to untrack We can wait forever for the worthwhile track  And oh, you want to start talking Fall together, I'm walking Face the lie that I'm hawking We can always fight  You can be the highlight \n",
       "<mark class=\"entity\" style=\"background: #aa9cfc; padding: 0.45em 0.6em; margin: 0 0.25em; line-height: 1; border-radius: 0.35em;\">\n",
       "    Pope\n",
       "    <span style=\"font-size: 0.8em; font-weight: bold; line-height: 1; border-radius: 0.35em; vertical-align: middle; margin-left: 0.5rem\">PERSON</span>\n",
       "</mark>\n",
       " is a rockstar \n",
       "<mark class=\"entity\" style=\"background: #feca74; padding: 0.45em 0.6em; margin: 0 0.25em; line-height: 1; border-radius: 0.35em;\">\n",
       "    Hoping\n",
       "    <span style=\"font-size: 0.8em; font-weight: bold; line-height: 1; border-radius: 0.35em; vertical-align: middle; margin-left: 0.5rem\">GPE</span>\n",
       "</mark>\n",
       " on \n",
       "<mark class=\"entity\" style=\"background: #bfe1d9; padding: 0.45em 0.6em; margin: 0 0.25em; line-height: 1; border-radius: 0.35em;\">\n",
       "    a late night\n",
       "    <span style=\"font-size: 0.8em; font-weight: bold; line-height: 1; border-radius: 0.35em; vertical-align: middle; margin-left: 0.5rem\">TIME</span>\n",
       "</mark>\n",
       "  How you wanna start talking? How you wanna start walking? We can make a landslide, dive-in We can let it all go, cave-in  (\n",
       "<mark class=\"entity\" style=\"background: #7aecec; padding: 0.45em 0.6em; margin: 0 0.25em; line-height: 1; border-radius: 0.35em;\">\n",
       "    EL\n",
       "    <span style=\"font-size: 0.8em; font-weight: bold; line-height: 1; border-radius: 0.35em; vertical-align: middle; margin-left: 0.5rem\">ORG</span>\n",
       "</mark>\n",
       ") You wanna start talking (\n",
       "<mark class=\"entity\" style=\"background: #7aecec; padding: 0.45em 0.6em; margin: 0 0.25em; line-height: 1; border-radius: 0.35em;\">\n",
       "    EL\n",
       "    <span style=\"font-size: 0.8em; font-weight: bold; line-height: 1; border-radius: 0.35em; vertical-align: middle; margin-left: 0.5rem\">ORG</span>\n",
       "</mark>\n",
       ") You know what I'm walking  Hoping and a-hoping that I won't cry \n",
       "<mark class=\"entity\" style=\"background: #feca74; padding: 0.45em 0.6em; margin: 0 0.25em; line-height: 1; border-radius: 0.35em;\">\n",
       "    Hoping\n",
       "    <span style=\"font-size: 0.8em; font-weight: bold; line-height: 1; border-radius: 0.35em; vertical-align: middle; margin-left: 0.5rem\">GPE</span>\n",
       "</mark>\n",
       " and a-hoping that I won't try This is a dark parade Another rough patch to rain on, to rain on I know your friends may say This is a cause for celebration, hip-hip-hooray, love \n",
       "<mark class=\"entity\" style=\"background: #aa9cfc; padding: 0.45em 0.6em; margin: 0 0.25em; line-height: 1; border-radius: 0.35em;\">\n",
       "    Photographs\n",
       "    <span style=\"font-size: 0.8em; font-weight: bold; line-height: 1; border-radius: 0.35em; vertical-align: middle; margin-left: 0.5rem\">PERSON</span>\n",
       "</mark>\n",
       " in sepia tones It's so still, the fire's barely fighting the cold, alone There are times when I can feel your ghost Just when I'm almost letting you go The cards were stacked against us both  I will always love you for what it's worth We'll never fade like graffiti on the overpass And I know time may change the way you think of us But I'll remember the way we were, you were the \n",
       "<mark class=\"entity\" style=\"background: #e4e7d2; padding: 0.45em 0.6em; margin: 0 0.25em; line-height: 1; border-radius: 0.35em;\">\n",
       "    first\n",
       "    <span style=\"font-size: 0.8em; font-weight: bold; line-height: 1; border-radius: 0.35em; vertical-align: middle; margin-left: 0.5rem\">ORDINAL</span>\n",
       "</mark>\n",
       " full stop \n",
       "<mark class=\"entity\" style=\"background: #f0d0ff; padding: 0.45em 0.6em; margin: 0 0.25em; line-height: 1; border-radius: 0.35em;\">\n",
       "    Love\n",
       "    <span style=\"font-size: 0.8em; font-weight: bold; line-height: 1; border-radius: 0.35em; vertical-align: middle; margin-left: 0.5rem\">WORK_OF_ART</span>\n",
       "</mark>\n",
       " that will never leave Baby, you will never be lost on me  This is a goddamn shame I never wanted to break it, or leave us tainted Know I should walk away But I just can't replace us, or even erase us The car was stuck, the engine stalled And both of us got caught out in the snow, alone There were times when I forget the lows And think the highs were all that we'd ever known The cards were stacked against us both  I will always love you for what it's worth We'll never fade like graffiti on the overpass And I know time may change the way you think of us But I'll remember the way we were, you were the \n",
       "<mark class=\"entity\" style=\"background: #e4e7d2; padding: 0.45em 0.6em; margin: 0 0.25em; line-height: 1; border-radius: 0.35em;\">\n",
       "    first\n",
       "    <span style=\"font-size: 0.8em; font-weight: bold; line-height: 1; border-radius: 0.35em; vertical-align: middle; margin-left: 0.5rem\">ORDINAL</span>\n",
       "</mark>\n",
       " full stop \n",
       "<mark class=\"entity\" style=\"background: #f0d0ff; padding: 0.45em 0.6em; margin: 0 0.25em; line-height: 1; border-radius: 0.35em;\">\n",
       "    Love\n",
       "    <span style=\"font-size: 0.8em; font-weight: bold; line-height: 1; border-radius: 0.35em; vertical-align: middle; margin-left: 0.5rem\">WORK_OF_ART</span>\n",
       "</mark>\n",
       " that will never leave Baby, you will never be lost on me  Lost on me Baby, you will never be lost on me Lost on me  Well, I will always love you for what it's worth We'll never fade like graffiti on the overpass And I know time may change the way you think of us But I'll remember the way we were, you were the \n",
       "<mark class=\"entity\" style=\"background: #e4e7d2; padding: 0.45em 0.6em; margin: 0 0.25em; line-height: 1; border-radius: 0.35em;\">\n",
       "    first\n",
       "    <span style=\"font-size: 0.8em; font-weight: bold; line-height: 1; border-radius: 0.35em; vertical-align: middle; margin-left: 0.5rem\">ORDINAL</span>\n",
       "</mark>\n",
       " full stop \n",
       "<mark class=\"entity\" style=\"background: #f0d0ff; padding: 0.45em 0.6em; margin: 0 0.25em; line-height: 1; border-radius: 0.35em;\">\n",
       "    Love\n",
       "    <span style=\"font-size: 0.8em; font-weight: bold; line-height: 1; border-radius: 0.35em; vertical-align: middle; margin-left: 0.5rem\">WORK_OF_ART</span>\n",
       "</mark>\n",
       " that will never leave Baby, you will never be lost on me  Yeah, yeah, yeah Yeah, yeah, yeah Lost on me Ooh, graffiti on the overpass If you want my love He gotta do what he does If you want these sweet like sugar \n",
       "<mark class=\"entity\" style=\"background: #aa9cfc; padding: 0.45em 0.6em; margin: 0 0.25em; line-height: 1; border-radius: 0.35em;\">\n",
       "    Gucci\n",
       "    <span style=\"font-size: 0.8em; font-weight: bold; line-height: 1; border-radius: 0.35em; vertical-align: middle; margin-left: 0.5rem\">PERSON</span>\n",
       "</mark>\n",
       " lips You gotta give it up I know you think I'm cool But I ain't one of the boys No, don't be scared that I'm gonna tie you down I need a little more  Baby, don't call me your friend If I hear that word again You might never get a chance to see me naked in your bed And I know girls ain't hard to find If you think you wanna try Then consider this an invitation to kiss my ass goodbye  Give me that title, title Come on give me that title, title Better give me that title, title Come on give me that title, title  If it ain't no thang I won't be hanging around (hanging around) But don't blow up my shit at \n",
       "<mark class=\"entity\" style=\"background: #bfe1d9; padding: 0.45em 0.6em; margin: 0 0.25em; line-height: 1; border-radius: 0.35em;\">\n",
       "    3 a.m.\n",
       "    <span style=\"font-size: 0.8em; font-weight: bold; line-height: 1; border-radius: 0.35em; vertical-align: middle; margin-left: 0.5rem\">TIME</span>\n",
       "</mark>\n",
       " saying &quot;How you need me now?&quot;  Don't call me boo Like you're some kind of ghost If you don't want me seeking other guys Here's what you need to know  Baby don't call me your friend If I hear that word again You might never get a chance to see me naked in your bed And I know girls ain't hard to find If you think you wanna try Then consider this an invitation to kiss my ass goodbye  Give me that title, title Come on give me that title, title Better give me that title, title Come on give me that title, title  Yeah, said I'm a special kind of woman I'm loving what you got But I'm hating what you doing, \n",
       "<mark class=\"entity\" style=\"background: #aa9cfc; padding: 0.45em 0.6em; margin: 0 0.25em; line-height: 1; border-radius: 0.35em;\">\n",
       "    ya Got\n",
       "    <span style=\"font-size: 0.8em; font-weight: bold; line-height: 1; border-radius: 0.35em; vertical-align: middle; margin-left: 0.5rem\">PERSON</span>\n",
       "</mark>\n",
       "ta understand that I'm looking for a man Who can get up on a bike Look mom! No hands!  You gotta show me off, off But you embarrassed If that's the case I'm all gone You gotta treat me like a trophy Put me on the shelf Or call me something else  Baby don't call me your friend If I hear that word again You might never get a chance to see me naked in your bed And I know girls ain't hard to find If you think you wanna try Then consider this an invitation to kiss my ass goodbye  Give me that title, title Come on give me that title, title Better give me that title, title Come on give me that title, title, yeah  Title, title Come on, give me that title, title Give me that title, title Come on, give me that title, title, yeah \n",
       "<mark class=\"entity\" style=\"background: #aa9cfc; padding: 0.45em 0.6em; margin: 0 0.25em; line-height: 1; border-radius: 0.35em;\">\n",
       "    Sugar Sugar\n",
       "    <span style=\"font-size: 0.8em; font-weight: bold; line-height: 1; border-radius: 0.35em; vertical-align: middle; margin-left: 0.5rem\">PERSON</span>\n",
       "</mark>\n",
       ", ooh Ooh  She sits alone waiting for suggestions He's so nervous, avoiding all the questions His lips are dry, her heart is gently pounding Don't you just know exactly what they're thinking?  If you want my body and you think I'm sexy Come on, sugar, let me know If you really need me Just reach out and touch me Come on, honey, tell me so, tell me so baby  He's acting shy, looking for an answer Come on, honey, let's spend \n",
       "<mark class=\"entity\" style=\"background: #bfe1d9; padding: 0.45em 0.6em; margin: 0 0.25em; line-height: 1; border-radius: 0.35em;\">\n",
       "    the night\n",
       "    <span style=\"font-size: 0.8em; font-weight: bold; line-height: 1; border-radius: 0.35em; vertical-align: middle; margin-left: 0.5rem\">TIME</span>\n",
       "</mark>\n",
       " together Now hold on \n",
       "<mark class=\"entity\" style=\"background: #bfe1d9; padding: 0.45em 0.6em; margin: 0 0.25em; line-height: 1; border-radius: 0.35em;\">\n",
       "    a minute\n",
       "    <span style=\"font-size: 0.8em; font-weight: bold; line-height: 1; border-radius: 0.35em; vertical-align: middle; margin-left: 0.5rem\">TIME</span>\n",
       "</mark>\n",
       " before we go much further Give me a dime so I can phone my mother  They catch a cab to his high rise apartment At last he can tell her exactly what his heart meant  If you want my body and you think I'm sexy Come on, honey, tell me so If you really need me just reach out and touch me Come on, sugar, let me know  His heart's beating like a drum 'Cause at last he's got this girl home Relax, baby, now we are all alone  They wake at dawn 'cause all the birds are singing \n",
       "<mark class=\"entity\" style=\"background: #e4e7d2; padding: 0.45em 0.6em; margin: 0 0.25em; line-height: 1; border-radius: 0.35em;\">\n",
       "    Two\n",
       "    <span style=\"font-size: 0.8em; font-weight: bold; line-height: 1; border-radius: 0.35em; vertical-align: middle; margin-left: 0.5rem\">CARDINAL</span>\n",
       "</mark>\n",
       " total strangers, but that ain't what they're thinking \n",
       "<mark class=\"entity\" style=\"background: #bfeeb7; padding: 0.45em 0.6em; margin: 0 0.25em; line-height: 1; border-radius: 0.35em;\">\n",
       "    Outside\n",
       "    <span style=\"font-size: 0.8em; font-weight: bold; line-height: 1; border-radius: 0.35em; vertical-align: middle; margin-left: 0.5rem\">PRODUCT</span>\n",
       "</mark>\n",
       " it's cold, misty and it's raining They got each other, neither one's complaining  He says, &quot;I'm sorry but I'm out of milk and coffee&quot; Never mind, sugar, we can watch the early movie  If you want my body and you think I'm sexy Come on, sugar, let me know If you really need me Just reach out and touch me Come on, honey, tell me so  Ooh Sugar  If you really need me Just reach out and touch me Come on, sugar, let me know If you really, really, really, really need me Just let me know Just reach out and touch me \n",
       "<mark class=\"entity\" style=\"background: #aa9cfc; padding: 0.45em 0.6em; margin: 0 0.25em; line-height: 1; border-radius: 0.35em;\">\n",
       "    Ooh\n",
       "    <span style=\"font-size: 0.8em; font-weight: bold; line-height: 1; border-radius: 0.35em; vertical-align: middle; margin-left: 0.5rem\">PERSON</span>\n",
       "</mark>\n",
       "  If you really want me Just reach out and touch me Come on, sugar, let me know If you really need me Just reach out and touch me Come on, sugar, let me know If, if, if, you really need me Just come on and tell me so Just reach out and tell me so Are we gonna make it? Is this gonna hurt?  Oh, we can try to sedate it But that never works, yeah  I start to imagine a world where we don't collide  It's making me sick, but we'll heal and the sun will rise  If you tell me you're leaving I'll make it easy It'll be okay If we can't stop the bleeding We don't have to fix it We don't have to stay  I will love you either way (ooh-ooh) It'll be o-, be okay (ooh-ooh)  Oh, the future we dreamed of is fading to black, oh Oh, there's nothing more painful Nothing more painful, oh-whoa  I start to imagine a world where we don't collide  And it's making me sick, but we'll heal and the sun will rise  If you tell me you're leaving I'll make it easy It'll be okay (it'll be okay) And if we can't stop the bleeding We don't have to fix it We don't have to stay  I will love you either way (ooh-ooh) It'll be o-, be okay (ooh-ooh)  I will love you either way It might be so sweet It might be so bitter I will love you either way It might be so sweet It might be so bitter (ooh-ooh)  Oh, if the future we've dreamed of is fading to black I will love you either way I could lift you up I could show you what you wanna see And take you where you wanna be  You could be my luck Even if the sky is falling down I know that we'll be safe and sound We're safe and sound  I could fill your cup You know my river won't evaporate This world we still appreciate  You could be my luck Even in a hurricane of frowns I know that we'll be safe and sound  Safe and sound We're safe and sound Safe and sound We're safe and sound Hold your ground We're safe and sound Safe and sound  I could show you love In a tidal wave of mystery You'll still be standing next to me  You could be my luck Even if we're \n",
       "<mark class=\"entity\" style=\"background: #e4e7d2; padding: 0.45em 0.6em; margin: 0 0.25em; line-height: 1; border-radius: 0.35em;\">\n",
       "    six feet\n",
       "    <span style=\"font-size: 0.8em; font-weight: bold; line-height: 1; border-radius: 0.35em; vertical-align: middle; margin-left: 0.5rem\">QUANTITY</span>\n",
       "</mark>\n",
       " underground I know that we'll be safe and sound We're safe and sound  Safe and sound Safe and sound Hold your ground Safe and sound  I could lift you up I could show you what you wanna see And take you where you wanna be  You could be my luck Even if the sky is falling down I know that we'll be safe and sound  I could lift you up I could show you what you wanna see And take you where you wanna be  You could be my luck Even if the sky is falling down I know that we'll be safe and sound  We're safe and sound We're safe and sound We're safe and sound We're safe and sound  Safe and sound We're safe and sound Safe and sound We're safe and sound  Hold your ground We're safe and sound Safe and sound We're safe and sound I'm out of my head, out of my mind, oh, I If you let me, I'll be Out of my dress and into your arms \n",
       "<mark class=\"entity\" style=\"background: #bfe1d9; padding: 0.45em 0.6em; margin: 0 0.25em; line-height: 1; border-radius: 0.35em;\">\n",
       "    tonight\n",
       "    <span style=\"font-size: 0.8em; font-weight: bold; line-height: 1; border-radius: 0.35em; vertical-align: middle; margin-left: 0.5rem\">TIME</span>\n",
       "</mark>\n",
       " Yeah, I'm lost without it Feels like I'm always waitin' I need you to come get me Out of my head, and into your arms \n",
       "<mark class=\"entity\" style=\"background: #bfe1d9; padding: 0.45em 0.6em; margin: 0 0.25em; line-height: 1; border-radius: 0.35em;\">\n",
       "    tonight\n",
       "    <span style=\"font-size: 0.8em; font-weight: bold; line-height: 1; border-radius: 0.35em; vertical-align: middle; margin-left: 0.5rem\">TIME</span>\n",
       "</mark>\n",
       ", \n",
       "<mark class=\"entity\" style=\"background: #bfe1d9; padding: 0.45em 0.6em; margin: 0 0.25em; line-height: 1; border-radius: 0.35em;\">\n",
       "    tonight\n",
       "    <span style=\"font-size: 0.8em; font-weight: bold; line-height: 1; border-radius: 0.35em; vertical-align: middle; margin-left: 0.5rem\">TIME</span>\n",
       "</mark>\n",
       "  Yeah, I don't mean to make you wait Just the pressure's been gettin' heavy I know if I fuck us up, we'll be over, done, you'll forget me Forget me, I'm feelin' bad that I act this way, 'cause you let me They call me king, but I know my queen will be there to check me \n",
       "<mark class=\"entity\" style=\"background: #bfe1d9; padding: 0.45em 0.6em; margin: 0 0.25em; line-height: 1; border-radius: 0.35em;\">\n",
       "    Last year\n",
       "    <span style=\"font-size: 0.8em; font-weight: bold; line-height: 1; border-radius: 0.35em; vertical-align: middle; margin-left: 0.5rem\">DATE</span>\n",
       "</mark>\n",
       ", was runnin' 'round \n",
       "<mark class=\"entity\" style=\"background: #e4e7d2; padding: 0.45em 0.6em; margin: 0 0.25em; line-height: 1; border-radius: 0.35em;\">\n",
       "    45th\n",
       "    <span style=\"font-size: 0.8em; font-weight: bold; line-height: 1; border-radius: 0.35em; vertical-align: middle; margin-left: 0.5rem\">ORDINAL</span>\n",
       "</mark>\n",
       " lookin' for \n",
       "<mark class=\"entity\" style=\"background: #7aecec; padding: 0.45em 0.6em; margin: 0 0.25em; line-height: 1; border-radius: 0.35em;\">\n",
       "    SoHo\n",
       "    <span style=\"font-size: 0.8em; font-weight: bold; line-height: 1; border-radius: 0.35em; vertical-align: middle; margin-left: 0.5rem\">ORG</span>\n",
       "</mark>\n",
       " \n",
       "<mark class=\"entity\" style=\"background: #bfe1d9; padding: 0.45em 0.6em; margin: 0 0.25em; line-height: 1; border-radius: 0.35em;\">\n",
       "    Last night\n",
       "    <span style=\"font-size: 0.8em; font-weight: bold; line-height: 1; border-radius: 0.35em; vertical-align: middle; margin-left: 0.5rem\">TIME</span>\n",
       "</mark>\n",
       ", was ridin' down \n",
       "<mark class=\"entity\" style=\"background: #7aecec; padding: 0.45em 0.6em; margin: 0 0.25em; line-height: 1; border-radius: 0.35em;\">\n",
       "    Rodeo\n",
       "    <span style=\"font-size: 0.8em; font-weight: bold; line-height: 1; border-radius: 0.35em; vertical-align: middle; margin-left: 0.5rem\">ORG</span>\n",
       "</mark>\n",
       " lookin' for no ho It's crazy what can change in \n",
       "<mark class=\"entity\" style=\"background: #bfe1d9; padding: 0.45em 0.6em; margin: 0 0.25em; line-height: 1; border-radius: 0.35em;\">\n",
       "    a year\n",
       "    <span style=\"font-size: 0.8em; font-weight: bold; line-height: 1; border-radius: 0.35em; vertical-align: middle; margin-left: 0.5rem\">DATE</span>\n",
       "</mark>\n",
       ", think that you know though Go back and forth like a yo-yo, they live their life for the photos  They see me, I'm actin' solo, 'cause I'm afraid to commit Now, can you tell me how I'm different than him, and him, and him? Yeah, I know I'm always questionin' things, like, girl Would you say that love cannot be found inside a vow or a ring? She laughs and says, only material things Those are material things, imagine buyin' all my trust with a ring \n",
       "<mark class=\"entity\" style=\"background: #7aecec; padding: 0.45em 0.6em; margin: 0 0.25em; line-height: 1; border-radius: 0.35em;\">\n",
       "    Imagine\n",
       "    <span style=\"font-size: 0.8em; font-weight: bold; line-height: 1; border-radius: 0.35em; vertical-align: middle; margin-left: 0.5rem\">ORG</span>\n",
       "</mark>\n",
       " spendin' all my love on a fling, got a thing for you If I had the talent you had, I probably would sing for you, like  I'm out of my head, out of my mind, oh, I If you let me, I'll be Out of my dress and into your arms \n",
       "<mark class=\"entity\" style=\"background: #bfe1d9; padding: 0.45em 0.6em; margin: 0 0.25em; line-height: 1; border-radius: 0.35em;\">\n",
       "    tonight\n",
       "    <span style=\"font-size: 0.8em; font-weight: bold; line-height: 1; border-radius: 0.35em; vertical-align: middle; margin-left: 0.5rem\">TIME</span>\n",
       "</mark>\n",
       " Yeah, I'm lost without it Feels like I'm always waitin' I need you to come get me Out of my head, and into your arms \n",
       "<mark class=\"entity\" style=\"background: #bfe1d9; padding: 0.45em 0.6em; margin: 0 0.25em; line-height: 1; border-radius: 0.35em;\">\n",
       "    tonight\n",
       "    <span style=\"font-size: 0.8em; font-weight: bold; line-height: 1; border-radius: 0.35em; vertical-align: middle; margin-left: 0.5rem\">TIME</span>\n",
       "</mark>\n",
       ", \n",
       "<mark class=\"entity\" style=\"background: #bfe1d9; padding: 0.45em 0.6em; margin: 0 0.25em; line-height: 1; border-radius: 0.35em;\">\n",
       "    tonight\n",
       "    <span style=\"font-size: 0.8em; font-weight: bold; line-height: 1; border-radius: 0.35em; vertical-align: middle; margin-left: 0.5rem\">TIME</span>\n",
       "</mark>\n",
       "  Yeah, I don't mean to make you wait or to contemplate about us My ex, she loved to lie, guess that's why it's harder to trust I been searchin' to find myself and not get too lost into lust I heard once that you can try, but can't fill from an empty cup That's no lie, and all I ever say is how I need time If it was up to you now, you would be mine I'm on the road more than I'm home And still I find it's only you on my mind The last \n",
       "<mark class=\"entity\" style=\"background: #e4e7d2; padding: 0.45em 0.6em; margin: 0 0.25em; line-height: 1; border-radius: 0.35em;\">\n",
       "    three\n",
       "    <span style=\"font-size: 0.8em; font-weight: bold; line-height: 1; border-radius: 0.35em; vertical-align: middle; margin-left: 0.5rem\">CARDINAL</span>\n",
       "</mark>\n",
       " were gemini, I take that sh-t as a sign, it's funny You can't buy time with your money And you love goin' to the beach whether it's cloudy or sunny And you love drinkin' all your wine until it hurts in your tummy You call me, honey, I'm tipsy And really all I want is for you to love me  Flashbacks to backroads drivin' back to my side of state I know I need to tell you, I can't before it's too late Before someone steps to the plate, before you decide not to wait Before you decide not to chaster, you call me up, just to say  I'm out of my head, out of my mind, oh, I If you let me, I'll be Out of my dress and into your arms \n",
       "<mark class=\"entity\" style=\"background: #bfe1d9; padding: 0.45em 0.6em; margin: 0 0.25em; line-height: 1; border-radius: 0.35em;\">\n",
       "    tonight\n",
       "    <span style=\"font-size: 0.8em; font-weight: bold; line-height: 1; border-radius: 0.35em; vertical-align: middle; margin-left: 0.5rem\">TIME</span>\n",
       "</mark>\n",
       " (oh, baby) Yeah, I'm lost without it Feels like I'm always waitin' I need you to come get me (ohhh) Out of my head, and into your arms \n",
       "<mark class=\"entity\" style=\"background: #bfe1d9; padding: 0.45em 0.6em; margin: 0 0.25em; line-height: 1; border-radius: 0.35em;\">\n",
       "    tonight\n",
       "    <span style=\"font-size: 0.8em; font-weight: bold; line-height: 1; border-radius: 0.35em; vertical-align: middle; margin-left: 0.5rem\">TIME</span>\n",
       "</mark>\n",
       " \n",
       "<mark class=\"entity\" style=\"background: #bfe1d9; padding: 0.45em 0.6em; margin: 0 0.25em; line-height: 1; border-radius: 0.35em;\">\n",
       "    Tonight\n",
       "    <span style=\"font-size: 0.8em; font-weight: bold; line-height: 1; border-radius: 0.35em; vertical-align: middle; margin-left: 0.5rem\">TIME</span>\n",
       "</mark>\n",
       " (yeah, yeah) Hey, woman Hey, woman  Woman Let me be your woman \n",
       "<mark class=\"entity\" style=\"background: #aa9cfc; padding: 0.45em 0.6em; margin: 0 0.25em; line-height: 1; border-radius: 0.35em;\">\n",
       "    Woman\n",
       "    <span style=\"font-size: 0.8em; font-weight: bold; line-height: 1; border-radius: 0.35em; vertical-align: middle; margin-left: 0.5rem\">PERSON</span>\n",
       "</mark>\n",
       ", woman, woman I can be your woman \n",
       "<mark class=\"entity\" style=\"background: #aa9cfc; padding: 0.45em 0.6em; margin: 0 0.25em; line-height: 1; border-radius: 0.35em;\">\n",
       "    Woman\n",
       "    <span style=\"font-size: 0.8em; font-weight: bold; line-height: 1; border-radius: 0.35em; vertical-align: middle; margin-left: 0.5rem\">PERSON</span>\n",
       "</mark>\n",
       ", woman, woman Let me be your woman \n",
       "<mark class=\"entity\" style=\"background: #aa9cfc; padding: 0.45em 0.6em; margin: 0 0.25em; line-height: 1; border-radius: 0.35em;\">\n",
       "    Woman\n",
       "    <span style=\"font-size: 0.8em; font-weight: bold; line-height: 1; border-radius: 0.35em; vertical-align: middle; margin-left: 0.5rem\">PERSON</span>\n",
       "</mark>\n",
       ", woman, woman I can be your woman \n",
       "<mark class=\"entity\" style=\"background: #aa9cfc; padding: 0.45em 0.6em; margin: 0 0.25em; line-height: 1; border-radius: 0.35em;\">\n",
       "    Woman\n",
       "    <span style=\"font-size: 0.8em; font-weight: bold; line-height: 1; border-radius: 0.35em; vertical-align: middle; margin-left: 0.5rem\">PERSON</span>\n",
       "</mark>\n",
       ", woman, woman  Know what you need She give tenfold, come here, papa, plant your seed She can grow it from the womb, a family \n",
       "<mark class=\"entity\" style=\"background: #c887fb; padding: 0.45em 0.6em; margin: 0 0.25em; line-height: 1; border-radius: 0.35em;\">\n",
       "    Provide\n",
       "    <span style=\"font-size: 0.8em; font-weight: bold; line-height: 1; border-radius: 0.35em; vertical-align: middle; margin-left: 0.5rem\">NORP</span>\n",
       "</mark>\n",
       " loving, overlooked and unappreciated, you see? (Yeah)  You can't reciprocate, I got delicious taste You need a woman's touch in your place Just protect her and keep her safe \n",
       "<mark class=\"entity\" style=\"background: #bfeeb7; padding: 0.45em 0.6em; margin: 0 0.25em; line-height: 1; border-radius: 0.35em;\">\n",
       "    Baby\n",
       "    <span style=\"font-size: 0.8em; font-weight: bold; line-height: 1; border-radius: 0.35em; vertical-align: middle; margin-left: 0.5rem\">PRODUCT</span>\n",
       "</mark>\n",
       ", worship my hips and waist So feminine with grace I touch your soul when you hear me say &quot;(Boy), let me be your woman&quot;  Let me be your woman \n",
       "<mark class=\"entity\" style=\"background: #aa9cfc; padding: 0.45em 0.6em; margin: 0 0.25em; line-height: 1; border-radius: 0.35em;\">\n",
       "    Woman\n",
       "    <span style=\"font-size: 0.8em; font-weight: bold; line-height: 1; border-radius: 0.35em; vertical-align: middle; margin-left: 0.5rem\">PERSON</span>\n",
       "</mark>\n",
       ", woman, woman I can be your woman \n",
       "<mark class=\"entity\" style=\"background: #aa9cfc; padding: 0.45em 0.6em; margin: 0 0.25em; line-height: 1; border-radius: 0.35em;\">\n",
       "    Woman\n",
       "    <span style=\"font-size: 0.8em; font-weight: bold; line-height: 1; border-radius: 0.35em; vertical-align: middle; margin-left: 0.5rem\">PERSON</span>\n",
       "</mark>\n",
       ", woman, woman Let me be your woman \n",
       "<mark class=\"entity\" style=\"background: #aa9cfc; padding: 0.45em 0.6em; margin: 0 0.25em; line-height: 1; border-radius: 0.35em;\">\n",
       "    Woman\n",
       "    <span style=\"font-size: 0.8em; font-weight: bold; line-height: 1; border-radius: 0.35em; vertical-align: middle; margin-left: 0.5rem\">PERSON</span>\n",
       "</mark>\n",
       ", woman, woman I can be your woman \n",
       "<mark class=\"entity\" style=\"background: #aa9cfc; padding: 0.45em 0.6em; margin: 0 0.25em; line-height: 1; border-radius: 0.35em;\">\n",
       "    Woman\n",
       "    <span style=\"font-size: 0.8em; font-weight: bold; line-height: 1; border-radius: 0.35em; vertical-align: middle; margin-left: 0.5rem\">PERSON</span>\n",
       "</mark>\n",
       ", woman, woman  I can be your lady, I'm a woman I'm a motherfucker but they got a problem Put some babies in your life and take away the drama Put the paper in the picture, like a diorama  Gotta face it, lot of people love the opposite 'Cause the world told me, &quot;We ain't got that common sense&quot; Gotta prove it to myself that I'm on top of shit And you will never know a god without the goddesses, honest  It's fuckin' honest, kid, and I could be on everything I mean I could be the leader, head of all the states I could smile and jiggle it 'til it's pockets empty I could be the CEO, just like a Robyn Fenty And I'ma be there for you 'cause you on my team, girl Don't ever think you ain't hella these niggas dream, girl They wanna pit us against each other when we succeed And for no reasons, they wanna see us end up like we \n",
       "<mark class=\"entity\" style=\"background: #feca74; padding: 0.45em 0.6em; margin: 0 0.25em; line-height: 1; border-radius: 0.35em;\">\n",
       "    Regina\n",
       "    <span style=\"font-size: 0.8em; font-weight: bold; line-height: 1; border-radius: 0.35em; vertical-align: middle; margin-left: 0.5rem\">GPE</span>\n",
       "</mark>\n",
       " on Mean Girls  Princess or queen, tomboy or king (yeah) You've heard a lot, you've never seen (nah) \n",
       "<mark class=\"entity\" style=\"background: #aa9cfc; padding: 0.45em 0.6em; margin: 0 0.25em; line-height: 1; border-radius: 0.35em;\">\n",
       "    Mother Earth\n",
       "    <span style=\"font-size: 0.8em; font-weight: bold; line-height: 1; border-radius: 0.35em; vertical-align: middle; margin-left: 0.5rem\">PERSON</span>\n",
       "</mark>\n",
       ", Mother Mary rise to the top Divine feminine, I'm feminine (wow)  Woman (daddy) Let me be your woman (be your-) Woman, woman, woman (I need to be your-) I can be your woman (daddy) Woman, woman, woman (daddy) Let me be your woman (I need) Woman, woman, woman (daddy) I can be your woman (I want) Woman, woman, woman  Eee, \n",
       "<mark class=\"entity\" style=\"background: #7aecec; padding: 0.45em 0.6em; margin: 0 0.25em; line-height: 1; border-radius: 0.35em;\">\n",
       "    eee\n",
       "    <span style=\"font-size: 0.8em; font-weight: bold; line-height: 1; border-radius: 0.35em; vertical-align: middle; margin-left: 0.5rem\">ORG</span>\n",
       "</mark>\n",
       ", eee (hey woman, woman) \n",
       "<mark class=\"entity\" style=\"background: #7aecec; padding: 0.45em 0.6em; margin: 0 0.25em; line-height: 1; border-radius: 0.35em;\">\n",
       "    Eee\n",
       "    <span style=\"font-size: 0.8em; font-weight: bold; line-height: 1; border-radius: 0.35em; vertical-align: middle; margin-left: 0.5rem\">ORG</span>\n",
       "</mark>\n",
       ", \n",
       "<mark class=\"entity\" style=\"background: #7aecec; padding: 0.45em 0.6em; margin: 0 0.25em; line-height: 1; border-radius: 0.35em;\">\n",
       "    eee\n",
       "    <span style=\"font-size: 0.8em; font-weight: bold; line-height: 1; border-radius: 0.35em; vertical-align: middle; margin-left: 0.5rem\">ORG</span>\n",
       "</mark>\n",
       ", \n",
       "<mark class=\"entity\" style=\"background: #7aecec; padding: 0.45em 0.6em; margin: 0 0.25em; line-height: 1; border-radius: 0.35em;\">\n",
       "    eee\n",
       "    <span style=\"font-size: 0.8em; font-weight: bold; line-height: 1; border-radius: 0.35em; vertical-align: middle; margin-left: 0.5rem\">ORG</span>\n",
       "</mark>\n",
       ", mmm-hmm (woman, hey woman) Mmm-hmm (woman) Hey, woman \n",
       "<mark class=\"entity\" style=\"background: #feca74; padding: 0.45em 0.6em; margin: 0 0.25em; line-height: 1; border-radius: 0.35em;\">\n",
       "    Youngblood\n",
       "    <span style=\"font-size: 0.8em; font-weight: bold; line-height: 1; border-radius: 0.35em; vertical-align: middle; margin-left: 0.5rem\">GPE</span>\n",
       "</mark>\n",
       " thinks there's always \n",
       "<mark class=\"entity\" style=\"background: #bfe1d9; padding: 0.45em 0.6em; margin: 0 0.25em; line-height: 1; border-radius: 0.35em;\">\n",
       "    tomorrow\n",
       "    <span style=\"font-size: 0.8em; font-weight: bold; line-height: 1; border-radius: 0.35em; vertical-align: middle; margin-left: 0.5rem\">DATE</span>\n",
       "</mark>\n",
       " I miss your touch some nights when I'm hollow I know you cross the bridge that I can't follow  Since the love that you left is all that I get I want you to know that  If I can't be close to you I'll settle for the ghost of you I miss you more than life (more than life) And if you can't be next to me Your memory is ecstasy I miss you more than life I miss you more than life  \n",
       "<mark class=\"entity\" style=\"background: #feca74; padding: 0.45em 0.6em; margin: 0 0.25em; line-height: 1; border-radius: 0.35em;\">\n",
       "    Youngblood\n",
       "    <span style=\"font-size: 0.8em; font-weight: bold; line-height: 1; border-radius: 0.35em; vertical-align: middle; margin-left: 0.5rem\">GPE</span>\n",
       "</mark>\n",
       " thinks there's always \n",
       "<mark class=\"entity\" style=\"background: #bfe1d9; padding: 0.45em 0.6em; margin: 0 0.25em; line-height: 1; border-radius: 0.35em;\">\n",
       "    tomorrow\n",
       "    <span style=\"font-size: 0.8em; font-weight: bold; line-height: 1; border-radius: 0.35em; vertical-align: middle; margin-left: 0.5rem\">DATE</span>\n",
       "</mark>\n",
       " I need more time, but time can't be borrowed I'd leave it all behind if I could follow  Since the love that you left is all that I get I want you to know that  If I can't be close to you I'll settle for the ghost of you I miss you more than life (yeah) And if you can't be next to me Your memory is ecstasy (oh) I miss you more than life I miss you more than life  Oh-oh-oh, yeah More than life, oh  So If I can't get close to you I'll settle for the ghost of you I miss you more than life And if you can't be next to me Your memory is ecstasy I miss you more than life I miss you more than life I wanna take you somewhere so you know I care But it's so cold, and I don't know where I brought you daffodils in a pretty string But they won't flower like they did \n",
       "<mark class=\"entity\" style=\"background: #bfe1d9; padding: 0.45em 0.6em; margin: 0 0.25em; line-height: 1; border-radius: 0.35em;\">\n",
       "    last spring\n",
       "    <span style=\"font-size: 0.8em; font-weight: bold; line-height: 1; border-radius: 0.35em; vertical-align: middle; margin-left: 0.5rem\">DATE</span>\n",
       "</mark>\n",
       "  And I wanna kiss you, make you feel alright I'm just so tired to share my nights I wanna cry and I wanna love But all my tears have been used up  On another love, another love All my tears have been used up On another love, another love All my tears have been used up On another love, another love All my tears have been used up Oh, ooh  And if somebody hurts you, I wanna fight But my hands been broken, one too many times So I'll use my voice, I'll be so fucking rude Words, they always win, but I know I'll lose  And I'd sing a song, that'd be just ours But I sang 'em all to another heart And I wanna cry I wanna learn to love But all my tears have been used up  On another love, another love All my tears have been used up On another love, another love All my tears have been used up On another love, another love All my tears have been used up Oh, oh, oh  (Oh, need a love, now, my heart is thinking of) I wanna sing a song, that'd be just ours But I sang 'em all to another heart And I wanna cry, I wanna fall in love But all my tears have been used up  On another love, another love All my tears have been used up On another love, another love All my tears have been used up On another love, another love All my tears have been used up Oh, oh I ain't got too much time to spend But I'll make time for you to show how much I care Wish that I would let you break my walls But I'm still spinning out of control from the fall Boy, you give good love, I won't lie It's what keeps me coming back even though I'm terrified  I know that it's wrong But I want to have fun Mmh, yeah, mmh, yeah I know that it's wrong But I want to have fun Mmh, yeah, mmh, yeah  Oh my God, I can't believe it Out of all the people in the world What is the likelihood of jumping Out of my life and into yours? Maybe, baby, I'm just losing my mind 'Cause this is trouble, but it feels right Teetering on the edge of Heaven and Hell It's a battle I cannot fight  I'm a fool, but they all think I'm blind I'd rather be a fool than leave myself behind I don't have to explain myself to you I'm a grown woman and I do what I want to do  I know that it's wrong But I want to have fun Mmh, yeah, mmh, yeah I know that it's wrong But I want to have fun Mmh, yeah, mmh, yeah  Oh my God, I can't believe it Out of all the people in the world What is the likelihood of jumping Out of my life and into yours? Maybe, baby, I'm just losing my mind 'Cause this is trouble, but it feels right Teetering on the edge of Heaven and Hell It's a battle I cannot fight  &quot;Lord, don't let me&quot;, I say, &quot;Lord, don't let me&quot; I say, &quot;Lord, don't let me, let me down&quot; (oh Lord) &quot;Lord, don't let me&quot;, I say, &quot;Lord, don't let me&quot; I say, &quot;Lord, don't let me, let me down&quot; (don't let me let myself down) &quot;Lord, don't let me&quot;, I say, &quot;Lord, don't let me&quot; I say, &quot;Lord, don't let me, let me down&quot; (oh my God) &quot;Lord, don't let me&quot;, I say, &quot;Lord, don't let me&quot; I say, &quot;Lord, don't let me, let me down&quot; (oh, oh-oh-oh, oh-oh-oh)  Oh my God, I can't believe it Out of all the people in the world What is the likelihood of jumping Out of my life and into yours? Maybe, baby, I'm just losing my mind 'Cause this is trouble, but it feels right Teetering on the edge of Heaven and Hell It's a battle I cannot fight  &quot;Lord, don't let me&quot;, I say, &quot;Lord, don't let me&quot; I say, &quot;Lord, don't let me, let me down&quot; &quot;Lord, don't let me&quot;, I say, &quot;Lord, don't let me&quot; I say, &quot;Lord, don't let me, let me down&quot; &quot;Lord, don't let me&quot;, I say, &quot;Lord, don't let me&quot; I say, &quot;Lord, don't let me, let me down&quot; &quot;Lord, don't let me&quot;, I say, &quot;Lord, don't let me&quot; I say, &quot;Lord, don't let me, let me down&quot; I see you calling I didn't wanna leave you like that It's \n",
       "<mark class=\"entity\" style=\"background: #bfe1d9; padding: 0.45em 0.6em; margin: 0 0.25em; line-height: 1; border-radius: 0.35em;\">\n",
       "    five in the morning\n",
       "    <span style=\"font-size: 0.8em; font-weight: bold; line-height: 1; border-radius: 0.35em; vertical-align: middle; margin-left: 0.5rem\">TIME</span>\n",
       "</mark>\n",
       ", yeah, yeah \n",
       "<mark class=\"entity\" style=\"background: #e4e7d2; padding: 0.45em 0.6em; margin: 0 0.25em; line-height: 1; border-radius: 0.35em;\">\n",
       "    A hundred\n",
       "    <span style=\"font-size: 0.8em; font-weight: bold; line-height: 1; border-radius: 0.35em; vertical-align: middle; margin-left: 0.5rem\">CARDINAL</span>\n",
       "</mark>\n",
       " on the dash  'Cause my wheels are rolling \n",
       "<mark class=\"entity\" style=\"background: #bfeeb7; padding: 0.45em 0.6em; margin: 0 0.25em; line-height: 1; border-radius: 0.35em;\">\n",
       "    Ai\n",
       "    <span style=\"font-size: 0.8em; font-weight: bold; line-height: 1; border-radius: 0.35em; vertical-align: middle; margin-left: 0.5rem\">PRODUCT</span>\n",
       "</mark>\n",
       "n't taking my foot off the gas And it only took the \n",
       "<mark class=\"entity\" style=\"background: #bfe1d9; padding: 0.45em 0.6em; margin: 0 0.25em; line-height: 1; border-radius: 0.35em;\">\n",
       "    one night\n",
       "    <span style=\"font-size: 0.8em; font-weight: bold; line-height: 1; border-radius: 0.35em; vertical-align: middle; margin-left: 0.5rem\">TIME</span>\n",
       "</mark>\n",
       " To see the end of the line Staring deep in your eyes, eyes  Dancing on the edge, 'bout to take it too far It's messing with my head, how I mess with your heart If you wake up in your bed, alone in the dark I'm sorry, gotta leave before you love me  Ay, ay, leave before you love me Ay, ay, leave before you love me Ay, ay, leave before you love me Ay, ay, leave before you love me  I'm so good at knowing Of when to leave the party behind Don't care if they notice, yeah, yeah, no I'll just catch a ride  I'd rather be lonely, yeah Than wrapped around your body too tight Yeah, I'm the type to get naked Won't give my heart up for breaking 'Cause I'm too gone to be stayin', staying' (dancing on)  Dancing on the edge, 'bout to take it too far It's messing with my head, how I mess with your heart If you wake up in your bed, alone in the dark I'm sorry, gotta leave before you love me  Ay, ay, leave before you love me Ay, ay, leave before you love me Ay, ay, leave before you love me Ay, ay, leave before you love me  Dancing on the edge, take it too far Messing with my head, how I mess with your heart I'm sorry, alone in the dark I'm sorry Ay, ay, leave before you love me We hug and, yes, we make love And always just say, &quot;\n",
       "<mark class=\"entity\" style=\"background: #f0d0ff; padding: 0.45em 0.6em; margin: 0 0.25em; line-height: 1; border-radius: 0.35em;\">\n",
       "    Goodnight\n",
       "    <span style=\"font-size: 0.8em; font-weight: bold; line-height: 1; border-radius: 0.35em; vertical-align: middle; margin-left: 0.5rem\">WORK_OF_ART</span>\n",
       "</mark>\n",
       "&quot; (la-la-la, la-la-la) And we cuddle, sure, I do love it But I need your lips on mine  (Can you kiss me more?) We're so young, boy, we ain't got nothing to lose, uh-oh (It's just principle) Baby, hold me 'cause I like the way you move, uh-oh  Boy, you write your name, I can do the same Oh, I love the taste, la-la-la, la-la All on my tongue, I want it (la-la-la, la-la) Boy, you write your name, I can do the same Oh, I love the taste, la-la-la, la-la All on my tongue, I want it (la-la-la, la-la)  I, I feel like fucking something But we can be corny, fuck it \n",
       "<mark class=\"entity\" style=\"background: #feca74; padding: 0.45em 0.6em; margin: 0 0.25em; line-height: 1; border-radius: 0.35em;\">\n",
       "    Sugar\n",
       "    <span style=\"font-size: 0.8em; font-weight: bold; line-height: 1; border-radius: 0.35em; vertical-align: middle; margin-left: 0.5rem\">GPE</span>\n",
       "</mark>\n",
       ", I ain't no dummy-dummy I like to say, &quot;What if?&quot; But if we could kiss and just cut the rubbish Then I might be on to something I ain't giving you one in public I'm giving you \n",
       "<mark class=\"entity\" style=\"background: #e4e7d2; padding: 0.45em 0.6em; margin: 0 0.25em; line-height: 1; border-radius: 0.35em;\">\n",
       "    hundreds\n",
       "    <span style=\"font-size: 0.8em; font-weight: bold; line-height: 1; border-radius: 0.35em; vertical-align: middle; margin-left: 0.5rem\">CARDINAL</span>\n",
       "</mark>\n",
       ", fuck it  Something we just gotta get into Sign \n",
       "<mark class=\"entity\" style=\"background: #e4e7d2; padding: 0.45em 0.6em; margin: 0 0.25em; line-height: 1; border-radius: 0.35em;\">\n",
       "    first\n",
       "    <span style=\"font-size: 0.8em; font-weight: bold; line-height: 1; border-radius: 0.35em; vertical-align: middle; margin-left: 0.5rem\">ORDINAL</span>\n",
       "</mark>\n",
       ", middle, last, on the wisdom tooth \n",
       "<mark class=\"entity\" style=\"background: #feca74; padding: 0.45em 0.6em; margin: 0 0.25em; line-height: 1; border-radius: 0.35em;\">\n",
       "    Niggas\n",
       "    <span style=\"font-size: 0.8em; font-weight: bold; line-height: 1; border-radius: 0.35em; vertical-align: middle; margin-left: 0.5rem\">GPE</span>\n",
       "</mark>\n",
       " wishing that the pussy was a kissing booth \n",
       "<mark class=\"entity\" style=\"background: #feca74; padding: 0.45em 0.6em; margin: 0 0.25em; line-height: 1; border-radius: 0.35em;\">\n",
       "    Taste\n",
       "    <span style=\"font-size: 0.8em; font-weight: bold; line-height: 1; border-radius: 0.35em; vertical-align: middle; margin-left: 0.5rem\">GPE</span>\n",
       "</mark>\n",
       " breakfast, lunch, and gin, and juice And that dinner just like dessert too And when we \n",
       "<mark class=\"entity\" style=\"background: #ff8197; padding: 0.45em 0.6em; margin: 0 0.25em; line-height: 1; border-radius: 0.35em;\">\n",
       "    French\n",
       "    <span style=\"font-size: 0.8em; font-weight: bold; line-height: 1; border-radius: 0.35em; vertical-align: middle; margin-left: 0.5rem\">LANGUAGE</span>\n",
       "</mark>\n",
       ", refresh, gimme \n",
       "<mark class=\"entity\" style=\"background: #e4e7d2; padding: 0.45em 0.6em; margin: 0 0.25em; line-height: 1; border-radius: 0.35em;\">\n",
       "    two\n",
       "    <span style=\"font-size: 0.8em; font-weight: bold; line-height: 1; border-radius: 0.35em; vertical-align: middle; margin-left: 0.5rem\">CARDINAL</span>\n",
       "</mark>\n",
       " When I bite that lip, come get me too He want lipstick, lip-gloss, hickeys too, huh  (Can you kiss me more?) We're so young, boy, we ain't got nothing to lose, uh-oh (It's just principle) Baby, hold me 'cause I like the way you move, uh-oh  Boy, you write your name, I can do the same Oh, I love the taste, la-la-la, la-la All on my tongue, I want it (la-la-la, la-la) Boy, you write your name, I can do the same Oh, I love the taste, la-la-la, la-la All on my tongue, I want it  Say, give me a buck, need that gushy stuff \n",
       "<mark class=\"entity\" style=\"background: #aa9cfc; padding: 0.45em 0.6em; margin: 0 0.25em; line-height: 1; border-radius: 0.35em;\">\n",
       "    Push\n",
       "    <span style=\"font-size: 0.8em; font-weight: bold; line-height: 1; border-radius: 0.35em; vertical-align: middle; margin-left: 0.5rem\">PERSON</span>\n",
       "</mark>\n",
       " your limit, no, you ain't good enough All your niggas say that you lost without me All my bitches feel like I dodged the county Fucking with you feel like jail, nigga I can't even exhale, nigga \n",
       "<mark class=\"entity\" style=\"background: #aa9cfc; padding: 0.45em 0.6em; margin: 0 0.25em; line-height: 1; border-radius: 0.35em;\">\n",
       "    Pussy\n",
       "    <span style=\"font-size: 0.8em; font-weight: bold; line-height: 1; border-radius: 0.35em; vertical-align: middle; margin-left: 0.5rem\">PERSON</span>\n",
       "</mark>\n",
       " like holy grail, you know that You gon' make me need bail, you know that Caught dipping with your friend You ain't even \n",
       "<mark class=\"entity\" style=\"background: #e4e7d2; padding: 0.45em 0.6em; margin: 0 0.25em; line-height: 1; border-radius: 0.35em;\">\n",
       "    half\n",
       "    <span style=\"font-size: 0.8em; font-weight: bold; line-height: 1; border-radius: 0.35em; vertical-align: middle; margin-left: 0.5rem\">CARDINAL</span>\n",
       "</mark>\n",
       " man, lying on your-, you know that Got me a bag full of brick, you know that Control, don't slow the pace if I throw back All this ass for real (all this ass) Drama make you feel (make you feel) \n",
       "<mark class=\"entity\" style=\"background: #feca74; padding: 0.45em 0.6em; margin: 0 0.25em; line-height: 1; border-radius: 0.35em;\">\n",
       "    Fantasy\n",
       "    <span style=\"font-size: 0.8em; font-weight: bold; line-height: 1; border-radius: 0.35em; vertical-align: middle; margin-left: 0.5rem\">GPE</span>\n",
       "</mark>\n",
       " and whip appeal is all I can give you  (Can you kiss me more?) We're so young, boy, we ain't got nothing to lose, uh-oh (It's just principle) Baby, hold me 'cause I like the way you groove, uh-oh Oh, darling  Boy, you write your name, I can do the same Ooh, I love the taste, oh-la-la-la-la-la All on my tongue, I want it Boy, you write your name, I can do the same Ooh, I love the taste, oh-la-la-la-la-la All on my tongue, I want it You keep me wide awake \n",
       "<mark class=\"entity\" style=\"background: #bfe1d9; padding: 0.45em 0.6em; margin: 0 0.25em; line-height: 1; border-radius: 0.35em;\">\n",
       "    every day\n",
       "    <span style=\"font-size: 0.8em; font-weight: bold; line-height: 1; border-radius: 0.35em; vertical-align: middle; margin-left: 0.5rem\">DATE</span>\n",
       "</mark>\n",
       ", \n",
       "<mark class=\"entity\" style=\"background: #bfe1d9; padding: 0.45em 0.6em; margin: 0 0.25em; line-height: 1; border-radius: 0.35em;\">\n",
       "    every weekend\n",
       "    <span style=\"font-size: 0.8em; font-weight: bold; line-height: 1; border-radius: 0.35em; vertical-align: middle; margin-left: 0.5rem\">DATE</span>\n",
       "</mark>\n",
       " (Day, \n",
       "<mark class=\"entity\" style=\"background: #bfe1d9; padding: 0.45em 0.6em; margin: 0 0.25em; line-height: 1; border-radius: 0.35em;\">\n",
       "    every weekend\n",
       "    <span style=\"font-size: 0.8em; font-weight: bold; line-height: 1; border-radius: 0.35em; vertical-align: middle; margin-left: 0.5rem\">DATE</span>\n",
       "</mark>\n",
       ", \n",
       "<mark class=\"entity\" style=\"background: #bfe1d9; padding: 0.45em 0.6em; margin: 0 0.25em; line-height: 1; border-radius: 0.35em;\">\n",
       "    day\n",
       "    <span style=\"font-size: 0.8em; font-weight: bold; line-height: 1; border-radius: 0.35em; vertical-align: middle; margin-left: 0.5rem\">DATE</span>\n",
       "</mark>\n",
       ", \n",
       "<mark class=\"entity\" style=\"background: #bfe1d9; padding: 0.45em 0.6em; margin: 0 0.25em; line-height: 1; border-radius: 0.35em;\">\n",
       "    every weekend\n",
       "    <span style=\"font-size: 0.8em; font-weight: bold; line-height: 1; border-radius: 0.35em; vertical-align: middle; margin-left: 0.5rem\">DATE</span>\n",
       "</mark>\n",
       ") You keep me wide awake \n",
       "<mark class=\"entity\" style=\"background: #bfe1d9; padding: 0.45em 0.6em; margin: 0 0.25em; line-height: 1; border-radius: 0.35em;\">\n",
       "    every day\n",
       "    <span style=\"font-size: 0.8em; font-weight: bold; line-height: 1; border-radius: 0.35em; vertical-align: middle; margin-left: 0.5rem\">DATE</span>\n",
       "</mark>\n",
       ", every weekend  (Day, \n",
       "<mark class=\"entity\" style=\"background: #bfe1d9; padding: 0.45em 0.6em; margin: 0 0.25em; line-height: 1; border-radius: 0.35em;\">\n",
       "    every weekend\n",
       "    <span style=\"font-size: 0.8em; font-weight: bold; line-height: 1; border-radius: 0.35em; vertical-align: middle; margin-left: 0.5rem\">DATE</span>\n",
       "</mark>\n",
       ", \n",
       "<mark class=\"entity\" style=\"background: #bfe1d9; padding: 0.45em 0.6em; margin: 0 0.25em; line-height: 1; border-radius: 0.35em;\">\n",
       "    day\n",
       "    <span style=\"font-size: 0.8em; font-weight: bold; line-height: 1; border-radius: 0.35em; vertical-align: middle; margin-left: 0.5rem\">DATE</span>\n",
       "</mark>\n",
       ", \n",
       "<mark class=\"entity\" style=\"background: #bfe1d9; padding: 0.45em 0.6em; margin: 0 0.25em; line-height: 1; border-radius: 0.35em;\">\n",
       "    every weekend\n",
       "    <span style=\"font-size: 0.8em; font-weight: bold; line-height: 1; border-radius: 0.35em; vertical-align: middle; margin-left: 0.5rem\">DATE</span>\n",
       "</mark>\n",
       ") You keep me wide awake \n",
       "<mark class=\"entity\" style=\"background: #bfe1d9; padding: 0.45em 0.6em; margin: 0 0.25em; line-height: 1; border-radius: 0.35em;\">\n",
       "    every day\n",
       "    <span style=\"font-size: 0.8em; font-weight: bold; line-height: 1; border-radius: 0.35em; vertical-align: middle; margin-left: 0.5rem\">DATE</span>\n",
       "</mark>\n",
       ", every weekend Day, \n",
       "<mark class=\"entity\" style=\"background: #bfe1d9; padding: 0.45em 0.6em; margin: 0 0.25em; line-height: 1; border-radius: 0.35em;\">\n",
       "    every weekend\n",
       "    <span style=\"font-size: 0.8em; font-weight: bold; line-height: 1; border-radius: 0.35em; vertical-align: middle; margin-left: 0.5rem\">DATE</span>\n",
       "</mark>\n",
       ", \n",
       "<mark class=\"entity\" style=\"background: #bfe1d9; padding: 0.45em 0.6em; margin: 0 0.25em; line-height: 1; border-radius: 0.35em;\">\n",
       "    day\n",
       "    <span style=\"font-size: 0.8em; font-weight: bold; line-height: 1; border-radius: 0.35em; vertical-align: middle; margin-left: 0.5rem\">DATE</span>\n",
       "</mark>\n",
       ", every weekend You keep me wide awake \n",
       "<mark class=\"entity\" style=\"background: #bfe1d9; padding: 0.45em 0.6em; margin: 0 0.25em; line-height: 1; border-radius: 0.35em;\">\n",
       "    every day\n",
       "    <span style=\"font-size: 0.8em; font-weight: bold; line-height: 1; border-radius: 0.35em; vertical-align: middle; margin-left: 0.5rem\">DATE</span>\n",
       "</mark>\n",
       ", every weekend Day, \n",
       "<mark class=\"entity\" style=\"background: #bfe1d9; padding: 0.45em 0.6em; margin: 0 0.25em; line-height: 1; border-radius: 0.35em;\">\n",
       "    every weekend\n",
       "    <span style=\"font-size: 0.8em; font-weight: bold; line-height: 1; border-radius: 0.35em; vertical-align: middle; margin-left: 0.5rem\">DATE</span>\n",
       "</mark>\n",
       ", \n",
       "<mark class=\"entity\" style=\"background: #bfe1d9; padding: 0.45em 0.6em; margin: 0 0.25em; line-height: 1; border-radius: 0.35em;\">\n",
       "    day\n",
       "    <span style=\"font-size: 0.8em; font-weight: bold; line-height: 1; border-radius: 0.35em; vertical-align: middle; margin-left: 0.5rem\">DATE</span>\n",
       "</mark>\n",
       ", every weekend  You've been around for a year like you just don't care I want your love but your love's not in the air I wanna believe I can leave but it makes me scared Yeah, you've been around for a year like you just don't care  Every time I'm prayin', prayin', I got you on my mind No matter what I'm sayin', sayin', you come back in my life You just wanna break it, break it, you're sending me to paradise No way I can't escape it, escape it, I'll never win the fight  You keep me wide awake \n",
       "<mark class=\"entity\" style=\"background: #bfe1d9; padding: 0.45em 0.6em; margin: 0 0.25em; line-height: 1; border-radius: 0.35em;\">\n",
       "    every day\n",
       "    <span style=\"font-size: 0.8em; font-weight: bold; line-height: 1; border-radius: 0.35em; vertical-align: middle; margin-left: 0.5rem\">DATE</span>\n",
       "</mark>\n",
       ", \n",
       "<mark class=\"entity\" style=\"background: #bfe1d9; padding: 0.45em 0.6em; margin: 0 0.25em; line-height: 1; border-radius: 0.35em;\">\n",
       "    every weekend\n",
       "    <span style=\"font-size: 0.8em; font-weight: bold; line-height: 1; border-radius: 0.35em; vertical-align: middle; margin-left: 0.5rem\">DATE</span>\n",
       "</mark>\n",
       " (Day, \n",
       "<mark class=\"entity\" style=\"background: #bfe1d9; padding: 0.45em 0.6em; margin: 0 0.25em; line-height: 1; border-radius: 0.35em;\">\n",
       "    every weekend\n",
       "    <span style=\"font-size: 0.8em; font-weight: bold; line-height: 1; border-radius: 0.35em; vertical-align: middle; margin-left: 0.5rem\">DATE</span>\n",
       "</mark>\n",
       ", \n",
       "<mark class=\"entity\" style=\"background: #bfe1d9; padding: 0.45em 0.6em; margin: 0 0.25em; line-height: 1; border-radius: 0.35em;\">\n",
       "    day\n",
       "    <span style=\"font-size: 0.8em; font-weight: bold; line-height: 1; border-radius: 0.35em; vertical-align: middle; margin-left: 0.5rem\">DATE</span>\n",
       "</mark>\n",
       ", \n",
       "<mark class=\"entity\" style=\"background: #bfe1d9; padding: 0.45em 0.6em; margin: 0 0.25em; line-height: 1; border-radius: 0.35em;\">\n",
       "    every weekend\n",
       "    <span style=\"font-size: 0.8em; font-weight: bold; line-height: 1; border-radius: 0.35em; vertical-align: middle; margin-left: 0.5rem\">DATE</span>\n",
       "</mark>\n",
       ") You keep me wide awake \n",
       "<mark class=\"entity\" style=\"background: #bfe1d9; padding: 0.45em 0.6em; margin: 0 0.25em; line-height: 1; border-radius: 0.35em;\">\n",
       "    every day\n",
       "    <span style=\"font-size: 0.8em; font-weight: bold; line-height: 1; border-radius: 0.35em; vertical-align: middle; margin-left: 0.5rem\">DATE</span>\n",
       "</mark>\n",
       ", \n",
       "<mark class=\"entity\" style=\"background: #bfe1d9; padding: 0.45em 0.6em; margin: 0 0.25em; line-height: 1; border-radius: 0.35em;\">\n",
       "    every weekend\n",
       "    <span style=\"font-size: 0.8em; font-weight: bold; line-height: 1; border-radius: 0.35em; vertical-align: middle; margin-left: 0.5rem\">DATE</span>\n",
       "</mark>\n",
       " (Day, \n",
       "<mark class=\"entity\" style=\"background: #bfe1d9; padding: 0.45em 0.6em; margin: 0 0.25em; line-height: 1; border-radius: 0.35em;\">\n",
       "    every weekend\n",
       "    <span style=\"font-size: 0.8em; font-weight: bold; line-height: 1; border-radius: 0.35em; vertical-align: middle; margin-left: 0.5rem\">DATE</span>\n",
       "</mark>\n",
       ", \n",
       "<mark class=\"entity\" style=\"background: #bfe1d9; padding: 0.45em 0.6em; margin: 0 0.25em; line-height: 1; border-radius: 0.35em;\">\n",
       "    day\n",
       "    <span style=\"font-size: 0.8em; font-weight: bold; line-height: 1; border-radius: 0.35em; vertical-align: middle; margin-left: 0.5rem\">DATE</span>\n",
       "</mark>\n",
       ", \n",
       "<mark class=\"entity\" style=\"background: #bfe1d9; padding: 0.45em 0.6em; margin: 0 0.25em; line-height: 1; border-radius: 0.35em;\">\n",
       "    every weekend\n",
       "    <span style=\"font-size: 0.8em; font-weight: bold; line-height: 1; border-radius: 0.35em; vertical-align: middle; margin-left: 0.5rem\">DATE</span>\n",
       "</mark>\n",
       ") You keep me wide awake \n",
       "<mark class=\"entity\" style=\"background: #bfe1d9; padding: 0.45em 0.6em; margin: 0 0.25em; line-height: 1; border-radius: 0.35em;\">\n",
       "    every day\n",
       "    <span style=\"font-size: 0.8em; font-weight: bold; line-height: 1; border-radius: 0.35em; vertical-align: middle; margin-left: 0.5rem\">DATE</span>\n",
       "</mark>\n",
       ", every weekend Day, \n",
       "<mark class=\"entity\" style=\"background: #bfe1d9; padding: 0.45em 0.6em; margin: 0 0.25em; line-height: 1; border-radius: 0.35em;\">\n",
       "    every weekend\n",
       "    <span style=\"font-size: 0.8em; font-weight: bold; line-height: 1; border-radius: 0.35em; vertical-align: middle; margin-left: 0.5rem\">DATE</span>\n",
       "</mark>\n",
       ", \n",
       "<mark class=\"entity\" style=\"background: #bfe1d9; padding: 0.45em 0.6em; margin: 0 0.25em; line-height: 1; border-radius: 0.35em;\">\n",
       "    day\n",
       "    <span style=\"font-size: 0.8em; font-weight: bold; line-height: 1; border-radius: 0.35em; vertical-align: middle; margin-left: 0.5rem\">DATE</span>\n",
       "</mark>\n",
       ", every weekend You keep me wide awake \n",
       "<mark class=\"entity\" style=\"background: #bfe1d9; padding: 0.45em 0.6em; margin: 0 0.25em; line-height: 1; border-radius: 0.35em;\">\n",
       "    every day\n",
       "    <span style=\"font-size: 0.8em; font-weight: bold; line-height: 1; border-radius: 0.35em; vertical-align: middle; margin-left: 0.5rem\">DATE</span>\n",
       "</mark>\n",
       ", every weekend Day, \n",
       "<mark class=\"entity\" style=\"background: #bfe1d9; padding: 0.45em 0.6em; margin: 0 0.25em; line-height: 1; border-radius: 0.35em;\">\n",
       "    every weekend\n",
       "    <span style=\"font-size: 0.8em; font-weight: bold; line-height: 1; border-radius: 0.35em; vertical-align: middle; margin-left: 0.5rem\">DATE</span>\n",
       "</mark>\n",
       ", \n",
       "<mark class=\"entity\" style=\"background: #bfe1d9; padding: 0.45em 0.6em; margin: 0 0.25em; line-height: 1; border-radius: 0.35em;\">\n",
       "    day\n",
       "    <span style=\"font-size: 0.8em; font-weight: bold; line-height: 1; border-radius: 0.35em; vertical-align: middle; margin-left: 0.5rem\">DATE</span>\n",
       "</mark>\n",
       ", every weekend  Keep you wide awake \n",
       "<mark class=\"entity\" style=\"background: #bfe1d9; padding: 0.45em 0.6em; margin: 0 0.25em; line-height: 1; border-radius: 0.35em;\">\n",
       "    every day\n",
       "    <span style=\"font-size: 0.8em; font-weight: bold; line-height: 1; border-radius: 0.35em; vertical-align: middle; margin-left: 0.5rem\">DATE</span>\n",
       "</mark>\n",
       ", every weekend Day, \n",
       "<mark class=\"entity\" style=\"background: #bfe1d9; padding: 0.45em 0.6em; margin: 0 0.25em; line-height: 1; border-radius: 0.35em;\">\n",
       "    every weekend\n",
       "    <span style=\"font-size: 0.8em; font-weight: bold; line-height: 1; border-radius: 0.35em; vertical-align: middle; margin-left: 0.5rem\">DATE</span>\n",
       "</mark>\n",
       ", \n",
       "<mark class=\"entity\" style=\"background: #bfe1d9; padding: 0.45em 0.6em; margin: 0 0.25em; line-height: 1; border-radius: 0.35em;\">\n",
       "    day\n",
       "    <span style=\"font-size: 0.8em; font-weight: bold; line-height: 1; border-radius: 0.35em; vertical-align: middle; margin-left: 0.5rem\">DATE</span>\n",
       "</mark>\n",
       ", every weekend Deep inside your head, I can feel how you weakened Feel how you weakened, feel how you weakened Feel you might be the flame that surround your iron I'll be the water that cool you down Be the balance of ice and fire \n",
       "<mark class=\"entity\" style=\"background: #bfeeb7; padding: 0.45em 0.6em; margin: 0 0.25em; line-height: 1; border-radius: 0.35em;\">\n",
       "    Deep\n",
       "    <span style=\"font-size: 0.8em; font-weight: bold; line-height: 1; border-radius: 0.35em; vertical-align: middle; margin-left: 0.5rem\">PRODUCT</span>\n",
       "</mark>\n",
       " in the underground  Every day, \n",
       "<mark class=\"entity\" style=\"background: #bfe1d9; padding: 0.45em 0.6em; margin: 0 0.25em; line-height: 1; border-radius: 0.35em;\">\n",
       "    every week\n",
       "    <span style=\"font-size: 0.8em; font-weight: bold; line-height: 1; border-radius: 0.35em; vertical-align: middle; margin-left: 0.5rem\">DATE</span>\n",
       "</mark>\n",
       ", \n",
       "<mark class=\"entity\" style=\"background: #bfe1d9; padding: 0.45em 0.6em; margin: 0 0.25em; line-height: 1; border-radius: 0.35em;\">\n",
       "    every bleeding hour\n",
       "    <span style=\"font-size: 0.8em; font-weight: bold; line-height: 1; border-radius: 0.35em; vertical-align: middle; margin-left: 0.5rem\">TIME</span>\n",
       "</mark>\n",
       " You been starting to lose control I will leave you to your desire But I won't let you sing along  (You keep me wide awake) \n",
       "<mark class=\"entity\" style=\"background: #bfe1d9; padding: 0.45em 0.6em; margin: 0 0.25em; line-height: 1; border-radius: 0.35em;\">\n",
       "    every day of the weekend\n",
       "    <span style=\"font-size: 0.8em; font-weight: bold; line-height: 1; border-radius: 0.35em; vertical-align: middle; margin-left: 0.5rem\">DATE</span>\n",
       "</mark>\n",
       " (You keep me wide awake) \n",
       "<mark class=\"entity\" style=\"background: #bfe1d9; padding: 0.45em 0.6em; margin: 0 0.25em; line-height: 1; border-radius: 0.35em;\">\n",
       "    every day of the weekend\n",
       "    <span style=\"font-size: 0.8em; font-weight: bold; line-height: 1; border-radius: 0.35em; vertical-align: middle; margin-left: 0.5rem\">DATE</span>\n",
       "</mark>\n",
       " (You keep me wide awake) \n",
       "<mark class=\"entity\" style=\"background: #bfe1d9; padding: 0.45em 0.6em; margin: 0 0.25em; line-height: 1; border-radius: 0.35em;\">\n",
       "    every day\n",
       "    <span style=\"font-size: 0.8em; font-weight: bold; line-height: 1; border-radius: 0.35em; vertical-align: middle; margin-left: 0.5rem\">DATE</span>\n",
       "</mark>\n",
       ", every weekend \n",
       "<mark class=\"entity\" style=\"background: #bfe1d9; padding: 0.45em 0.6em; margin: 0 0.25em; line-height: 1; border-radius: 0.35em;\">\n",
       "    Every day\n",
       "    <span style=\"font-size: 0.8em; font-weight: bold; line-height: 1; border-radius: 0.35em; vertical-align: middle; margin-left: 0.5rem\">DATE</span>\n",
       "</mark>\n",
       ", every weekend  You keep me wide awake \n",
       "<mark class=\"entity\" style=\"background: #bfe1d9; padding: 0.45em 0.6em; margin: 0 0.25em; line-height: 1; border-radius: 0.35em;\">\n",
       "    every day\n",
       "    <span style=\"font-size: 0.8em; font-weight: bold; line-height: 1; border-radius: 0.35em; vertical-align: middle; margin-left: 0.5rem\">DATE</span>\n",
       "</mark>\n",
       ", \n",
       "<mark class=\"entity\" style=\"background: #bfe1d9; padding: 0.45em 0.6em; margin: 0 0.25em; line-height: 1; border-radius: 0.35em;\">\n",
       "    every weekend\n",
       "    <span style=\"font-size: 0.8em; font-weight: bold; line-height: 1; border-radius: 0.35em; vertical-align: middle; margin-left: 0.5rem\">DATE</span>\n",
       "</mark>\n",
       " (Day, \n",
       "<mark class=\"entity\" style=\"background: #bfe1d9; padding: 0.45em 0.6em; margin: 0 0.25em; line-height: 1; border-radius: 0.35em;\">\n",
       "    every weekend\n",
       "    <span style=\"font-size: 0.8em; font-weight: bold; line-height: 1; border-radius: 0.35em; vertical-align: middle; margin-left: 0.5rem\">DATE</span>\n",
       "</mark>\n",
       ", \n",
       "<mark class=\"entity\" style=\"background: #bfe1d9; padding: 0.45em 0.6em; margin: 0 0.25em; line-height: 1; border-radius: 0.35em;\">\n",
       "    day\n",
       "    <span style=\"font-size: 0.8em; font-weight: bold; line-height: 1; border-radius: 0.35em; vertical-align: middle; margin-left: 0.5rem\">DATE</span>\n",
       "</mark>\n",
       ", \n",
       "<mark class=\"entity\" style=\"background: #bfe1d9; padding: 0.45em 0.6em; margin: 0 0.25em; line-height: 1; border-radius: 0.35em;\">\n",
       "    every weekend\n",
       "    <span style=\"font-size: 0.8em; font-weight: bold; line-height: 1; border-radius: 0.35em; vertical-align: middle; margin-left: 0.5rem\">DATE</span>\n",
       "</mark>\n",
       ") You keep me wide awake \n",
       "<mark class=\"entity\" style=\"background: #bfe1d9; padding: 0.45em 0.6em; margin: 0 0.25em; line-height: 1; border-radius: 0.35em;\">\n",
       "    every day\n",
       "    <span style=\"font-size: 0.8em; font-weight: bold; line-height: 1; border-radius: 0.35em; vertical-align: middle; margin-left: 0.5rem\">DATE</span>\n",
       "</mark>\n",
       ", \n",
       "<mark class=\"entity\" style=\"background: #bfe1d9; padding: 0.45em 0.6em; margin: 0 0.25em; line-height: 1; border-radius: 0.35em;\">\n",
       "    every weekend\n",
       "    <span style=\"font-size: 0.8em; font-weight: bold; line-height: 1; border-radius: 0.35em; vertical-align: middle; margin-left: 0.5rem\">DATE</span>\n",
       "</mark>\n",
       " (Day, \n",
       "<mark class=\"entity\" style=\"background: #bfe1d9; padding: 0.45em 0.6em; margin: 0 0.25em; line-height: 1; border-radius: 0.35em;\">\n",
       "    every weekend\n",
       "    <span style=\"font-size: 0.8em; font-weight: bold; line-height: 1; border-radius: 0.35em; vertical-align: middle; margin-left: 0.5rem\">DATE</span>\n",
       "</mark>\n",
       ", \n",
       "<mark class=\"entity\" style=\"background: #bfe1d9; padding: 0.45em 0.6em; margin: 0 0.25em; line-height: 1; border-radius: 0.35em;\">\n",
       "    day\n",
       "    <span style=\"font-size: 0.8em; font-weight: bold; line-height: 1; border-radius: 0.35em; vertical-align: middle; margin-left: 0.5rem\">DATE</span>\n",
       "</mark>\n",
       ", \n",
       "<mark class=\"entity\" style=\"background: #bfe1d9; padding: 0.45em 0.6em; margin: 0 0.25em; line-height: 1; border-radius: 0.35em;\">\n",
       "    every weekend\n",
       "    <span style=\"font-size: 0.8em; font-weight: bold; line-height: 1; border-radius: 0.35em; vertical-align: middle; margin-left: 0.5rem\">DATE</span>\n",
       "</mark>\n",
       ")  Every day of the weekend I got you on my mind \n",
       "<mark class=\"entity\" style=\"background: #bfe1d9; padding: 0.45em 0.6em; margin: 0 0.25em; line-height: 1; border-radius: 0.35em;\">\n",
       "    Every day of the weekend\n",
       "    <span style=\"font-size: 0.8em; font-weight: bold; line-height: 1; border-radius: 0.35em; vertical-align: middle; margin-left: 0.5rem\">DATE</span>\n",
       "</mark>\n",
       " I got you on my mind (Prayin', prayin')  (Sayin', sayin') I got a man but I want you I got a man but I want you And it's just nerves, it's just dick Makin' me think 'bout someone new You know, I got so much to say I try to hide it in my face And it don't work, you see through That I just wanna get with you  And you're right You right, I Got my guy But I, I Can't help it, I want you \n",
       "<mark class=\"entity\" style=\"background: #aa9cfc; padding: 0.45em 0.6em; margin: 0 0.25em; line-height: 1; border-radius: 0.35em;\">\n",
       "    Said\n",
       "    <span style=\"font-size: 0.8em; font-weight: bold; line-height: 1; border-radius: 0.35em; vertical-align: middle; margin-left: 0.5rem\">PERSON</span>\n",
       "</mark>\n",
       ", you right, I Got my guy But I, I Can't help it, I want you  I can't stop and look the other way 'Cause I know what could be, babe And you'd never feel the same You'd be thinkin' 'bout it every day Don't believe in fairy tales But we got our fantasies  And it's me and you, no she Tryna be all through your sheets Have you all on top of me \n",
       "<mark class=\"entity\" style=\"background: #aa9cfc; padding: 0.45em 0.6em; margin: 0 0.25em; line-height: 1; border-radius: 0.35em;\">\n",
       "    Actin\n",
       "    <span style=\"font-size: 0.8em; font-weight: bold; line-height: 1; border-radius: 0.35em; vertical-align: middle; margin-left: 0.5rem\">PERSON</span>\n",
       "</mark>\n",
       "' like it's not that deep Boy, you can take it off of me Tell me what it's 'bout to be Really feel it's bound to be I can't tell no one but they all know  I got a man but I want you I got a man but I want you And it's just nerves, it's just dick Makin' me think 'bout someone new You know, I got so much to say I try to hide it in my face And it don't work, you see through That I just wanna get with you  And you're right You right, I Got my guy But I, I Can't help it, I want you \n",
       "<mark class=\"entity\" style=\"background: #aa9cfc; padding: 0.45em 0.6em; margin: 0 0.25em; line-height: 1; border-radius: 0.35em;\">\n",
       "    Said\n",
       "    <span style=\"font-size: 0.8em; font-weight: bold; line-height: 1; border-radius: 0.35em; vertical-align: middle; margin-left: 0.5rem\">PERSON</span>\n",
       "</mark>\n",
       ", you right, I Got my guy But I, I Can't help it, I want you  Girl, I want you like you want me to I feel that energy (oh, yeah) When you're on top of me (oh, yeah) I know your man, he ain't controllin' you But you still hesitate 'Cause you choose loyalty (oh, yeah)  And I know your history (hey) Met him before your peak (hey) He's so connected to that woman that you used to be But-but-but this sex will cloud your memory A couple strokes, I'll put it in, then you'll belong to me  I got a man but I want you I got a man but I want you And it's just nerves, it's just dick Makin' me think 'bout someone new You know, I got so much to say I try to hide it in my face And it don't work, you see through That I just wanna get with you  And you're right You right, I (right) Got my guy (I got my-) But I, I (but I) Can't help it, I want you \n",
       "<mark class=\"entity\" style=\"background: #aa9cfc; padding: 0.45em 0.6em; margin: 0 0.25em; line-height: 1; border-radius: 0.35em;\">\n",
       "    Said\n",
       "    <span style=\"font-size: 0.8em; font-weight: bold; line-height: 1; border-radius: 0.35em; vertical-align: middle; margin-left: 0.5rem\">PERSON</span>\n",
       "</mark>\n",
       ", you right, I (yeah) Got my guy (yeah) But I, I (yeah) Can't help it, I want you I was the knight in shining armor in your movie Would put your lips on mine and love the aftertaste Now I'm a ghost, I call your name, you look right trough me You're the reason I'm alone and masturbate  I (I, I) I've been trying to fix my pride But that shit's broken, that shit's broken Lie (lie, lie) Lie, lie, lie, I try to hide, but now you know it That I'm at an all time  Low, low, lo-lo-low, low, low, low, low Low, low, lo-lo-low, low, low, low, low Low, low, lo-lo-low, low, low, low, low Low, low, lo-lo-low, low, low, low, low  Low, low, lo-lo-low, low, low, low, low Low, low, lo-lo-low, low, low, low, low Low, low, lo-lo-low, low, low, low, low Low, low, lo-lo-low, low, low, low, low (oh, woah, oh-oh)  I was the prototype like \n",
       "<mark class=\"entity\" style=\"background: #e4e7d2; padding: 0.45em 0.6em; margin: 0 0.25em; line-height: 1; border-radius: 0.35em;\">\n",
       "    three\n",
       "    <span style=\"font-size: 0.8em; font-weight: bold; line-height: 1; border-radius: 0.35em; vertical-align: middle; margin-left: 0.5rem\">CARDINAL</span>\n",
       "</mark>\n",
       " stacks on that CD An example of the perfect candidate Now all your girlfriends say that you don't want to see me You're the reason that I just can't concentrate  I (I, I) I've been trying to fix my pride But that shit's broken, that shit's broken Lie (lie, lie) Lie, lie, lie, I try to hide, but now you know it That I'm at an all time  Low, low, lo-lo-low, low, low, low, low Low, low, lo-lo-low, low, low, low, low Low, low, lo-lo-low, low, low, low, low Low, low, lo-lo-low, low, low, low, low  Low, low, lo-lo-low, low, low, low, low (oh, woah) Low, low, lo-lo-low, low, low, low, low (oh, woah, oh-oh) Low, low, lo-lo-low, low, low, low, low (oh, woah) Low, low, lo-lo-low, low, low, low, low (oh, woah, oh-oh)  I (I, I) I've been trying to fix my pride But that shit's broken, that shit's broken Lie (lie, lie) Lie, lie, lie, I try to hide, but now you know it I'm at an all time  Low, low, lo-lo-low, low, low, low Low, low, lo-lo-low, low, low, low, low Low, low, low, low Low, low, lo-lo-low, low, low, low, low (Low, low, lo-lo-low, low, low-) Lie, lie, lie, I try to hide, but now you know it (Low, low, lo-lo-low, low, low, low, low) I'm at an all time, hey  Low, low, lo-lo-low, low, low, low, low Low, low, lo-lo-low, low, low, low, low Low, low, lo-lo-low, low, low, low, low Low, low, lo-lo-low, low, low, low, low  Low, low, lo-lo-low, low, low, low, low (oh, woah) Low, low, lo-lo-low, low, low, low, low (oh, woah, oh-oh) Low, low, lo-lo-low, low, low, low, low (oh, woah) Low, low, lo-lo-low, low, low, low, low (oh, woah, oh-oh)  Low, low, lo-lo-low, low, low, low, low (oh, woah) Low, low, lo-lo-low, low, low, low, low (oh, woah, oh-oh) Low, low, lo-lo-low, low, low, low, low (oh, woah) Low, low, lo-lo-low, low, low, low, low (oh, woah, oh-oh) All smiles, I know what it takes to fool this town I'll do it 'til the sun goes down and all through the night time Oh yeah Oh yeah, I'll tell you what you wanna hear Leave my sunglasses on while I shed a tear It's never the right time Yeah, yeah  I put my armor on, show you how strong how I am I put my armor on, I'll show you that I am  I'm unstoppable I'm a \n",
       "<mark class=\"entity\" style=\"background: #7aecec; padding: 0.45em 0.6em; margin: 0 0.25em; line-height: 1; border-radius: 0.35em;\">\n",
       "    Porsche\n",
       "    <span style=\"font-size: 0.8em; font-weight: bold; line-height: 1; border-radius: 0.35em; vertical-align: middle; margin-left: 0.5rem\">ORG</span>\n",
       "</mark>\n",
       " with no brakes I'm invincible Yeah, I win every single game I'm so powerful I don't need batteries to play I'm so confident Yeah, I'm unstoppable \n",
       "<mark class=\"entity\" style=\"background: #bfe1d9; padding: 0.45em 0.6em; margin: 0 0.25em; line-height: 1; border-radius: 0.35em;\">\n",
       "    today\n",
       "    <span style=\"font-size: 0.8em; font-weight: bold; line-height: 1; border-radius: 0.35em; vertical-align: middle; margin-left: 0.5rem\">DATE</span>\n",
       "</mark>\n",
       " Unstoppable today Unstoppable today Unstoppable \n",
       "<mark class=\"entity\" style=\"background: #bfe1d9; padding: 0.45em 0.6em; margin: 0 0.25em; line-height: 1; border-radius: 0.35em;\">\n",
       "    today\n",
       "    <span style=\"font-size: 0.8em; font-weight: bold; line-height: 1; border-radius: 0.35em; vertical-align: middle; margin-left: 0.5rem\">DATE</span>\n",
       "</mark>\n",
       " I'm unstoppable \n",
       "<mark class=\"entity\" style=\"background: #bfe1d9; padding: 0.45em 0.6em; margin: 0 0.25em; line-height: 1; border-radius: 0.35em;\">\n",
       "    today\n",
       "    <span style=\"font-size: 0.8em; font-weight: bold; line-height: 1; border-radius: 0.35em; vertical-align: middle; margin-left: 0.5rem\">DATE</span>\n",
       "</mark>\n",
       "  Break down, only alone I will cry on out You'll never see what's hiding out Hiding out deep down Yeah, yeah I know, I've heard that to let your feelings go Is the only way to make friendships grow But I'm too afraid now Yeah, yeah  I put my armor on, show you how strong how I am I put my armor on, I'll show you that I am  I'm unstoppable I'm a \n",
       "<mark class=\"entity\" style=\"background: #7aecec; padding: 0.45em 0.6em; margin: 0 0.25em; line-height: 1; border-radius: 0.35em;\">\n",
       "    Porsche\n",
       "    <span style=\"font-size: 0.8em; font-weight: bold; line-height: 1; border-radius: 0.35em; vertical-align: middle; margin-left: 0.5rem\">ORG</span>\n",
       "</mark>\n",
       " with no breaks I'm invincible Yeah, I win every single game I'm so powerful I don't need batteries to play I'm so confident Yeah, I'm unstoppable \n",
       "<mark class=\"entity\" style=\"background: #bfe1d9; padding: 0.45em 0.6em; margin: 0 0.25em; line-height: 1; border-radius: 0.35em;\">\n",
       "    today\n",
       "    <span style=\"font-size: 0.8em; font-weight: bold; line-height: 1; border-radius: 0.35em; vertical-align: middle; margin-left: 0.5rem\">DATE</span>\n",
       "</mark>\n",
       " Unstoppable today Unstoppable today Unstoppable \n",
       "<mark class=\"entity\" style=\"background: #bfe1d9; padding: 0.45em 0.6em; margin: 0 0.25em; line-height: 1; border-radius: 0.35em;\">\n",
       "    today\n",
       "    <span style=\"font-size: 0.8em; font-weight: bold; line-height: 1; border-radius: 0.35em; vertical-align: middle; margin-left: 0.5rem\">DATE</span>\n",
       "</mark>\n",
       " I'm unstoppable \n",
       "<mark class=\"entity\" style=\"background: #bfe1d9; padding: 0.45em 0.6em; margin: 0 0.25em; line-height: 1; border-radius: 0.35em;\">\n",
       "    today\n",
       "    <span style=\"font-size: 0.8em; font-weight: bold; line-height: 1; border-radius: 0.35em; vertical-align: middle; margin-left: 0.5rem\">DATE</span>\n",
       "</mark>\n",
       " Unstoppable today Unstoppable today Unstoppable \n",
       "<mark class=\"entity\" style=\"background: #bfe1d9; padding: 0.45em 0.6em; margin: 0 0.25em; line-height: 1; border-radius: 0.35em;\">\n",
       "    today\n",
       "    <span style=\"font-size: 0.8em; font-weight: bold; line-height: 1; border-radius: 0.35em; vertical-align: middle; margin-left: 0.5rem\">DATE</span>\n",
       "</mark>\n",
       " I'm unstoppable \n",
       "<mark class=\"entity\" style=\"background: #bfe1d9; padding: 0.45em 0.6em; margin: 0 0.25em; line-height: 1; border-radius: 0.35em;\">\n",
       "    today\n",
       "    <span style=\"font-size: 0.8em; font-weight: bold; line-height: 1; border-radius: 0.35em; vertical-align: middle; margin-left: 0.5rem\">DATE</span>\n",
       "</mark>\n",
       "  I put my arm around, show you how strong I am I put my arm around, I'll show you that I am  I'm unstoppable I'm a \n",
       "<mark class=\"entity\" style=\"background: #7aecec; padding: 0.45em 0.6em; margin: 0 0.25em; line-height: 1; border-radius: 0.35em;\">\n",
       "    Porsche\n",
       "    <span style=\"font-size: 0.8em; font-weight: bold; line-height: 1; border-radius: 0.35em; vertical-align: middle; margin-left: 0.5rem\">ORG</span>\n",
       "</mark>\n",
       " with no breaks I'm invincible Yeah, I win every single game I'm so powerful I don't need batteries to play I'm so confident Yeah, I'm unstoppable \n",
       "<mark class=\"entity\" style=\"background: #bfe1d9; padding: 0.45em 0.6em; margin: 0 0.25em; line-height: 1; border-radius: 0.35em;\">\n",
       "    today\n",
       "    <span style=\"font-size: 0.8em; font-weight: bold; line-height: 1; border-radius: 0.35em; vertical-align: middle; margin-left: 0.5rem\">DATE</span>\n",
       "</mark>\n",
       " Unstoppable today Unstoppable today Unstoppable \n",
       "<mark class=\"entity\" style=\"background: #bfe1d9; padding: 0.45em 0.6em; margin: 0 0.25em; line-height: 1; border-radius: 0.35em;\">\n",
       "    today\n",
       "    <span style=\"font-size: 0.8em; font-weight: bold; line-height: 1; border-radius: 0.35em; vertical-align: middle; margin-left: 0.5rem\">DATE</span>\n",
       "</mark>\n",
       " I'm unstoppable \n",
       "<mark class=\"entity\" style=\"background: #bfe1d9; padding: 0.45em 0.6em; margin: 0 0.25em; line-height: 1; border-radius: 0.35em;\">\n",
       "    today\n",
       "    <span style=\"font-size: 0.8em; font-weight: bold; line-height: 1; border-radius: 0.35em; vertical-align: middle; margin-left: 0.5rem\">DATE</span>\n",
       "</mark>\n",
       " Unstoppable today Unstoppable today Unstoppable \n",
       "<mark class=\"entity\" style=\"background: #bfe1d9; padding: 0.45em 0.6em; margin: 0 0.25em; line-height: 1; border-radius: 0.35em;\">\n",
       "    today\n",
       "    <span style=\"font-size: 0.8em; font-weight: bold; line-height: 1; border-radius: 0.35em; vertical-align: middle; margin-left: 0.5rem\">DATE</span>\n",
       "</mark>\n",
       " I'm unstoppable \n",
       "<mark class=\"entity\" style=\"background: #bfe1d9; padding: 0.45em 0.6em; margin: 0 0.25em; line-height: 1; border-radius: 0.35em;\">\n",
       "    today\n",
       "    <span style=\"font-size: 0.8em; font-weight: bold; line-height: 1; border-radius: 0.35em; vertical-align: middle; margin-left: 0.5rem\">DATE</span>\n",
       "</mark>\n",
       " When life leaves you high and dry I'll be at your door \n",
       "<mark class=\"entity\" style=\"background: #bfe1d9; padding: 0.45em 0.6em; margin: 0 0.25em; line-height: 1; border-radius: 0.35em;\">\n",
       "    tonight\n",
       "    <span style=\"font-size: 0.8em; font-weight: bold; line-height: 1; border-radius: 0.35em; vertical-align: middle; margin-left: 0.5rem\">TIME</span>\n",
       "</mark>\n",
       " If you need help, if you need help I'll shut down the city lights I'll lie, cheat, I'll beg and bribe To make you well, to make you well  When enemies are at your door I'll carry you way from war If you need help, if you need help Your hope dangling by a string I'll share in your suffering To make you well, to make you well  Give me reasons to believe That you would do the same for me  And I would do it for you, for you \n",
       "<mark class=\"entity\" style=\"background: #aa9cfc; padding: 0.45em 0.6em; margin: 0 0.25em; line-height: 1; border-radius: 0.35em;\">\n",
       "    Baby\n",
       "    <span style=\"font-size: 0.8em; font-weight: bold; line-height: 1; border-radius: 0.35em; vertical-align: middle; margin-left: 0.5rem\">PERSON</span>\n",
       "</mark>\n",
       ", I'm not moving on I'll love you long after you're gone For you, for you You will never sleep alone I'll love you long after you're gone And long after you're gone, gone, gone  When you fall like a statue I'm gon' be there to catch you Put you on your feet, you on your feet And if your well is empty Not a thing will prevent me Tell me what you need What do you need?  I surrender honestly You've always done the same for me  So, I would do it for you, for you \n",
       "<mark class=\"entity\" style=\"background: #aa9cfc; padding: 0.45em 0.6em; margin: 0 0.25em; line-height: 1; border-radius: 0.35em;\">\n",
       "    Baby\n",
       "    <span style=\"font-size: 0.8em; font-weight: bold; line-height: 1; border-radius: 0.35em; vertical-align: middle; margin-left: 0.5rem\">PERSON</span>\n",
       "</mark>\n",
       ", I'm not movin' on I'll love you long after you're gone For you, for you You will never sleep alone I'll love you long after you're gone And long after you're gone, gone, gone  You're my backbone You're my cornerstone You're my crutch when my legs stop moving You're my headstart You're my rugged heart You're the pulse that I've always needed Like a drum, baby, don't stop beating Like a drum, baby, don't stop beating Like a drum, baby, don't stop beating Like a drum, my heart never stops beating  For you, for you \n",
       "<mark class=\"entity\" style=\"background: #aa9cfc; padding: 0.45em 0.6em; margin: 0 0.25em; line-height: 1; border-radius: 0.35em;\">\n",
       "    Baby\n",
       "    <span style=\"font-size: 0.8em; font-weight: bold; line-height: 1; border-radius: 0.35em; vertical-align: middle; margin-left: 0.5rem\">PERSON</span>\n",
       "</mark>\n",
       ", I'm not moving on I'll love you long after you're gone For you, for you You will never sleep alone I'll love you long after you're gone  For you, for you \n",
       "<mark class=\"entity\" style=\"background: #aa9cfc; padding: 0.45em 0.6em; margin: 0 0.25em; line-height: 1; border-radius: 0.35em;\">\n",
       "    Baby\n",
       "    <span style=\"font-size: 0.8em; font-weight: bold; line-height: 1; border-radius: 0.35em; vertical-align: middle; margin-left: 0.5rem\">PERSON</span>\n",
       "</mark>\n",
       ", I'm not movin' on I'll love you long after you're gone For you, for you You will never sleep alone I'll love you long, long after you're gone  Like a drum, baby, don't stop beating Like a drum, baby, don't stop beating Like a drum, baby, don't stop beating Like a drum, my heart never stops beating for you And long after you're gone, gone, gone I'll love you long after you're gone, gone, gone Yeah, wanna know what it's like (like) Baby, show me what it's like (like) I don't really got no type (type) I just wanna fuck \n",
       "<mark class=\"entity\" style=\"background: #bfe1d9; padding: 0.45em 0.6em; margin: 0 0.25em; line-height: 1; border-radius: 0.35em;\">\n",
       "    all night\n",
       "    <span style=\"font-size: 0.8em; font-weight: bold; line-height: 1; border-radius: 0.35em; vertical-align: middle; margin-left: 0.5rem\">TIME</span>\n",
       "</mark>\n",
       " Yeah-yeah (oh), oh-whoa-whoa (brr, uh) Baby (yeah), I need to know (need to know), mmm  I just been fantasizing (size) And we got a lotta time (time) Baby, come throw the pipe (pipe) Gotta know what it's like (like) Yeah-yeah, oh-whoa-whoa (oh) Baby, I need to know, mmm  What's your size? (Size) Add, subtract, divide ('vide) Daddy, don't throw no curves (curve) Hold up, I'm going wide (wide) We could just start at \n",
       "<mark class=\"entity\" style=\"background: #e4e7d2; padding: 0.45em 0.6em; margin: 0 0.25em; line-height: 1; border-radius: 0.35em;\">\n",
       "    ten\n",
       "    <span style=\"font-size: 0.8em; font-weight: bold; line-height: 1; border-radius: 0.35em; vertical-align: middle; margin-left: 0.5rem\">CARDINAL</span>\n",
       "</mark>\n",
       " (ten) Then we can go to \n",
       "<mark class=\"entity\" style=\"background: #e4e7d2; padding: 0.45em 0.6em; margin: 0 0.25em; line-height: 1; border-radius: 0.35em;\">\n",
       "    five\n",
       "    <span style=\"font-size: 0.8em; font-weight: bold; line-height: 1; border-radius: 0.35em; vertical-align: middle; margin-left: 0.5rem\">CARDINAL</span>\n",
       "</mark>\n",
       " (\n",
       "<mark class=\"entity\" style=\"background: #e4e7d2; padding: 0.45em 0.6em; margin: 0 0.25em; line-height: 1; border-radius: 0.35em;\">\n",
       "    five\n",
       "    <span style=\"font-size: 0.8em; font-weight: bold; line-height: 1; border-radius: 0.35em; vertical-align: middle; margin-left: 0.5rem\">CARDINAL</span>\n",
       "</mark>\n",
       ") I don't play with my pen (pen) I mean what I write  Yeah-yeah, whoa-whoa-whoa I just can't help but be sexual ('ual) Tell me your schedule (yeah) I got a lotta new tricks for you \n",
       "<mark class=\"entity\" style=\"background: #aa9cfc; padding: 0.45em 0.6em; margin: 0 0.25em; line-height: 1; border-radius: 0.35em;\">\n",
       "    Baby\n",
       "    <span style=\"font-size: 0.8em; font-weight: bold; line-height: 1; border-radius: 0.35em; vertical-align: middle; margin-left: 0.5rem\">PERSON</span>\n",
       "</mark>\n",
       ", just saying I'm flexible (yeah)  I do what I can to get you off (yeah) Might just fuck him with my makeup on (yeah) Eat it like I need an apron on (\n",
       "<mark class=\"entity\" style=\"background: #aa9cfc; padding: 0.45em 0.6em; margin: 0 0.25em; line-height: 1; border-radius: 0.35em;\">\n",
       "    yuh\n",
       "    <span style=\"font-size: 0.8em; font-weight: bold; line-height: 1; border-radius: 0.35em; vertical-align: middle; margin-left: 0.5rem\">PERSON</span>\n",
       "</mark>\n",
       ", ayy) Eat it 'til I need to change my thong (\n",
       "<mark class=\"entity\" style=\"background: #aa9cfc; padding: 0.45em 0.6em; margin: 0 0.25em; line-height: 1; border-radius: 0.35em;\">\n",
       "    yuh\n",
       "    <span style=\"font-size: 0.8em; font-weight: bold; line-height: 1; border-radius: 0.35em; vertical-align: middle; margin-left: 0.5rem\">PERSON</span>\n",
       "</mark>\n",
       ", ayy) We could do it to your favorite song (\n",
       "<mark class=\"entity\" style=\"background: #aa9cfc; padding: 0.45em 0.6em; margin: 0 0.25em; line-height: 1; border-radius: 0.35em;\">\n",
       "    yuh\n",
       "    <span style=\"font-size: 0.8em; font-weight: bold; line-height: 1; border-radius: 0.35em; vertical-align: middle; margin-left: 0.5rem\">PERSON</span>\n",
       "</mark>\n",
       ", ayy) Take a ride into the danger zone  You know my nigga be bugging me I just be wondering if you can fuck on me better \n",
       "<mark class=\"entity\" style=\"background: #aa9cfc; padding: 0.45em 0.6em; margin: 0 0.25em; line-height: 1; border-radius: 0.35em;\">\n",
       "    Itching\n",
       "    <span style=\"font-size: 0.8em; font-weight: bold; line-height: 1; border-radius: 0.35em; vertical-align: middle; margin-left: 0.5rem\">PERSON</span>\n",
       "</mark>\n",
       " for me like an ugly sweater \n",
       "<mark class=\"entity\" style=\"background: #aa9cfc; padding: 0.45em 0.6em; margin: 0 0.25em; line-height: 1; border-radius: 0.35em;\">\n",
       "    Need\n",
       "    <span style=\"font-size: 0.8em; font-weight: bold; line-height: 1; border-radius: 0.35em; vertical-align: middle; margin-left: 0.5rem\">PERSON</span>\n",
       "</mark>\n",
       " it in me like a \n",
       "<mark class=\"entity\" style=\"background: #aa9cfc; padding: 0.45em 0.6em; margin: 0 0.25em; line-height: 1; border-radius: 0.35em;\">\n",
       "    Chuck E.\n",
       "    <span style=\"font-size: 0.8em; font-weight: bold; line-height: 1; border-radius: 0.35em; vertical-align: middle; margin-left: 0.5rem\">PERSON</span>\n",
       "</mark>\n",
       " need cheddar I need to know  Yeah, wanna know what it's like (like) Baby, show me what it's like (like) I don't really got no type (type) I just wanna fuck \n",
       "<mark class=\"entity\" style=\"background: #bfe1d9; padding: 0.45em 0.6em; margin: 0 0.25em; line-height: 1; border-radius: 0.35em;\">\n",
       "    all night\n",
       "    <span style=\"font-size: 0.8em; font-weight: bold; line-height: 1; border-radius: 0.35em; vertical-align: middle; margin-left: 0.5rem\">TIME</span>\n",
       "</mark>\n",
       " Yeah-yeah (oh), oh-whoa-whoa (brr, uh) Baby (yeah), I need to know (need to know), mmm  I just been fantasizing (size) And we got a lotta time (time) Baby, come throw the pipe (pipe) Gotta know what it's like (like) Yeah-yeah, oh-whoa-whoa (oh) Baby, I need to know, mmm  You're exciting, boy, come find me Your eyes told me, &quot;Girl, come ride me&quot; Fuck that feeling, both us fighting Could he try me? (Yeah), mmm, most likely  Tryna see if you could handle this ass Prolly give his ass a panic attack Sorry if I gave a random erection Prolly thinking I'm a telekinetic Oh, wait, you a fan of the magic? \n",
       "<mark class=\"entity\" style=\"background: #aa9cfc; padding: 0.45em 0.6em; margin: 0 0.25em; line-height: 1; border-radius: 0.35em;\">\n",
       "    Poof\n",
       "    <span style=\"font-size: 0.8em; font-weight: bold; line-height: 1; border-radius: 0.35em; vertical-align: middle; margin-left: 0.5rem\">PERSON</span>\n",
       "</mark>\n",
       ", pussy like an Alakazam I heard from a friend of a friend That that dick was a \n",
       "<mark class=\"entity\" style=\"background: #e4e7d2; padding: 0.45em 0.6em; margin: 0 0.25em; line-height: 1; border-radius: 0.35em;\">\n",
       "    ten\n",
       "    <span style=\"font-size: 0.8em; font-weight: bold; line-height: 1; border-radius: 0.35em; vertical-align: middle; margin-left: 0.5rem\">CARDINAL</span>\n",
       "</mark>\n",
       " out of \n",
       "<mark class=\"entity\" style=\"background: #e4e7d2; padding: 0.45em 0.6em; margin: 0 0.25em; line-height: 1; border-radius: 0.35em;\">\n",
       "    ten\n",
       "    <span style=\"font-size: 0.8em; font-weight: bold; line-height: 1; border-radius: 0.35em; vertical-align: middle; margin-left: 0.5rem\">CARDINAL</span>\n",
       "</mark>\n",
       "  I can't stand it, just &quot;\n",
       "<mark class=\"entity\" style=\"background: #bfe1d9; padding: 0.45em 0.6em; margin: 0 0.25em; line-height: 1; border-radius: 0.35em;\">\n",
       "    one night\n",
       "    <span style=\"font-size: 0.8em; font-weight: bold; line-height: 1; border-radius: 0.35em; vertical-align: middle; margin-left: 0.5rem\">TIME</span>\n",
       "</mark>\n",
       "&quot; me Clink with the drink, gimme a sip Tell me what's your kink, gimme the dick \n",
       "<mark class=\"entity\" style=\"background: #c887fb; padding: 0.45em 0.6em; margin: 0 0.25em; line-height: 1; border-radius: 0.35em;\">\n",
       "    Spank\n",
       "    <span style=\"font-size: 0.8em; font-weight: bold; line-height: 1; border-radius: 0.35em; vertical-align: middle; margin-left: 0.5rem\">NORP</span>\n",
       "</mark>\n",
       " me, slap me, choke me, bite me Uh, wait, I can take it (ah) Give a fuck 'bout what your wifey's saying  Yeah, wanna know what it's like (like) Baby, show me what it's like (like) I don't really got no type (type) I just wanna fuck \n",
       "<mark class=\"entity\" style=\"background: #bfe1d9; padding: 0.45em 0.6em; margin: 0 0.25em; line-height: 1; border-radius: 0.35em;\">\n",
       "    all night\n",
       "    <span style=\"font-size: 0.8em; font-weight: bold; line-height: 1; border-radius: 0.35em; vertical-align: middle; margin-left: 0.5rem\">TIME</span>\n",
       "</mark>\n",
       " Yeah-yeah (oh), oh-whoa-whoa (brr, uh) Baby (yeah), I need to know (need to know), mmm  I just been fantasizing (size) And we got a lotta time (time) Baby, come throw the pipe (pipe) Gotta know what it's like (like) Yeah-yeah, oh-whoa-whoa Baby, I need to know, mmm (Ah)  Well, good for you, I guess you moved on really easily You found a new girl, and it only took \n",
       "<mark class=\"entity\" style=\"background: #bfe1d9; padding: 0.45em 0.6em; margin: 0 0.25em; line-height: 1; border-radius: 0.35em;\">\n",
       "    a couple weeks\n",
       "    <span style=\"font-size: 0.8em; font-weight: bold; line-height: 1; border-radius: 0.35em; vertical-align: middle; margin-left: 0.5rem\">DATE</span>\n",
       "</mark>\n",
       " Remember when you said that you wanted to give me the world? (Ah-ah-ah-ah) And good for you, I guess that you've been working on yourself I guess that therapist I found for you, she really helped Now you can be a better man for your brand-new girl  Well, good for you, you look happy and healthy Not me, if you ever cared to ask Good for you, you're doing great out there without me, baby God, I wish that I could do that I've lost my mind, I've spent \n",
       "<mark class=\"entity\" style=\"background: #bfe1d9; padding: 0.45em 0.6em; margin: 0 0.25em; line-height: 1; border-radius: 0.35em;\">\n",
       "    the night\n",
       "    <span style=\"font-size: 0.8em; font-weight: bold; line-height: 1; border-radius: 0.35em; vertical-align: middle; margin-left: 0.5rem\">TIME</span>\n",
       "</mark>\n",
       " Crying on the floor of my bathroom But you're so unaffected, I really don't get it But I guess good for you  Well, good for you, I guess you're getting everything you want (ah) You bought a new car and your career's really taking off (ah) It's like we never even happened \n",
       "<mark class=\"entity\" style=\"background: #bfeeb7; padding: 0.45em 0.6em; margin: 0 0.25em; line-height: 1; border-radius: 0.35em;\">\n",
       "    Baby\n",
       "    <span style=\"font-size: 0.8em; font-weight: bold; line-height: 1; border-radius: 0.35em; vertical-align: middle; margin-left: 0.5rem\">PRODUCT</span>\n",
       "</mark>\n",
       ", what the fuck is up with that? (Ha) And good for you, it's like you never even met me Remember when you swore to God I was the only Person who ever got you? Well, screw that and screw you You will never have to hurt the way you know that I do  Well, good for you, you look happy and healthy Not me, if you ever cared to ask Good for you, you're doing great out there without me, baby God, I wish that I could do that I've lost my mind, I've spent \n",
       "<mark class=\"entity\" style=\"background: #bfe1d9; padding: 0.45em 0.6em; margin: 0 0.25em; line-height: 1; border-radius: 0.35em;\">\n",
       "    the night\n",
       "    <span style=\"font-size: 0.8em; font-weight: bold; line-height: 1; border-radius: 0.35em; vertical-align: middle; margin-left: 0.5rem\">TIME</span>\n",
       "</mark>\n",
       " Crying on the floor of my bathroom But you're so unaffected, I really don't get it But I guess good for you  Ah-ah-ah-ah Ah-ah-ah-ah  Maybe I'm too emotional But your apathy is like a wound in salt Maybe I'm too emotional Or maybe you never cared at all Maybe I'm too emotional Your apathy is like a wound in salt Maybe I'm too emotional Or maybe you never cared at all  Well, good for you, you look happy and healthy Not me, if you ever cared to ask Good for you, you're doing great out there without me, baby Like a damn sociopath! I've lost my mind, I've spent \n",
       "<mark class=\"entity\" style=\"background: #bfe1d9; padding: 0.45em 0.6em; margin: 0 0.25em; line-height: 1; border-radius: 0.35em;\">\n",
       "    the night\n",
       "    <span style=\"font-size: 0.8em; font-weight: bold; line-height: 1; border-radius: 0.35em; vertical-align: middle; margin-left: 0.5rem\">TIME</span>\n",
       "</mark>\n",
       " Crying on the floor of my bathroom But you're so unaffected, I really don't get it But I guess good for you  Well, good for you, I guess you moved on really easily I tell myself you don't mean a thing And what we got, got no hold on me But when you're not there I just crumble I tell myself I don't care that much But I feel like I'm dying 'til I feel your touch  Only love Only love can hurt like this Only love can hurt like this Must have been a deadly kiss Only love can hurt like this  Say I wouldn't care if you walked away But everytime you're there I'm begging you to stay When you come close I just tremble And everytime, everytime you go It's like a knife that cuts right through my soul  Only love Only love can hurt like this Only love can hurt like this Must have been a deadly kiss Only love can hurt like this Only love can hurt like this Your kisses burn into my skin Only love can hurt like this  But if the sweetest pain Burning hot through my veins \n",
       "<mark class=\"entity\" style=\"background: #f0d0ff; padding: 0.45em 0.6em; margin: 0 0.25em; line-height: 1; border-radius: 0.35em;\">\n",
       "    Love\n",
       "    <span style=\"font-size: 0.8em; font-weight: bold; line-height: 1; border-radius: 0.35em; vertical-align: middle; margin-left: 0.5rem\">WORK_OF_ART</span>\n",
       "</mark>\n",
       " is torture Makes me more sure  Only love can hurt like this  Only love can hurt like this Only love can hurt like this Must have been a deadly kiss Only love can hurt like this Only love can hurt like this Your kisses burn into my skin Only love can hurt like this  (Only love can hurt like this) Only love can hurt like this (Only love can hurt like this)  Save me Save me Only love Only love 'Cause only love can hurt this And it must have been a deadly kiss All my life I've been waiting For you to bring a fairy tale my way Been living in a fantasy without meaning It's not okay, I don't feel safe I don't feel safe, ohhh  Left broken, empty in despair \n",
       "<mark class=\"entity\" style=\"background: #aa9cfc; padding: 0.45em 0.6em; margin: 0 0.25em; line-height: 1; border-radius: 0.35em;\">\n",
       "    Wanna\n",
       "    <span style=\"font-size: 0.8em; font-weight: bold; line-height: 1; border-radius: 0.35em; vertical-align: middle; margin-left: 0.5rem\">PERSON</span>\n",
       "</mark>\n",
       " breathe, can't find air Thought you were sent from up above But you and me never had love So much more I have to say Help me find a way  And I wonder if you know How it really feels To be left outside alone When it's cold out here Well maybe you should know Just how it feels To be left outside alone To be left outside alone I tell ya  All my life I've been waiting For you to bring a fairy tale my way Been living in a fantasy without meaning It's not okay, I don't feel safe I need to pray  Why do you play me like a game? Always someone else to blame Careless, helpless little man \n",
       "<mark class=\"entity\" style=\"background: #aa9cfc; padding: 0.45em 0.6em; margin: 0 0.25em; line-height: 1; border-radius: 0.35em;\">\n",
       "    Someday\n",
       "    <span style=\"font-size: 0.8em; font-weight: bold; line-height: 1; border-radius: 0.35em; vertical-align: middle; margin-left: 0.5rem\">PERSON</span>\n",
       "</mark>\n",
       " you might understand There's not much more to say But I hope you find a way  Still I wonder if you know How it really feels To be left outside alone When it's cold out here Well maybe you should know Just how it feels To be left outside alone To be left outside alone I tell ya  All my life I've been waiting For you to bring a fairy tale my way Been living in a fantasy without meaning It's not okay, I don't feel safe I need to pray \n",
       "<mark class=\"entity\" style=\"background: #7aecec; padding: 0.45em 0.6em; margin: 0 0.25em; line-height: 1; border-radius: 0.35em;\">\n",
       "    Ohhh\n",
       "    <span style=\"font-size: 0.8em; font-weight: bold; line-height: 1; border-radius: 0.35em; vertical-align: middle; margin-left: 0.5rem\">ORG</span>\n",
       "</mark>\n",
       ", pray (Oh, heavenly Father, please, save me) Oh heavenly father, oh save me, ohhhh  And I wonder if you know How it really feels To be left outside alone When it's cold out here Well maybe you should know Just how it feels To be left outside alone To be left outside alone  I said, I said I wonder if you know How it really feels (how it feels) To be left outside alone When it's cold out here Well maybe you should know Just how it feels To be left outside alone To be left outside alone, alone  All my life I've been waiting For you to bring a fairy tale my way Been living in a fantasy without meaning, ooh It's not okay, I don't feel safe I need to pray They say, &quot;Oh my God, I see the way you shine&quot; &quot;Take your hands, my dear, and place them both in mine&quot; You know you stopped me dead while I was passing by And now I beg to see you dance just one more time  Ooh, I see you, see you, see you every time And oh my, I, I, I like your style You, you make me, make me, make me wanna cry And now I beg to see you dance just one more time  So they say &quot;Dance for me, dance for me, dance for me, oh-oh-oh&quot; &quot;I've never seen anybody do the things you do before&quot; They say &quot;Move for me, move for me, move for me, ayy-ayy-ayy&quot; &quot;And when you're done, I'll make you do it all again&quot;  I said, &quot;Oh my God, I see you walking by&quot; &quot;Take my hands, my dear, and look me in my eyes&quot; Just like a monkey I've been dancin' my whole life But you just beg to see me dance just one more time  Ooh, I see you, see you, see you every time And oh my, I, I, I like your style You, you make me, make me, make me wanna cry And now I beg to see you dance just one more time  So they say &quot;Dance for me, dance for me, dance for me, oh-oh-oh&quot; &quot;I've never seen anybody do the things you do before&quot; They say &quot;Move for me, move for me, move for me, ayy-ayy-ayy&quot; &quot;And when you're done, I'll make you do it all again&quot;  They say &quot;Dance for me, dance for me, dance for me, oh-oh-oh, oh-oh, oh-oh&quot; &quot;I've never seen anybody do the things you do before&quot; They say &quot;Move for me, move for me, move for me, ayy-ayy-ayy&quot; &quot;And when you're done, I'll make you do it all again&quot;  Ooh, ooh, ooh, ooh, ooh (Do it all again, do it all again, do it all again) Woah-oh, woah-oh, oh Ooh, ooh, ooh, ooh, ooh-ooh (Do it all again, do it all again, do it all again) Woah-ah, ah-ah  They say &quot;Dance for me, dance for me, dance for me, oh-oh-oh&quot; &quot;I've never seen anybody do the things you do before&quot; They say &quot;Move for me, move for me, move for me, ayy-ayy-ayy&quot; &quot;And when you're done, I'll make you do it all again&quot;  They say &quot;Dance for me, dance for me, dance for me, oh-oh-oh, oh-oh, oh-oh&quot; &quot;I've never seen anybody do the things you do before&quot; They say &quot;Move for me, move for me, move for me, ayy-ayy-ayy&quot; &quot;And when you're done, I'll make you do it all again&quot; All again I got my driver's license \n",
       "<mark class=\"entity\" style=\"background: #bfe1d9; padding: 0.45em 0.6em; margin: 0 0.25em; line-height: 1; border-radius: 0.35em;\">\n",
       "    last week\n",
       "    <span style=\"font-size: 0.8em; font-weight: bold; line-height: 1; border-radius: 0.35em; vertical-align: middle; margin-left: 0.5rem\">DATE</span>\n",
       "</mark>\n",
       " Just like we always talked about 'Cause you were so excited for me To finally drive up to your house But \n",
       "<mark class=\"entity\" style=\"background: #bfe1d9; padding: 0.45em 0.6em; margin: 0 0.25em; line-height: 1; border-radius: 0.35em;\">\n",
       "    today\n",
       "    <span style=\"font-size: 0.8em; font-weight: bold; line-height: 1; border-radius: 0.35em; vertical-align: middle; margin-left: 0.5rem\">DATE</span>\n",
       "</mark>\n",
       ", I drove through the suburbs Crying 'cause you weren't around  And you're probably with that blonde girl Who always made me doubt She's so much older than me She's everything I'm insecure about Yeah, \n",
       "<mark class=\"entity\" style=\"background: #bfe1d9; padding: 0.45em 0.6em; margin: 0 0.25em; line-height: 1; border-radius: 0.35em;\">\n",
       "    today\n",
       "    <span style=\"font-size: 0.8em; font-weight: bold; line-height: 1; border-radius: 0.35em; vertical-align: middle; margin-left: 0.5rem\">DATE</span>\n",
       "</mark>\n",
       " I drove through the suburbs 'Cause how could I ever love someone else?  And I know we weren't perfect But I've never felt this way for no one And I just can't imagine how you could be so okay now that I'm gone Guess you didn't mean what you wrote in that song about me 'Cause you said forever, now I drive alone past your street  And all my friends are tired Of hearing how much I miss you, but I kinda feel sorry for them 'Cause they'll never know you the way that I do Yeah, \n",
       "<mark class=\"entity\" style=\"background: #bfe1d9; padding: 0.45em 0.6em; margin: 0 0.25em; line-height: 1; border-radius: 0.35em;\">\n",
       "    today\n",
       "    <span style=\"font-size: 0.8em; font-weight: bold; line-height: 1; border-radius: 0.35em; vertical-align: middle; margin-left: 0.5rem\">DATE</span>\n",
       "</mark>\n",
       " I drove through the suburbs And pictured I was driving home to you  And I know we weren't perfect But I've never felt this way for no one, oh And I just can't imagine how you could be so okay now that I'm gone I guess you didn't mean what you wrote in that song about me 'Cause you said forever, now I drive alone past your street  Red lights, stop signs I still see your face in the white cars, front yards Can't drive past the places we used to go to 'Cause I still fucking love you, babe (ooh, ooh-ooh, ooh-ooh) Sidewalks we crossed I still hear your voice in the traffic We're laughing over all the noise God, I'm so blue, know we're through But I still fucking love you, babe (ooh, ooh-ooh, ooh-ooh)  I know we weren't perfect But I've never felt this way for no one And I just can't imagine how you could be so okay now that I'm gone Guess you didn't mean what you wrote in that song about me 'Cause you said forever, now I drive alone past your street Yeah, you said forever, now I drive alone past your street I found a love for me Oh darling, just dive right in and follow my lead Well, I found a girl, beautiful and sweet Oh, I never knew you were the someone waiting for me  'Cause we were just kids when we fell in love Not knowing what it was I will not give you up this time But darling, just kiss me slow, your heart is all I own And in your eyes, you're holding mine  Baby, I'm dancing in the dark with you between my arms  Barefoot on the grass, listening to our favourite song When you said you looked a mess, I whispered underneath my breath But you heard it, darling, you look perfect \n",
       "<mark class=\"entity\" style=\"background: #bfe1d9; padding: 0.45em 0.6em; margin: 0 0.25em; line-height: 1; border-radius: 0.35em;\">\n",
       "    tonight\n",
       "    <span style=\"font-size: 0.8em; font-weight: bold; line-height: 1; border-radius: 0.35em; vertical-align: middle; margin-left: 0.5rem\">TIME</span>\n",
       "</mark>\n",
       "  Well I found a woman, stronger than anyone I know She shares my dreams, I hope that someday I'll share her home I found a love, to carry more than just my secrets To carry love, to carry children of our own  We are still kids, but we're so in love Fighting against all odds I know we'll be alright this time Darling, just hold my hand Be my girl, I'll be your man I see my future in your eyes  Baby, I'm dancing in the dark, with you between my arms Barefoot on the grass, listening to our favorite song When I saw you in that dress, looking so beautiful I don't deserve this, darling, you look perfect \n",
       "<mark class=\"entity\" style=\"background: #bfe1d9; padding: 0.45em 0.6em; margin: 0 0.25em; line-height: 1; border-radius: 0.35em;\">\n",
       "    tonight\n",
       "    <span style=\"font-size: 0.8em; font-weight: bold; line-height: 1; border-radius: 0.35em; vertical-align: middle; margin-left: 0.5rem\">TIME</span>\n",
       "</mark>\n",
       "  \n",
       "<mark class=\"entity\" style=\"background: #f0d0ff; padding: 0.45em 0.6em; margin: 0 0.25em; line-height: 1; border-radius: 0.35em;\">\n",
       "    Baby\n",
       "    <span style=\"font-size: 0.8em; font-weight: bold; line-height: 1; border-radius: 0.35em; vertical-align: middle; margin-left: 0.5rem\">WORK_OF_ART</span>\n",
       "</mark>\n",
       ", I'm dancing in the dark, with you between my arms Barefoot on the grass, listening to our favorite song I have faith in what I see Now I know I have met an angel in person And she looks perfect I don't deserve this You look perfect \n",
       "<mark class=\"entity\" style=\"background: #bfe1d9; padding: 0.45em 0.6em; margin: 0 0.25em; line-height: 1; border-radius: 0.35em;\">\n",
       "    tonight\n",
       "    <span style=\"font-size: 0.8em; font-weight: bold; line-height: 1; border-radius: 0.35em; vertical-align: middle; margin-left: 0.5rem\">TIME</span>\n",
       "</mark>\n",
       " I wanna follow where she goes I think about her and she knows it I wanna let her take control 'Cause everytime that she gets close, yeah  She pulls me in enough to keep me guessin' And maybe I should stop and start confessin' Confessin', yeah  Oh, I've been shaking I love it when you go crazy You take all my inhibitions Baby, there's nothin' holdin' me back You take me places that tear up my reputation Manipulate my decisions \n",
       "<mark class=\"entity\" style=\"background: #aa9cfc; padding: 0.45em 0.6em; margin: 0 0.25em; line-height: 1; border-radius: 0.35em;\">\n",
       "    Baby\n",
       "    <span style=\"font-size: 0.8em; font-weight: bold; line-height: 1; border-radius: 0.35em; vertical-align: middle; margin-left: 0.5rem\">PERSON</span>\n",
       "</mark>\n",
       ", there's nothin' holdin' me back  There's nothin' holding me back  There's nothin' holding me back  She says that she's never afraid Just picture everybody naked She really doesn't like to wait Not really into hesitation  Pulls me in enough to keep me guessin' And maybe I should stop and start confessin' Confessin', yeah  Oh, I've been shaking I love it when you go crazy You take all my inhibitions Baby, there's nothing holdin' me back You take me places that tear up my reputation Manipulate my decisions \n",
       "<mark class=\"entity\" style=\"background: #aa9cfc; padding: 0.45em 0.6em; margin: 0 0.25em; line-height: 1; border-radius: 0.35em;\">\n",
       "    Baby\n",
       "    <span style=\"font-size: 0.8em; font-weight: bold; line-height: 1; border-radius: 0.35em; vertical-align: middle; margin-left: 0.5rem\">PERSON</span>\n",
       "</mark>\n",
       ", there's nothin' holdin' me back  There's nothin' holdin' me back  'Cause if we lost our minds and we took it way too far I know we'd be alright, I know we would be alright If you were by my side and we stumbled in the dark I know we'd be alright, I know we would be alright 'Cause if we lost our minds and we took it way too far I know we'd be alright, I know we would be alright If you were by my side and we stumbled in the dark I know we'd be alright, we would be alright  Oh, I've been shakin' I love it when you go crazy You take all my inhibitions Baby, there's nothin' holdin' me back You take me places that tear up my reputation Manipulate my decisions \n",
       "<mark class=\"entity\" style=\"background: #aa9cfc; padding: 0.45em 0.6em; margin: 0 0.25em; line-height: 1; border-radius: 0.35em;\">\n",
       "    Baby\n",
       "    <span style=\"font-size: 0.8em; font-weight: bold; line-height: 1; border-radius: 0.35em; vertical-align: middle; margin-left: 0.5rem\">PERSON</span>\n",
       "</mark>\n",
       ", there's nothin' holdin' me back  There's nothin' holdin' me back I feel so free when you're with me, baby Baby, there's nothin' holdin' me back This world can hurt you It cuts you deep and leaves a scar Things fall apart, but nothing breaks like a heart And nothing breaks like a heart  I heard you on the phone last night We live and die by pretty lies You know it, oh, we both know it These silver bullet cigarettes This burning house, there's nothing left  It's smoking, we both know it We got \n",
       "<mark class=\"entity\" style=\"background: #bfe1d9; padding: 0.45em 0.6em; margin: 0 0.25em; line-height: 1; border-radius: 0.35em;\">\n",
       "    all night\n",
       "    <span style=\"font-size: 0.8em; font-weight: bold; line-height: 1; border-radius: 0.35em; vertical-align: middle; margin-left: 0.5rem\">TIME</span>\n",
       "</mark>\n",
       " to fall in love But just like that we fall apart We're broken, we're broken  Mmm, well nothing, nothing, nothing gon' save us now  Well, there's broken silence By thunder crashing in the dark (Crash in the dark) And this broken record Spin endless circles in the bar  (Spin 'round in the bar) This world can hurt you It cuts you deep and leaves a scar Things fall apart, but nothing breaks like a heart Mhmm, and nothing breaks like a heart  We'll leave each other cold as ice And high and dry, the desert wind Is blowing, is blowing Remember what you said to me? We were drunk in love in \n",
       "<mark class=\"entity\" style=\"background: #feca74; padding: 0.45em 0.6em; margin: 0 0.25em; line-height: 1; border-radius: 0.35em;\">\n",
       "    Tennessee\n",
       "    <span style=\"font-size: 0.8em; font-weight: bold; line-height: 1; border-radius: 0.35em; vertical-align: middle; margin-left: 0.5rem\">GPE</span>\n",
       "</mark>\n",
       " And I hold it, we both know it  Mmm, nothing, nothing, nothing gon' save us now Nothing, nothing, nothing gon' save us now  Well, there's broken silence By thunder crashing in the dark (Crash in the dark) And this broken record Spin endless circles in the bar (Spin 'round in the bar)  This world can hurt you It cuts you deep and leaves a scar Things fall apart, but nothing breaks like a heart Mhmm, and nothing breaks like a heart Nothing breaks like a heart Mhmm, and nothing breaks like a heart  (My heart, my heart) Nothing, nothing, nothing gon' save us now (My heart, my heart) Nothing, nothing, nothing gon' save us now  Well, there's broken silence By thunder crashing in the dark (Crash in the dark) And this broken record Spin endless circles in the bar  (Spin 'round in the bar) This world can hurt you It cuts you deep and leaves a scar Things fall apart, but nothing breaks like a heart  Mhmm, but nothing breaks like a heart But nothing breaks like a heart Mhmm, but nothing breaks like a heart \n",
       "<mark class=\"entity\" style=\"background: #aa9cfc; padding: 0.45em 0.6em; margin: 0 0.25em; line-height: 1; border-radius: 0.35em;\">\n",
       "    Billboard Baby\n",
       "    <span style=\"font-size: 0.8em; font-weight: bold; line-height: 1; border-radius: 0.35em; vertical-align: middle; margin-left: 0.5rem\">PERSON</span>\n",
       "</mark>\n",
       ", \n",
       "<mark class=\"entity\" style=\"background: #aa9cfc; padding: 0.45em 0.6em; margin: 0 0.25em; line-height: 1; border-radius: 0.35em;\">\n",
       "    Dua Lipa\n",
       "    <span style=\"font-size: 0.8em; font-weight: bold; line-height: 1; border-radius: 0.35em; vertical-align: middle; margin-left: 0.5rem\">PERSON</span>\n",
       "</mark>\n",
       " make 'em dance when it come on Everybody lookin' for a dance floor to run on  If you wanna run away with me, I know a galaxy And I can take you for a ride I had a premonition that we fell into a rhythm Where the music don't stop for life \n",
       "<mark class=\"entity\" style=\"background: #bfeeb7; padding: 0.45em 0.6em; margin: 0 0.25em; line-height: 1; border-radius: 0.35em;\">\n",
       "    Glitter\n",
       "    <span style=\"font-size: 0.8em; font-weight: bold; line-height: 1; border-radius: 0.35em; vertical-align: middle; margin-left: 0.5rem\">PRODUCT</span>\n",
       "</mark>\n",
       " in the sky, glitter in my eyes Shining just the way I like If you're feeling like you need a little bit of company You met me at the perfect time  You want me, I want you, baby My sugarboo, I'm levitating \n",
       "<mark class=\"entity\" style=\"background: #f0d0ff; padding: 0.45em 0.6em; margin: 0 0.25em; line-height: 1; border-radius: 0.35em;\">\n",
       "    The Milky Way\n",
       "    <span style=\"font-size: 0.8em; font-weight: bold; line-height: 1; border-radius: 0.35em; vertical-align: middle; margin-left: 0.5rem\">WORK_OF_ART</span>\n",
       "</mark>\n",
       ", we're renegading Yeah, yeah, yeah, yeah, yeah  I got you, moonlight, you're my starlight I need you \n",
       "<mark class=\"entity\" style=\"background: #bfe1d9; padding: 0.45em 0.6em; margin: 0 0.25em; line-height: 1; border-radius: 0.35em;\">\n",
       "    all night\n",
       "    <span style=\"font-size: 0.8em; font-weight: bold; line-height: 1; border-radius: 0.35em; vertical-align: middle; margin-left: 0.5rem\">TIME</span>\n",
       "</mark>\n",
       ", come on, dance with me I'm levitating You, moonlight, you're my starlight (you're the moonlight) I need you \n",
       "<mark class=\"entity\" style=\"background: #bfe1d9; padding: 0.45em 0.6em; margin: 0 0.25em; line-height: 1; border-radius: 0.35em;\">\n",
       "    all night\n",
       "    <span style=\"font-size: 0.8em; font-weight: bold; line-height: 1; border-radius: 0.35em; vertical-align: middle; margin-left: 0.5rem\">TIME</span>\n",
       "</mark>\n",
       ", come on, dance with me I'm levitating  I'm one of the greatest, ain't no debatin' on it (let's go) I'm still levitating, I'm heavily medicated \n",
       "<mark class=\"entity\" style=\"background: #7aecec; padding: 0.45em 0.6em; margin: 0 0.25em; line-height: 1; border-radius: 0.35em;\">\n",
       "    Ironic\n",
       "    <span style=\"font-size: 0.8em; font-weight: bold; line-height: 1; border-radius: 0.35em; vertical-align: middle; margin-left: 0.5rem\">ORG</span>\n",
       "</mark>\n",
       " I gave 'em love, and they end up hatin' on me (go) She told me love me, and she been waitin' Been fightin' hard for your love, and I'm runnin' thin on my patience \n",
       "<mark class=\"entity\" style=\"background: #7aecec; padding: 0.45em 0.6em; margin: 0 0.25em; line-height: 1; border-radius: 0.35em;\">\n",
       "    Needin\n",
       "    <span style=\"font-size: 0.8em; font-weight: bold; line-height: 1; border-radius: 0.35em; vertical-align: middle; margin-left: 0.5rem\">ORG</span>\n",
       "</mark>\n",
       "' someone to hug, even took it back to the basics  You see what you got me out here doin'? (Yeah) Might've threw me off, but can't nobody stop the movement (uh-uh) Let's go, left foot, right foot, levitatin' (c'mon) Pop stars (go), \n",
       "<mark class=\"entity\" style=\"background: #aa9cfc; padding: 0.45em 0.6em; margin: 0 0.25em; line-height: 1; border-radius: 0.35em;\">\n",
       "    Dua Lipa\n",
       "    <span style=\"font-size: 0.8em; font-weight: bold; line-height: 1; border-radius: 0.35em; vertical-align: middle; margin-left: 0.5rem\">PERSON</span>\n",
       "</mark>\n",
       " with DaBaby I had to lace my shoes for all the blessings I was chasin' (go) If I ever slip, I fall into a better situation  So catch up, go put some cheese on it Get out and get your bread up (yeah, yeah) They always leaving you far, but you run together (hey) Weight of the world on my shoulders, I kept my head up Now baby stand up, 'cause girl you  You want me, I want you, baby My sugarboo, I'm levitating \n",
       "<mark class=\"entity\" style=\"background: #f0d0ff; padding: 0.45em 0.6em; margin: 0 0.25em; line-height: 1; border-radius: 0.35em;\">\n",
       "    The Milky Way\n",
       "    <span style=\"font-size: 0.8em; font-weight: bold; line-height: 1; border-radius: 0.35em; vertical-align: middle; margin-left: 0.5rem\">WORK_OF_ART</span>\n",
       "</mark>\n",
       ", we're renegading Yeah, yeah, yeah, yeah, yeah  I got you, moonlight, you're my starlight I need you \n",
       "<mark class=\"entity\" style=\"background: #bfe1d9; padding: 0.45em 0.6em; margin: 0 0.25em; line-height: 1; border-radius: 0.35em;\">\n",
       "    all night\n",
       "    <span style=\"font-size: 0.8em; font-weight: bold; line-height: 1; border-radius: 0.35em; vertical-align: middle; margin-left: 0.5rem\">TIME</span>\n",
       "</mark>\n",
       ", come on, dance with me I'm levitating You, moonlight, you're my starlight (you're the moonlight) I need you \n",
       "<mark class=\"entity\" style=\"background: #bfe1d9; padding: 0.45em 0.6em; margin: 0 0.25em; line-height: 1; border-radius: 0.35em;\">\n",
       "    all night\n",
       "    <span style=\"font-size: 0.8em; font-weight: bold; line-height: 1; border-radius: 0.35em; vertical-align: middle; margin-left: 0.5rem\">TIME</span>\n",
       "</mark>\n",
       ", come on, dance with me I'm levitating  You can fly away with me \n",
       "<mark class=\"entity\" style=\"background: #bfe1d9; padding: 0.45em 0.6em; margin: 0 0.25em; line-height: 1; border-radius: 0.35em;\">\n",
       "    tonight\n",
       "    <span style=\"font-size: 0.8em; font-weight: bold; line-height: 1; border-radius: 0.35em; vertical-align: middle; margin-left: 0.5rem\">TIME</span>\n",
       "</mark>\n",
       " You can fly away with me \n",
       "<mark class=\"entity\" style=\"background: #bfe1d9; padding: 0.45em 0.6em; margin: 0 0.25em; line-height: 1; border-radius: 0.35em;\">\n",
       "    tonight\n",
       "    <span style=\"font-size: 0.8em; font-weight: bold; line-height: 1; border-radius: 0.35em; vertical-align: middle; margin-left: 0.5rem\">TIME</span>\n",
       "</mark>\n",
       " Baby, let me take you for a ride Yeah, yeah, yeah, yeah, yeah I'm levitating (woo)  You can fly away with me \n",
       "<mark class=\"entity\" style=\"background: #bfe1d9; padding: 0.45em 0.6em; margin: 0 0.25em; line-height: 1; border-radius: 0.35em;\">\n",
       "    tonight\n",
       "    <span style=\"font-size: 0.8em; font-weight: bold; line-height: 1; border-radius: 0.35em; vertical-align: middle; margin-left: 0.5rem\">TIME</span>\n",
       "</mark>\n",
       " You can fly away with me \n",
       "<mark class=\"entity\" style=\"background: #bfe1d9; padding: 0.45em 0.6em; margin: 0 0.25em; line-height: 1; border-radius: 0.35em;\">\n",
       "    tonight\n",
       "    <span style=\"font-size: 0.8em; font-weight: bold; line-height: 1; border-radius: 0.35em; vertical-align: middle; margin-left: 0.5rem\">TIME</span>\n",
       "</mark>\n",
       " Baby, let me take you for a ride Yeah, yeah, yeah, yeah, yeah (woo)  My love is like a rocket, watch it blast off And I'm feeling so electric, dance my ass off And even if I wanted to, I can't stop Yeah, yeah, yeah, yeah, yeah  My love is like a rocket, watch it blast off And I'm feeling so electric, dance my ass off And even if I wanted to, I can't stop Yeah, yeah, yeah, yeah, yeah  You want me, I want you, baby My sugarboo, I'm levitating \n",
       "<mark class=\"entity\" style=\"background: #f0d0ff; padding: 0.45em 0.6em; margin: 0 0.25em; line-height: 1; border-radius: 0.35em;\">\n",
       "    The Milky Way\n",
       "    <span style=\"font-size: 0.8em; font-weight: bold; line-height: 1; border-radius: 0.35em; vertical-align: middle; margin-left: 0.5rem\">WORK_OF_ART</span>\n",
       "</mark>\n",
       ", we're renegading  I got you, moonlight, you're my starlight I need you \n",
       "<mark class=\"entity\" style=\"background: #bfe1d9; padding: 0.45em 0.6em; margin: 0 0.25em; line-height: 1; border-radius: 0.35em;\">\n",
       "    all night\n",
       "    <span style=\"font-size: 0.8em; font-weight: bold; line-height: 1; border-radius: 0.35em; vertical-align: middle; margin-left: 0.5rem\">TIME</span>\n",
       "</mark>\n",
       " (all night), come on, dance with me (let's go) I'm levitating (woo)  You can fly away with me \n",
       "<mark class=\"entity\" style=\"background: #bfe1d9; padding: 0.45em 0.6em; margin: 0 0.25em; line-height: 1; border-radius: 0.35em;\">\n",
       "    tonight\n",
       "    <span style=\"font-size: 0.8em; font-weight: bold; line-height: 1; border-radius: 0.35em; vertical-align: middle; margin-left: 0.5rem\">TIME</span>\n",
       "</mark>\n",
       " (\n",
       "<mark class=\"entity\" style=\"background: #bfe1d9; padding: 0.45em 0.6em; margin: 0 0.25em; line-height: 1; border-radius: 0.35em;\">\n",
       "    tonight\n",
       "    <span style=\"font-size: 0.8em; font-weight: bold; line-height: 1; border-radius: 0.35em; vertical-align: middle; margin-left: 0.5rem\">TIME</span>\n",
       "</mark>\n",
       ") You can fly away with me \n",
       "<mark class=\"entity\" style=\"background: #bfe1d9; padding: 0.45em 0.6em; margin: 0 0.25em; line-height: 1; border-radius: 0.35em;\">\n",
       "    tonight\n",
       "    <span style=\"font-size: 0.8em; font-weight: bold; line-height: 1; border-radius: 0.35em; vertical-align: middle; margin-left: 0.5rem\">TIME</span>\n",
       "</mark>\n",
       " Baby, let me take you for a ride Yeah, yeah, yeah, yeah, yeah (take you for a ride) I'm levitating (woo)  You can fly away with me \n",
       "<mark class=\"entity\" style=\"background: #bfe1d9; padding: 0.45em 0.6em; margin: 0 0.25em; line-height: 1; border-radius: 0.35em;\">\n",
       "    tonight\n",
       "    <span style=\"font-size: 0.8em; font-weight: bold; line-height: 1; border-radius: 0.35em; vertical-align: middle; margin-left: 0.5rem\">TIME</span>\n",
       "</mark>\n",
       " (\n",
       "<mark class=\"entity\" style=\"background: #bfe1d9; padding: 0.45em 0.6em; margin: 0 0.25em; line-height: 1; border-radius: 0.35em;\">\n",
       "    tonight\n",
       "    <span style=\"font-size: 0.8em; font-weight: bold; line-height: 1; border-radius: 0.35em; vertical-align: middle; margin-left: 0.5rem\">TIME</span>\n",
       "</mark>\n",
       ") You can fly away with me \n",
       "<mark class=\"entity\" style=\"background: #bfe1d9; padding: 0.45em 0.6em; margin: 0 0.25em; line-height: 1; border-radius: 0.35em;\">\n",
       "    tonight\n",
       "    <span style=\"font-size: 0.8em; font-weight: bold; line-height: 1; border-radius: 0.35em; vertical-align: middle; margin-left: 0.5rem\">TIME</span>\n",
       "</mark>\n",
       " Baby, let me take you for a ride Yeah, yeah, yeah, yeah, yeah (let me take you for a ride)  I got you, moonlight, you're my starlight I need you \n",
       "<mark class=\"entity\" style=\"background: #bfe1d9; padding: 0.45em 0.6em; margin: 0 0.25em; line-height: 1; border-radius: 0.35em;\">\n",
       "    all night\n",
       "    <span style=\"font-size: 0.8em; font-weight: bold; line-height: 1; border-radius: 0.35em; vertical-align: middle; margin-left: 0.5rem\">TIME</span>\n",
       "</mark>\n",
       ", come on, dance with me I'm levitating I never thought that I would find a way out I never thought I'd hear my heartbeat so loud I can't believe there's something left in my chest any more But goddamn, you got me in love again  I used to think that I was made out of stone I used to spend so many nights on my own I never knew I had it in me to dance any more But goddamn, you got me in love again  Show me that heaven's right here, baby Touch me, so I know I'm not crazy Never have I ever met somebody like you Used to be afraid of love and what it might do But goddamn, you got me in love again  You got me in love again You got me in love again You got me in love again Again  So many nights, my tears fell harder than rain Scared I would take my broken heart to the grave I'd rather die than have to live in a storm like before But goddamn, you got me in love again  Show me that heaven's right here, baby Touch me, so I know I'm not crazy Never have I ever met somebody like you Used to be afraid of love, and what it might do But goddamn, you got me in love again  You got me in love again You got me in love again You got me in love again, again  I can't believe, I can't believe I finally found someone I'll sink my teeth in disbelief 'Cause you're the one that I want I can't believe, I can't believe I'm not afraid any more Goddamn, you got me in love again  La-la-la, la-la-la La-la-la, la-la-la  I never thought that I would find a way out I never thought I'd hear my heartbeat so loud I can't believe there's something left in my chest any more Oh, goddamn, you got me in love again  (We're in love) (We're in love) (We're in love) (We're in love, oh, oh, oh, oh)  I can't believe, I can't believe I finally found someone I'll sink my teeth in disbelief 'Cause you're the one that I want I can't believe there's something left inside my chest any more But goddamn, you got me in love again  You got me in love again You got me in love again You got me in love again (Again, and again, and again, and again, and again) A broken heart is all that's left I'm still fixing all the cracks Lost a couple of pieces when I carried it, carried it, carried it home I'm afraid of all I am My mind feels like a foreign land Silence ringing inside my head Please, carry me, carry me, carry me home  I've spent all of the love I saved We were always a losing game \n",
       "<mark class=\"entity\" style=\"background: #c887fb; padding: 0.45em 0.6em; margin: 0 0.25em; line-height: 1; border-radius: 0.35em;\">\n",
       "    Small\n",
       "    <span style=\"font-size: 0.8em; font-weight: bold; line-height: 1; border-radius: 0.35em; vertical-align: middle; margin-left: 0.5rem\">NORP</span>\n",
       "</mark>\n",
       " town boy in a big arcade I got addicted to a losing game  Oh, oh-ooh-oh Oh, oh-ooh-oh All I know, all I know Loving you is a losing game  How many pennies in the slot? Giving us up didn't take a lot I saw the end 'fore it begun Still I carried, I carried, I carried on  Oh, oh-ooh-oh Oh, oh-ooh-oh All I know, all I know Loving you is a losing game  Oh, oh-ooh-oh Oh, oh-ooh-oh All I know, all I know Loving you is a losing game  I don't need your games, game over Get me off this rollercoaster Oh, oh-ooh-oh Oh, oh-ooh-oh All I know, all I know Loving you is a losing game  Oh, oh-ooh-oh Oh, oh-ooh-oh All I know, all I know Loving you is a losing game I caught it bad \n",
       "<mark class=\"entity\" style=\"background: #bfe1d9; padding: 0.45em 0.6em; margin: 0 0.25em; line-height: 1; border-radius: 0.35em;\">\n",
       "    yesterday\n",
       "    <span style=\"font-size: 0.8em; font-weight: bold; line-height: 1; border-radius: 0.35em; vertical-align: middle; margin-left: 0.5rem\">DATE</span>\n",
       "</mark>\n",
       " You hit me with a call to your place Ain't been out in a while anyway Was hoping I could catch you throwing smiles in my face  Romantic talking? You don't even have to try You're cute enough to fuck with me \n",
       "<mark class=\"entity\" style=\"background: #bfe1d9; padding: 0.45em 0.6em; margin: 0 0.25em; line-height: 1; border-radius: 0.35em;\">\n",
       "    tonight\n",
       "    <span style=\"font-size: 0.8em; font-weight: bold; line-height: 1; border-radius: 0.35em; vertical-align: middle; margin-left: 0.5rem\">TIME</span>\n",
       "</mark>\n",
       " Looking at the table and I see the reason why \n",
       "<mark class=\"entity\" style=\"background: #bfeeb7; padding: 0.45em 0.6em; margin: 0 0.25em; line-height: 1; border-radius: 0.35em;\">\n",
       "    Baby\n",
       "    <span style=\"font-size: 0.8em; font-weight: bold; line-height: 1; border-radius: 0.35em; vertical-align: middle; margin-left: 0.5rem\">PRODUCT</span>\n",
       "</mark>\n",
       ", you living the life, but nigga, you ain't livin' right  \n",
       "<mark class=\"entity\" style=\"background: #7aecec; padding: 0.45em 0.6em; margin: 0 0.25em; line-height: 1; border-radius: 0.35em;\">\n",
       "    Cocaine\n",
       "    <span style=\"font-size: 0.8em; font-weight: bold; line-height: 1; border-radius: 0.35em; vertical-align: middle; margin-left: 0.5rem\">ORG</span>\n",
       "</mark>\n",
       " and drinking with your friends You live in the dark, boy, I cannot pretend I'm not fazed, only here to sin If Eve ain't in your garden, you know that you can  Call me when you want, call me when you need Call me in the morning, I'll be on the way Call me when you want, call me when you need Call me out by your name, I'll be on the way like  Mmm, mmm, mmm Mmm, mmm, mmm  Ayy, ayy I wanna sell what you're buying I wanna feel on yo' ass in \n",
       "<mark class=\"entity\" style=\"background: #feca74; padding: 0.45em 0.6em; margin: 0 0.25em; line-height: 1; border-radius: 0.35em;\">\n",
       "    Hawaii\n",
       "    <span style=\"font-size: 0.8em; font-weight: bold; line-height: 1; border-radius: 0.35em; vertical-align: middle; margin-left: 0.5rem\">GPE</span>\n",
       "</mark>\n",
       " I want that jet lag from fucking and flying Shoot a child in your mouth while I'm riding  Oh, oh, oh, why me? A sign of the times every time that I speak A dime and a \n",
       "<mark class=\"entity\" style=\"background: #e4e7d2; padding: 0.45em 0.6em; margin: 0 0.25em; line-height: 1; border-radius: 0.35em;\">\n",
       "    nine\n",
       "    <span style=\"font-size: 0.8em; font-weight: bold; line-height: 1; border-radius: 0.35em; vertical-align: middle; margin-left: 0.5rem\">CARDINAL</span>\n",
       "</mark>\n",
       ", it was mine every week What a time, an incline, God was shining on me  Now I can't leave And now I'm acting hella elite Never want the niggas that's in my league I wanna fuck the ones I envy, I envy  \n",
       "<mark class=\"entity\" style=\"background: #7aecec; padding: 0.45em 0.6em; margin: 0 0.25em; line-height: 1; border-radius: 0.35em;\">\n",
       "    Cocaine\n",
       "    <span style=\"font-size: 0.8em; font-weight: bold; line-height: 1; border-radius: 0.35em; vertical-align: middle; margin-left: 0.5rem\">ORG</span>\n",
       "</mark>\n",
       " and drinking with your friends You live in the dark, boy, I cannot pretend I'm not fazed, only here to sin If Eve ain't in your garden, you know that you can  Call me when you want, call me when you need Call me in the morning, I'll be on the way Call me when you want, call me when you need Call me out by your name, I'll be on the way like  Oh, call me by your name (mmm, mmm, mmm) Tell me you love me in private Call me by your name (mmm, mmm, mmm) I do not care if you lying  Well, I'm just feeling, mm-uh I wanna get, mm-uh I'm in my, into my, uh I'm mm, \n",
       "<mark class=\"entity\" style=\"background: #aa9cfc; padding: 0.45em 0.6em; margin: 0 0.25em; line-height: 1; border-radius: 0.35em;\">\n",
       "    mm\n",
       "    <span style=\"font-size: 0.8em; font-weight: bold; line-height: 1; border-radius: 0.35em; vertical-align: middle; margin-left: 0.5rem\">PERSON</span>\n",
       "</mark>\n",
       " I'm still, \n",
       "<mark class=\"entity\" style=\"background: #aa9cfc; padding: 0.45em 0.6em; margin: 0 0.25em; line-height: 1; border-radius: 0.35em;\">\n",
       "    mm\n",
       "    <span style=\"font-size: 0.8em; font-weight: bold; line-height: 1; border-radius: 0.35em; vertical-align: middle; margin-left: 0.5rem\">PERSON</span>\n",
       "</mark>\n",
       ", \n",
       "<mark class=\"entity\" style=\"background: #aa9cfc; padding: 0.45em 0.6em; margin: 0 0.25em; line-height: 1; border-radius: 0.35em;\">\n",
       "    mm-mm\n",
       "    <span style=\"font-size: 0.8em; font-weight: bold; line-height: 1; border-radius: 0.35em; vertical-align: middle; margin-left: 0.5rem\">PERSON</span>\n",
       "</mark>\n",
       ", ooh She ain't got no money Her clothes are kinda funny Her hair is kinda wild and free Ooh, but love grows where my rosemary goes and nobody knows like me  She talks kinda lazy And people say she's crazy And her life's a mystery Oh, but love grows where my rosemary goes and nobody knows like me  There's something about her hand holding mine It's a feeling that's fine And I just gotta say &quot;hey&quot;! She's really got a magical spell And it's working so well that I can't get away  I'm a lucky fella And I've just got to tell her That I love her endlessly Because love grows where my rosemary goes and nobody knows like me  There's something about her hand holding mine It's a feeling that's fine and I just gotta say &quot;hey&quot;! She's really got a magical spell And it's working so well that I can't get away  I'm a lucky fella and I've just got to tell her That I love her endlessly Because love grows where my rosemary goes and nobody knows like me  Oh, but love grows where my rosemary goes and nobody knows like me If you met her you'll never forget her and nobody knows like me</div></span>"
      ],
      "text/plain": [
       "<IPython.core.display.HTML object>"
      ]
     },
     "metadata": {},
     "output_type": "display_data"
    }
   ],
   "source": [
    "# Render the visualization\n",
    "displacy.render(rnb_ner, style='ent')"
   ]
  },
  {
   "cell_type": "code",
   "execution_count": 278,
   "id": "30ab923b-e520-4a36-b5e5-fc61a14b1221",
   "metadata": {},
   "outputs": [
    {
     "name": "stdout",
     "output_type": "stream",
     "text": [
      "Til PERSON\n",
      "Til PERSON\n",
      "Til PERSON\n",
      "Til PERSON\n",
      "Shoorah PERSON\n",
      "Baby PRODUCT\n",
      "first ORDINAL\n",
      "first ORDINAL\n",
      "two days DATE\n",
      "F-U PRODUCT\n",
      "nah GPE\n",
      "nah GPE\n",
      "nah GPE\n",
      "nah GPE\n",
      "nah GPE\n",
      "nah PERSON\n",
      "F-U  You PRODUCT\n",
      "F-U PRODUCT\n",
      "nah GPE\n",
      "nah GPE\n",
      "nah GPE\n",
      "nah GPE\n",
      "nah GPE\n",
      "nah PERSON\n",
      "F-U Nah PRODUCT\n",
      "nah GPE\n",
      "nah GPE\n",
      "nah GPE\n",
      "nah GPE\n",
      "nah GPE\n",
      "nah PERSON\n",
      "F-U PRODUCT\n",
      "One CARDINAL\n",
      "two CARDINAL\n",
      "one CARDINAL\n",
      "two CARDINAL\n",
      "three CARDINAL\n",
      "all day DATE\n",
      "Ooh ORG\n",
      "Mmh PERSON\n",
      "all day DATE\n",
      "Ooh ORG\n",
      "Ooh ORG\n",
      "One CARDINAL\n",
      "two CARDINAL\n",
      "three CARDINAL\n",
      "four CARDINAL\n",
      "tonight TIME\n",
      "late nights DATE\n",
      "Conversations PRODUCT\n",
      "Swearin PERSON\n",
      "two CARDINAL\n",
      "Fallin ORG\n",
      "first ORDINAL\n",
      "late nights DATE\n",
      "Conversations PRODUCT\n",
      "Swearin PERSON\n",
      "two CARDINAL\n",
      "Burned ORG\n",
      "late nights DATE\n",
      "Conversations PRODUCT\n",
      "Swearin PERSON\n",
      "two CARDINAL\n",
      "first ORDINAL\n",
      "날아가 PERSON\n",
      "first ORDINAL\n",
      "first ORDINAL\n",
      "시련도 결국엔 ORG\n",
      "first ORDINAL\n",
      "the middle of the night DATE\n",
      "the middle of the night DATE\n",
      "the middle of the night DATE\n",
      "the middle of the night DATE\n",
      "all night TIME\n",
      "Til morning WORK_OF_ART\n",
      "the middle of the night DATE\n",
      "the middle of the night DATE\n",
      "Wash PERSON\n",
      "the middle of the night DATE\n",
      "the middle of the night DATE\n",
      "the middle of the night DATE\n",
      "the middle of the night DATE\n",
      "all night TIME\n",
      "Til morning WORK_OF_ART\n",
      "the middle of the night DATE\n",
      "the middle of the night DATE\n",
      "the middle of the night DATE\n",
      "the middle of the night DATE\n",
      "the middle of the night DATE\n",
      "the middle of the night DATE\n",
      "all night TIME\n",
      "Til morning WORK_OF_ART\n",
      "the middle of the night DATE\n",
      "the middle of the night DATE\n",
      "Kali Uchis  Oh PERSON\n",
      "Kali PERSON\n",
      "Michael Jackson PERSON\n",
      "Todo el día PERSON\n",
      "Lo PERSON\n",
      "100 CARDINAL\n",
      "Tu lengua en todo PERSON\n",
      "Tu lengua en PERSON\n",
      "Miami GPE\n",
      "Leo PERSON\n",
      "One CARDINAL\n",
      "two CARDINAL\n",
      "three CARDINAL\n",
      "four CARDINAL\n",
      "tonight TIME\n",
      "These days DATE\n",
      "These days DATE\n",
      "Wanna PERSON\n",
      "Wanna PERSON\n",
      "lookin GPE\n",
      "Daddy GPE\n",
      "lookin GPE\n",
      "kinda GPE\n",
      "Baby PRODUCT\n",
      "Countin PERSON\n",
      "a minute TIME\n",
      "seconds TIME\n",
      "kinda GPE\n",
      "Baby PRODUCT\n",
      "kinda GPE\n",
      "Baby PRODUCT\n",
      "kinda GPE\n",
      "Baby PRODUCT\n",
      "Pope PERSON\n",
      "Pope PERSON\n",
      "Hoping GPE\n",
      "a late night TIME\n",
      "EL ORG\n",
      "EL ORG\n",
      "Hoping GPE\n",
      "Photographs PERSON\n",
      "first ORDINAL\n",
      "Love WORK_OF_ART\n",
      "first ORDINAL\n",
      "Love WORK_OF_ART\n",
      "first ORDINAL\n",
      "Love WORK_OF_ART\n",
      "Gucci PERSON\n",
      "3 a.m. TIME\n",
      "ya Got PERSON\n",
      "Sugar Sugar PERSON\n",
      "the night TIME\n",
      "a minute TIME\n",
      "Two CARDINAL\n",
      "Outside PRODUCT\n",
      "Ooh PERSON\n",
      "six feet QUANTITY\n",
      "tonight TIME\n",
      "tonight TIME\n",
      "tonight TIME\n",
      "Last year DATE\n",
      "45th ORDINAL\n",
      "SoHo ORG\n",
      "Last night TIME\n",
      "Rodeo ORG\n",
      "a year DATE\n",
      "Imagine ORG\n",
      "tonight TIME\n",
      "tonight TIME\n",
      "tonight TIME\n",
      "three CARDINAL\n",
      "tonight TIME\n",
      "tonight TIME\n",
      "Tonight TIME\n",
      "Woman PERSON\n",
      "Woman PERSON\n",
      "Woman PERSON\n",
      "Woman PERSON\n",
      "Provide NORP\n",
      "Baby PRODUCT\n",
      "Woman PERSON\n",
      "Woman PERSON\n",
      "Woman PERSON\n",
      "Woman PERSON\n",
      "Regina GPE\n",
      "Mother Earth PERSON\n",
      "eee ORG\n",
      "Eee ORG\n",
      "eee ORG\n",
      "eee ORG\n",
      "Youngblood GPE\n",
      "tomorrow DATE\n",
      "Youngblood GPE\n",
      "tomorrow DATE\n",
      "last spring DATE\n",
      "five in the morning TIME\n",
      "A hundred CARDINAL\n",
      "Ai PRODUCT\n",
      "one night TIME\n",
      "Goodnight WORK_OF_ART\n",
      "Sugar GPE\n",
      "hundreds CARDINAL\n",
      "first ORDINAL\n",
      "Niggas GPE\n",
      "Taste GPE\n",
      "French LANGUAGE\n",
      "two CARDINAL\n",
      "Push PERSON\n",
      "Pussy PERSON\n",
      "half CARDINAL\n",
      "Fantasy GPE\n",
      "every day DATE\n",
      "every weekend DATE\n",
      "every weekend DATE\n",
      "day DATE\n",
      "every weekend DATE\n",
      "every day DATE\n",
      "every weekend DATE\n",
      "day DATE\n",
      "every weekend DATE\n",
      "every day DATE\n",
      "every weekend DATE\n",
      "day DATE\n",
      "every day DATE\n",
      "every weekend DATE\n",
      "day DATE\n",
      "every day DATE\n",
      "every weekend DATE\n",
      "every weekend DATE\n",
      "day DATE\n",
      "every weekend DATE\n",
      "every day DATE\n",
      "every weekend DATE\n",
      "every weekend DATE\n",
      "day DATE\n",
      "every weekend DATE\n",
      "every day DATE\n",
      "every weekend DATE\n",
      "day DATE\n",
      "every day DATE\n",
      "every weekend DATE\n",
      "day DATE\n",
      "every day DATE\n",
      "every weekend DATE\n",
      "day DATE\n",
      "Deep PRODUCT\n",
      "every week DATE\n",
      "every bleeding hour TIME\n",
      "every day of the weekend DATE\n",
      "every day of the weekend DATE\n",
      "every day DATE\n",
      "Every day DATE\n",
      "every day DATE\n",
      "every weekend DATE\n",
      "every weekend DATE\n",
      "day DATE\n",
      "every weekend DATE\n",
      "every day DATE\n",
      "every weekend DATE\n",
      "every weekend DATE\n",
      "day DATE\n",
      "every weekend DATE\n",
      "Every day of the weekend DATE\n",
      "Said PERSON\n",
      "Actin PERSON\n",
      "Said PERSON\n",
      "Said PERSON\n",
      "three CARDINAL\n",
      "Porsche ORG\n",
      "today DATE\n",
      "today DATE\n",
      "today DATE\n",
      "Porsche ORG\n",
      "today DATE\n",
      "today DATE\n",
      "today DATE\n",
      "today DATE\n",
      "today DATE\n",
      "Porsche ORG\n",
      "today DATE\n",
      "today DATE\n",
      "today DATE\n",
      "today DATE\n",
      "today DATE\n",
      "tonight TIME\n",
      "Baby PERSON\n",
      "Baby PERSON\n",
      "Baby PERSON\n",
      "Baby PERSON\n",
      "all night TIME\n",
      "ten CARDINAL\n",
      "five CARDINAL\n",
      "five CARDINAL\n",
      "Baby PERSON\n",
      "yuh PERSON\n",
      "yuh PERSON\n",
      "yuh PERSON\n",
      "Itching PERSON\n",
      "Need PERSON\n",
      "Chuck E. PERSON\n",
      "all night TIME\n",
      "Poof PERSON\n",
      "ten CARDINAL\n",
      "ten CARDINAL\n",
      "one night TIME\n",
      "Spank NORP\n",
      "all night TIME\n",
      "a couple weeks DATE\n",
      "the night TIME\n",
      "Baby PRODUCT\n",
      "the night TIME\n",
      "the night TIME\n",
      "Love WORK_OF_ART\n",
      "Wanna PERSON\n",
      "Someday PERSON\n",
      "Ohhh ORG\n",
      "last week DATE\n",
      "today DATE\n",
      "today DATE\n",
      "today DATE\n",
      "tonight TIME\n",
      "tonight TIME\n",
      "Baby WORK_OF_ART\n",
      "tonight TIME\n",
      "Baby PERSON\n",
      "Baby PERSON\n",
      "Baby PERSON\n",
      "all night TIME\n",
      "Tennessee GPE\n",
      "Billboard Baby PERSON\n",
      "Dua Lipa PERSON\n",
      "Glitter PRODUCT\n",
      "The Milky Way WORK_OF_ART\n",
      "all night TIME\n",
      "all night TIME\n",
      "Ironic ORG\n",
      "Needin ORG\n",
      "Dua Lipa PERSON\n",
      "The Milky Way WORK_OF_ART\n",
      "all night TIME\n",
      "all night TIME\n",
      "tonight TIME\n",
      "tonight TIME\n",
      "tonight TIME\n",
      "tonight TIME\n",
      "The Milky Way WORK_OF_ART\n",
      "all night TIME\n",
      "tonight TIME\n",
      "tonight TIME\n",
      "tonight TIME\n",
      "tonight TIME\n",
      "tonight TIME\n",
      "tonight TIME\n",
      "all night TIME\n",
      "Small NORP\n",
      "yesterday DATE\n",
      "tonight TIME\n",
      "Baby PRODUCT\n",
      "Cocaine ORG\n",
      "Hawaii GPE\n",
      "nine CARDINAL\n",
      "Cocaine ORG\n",
      "mm PERSON\n",
      "mm PERSON\n",
      "mm-mm PERSON\n"
     ]
    }
   ],
   "source": [
    "# List all Entities\n",
    "for ent in rnb_ner.ents:\n",
    "    print(ent.text, ent.label_)"
   ]
  },
  {
   "cell_type": "code",
   "execution_count": 279,
   "id": "5dc891ce-6033-4703-bd14-8a250b4ea629",
   "metadata": {},
   "outputs": [
    {
     "data": {
      "text/html": [
       "<div>\n",
       "<style scoped>\n",
       "    .dataframe tbody tr th:only-of-type {\n",
       "        vertical-align: middle;\n",
       "    }\n",
       "\n",
       "    .dataframe tbody tr th {\n",
       "        vertical-align: top;\n",
       "    }\n",
       "\n",
       "    .dataframe thead th {\n",
       "        text-align: right;\n",
       "    }\n",
       "</style>\n",
       "<table border=\"1\" class=\"dataframe\">\n",
       "  <thead>\n",
       "    <tr style=\"text-align: right;\">\n",
       "      <th></th>\n",
       "      <th>Frequency</th>\n",
       "      <th>Label</th>\n",
       "    </tr>\n",
       "  </thead>\n",
       "  <tbody>\n",
       "    <tr>\n",
       "      <th>tonight</th>\n",
       "      <td>25</td>\n",
       "      <td>TIME</td>\n",
       "    </tr>\n",
       "    <tr>\n",
       "      <th>every weekend</th>\n",
       "      <td>22</td>\n",
       "      <td>DATE</td>\n",
       "    </tr>\n",
       "    <tr>\n",
       "      <th>the middle of the night</th>\n",
       "      <td>18</td>\n",
       "      <td>DATE</td>\n",
       "    </tr>\n",
       "    <tr>\n",
       "      <th>nah</th>\n",
       "      <td>18</td>\n",
       "      <td>GPE</td>\n",
       "    </tr>\n",
       "    <tr>\n",
       "      <th>Baby</th>\n",
       "      <td>17</td>\n",
       "      <td>PRODUCT</td>\n",
       "    </tr>\n",
       "    <tr>\n",
       "      <th>...</th>\n",
       "      <td>...</td>\n",
       "      <td>...</td>\n",
       "    </tr>\n",
       "    <tr>\n",
       "      <th>Sugar Sugar</th>\n",
       "      <td>1</td>\n",
       "      <td>PERSON</td>\n",
       "    </tr>\n",
       "    <tr>\n",
       "      <th>ya Got</th>\n",
       "      <td>1</td>\n",
       "      <td>PERSON</td>\n",
       "    </tr>\n",
       "    <tr>\n",
       "      <th>3 a.m.</th>\n",
       "      <td>1</td>\n",
       "      <td>TIME</td>\n",
       "    </tr>\n",
       "    <tr>\n",
       "      <th>Gucci</th>\n",
       "      <td>1</td>\n",
       "      <td>PERSON</td>\n",
       "    </tr>\n",
       "    <tr>\n",
       "      <th>mm-mm</th>\n",
       "      <td>1</td>\n",
       "      <td>PERSON</td>\n",
       "    </tr>\n",
       "  </tbody>\n",
       "</table>\n",
       "<p>131 rows × 2 columns</p>\n",
       "</div>"
      ],
      "text/plain": [
       "                         Frequency    Label\n",
       "tonight                         25     TIME\n",
       "every weekend                   22     DATE\n",
       "the middle of the night         18     DATE\n",
       "nah                             18      GPE\n",
       "Baby                            17  PRODUCT\n",
       "...                            ...      ...\n",
       "Sugar Sugar                      1   PERSON\n",
       "ya Got                           1   PERSON\n",
       "3 a.m.                           1     TIME\n",
       "Gucci                            1   PERSON\n",
       "mm-mm                            1   PERSON\n",
       "\n",
       "[131 rows x 2 columns]"
      ]
     },
     "execution_count": 279,
     "metadata": {},
     "output_type": "execute_result"
    }
   ],
   "source": [
    "# List all Entities\n",
    "\n",
    "ent_labels=[]\n",
    "entities=[]\n",
    "\n",
    "for ent in rnb_ner.ents:\n",
    "    ent_labels.append(ent.label_)\n",
    "    entities.append(ent.text)\n",
    "\n",
    "# Obtain frequency for each named entity\n",
    "\n",
    "entities_freq = pd.DataFrame.from_dict([Counter(entities)]).T\n",
    "entities_freq.columns = ['Frequency']\n",
    "entities_freq.sort_values(by= 'Frequency', ascending=False, inplace = True)\n",
    "\n",
    "\n",
    "# Retrieve labels for unique named entities\n",
    "\n",
    "unique_nes = entities_freq.index.tolist()\n",
    "\n",
    "labels = []\n",
    "\n",
    "for word in unique_nes:\n",
    "    idx = entities.index(word)\n",
    "    label = ent_labels[idx]\n",
    "    labels.append(label)\n",
    "\n",
    "entities_freq['Label'] = labels\n",
    "\n",
    "entities_freq"
   ]
  },
  {
   "cell_type": "code",
   "execution_count": 280,
   "id": "d07bf084-7dbc-4859-876e-229cd9c91b5d",
   "metadata": {},
   "outputs": [
    {
     "data": {
      "text/html": [
       "<div>\n",
       "<style scoped>\n",
       "    .dataframe tbody tr th:only-of-type {\n",
       "        vertical-align: middle;\n",
       "    }\n",
       "\n",
       "    .dataframe tbody tr th {\n",
       "        vertical-align: top;\n",
       "    }\n",
       "\n",
       "    .dataframe thead th {\n",
       "        text-align: right;\n",
       "    }\n",
       "</style>\n",
       "<table border=\"1\" class=\"dataframe\">\n",
       "  <thead>\n",
       "    <tr style=\"text-align: right;\">\n",
       "      <th></th>\n",
       "      <th>Named_Entity</th>\n",
       "      <th>Count</th>\n",
       "    </tr>\n",
       "  </thead>\n",
       "  <tbody>\n",
       "    <tr>\n",
       "      <th>0</th>\n",
       "      <td>DATE</td>\n",
       "      <td>100</td>\n",
       "    </tr>\n",
       "    <tr>\n",
       "      <th>1</th>\n",
       "      <td>PERSON</td>\n",
       "      <td>70</td>\n",
       "    </tr>\n",
       "    <tr>\n",
       "      <th>2</th>\n",
       "      <td>TIME</td>\n",
       "      <td>53</td>\n",
       "    </tr>\n",
       "    <tr>\n",
       "      <th>3</th>\n",
       "      <td>GPE</td>\n",
       "      <td>34</td>\n",
       "    </tr>\n",
       "    <tr>\n",
       "      <th>4</th>\n",
       "      <td>CARDINAL</td>\n",
       "      <td>30</td>\n",
       "    </tr>\n",
       "  </tbody>\n",
       "</table>\n",
       "</div>"
      ],
      "text/plain": [
       "  Named_Entity  Count\n",
       "0         DATE    100\n",
       "1       PERSON     70\n",
       "2         TIME     53\n",
       "3          GPE     34\n",
       "4     CARDINAL     30"
      ]
     },
     "execution_count": 280,
     "metadata": {},
     "output_type": "execute_result"
    }
   ],
   "source": [
    "# Bar chart of frequencies of Named Entities\n",
    "\n",
    "entities_count = pd.DataFrame.from_dict([Counter(ent_labels)]).T\n",
    "entities_count.columns = ['Count']\n",
    "\n",
    "entities_count.sort_values('Count',inplace=True, ascending=False)\n",
    "\n",
    "entities_count.reset_index(inplace=True)\n",
    "entities_count = entities_count.rename(columns = {'index':'Named_Entity'})\n",
    "\n",
    "entities_count.head()"
   ]
  },
  {
   "cell_type": "code",
   "execution_count": 281,
   "id": "b8c05568-e5a6-4920-a6a8-f93d019a95e3",
   "metadata": {},
   "outputs": [
    {
     "data": {
      "application/vnd.plotly.v1+json": {
       "config": {
        "plotlyServerURL": "https://plot.ly"
       },
       "data": [
        {
         "alignmentgroup": "True",
         "hovertemplate": "Named_Entity=%{x}<br>Count=%{marker.color}<extra></extra>",
         "legendgroup": "",
         "marker": {
          "color": [
           100,
           70,
           53,
           34,
           30,
           23,
           20,
           12,
           12,
           3,
           1,
           1
          ],
          "coloraxis": "coloraxis",
          "pattern": {
           "shape": ""
          }
         },
         "name": "",
         "offsetgroup": "",
         "orientation": "v",
         "showlegend": false,
         "textposition": "auto",
         "type": "bar",
         "x": [
          "DATE",
          "PERSON",
          "TIME",
          "GPE",
          "CARDINAL",
          "ORG",
          "PRODUCT",
          "ORDINAL",
          "WORK_OF_ART",
          "NORP",
          "QUANTITY",
          "LANGUAGE"
         ],
         "xaxis": "x",
         "y": [
          100,
          70,
          53,
          34,
          30,
          23,
          20,
          12,
          12,
          3,
          1,
          1
         ],
         "yaxis": "y"
        }
       ],
       "layout": {
        "autosize": true,
        "barmode": "relative",
        "coloraxis": {
         "colorbar": {
          "title": {
           "text": "Count"
          }
         },
         "colorscale": [
          [
           0,
           "rgb(211, 242, 163)"
          ],
          [
           0.16666666666666666,
           "rgb(151, 225, 150)"
          ],
          [
           0.3333333333333333,
           "rgb(108, 192, 139)"
          ],
          [
           0.5,
           "rgb(76, 155, 130)"
          ],
          [
           0.6666666666666666,
           "rgb(33, 122, 121)"
          ],
          [
           0.8333333333333334,
           "rgb(16, 89, 101)"
          ],
          [
           1,
           "rgb(7, 64, 80)"
          ]
         ]
        },
        "legend": {
         "tracegroupgap": 0
        },
        "template": {
         "data": {
          "bar": [
           {
            "error_x": {
             "color": "#2a3f5f"
            },
            "error_y": {
             "color": "#2a3f5f"
            },
            "marker": {
             "line": {
              "color": "#E5ECF6",
              "width": 0.5
             },
             "pattern": {
              "fillmode": "overlay",
              "size": 10,
              "solidity": 0.2
             }
            },
            "type": "bar"
           }
          ],
          "barpolar": [
           {
            "marker": {
             "line": {
              "color": "#E5ECF6",
              "width": 0.5
             },
             "pattern": {
              "fillmode": "overlay",
              "size": 10,
              "solidity": 0.2
             }
            },
            "type": "barpolar"
           }
          ],
          "carpet": [
           {
            "aaxis": {
             "endlinecolor": "#2a3f5f",
             "gridcolor": "white",
             "linecolor": "white",
             "minorgridcolor": "white",
             "startlinecolor": "#2a3f5f"
            },
            "baxis": {
             "endlinecolor": "#2a3f5f",
             "gridcolor": "white",
             "linecolor": "white",
             "minorgridcolor": "white",
             "startlinecolor": "#2a3f5f"
            },
            "type": "carpet"
           }
          ],
          "choropleth": [
           {
            "colorbar": {
             "outlinewidth": 0,
             "ticks": ""
            },
            "type": "choropleth"
           }
          ],
          "contour": [
           {
            "colorbar": {
             "outlinewidth": 0,
             "ticks": ""
            },
            "colorscale": [
             [
              0,
              "#0d0887"
             ],
             [
              0.1111111111111111,
              "#46039f"
             ],
             [
              0.2222222222222222,
              "#7201a8"
             ],
             [
              0.3333333333333333,
              "#9c179e"
             ],
             [
              0.4444444444444444,
              "#bd3786"
             ],
             [
              0.5555555555555556,
              "#d8576b"
             ],
             [
              0.6666666666666666,
              "#ed7953"
             ],
             [
              0.7777777777777778,
              "#fb9f3a"
             ],
             [
              0.8888888888888888,
              "#fdca26"
             ],
             [
              1,
              "#f0f921"
             ]
            ],
            "type": "contour"
           }
          ],
          "contourcarpet": [
           {
            "colorbar": {
             "outlinewidth": 0,
             "ticks": ""
            },
            "type": "contourcarpet"
           }
          ],
          "heatmap": [
           {
            "colorbar": {
             "outlinewidth": 0,
             "ticks": ""
            },
            "colorscale": [
             [
              0,
              "#0d0887"
             ],
             [
              0.1111111111111111,
              "#46039f"
             ],
             [
              0.2222222222222222,
              "#7201a8"
             ],
             [
              0.3333333333333333,
              "#9c179e"
             ],
             [
              0.4444444444444444,
              "#bd3786"
             ],
             [
              0.5555555555555556,
              "#d8576b"
             ],
             [
              0.6666666666666666,
              "#ed7953"
             ],
             [
              0.7777777777777778,
              "#fb9f3a"
             ],
             [
              0.8888888888888888,
              "#fdca26"
             ],
             [
              1,
              "#f0f921"
             ]
            ],
            "type": "heatmap"
           }
          ],
          "heatmapgl": [
           {
            "colorbar": {
             "outlinewidth": 0,
             "ticks": ""
            },
            "colorscale": [
             [
              0,
              "#0d0887"
             ],
             [
              0.1111111111111111,
              "#46039f"
             ],
             [
              0.2222222222222222,
              "#7201a8"
             ],
             [
              0.3333333333333333,
              "#9c179e"
             ],
             [
              0.4444444444444444,
              "#bd3786"
             ],
             [
              0.5555555555555556,
              "#d8576b"
             ],
             [
              0.6666666666666666,
              "#ed7953"
             ],
             [
              0.7777777777777778,
              "#fb9f3a"
             ],
             [
              0.8888888888888888,
              "#fdca26"
             ],
             [
              1,
              "#f0f921"
             ]
            ],
            "type": "heatmapgl"
           }
          ],
          "histogram": [
           {
            "marker": {
             "pattern": {
              "fillmode": "overlay",
              "size": 10,
              "solidity": 0.2
             }
            },
            "type": "histogram"
           }
          ],
          "histogram2d": [
           {
            "colorbar": {
             "outlinewidth": 0,
             "ticks": ""
            },
            "colorscale": [
             [
              0,
              "#0d0887"
             ],
             [
              0.1111111111111111,
              "#46039f"
             ],
             [
              0.2222222222222222,
              "#7201a8"
             ],
             [
              0.3333333333333333,
              "#9c179e"
             ],
             [
              0.4444444444444444,
              "#bd3786"
             ],
             [
              0.5555555555555556,
              "#d8576b"
             ],
             [
              0.6666666666666666,
              "#ed7953"
             ],
             [
              0.7777777777777778,
              "#fb9f3a"
             ],
             [
              0.8888888888888888,
              "#fdca26"
             ],
             [
              1,
              "#f0f921"
             ]
            ],
            "type": "histogram2d"
           }
          ],
          "histogram2dcontour": [
           {
            "colorbar": {
             "outlinewidth": 0,
             "ticks": ""
            },
            "colorscale": [
             [
              0,
              "#0d0887"
             ],
             [
              0.1111111111111111,
              "#46039f"
             ],
             [
              0.2222222222222222,
              "#7201a8"
             ],
             [
              0.3333333333333333,
              "#9c179e"
             ],
             [
              0.4444444444444444,
              "#bd3786"
             ],
             [
              0.5555555555555556,
              "#d8576b"
             ],
             [
              0.6666666666666666,
              "#ed7953"
             ],
             [
              0.7777777777777778,
              "#fb9f3a"
             ],
             [
              0.8888888888888888,
              "#fdca26"
             ],
             [
              1,
              "#f0f921"
             ]
            ],
            "type": "histogram2dcontour"
           }
          ],
          "mesh3d": [
           {
            "colorbar": {
             "outlinewidth": 0,
             "ticks": ""
            },
            "type": "mesh3d"
           }
          ],
          "parcoords": [
           {
            "line": {
             "colorbar": {
              "outlinewidth": 0,
              "ticks": ""
             }
            },
            "type": "parcoords"
           }
          ],
          "pie": [
           {
            "automargin": true,
            "type": "pie"
           }
          ],
          "scatter": [
           {
            "marker": {
             "colorbar": {
              "outlinewidth": 0,
              "ticks": ""
             }
            },
            "type": "scatter"
           }
          ],
          "scatter3d": [
           {
            "line": {
             "colorbar": {
              "outlinewidth": 0,
              "ticks": ""
             }
            },
            "marker": {
             "colorbar": {
              "outlinewidth": 0,
              "ticks": ""
             }
            },
            "type": "scatter3d"
           }
          ],
          "scattercarpet": [
           {
            "marker": {
             "colorbar": {
              "outlinewidth": 0,
              "ticks": ""
             }
            },
            "type": "scattercarpet"
           }
          ],
          "scattergeo": [
           {
            "marker": {
             "colorbar": {
              "outlinewidth": 0,
              "ticks": ""
             }
            },
            "type": "scattergeo"
           }
          ],
          "scattergl": [
           {
            "marker": {
             "colorbar": {
              "outlinewidth": 0,
              "ticks": ""
             }
            },
            "type": "scattergl"
           }
          ],
          "scattermapbox": [
           {
            "marker": {
             "colorbar": {
              "outlinewidth": 0,
              "ticks": ""
             }
            },
            "type": "scattermapbox"
           }
          ],
          "scatterpolar": [
           {
            "marker": {
             "colorbar": {
              "outlinewidth": 0,
              "ticks": ""
             }
            },
            "type": "scatterpolar"
           }
          ],
          "scatterpolargl": [
           {
            "marker": {
             "colorbar": {
              "outlinewidth": 0,
              "ticks": ""
             }
            },
            "type": "scatterpolargl"
           }
          ],
          "scatterternary": [
           {
            "marker": {
             "colorbar": {
              "outlinewidth": 0,
              "ticks": ""
             }
            },
            "type": "scatterternary"
           }
          ],
          "surface": [
           {
            "colorbar": {
             "outlinewidth": 0,
             "ticks": ""
            },
            "colorscale": [
             [
              0,
              "#0d0887"
             ],
             [
              0.1111111111111111,
              "#46039f"
             ],
             [
              0.2222222222222222,
              "#7201a8"
             ],
             [
              0.3333333333333333,
              "#9c179e"
             ],
             [
              0.4444444444444444,
              "#bd3786"
             ],
             [
              0.5555555555555556,
              "#d8576b"
             ],
             [
              0.6666666666666666,
              "#ed7953"
             ],
             [
              0.7777777777777778,
              "#fb9f3a"
             ],
             [
              0.8888888888888888,
              "#fdca26"
             ],
             [
              1,
              "#f0f921"
             ]
            ],
            "type": "surface"
           }
          ],
          "table": [
           {
            "cells": {
             "fill": {
              "color": "#EBF0F8"
             },
             "line": {
              "color": "white"
             }
            },
            "header": {
             "fill": {
              "color": "#C8D4E3"
             },
             "line": {
              "color": "white"
             }
            },
            "type": "table"
           }
          ]
         },
         "layout": {
          "annotationdefaults": {
           "arrowcolor": "#2a3f5f",
           "arrowhead": 0,
           "arrowwidth": 1
          },
          "autotypenumbers": "strict",
          "coloraxis": {
           "colorbar": {
            "outlinewidth": 0,
            "ticks": ""
           }
          },
          "colorscale": {
           "diverging": [
            [
             0,
             "#8e0152"
            ],
            [
             0.1,
             "#c51b7d"
            ],
            [
             0.2,
             "#de77ae"
            ],
            [
             0.3,
             "#f1b6da"
            ],
            [
             0.4,
             "#fde0ef"
            ],
            [
             0.5,
             "#f7f7f7"
            ],
            [
             0.6,
             "#e6f5d0"
            ],
            [
             0.7,
             "#b8e186"
            ],
            [
             0.8,
             "#7fbc41"
            ],
            [
             0.9,
             "#4d9221"
            ],
            [
             1,
             "#276419"
            ]
           ],
           "sequential": [
            [
             0,
             "#0d0887"
            ],
            [
             0.1111111111111111,
             "#46039f"
            ],
            [
             0.2222222222222222,
             "#7201a8"
            ],
            [
             0.3333333333333333,
             "#9c179e"
            ],
            [
             0.4444444444444444,
             "#bd3786"
            ],
            [
             0.5555555555555556,
             "#d8576b"
            ],
            [
             0.6666666666666666,
             "#ed7953"
            ],
            [
             0.7777777777777778,
             "#fb9f3a"
            ],
            [
             0.8888888888888888,
             "#fdca26"
            ],
            [
             1,
             "#f0f921"
            ]
           ],
           "sequentialminus": [
            [
             0,
             "#0d0887"
            ],
            [
             0.1111111111111111,
             "#46039f"
            ],
            [
             0.2222222222222222,
             "#7201a8"
            ],
            [
             0.3333333333333333,
             "#9c179e"
            ],
            [
             0.4444444444444444,
             "#bd3786"
            ],
            [
             0.5555555555555556,
             "#d8576b"
            ],
            [
             0.6666666666666666,
             "#ed7953"
            ],
            [
             0.7777777777777778,
             "#fb9f3a"
            ],
            [
             0.8888888888888888,
             "#fdca26"
            ],
            [
             1,
             "#f0f921"
            ]
           ]
          },
          "colorway": [
           "#636efa",
           "#EF553B",
           "#00cc96",
           "#ab63fa",
           "#FFA15A",
           "#19d3f3",
           "#FF6692",
           "#B6E880",
           "#FF97FF",
           "#FECB52"
          ],
          "font": {
           "color": "#2a3f5f"
          },
          "geo": {
           "bgcolor": "white",
           "lakecolor": "white",
           "landcolor": "#E5ECF6",
           "showlakes": true,
           "showland": true,
           "subunitcolor": "white"
          },
          "hoverlabel": {
           "align": "left"
          },
          "hovermode": "closest",
          "mapbox": {
           "style": "light"
          },
          "paper_bgcolor": "white",
          "plot_bgcolor": "#E5ECF6",
          "polar": {
           "angularaxis": {
            "gridcolor": "white",
            "linecolor": "white",
            "ticks": ""
           },
           "bgcolor": "#E5ECF6",
           "radialaxis": {
            "gridcolor": "white",
            "linecolor": "white",
            "ticks": ""
           }
          },
          "scene": {
           "xaxis": {
            "backgroundcolor": "#E5ECF6",
            "gridcolor": "white",
            "gridwidth": 2,
            "linecolor": "white",
            "showbackground": true,
            "ticks": "",
            "zerolinecolor": "white"
           },
           "yaxis": {
            "backgroundcolor": "#E5ECF6",
            "gridcolor": "white",
            "gridwidth": 2,
            "linecolor": "white",
            "showbackground": true,
            "ticks": "",
            "zerolinecolor": "white"
           },
           "zaxis": {
            "backgroundcolor": "#E5ECF6",
            "gridcolor": "white",
            "gridwidth": 2,
            "linecolor": "white",
            "showbackground": true,
            "ticks": "",
            "zerolinecolor": "white"
           }
          },
          "shapedefaults": {
           "line": {
            "color": "#2a3f5f"
           }
          },
          "ternary": {
           "aaxis": {
            "gridcolor": "white",
            "linecolor": "white",
            "ticks": ""
           },
           "baxis": {
            "gridcolor": "white",
            "linecolor": "white",
            "ticks": ""
           },
           "bgcolor": "#E5ECF6",
           "caxis": {
            "gridcolor": "white",
            "linecolor": "white",
            "ticks": ""
           }
          },
          "title": {
           "x": 0.05
          },
          "xaxis": {
           "automargin": true,
           "gridcolor": "white",
           "linecolor": "white",
           "ticks": "",
           "title": {
            "standoff": 15
           },
           "zerolinecolor": "white",
           "zerolinewidth": 2
          },
          "yaxis": {
           "automargin": true,
           "gridcolor": "white",
           "linecolor": "white",
           "ticks": "",
           "title": {
            "standoff": 15
           },
           "zerolinecolor": "white",
           "zerolinewidth": 2
          }
         }
        },
        "title": {
         "text": "Top Named Entities found in POP Songs"
        },
        "xaxis": {
         "anchor": "y",
         "autorange": true,
         "domain": [
          0,
          1
         ],
         "range": [
          -0.5,
          11.5
         ],
         "title": {
          "text": "Named_Entity"
         },
         "type": "category"
        },
        "yaxis": {
         "anchor": "x",
         "autorange": true,
         "domain": [
          0,
          1
         ],
         "range": [
          0,
          105.26315789473684
         ],
         "title": {
          "text": "Count"
         },
         "type": "linear"
        }
       }
      },
      "image/png": "[encoded data removed]",
      "text/html": [
       "<div>                            <div id=\"49bc79c6-e96f-484a-af33-67ebf395dc4e\" class=\"plotly-graph-div\" style=\"height:525px; width:100%;\"></div>            <script type=\"text/javascript\">                require([\"plotly\"], function(Plotly) {                    window.PLOTLYENV=window.PLOTLYENV || {};                                    if (document.getElementById(\"49bc79c6-e96f-484a-af33-67ebf395dc4e\")) {                    Plotly.newPlot(                        \"49bc79c6-e96f-484a-af33-67ebf395dc4e\",                        [{\"alignmentgroup\":\"True\",\"hovertemplate\":\"Named_Entity=%{x}<br>Count=%{marker.color}<extra></extra>\",\"legendgroup\":\"\",\"marker\":{\"color\":[100,70,53,34,30,23,20,12,12,3,1,1],\"coloraxis\":\"coloraxis\",\"pattern\":{\"shape\":\"\"}},\"name\":\"\",\"offsetgroup\":\"\",\"orientation\":\"v\",\"showlegend\":false,\"textposition\":\"auto\",\"type\":\"bar\",\"x\":[\"DATE\",\"PERSON\",\"TIME\",\"GPE\",\"CARDINAL\",\"ORG\",\"PRODUCT\",\"ORDINAL\",\"WORK_OF_ART\",\"NORP\",\"QUANTITY\",\"LANGUAGE\"],\"xaxis\":\"x\",\"y\":[100,70,53,34,30,23,20,12,12,3,1,1],\"yaxis\":\"y\"}],                        {\"barmode\":\"relative\",\"coloraxis\":{\"colorbar\":{\"title\":{\"text\":\"Count\"}},\"colorscale\":[[0.0,\"rgb(211, 242, 163)\"],[0.16666666666666666,\"rgb(151, 225, 150)\"],[0.3333333333333333,\"rgb(108, 192, 139)\"],[0.5,\"rgb(76, 155, 130)\"],[0.6666666666666666,\"rgb(33, 122, 121)\"],[0.8333333333333334,\"rgb(16, 89, 101)\"],[1.0,\"rgb(7, 64, 80)\"]]},\"legend\":{\"tracegroupgap\":0},\"template\":{\"data\":{\"bar\":[{\"error_x\":{\"color\":\"#2a3f5f\"},\"error_y\":{\"color\":\"#2a3f5f\"},\"marker\":{\"line\":{\"color\":\"#E5ECF6\",\"width\":0.5},\"pattern\":{\"fillmode\":\"overlay\",\"size\":10,\"solidity\":0.2}},\"type\":\"bar\"}],\"barpolar\":[{\"marker\":{\"line\":{\"color\":\"#E5ECF6\",\"width\":0.5},\"pattern\":{\"fillmode\":\"overlay\",\"size\":10,\"solidity\":0.2}},\"type\":\"barpolar\"}],\"carpet\":[{\"aaxis\":{\"endlinecolor\":\"#2a3f5f\",\"gridcolor\":\"white\",\"linecolor\":\"white\",\"minorgridcolor\":\"white\",\"startlinecolor\":\"#2a3f5f\"},\"baxis\":{\"endlinecolor\":\"#2a3f5f\",\"gridcolor\":\"white\",\"linecolor\":\"white\",\"minorgridcolor\":\"white\",\"startlinecolor\":\"#2a3f5f\"},\"type\":\"carpet\"}],\"choropleth\":[{\"colorbar\":{\"outlinewidth\":0,\"ticks\":\"\"},\"type\":\"choropleth\"}],\"contour\":[{\"colorbar\":{\"outlinewidth\":0,\"ticks\":\"\"},\"colorscale\":[[0.0,\"#0d0887\"],[0.1111111111111111,\"#46039f\"],[0.2222222222222222,\"#7201a8\"],[0.3333333333333333,\"#9c179e\"],[0.4444444444444444,\"#bd3786\"],[0.5555555555555556,\"#d8576b\"],[0.6666666666666666,\"#ed7953\"],[0.7777777777777778,\"#fb9f3a\"],[0.8888888888888888,\"#fdca26\"],[1.0,\"#f0f921\"]],\"type\":\"contour\"}],\"contourcarpet\":[{\"colorbar\":{\"outlinewidth\":0,\"ticks\":\"\"},\"type\":\"contourcarpet\"}],\"heatmap\":[{\"colorbar\":{\"outlinewidth\":0,\"ticks\":\"\"},\"colorscale\":[[0.0,\"#0d0887\"],[0.1111111111111111,\"#46039f\"],[0.2222222222222222,\"#7201a8\"],[0.3333333333333333,\"#9c179e\"],[0.4444444444444444,\"#bd3786\"],[0.5555555555555556,\"#d8576b\"],[0.6666666666666666,\"#ed7953\"],[0.7777777777777778,\"#fb9f3a\"],[0.8888888888888888,\"#fdca26\"],[1.0,\"#f0f921\"]],\"type\":\"heatmap\"}],\"heatmapgl\":[{\"colorbar\":{\"outlinewidth\":0,\"ticks\":\"\"},\"colorscale\":[[0.0,\"#0d0887\"],[0.1111111111111111,\"#46039f\"],[0.2222222222222222,\"#7201a8\"],[0.3333333333333333,\"#9c179e\"],[0.4444444444444444,\"#bd3786\"],[0.5555555555555556,\"#d8576b\"],[0.6666666666666666,\"#ed7953\"],[0.7777777777777778,\"#fb9f3a\"],[0.8888888888888888,\"#fdca26\"],[1.0,\"#f0f921\"]],\"type\":\"heatmapgl\"}],\"histogram\":[{\"marker\":{\"pattern\":{\"fillmode\":\"overlay\",\"size\":10,\"solidity\":0.2}},\"type\":\"histogram\"}],\"histogram2d\":[{\"colorbar\":{\"outlinewidth\":0,\"ticks\":\"\"},\"colorscale\":[[0.0,\"#0d0887\"],[0.1111111111111111,\"#46039f\"],[0.2222222222222222,\"#7201a8\"],[0.3333333333333333,\"#9c179e\"],[0.4444444444444444,\"#bd3786\"],[0.5555555555555556,\"#d8576b\"],[0.6666666666666666,\"#ed7953\"],[0.7777777777777778,\"#fb9f3a\"],[0.8888888888888888,\"#fdca26\"],[1.0,\"#f0f921\"]],\"type\":\"histogram2d\"}],\"histogram2dcontour\":[{\"colorbar\":{\"outlinewidth\":0,\"ticks\":\"\"},\"colorscale\":[[0.0,\"#0d0887\"],[0.1111111111111111,\"#46039f\"],[0.2222222222222222,\"#7201a8\"],[0.3333333333333333,\"#9c179e\"],[0.4444444444444444,\"#bd3786\"],[0.5555555555555556,\"#d8576b\"],[0.6666666666666666,\"#ed7953\"],[0.7777777777777778,\"#fb9f3a\"],[0.8888888888888888,\"#fdca26\"],[1.0,\"#f0f921\"]],\"type\":\"histogram2dcontour\"}],\"mesh3d\":[{\"colorbar\":{\"outlinewidth\":0,\"ticks\":\"\"},\"type\":\"mesh3d\"}],\"parcoords\":[{\"line\":{\"colorbar\":{\"outlinewidth\":0,\"ticks\":\"\"}},\"type\":\"parcoords\"}],\"pie\":[{\"automargin\":true,\"type\":\"pie\"}],\"scatter\":[{\"marker\":{\"colorbar\":{\"outlinewidth\":0,\"ticks\":\"\"}},\"type\":\"scatter\"}],\"scatter3d\":[{\"line\":{\"colorbar\":{\"outlinewidth\":0,\"ticks\":\"\"}},\"marker\":{\"colorbar\":{\"outlinewidth\":0,\"ticks\":\"\"}},\"type\":\"scatter3d\"}],\"scattercarpet\":[{\"marker\":{\"colorbar\":{\"outlinewidth\":0,\"ticks\":\"\"}},\"type\":\"scattercarpet\"}],\"scattergeo\":[{\"marker\":{\"colorbar\":{\"outlinewidth\":0,\"ticks\":\"\"}},\"type\":\"scattergeo\"}],\"scattergl\":[{\"marker\":{\"colorbar\":{\"outlinewidth\":0,\"ticks\":\"\"}},\"type\":\"scattergl\"}],\"scattermapbox\":[{\"marker\":{\"colorbar\":{\"outlinewidth\":0,\"ticks\":\"\"}},\"type\":\"scattermapbox\"}],\"scatterpolar\":[{\"marker\":{\"colorbar\":{\"outlinewidth\":0,\"ticks\":\"\"}},\"type\":\"scatterpolar\"}],\"scatterpolargl\":[{\"marker\":{\"colorbar\":{\"outlinewidth\":0,\"ticks\":\"\"}},\"type\":\"scatterpolargl\"}],\"scatterternary\":[{\"marker\":{\"colorbar\":{\"outlinewidth\":0,\"ticks\":\"\"}},\"type\":\"scatterternary\"}],\"surface\":[{\"colorbar\":{\"outlinewidth\":0,\"ticks\":\"\"},\"colorscale\":[[0.0,\"#0d0887\"],[0.1111111111111111,\"#46039f\"],[0.2222222222222222,\"#7201a8\"],[0.3333333333333333,\"#9c179e\"],[0.4444444444444444,\"#bd3786\"],[0.5555555555555556,\"#d8576b\"],[0.6666666666666666,\"#ed7953\"],[0.7777777777777778,\"#fb9f3a\"],[0.8888888888888888,\"#fdca26\"],[1.0,\"#f0f921\"]],\"type\":\"surface\"}],\"table\":[{\"cells\":{\"fill\":{\"color\":\"#EBF0F8\"},\"line\":{\"color\":\"white\"}},\"header\":{\"fill\":{\"color\":\"#C8D4E3\"},\"line\":{\"color\":\"white\"}},\"type\":\"table\"}]},\"layout\":{\"annotationdefaults\":{\"arrowcolor\":\"#2a3f5f\",\"arrowhead\":0,\"arrowwidth\":1},\"autotypenumbers\":\"strict\",\"coloraxis\":{\"colorbar\":{\"outlinewidth\":0,\"ticks\":\"\"}},\"colorscale\":{\"diverging\":[[0,\"#8e0152\"],[0.1,\"#c51b7d\"],[0.2,\"#de77ae\"],[0.3,\"#f1b6da\"],[0.4,\"#fde0ef\"],[0.5,\"#f7f7f7\"],[0.6,\"#e6f5d0\"],[0.7,\"#b8e186\"],[0.8,\"#7fbc41\"],[0.9,\"#4d9221\"],[1,\"#276419\"]],\"sequential\":[[0.0,\"#0d0887\"],[0.1111111111111111,\"#46039f\"],[0.2222222222222222,\"#7201a8\"],[0.3333333333333333,\"#9c179e\"],[0.4444444444444444,\"#bd3786\"],[0.5555555555555556,\"#d8576b\"],[0.6666666666666666,\"#ed7953\"],[0.7777777777777778,\"#fb9f3a\"],[0.8888888888888888,\"#fdca26\"],[1.0,\"#f0f921\"]],\"sequentialminus\":[[0.0,\"#0d0887\"],[0.1111111111111111,\"#46039f\"],[0.2222222222222222,\"#7201a8\"],[0.3333333333333333,\"#9c179e\"],[0.4444444444444444,\"#bd3786\"],[0.5555555555555556,\"#d8576b\"],[0.6666666666666666,\"#ed7953\"],[0.7777777777777778,\"#fb9f3a\"],[0.8888888888888888,\"#fdca26\"],[1.0,\"#f0f921\"]]},\"colorway\":[\"#636efa\",\"#EF553B\",\"#00cc96\",\"#ab63fa\",\"#FFA15A\",\"#19d3f3\",\"#FF6692\",\"#B6E880\",\"#FF97FF\",\"#FECB52\"],\"font\":{\"color\":\"#2a3f5f\"},\"geo\":{\"bgcolor\":\"white\",\"lakecolor\":\"white\",\"landcolor\":\"#E5ECF6\",\"showlakes\":true,\"showland\":true,\"subunitcolor\":\"white\"},\"hoverlabel\":{\"align\":\"left\"},\"hovermode\":\"closest\",\"mapbox\":{\"style\":\"light\"},\"paper_bgcolor\":\"white\",\"plot_bgcolor\":\"#E5ECF6\",\"polar\":{\"angularaxis\":{\"gridcolor\":\"white\",\"linecolor\":\"white\",\"ticks\":\"\"},\"bgcolor\":\"#E5ECF6\",\"radialaxis\":{\"gridcolor\":\"white\",\"linecolor\":\"white\",\"ticks\":\"\"}},\"scene\":{\"xaxis\":{\"backgroundcolor\":\"#E5ECF6\",\"gridcolor\":\"white\",\"gridwidth\":2,\"linecolor\":\"white\",\"showbackground\":true,\"ticks\":\"\",\"zerolinecolor\":\"white\"},\"yaxis\":{\"backgroundcolor\":\"#E5ECF6\",\"gridcolor\":\"white\",\"gridwidth\":2,\"linecolor\":\"white\",\"showbackground\":true,\"ticks\":\"\",\"zerolinecolor\":\"white\"},\"zaxis\":{\"backgroundcolor\":\"#E5ECF6\",\"gridcolor\":\"white\",\"gridwidth\":2,\"linecolor\":\"white\",\"showbackground\":true,\"ticks\":\"\",\"zerolinecolor\":\"white\"}},\"shapedefaults\":{\"line\":{\"color\":\"#2a3f5f\"}},\"ternary\":{\"aaxis\":{\"gridcolor\":\"white\",\"linecolor\":\"white\",\"ticks\":\"\"},\"baxis\":{\"gridcolor\":\"white\",\"linecolor\":\"white\",\"ticks\":\"\"},\"bgcolor\":\"#E5ECF6\",\"caxis\":{\"gridcolor\":\"white\",\"linecolor\":\"white\",\"ticks\":\"\"}},\"title\":{\"x\":0.05},\"xaxis\":{\"automargin\":true,\"gridcolor\":\"white\",\"linecolor\":\"white\",\"ticks\":\"\",\"title\":{\"standoff\":15},\"zerolinecolor\":\"white\",\"zerolinewidth\":2},\"yaxis\":{\"automargin\":true,\"gridcolor\":\"white\",\"linecolor\":\"white\",\"ticks\":\"\",\"title\":{\"standoff\":15},\"zerolinecolor\":\"white\",\"zerolinewidth\":2}}},\"title\":{\"text\":\"Top Named Entities found in POP Songs\"},\"xaxis\":{\"anchor\":\"y\",\"domain\":[0.0,1.0],\"title\":{\"text\":\"Named_Entity\"}},\"yaxis\":{\"anchor\":\"x\",\"domain\":[0.0,1.0],\"title\":{\"text\":\"Count\"}}},                        {\"responsive\": true}                    ).then(function(){\n",
       "                            \n",
       "var gd = document.getElementById('49bc79c6-e96f-484a-af33-67ebf395dc4e');\n",
       "var x = new MutationObserver(function (mutations, observer) {{\n",
       "        var display = window.getComputedStyle(gd).display;\n",
       "        if (!display || display === 'none') {{\n",
       "            console.log([gd, 'removed!']);\n",
       "            Plotly.purge(gd);\n",
       "            observer.disconnect();\n",
       "        }}\n",
       "}});\n",
       "\n",
       "// Listen for the removal of the full notebook cells\n",
       "var notebookContainer = gd.closest('#notebook-container');\n",
       "if (notebookContainer) {{\n",
       "    x.observe(notebookContainer, {childList: true});\n",
       "}}\n",
       "\n",
       "// Listen for the clearing of the current output cell\n",
       "var outputEl = gd.closest('.output');\n",
       "if (outputEl) {{\n",
       "    x.observe(outputEl, {childList: true});\n",
       "}}\n",
       "\n",
       "                        })                };                });            </script>        </div>"
      ]
     },
     "metadata": {},
     "output_type": "display_data"
    }
   ],
   "source": [
    "fig = px.bar(\n",
    "    entities_count,\n",
    "    x=\"Named_Entity\",\n",
    "    y=\"Count\",\n",
    "    color = \"Count\",\n",
    "    color_continuous_scale='emrld',\n",
    "    title = \"Top Named Entities found in POP Songs\"\n",
    "     )\n",
    "fig.show()"
   ]
  },
  {
   "cell_type": "code",
   "execution_count": 282,
   "id": "fe8127a4-2082-4438-86eb-454e8c16f05e",
   "metadata": {},
   "outputs": [],
   "source": [
    "# Export Entities dataframe to CSV\n",
    "# entities_count.to_csv('pop_entities_count.csv', index=False)"
   ]
  },
  {
   "cell_type": "markdown",
   "id": "a3711c23-0d07-4f24-b064-38514f5158fe",
   "metadata": {},
   "source": [
    "# Build a Markov Chain Function\n",
    "We are going to build a simple Markov chain function that creates a dictionary:\n",
    "\n",
    "- The keys should be all of the words in the corpus\n",
    "- The values should be a list of the words that follow the keys"
   ]
  },
  {
   "cell_type": "code",
   "execution_count": 283,
   "id": "7f30a922-196e-4db7-8b38-d5ad62eb03b7",
   "metadata": {},
   "outputs": [],
   "source": [
    "# from collections import defaultdict\n",
    "\n",
    "def markov_chain(text):\n",
    "    '''The input is a string of text and the output will be a dictionary with each word as\n",
    "       a key and each value as the list of words that come after the key in the text.'''\n",
    "    \n",
    "    # Tokenize the text by word, though including punctuation\n",
    "    words = text.split(' ')\n",
    "#     for t in text:\n",
    "#         words = t.split(' ')\n",
    "#         print(words[0])\n",
    "    \n",
    "    # Initialize a default dictionary to hold all of the words and next words\n",
    "    m_dict = defaultdict(list)\n",
    "    \n",
    "    # Create a zipped list of all of the word pairs and put them in word: list of next words format\n",
    "    for current_word, next_word in zip(words[0:-1], words[1:]):\n",
    "        m_dict[current_word].append(next_word)\n",
    "\n",
    "    # Convert the default dict back into a dictionary\n",
    "    m_dict = dict(m_dict)\n",
    "    return m_dict"
   ]
  },
  {
   "cell_type": "code",
   "execution_count": 285,
   "id": "67662086-f3d9-4f97-b658-aa935c2162df",
   "metadata": {},
   "outputs": [],
   "source": [
    "# Create the dictionary for lyrics, take a look at it\n",
    "\n",
    "lyrics_dict = markov_chain(lyrics_text)"
   ]
  },
  {
   "cell_type": "markdown",
   "id": "2fa77889-5625-4ac9-ad06-186886d19939",
   "metadata": {},
   "source": [
    "# Create a Text Generator\n",
    "We're going to create a function that generates sentences. It will take two things as inputs:\n",
    "\n",
    "- The dictionary you just created\n",
    "- The number of words you want generated"
   ]
  },
  {
   "cell_type": "code",
   "execution_count": 291,
   "id": "473f8ce5-a831-4824-8ddc-e3af67576598",
   "metadata": {},
   "outputs": [],
   "source": [
    "# import random\n",
    "\n",
    "def generate_sentence(chain, count=12):\n",
    "    '''Input a dictionary in the format of key = current word, value = list of next words\n",
    "       along with the number of words you would like to see in your generated sentence.'''\n",
    "\n",
    "    # Capitalize the first word\n",
    "    word1 = random.choice(list(chain.keys()))\n",
    "    sentence = word1.capitalize()\n",
    "\n",
    "    # Generate the second word from the value list. Set the new word as the first word. Repeat.\n",
    "    for i in range(count-1):\n",
    "        word2 = random.choice(chain[word1])\n",
    "        word1 = word2\n",
    "        sentence += ' ' + word2\n",
    "\n",
    "    # End it with a period\n",
    "    sentence += '.'\n",
    "    return(sentence)"
   ]
  },
  {
   "cell_type": "code",
   "execution_count": 292,
   "id": "fc88d3f9-b736-4676-b5c7-6379b133a0e6",
   "metadata": {},
   "outputs": [],
   "source": [
    "lines = []\n",
    "line = []\n",
    "\n",
    "num_sentences=32\n",
    "\n",
    "with open('markov_pop.txt', 'w') as file:\n",
    "    file.write('POP Song by Markov Chains')\n",
    "    file.write('\\n')\n",
    "    file.write('------------------------------------------')\n",
    "    file.write('\\n')\n",
    "\n",
    "    for num in range(0,num_sentences):\n",
    "        line = generate_sentence(lyrics_dict)\n",
    "        lines.append(line)\n",
    "        file.write(line)\n",
    "        file.write('\\n')"
   ]
  },
  {
   "cell_type": "code",
   "execution_count": null,
   "id": "6b4a6db8-dc99-4827-9ee6-f07c206b7b96",
   "metadata": {},
   "outputs": [],
   "source": []
  },
  {
   "cell_type": "code",
   "execution_count": 222,
   "id": "af896ce5-241c-4fa8-9ed8-1fed86c6247d",
   "metadata": {},
   "outputs": [
    {
     "data": {
      "text/plain": [
       "'Catch up, say But I see And it feels To.'"
      ]
     },
     "execution_count": 222,
     "metadata": {},
     "output_type": "execute_result"
    }
   ],
   "source": [
    "line_1 = generate_sentence(lyrics_dict)\n",
    "line_1"
   ]
  },
  {
   "cell_type": "code",
   "execution_count": 224,
   "id": "da98feb5-2300-476e-be15-828e3cab1c00",
   "metadata": {},
   "outputs": [
    {
     "data": {
      "text/plain": [
       "\"Sheets Have you think it's like this  Get the.\""
      ]
     },
     "execution_count": 224,
     "metadata": {},
     "output_type": "execute_result"
    }
   ],
   "source": [
    "line_2 = generate_sentence(lyrics_dict)\n",
    "line_2"
   ]
  },
  {
   "cell_type": "code",
   "execution_count": 226,
   "id": "56bf90ca-b6fe-4b13-b9be-7936f168afb8",
   "metadata": {},
   "outputs": [
    {
     "data": {
      "text/plain": [
       "\"Saw you really got my rugged heart And I won't.\""
      ]
     },
     "execution_count": 226,
     "metadata": {},
     "output_type": "execute_result"
    }
   ],
   "source": [
    "line_3 = generate_sentence(lyrics_dict)\n",
    "line_3"
   ]
  },
  {
   "cell_type": "code",
   "execution_count": 227,
   "id": "b952bd0b-dfc6-4d77-b87a-4a0a38abc602",
   "metadata": {},
   "outputs": [
    {
     "data": {
      "text/plain": [
       "\"Open up my cornerstone You're my pride But I know.\""
      ]
     },
     "execution_count": 227,
     "metadata": {},
     "output_type": "execute_result"
    }
   ],
   "source": [
    "line_4 = generate_sentence(lyrics_dict)\n",
    "line_4"
   ]
  },
  {
   "cell_type": "code",
   "execution_count": 228,
   "id": "c499f828-a00a-412b-b92c-dbad323d5f61",
   "metadata": {},
   "outputs": [
    {
     "data": {
      "text/plain": [
       "'Look mom! No hands!  Oh, oh-ooh-oh Oh, no, no).'"
      ]
     },
     "execution_count": 228,
     "metadata": {},
     "output_type": "execute_result"
    }
   ],
   "source": [
    "chorus_1 = generate_sentence(lyrics_dict)\n",
    "chorus_1"
   ]
  },
  {
   "cell_type": "code",
   "execution_count": 229,
   "id": "739798f2-4f43-44e2-ab81-7ec223ef31f7",
   "metadata": {},
   "outputs": [
    {
     "data": {
      "text/plain": [
       "'Ring? She says that I just gotta lie to you.'"
      ]
     },
     "execution_count": 229,
     "metadata": {},
     "output_type": "execute_result"
    }
   ],
   "source": [
    "chorus_2 = generate_sentence(lyrics_dict)\n",
    "chorus_2"
   ]
  },
  {
   "cell_type": "code",
   "execution_count": 230,
   "id": "320309e3-5014-4b97-b634-c1e0d30dce1e",
   "metadata": {},
   "outputs": [
    {
     "data": {
      "text/plain": [
       "'Replace us, or the prototype like (like) I want you.'"
      ]
     },
     "execution_count": 230,
     "metadata": {},
     "output_type": "execute_result"
    }
   ],
   "source": [
    "chorus_3 = generate_sentence(lyrics_dict)\n",
    "chorus_3"
   ]
  },
  {
   "cell_type": "code",
   "execution_count": 231,
   "id": "95ecf887-cf24-4da8-8b35-8e2db654e2f6",
   "metadata": {},
   "outputs": [
    {
     "data": {
      "text/plain": [
       "\"Yeah, yeah, yeah, yeah  Maybe I'm wasted here Well.\""
      ]
     },
     "execution_count": 231,
     "metadata": {},
     "output_type": "execute_result"
    }
   ],
   "source": [
    "chorus_4 = generate_sentence(lyrics_dict)\n",
    "chorus_4"
   ]
  },
  {
   "cell_type": "code",
   "execution_count": 232,
   "id": "57577478-c01c-4d28-aa3c-207a55e4ad78",
   "metadata": {},
   "outputs": [
    {
     "data": {
      "text/plain": [
       "\"Chest any more But you're doing great out by myself.\""
      ]
     },
     "execution_count": 232,
     "metadata": {},
     "output_type": "execute_result"
    }
   ],
   "source": [
    "line_5 = generate_sentence(lyrics_dict)\n",
    "line_5"
   ]
  },
  {
   "cell_type": "code",
   "execution_count": 233,
   "id": "5c6c9b80-8aee-44c7-98e5-d50b37285792",
   "metadata": {},
   "outputs": [
    {
     "data": {
      "text/plain": [
       "\"Your-) I was lookin' for help Your kisses burn into.\""
      ]
     },
     "execution_count": 233,
     "metadata": {},
     "output_type": "execute_result"
    }
   ],
   "source": [
    "line_6 = generate_sentence(lyrics_dict)\n",
    "line_6"
   ]
  },
  {
   "cell_type": "code",
   "execution_count": 235,
   "id": "01a7d95c-2972-4efc-8f66-0d9cc0ad8a5c",
   "metadata": {},
   "outputs": [
    {
     "data": {
      "text/plain": [
       "\"Them 'Cause this love me Ay, ay, leave us tainted.\""
      ]
     },
     "execution_count": 235,
     "metadata": {},
     "output_type": "execute_result"
    }
   ],
   "source": [
    "line_7 = generate_sentence(lyrics_dict)\n",
    "line_7"
   ]
  },
  {
   "cell_type": "code",
   "execution_count": 236,
   "id": "3f2eeeab-beb8-4d96-874d-8e7a478ed614",
   "metadata": {},
   "outputs": [
    {
     "data": {
      "text/plain": [
       "\"Kids, but can't be borrowed I'd rather die than life).\""
      ]
     },
     "execution_count": 236,
     "metadata": {},
     "output_type": "execute_result"
    }
   ],
   "source": [
    "line_8 = generate_sentence(lyrics_dict)\n",
    "line_8"
   ]
  },
  {
   "cell_type": "code",
   "execution_count": 237,
   "id": "bb231aa2-8bdd-439e-b013-8d58660ac4d7",
   "metadata": {},
   "outputs": [
    {
     "data": {
      "text/plain": [
       "\"To be my rosemary goes down I can't follow my.\""
      ]
     },
     "execution_count": 237,
     "metadata": {},
     "output_type": "execute_result"
    }
   ],
   "source": [
    "line_9 = generate_sentence(lyrics_dict)\n",
    "line_9"
   ]
  },
  {
   "cell_type": "code",
   "execution_count": 238,
   "id": "cbf3c349-4e35-4f53-9624-5af38a11c778",
   "metadata": {},
   "outputs": [
    {
     "data": {
      "text/plain": [
       "\"Walking  (Spin 'round in disbelief 'Cause it feels like.\""
      ]
     },
     "execution_count": 238,
     "metadata": {},
     "output_type": "execute_result"
    }
   ],
   "source": [
    "line_10 = generate_sentence(lyrics_dict)\n",
    "line_10"
   ]
  },
  {
   "cell_type": "markdown",
   "id": "2d6aca69-bc9e-47a7-a073-42fae2917520",
   "metadata": {},
   "source": [
    "# Create a hit song"
   ]
  },
  {
   "cell_type": "code",
   "execution_count": 239,
   "id": "558ed095-4dc1-4400-89c0-c68ed62e1cd0",
   "metadata": {},
   "outputs": [
    {
     "name": "stdout",
     "output_type": "stream",
     "text": [
      "The Pop Song\n",
      "_____________________________\n",
      "Verse 1\n",
      "_____________________________\n",
      "Catch up, say But I see And it feels To.\n",
      "Sheets Have you think it's like this  Get the.\n",
      "Saw you really got my rugged heart And I won't.\n",
      "Open up my cornerstone You're my pride But I know.\n",
      "_____________________________\n",
      "Chorus\n",
      "_____________________________\n",
      "Look mom! No hands!  Oh, oh-ooh-oh Oh, no, no).\n",
      "Ring? She says that I just gotta lie to you.\n",
      "Replace us, or the prototype like (like) I want you.\n",
      "Yeah, yeah, yeah, yeah  Maybe I'm wasted here Well.\n",
      "_____________________________\n",
      "Verse 2\n",
      "_____________________________\n",
      "Chest any more But you're doing great out by myself.\n",
      "Your-) I was lookin' for help Your kisses burn into.\n",
      "Them 'Cause this love me Ay, ay, leave us tainted.\n",
      "Kids, but can't be borrowed I'd rather die than life).\n",
      "_____________________________\n",
      "Bridge\n",
      "_____________________________\n",
      "To be my rosemary goes down I can't follow my.\n",
      "Walking  (Spin 'round in disbelief 'Cause it feels like.\n",
      "_____________________________\n",
      "Chorus (Repeat X 3)\n",
      "_____________________________\n",
      "Look mom! No hands!  Oh, oh-ooh-oh Oh, no, no).\n",
      "Ring? She says that I just gotta lie to you.\n",
      "Replace us, or the prototype like (like) I want you.\n",
      "Yeah, yeah, yeah, yeah  Maybe I'm wasted here Well.\n"
     ]
    }
   ],
   "source": [
    "# Pring the hit rnb song\n",
    "print('The Pop Song')\n",
    "print('_____________________________')\n",
    "print('Verse 1')\n",
    "print('_____________________________')\n",
    "print(line_1)\n",
    "print(line_2)\n",
    "print(line_3)\n",
    "print(line_4)\n",
    "print('_____________________________')\n",
    "print('Chorus')\n",
    "print('_____________________________')\n",
    "print(chorus_1)\n",
    "print(chorus_2)\n",
    "print(chorus_3)\n",
    "print(chorus_4)\n",
    "print('_____________________________')\n",
    "print('Verse 2')\n",
    "print('_____________________________')\n",
    "print(line_5)\n",
    "print(line_6)\n",
    "print(line_7)\n",
    "print(line_8)\n",
    "print('_____________________________')\n",
    "print('Bridge')\n",
    "print('_____________________________')\n",
    "print(line_9)\n",
    "print(line_10)\n",
    "print('_____________________________')\n",
    "print('Chorus (Repeat X 3)')\n",
    "print('_____________________________')\n",
    "print(chorus_1)\n",
    "print(chorus_2)\n",
    "print(chorus_3)\n",
    "print(chorus_4)"
   ]
  },
  {
   "cell_type": "code",
   "execution_count": 240,
   "id": "3831e084-35a0-4b21-aa9b-99fe48fe1b80",
   "metadata": {},
   "outputs": [],
   "source": [
    "# # Export a text file with the results\n",
    "# with open('popsong.txt', 'w') as out:\n",
    "#     out.write('The POP Song' '\\n')\n",
    "#     out.write('\\n')\n",
    "#     out.write('\\n')\n",
    "#     out.write('\\n')\n",
    "#     out.write('Verse 1')\n",
    "#     out.write('\\n')\n",
    "#     out.write('\\n')\n",
    "#     out.write(line_1)\n",
    "#     out.write('\\n')\n",
    "#     out.write(line_2)\n",
    "#     out.write('\\n')\n",
    "#     out.write(line_3)\n",
    "#     out.write('\\n')\n",
    "#     out.write(line_4)\n",
    "#     out.write('\\n')\n",
    "#     out.write('\\n')\n",
    "#     out.write('Chorus')\n",
    "#     out.write('\\n')\n",
    "#     out.write('\\n')\n",
    "#     out.write(chorus_1)\n",
    "#     out.write('\\n')\n",
    "#     out.write(chorus_2)\n",
    "#     out.write('\\n')\n",
    "#     out.write(chorus_3)\n",
    "#     out.write('\\n')\n",
    "#     out.write(chorus_4)\n",
    "#     out.write('\\n')\n",
    "#     out.write('\\n')\n",
    "#     out.write('Verse 2')\n",
    "#     out.write('\\n')\n",
    "#     out.write('\\n')\n",
    "#     out.write(line_5)\n",
    "#     out.write('\\n')\n",
    "#     out.write(line_6)\n",
    "#     out.write('\\n')\n",
    "#     out.write(line_7)\n",
    "#     out.write('\\n')\n",
    "#     out.write(line_8)\n",
    "#     out.write('\\n')\n",
    "#     out.write('\\n')\n",
    "#     out.write('Chorus')\n",
    "#     out.write('\\n')\n",
    "#     out.write('\\n')\n",
    "#     out.write(chorus_1)\n",
    "#     out.write('\\n')\n",
    "#     out.write(chorus_2)\n",
    "#     out.write('\\n')\n",
    "#     out.write(chorus_3)\n",
    "#     out.write('\\n')\n",
    "#     out.write(chorus_4)\n",
    "#     out.write('\\n')\n",
    "#     out.write('\\n')\n",
    "#     out.write('Bridge')\n",
    "#     out.write('\\n')\n",
    "#     out.write('\\n')\n",
    "#     out.write(line_9)\n",
    "#     out.write('\\n')\n",
    "#     out.write(line_10)\n",
    "#     out.write('\\n')\n",
    "#     out.write('\\n')\n",
    "#     out.write('\\n')\n",
    "#     out.write('Chorus Repeat X 3')\n"
   ]
  },
  {
   "cell_type": "code",
   "execution_count": 241,
   "id": "e45ffb10-e939-4931-83c7-e43205ba11fb",
   "metadata": {},
   "outputs": [],
   "source": [
    "# text = ' '.join(result_lyrics_df['Lyrics'].tolist())\n",
    "\n",
    "# file = open('rnb_text.txt', 'w')\n",
    "# file.write(text)"
   ]
  },
  {
   "cell_type": "markdown",
   "id": "d6665283-ba94-4415-bec8-bacb913a5b1e",
   "metadata": {},
   "source": [
    "# Maximum Likelihood Estimator (MLE) Algorithm\n",
    "\n",
    "Using Language Model Module (nltk.lm) from NLTK library"
   ]
  },
  {
   "cell_type": "code",
   "execution_count": 242,
   "id": "6762f5f9-2d91-4f24-a432-6bfea176be52",
   "metadata": {},
   "outputs": [],
   "source": [
    "# Tokenize lyrics corpus\n",
    "lyrics_corpus = list(new_lyrics_df['Lyrics'].apply(word_tokenize))"
   ]
  },
  {
   "cell_type": "code",
   "execution_count": 243,
   "id": "f01f3d3c-faff-4fd6-9b69-95a3c6244aba",
   "metadata": {},
   "outputs": [],
   "source": [
    "# Preprocess the tokenized text for 4-grams language modelling\n",
    "n = 4\n",
    "train_data, padded_sents = padded_everygram_pipeline(n, lyrics_corpus)"
   ]
  },
  {
   "cell_type": "code",
   "execution_count": 244,
   "id": "ba1adf4b-82b8-4b84-ae95-9b41b13efd97",
   "metadata": {},
   "outputs": [],
   "source": [
    "# Train and fit the model\n",
    "rnb_model = MLE(n) # Lets train a 4-grams model\n",
    "rnb_model.fit(train_data, padded_sents)"
   ]
  },
  {
   "cell_type": "code",
   "execution_count": 245,
   "id": "a8ba5d46-0a5a-42f7-ab40-cfb868425b47",
   "metadata": {},
   "outputs": [],
   "source": [
    "# Clean up the generated tokens to make it human-like.\n",
    "\n",
    "detokenize = TreebankWordDetokenizer().detokenize\n",
    "\n",
    "def generate_sent(model, num_words, random_seed):\n",
    "    \"\"\"\n",
    "    :param model: An ngram language model from `nltk.lm.model`.\n",
    "    :param num_words: Max no. of words to generate.\n",
    "    :param random_seed: Seed value for random.\n",
    "    \"\"\"\n",
    "    content = []\n",
    "    for token in model.generate(num_words, random_seed=random_seed):\n",
    "        if token == '<s>':\n",
    "            continue\n",
    "        if token == '</s>':\n",
    "            break\n",
    "        content.append(token)\n",
    "    return detokenize(content)"
   ]
  },
  {
   "cell_type": "code",
   "execution_count": 246,
   "id": "7df9a793-2976-4942-ac9e-50fa4286e7b3",
   "metadata": {},
   "outputs": [
    {
     "data": {
      "text/plain": [
       "1143"
      ]
     },
     "execution_count": 246,
     "metadata": {},
     "output_type": "execute_result"
    }
   ],
   "source": [
    "# Predict text\n",
    "mle_text = generate_sent(rnb_model, num_words=280, random_seed=128)\n",
    "len(mle_text)  \n",
    "\n",
    "# Note: pick a random seed that gives you 1000+ characters as the len(mle_text) \n",
    "# or run the generate_sent again until you hit your target size of lyrics"
   ]
  },
  {
   "cell_type": "code",
   "execution_count": 247,
   "id": "78a5d1ba-bbb7-49c6-b4e3-a86ba689d932",
   "metadata": {},
   "outputs": [],
   "source": [
    "# Save predicted lyrics as a .txt file\n",
    "\n",
    "# with open('mle_pop.txt', 'w') as file:\n",
    "#     file.write(mle_text)"
   ]
  },
  {
   "cell_type": "markdown",
   "id": "15abd11c-4cd6-45b1-a1d0-57a03932af8a",
   "metadata": {},
   "source": [
    "# Save MLE Predicted Lyrics to Audio"
   ]
  },
  {
   "cell_type": "code",
   "execution_count": 248,
   "id": "2b12fa2b-b6eb-4fd8-a13a-349453f0a783",
   "metadata": {},
   "outputs": [],
   "source": [
    "from gtts import gTTS \n",
    "import os"
   ]
  },
  {
   "cell_type": "code",
   "execution_count": 250,
   "id": "f3de73ce-b9b9-4c42-8b35-32ba81db0912",
   "metadata": {},
   "outputs": [],
   "source": [
    "speech = gTTS(text = mle_text, lang = 'en', slow = True)\n",
    "speech.save(\"pop_mle_text.mp3\")"
   ]
  },
  {
   "cell_type": "code",
   "execution_count": null,
   "id": "171b940a-fec6-40f2-ad62-163be23be6cb",
   "metadata": {},
   "outputs": [],
   "source": []
  }
 ],
 "metadata": {
  "kernelspec": {
   "display_name": "Python 3 (ipykernel)",
   "language": "python",
   "name": "python3"
  },
  "language_info": {
   "codemirror_mode": {
    "name": "ipython",
    "version": 3
   },
   "file_extension": ".py",
   "mimetype": "text/x-python",
   "name": "python",
   "nbconvert_exporter": "python",
   "pygments_lexer": "ipython3",
   "version": "3.8.2"
  }
 },
 "nbformat": 4,
 "nbformat_minor": 5
}
