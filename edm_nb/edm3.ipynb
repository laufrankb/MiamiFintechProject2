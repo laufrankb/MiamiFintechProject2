{
 "cells": [
  {
   "cell_type": "markdown",
   "id": "a58916e1-a273-4a85-8c2b-905ed641e570",
   "metadata": {},
   "source": [
    "# EDM Lyrics"
   ]
  },
  {
   "cell_type": "code",
   "execution_count": 185,
   "id": "1bce8f68-90e2-4490-93f4-7331fe13a28c",
   "metadata": {},
   "outputs": [],
   "source": [
    "# Imports\n",
    "import requests\n",
    "import os\n",
    "import json\n",
    "import pandas as pd\n",
    "import numpy as np\n",
    "import matplotlib.pyplot as plt\n",
    "import nltk\n",
    "import re\n",
    "import plotly.express as px\n",
    "import spacy\n",
    "import random\n",
    "from dotenv import load_dotenv\n",
    "from collections import Counter\n",
    "from collections import defaultdict\n",
    "from PIL import Image\n",
    "from wordcloud import WordCloud\n",
    "from wordcloud import ImageColorGenerator\n",
    "from nltk.tokenize import word_tokenize, sent_tokenize\n",
    "from nltk.corpus import stopwords\n",
    "from nltk.stem import WordNetLemmatizer, PorterStemmer\n",
    "from string import punctuation\n",
    "from nltk.sentiment.vader import SentimentIntensityAnalyzer\n",
    "from nltk import ngrams\n",
    "from spacy import displacy\n",
    "from nltk.lm import MLE # language model\n",
    "from nltk import word_tokenize, sent_tokenize\n",
    "from nltk.util import pad_sequence, bigrams, ngrams, everygrams\n",
    "from nltk.lm.preprocessing import pad_both_ends, flatten, padded_everygram_pipeline\n",
    "from nltk.tokenize.treebank import TreebankWordDetokenizer"
   ]
  },
  {
   "cell_type": "code",
   "execution_count": 186,
   "id": "dc3a41c4-7b6f-4047-8928-9ddf2fa3826d",
   "metadata": {},
   "outputs": [
    {
     "data": {
      "text/plain": [
       "True"
      ]
     },
     "execution_count": 186,
     "metadata": {},
     "output_type": "execute_result"
    }
   ],
   "source": [
    "# Load .env environment variables\n",
    "load_dotenv()\n",
    "\n"
   ]
  },
  {
   "cell_type": "code",
   "execution_count": 187,
   "id": "98be1bff-70af-4ed6-b691-d8ef8b65ac7f",
   "metadata": {},
   "outputs": [],
   "source": [
    "# Define function to use Shazam Core API, Electronic genre\n",
    "\n",
    "def get_lyrics(querystring):\n",
    "\n",
    "    url = \"https://shazam-core.p.rapidapi.com/v1/tracks/details\"\n",
    "\n",
    "    headers = {\n",
    "    'x-rapidapi-host': \"shazam-core.p.rapidapi.com\",\n",
    "    'x-rapidapi-key': '8b0d2ef776msh6040e496268c238p105edajsn055150f280c7'\n",
    "    }\n",
    "\n",
    "    response = requests.request(\"GET\", url, headers=headers, params=querystring)\n",
    "\n",
    "    return response.json()"
   ]
  },
  {
   "cell_type": "code",
   "execution_count": 188,
   "id": "91fc0796-d0c5-4f44-9003-66f943123318",
   "metadata": {},
   "outputs": [],
   "source": [
    "# Use 'Track details' endpoint to retrieve lyrics for a single track\n",
    "\n",
    "genre = 'ELECTRONIC'\n",
    "limit_songs = 50\n",
    "country = 'US'\n",
    "\n",
    "querystring = {\"country_code\":country,\"genre_code\":genre,\"limit\":limit_songs}\n",
    "chart_response = get_chart_genre(querystring)"
   ]
  },
  {
   "cell_type": "code",
   "execution_count": 189,
   "id": "f92d406b-316b-4c1e-980a-33606aa38406",
   "metadata": {},
   "outputs": [
    {
     "name": "stdout",
     "output_type": "stream",
     "text": [
      "The number of songs retrieved is : 50\n"
     ]
    },
    {
     "data": {
      "text/html": [
       "<div>\n",
       "<style scoped>\n",
       "    .dataframe tbody tr th:only-of-type {\n",
       "        vertical-align: middle;\n",
       "    }\n",
       "\n",
       "    .dataframe tbody tr th {\n",
       "        vertical-align: top;\n",
       "    }\n",
       "\n",
       "    .dataframe thead th {\n",
       "        text-align: right;\n",
       "    }\n",
       "</style>\n",
       "<table border=\"1\" class=\"dataframe\">\n",
       "  <thead>\n",
       "    <tr style=\"text-align: right;\">\n",
       "      <th></th>\n",
       "      <th>Track Name</th>\n",
       "      <th>Artists</th>\n",
       "    </tr>\n",
       "    <tr>\n",
       "      <th>TrackIDs</th>\n",
       "      <th></th>\n",
       "      <th></th>\n",
       "    </tr>\n",
       "  </thead>\n",
       "  <tbody>\n",
       "    <tr>\n",
       "      <th>385133121</th>\n",
       "      <td>Love Tonight</td>\n",
       "      <td>Shouse</td>\n",
       "    </tr>\n",
       "    <tr>\n",
       "      <th>455370962</th>\n",
       "      <td>Lost In The Fire</td>\n",
       "      <td>Gesaffelstein &amp; The Weeknd</td>\n",
       "    </tr>\n",
       "    <tr>\n",
       "      <th>577082976</th>\n",
       "      <td>Candy Shop</td>\n",
       "      <td>CryJaxx &amp; Junior Charles</td>\n",
       "    </tr>\n",
       "    <tr>\n",
       "      <th>588664699</th>\n",
       "      <td>Lipstick</td>\n",
       "      <td>Kungs</td>\n",
       "    </tr>\n",
       "    <tr>\n",
       "      <th>140516014</th>\n",
       "      <td>After Dark</td>\n",
       "      <td>Mr.Kitty</td>\n",
       "    </tr>\n",
       "  </tbody>\n",
       "</table>\n",
       "</div>"
      ],
      "text/plain": [
       "                 Track Name                     Artists\n",
       "TrackIDs                                               \n",
       "385133121      Love Tonight                      Shouse\n",
       "455370962  Lost In The Fire  Gesaffelstein & The Weeknd\n",
       "577082976        Candy Shop    CryJaxx & Junior Charles\n",
       "588664699          Lipstick                       Kungs\n",
       "140516014        After Dark                    Mr.Kitty"
      ]
     },
     "execution_count": 189,
     "metadata": {},
     "output_type": "execute_result"
    }
   ],
   "source": [
    "# Retrieve Track IDs\n",
    "\n",
    "track_ids=[] # song identifier\n",
    "titles = [] # song name\n",
    "subtitles = [] # Main artist and featured artists\n",
    "\n",
    "for track in range(len(chart_response)):\n",
    "    track_ids.append(chart_response[track]['id'])\n",
    "    titles.append(chart_response[track]['title'])\n",
    "    subtitles.append(chart_response[track]['subtitle'])\n",
    "\n",
    "print(f\"The number of songs retrieved is : {len(track_ids)}\")\n",
    "\n",
    "chart_songs = pd.DataFrame({\"Track Name\": titles, \"Artists\": subtitles, 'TrackIDs': track_ids}).set_index('TrackIDs')\n",
    "chart_songs.head(5)"
   ]
  },
  {
   "cell_type": "code",
   "execution_count": 190,
   "id": "1de172e3-43ff-4761-9827-32cdd95a76c9",
   "metadata": {},
   "outputs": [],
   "source": [
    "# Data parsing\n",
    "\n",
    "from collections import Counter\n",
    "\n",
    "artists_list = list(chart_songs.Artists)\n",
    "artist_counts = {artist: artists_list.count(artist) for artist in artists_list} #dict with frequency of artist in top chart\n",
    "\n",
    "artists_df = pd.DataFrame(list(artist_counts.items()),columns = ['Artists','No. Songs in Top Chart']).set_index('Artists')\n",
    "artists_df.sort_values(by = 'No. Songs in Top Chart', ascending=False, inplace=True) #sort values"
   ]
  },
  {
   "cell_type": "code",
   "execution_count": 191,
   "id": "a45c2874-08b6-4e4c-85ab-ce508f9bcd82",
   "metadata": {},
   "outputs": [
    {
     "data": {
      "application/vnd.plotly.v1+json": {
       "config": {
        "plotlyServerURL": "https://plot.ly"
       },
       "data": [
        {
         "alignmentgroup": "True",
         "hovertemplate": "Artists=%{x}<br>value=%{marker.color}<extra></extra>",
         "legendgroup": "",
         "marker": {
          "color": [
           2,
           2,
           1,
           1,
           1,
           1,
           1,
           1,
           1,
           1,
           1,
           1,
           1,
           1,
           1,
           1,
           1,
           1,
           1,
           1,
           1,
           1,
           1,
           1,
           1,
           1,
           1,
           1,
           1,
           1,
           1,
           1,
           1,
           1,
           1,
           1,
           1,
           1,
           1,
           1,
           1,
           1,
           1,
           1,
           1,
           1,
           1,
           1
          ],
          "coloraxis": "coloraxis",
          "pattern": {
           "shape": ""
          }
         },
         "name": "",
         "offsetgroup": "",
         "orientation": "v",
         "showlegend": false,
         "textposition": "auto",
         "type": "bar",
         "x": [
          "Kungs",
          "Hippie Sabotage",
          "Shouse",
          "Portishead",
          "Else",
          "Eric Prydz",
          "Bob Sinclar",
          "Bicep",
          "Rampa",
          "AmaSiblings Feat. DJ Mngadi",
          "Otnicka",
          "Andy Williams",
          "Jorge Aguilar II",
          "Ofenbach",
          "Disclosure Feat. Sam Smith",
          "Cannons",
          "Kavinsky",
          "M.I.A.",
          "INNDRIVE",
          "Londonbeat",
          "Years & Years",
          "Cascada",
          "Petit Biscuit",
          "Z4C CH4MB3R5",
          "Alis Shuka",
          "Colorblast",
          "Gesaffelstein & The Weeknd",
          "Clean Bandit & Topic Feat. Wes Nelson",
          "CryJaxx & Junior Charles",
          "Mr.Kitty",
          "Ofenbach & Ella Henderson",
          "Stromae",
          "Fred again.. & The Blessed Madonna",
          "M83",
          "Kungs & Cookin' On 3 Burners",
          "Jungle",
          "Serhat Durmus Feat. Zerrin",
          "FKA twigs Feat. Central Cee",
          "A Touch Of Class",
          "David Guetta Feat. Nicki Minaj & Bebe Rexha & Afrojack",
          "Major Lazer Feat. MØ & DJ Snake",
          "Disclosure Feat. Eliza Doolittle",
          "Zakes Bantwini & Kasango",
          "Duke Dumont",
          "Polo & Pan",
          "The Cinematic Orchestra Feat. Patrick Watson",
          "Safri Duo",
          "GHOST DATA"
         ],
         "xaxis": "x",
         "y": [
          2,
          2,
          1,
          1,
          1,
          1,
          1,
          1,
          1,
          1,
          1,
          1,
          1,
          1,
          1,
          1,
          1,
          1,
          1,
          1,
          1,
          1,
          1,
          1,
          1,
          1,
          1,
          1,
          1,
          1,
          1,
          1,
          1,
          1,
          1,
          1,
          1,
          1,
          1,
          1,
          1,
          1,
          1,
          1,
          1,
          1,
          1,
          1
         ],
         "yaxis": "y"
        }
       ],
       "layout": {
        "barmode": "relative",
        "coloraxis": {
         "colorbar": {
          "title": {
           "text": "value"
          }
         },
         "colorscale": [
          [
           0,
           "rgb(161, 105, 40)"
          ],
          [
           0.16666666666666666,
           "rgb(189, 146, 90)"
          ],
          [
           0.3333333333333333,
           "rgb(214, 189, 141)"
          ],
          [
           0.5,
           "rgb(237, 234, 194)"
          ],
          [
           0.6666666666666666,
           "rgb(181, 200, 184)"
          ],
          [
           0.8333333333333334,
           "rgb(121, 167, 172)"
          ],
          [
           1,
           "rgb(40, 135, 161)"
          ]
         ]
        },
        "height": 800,
        "legend": {
         "tracegroupgap": 0
        },
        "template": {
         "data": {
          "bar": [
           {
            "error_x": {
             "color": "#2a3f5f"
            },
            "error_y": {
             "color": "#2a3f5f"
            },
            "marker": {
             "line": {
              "color": "#E5ECF6",
              "width": 0.5
             },
             "pattern": {
              "fillmode": "overlay",
              "size": 10,
              "solidity": 0.2
             }
            },
            "type": "bar"
           }
          ],
          "barpolar": [
           {
            "marker": {
             "line": {
              "color": "#E5ECF6",
              "width": 0.5
             },
             "pattern": {
              "fillmode": "overlay",
              "size": 10,
              "solidity": 0.2
             }
            },
            "type": "barpolar"
           }
          ],
          "carpet": [
           {
            "aaxis": {
             "endlinecolor": "#2a3f5f",
             "gridcolor": "white",
             "linecolor": "white",
             "minorgridcolor": "white",
             "startlinecolor": "#2a3f5f"
            },
            "baxis": {
             "endlinecolor": "#2a3f5f",
             "gridcolor": "white",
             "linecolor": "white",
             "minorgridcolor": "white",
             "startlinecolor": "#2a3f5f"
            },
            "type": "carpet"
           }
          ],
          "choropleth": [
           {
            "colorbar": {
             "outlinewidth": 0,
             "ticks": ""
            },
            "type": "choropleth"
           }
          ],
          "contour": [
           {
            "colorbar": {
             "outlinewidth": 0,
             "ticks": ""
            },
            "colorscale": [
             [
              0,
              "#0d0887"
             ],
             [
              0.1111111111111111,
              "#46039f"
             ],
             [
              0.2222222222222222,
              "#7201a8"
             ],
             [
              0.3333333333333333,
              "#9c179e"
             ],
             [
              0.4444444444444444,
              "#bd3786"
             ],
             [
              0.5555555555555556,
              "#d8576b"
             ],
             [
              0.6666666666666666,
              "#ed7953"
             ],
             [
              0.7777777777777778,
              "#fb9f3a"
             ],
             [
              0.8888888888888888,
              "#fdca26"
             ],
             [
              1,
              "#f0f921"
             ]
            ],
            "type": "contour"
           }
          ],
          "contourcarpet": [
           {
            "colorbar": {
             "outlinewidth": 0,
             "ticks": ""
            },
            "type": "contourcarpet"
           }
          ],
          "heatmap": [
           {
            "colorbar": {
             "outlinewidth": 0,
             "ticks": ""
            },
            "colorscale": [
             [
              0,
              "#0d0887"
             ],
             [
              0.1111111111111111,
              "#46039f"
             ],
             [
              0.2222222222222222,
              "#7201a8"
             ],
             [
              0.3333333333333333,
              "#9c179e"
             ],
             [
              0.4444444444444444,
              "#bd3786"
             ],
             [
              0.5555555555555556,
              "#d8576b"
             ],
             [
              0.6666666666666666,
              "#ed7953"
             ],
             [
              0.7777777777777778,
              "#fb9f3a"
             ],
             [
              0.8888888888888888,
              "#fdca26"
             ],
             [
              1,
              "#f0f921"
             ]
            ],
            "type": "heatmap"
           }
          ],
          "heatmapgl": [
           {
            "colorbar": {
             "outlinewidth": 0,
             "ticks": ""
            },
            "colorscale": [
             [
              0,
              "#0d0887"
             ],
             [
              0.1111111111111111,
              "#46039f"
             ],
             [
              0.2222222222222222,
              "#7201a8"
             ],
             [
              0.3333333333333333,
              "#9c179e"
             ],
             [
              0.4444444444444444,
              "#bd3786"
             ],
             [
              0.5555555555555556,
              "#d8576b"
             ],
             [
              0.6666666666666666,
              "#ed7953"
             ],
             [
              0.7777777777777778,
              "#fb9f3a"
             ],
             [
              0.8888888888888888,
              "#fdca26"
             ],
             [
              1,
              "#f0f921"
             ]
            ],
            "type": "heatmapgl"
           }
          ],
          "histogram": [
           {
            "marker": {
             "pattern": {
              "fillmode": "overlay",
              "size": 10,
              "solidity": 0.2
             }
            },
            "type": "histogram"
           }
          ],
          "histogram2d": [
           {
            "colorbar": {
             "outlinewidth": 0,
             "ticks": ""
            },
            "colorscale": [
             [
              0,
              "#0d0887"
             ],
             [
              0.1111111111111111,
              "#46039f"
             ],
             [
              0.2222222222222222,
              "#7201a8"
             ],
             [
              0.3333333333333333,
              "#9c179e"
             ],
             [
              0.4444444444444444,
              "#bd3786"
             ],
             [
              0.5555555555555556,
              "#d8576b"
             ],
             [
              0.6666666666666666,
              "#ed7953"
             ],
             [
              0.7777777777777778,
              "#fb9f3a"
             ],
             [
              0.8888888888888888,
              "#fdca26"
             ],
             [
              1,
              "#f0f921"
             ]
            ],
            "type": "histogram2d"
           }
          ],
          "histogram2dcontour": [
           {
            "colorbar": {
             "outlinewidth": 0,
             "ticks": ""
            },
            "colorscale": [
             [
              0,
              "#0d0887"
             ],
             [
              0.1111111111111111,
              "#46039f"
             ],
             [
              0.2222222222222222,
              "#7201a8"
             ],
             [
              0.3333333333333333,
              "#9c179e"
             ],
             [
              0.4444444444444444,
              "#bd3786"
             ],
             [
              0.5555555555555556,
              "#d8576b"
             ],
             [
              0.6666666666666666,
              "#ed7953"
             ],
             [
              0.7777777777777778,
              "#fb9f3a"
             ],
             [
              0.8888888888888888,
              "#fdca26"
             ],
             [
              1,
              "#f0f921"
             ]
            ],
            "type": "histogram2dcontour"
           }
          ],
          "mesh3d": [
           {
            "colorbar": {
             "outlinewidth": 0,
             "ticks": ""
            },
            "type": "mesh3d"
           }
          ],
          "parcoords": [
           {
            "line": {
             "colorbar": {
              "outlinewidth": 0,
              "ticks": ""
             }
            },
            "type": "parcoords"
           }
          ],
          "pie": [
           {
            "automargin": true,
            "type": "pie"
           }
          ],
          "scatter": [
           {
            "marker": {
             "colorbar": {
              "outlinewidth": 0,
              "ticks": ""
             }
            },
            "type": "scatter"
           }
          ],
          "scatter3d": [
           {
            "line": {
             "colorbar": {
              "outlinewidth": 0,
              "ticks": ""
             }
            },
            "marker": {
             "colorbar": {
              "outlinewidth": 0,
              "ticks": ""
             }
            },
            "type": "scatter3d"
           }
          ],
          "scattercarpet": [
           {
            "marker": {
             "colorbar": {
              "outlinewidth": 0,
              "ticks": ""
             }
            },
            "type": "scattercarpet"
           }
          ],
          "scattergeo": [
           {
            "marker": {
             "colorbar": {
              "outlinewidth": 0,
              "ticks": ""
             }
            },
            "type": "scattergeo"
           }
          ],
          "scattergl": [
           {
            "marker": {
             "colorbar": {
              "outlinewidth": 0,
              "ticks": ""
             }
            },
            "type": "scattergl"
           }
          ],
          "scattermapbox": [
           {
            "marker": {
             "colorbar": {
              "outlinewidth": 0,
              "ticks": ""
             }
            },
            "type": "scattermapbox"
           }
          ],
          "scatterpolar": [
           {
            "marker": {
             "colorbar": {
              "outlinewidth": 0,
              "ticks": ""
             }
            },
            "type": "scatterpolar"
           }
          ],
          "scatterpolargl": [
           {
            "marker": {
             "colorbar": {
              "outlinewidth": 0,
              "ticks": ""
             }
            },
            "type": "scatterpolargl"
           }
          ],
          "scatterternary": [
           {
            "marker": {
             "colorbar": {
              "outlinewidth": 0,
              "ticks": ""
             }
            },
            "type": "scatterternary"
           }
          ],
          "surface": [
           {
            "colorbar": {
             "outlinewidth": 0,
             "ticks": ""
            },
            "colorscale": [
             [
              0,
              "#0d0887"
             ],
             [
              0.1111111111111111,
              "#46039f"
             ],
             [
              0.2222222222222222,
              "#7201a8"
             ],
             [
              0.3333333333333333,
              "#9c179e"
             ],
             [
              0.4444444444444444,
              "#bd3786"
             ],
             [
              0.5555555555555556,
              "#d8576b"
             ],
             [
              0.6666666666666666,
              "#ed7953"
             ],
             [
              0.7777777777777778,
              "#fb9f3a"
             ],
             [
              0.8888888888888888,
              "#fdca26"
             ],
             [
              1,
              "#f0f921"
             ]
            ],
            "type": "surface"
           }
          ],
          "table": [
           {
            "cells": {
             "fill": {
              "color": "#EBF0F8"
             },
             "line": {
              "color": "white"
             }
            },
            "header": {
             "fill": {
              "color": "#C8D4E3"
             },
             "line": {
              "color": "white"
             }
            },
            "type": "table"
           }
          ]
         },
         "layout": {
          "annotationdefaults": {
           "arrowcolor": "#2a3f5f",
           "arrowhead": 0,
           "arrowwidth": 1
          },
          "autotypenumbers": "strict",
          "coloraxis": {
           "colorbar": {
            "outlinewidth": 0,
            "ticks": ""
           }
          },
          "colorscale": {
           "diverging": [
            [
             0,
             "#8e0152"
            ],
            [
             0.1,
             "#c51b7d"
            ],
            [
             0.2,
             "#de77ae"
            ],
            [
             0.3,
             "#f1b6da"
            ],
            [
             0.4,
             "#fde0ef"
            ],
            [
             0.5,
             "#f7f7f7"
            ],
            [
             0.6,
             "#e6f5d0"
            ],
            [
             0.7,
             "#b8e186"
            ],
            [
             0.8,
             "#7fbc41"
            ],
            [
             0.9,
             "#4d9221"
            ],
            [
             1,
             "#276419"
            ]
           ],
           "sequential": [
            [
             0,
             "#0d0887"
            ],
            [
             0.1111111111111111,
             "#46039f"
            ],
            [
             0.2222222222222222,
             "#7201a8"
            ],
            [
             0.3333333333333333,
             "#9c179e"
            ],
            [
             0.4444444444444444,
             "#bd3786"
            ],
            [
             0.5555555555555556,
             "#d8576b"
            ],
            [
             0.6666666666666666,
             "#ed7953"
            ],
            [
             0.7777777777777778,
             "#fb9f3a"
            ],
            [
             0.8888888888888888,
             "#fdca26"
            ],
            [
             1,
             "#f0f921"
            ]
           ],
           "sequentialminus": [
            [
             0,
             "#0d0887"
            ],
            [
             0.1111111111111111,
             "#46039f"
            ],
            [
             0.2222222222222222,
             "#7201a8"
            ],
            [
             0.3333333333333333,
             "#9c179e"
            ],
            [
             0.4444444444444444,
             "#bd3786"
            ],
            [
             0.5555555555555556,
             "#d8576b"
            ],
            [
             0.6666666666666666,
             "#ed7953"
            ],
            [
             0.7777777777777778,
             "#fb9f3a"
            ],
            [
             0.8888888888888888,
             "#fdca26"
            ],
            [
             1,
             "#f0f921"
            ]
           ]
          },
          "colorway": [
           "#636efa",
           "#EF553B",
           "#00cc96",
           "#ab63fa",
           "#FFA15A",
           "#19d3f3",
           "#FF6692",
           "#B6E880",
           "#FF97FF",
           "#FECB52"
          ],
          "font": {
           "color": "#2a3f5f"
          },
          "geo": {
           "bgcolor": "white",
           "lakecolor": "white",
           "landcolor": "#E5ECF6",
           "showlakes": true,
           "showland": true,
           "subunitcolor": "white"
          },
          "hoverlabel": {
           "align": "left"
          },
          "hovermode": "closest",
          "mapbox": {
           "style": "light"
          },
          "paper_bgcolor": "white",
          "plot_bgcolor": "#E5ECF6",
          "polar": {
           "angularaxis": {
            "gridcolor": "white",
            "linecolor": "white",
            "ticks": ""
           },
           "bgcolor": "#E5ECF6",
           "radialaxis": {
            "gridcolor": "white",
            "linecolor": "white",
            "ticks": ""
           }
          },
          "scene": {
           "xaxis": {
            "backgroundcolor": "#E5ECF6",
            "gridcolor": "white",
            "gridwidth": 2,
            "linecolor": "white",
            "showbackground": true,
            "ticks": "",
            "zerolinecolor": "white"
           },
           "yaxis": {
            "backgroundcolor": "#E5ECF6",
            "gridcolor": "white",
            "gridwidth": 2,
            "linecolor": "white",
            "showbackground": true,
            "ticks": "",
            "zerolinecolor": "white"
           },
           "zaxis": {
            "backgroundcolor": "#E5ECF6",
            "gridcolor": "white",
            "gridwidth": 2,
            "linecolor": "white",
            "showbackground": true,
            "ticks": "",
            "zerolinecolor": "white"
           }
          },
          "shapedefaults": {
           "line": {
            "color": "#2a3f5f"
           }
          },
          "ternary": {
           "aaxis": {
            "gridcolor": "white",
            "linecolor": "white",
            "ticks": ""
           },
           "baxis": {
            "gridcolor": "white",
            "linecolor": "white",
            "ticks": ""
           },
           "bgcolor": "#E5ECF6",
           "caxis": {
            "gridcolor": "white",
            "linecolor": "white",
            "ticks": ""
           }
          },
          "title": {
           "x": 0.05
          },
          "xaxis": {
           "automargin": true,
           "gridcolor": "white",
           "linecolor": "white",
           "ticks": "",
           "title": {
            "standoff": 15
           },
           "zerolinecolor": "white",
           "zerolinewidth": 2
          },
          "yaxis": {
           "automargin": true,
           "gridcolor": "white",
           "linecolor": "white",
           "ticks": "",
           "title": {
            "standoff": 15
           },
           "zerolinecolor": "white",
           "zerolinewidth": 2
          }
         }
        },
        "title": {
         "text": "Top Artists on EDM Charts"
        },
        "xaxis": {
         "anchor": "y",
         "domain": [
          0,
          1
         ],
         "title": {
          "text": "Artists"
         }
        },
        "yaxis": {
         "anchor": "x",
         "domain": [
          0,
          1
         ],
         "title": {
          "text": "value"
         }
        }
       }
      }
     },
     "metadata": {},
     "output_type": "display_data"
    }
   ],
   "source": [
    "# Visualize data\n",
    "\n",
    "fig2 = px.bar(\n",
    "    artists_df,\n",
    "    color = \"value\",\n",
    "    color_continuous_scale='earth',\n",
    "    title = 'Top Artists on EDM Charts',\n",
    "    height = 800\n",
    ")\n",
    "fig2.show()\n"
   ]
  },
  {
   "cell_type": "code",
   "execution_count": 192,
   "id": "2bb19974-08b1-4078-a22c-e6f34c136ef3",
   "metadata": {},
   "outputs": [],
   "source": [
    "# Retrieve Lyrics for all TrackIDs\n",
    "track_ids \n",
    "\n",
    "lyrics=[]\n",
    "\n",
    "for trackID in track_ids:\n",
    "    querystring = {\"track_id\":trackID}\n",
    "    track_details_response = get_lyrics(querystring)\n",
    "\n",
    "    if track_details_response['sections'][1]['type'] != \"LYRICS\":  \n",
    "        lyrics.append([''])\n",
    "    else:\n",
    "        track_lyrics = track_details_response['sections'][1]['text']\n",
    "        lyrics.append(track_lyrics)"
   ]
  },
  {
   "cell_type": "code",
   "execution_count": 193,
   "id": "ebe728a0-c3c1-473c-af45-bd735cbca0b5",
   "metadata": {},
   "outputs": [
    {
     "data": {
      "text/html": [
       "<div>\n",
       "<style scoped>\n",
       "    .dataframe tbody tr th:only-of-type {\n",
       "        vertical-align: middle;\n",
       "    }\n",
       "\n",
       "    .dataframe tbody tr th {\n",
       "        vertical-align: top;\n",
       "    }\n",
       "\n",
       "    .dataframe thead th {\n",
       "        text-align: right;\n",
       "    }\n",
       "</style>\n",
       "<table border=\"1\" class=\"dataframe\">\n",
       "  <thead>\n",
       "    <tr style=\"text-align: right;\">\n",
       "      <th></th>\n",
       "      <th>Track Name</th>\n",
       "      <th>Artists</th>\n",
       "      <th>Lyrics</th>\n",
       "    </tr>\n",
       "  </thead>\n",
       "  <tbody>\n",
       "    <tr>\n",
       "      <th>385133121</th>\n",
       "      <td>Love Tonight</td>\n",
       "      <td>Shouse</td>\n",
       "      <td>Oh Oh oh Oh-oh Oh, oh-oh  When you're tired, w...</td>\n",
       "    </tr>\n",
       "    <tr>\n",
       "      <th>455370962</th>\n",
       "      <td>Lost In The Fire</td>\n",
       "      <td>Gesaffelstein &amp; The Weeknd</td>\n",
       "      <td>I wanna fuck you slow with the lights on (Ligh...</td>\n",
       "    </tr>\n",
       "    <tr>\n",
       "      <th>577082976</th>\n",
       "      <td>Candy Shop</td>\n",
       "      <td>CryJaxx &amp; Junior Charles</td>\n",
       "      <td>So seductive, let's go  I'll take you to the c...</td>\n",
       "    </tr>\n",
       "    <tr>\n",
       "      <th>588664699</th>\n",
       "      <td>Lipstick</td>\n",
       "      <td>Kungs</td>\n",
       "      <td>Open the door, just take me down, I wanna step...</td>\n",
       "    </tr>\n",
       "    <tr>\n",
       "      <th>140516014</th>\n",
       "      <td>After Dark</td>\n",
       "      <td>Mr.Kitty</td>\n",
       "      <td>I see you, you see me How pleasant, this feeli...</td>\n",
       "    </tr>\n",
       "  </tbody>\n",
       "</table>\n",
       "</div>"
      ],
      "text/plain": [
       "                 Track Name                     Artists  \\\n",
       "385133121      Love Tonight                      Shouse   \n",
       "455370962  Lost In The Fire  Gesaffelstein & The Weeknd   \n",
       "577082976        Candy Shop    CryJaxx & Junior Charles   \n",
       "588664699          Lipstick                       Kungs   \n",
       "140516014        After Dark                    Mr.Kitty   \n",
       "\n",
       "                                                      Lyrics  \n",
       "385133121  Oh Oh oh Oh-oh Oh, oh-oh  When you're tired, w...  \n",
       "455370962  I wanna fuck you slow with the lights on (Ligh...  \n",
       "577082976  So seductive, let's go  I'll take you to the c...  \n",
       "588664699  Open the door, just take me down, I wanna step...  \n",
       "140516014  I see you, you see me How pleasant, this feeli...  "
      ]
     },
     "execution_count": 193,
     "metadata": {},
     "output_type": "execute_result"
    }
   ],
   "source": [
    "# Add lyrics column to dataframe with chart songs\n",
    "\n",
    "all_lyrics = pd.Series(\" \".join(map(str,song)) for song in lyrics) #each song is stored as a list, this turns each list into a string\n",
    "all_lyrics_df = pd.DataFrame({\"Lyrics\": all_lyrics, \"Track IDs\": track_ids}).set_index('Track IDs')\n",
    "\n",
    "lyrics_df = pd.concat([chart_songs, all_lyrics_df], axis=1)\n",
    "lyrics_df.head(5)"
   ]
  },
  {
   "cell_type": "code",
   "execution_count": 194,
   "id": "54ab061e-f8e8-4cc8-8a84-bdd19b7dc904",
   "metadata": {},
   "outputs": [
    {
     "data": {
      "text/html": [
       "<div>\n",
       "<style scoped>\n",
       "    .dataframe tbody tr th:only-of-type {\n",
       "        vertical-align: middle;\n",
       "    }\n",
       "\n",
       "    .dataframe tbody tr th {\n",
       "        vertical-align: top;\n",
       "    }\n",
       "\n",
       "    .dataframe thead th {\n",
       "        text-align: right;\n",
       "    }\n",
       "</style>\n",
       "<table border=\"1\" class=\"dataframe\">\n",
       "  <thead>\n",
       "    <tr style=\"text-align: right;\">\n",
       "      <th></th>\n",
       "      <th>Track Name</th>\n",
       "      <th>Artists</th>\n",
       "      <th>Lyrics</th>\n",
       "    </tr>\n",
       "  </thead>\n",
       "  <tbody>\n",
       "    <tr>\n",
       "      <th>385133121</th>\n",
       "      <td>Love Tonight</td>\n",
       "      <td>Shouse</td>\n",
       "      <td>Oh Oh oh Oh-oh Oh, oh-oh  When you're tired, w...</td>\n",
       "    </tr>\n",
       "    <tr>\n",
       "      <th>455370962</th>\n",
       "      <td>Lost In The Fire</td>\n",
       "      <td>Gesaffelstein &amp; The Weeknd</td>\n",
       "      <td>I wanna fuck you slow with the lights on (Ligh...</td>\n",
       "    </tr>\n",
       "    <tr>\n",
       "      <th>577082976</th>\n",
       "      <td>Candy Shop</td>\n",
       "      <td>CryJaxx &amp; Junior Charles</td>\n",
       "      <td>So seductive, let's go  I'll take you to the c...</td>\n",
       "    </tr>\n",
       "    <tr>\n",
       "      <th>588664699</th>\n",
       "      <td>Lipstick</td>\n",
       "      <td>Kungs</td>\n",
       "      <td>Open the door, just take me down, I wanna step...</td>\n",
       "    </tr>\n",
       "    <tr>\n",
       "      <th>140516014</th>\n",
       "      <td>After Dark</td>\n",
       "      <td>Mr.Kitty</td>\n",
       "      <td>I see you, you see me How pleasant, this feeli...</td>\n",
       "    </tr>\n",
       "    <tr>\n",
       "      <th>568196935</th>\n",
       "      <td>Never Going Home</td>\n",
       "      <td>Kungs</td>\n",
       "      <td>Music (we can do it) We're only human (I can f...</td>\n",
       "    </tr>\n",
       "    <tr>\n",
       "      <th>582570870</th>\n",
       "      <td>Hurricane</td>\n",
       "      <td>Ofenbach &amp; Ella Henderson</td>\n",
       "      <td>Mm, hmm  I want you to hold on, I want you to ...</td>\n",
       "    </tr>\n",
       "    <tr>\n",
       "      <th>557351619</th>\n",
       "      <td>Marea (We’ve Lost Dancing)</td>\n",
       "      <td>Fred again.. &amp; The Blessed Madonna</td>\n",
       "      <td>We've lost dancing (lost dancing) This year we...</td>\n",
       "    </tr>\n",
       "    <tr>\n",
       "      <th>87244312</th>\n",
       "      <td>Midnight City</td>\n",
       "      <td>M83</td>\n",
       "      <td>Waiting in a car Waiting for a ride in the dar...</td>\n",
       "    </tr>\n",
       "    <tr>\n",
       "      <th>317723994</th>\n",
       "      <td>This Girl</td>\n",
       "      <td>Kungs &amp; Cookin' On 3 Burners</td>\n",
       "      <td>Money rains from the sky above But keep the ch...</td>\n",
       "    </tr>\n",
       "    <tr>\n",
       "      <th>559511392</th>\n",
       "      <td>Keep Moving</td>\n",
       "      <td>Jungle</td>\n",
       "      <td>Unless you understand it And find out what to ...</td>\n",
       "    </tr>\n",
       "    <tr>\n",
       "      <th>435739670</th>\n",
       "      <td>Hislerim</td>\n",
       "      <td>Serhat Durmus Feat. Zerrin</td>\n",
       "      <td>Ruhum yeniden doğdu Ama sanki her şey kayboldu...</td>\n",
       "    </tr>\n",
       "    <tr>\n",
       "      <th>590490863</th>\n",
       "      <td>Measure of a Man</td>\n",
       "      <td>FKA twigs Feat. Central Cee</td>\n",
       "      <td>Nobody feels the pain behind the love you show...</td>\n",
       "    </tr>\n",
       "    <tr>\n",
       "      <th>161306206</th>\n",
       "      <td>Hey Mama</td>\n",
       "      <td>David Guetta Feat. Nicki Minaj &amp; Bebe Rexha &amp; ...</td>\n",
       "      <td>Be my woman, girl, and I'll be your man Be my ...</td>\n",
       "    </tr>\n",
       "    <tr>\n",
       "      <th>308574363</th>\n",
       "      <td>Devil Eyes</td>\n",
       "      <td>Hippie Sabotage</td>\n",
       "      <td>You got the devil in your eyes You went and to...</td>\n",
       "    </tr>\n",
       "    <tr>\n",
       "      <th>276680635</th>\n",
       "      <td>Lean On</td>\n",
       "      <td>Major Lazer Feat. MØ &amp; DJ Snake</td>\n",
       "      <td>Do you recall, not long ago We would walk on t...</td>\n",
       "    </tr>\n",
       "    <tr>\n",
       "      <th>581891303</th>\n",
       "      <td>Osama</td>\n",
       "      <td>Zakes Bantwini &amp; Kasango</td>\n",
       "      <td>Omapadikero osonakoluna Saniladikero osonakolu...</td>\n",
       "    </tr>\n",
       "    <tr>\n",
       "      <th>276475110</th>\n",
       "      <td>Ocean Drive</td>\n",
       "      <td>Duke Dumont</td>\n",
       "      <td>We're riding down the boulevard We're riding t...</td>\n",
       "    </tr>\n",
       "    <tr>\n",
       "      <th>565950207</th>\n",
       "      <td>Ani kuni</td>\n",
       "      <td>Polo &amp; Pan</td>\n",
       "      <td>Ani kuni chaouani Ani kuni chaouani Awawa bika...</td>\n",
       "    </tr>\n",
       "    <tr>\n",
       "      <th>51308450</th>\n",
       "      <td>To Build A Home</td>\n",
       "      <td>The Cinematic Orchestra Feat. Patrick Watson</td>\n",
       "      <td>There is a house built out of stone Wooden flo...</td>\n",
       "    </tr>\n",
       "    <tr>\n",
       "      <th>577785448</th>\n",
       "      <td>Drive</td>\n",
       "      <td>Clean Bandit &amp; Topic Feat. Wes Nelson</td>\n",
       "      <td>Drive  I, I never thought I'd be your type (I,...</td>\n",
       "    </tr>\n",
       "    <tr>\n",
       "      <th>589730835</th>\n",
       "      <td>Message In A Bottle (Colorblast Version)</td>\n",
       "      <td>Colorblast</td>\n",
       "      <td>Sending out an SOS Sending out an SOS Sending ...</td>\n",
       "    </tr>\n",
       "    <tr>\n",
       "      <th>470972835</th>\n",
       "      <td>Trust Nobody</td>\n",
       "      <td>Hippie Sabotage</td>\n",
       "      <td>I don't trust nobody I don't even trust my min...</td>\n",
       "    </tr>\n",
       "    <tr>\n",
       "      <th>96309796</th>\n",
       "      <td>Latch</td>\n",
       "      <td>Disclosure Feat. Sam Smith</td>\n",
       "      <td>You lift my heart up When the rest of me is do...</td>\n",
       "    </tr>\n",
       "    <tr>\n",
       "      <th>44172210</th>\n",
       "      <td>World, Hold On</td>\n",
       "      <td>Bob Sinclar</td>\n",
       "      <td>Open up your heart, what do you feel Open up y...</td>\n",
       "    </tr>\n",
       "    <tr>\n",
       "      <th>11198507</th>\n",
       "      <td>It's The Most Wonderful Time Of The Year</td>\n",
       "      <td>Andy Williams</td>\n",
       "      <td>It's the most wonderful time of the year With ...</td>\n",
       "    </tr>\n",
       "    <tr>\n",
       "      <th>247261281</th>\n",
       "      <td>Run Run!</td>\n",
       "      <td>Jorge Aguilar II</td>\n",
       "      <td>Welcome to the Five Nights at Freddy's Experie...</td>\n",
       "    </tr>\n",
       "    <tr>\n",
       "      <th>225450</th>\n",
       "      <td>Glory Box</td>\n",
       "      <td>Portishead</td>\n",
       "      <td>I'm so tired of playing Playing with this bow ...</td>\n",
       "    </tr>\n",
       "    <tr>\n",
       "      <th>541653231</th>\n",
       "      <td>Wasted Love</td>\n",
       "      <td>Ofenbach</td>\n",
       "      <td>Lo-lo-lo, love Lo-lo-lo, love Lo-lo-lo, lo-lo-...</td>\n",
       "    </tr>\n",
       "    <tr>\n",
       "      <th>463104430</th>\n",
       "      <td>Fire For You</td>\n",
       "      <td>Cannons</td>\n",
       "      <td>I was on fire for you Where did you go? I coul...</td>\n",
       "    </tr>\n",
       "    <tr>\n",
       "      <th>52166505</th>\n",
       "      <td>Nightcall</td>\n",
       "      <td>Kavinsky</td>\n",
       "      <td>I'm giving you a night call to tell you how I ...</td>\n",
       "    </tr>\n",
       "    <tr>\n",
       "      <th>45198089</th>\n",
       "      <td>Paper Planes</td>\n",
       "      <td>M.I.A.</td>\n",
       "      <td>I fly like paper, get high like planes If you ...</td>\n",
       "    </tr>\n",
       "    <tr>\n",
       "      <th>507741051</th>\n",
       "      <td>Shake It</td>\n",
       "      <td>INNDRIVE</td>\n",
       "      <td>Shake it Don't stop Shake it Don't stop Shake ...</td>\n",
       "    </tr>\n",
       "    <tr>\n",
       "      <th>57892451</th>\n",
       "      <td>I've Been Thinking About You</td>\n",
       "      <td>Londonbeat</td>\n",
       "      <td>We must have been stone crazy When we thought ...</td>\n",
       "    </tr>\n",
       "    <tr>\n",
       "      <th>224806500</th>\n",
       "      <td>King</td>\n",
       "      <td>Years &amp; Years</td>\n",
       "      <td>I caught you watching me under the light Can I...</td>\n",
       "    </tr>\n",
       "    <tr>\n",
       "      <th>40813915</th>\n",
       "      <td>Everytime We Touch</td>\n",
       "      <td>Cascada</td>\n",
       "      <td>I still hear your voice when you sleep next to...</td>\n",
       "    </tr>\n",
       "  </tbody>\n",
       "</table>\n",
       "</div>"
      ],
      "text/plain": [
       "                                         Track Name  \\\n",
       "385133121                              Love Tonight   \n",
       "455370962                          Lost In The Fire   \n",
       "577082976                                Candy Shop   \n",
       "588664699                                  Lipstick   \n",
       "140516014                                After Dark   \n",
       "568196935                          Never Going Home   \n",
       "582570870                                 Hurricane   \n",
       "557351619                Marea (We’ve Lost Dancing)   \n",
       "87244312                              Midnight City   \n",
       "317723994                                 This Girl   \n",
       "559511392                               Keep Moving   \n",
       "435739670                                  Hislerim   \n",
       "590490863                          Measure of a Man   \n",
       "161306206                                  Hey Mama   \n",
       "308574363                                Devil Eyes   \n",
       "276680635                                   Lean On   \n",
       "581891303                                     Osama   \n",
       "276475110                               Ocean Drive   \n",
       "565950207                                  Ani kuni   \n",
       "51308450                            To Build A Home   \n",
       "577785448                                     Drive   \n",
       "589730835  Message In A Bottle (Colorblast Version)   \n",
       "470972835                              Trust Nobody   \n",
       "96309796                                      Latch   \n",
       "44172210                             World, Hold On   \n",
       "11198507   It's The Most Wonderful Time Of The Year   \n",
       "247261281                                  Run Run!   \n",
       "225450                                    Glory Box   \n",
       "541653231                               Wasted Love   \n",
       "463104430                              Fire For You   \n",
       "52166505                                  Nightcall   \n",
       "45198089                               Paper Planes   \n",
       "507741051                                  Shake It   \n",
       "57892451               I've Been Thinking About You   \n",
       "224806500                                      King   \n",
       "40813915                         Everytime We Touch   \n",
       "\n",
       "                                                     Artists  \\\n",
       "385133121                                             Shouse   \n",
       "455370962                         Gesaffelstein & The Weeknd   \n",
       "577082976                           CryJaxx & Junior Charles   \n",
       "588664699                                              Kungs   \n",
       "140516014                                           Mr.Kitty   \n",
       "568196935                                              Kungs   \n",
       "582570870                          Ofenbach & Ella Henderson   \n",
       "557351619                 Fred again.. & The Blessed Madonna   \n",
       "87244312                                                 M83   \n",
       "317723994                       Kungs & Cookin' On 3 Burners   \n",
       "559511392                                             Jungle   \n",
       "435739670                         Serhat Durmus Feat. Zerrin   \n",
       "590490863                        FKA twigs Feat. Central Cee   \n",
       "161306206  David Guetta Feat. Nicki Minaj & Bebe Rexha & ...   \n",
       "308574363                                    Hippie Sabotage   \n",
       "276680635                    Major Lazer Feat. MØ & DJ Snake   \n",
       "581891303                           Zakes Bantwini & Kasango   \n",
       "276475110                                        Duke Dumont   \n",
       "565950207                                         Polo & Pan   \n",
       "51308450        The Cinematic Orchestra Feat. Patrick Watson   \n",
       "577785448              Clean Bandit & Topic Feat. Wes Nelson   \n",
       "589730835                                         Colorblast   \n",
       "470972835                                    Hippie Sabotage   \n",
       "96309796                          Disclosure Feat. Sam Smith   \n",
       "44172210                                         Bob Sinclar   \n",
       "11198507                                       Andy Williams   \n",
       "247261281                                   Jorge Aguilar II   \n",
       "225450                                            Portishead   \n",
       "541653231                                           Ofenbach   \n",
       "463104430                                            Cannons   \n",
       "52166505                                            Kavinsky   \n",
       "45198089                                              M.I.A.   \n",
       "507741051                                           INNDRIVE   \n",
       "57892451                                          Londonbeat   \n",
       "224806500                                      Years & Years   \n",
       "40813915                                             Cascada   \n",
       "\n",
       "                                                      Lyrics  \n",
       "385133121  Oh Oh oh Oh-oh Oh, oh-oh  When you're tired, w...  \n",
       "455370962  I wanna fuck you slow with the lights on (Ligh...  \n",
       "577082976  So seductive, let's go  I'll take you to the c...  \n",
       "588664699  Open the door, just take me down, I wanna step...  \n",
       "140516014  I see you, you see me How pleasant, this feeli...  \n",
       "568196935  Music (we can do it) We're only human (I can f...  \n",
       "582570870  Mm, hmm  I want you to hold on, I want you to ...  \n",
       "557351619  We've lost dancing (lost dancing) This year we...  \n",
       "87244312   Waiting in a car Waiting for a ride in the dar...  \n",
       "317723994  Money rains from the sky above But keep the ch...  \n",
       "559511392  Unless you understand it And find out what to ...  \n",
       "435739670  Ruhum yeniden doğdu Ama sanki her şey kayboldu...  \n",
       "590490863  Nobody feels the pain behind the love you show...  \n",
       "161306206  Be my woman, girl, and I'll be your man Be my ...  \n",
       "308574363  You got the devil in your eyes You went and to...  \n",
       "276680635  Do you recall, not long ago We would walk on t...  \n",
       "581891303  Omapadikero osonakoluna Saniladikero osonakolu...  \n",
       "276475110  We're riding down the boulevard We're riding t...  \n",
       "565950207  Ani kuni chaouani Ani kuni chaouani Awawa bika...  \n",
       "51308450   There is a house built out of stone Wooden flo...  \n",
       "577785448  Drive  I, I never thought I'd be your type (I,...  \n",
       "589730835  Sending out an SOS Sending out an SOS Sending ...  \n",
       "470972835  I don't trust nobody I don't even trust my min...  \n",
       "96309796   You lift my heart up When the rest of me is do...  \n",
       "44172210   Open up your heart, what do you feel Open up y...  \n",
       "11198507   It's the most wonderful time of the year With ...  \n",
       "247261281  Welcome to the Five Nights at Freddy's Experie...  \n",
       "225450     I'm so tired of playing Playing with this bow ...  \n",
       "541653231  Lo-lo-lo, love Lo-lo-lo, love Lo-lo-lo, lo-lo-...  \n",
       "463104430  I was on fire for you Where did you go? I coul...  \n",
       "52166505   I'm giving you a night call to tell you how I ...  \n",
       "45198089   I fly like paper, get high like planes If you ...  \n",
       "507741051  Shake it Don't stop Shake it Don't stop Shake ...  \n",
       "57892451   We must have been stone crazy When we thought ...  \n",
       "224806500  I caught you watching me under the light Can I...  \n",
       "40813915   I still hear your voice when you sleep next to...  "
      ]
     },
     "execution_count": 194,
     "metadata": {},
     "output_type": "execute_result"
    }
   ],
   "source": [
    "lyrics_df.drop(lyrics_df.loc[lyrics_df['Lyrics'] == ''].index.tolist(), inplace=True)\n",
    "lyrics_df.head(50)"
   ]
  },
  {
   "cell_type": "code",
   "execution_count": 195,
   "id": "1196d78d-359b-4f0e-94e5-b670552b7919",
   "metadata": {},
   "outputs": [
    {
     "data": {
      "text/html": [
       "<div>\n",
       "<style scoped>\n",
       "    .dataframe tbody tr th:only-of-type {\n",
       "        vertical-align: middle;\n",
       "    }\n",
       "\n",
       "    .dataframe tbody tr th {\n",
       "        vertical-align: top;\n",
       "    }\n",
       "\n",
       "    .dataframe thead th {\n",
       "        text-align: right;\n",
       "    }\n",
       "</style>\n",
       "<table border=\"1\" class=\"dataframe\">\n",
       "  <thead>\n",
       "    <tr style=\"text-align: right;\">\n",
       "      <th></th>\n",
       "      <th>Track Name</th>\n",
       "      <th>Artists</th>\n",
       "      <th>Lyrics</th>\n",
       "    </tr>\n",
       "  </thead>\n",
       "  <tbody>\n",
       "    <tr>\n",
       "      <th>385133121</th>\n",
       "      <td>Love Tonight</td>\n",
       "      <td>Shouse</td>\n",
       "      <td>Oh Oh oh Oh-oh Oh, oh-oh  When you're tired, w...</td>\n",
       "    </tr>\n",
       "    <tr>\n",
       "      <th>455370962</th>\n",
       "      <td>Lost In The Fire</td>\n",
       "      <td>Gesaffelstein &amp; The Weeknd</td>\n",
       "      <td>I wanna fuck you slow with the lights on (Ligh...</td>\n",
       "    </tr>\n",
       "    <tr>\n",
       "      <th>577082976</th>\n",
       "      <td>Candy Shop</td>\n",
       "      <td>CryJaxx &amp; Junior Charles</td>\n",
       "      <td>So seductive, let's go  I'll take you to the c...</td>\n",
       "    </tr>\n",
       "    <tr>\n",
       "      <th>588664699</th>\n",
       "      <td>Lipstick</td>\n",
       "      <td>Kungs</td>\n",
       "      <td>Open the door, just take me down, I wanna step...</td>\n",
       "    </tr>\n",
       "    <tr>\n",
       "      <th>140516014</th>\n",
       "      <td>After Dark</td>\n",
       "      <td>Mr.Kitty</td>\n",
       "      <td>I see you, you see me How pleasant, this feeli...</td>\n",
       "    </tr>\n",
       "    <tr>\n",
       "      <th>568196935</th>\n",
       "      <td>Never Going Home</td>\n",
       "      <td>Kungs</td>\n",
       "      <td>Music (we can do it) We're only human (I can f...</td>\n",
       "    </tr>\n",
       "    <tr>\n",
       "      <th>582570870</th>\n",
       "      <td>Hurricane</td>\n",
       "      <td>Ofenbach &amp; Ella Henderson</td>\n",
       "      <td>Mm, hmm  I want you to hold on, I want you to ...</td>\n",
       "    </tr>\n",
       "    <tr>\n",
       "      <th>557351619</th>\n",
       "      <td>Marea (We’ve Lost Dancing)</td>\n",
       "      <td>Fred again.. &amp; The Blessed Madonna</td>\n",
       "      <td>We've lost dancing (lost dancing) This year we...</td>\n",
       "    </tr>\n",
       "    <tr>\n",
       "      <th>87244312</th>\n",
       "      <td>Midnight City</td>\n",
       "      <td>M83</td>\n",
       "      <td>Waiting in a car Waiting for a ride in the dar...</td>\n",
       "    </tr>\n",
       "    <tr>\n",
       "      <th>317723994</th>\n",
       "      <td>This Girl</td>\n",
       "      <td>Kungs &amp; Cookin' On 3 Burners</td>\n",
       "      <td>Money rains from the sky above But keep the ch...</td>\n",
       "    </tr>\n",
       "    <tr>\n",
       "      <th>559511392</th>\n",
       "      <td>Keep Moving</td>\n",
       "      <td>Jungle</td>\n",
       "      <td>Unless you understand it And find out what to ...</td>\n",
       "    </tr>\n",
       "    <tr>\n",
       "      <th>435739670</th>\n",
       "      <td>Hislerim</td>\n",
       "      <td>Serhat Durmus Feat. Zerrin</td>\n",
       "      <td>Ruhum yeniden doğdu Ama sanki her şey kayboldu...</td>\n",
       "    </tr>\n",
       "    <tr>\n",
       "      <th>590490863</th>\n",
       "      <td>Measure of a Man</td>\n",
       "      <td>FKA twigs Feat. Central Cee</td>\n",
       "      <td>Nobody feels the pain behind the love you show...</td>\n",
       "    </tr>\n",
       "    <tr>\n",
       "      <th>161306206</th>\n",
       "      <td>Hey Mama</td>\n",
       "      <td>David Guetta Feat. Nicki Minaj &amp; Bebe Rexha &amp; ...</td>\n",
       "      <td>Be my woman, girl, and I'll be your man Be my ...</td>\n",
       "    </tr>\n",
       "    <tr>\n",
       "      <th>308574363</th>\n",
       "      <td>Devil Eyes</td>\n",
       "      <td>Hippie Sabotage</td>\n",
       "      <td>You got the devil in your eyes You went and to...</td>\n",
       "    </tr>\n",
       "    <tr>\n",
       "      <th>276680635</th>\n",
       "      <td>Lean On</td>\n",
       "      <td>Major Lazer Feat. MØ &amp; DJ Snake</td>\n",
       "      <td>Do you recall, not long ago We would walk on t...</td>\n",
       "    </tr>\n",
       "    <tr>\n",
       "      <th>581891303</th>\n",
       "      <td>Osama</td>\n",
       "      <td>Zakes Bantwini &amp; Kasango</td>\n",
       "      <td>Omapadikero osonakoluna Saniladikero osonakolu...</td>\n",
       "    </tr>\n",
       "    <tr>\n",
       "      <th>276475110</th>\n",
       "      <td>Ocean Drive</td>\n",
       "      <td>Duke Dumont</td>\n",
       "      <td>We're riding down the boulevard We're riding t...</td>\n",
       "    </tr>\n",
       "    <tr>\n",
       "      <th>565950207</th>\n",
       "      <td>Ani kuni</td>\n",
       "      <td>Polo &amp; Pan</td>\n",
       "      <td>Ani kuni chaouani Ani kuni chaouani Awawa bika...</td>\n",
       "    </tr>\n",
       "    <tr>\n",
       "      <th>51308450</th>\n",
       "      <td>To Build A Home</td>\n",
       "      <td>The Cinematic Orchestra Feat. Patrick Watson</td>\n",
       "      <td>There is a house built out of stone Wooden flo...</td>\n",
       "    </tr>\n",
       "    <tr>\n",
       "      <th>577785448</th>\n",
       "      <td>Drive</td>\n",
       "      <td>Clean Bandit &amp; Topic Feat. Wes Nelson</td>\n",
       "      <td>Drive  I, I never thought I'd be your type (I,...</td>\n",
       "    </tr>\n",
       "    <tr>\n",
       "      <th>589730835</th>\n",
       "      <td>Message In A Bottle (Colorblast Version)</td>\n",
       "      <td>Colorblast</td>\n",
       "      <td>Sending out an SOS Sending out an SOS Sending ...</td>\n",
       "    </tr>\n",
       "    <tr>\n",
       "      <th>470972835</th>\n",
       "      <td>Trust Nobody</td>\n",
       "      <td>Hippie Sabotage</td>\n",
       "      <td>I don't trust nobody I don't even trust my min...</td>\n",
       "    </tr>\n",
       "    <tr>\n",
       "      <th>96309796</th>\n",
       "      <td>Latch</td>\n",
       "      <td>Disclosure Feat. Sam Smith</td>\n",
       "      <td>You lift my heart up When the rest of me is do...</td>\n",
       "    </tr>\n",
       "    <tr>\n",
       "      <th>44172210</th>\n",
       "      <td>World, Hold On</td>\n",
       "      <td>Bob Sinclar</td>\n",
       "      <td>Open up your heart, what do you feel Open up y...</td>\n",
       "    </tr>\n",
       "    <tr>\n",
       "      <th>11198507</th>\n",
       "      <td>It's The Most Wonderful Time Of The Year</td>\n",
       "      <td>Andy Williams</td>\n",
       "      <td>It's the most wonderful time of the year With ...</td>\n",
       "    </tr>\n",
       "    <tr>\n",
       "      <th>247261281</th>\n",
       "      <td>Run Run!</td>\n",
       "      <td>Jorge Aguilar II</td>\n",
       "      <td>Welcome to the Five Nights at Freddy's Experie...</td>\n",
       "    </tr>\n",
       "    <tr>\n",
       "      <th>225450</th>\n",
       "      <td>Glory Box</td>\n",
       "      <td>Portishead</td>\n",
       "      <td>I'm so tired of playing Playing with this bow ...</td>\n",
       "    </tr>\n",
       "    <tr>\n",
       "      <th>541653231</th>\n",
       "      <td>Wasted Love</td>\n",
       "      <td>Ofenbach</td>\n",
       "      <td>Lo-lo-lo, love Lo-lo-lo, love Lo-lo-lo, lo-lo-...</td>\n",
       "    </tr>\n",
       "    <tr>\n",
       "      <th>463104430</th>\n",
       "      <td>Fire For You</td>\n",
       "      <td>Cannons</td>\n",
       "      <td>I was on fire for you Where did you go? I coul...</td>\n",
       "    </tr>\n",
       "    <tr>\n",
       "      <th>52166505</th>\n",
       "      <td>Nightcall</td>\n",
       "      <td>Kavinsky</td>\n",
       "      <td>I'm giving you a night call to tell you how I ...</td>\n",
       "    </tr>\n",
       "    <tr>\n",
       "      <th>45198089</th>\n",
       "      <td>Paper Planes</td>\n",
       "      <td>M.I.A.</td>\n",
       "      <td>I fly like paper, get high like planes If you ...</td>\n",
       "    </tr>\n",
       "    <tr>\n",
       "      <th>507741051</th>\n",
       "      <td>Shake It</td>\n",
       "      <td>INNDRIVE</td>\n",
       "      <td>Shake it Don't stop Shake it Don't stop Shake ...</td>\n",
       "    </tr>\n",
       "    <tr>\n",
       "      <th>57892451</th>\n",
       "      <td>I've Been Thinking About You</td>\n",
       "      <td>Londonbeat</td>\n",
       "      <td>We must have been stone crazy When we thought ...</td>\n",
       "    </tr>\n",
       "    <tr>\n",
       "      <th>224806500</th>\n",
       "      <td>King</td>\n",
       "      <td>Years &amp; Years</td>\n",
       "      <td>I caught you watching me under the light Can I...</td>\n",
       "    </tr>\n",
       "    <tr>\n",
       "      <th>40813915</th>\n",
       "      <td>Everytime We Touch</td>\n",
       "      <td>Cascada</td>\n",
       "      <td>I still hear your voice when you sleep next to...</td>\n",
       "    </tr>\n",
       "  </tbody>\n",
       "</table>\n",
       "</div>"
      ],
      "text/plain": [
       "                                         Track Name  \\\n",
       "385133121                              Love Tonight   \n",
       "455370962                          Lost In The Fire   \n",
       "577082976                                Candy Shop   \n",
       "588664699                                  Lipstick   \n",
       "140516014                                After Dark   \n",
       "568196935                          Never Going Home   \n",
       "582570870                                 Hurricane   \n",
       "557351619                Marea (We’ve Lost Dancing)   \n",
       "87244312                              Midnight City   \n",
       "317723994                                 This Girl   \n",
       "559511392                               Keep Moving   \n",
       "435739670                                  Hislerim   \n",
       "590490863                          Measure of a Man   \n",
       "161306206                                  Hey Mama   \n",
       "308574363                                Devil Eyes   \n",
       "276680635                                   Lean On   \n",
       "581891303                                     Osama   \n",
       "276475110                               Ocean Drive   \n",
       "565950207                                  Ani kuni   \n",
       "51308450                            To Build A Home   \n",
       "577785448                                     Drive   \n",
       "589730835  Message In A Bottle (Colorblast Version)   \n",
       "470972835                              Trust Nobody   \n",
       "96309796                                      Latch   \n",
       "44172210                             World, Hold On   \n",
       "11198507   It's The Most Wonderful Time Of The Year   \n",
       "247261281                                  Run Run!   \n",
       "225450                                    Glory Box   \n",
       "541653231                               Wasted Love   \n",
       "463104430                              Fire For You   \n",
       "52166505                                  Nightcall   \n",
       "45198089                               Paper Planes   \n",
       "507741051                                  Shake It   \n",
       "57892451               I've Been Thinking About You   \n",
       "224806500                                      King   \n",
       "40813915                         Everytime We Touch   \n",
       "\n",
       "                                                     Artists  \\\n",
       "385133121                                             Shouse   \n",
       "455370962                         Gesaffelstein & The Weeknd   \n",
       "577082976                           CryJaxx & Junior Charles   \n",
       "588664699                                              Kungs   \n",
       "140516014                                           Mr.Kitty   \n",
       "568196935                                              Kungs   \n",
       "582570870                          Ofenbach & Ella Henderson   \n",
       "557351619                 Fred again.. & The Blessed Madonna   \n",
       "87244312                                                 M83   \n",
       "317723994                       Kungs & Cookin' On 3 Burners   \n",
       "559511392                                             Jungle   \n",
       "435739670                         Serhat Durmus Feat. Zerrin   \n",
       "590490863                        FKA twigs Feat. Central Cee   \n",
       "161306206  David Guetta Feat. Nicki Minaj & Bebe Rexha & ...   \n",
       "308574363                                    Hippie Sabotage   \n",
       "276680635                    Major Lazer Feat. MØ & DJ Snake   \n",
       "581891303                           Zakes Bantwini & Kasango   \n",
       "276475110                                        Duke Dumont   \n",
       "565950207                                         Polo & Pan   \n",
       "51308450        The Cinematic Orchestra Feat. Patrick Watson   \n",
       "577785448              Clean Bandit & Topic Feat. Wes Nelson   \n",
       "589730835                                         Colorblast   \n",
       "470972835                                    Hippie Sabotage   \n",
       "96309796                          Disclosure Feat. Sam Smith   \n",
       "44172210                                         Bob Sinclar   \n",
       "11198507                                       Andy Williams   \n",
       "247261281                                   Jorge Aguilar II   \n",
       "225450                                            Portishead   \n",
       "541653231                                           Ofenbach   \n",
       "463104430                                            Cannons   \n",
       "52166505                                            Kavinsky   \n",
       "45198089                                              M.I.A.   \n",
       "507741051                                           INNDRIVE   \n",
       "57892451                                          Londonbeat   \n",
       "224806500                                      Years & Years   \n",
       "40813915                                             Cascada   \n",
       "\n",
       "                                                      Lyrics  \n",
       "385133121  Oh Oh oh Oh-oh Oh, oh-oh  When you're tired, w...  \n",
       "455370962  I wanna fuck you slow with the lights on (Ligh...  \n",
       "577082976  So seductive, let's go  I'll take you to the c...  \n",
       "588664699  Open the door, just take me down, I wanna step...  \n",
       "140516014  I see you, you see me How pleasant, this feeli...  \n",
       "568196935  Music (we can do it) We're only human (I can f...  \n",
       "582570870  Mm, hmm  I want you to hold on, I want you to ...  \n",
       "557351619  We've lost dancing (lost dancing) This year we...  \n",
       "87244312   Waiting in a car Waiting for a ride in the dar...  \n",
       "317723994  Money rains from the sky above But keep the ch...  \n",
       "559511392  Unless you understand it And find out what to ...  \n",
       "435739670  Ruhum yeniden doğdu Ama sanki her şey kayboldu...  \n",
       "590490863  Nobody feels the pain behind the love you show...  \n",
       "161306206  Be my woman, girl, and I'll be your man Be my ...  \n",
       "308574363  You got the devil in your eyes You went and to...  \n",
       "276680635  Do you recall, not long ago We would walk on t...  \n",
       "581891303  Omapadikero osonakoluna Saniladikero osonakolu...  \n",
       "276475110  We're riding down the boulevard We're riding t...  \n",
       "565950207  Ani kuni chaouani Ani kuni chaouani Awawa bika...  \n",
       "51308450   There is a house built out of stone Wooden flo...  \n",
       "577785448  Drive  I, I never thought I'd be your type (I,...  \n",
       "589730835  Sending out an SOS Sending out an SOS Sending ...  \n",
       "470972835  I don't trust nobody I don't even trust my min...  \n",
       "96309796   You lift my heart up When the rest of me is do...  \n",
       "44172210   Open up your heart, what do you feel Open up y...  \n",
       "11198507   It's the most wonderful time of the year With ...  \n",
       "247261281  Welcome to the Five Nights at Freddy's Experie...  \n",
       "225450     I'm so tired of playing Playing with this bow ...  \n",
       "541653231  Lo-lo-lo, love Lo-lo-lo, love Lo-lo-lo, lo-lo-...  \n",
       "463104430  I was on fire for you Where did you go? I coul...  \n",
       "52166505   I'm giving you a night call to tell you how I ...  \n",
       "45198089   I fly like paper, get high like planes If you ...  \n",
       "507741051  Shake it Don't stop Shake it Don't stop Shake ...  \n",
       "57892451   We must have been stone crazy When we thought ...  \n",
       "224806500  I caught you watching me under the light Can I...  \n",
       "40813915   I still hear your voice when you sleep next to...  "
      ]
     },
     "execution_count": 195,
     "metadata": {},
     "output_type": "execute_result"
    }
   ],
   "source": [
    "#Remove empty lyrics\n",
    "new_lyrics_df = lyrics_df#.drop(\n",
    "    #[\n",
    "        #'50881429','10301916','98386465','589709697','519050306','328801000','541642606','54381216','316815447','357666338','342776723','275383992','239365741','577645246'\n",
    "    #]\n",
    "#)\n",
    "new_lyrics_df"
   ]
  },
  {
   "cell_type": "markdown",
   "id": "2891aa26-d00a-479c-a7cb-f35322183590",
   "metadata": {},
   "source": [
    "# Tokenizer\n",
    "In this section, we use NLTK and Python to tokenize the text. This will include:\n",
    "\n",
    "- Lowercase each word\n",
    "- Remove Punctuation\n",
    "- Remove Stopwords"
   ]
  },
  {
   "cell_type": "code",
   "execution_count": 196,
   "id": "75d35abb-8901-412c-95bd-87f60a659c88",
   "metadata": {},
   "outputs": [],
   "source": [
    "import nltk\n",
    "from nltk.tokenize import word_tokenize, sent_tokenize\n",
    "from nltk.corpus import stopwords\n",
    "from nltk.stem import WordNetLemmatizer, PorterStemmer\n",
    "from string import punctuation\n",
    "import re"
   ]
  },
  {
   "cell_type": "code",
   "execution_count": 197,
   "id": "35550f2f-1a98-4944-a2e2-6b91920ff1c6",
   "metadata": {},
   "outputs": [],
   "source": [
    "# Instantiate the lemmatizer\n",
    "lemmatizer = WordNetLemmatizer()"
   ]
  },
  {
   "cell_type": "code",
   "execution_count": 198,
   "id": "4ecab873-7dde-478f-bc6d-fa11e289c431",
   "metadata": {},
   "outputs": [],
   "source": [
    "def tokenizer(Lyrics):\n",
    "    \"\"\"Tokenizes text.\"\"\"\n",
    "    # Create a list of the words\n",
    "    words_tokened = word_tokenize(Lyrics)\n",
    "\n",
    "    # Convert the words to lowercase\n",
    "    words_lowered = [word.lower() for word in words_tokened]\n",
    "\n",
    "    # Remove the punctuation\n",
    "    regex = re.compile('[^a-zA-Z]')\n",
    "    words_regexed = [regex.sub('', word) for word in words_lowered]\n",
    "    \n",
    "    # Remove the stop words\n",
    "    sw = set(stopwords.words('english'))\n",
    "    sw_add_ons = [ 'christmas', 'fuck', 'doo', '', 'ah', 'ca', 'na', 'Doo', 'doo', 'nt', 'ay', 'wan', 'wo', 'ta', 'oh', 'ohoh', 'cause', 'Romano', 'mistletoe', 'christmas', 'jingle', 'santa', 'dick', 'Hitmaka', 'fuckin', \"fuckin'\", 'fuck', 'shit', 'nigga', 'niggas', 'bitch', 'motherfucker', 'Motherfucker', 'dick']\n",
    "    stopwords_removed = [word.lower() for word in words_regexed if word not in sw.union(sw_add_ons)]\n",
    "\n",
    "    # Lemmatize Words into root words\n",
    "    lemmatizer = WordNetLemmatizer()\n",
    "    tokens = [lemmatizer.lemmatize(word) for word in stopwords_removed]\n",
    "\n",
    "    return tokens"
   ]
  },
  {
   "cell_type": "code",
   "execution_count": 199,
   "id": "933b7f64-7002-47ad-b886-0370e04a55bc",
   "metadata": {},
   "outputs": [
    {
     "data": {
      "text/html": [
       "<div>\n",
       "<style scoped>\n",
       "    .dataframe tbody tr th:only-of-type {\n",
       "        vertical-align: middle;\n",
       "    }\n",
       "\n",
       "    .dataframe tbody tr th {\n",
       "        vertical-align: top;\n",
       "    }\n",
       "\n",
       "    .dataframe thead th {\n",
       "        text-align: right;\n",
       "    }\n",
       "</style>\n",
       "<table border=\"1\" class=\"dataframe\">\n",
       "  <thead>\n",
       "    <tr style=\"text-align: right;\">\n",
       "      <th></th>\n",
       "      <th>Track Name</th>\n",
       "      <th>Artists</th>\n",
       "      <th>Lyrics</th>\n",
       "      <th>Tokens</th>\n",
       "    </tr>\n",
       "  </thead>\n",
       "  <tbody>\n",
       "    <tr>\n",
       "      <th>385133121</th>\n",
       "      <td>Love Tonight</td>\n",
       "      <td>Shouse</td>\n",
       "      <td>Oh Oh oh Oh-oh Oh, oh-oh  When you're tired, w...</td>\n",
       "      <td>[tired, lonely, reach, arm, know, help, weathe...</td>\n",
       "    </tr>\n",
       "    <tr>\n",
       "      <th>455370962</th>\n",
       "      <td>Lost In The Fire</td>\n",
       "      <td>Gesaffelstein &amp; The Weeknd</td>\n",
       "      <td>I wanna fuck you slow with the lights on (Ligh...</td>\n",
       "      <td>[slow, light, light, light, light, one, got, s...</td>\n",
       "    </tr>\n",
       "    <tr>\n",
       "      <th>577082976</th>\n",
       "      <td>Candy Shop</td>\n",
       "      <td>CryJaxx &amp; Junior Charles</td>\n",
       "      <td>So seductive, let's go  I'll take you to the c...</td>\n",
       "      <td>[seductive, let, go, take, candy, shop, let, l...</td>\n",
       "    </tr>\n",
       "    <tr>\n",
       "      <th>588664699</th>\n",
       "      <td>Lipstick</td>\n",
       "      <td>Kungs</td>\n",
       "      <td>Open the door, just take me down, I wanna step...</td>\n",
       "      <td>[open, door, take, step, dream, lift, ground, ...</td>\n",
       "    </tr>\n",
       "    <tr>\n",
       "      <th>140516014</th>\n",
       "      <td>After Dark</td>\n",
       "      <td>Mr.Kitty</td>\n",
       "      <td>I see you, you see me How pleasant, this feeli...</td>\n",
       "      <td>[see, see, pleasant, feeling, moment, hold, mi...</td>\n",
       "    </tr>\n",
       "  </tbody>\n",
       "</table>\n",
       "</div>"
      ],
      "text/plain": [
       "                 Track Name                     Artists  \\\n",
       "385133121      Love Tonight                      Shouse   \n",
       "455370962  Lost In The Fire  Gesaffelstein & The Weeknd   \n",
       "577082976        Candy Shop    CryJaxx & Junior Charles   \n",
       "588664699          Lipstick                       Kungs   \n",
       "140516014        After Dark                    Mr.Kitty   \n",
       "\n",
       "                                                      Lyrics  \\\n",
       "385133121  Oh Oh oh Oh-oh Oh, oh-oh  When you're tired, w...   \n",
       "455370962  I wanna fuck you slow with the lights on (Ligh...   \n",
       "577082976  So seductive, let's go  I'll take you to the c...   \n",
       "588664699  Open the door, just take me down, I wanna step...   \n",
       "140516014  I see you, you see me How pleasant, this feeli...   \n",
       "\n",
       "                                                      Tokens  \n",
       "385133121  [tired, lonely, reach, arm, know, help, weathe...  \n",
       "455370962  [slow, light, light, light, light, one, got, s...  \n",
       "577082976  [seductive, let, go, take, candy, shop, let, l...  \n",
       "588664699  [open, door, take, step, dream, lift, ground, ...  \n",
       "140516014  [see, see, pleasant, feeling, moment, hold, mi...  "
      ]
     },
     "execution_count": 199,
     "metadata": {},
     "output_type": "execute_result"
    }
   ],
   "source": [
    "# Create a new tokens column for lyrics\n",
    "lyrics_tokens = [tokenizer(words) for words in new_lyrics_df['Lyrics']]\n",
    "new_lyrics_df['Tokens'] = lyrics_tokens\n",
    "new_lyrics_df.head()"
   ]
  },
  {
   "cell_type": "code",
   "execution_count": 200,
   "id": "ecf7ad13-d951-464d-8631-19bf0b94f322",
   "metadata": {},
   "outputs": [
    {
     "data": {
      "text/html": [
       "<div>\n",
       "<style scoped>\n",
       "    .dataframe tbody tr th:only-of-type {\n",
       "        vertical-align: middle;\n",
       "    }\n",
       "\n",
       "    .dataframe tbody tr th {\n",
       "        vertical-align: top;\n",
       "    }\n",
       "\n",
       "    .dataframe thead th {\n",
       "        text-align: right;\n",
       "    }\n",
       "</style>\n",
       "<table border=\"1\" class=\"dataframe\">\n",
       "  <thead>\n",
       "    <tr style=\"text-align: right;\">\n",
       "      <th></th>\n",
       "      <th>Track Name</th>\n",
       "      <th>Artists</th>\n",
       "      <th>Lyrics</th>\n",
       "      <th>Tokens</th>\n",
       "    </tr>\n",
       "  </thead>\n",
       "  <tbody>\n",
       "    <tr>\n",
       "      <th>385133121</th>\n",
       "      <td>Love Tonight</td>\n",
       "      <td>Shouse</td>\n",
       "      <td>Oh Oh oh Oh-oh Oh, oh-oh  When you're tired, w...</td>\n",
       "      <td>[tired, lonely, reach, arm, know, help, weathe...</td>\n",
       "    </tr>\n",
       "    <tr>\n",
       "      <th>455370962</th>\n",
       "      <td>Lost In The Fire</td>\n",
       "      <td>Gesaffelstein &amp; The Weeknd</td>\n",
       "      <td>I wanna fuck you slow with the lights on (Ligh...</td>\n",
       "      <td>[slow, light, light, light, light, one, got, s...</td>\n",
       "    </tr>\n",
       "    <tr>\n",
       "      <th>577082976</th>\n",
       "      <td>Candy Shop</td>\n",
       "      <td>CryJaxx &amp; Junior Charles</td>\n",
       "      <td>So seductive, let's go  I'll take you to the c...</td>\n",
       "      <td>[seductive, let, go, take, candy, shop, let, l...</td>\n",
       "    </tr>\n",
       "    <tr>\n",
       "      <th>588664699</th>\n",
       "      <td>Lipstick</td>\n",
       "      <td>Kungs</td>\n",
       "      <td>Open the door, just take me down, I wanna step...</td>\n",
       "      <td>[open, door, take, step, dream, lift, ground, ...</td>\n",
       "    </tr>\n",
       "    <tr>\n",
       "      <th>140516014</th>\n",
       "      <td>After Dark</td>\n",
       "      <td>Mr.Kitty</td>\n",
       "      <td>I see you, you see me How pleasant, this feeli...</td>\n",
       "      <td>[see, see, pleasant, feeling, moment, hold, mi...</td>\n",
       "    </tr>\n",
       "    <tr>\n",
       "      <th>568196935</th>\n",
       "      <td>Never Going Home</td>\n",
       "      <td>Kungs</td>\n",
       "      <td>Music (we can do it) We're only human (I can f...</td>\n",
       "      <td>[music, human, feel, music, got, heated, yeah,...</td>\n",
       "    </tr>\n",
       "    <tr>\n",
       "      <th>582570870</th>\n",
       "      <td>Hurricane</td>\n",
       "      <td>Ofenbach &amp; Ella Henderson</td>\n",
       "      <td>Mm, hmm  I want you to hold on, I want you to ...</td>\n",
       "      <td>[mm, hmm, want, hold, want, stay, million, wor...</td>\n",
       "    </tr>\n",
       "    <tr>\n",
       "      <th>557351619</th>\n",
       "      <td>Marea (We’ve Lost Dancing)</td>\n",
       "      <td>Fred again.. &amp; The Blessed Madonna</td>\n",
       "      <td>We've lost dancing (lost dancing) This year we...</td>\n",
       "      <td>[lost, dancing, lost, dancing, year, lose, spa...</td>\n",
       "    </tr>\n",
       "    <tr>\n",
       "      <th>87244312</th>\n",
       "      <td>Midnight City</td>\n",
       "      <td>M83</td>\n",
       "      <td>Waiting in a car Waiting for a ride in the dar...</td>\n",
       "      <td>[waiting, car, waiting, ride, dark, night, cit...</td>\n",
       "    </tr>\n",
       "    <tr>\n",
       "      <th>317723994</th>\n",
       "      <td>This Girl</td>\n",
       "      <td>Kungs &amp; Cookin' On 3 Burners</td>\n",
       "      <td>Money rains from the sky above But keep the ch...</td>\n",
       "      <td>[money, rain, sky, keep, change, got, enough, ...</td>\n",
       "    </tr>\n",
       "    <tr>\n",
       "      <th>559511392</th>\n",
       "      <td>Keep Moving</td>\n",
       "      <td>Jungle</td>\n",
       "      <td>Unless you understand it And find out what to ...</td>\n",
       "      <td>[unless, understand, find, think, running, und...</td>\n",
       "    </tr>\n",
       "    <tr>\n",
       "      <th>435739670</th>\n",
       "      <td>Hislerim</td>\n",
       "      <td>Serhat Durmus Feat. Zerrin</td>\n",
       "      <td>Ruhum yeniden doğdu Ama sanki her şey kayboldu...</td>\n",
       "      <td>[ruhum, yeniden, dodu, ama, sanki, ey, kaybold...</td>\n",
       "    </tr>\n",
       "    <tr>\n",
       "      <th>590490863</th>\n",
       "      <td>Measure of a Man</td>\n",
       "      <td>FKA twigs Feat. Central Cee</td>\n",
       "      <td>Nobody feels the pain behind the love you show...</td>\n",
       "      <td>[nobody, feel, pain, behind, love, show, nobod...</td>\n",
       "    </tr>\n",
       "    <tr>\n",
       "      <th>161306206</th>\n",
       "      <td>Hey Mama</td>\n",
       "      <td>David Guetta Feat. Nicki Minaj &amp; Bebe Rexha &amp; ...</td>\n",
       "      <td>Be my woman, girl, and I'll be your man Be my ...</td>\n",
       "      <td>[woman, girl, man, woman, girl, man, yes, woma...</td>\n",
       "    </tr>\n",
       "    <tr>\n",
       "      <th>308574363</th>\n",
       "      <td>Devil Eyes</td>\n",
       "      <td>Hippie Sabotage</td>\n",
       "      <td>You got the devil in your eyes You went and to...</td>\n",
       "      <td>[got, devil, eye, went, took, surprise, sing, ...</td>\n",
       "    </tr>\n",
       "    <tr>\n",
       "      <th>276680635</th>\n",
       "      <td>Lean On</td>\n",
       "      <td>Major Lazer Feat. MØ &amp; DJ Snake</td>\n",
       "      <td>Do you recall, not long ago We would walk on t...</td>\n",
       "      <td>[recall, long, ago, would, walk, sidewalk, inn...</td>\n",
       "    </tr>\n",
       "    <tr>\n",
       "      <th>581891303</th>\n",
       "      <td>Osama</td>\n",
       "      <td>Zakes Bantwini &amp; Kasango</td>\n",
       "      <td>Omapadikero osonakoluna Saniladikero osonakolu...</td>\n",
       "      <td>[omapadikero, osonakoluna, saniladikero, osona...</td>\n",
       "    </tr>\n",
       "    <tr>\n",
       "      <th>276475110</th>\n",
       "      <td>Ocean Drive</td>\n",
       "      <td>Duke Dumont</td>\n",
       "      <td>We're riding down the boulevard We're riding t...</td>\n",
       "      <td>[riding, boulevard, riding, dark, night, half,...</td>\n",
       "    </tr>\n",
       "    <tr>\n",
       "      <th>565950207</th>\n",
       "      <td>Ani kuni</td>\n",
       "      <td>Polo &amp; Pan</td>\n",
       "      <td>Ani kuni chaouani Ani kuni chaouani Awawa bika...</td>\n",
       "      <td>[ani, kuni, chaouani, ani, kuni, chaouani, awa...</td>\n",
       "    </tr>\n",
       "    <tr>\n",
       "      <th>51308450</th>\n",
       "      <td>To Build A Home</td>\n",
       "      <td>The Cinematic Orchestra Feat. Patrick Watson</td>\n",
       "      <td>There is a house built out of stone Wooden flo...</td>\n",
       "      <td>[house, built, stone, wooden, floor, wall, win...</td>\n",
       "    </tr>\n",
       "    <tr>\n",
       "      <th>577785448</th>\n",
       "      <td>Drive</td>\n",
       "      <td>Clean Bandit &amp; Topic Feat. Wes Nelson</td>\n",
       "      <td>Drive  I, I never thought I'd be your type (I,...</td>\n",
       "      <td>[drive, never, thought, type, mind, kind, love...</td>\n",
       "    </tr>\n",
       "    <tr>\n",
       "      <th>589730835</th>\n",
       "      <td>Message In A Bottle (Colorblast Version)</td>\n",
       "      <td>Colorblast</td>\n",
       "      <td>Sending out an SOS Sending out an SOS Sending ...</td>\n",
       "      <td>[sending, so, sending, so, sending, so, sendin...</td>\n",
       "    </tr>\n",
       "    <tr>\n",
       "      <th>470972835</th>\n",
       "      <td>Trust Nobody</td>\n",
       "      <td>Hippie Sabotage</td>\n",
       "      <td>I don't trust nobody I don't even trust my min...</td>\n",
       "      <td>[trust, nobody, even, trust, mind, losin, ever...</td>\n",
       "    </tr>\n",
       "    <tr>\n",
       "      <th>96309796</th>\n",
       "      <td>Latch</td>\n",
       "      <td>Disclosure Feat. Sam Smith</td>\n",
       "      <td>You lift my heart up When the rest of me is do...</td>\n",
       "      <td>[lift, heart, rest, enchant, even, around, bou...</td>\n",
       "    </tr>\n",
       "    <tr>\n",
       "      <th>44172210</th>\n",
       "      <td>World, Hold On</td>\n",
       "      <td>Bob Sinclar</td>\n",
       "      <td>Open up your heart, what do you feel Open up y...</td>\n",
       "      <td>[open, heart, feel, open, heart, feel, real, y...</td>\n",
       "    </tr>\n",
       "    <tr>\n",
       "      <th>11198507</th>\n",
       "      <td>It's The Most Wonderful Time Of The Year</td>\n",
       "      <td>Andy Williams</td>\n",
       "      <td>It's the most wonderful time of the year With ...</td>\n",
       "      <td>[wonderful, time, year, kid, belling, everyone...</td>\n",
       "    </tr>\n",
       "    <tr>\n",
       "      <th>247261281</th>\n",
       "      <td>Run Run!</td>\n",
       "      <td>Jorge Aguilar II</td>\n",
       "      <td>Welcome to the Five Nights at Freddy's Experie...</td>\n",
       "      <td>[welcome, five, night, freddy, experience, saf...</td>\n",
       "    </tr>\n",
       "    <tr>\n",
       "      <th>225450</th>\n",
       "      <td>Glory Box</td>\n",
       "      <td>Portishead</td>\n",
       "      <td>I'm so tired of playing Playing with this bow ...</td>\n",
       "      <td>[tired, playing, playing, bow, arrow, gon, giv...</td>\n",
       "    </tr>\n",
       "    <tr>\n",
       "      <th>541653231</th>\n",
       "      <td>Wasted Love</td>\n",
       "      <td>Ofenbach</td>\n",
       "      <td>Lo-lo-lo, love Lo-lo-lo, love Lo-lo-lo, lo-lo-...</td>\n",
       "      <td>[lololo, love, lololo, love, lololo, lololove,...</td>\n",
       "    </tr>\n",
       "    <tr>\n",
       "      <th>463104430</th>\n",
       "      <td>Fire For You</td>\n",
       "      <td>Cannons</td>\n",
       "      <td>I was on fire for you Where did you go? I coul...</td>\n",
       "      <td>[fire, go, could, died, could, know, alive, br...</td>\n",
       "    </tr>\n",
       "    <tr>\n",
       "      <th>52166505</th>\n",
       "      <td>Nightcall</td>\n",
       "      <td>Kavinsky</td>\n",
       "      <td>I'm giving you a night call to tell you how I ...</td>\n",
       "      <td>[giving, night, call, tell, feel, want, drive,...</td>\n",
       "    </tr>\n",
       "    <tr>\n",
       "      <th>45198089</th>\n",
       "      <td>Paper Planes</td>\n",
       "      <td>M.I.A.</td>\n",
       "      <td>I fly like paper, get high like planes If you ...</td>\n",
       "      <td>[fly, like, paper, get, high, like, plane, cat...</td>\n",
       "    </tr>\n",
       "    <tr>\n",
       "      <th>507741051</th>\n",
       "      <td>Shake It</td>\n",
       "      <td>INNDRIVE</td>\n",
       "      <td>Shake it Don't stop Shake it Don't stop Shake ...</td>\n",
       "      <td>[shake, stop, shake, stop, shake, stop, shake,...</td>\n",
       "    </tr>\n",
       "    <tr>\n",
       "      <th>57892451</th>\n",
       "      <td>I've Been Thinking About You</td>\n",
       "      <td>Londonbeat</td>\n",
       "      <td>We must have been stone crazy When we thought ...</td>\n",
       "      <td>[must, stone, crazy, thought, friend, miss, ba...</td>\n",
       "    </tr>\n",
       "    <tr>\n",
       "      <th>224806500</th>\n",
       "      <td>King</td>\n",
       "      <td>Years &amp; Years</td>\n",
       "      <td>I caught you watching me under the light Can I...</td>\n",
       "      <td>[caught, watching, light, realign, say, easy, ...</td>\n",
       "    </tr>\n",
       "    <tr>\n",
       "      <th>40813915</th>\n",
       "      <td>Everytime We Touch</td>\n",
       "      <td>Cascada</td>\n",
       "      <td>I still hear your voice when you sleep next to...</td>\n",
       "      <td>[still, hear, voice, sleep, next, still, feel,...</td>\n",
       "    </tr>\n",
       "  </tbody>\n",
       "</table>\n",
       "</div>"
      ],
      "text/plain": [
       "                                         Track Name  \\\n",
       "385133121                              Love Tonight   \n",
       "455370962                          Lost In The Fire   \n",
       "577082976                                Candy Shop   \n",
       "588664699                                  Lipstick   \n",
       "140516014                                After Dark   \n",
       "568196935                          Never Going Home   \n",
       "582570870                                 Hurricane   \n",
       "557351619                Marea (We’ve Lost Dancing)   \n",
       "87244312                              Midnight City   \n",
       "317723994                                 This Girl   \n",
       "559511392                               Keep Moving   \n",
       "435739670                                  Hislerim   \n",
       "590490863                          Measure of a Man   \n",
       "161306206                                  Hey Mama   \n",
       "308574363                                Devil Eyes   \n",
       "276680635                                   Lean On   \n",
       "581891303                                     Osama   \n",
       "276475110                               Ocean Drive   \n",
       "565950207                                  Ani kuni   \n",
       "51308450                            To Build A Home   \n",
       "577785448                                     Drive   \n",
       "589730835  Message In A Bottle (Colorblast Version)   \n",
       "470972835                              Trust Nobody   \n",
       "96309796                                      Latch   \n",
       "44172210                             World, Hold On   \n",
       "11198507   It's The Most Wonderful Time Of The Year   \n",
       "247261281                                  Run Run!   \n",
       "225450                                    Glory Box   \n",
       "541653231                               Wasted Love   \n",
       "463104430                              Fire For You   \n",
       "52166505                                  Nightcall   \n",
       "45198089                               Paper Planes   \n",
       "507741051                                  Shake It   \n",
       "57892451               I've Been Thinking About You   \n",
       "224806500                                      King   \n",
       "40813915                         Everytime We Touch   \n",
       "\n",
       "                                                     Artists  \\\n",
       "385133121                                             Shouse   \n",
       "455370962                         Gesaffelstein & The Weeknd   \n",
       "577082976                           CryJaxx & Junior Charles   \n",
       "588664699                                              Kungs   \n",
       "140516014                                           Mr.Kitty   \n",
       "568196935                                              Kungs   \n",
       "582570870                          Ofenbach & Ella Henderson   \n",
       "557351619                 Fred again.. & The Blessed Madonna   \n",
       "87244312                                                 M83   \n",
       "317723994                       Kungs & Cookin' On 3 Burners   \n",
       "559511392                                             Jungle   \n",
       "435739670                         Serhat Durmus Feat. Zerrin   \n",
       "590490863                        FKA twigs Feat. Central Cee   \n",
       "161306206  David Guetta Feat. Nicki Minaj & Bebe Rexha & ...   \n",
       "308574363                                    Hippie Sabotage   \n",
       "276680635                    Major Lazer Feat. MØ & DJ Snake   \n",
       "581891303                           Zakes Bantwini & Kasango   \n",
       "276475110                                        Duke Dumont   \n",
       "565950207                                         Polo & Pan   \n",
       "51308450        The Cinematic Orchestra Feat. Patrick Watson   \n",
       "577785448              Clean Bandit & Topic Feat. Wes Nelson   \n",
       "589730835                                         Colorblast   \n",
       "470972835                                    Hippie Sabotage   \n",
       "96309796                          Disclosure Feat. Sam Smith   \n",
       "44172210                                         Bob Sinclar   \n",
       "11198507                                       Andy Williams   \n",
       "247261281                                   Jorge Aguilar II   \n",
       "225450                                            Portishead   \n",
       "541653231                                           Ofenbach   \n",
       "463104430                                            Cannons   \n",
       "52166505                                            Kavinsky   \n",
       "45198089                                              M.I.A.   \n",
       "507741051                                           INNDRIVE   \n",
       "57892451                                          Londonbeat   \n",
       "224806500                                      Years & Years   \n",
       "40813915                                             Cascada   \n",
       "\n",
       "                                                      Lyrics  \\\n",
       "385133121  Oh Oh oh Oh-oh Oh, oh-oh  When you're tired, w...   \n",
       "455370962  I wanna fuck you slow with the lights on (Ligh...   \n",
       "577082976  So seductive, let's go  I'll take you to the c...   \n",
       "588664699  Open the door, just take me down, I wanna step...   \n",
       "140516014  I see you, you see me How pleasant, this feeli...   \n",
       "568196935  Music (we can do it) We're only human (I can f...   \n",
       "582570870  Mm, hmm  I want you to hold on, I want you to ...   \n",
       "557351619  We've lost dancing (lost dancing) This year we...   \n",
       "87244312   Waiting in a car Waiting for a ride in the dar...   \n",
       "317723994  Money rains from the sky above But keep the ch...   \n",
       "559511392  Unless you understand it And find out what to ...   \n",
       "435739670  Ruhum yeniden doğdu Ama sanki her şey kayboldu...   \n",
       "590490863  Nobody feels the pain behind the love you show...   \n",
       "161306206  Be my woman, girl, and I'll be your man Be my ...   \n",
       "308574363  You got the devil in your eyes You went and to...   \n",
       "276680635  Do you recall, not long ago We would walk on t...   \n",
       "581891303  Omapadikero osonakoluna Saniladikero osonakolu...   \n",
       "276475110  We're riding down the boulevard We're riding t...   \n",
       "565950207  Ani kuni chaouani Ani kuni chaouani Awawa bika...   \n",
       "51308450   There is a house built out of stone Wooden flo...   \n",
       "577785448  Drive  I, I never thought I'd be your type (I,...   \n",
       "589730835  Sending out an SOS Sending out an SOS Sending ...   \n",
       "470972835  I don't trust nobody I don't even trust my min...   \n",
       "96309796   You lift my heart up When the rest of me is do...   \n",
       "44172210   Open up your heart, what do you feel Open up y...   \n",
       "11198507   It's the most wonderful time of the year With ...   \n",
       "247261281  Welcome to the Five Nights at Freddy's Experie...   \n",
       "225450     I'm so tired of playing Playing with this bow ...   \n",
       "541653231  Lo-lo-lo, love Lo-lo-lo, love Lo-lo-lo, lo-lo-...   \n",
       "463104430  I was on fire for you Where did you go? I coul...   \n",
       "52166505   I'm giving you a night call to tell you how I ...   \n",
       "45198089   I fly like paper, get high like planes If you ...   \n",
       "507741051  Shake it Don't stop Shake it Don't stop Shake ...   \n",
       "57892451   We must have been stone crazy When we thought ...   \n",
       "224806500  I caught you watching me under the light Can I...   \n",
       "40813915   I still hear your voice when you sleep next to...   \n",
       "\n",
       "                                                      Tokens  \n",
       "385133121  [tired, lonely, reach, arm, know, help, weathe...  \n",
       "455370962  [slow, light, light, light, light, one, got, s...  \n",
       "577082976  [seductive, let, go, take, candy, shop, let, l...  \n",
       "588664699  [open, door, take, step, dream, lift, ground, ...  \n",
       "140516014  [see, see, pleasant, feeling, moment, hold, mi...  \n",
       "568196935  [music, human, feel, music, got, heated, yeah,...  \n",
       "582570870  [mm, hmm, want, hold, want, stay, million, wor...  \n",
       "557351619  [lost, dancing, lost, dancing, year, lose, spa...  \n",
       "87244312   [waiting, car, waiting, ride, dark, night, cit...  \n",
       "317723994  [money, rain, sky, keep, change, got, enough, ...  \n",
       "559511392  [unless, understand, find, think, running, und...  \n",
       "435739670  [ruhum, yeniden, dodu, ama, sanki, ey, kaybold...  \n",
       "590490863  [nobody, feel, pain, behind, love, show, nobod...  \n",
       "161306206  [woman, girl, man, woman, girl, man, yes, woma...  \n",
       "308574363  [got, devil, eye, went, took, surprise, sing, ...  \n",
       "276680635  [recall, long, ago, would, walk, sidewalk, inn...  \n",
       "581891303  [omapadikero, osonakoluna, saniladikero, osona...  \n",
       "276475110  [riding, boulevard, riding, dark, night, half,...  \n",
       "565950207  [ani, kuni, chaouani, ani, kuni, chaouani, awa...  \n",
       "51308450   [house, built, stone, wooden, floor, wall, win...  \n",
       "577785448  [drive, never, thought, type, mind, kind, love...  \n",
       "589730835  [sending, so, sending, so, sending, so, sendin...  \n",
       "470972835  [trust, nobody, even, trust, mind, losin, ever...  \n",
       "96309796   [lift, heart, rest, enchant, even, around, bou...  \n",
       "44172210   [open, heart, feel, open, heart, feel, real, y...  \n",
       "11198507   [wonderful, time, year, kid, belling, everyone...  \n",
       "247261281  [welcome, five, night, freddy, experience, saf...  \n",
       "225450     [tired, playing, playing, bow, arrow, gon, giv...  \n",
       "541653231  [lololo, love, lololo, love, lololo, lololove,...  \n",
       "463104430  [fire, go, could, died, could, know, alive, br...  \n",
       "52166505   [giving, night, call, tell, feel, want, drive,...  \n",
       "45198089   [fly, like, paper, get, high, like, plane, cat...  \n",
       "507741051  [shake, stop, shake, stop, shake, stop, shake,...  \n",
       "57892451   [must, stone, crazy, thought, friend, miss, ba...  \n",
       "224806500  [caught, watching, light, realign, say, easy, ...  \n",
       "40813915   [still, hear, voice, sleep, next, still, feel,...  "
      ]
     },
     "execution_count": 200,
     "metadata": {},
     "output_type": "execute_result"
    }
   ],
   "source": [
    "# new_lyrics_df.reset_index(inplace=True)\n",
    "new_lyrics_df"
   ]
  },
  {
   "cell_type": "code",
   "execution_count": 201,
   "id": "2299cebc-617b-47c0-a76f-b02bf9cfef2b",
   "metadata": {},
   "outputs": [
    {
     "data": {
      "text/html": [
       "<div>\n",
       "<style scoped>\n",
       "    .dataframe tbody tr th:only-of-type {\n",
       "        vertical-align: middle;\n",
       "    }\n",
       "\n",
       "    .dataframe tbody tr th {\n",
       "        vertical-align: top;\n",
       "    }\n",
       "\n",
       "    .dataframe thead th {\n",
       "        text-align: right;\n",
       "    }\n",
       "</style>\n",
       "<table border=\"1\" class=\"dataframe\">\n",
       "  <thead>\n",
       "    <tr style=\"text-align: right;\">\n",
       "      <th></th>\n",
       "      <th>Lyrics</th>\n",
       "      <th>Tokens</th>\n",
       "    </tr>\n",
       "  </thead>\n",
       "  <tbody>\n",
       "    <tr>\n",
       "      <th>385133121</th>\n",
       "      <td>Oh Oh oh Oh-oh Oh, oh-oh  When you're tired, w...</td>\n",
       "      <td>[tired, lonely, reach, arm, know, help, weathe...</td>\n",
       "    </tr>\n",
       "    <tr>\n",
       "      <th>455370962</th>\n",
       "      <td>I wanna fuck you slow with the lights on (Ligh...</td>\n",
       "      <td>[slow, light, light, light, light, one, got, s...</td>\n",
       "    </tr>\n",
       "    <tr>\n",
       "      <th>577082976</th>\n",
       "      <td>So seductive, let's go  I'll take you to the c...</td>\n",
       "      <td>[seductive, let, go, take, candy, shop, let, l...</td>\n",
       "    </tr>\n",
       "    <tr>\n",
       "      <th>588664699</th>\n",
       "      <td>Open the door, just take me down, I wanna step...</td>\n",
       "      <td>[open, door, take, step, dream, lift, ground, ...</td>\n",
       "    </tr>\n",
       "    <tr>\n",
       "      <th>140516014</th>\n",
       "      <td>I see you, you see me How pleasant, this feeli...</td>\n",
       "      <td>[see, see, pleasant, feeling, moment, hold, mi...</td>\n",
       "    </tr>\n",
       "    <tr>\n",
       "      <th>568196935</th>\n",
       "      <td>Music (we can do it) We're only human (I can f...</td>\n",
       "      <td>[music, human, feel, music, got, heated, yeah,...</td>\n",
       "    </tr>\n",
       "    <tr>\n",
       "      <th>582570870</th>\n",
       "      <td>Mm, hmm  I want you to hold on, I want you to ...</td>\n",
       "      <td>[mm, hmm, want, hold, want, stay, million, wor...</td>\n",
       "    </tr>\n",
       "    <tr>\n",
       "      <th>557351619</th>\n",
       "      <td>We've lost dancing (lost dancing) This year we...</td>\n",
       "      <td>[lost, dancing, lost, dancing, year, lose, spa...</td>\n",
       "    </tr>\n",
       "    <tr>\n",
       "      <th>87244312</th>\n",
       "      <td>Waiting in a car Waiting for a ride in the dar...</td>\n",
       "      <td>[waiting, car, waiting, ride, dark, night, cit...</td>\n",
       "    </tr>\n",
       "    <tr>\n",
       "      <th>317723994</th>\n",
       "      <td>Money rains from the sky above But keep the ch...</td>\n",
       "      <td>[money, rain, sky, keep, change, got, enough, ...</td>\n",
       "    </tr>\n",
       "    <tr>\n",
       "      <th>559511392</th>\n",
       "      <td>Unless you understand it And find out what to ...</td>\n",
       "      <td>[unless, understand, find, think, running, und...</td>\n",
       "    </tr>\n",
       "    <tr>\n",
       "      <th>435739670</th>\n",
       "      <td>Ruhum yeniden doğdu Ama sanki her şey kayboldu...</td>\n",
       "      <td>[ruhum, yeniden, dodu, ama, sanki, ey, kaybold...</td>\n",
       "    </tr>\n",
       "    <tr>\n",
       "      <th>590490863</th>\n",
       "      <td>Nobody feels the pain behind the love you show...</td>\n",
       "      <td>[nobody, feel, pain, behind, love, show, nobod...</td>\n",
       "    </tr>\n",
       "    <tr>\n",
       "      <th>161306206</th>\n",
       "      <td>Be my woman, girl, and I'll be your man Be my ...</td>\n",
       "      <td>[woman, girl, man, woman, girl, man, yes, woma...</td>\n",
       "    </tr>\n",
       "    <tr>\n",
       "      <th>308574363</th>\n",
       "      <td>You got the devil in your eyes You went and to...</td>\n",
       "      <td>[got, devil, eye, went, took, surprise, sing, ...</td>\n",
       "    </tr>\n",
       "    <tr>\n",
       "      <th>276680635</th>\n",
       "      <td>Do you recall, not long ago We would walk on t...</td>\n",
       "      <td>[recall, long, ago, would, walk, sidewalk, inn...</td>\n",
       "    </tr>\n",
       "    <tr>\n",
       "      <th>581891303</th>\n",
       "      <td>Omapadikero osonakoluna Saniladikero osonakolu...</td>\n",
       "      <td>[omapadikero, osonakoluna, saniladikero, osona...</td>\n",
       "    </tr>\n",
       "    <tr>\n",
       "      <th>276475110</th>\n",
       "      <td>We're riding down the boulevard We're riding t...</td>\n",
       "      <td>[riding, boulevard, riding, dark, night, half,...</td>\n",
       "    </tr>\n",
       "    <tr>\n",
       "      <th>565950207</th>\n",
       "      <td>Ani kuni chaouani Ani kuni chaouani Awawa bika...</td>\n",
       "      <td>[ani, kuni, chaouani, ani, kuni, chaouani, awa...</td>\n",
       "    </tr>\n",
       "    <tr>\n",
       "      <th>51308450</th>\n",
       "      <td>There is a house built out of stone Wooden flo...</td>\n",
       "      <td>[house, built, stone, wooden, floor, wall, win...</td>\n",
       "    </tr>\n",
       "    <tr>\n",
       "      <th>577785448</th>\n",
       "      <td>Drive  I, I never thought I'd be your type (I,...</td>\n",
       "      <td>[drive, never, thought, type, mind, kind, love...</td>\n",
       "    </tr>\n",
       "    <tr>\n",
       "      <th>589730835</th>\n",
       "      <td>Sending out an SOS Sending out an SOS Sending ...</td>\n",
       "      <td>[sending, so, sending, so, sending, so, sendin...</td>\n",
       "    </tr>\n",
       "    <tr>\n",
       "      <th>470972835</th>\n",
       "      <td>I don't trust nobody I don't even trust my min...</td>\n",
       "      <td>[trust, nobody, even, trust, mind, losin, ever...</td>\n",
       "    </tr>\n",
       "    <tr>\n",
       "      <th>96309796</th>\n",
       "      <td>You lift my heart up When the rest of me is do...</td>\n",
       "      <td>[lift, heart, rest, enchant, even, around, bou...</td>\n",
       "    </tr>\n",
       "    <tr>\n",
       "      <th>44172210</th>\n",
       "      <td>Open up your heart, what do you feel Open up y...</td>\n",
       "      <td>[open, heart, feel, open, heart, feel, real, y...</td>\n",
       "    </tr>\n",
       "    <tr>\n",
       "      <th>11198507</th>\n",
       "      <td>It's the most wonderful time of the year With ...</td>\n",
       "      <td>[wonderful, time, year, kid, belling, everyone...</td>\n",
       "    </tr>\n",
       "    <tr>\n",
       "      <th>247261281</th>\n",
       "      <td>Welcome to the Five Nights at Freddy's Experie...</td>\n",
       "      <td>[welcome, five, night, freddy, experience, saf...</td>\n",
       "    </tr>\n",
       "    <tr>\n",
       "      <th>225450</th>\n",
       "      <td>I'm so tired of playing Playing with this bow ...</td>\n",
       "      <td>[tired, playing, playing, bow, arrow, gon, giv...</td>\n",
       "    </tr>\n",
       "    <tr>\n",
       "      <th>541653231</th>\n",
       "      <td>Lo-lo-lo, love Lo-lo-lo, love Lo-lo-lo, lo-lo-...</td>\n",
       "      <td>[lololo, love, lololo, love, lololo, lololove,...</td>\n",
       "    </tr>\n",
       "    <tr>\n",
       "      <th>463104430</th>\n",
       "      <td>I was on fire for you Where did you go? I coul...</td>\n",
       "      <td>[fire, go, could, died, could, know, alive, br...</td>\n",
       "    </tr>\n",
       "    <tr>\n",
       "      <th>52166505</th>\n",
       "      <td>I'm giving you a night call to tell you how I ...</td>\n",
       "      <td>[giving, night, call, tell, feel, want, drive,...</td>\n",
       "    </tr>\n",
       "    <tr>\n",
       "      <th>45198089</th>\n",
       "      <td>I fly like paper, get high like planes If you ...</td>\n",
       "      <td>[fly, like, paper, get, high, like, plane, cat...</td>\n",
       "    </tr>\n",
       "    <tr>\n",
       "      <th>507741051</th>\n",
       "      <td>Shake it Don't stop Shake it Don't stop Shake ...</td>\n",
       "      <td>[shake, stop, shake, stop, shake, stop, shake,...</td>\n",
       "    </tr>\n",
       "    <tr>\n",
       "      <th>57892451</th>\n",
       "      <td>We must have been stone crazy When we thought ...</td>\n",
       "      <td>[must, stone, crazy, thought, friend, miss, ba...</td>\n",
       "    </tr>\n",
       "    <tr>\n",
       "      <th>224806500</th>\n",
       "      <td>I caught you watching me under the light Can I...</td>\n",
       "      <td>[caught, watching, light, realign, say, easy, ...</td>\n",
       "    </tr>\n",
       "    <tr>\n",
       "      <th>40813915</th>\n",
       "      <td>I still hear your voice when you sleep next to...</td>\n",
       "      <td>[still, hear, voice, sleep, next, still, feel,...</td>\n",
       "    </tr>\n",
       "  </tbody>\n",
       "</table>\n",
       "</div>"
      ],
      "text/plain": [
       "                                                      Lyrics  \\\n",
       "385133121  Oh Oh oh Oh-oh Oh, oh-oh  When you're tired, w...   \n",
       "455370962  I wanna fuck you slow with the lights on (Ligh...   \n",
       "577082976  So seductive, let's go  I'll take you to the c...   \n",
       "588664699  Open the door, just take me down, I wanna step...   \n",
       "140516014  I see you, you see me How pleasant, this feeli...   \n",
       "568196935  Music (we can do it) We're only human (I can f...   \n",
       "582570870  Mm, hmm  I want you to hold on, I want you to ...   \n",
       "557351619  We've lost dancing (lost dancing) This year we...   \n",
       "87244312   Waiting in a car Waiting for a ride in the dar...   \n",
       "317723994  Money rains from the sky above But keep the ch...   \n",
       "559511392  Unless you understand it And find out what to ...   \n",
       "435739670  Ruhum yeniden doğdu Ama sanki her şey kayboldu...   \n",
       "590490863  Nobody feels the pain behind the love you show...   \n",
       "161306206  Be my woman, girl, and I'll be your man Be my ...   \n",
       "308574363  You got the devil in your eyes You went and to...   \n",
       "276680635  Do you recall, not long ago We would walk on t...   \n",
       "581891303  Omapadikero osonakoluna Saniladikero osonakolu...   \n",
       "276475110  We're riding down the boulevard We're riding t...   \n",
       "565950207  Ani kuni chaouani Ani kuni chaouani Awawa bika...   \n",
       "51308450   There is a house built out of stone Wooden flo...   \n",
       "577785448  Drive  I, I never thought I'd be your type (I,...   \n",
       "589730835  Sending out an SOS Sending out an SOS Sending ...   \n",
       "470972835  I don't trust nobody I don't even trust my min...   \n",
       "96309796   You lift my heart up When the rest of me is do...   \n",
       "44172210   Open up your heart, what do you feel Open up y...   \n",
       "11198507   It's the most wonderful time of the year With ...   \n",
       "247261281  Welcome to the Five Nights at Freddy's Experie...   \n",
       "225450     I'm so tired of playing Playing with this bow ...   \n",
       "541653231  Lo-lo-lo, love Lo-lo-lo, love Lo-lo-lo, lo-lo-...   \n",
       "463104430  I was on fire for you Where did you go? I coul...   \n",
       "52166505   I'm giving you a night call to tell you how I ...   \n",
       "45198089   I fly like paper, get high like planes If you ...   \n",
       "507741051  Shake it Don't stop Shake it Don't stop Shake ...   \n",
       "57892451   We must have been stone crazy When we thought ...   \n",
       "224806500  I caught you watching me under the light Can I...   \n",
       "40813915   I still hear your voice when you sleep next to...   \n",
       "\n",
       "                                                      Tokens  \n",
       "385133121  [tired, lonely, reach, arm, know, help, weathe...  \n",
       "455370962  [slow, light, light, light, light, one, got, s...  \n",
       "577082976  [seductive, let, go, take, candy, shop, let, l...  \n",
       "588664699  [open, door, take, step, dream, lift, ground, ...  \n",
       "140516014  [see, see, pleasant, feeling, moment, hold, mi...  \n",
       "568196935  [music, human, feel, music, got, heated, yeah,...  \n",
       "582570870  [mm, hmm, want, hold, want, stay, million, wor...  \n",
       "557351619  [lost, dancing, lost, dancing, year, lose, spa...  \n",
       "87244312   [waiting, car, waiting, ride, dark, night, cit...  \n",
       "317723994  [money, rain, sky, keep, change, got, enough, ...  \n",
       "559511392  [unless, understand, find, think, running, und...  \n",
       "435739670  [ruhum, yeniden, dodu, ama, sanki, ey, kaybold...  \n",
       "590490863  [nobody, feel, pain, behind, love, show, nobod...  \n",
       "161306206  [woman, girl, man, woman, girl, man, yes, woma...  \n",
       "308574363  [got, devil, eye, went, took, surprise, sing, ...  \n",
       "276680635  [recall, long, ago, would, walk, sidewalk, inn...  \n",
       "581891303  [omapadikero, osonakoluna, saniladikero, osona...  \n",
       "276475110  [riding, boulevard, riding, dark, night, half,...  \n",
       "565950207  [ani, kuni, chaouani, ani, kuni, chaouani, awa...  \n",
       "51308450   [house, built, stone, wooden, floor, wall, win...  \n",
       "577785448  [drive, never, thought, type, mind, kind, love...  \n",
       "589730835  [sending, so, sending, so, sending, so, sendin...  \n",
       "470972835  [trust, nobody, even, trust, mind, losin, ever...  \n",
       "96309796   [lift, heart, rest, enchant, even, around, bou...  \n",
       "44172210   [open, heart, feel, open, heart, feel, real, y...  \n",
       "11198507   [wonderful, time, year, kid, belling, everyone...  \n",
       "247261281  [welcome, five, night, freddy, experience, saf...  \n",
       "225450     [tired, playing, playing, bow, arrow, gon, giv...  \n",
       "541653231  [lololo, love, lololo, love, lololo, lololove,...  \n",
       "463104430  [fire, go, could, died, could, know, alive, br...  \n",
       "52166505   [giving, night, call, tell, feel, want, drive,...  \n",
       "45198089   [fly, like, paper, get, high, like, plane, cat...  \n",
       "507741051  [shake, stop, shake, stop, shake, stop, shake,...  \n",
       "57892451   [must, stone, crazy, thought, friend, miss, ba...  \n",
       "224806500  [caught, watching, light, realign, say, easy, ...  \n",
       "40813915   [still, hear, voice, sleep, next, still, feel,...  "
      ]
     },
     "execution_count": 201,
     "metadata": {},
     "output_type": "execute_result"
    }
   ],
   "source": [
    "new_lyrics_df[['Lyrics', 'Tokens']]"
   ]
  },
  {
   "cell_type": "markdown",
   "id": "2d639785-fdbd-451e-8d7a-e44e3b10af1c",
   "metadata": {
    "tags": []
   },
   "source": [
    "# Sentiment Analysis Using Vader"
   ]
  },
  {
   "cell_type": "code",
   "execution_count": 202,
   "id": "cc0145cf-bcd7-41b6-83bb-767b0a6757f8",
   "metadata": {},
   "outputs": [
    {
     "name": "stderr",
     "output_type": "stream",
     "text": [
      "[nltk_data] Downloading package vader_lexicon to\n",
      "[nltk_data]     C:\\Users\\Frank\\AppData\\Roaming\\nltk_data...\n",
      "[nltk_data]   Package vader_lexicon is already up-to-date!\n"
     ]
    }
   ],
   "source": [
    "from nltk.sentiment.vader import SentimentIntensityAnalyzer\n",
    "nltk.download(\"vader_lexicon\")\n",
    "analyzer = SentimentIntensityAnalyzer()"
   ]
  },
  {
   "cell_type": "code",
   "execution_count": 203,
   "id": "77b1f713-313d-469d-a9df-19861494af5e",
   "metadata": {},
   "outputs": [],
   "source": [
    "# Sentiment calculation based on compound score\n",
    "def get_sentiment(score):\n",
    "    \"\"\"\n",
    "    Calculates the sentiment based on the compound score.\n",
    "    \"\"\"\n",
    "    result = 0  # Neutral by default\n",
    "    if score >= 0.05:  # Positive\n",
    "        result = 1\n",
    "    elif score <= -0.05:  # Negative\n",
    "        result = -1\n",
    "\n",
    "    return result"
   ]
  },
  {
   "cell_type": "code",
   "execution_count": 204,
   "id": "78be27ce-8f53-4ce8-a1b2-9ee03d5cc909",
   "metadata": {},
   "outputs": [
    {
     "data": {
      "text/html": [
       "<div>\n",
       "<style scoped>\n",
       "    .dataframe tbody tr th:only-of-type {\n",
       "        vertical-align: middle;\n",
       "    }\n",
       "\n",
       "    .dataframe tbody tr th {\n",
       "        vertical-align: top;\n",
       "    }\n",
       "\n",
       "    .dataframe thead th {\n",
       "        text-align: right;\n",
       "    }\n",
       "</style>\n",
       "<table border=\"1\" class=\"dataframe\">\n",
       "  <thead>\n",
       "    <tr style=\"text-align: right;\">\n",
       "      <th></th>\n",
       "      <th>Track Name</th>\n",
       "      <th>Artists</th>\n",
       "      <th>Lyrics</th>\n",
       "      <th>Tokens</th>\n",
       "      <th>lyrics_compound</th>\n",
       "      <th>lyrics_pos</th>\n",
       "      <th>lyrics_neu</th>\n",
       "      <th>lyrics_neg</th>\n",
       "      <th>lyrics_sent</th>\n",
       "    </tr>\n",
       "  </thead>\n",
       "  <tbody>\n",
       "    <tr>\n",
       "      <th>0</th>\n",
       "      <td>NaN</td>\n",
       "      <td>NaN</td>\n",
       "      <td>NaN</td>\n",
       "      <td>NaN</td>\n",
       "      <td>0.9991</td>\n",
       "      <td>0.319</td>\n",
       "      <td>0.665</td>\n",
       "      <td>0.016</td>\n",
       "      <td>1.0</td>\n",
       "    </tr>\n",
       "    <tr>\n",
       "      <th>1</th>\n",
       "      <td>NaN</td>\n",
       "      <td>NaN</td>\n",
       "      <td>NaN</td>\n",
       "      <td>NaN</td>\n",
       "      <td>0.9968</td>\n",
       "      <td>0.231</td>\n",
       "      <td>0.705</td>\n",
       "      <td>0.064</td>\n",
       "      <td>1.0</td>\n",
       "    </tr>\n",
       "    <tr>\n",
       "      <th>2</th>\n",
       "      <td>NaN</td>\n",
       "      <td>NaN</td>\n",
       "      <td>NaN</td>\n",
       "      <td>NaN</td>\n",
       "      <td>0.9664</td>\n",
       "      <td>0.087</td>\n",
       "      <td>0.884</td>\n",
       "      <td>0.029</td>\n",
       "      <td>1.0</td>\n",
       "    </tr>\n",
       "    <tr>\n",
       "      <th>3</th>\n",
       "      <td>NaN</td>\n",
       "      <td>NaN</td>\n",
       "      <td>NaN</td>\n",
       "      <td>NaN</td>\n",
       "      <td>0.9648</td>\n",
       "      <td>0.157</td>\n",
       "      <td>0.759</td>\n",
       "      <td>0.084</td>\n",
       "      <td>1.0</td>\n",
       "    </tr>\n",
       "    <tr>\n",
       "      <th>4</th>\n",
       "      <td>NaN</td>\n",
       "      <td>NaN</td>\n",
       "      <td>NaN</td>\n",
       "      <td>NaN</td>\n",
       "      <td>0.9949</td>\n",
       "      <td>0.175</td>\n",
       "      <td>0.764</td>\n",
       "      <td>0.061</td>\n",
       "      <td>1.0</td>\n",
       "    </tr>\n",
       "    <tr>\n",
       "      <th>...</th>\n",
       "      <td>...</td>\n",
       "      <td>...</td>\n",
       "      <td>...</td>\n",
       "      <td>...</td>\n",
       "      <td>...</td>\n",
       "      <td>...</td>\n",
       "      <td>...</td>\n",
       "      <td>...</td>\n",
       "      <td>...</td>\n",
       "    </tr>\n",
       "    <tr>\n",
       "      <th>588664699</th>\n",
       "      <td>Lipstick</td>\n",
       "      <td>Kungs</td>\n",
       "      <td>Open the door, just take me down, I wanna step...</td>\n",
       "      <td>[open, door, take, step, dream, lift, ground, ...</td>\n",
       "      <td>NaN</td>\n",
       "      <td>NaN</td>\n",
       "      <td>NaN</td>\n",
       "      <td>NaN</td>\n",
       "      <td>NaN</td>\n",
       "    </tr>\n",
       "    <tr>\n",
       "      <th>589730835</th>\n",
       "      <td>Message In A Bottle (Colorblast Version)</td>\n",
       "      <td>Colorblast</td>\n",
       "      <td>Sending out an SOS Sending out an SOS Sending ...</td>\n",
       "      <td>[sending, so, sending, so, sending, so, sendin...</td>\n",
       "      <td>NaN</td>\n",
       "      <td>NaN</td>\n",
       "      <td>NaN</td>\n",
       "      <td>NaN</td>\n",
       "      <td>NaN</td>\n",
       "    </tr>\n",
       "    <tr>\n",
       "      <th>590490863</th>\n",
       "      <td>Measure of a Man</td>\n",
       "      <td>FKA twigs Feat. Central Cee</td>\n",
       "      <td>Nobody feels the pain behind the love you show...</td>\n",
       "      <td>[nobody, feel, pain, behind, love, show, nobod...</td>\n",
       "      <td>NaN</td>\n",
       "      <td>NaN</td>\n",
       "      <td>NaN</td>\n",
       "      <td>NaN</td>\n",
       "      <td>NaN</td>\n",
       "    </tr>\n",
       "    <tr>\n",
       "      <th>87244312</th>\n",
       "      <td>Midnight City</td>\n",
       "      <td>M83</td>\n",
       "      <td>Waiting in a car Waiting for a ride in the dar...</td>\n",
       "      <td>[waiting, car, waiting, ride, dark, night, cit...</td>\n",
       "      <td>NaN</td>\n",
       "      <td>NaN</td>\n",
       "      <td>NaN</td>\n",
       "      <td>NaN</td>\n",
       "      <td>NaN</td>\n",
       "    </tr>\n",
       "    <tr>\n",
       "      <th>96309796</th>\n",
       "      <td>Latch</td>\n",
       "      <td>Disclosure Feat. Sam Smith</td>\n",
       "      <td>You lift my heart up When the rest of me is do...</td>\n",
       "      <td>[lift, heart, rest, enchant, even, around, bou...</td>\n",
       "      <td>NaN</td>\n",
       "      <td>NaN</td>\n",
       "      <td>NaN</td>\n",
       "      <td>NaN</td>\n",
       "      <td>NaN</td>\n",
       "    </tr>\n",
       "  </tbody>\n",
       "</table>\n",
       "<p>72 rows × 9 columns</p>\n",
       "</div>"
      ],
      "text/plain": [
       "                                         Track Name  \\\n",
       "0                                               NaN   \n",
       "1                                               NaN   \n",
       "2                                               NaN   \n",
       "3                                               NaN   \n",
       "4                                               NaN   \n",
       "...                                             ...   \n",
       "588664699                                  Lipstick   \n",
       "589730835  Message In A Bottle (Colorblast Version)   \n",
       "590490863                          Measure of a Man   \n",
       "87244312                              Midnight City   \n",
       "96309796                                      Latch   \n",
       "\n",
       "                               Artists  \\\n",
       "0                                  NaN   \n",
       "1                                  NaN   \n",
       "2                                  NaN   \n",
       "3                                  NaN   \n",
       "4                                  NaN   \n",
       "...                                ...   \n",
       "588664699                        Kungs   \n",
       "589730835                   Colorblast   \n",
       "590490863  FKA twigs Feat. Central Cee   \n",
       "87244312                           M83   \n",
       "96309796    Disclosure Feat. Sam Smith   \n",
       "\n",
       "                                                      Lyrics  \\\n",
       "0                                                        NaN   \n",
       "1                                                        NaN   \n",
       "2                                                        NaN   \n",
       "3                                                        NaN   \n",
       "4                                                        NaN   \n",
       "...                                                      ...   \n",
       "588664699  Open the door, just take me down, I wanna step...   \n",
       "589730835  Sending out an SOS Sending out an SOS Sending ...   \n",
       "590490863  Nobody feels the pain behind the love you show...   \n",
       "87244312   Waiting in a car Waiting for a ride in the dar...   \n",
       "96309796   You lift my heart up When the rest of me is do...   \n",
       "\n",
       "                                                      Tokens  lyrics_compound  \\\n",
       "0                                                        NaN           0.9991   \n",
       "1                                                        NaN           0.9968   \n",
       "2                                                        NaN           0.9664   \n",
       "3                                                        NaN           0.9648   \n",
       "4                                                        NaN           0.9949   \n",
       "...                                                      ...              ...   \n",
       "588664699  [open, door, take, step, dream, lift, ground, ...              NaN   \n",
       "589730835  [sending, so, sending, so, sending, so, sendin...              NaN   \n",
       "590490863  [nobody, feel, pain, behind, love, show, nobod...              NaN   \n",
       "87244312   [waiting, car, waiting, ride, dark, night, cit...              NaN   \n",
       "96309796   [lift, heart, rest, enchant, even, around, bou...              NaN   \n",
       "\n",
       "           lyrics_pos  lyrics_neu  lyrics_neg  lyrics_sent  \n",
       "0               0.319       0.665       0.016          1.0  \n",
       "1               0.231       0.705       0.064          1.0  \n",
       "2               0.087       0.884       0.029          1.0  \n",
       "3               0.157       0.759       0.084          1.0  \n",
       "4               0.175       0.764       0.061          1.0  \n",
       "...               ...         ...         ...          ...  \n",
       "588664699         NaN         NaN         NaN          NaN  \n",
       "589730835         NaN         NaN         NaN          NaN  \n",
       "590490863         NaN         NaN         NaN          NaN  \n",
       "87244312          NaN         NaN         NaN          NaN  \n",
       "96309796          NaN         NaN         NaN          NaN  \n",
       "\n",
       "[72 rows x 9 columns]"
      ]
     },
     "execution_count": 204,
     "metadata": {},
     "output_type": "execute_result"
    }
   ],
   "source": [
    "# Sentiment scores dictionaries\n",
    "lyrics_sent = {\n",
    "    \"lyrics_compound\": [],\n",
    "    \"lyrics_pos\": [],\n",
    "    \"lyrics_neu\": [],\n",
    "    \"lyrics_neg\": [],\n",
    "    \"lyrics_sent\": [],\n",
    "}\n",
    "\n",
    "# Get sentiment for the lyrics\n",
    "for index, row in new_lyrics_df.iterrows():\n",
    "    try:\n",
    "        # Sentiment scoring with VADER\n",
    "        lyrics_sentiment = analyzer.polarity_scores(row[\"Lyrics\"])\n",
    "        lyrics_sent[\"lyrics_compound\"].append(lyrics_sentiment[\"compound\"])\n",
    "        lyrics_sent[\"lyrics_pos\"].append(lyrics_sentiment[\"pos\"])\n",
    "        lyrics_sent[\"lyrics_neu\"].append(lyrics_sentiment[\"neu\"])\n",
    "        lyrics_sent[\"lyrics_neg\"].append(lyrics_sentiment[\"neg\"])\n",
    "        lyrics_sent[\"lyrics_sent\"].append(get_sentiment(lyrics_sentiment[\"compound\"]))\n",
    "\n",
    "    except AttributeError:\n",
    "        pass\n",
    "\n",
    "# Attaching sentiment columns to the News DataFrame\n",
    "lyrics_sentiment_df = pd.DataFrame(lyrics_sent)\n",
    "\n",
    "# new_lyrics_df = new_lyrics_df.join(lyrics_sentiment_df)\n",
    "\n",
    "# new_lyrics_df.head()\n",
    "result_lyrics_df = pd.concat([new_lyrics_df, lyrics_sentiment_df], axis=1)\n",
    "result_lyrics_df"
   ]
  },
  {
   "cell_type": "markdown",
   "id": "bdf73d9c-51ac-4d4e-928c-2a9230f06073",
   "metadata": {
    "tags": []
   },
   "source": [
    "### Analyzing Sentiments of Lyrics"
   ]
  },
  {
   "cell_type": "code",
   "execution_count": 205,
   "id": "95c91e2a-77af-473b-a187-17fa2e7e6ec2",
   "metadata": {},
   "outputs": [
    {
     "data": {
      "application/vnd.plotly.v1+json": {
       "config": {
        "plotlyServerURL": "https://plot.ly"
       },
       "data": [
        {
         "domain": {
          "x": [
           0,
           1
          ],
          "y": [
           0,
           1
          ]
         },
         "hole": 0.4,
         "hovertemplate": "label=%{label}<br>Count=%{value}<extra></extra>",
         "labels": [
          "Positive",
          "Negative"
         ],
         "legendgroup": "",
         "name": "",
         "showlegend": true,
         "type": "pie",
         "values": [
          24,
          8
         ]
        }
       ],
       "layout": {
        "height": 500,
        "legend": {
         "tracegroupgap": 0
        },
        "piecolorway": [
         "green",
         "red"
        ],
        "template": {
         "data": {
          "bar": [
           {
            "error_x": {
             "color": "#2a3f5f"
            },
            "error_y": {
             "color": "#2a3f5f"
            },
            "marker": {
             "line": {
              "color": "#E5ECF6",
              "width": 0.5
             },
             "pattern": {
              "fillmode": "overlay",
              "size": 10,
              "solidity": 0.2
             }
            },
            "type": "bar"
           }
          ],
          "barpolar": [
           {
            "marker": {
             "line": {
              "color": "#E5ECF6",
              "width": 0.5
             },
             "pattern": {
              "fillmode": "overlay",
              "size": 10,
              "solidity": 0.2
             }
            },
            "type": "barpolar"
           }
          ],
          "carpet": [
           {
            "aaxis": {
             "endlinecolor": "#2a3f5f",
             "gridcolor": "white",
             "linecolor": "white",
             "minorgridcolor": "white",
             "startlinecolor": "#2a3f5f"
            },
            "baxis": {
             "endlinecolor": "#2a3f5f",
             "gridcolor": "white",
             "linecolor": "white",
             "minorgridcolor": "white",
             "startlinecolor": "#2a3f5f"
            },
            "type": "carpet"
           }
          ],
          "choropleth": [
           {
            "colorbar": {
             "outlinewidth": 0,
             "ticks": ""
            },
            "type": "choropleth"
           }
          ],
          "contour": [
           {
            "colorbar": {
             "outlinewidth": 0,
             "ticks": ""
            },
            "colorscale": [
             [
              0,
              "#0d0887"
             ],
             [
              0.1111111111111111,
              "#46039f"
             ],
             [
              0.2222222222222222,
              "#7201a8"
             ],
             [
              0.3333333333333333,
              "#9c179e"
             ],
             [
              0.4444444444444444,
              "#bd3786"
             ],
             [
              0.5555555555555556,
              "#d8576b"
             ],
             [
              0.6666666666666666,
              "#ed7953"
             ],
             [
              0.7777777777777778,
              "#fb9f3a"
             ],
             [
              0.8888888888888888,
              "#fdca26"
             ],
             [
              1,
              "#f0f921"
             ]
            ],
            "type": "contour"
           }
          ],
          "contourcarpet": [
           {
            "colorbar": {
             "outlinewidth": 0,
             "ticks": ""
            },
            "type": "contourcarpet"
           }
          ],
          "heatmap": [
           {
            "colorbar": {
             "outlinewidth": 0,
             "ticks": ""
            },
            "colorscale": [
             [
              0,
              "#0d0887"
             ],
             [
              0.1111111111111111,
              "#46039f"
             ],
             [
              0.2222222222222222,
              "#7201a8"
             ],
             [
              0.3333333333333333,
              "#9c179e"
             ],
             [
              0.4444444444444444,
              "#bd3786"
             ],
             [
              0.5555555555555556,
              "#d8576b"
             ],
             [
              0.6666666666666666,
              "#ed7953"
             ],
             [
              0.7777777777777778,
              "#fb9f3a"
             ],
             [
              0.8888888888888888,
              "#fdca26"
             ],
             [
              1,
              "#f0f921"
             ]
            ],
            "type": "heatmap"
           }
          ],
          "heatmapgl": [
           {
            "colorbar": {
             "outlinewidth": 0,
             "ticks": ""
            },
            "colorscale": [
             [
              0,
              "#0d0887"
             ],
             [
              0.1111111111111111,
              "#46039f"
             ],
             [
              0.2222222222222222,
              "#7201a8"
             ],
             [
              0.3333333333333333,
              "#9c179e"
             ],
             [
              0.4444444444444444,
              "#bd3786"
             ],
             [
              0.5555555555555556,
              "#d8576b"
             ],
             [
              0.6666666666666666,
              "#ed7953"
             ],
             [
              0.7777777777777778,
              "#fb9f3a"
             ],
             [
              0.8888888888888888,
              "#fdca26"
             ],
             [
              1,
              "#f0f921"
             ]
            ],
            "type": "heatmapgl"
           }
          ],
          "histogram": [
           {
            "marker": {
             "pattern": {
              "fillmode": "overlay",
              "size": 10,
              "solidity": 0.2
             }
            },
            "type": "histogram"
           }
          ],
          "histogram2d": [
           {
            "colorbar": {
             "outlinewidth": 0,
             "ticks": ""
            },
            "colorscale": [
             [
              0,
              "#0d0887"
             ],
             [
              0.1111111111111111,
              "#46039f"
             ],
             [
              0.2222222222222222,
              "#7201a8"
             ],
             [
              0.3333333333333333,
              "#9c179e"
             ],
             [
              0.4444444444444444,
              "#bd3786"
             ],
             [
              0.5555555555555556,
              "#d8576b"
             ],
             [
              0.6666666666666666,
              "#ed7953"
             ],
             [
              0.7777777777777778,
              "#fb9f3a"
             ],
             [
              0.8888888888888888,
              "#fdca26"
             ],
             [
              1,
              "#f0f921"
             ]
            ],
            "type": "histogram2d"
           }
          ],
          "histogram2dcontour": [
           {
            "colorbar": {
             "outlinewidth": 0,
             "ticks": ""
            },
            "colorscale": [
             [
              0,
              "#0d0887"
             ],
             [
              0.1111111111111111,
              "#46039f"
             ],
             [
              0.2222222222222222,
              "#7201a8"
             ],
             [
              0.3333333333333333,
              "#9c179e"
             ],
             [
              0.4444444444444444,
              "#bd3786"
             ],
             [
              0.5555555555555556,
              "#d8576b"
             ],
             [
              0.6666666666666666,
              "#ed7953"
             ],
             [
              0.7777777777777778,
              "#fb9f3a"
             ],
             [
              0.8888888888888888,
              "#fdca26"
             ],
             [
              1,
              "#f0f921"
             ]
            ],
            "type": "histogram2dcontour"
           }
          ],
          "mesh3d": [
           {
            "colorbar": {
             "outlinewidth": 0,
             "ticks": ""
            },
            "type": "mesh3d"
           }
          ],
          "parcoords": [
           {
            "line": {
             "colorbar": {
              "outlinewidth": 0,
              "ticks": ""
             }
            },
            "type": "parcoords"
           }
          ],
          "pie": [
           {
            "automargin": true,
            "type": "pie"
           }
          ],
          "scatter": [
           {
            "marker": {
             "colorbar": {
              "outlinewidth": 0,
              "ticks": ""
             }
            },
            "type": "scatter"
           }
          ],
          "scatter3d": [
           {
            "line": {
             "colorbar": {
              "outlinewidth": 0,
              "ticks": ""
             }
            },
            "marker": {
             "colorbar": {
              "outlinewidth": 0,
              "ticks": ""
             }
            },
            "type": "scatter3d"
           }
          ],
          "scattercarpet": [
           {
            "marker": {
             "colorbar": {
              "outlinewidth": 0,
              "ticks": ""
             }
            },
            "type": "scattercarpet"
           }
          ],
          "scattergeo": [
           {
            "marker": {
             "colorbar": {
              "outlinewidth": 0,
              "ticks": ""
             }
            },
            "type": "scattergeo"
           }
          ],
          "scattergl": [
           {
            "marker": {
             "colorbar": {
              "outlinewidth": 0,
              "ticks": ""
             }
            },
            "type": "scattergl"
           }
          ],
          "scattermapbox": [
           {
            "marker": {
             "colorbar": {
              "outlinewidth": 0,
              "ticks": ""
             }
            },
            "type": "scattermapbox"
           }
          ],
          "scatterpolar": [
           {
            "marker": {
             "colorbar": {
              "outlinewidth": 0,
              "ticks": ""
             }
            },
            "type": "scatterpolar"
           }
          ],
          "scatterpolargl": [
           {
            "marker": {
             "colorbar": {
              "outlinewidth": 0,
              "ticks": ""
             }
            },
            "type": "scatterpolargl"
           }
          ],
          "scatterternary": [
           {
            "marker": {
             "colorbar": {
              "outlinewidth": 0,
              "ticks": ""
             }
            },
            "type": "scatterternary"
           }
          ],
          "surface": [
           {
            "colorbar": {
             "outlinewidth": 0,
             "ticks": ""
            },
            "colorscale": [
             [
              0,
              "#0d0887"
             ],
             [
              0.1111111111111111,
              "#46039f"
             ],
             [
              0.2222222222222222,
              "#7201a8"
             ],
             [
              0.3333333333333333,
              "#9c179e"
             ],
             [
              0.4444444444444444,
              "#bd3786"
             ],
             [
              0.5555555555555556,
              "#d8576b"
             ],
             [
              0.6666666666666666,
              "#ed7953"
             ],
             [
              0.7777777777777778,
              "#fb9f3a"
             ],
             [
              0.8888888888888888,
              "#fdca26"
             ],
             [
              1,
              "#f0f921"
             ]
            ],
            "type": "surface"
           }
          ],
          "table": [
           {
            "cells": {
             "fill": {
              "color": "#EBF0F8"
             },
             "line": {
              "color": "white"
             }
            },
            "header": {
             "fill": {
              "color": "#C8D4E3"
             },
             "line": {
              "color": "white"
             }
            },
            "type": "table"
           }
          ]
         },
         "layout": {
          "annotationdefaults": {
           "arrowcolor": "#2a3f5f",
           "arrowhead": 0,
           "arrowwidth": 1
          },
          "autotypenumbers": "strict",
          "coloraxis": {
           "colorbar": {
            "outlinewidth": 0,
            "ticks": ""
           }
          },
          "colorscale": {
           "diverging": [
            [
             0,
             "#8e0152"
            ],
            [
             0.1,
             "#c51b7d"
            ],
            [
             0.2,
             "#de77ae"
            ],
            [
             0.3,
             "#f1b6da"
            ],
            [
             0.4,
             "#fde0ef"
            ],
            [
             0.5,
             "#f7f7f7"
            ],
            [
             0.6,
             "#e6f5d0"
            ],
            [
             0.7,
             "#b8e186"
            ],
            [
             0.8,
             "#7fbc41"
            ],
            [
             0.9,
             "#4d9221"
            ],
            [
             1,
             "#276419"
            ]
           ],
           "sequential": [
            [
             0,
             "#0d0887"
            ],
            [
             0.1111111111111111,
             "#46039f"
            ],
            [
             0.2222222222222222,
             "#7201a8"
            ],
            [
             0.3333333333333333,
             "#9c179e"
            ],
            [
             0.4444444444444444,
             "#bd3786"
            ],
            [
             0.5555555555555556,
             "#d8576b"
            ],
            [
             0.6666666666666666,
             "#ed7953"
            ],
            [
             0.7777777777777778,
             "#fb9f3a"
            ],
            [
             0.8888888888888888,
             "#fdca26"
            ],
            [
             1,
             "#f0f921"
            ]
           ],
           "sequentialminus": [
            [
             0,
             "#0d0887"
            ],
            [
             0.1111111111111111,
             "#46039f"
            ],
            [
             0.2222222222222222,
             "#7201a8"
            ],
            [
             0.3333333333333333,
             "#9c179e"
            ],
            [
             0.4444444444444444,
             "#bd3786"
            ],
            [
             0.5555555555555556,
             "#d8576b"
            ],
            [
             0.6666666666666666,
             "#ed7953"
            ],
            [
             0.7777777777777778,
             "#fb9f3a"
            ],
            [
             0.8888888888888888,
             "#fdca26"
            ],
            [
             1,
             "#f0f921"
            ]
           ]
          },
          "colorway": [
           "#636efa",
           "#EF553B",
           "#00cc96",
           "#ab63fa",
           "#FFA15A",
           "#19d3f3",
           "#FF6692",
           "#B6E880",
           "#FF97FF",
           "#FECB52"
          ],
          "font": {
           "color": "#2a3f5f"
          },
          "geo": {
           "bgcolor": "white",
           "lakecolor": "white",
           "landcolor": "#E5ECF6",
           "showlakes": true,
           "showland": true,
           "subunitcolor": "white"
          },
          "hoverlabel": {
           "align": "left"
          },
          "hovermode": "closest",
          "mapbox": {
           "style": "light"
          },
          "paper_bgcolor": "white",
          "plot_bgcolor": "#E5ECF6",
          "polar": {
           "angularaxis": {
            "gridcolor": "white",
            "linecolor": "white",
            "ticks": ""
           },
           "bgcolor": "#E5ECF6",
           "radialaxis": {
            "gridcolor": "white",
            "linecolor": "white",
            "ticks": ""
           }
          },
          "scene": {
           "xaxis": {
            "backgroundcolor": "#E5ECF6",
            "gridcolor": "white",
            "gridwidth": 2,
            "linecolor": "white",
            "showbackground": true,
            "ticks": "",
            "zerolinecolor": "white"
           },
           "yaxis": {
            "backgroundcolor": "#E5ECF6",
            "gridcolor": "white",
            "gridwidth": 2,
            "linecolor": "white",
            "showbackground": true,
            "ticks": "",
            "zerolinecolor": "white"
           },
           "zaxis": {
            "backgroundcolor": "#E5ECF6",
            "gridcolor": "white",
            "gridwidth": 2,
            "linecolor": "white",
            "showbackground": true,
            "ticks": "",
            "zerolinecolor": "white"
           }
          },
          "shapedefaults": {
           "line": {
            "color": "#2a3f5f"
           }
          },
          "ternary": {
           "aaxis": {
            "gridcolor": "white",
            "linecolor": "white",
            "ticks": ""
           },
           "baxis": {
            "gridcolor": "white",
            "linecolor": "white",
            "ticks": ""
           },
           "bgcolor": "#E5ECF6",
           "caxis": {
            "gridcolor": "white",
            "linecolor": "white",
            "ticks": ""
           }
          },
          "title": {
           "x": 0.05
          },
          "xaxis": {
           "automargin": true,
           "gridcolor": "white",
           "linecolor": "white",
           "ticks": "",
           "title": {
            "standoff": 15
           },
           "zerolinecolor": "white",
           "zerolinewidth": 2
          },
          "yaxis": {
           "automargin": true,
           "gridcolor": "white",
           "linecolor": "white",
           "ticks": "",
           "title": {
            "standoff": 15
           },
           "zerolinecolor": "white",
           "zerolinewidth": 2
          }
         }
        },
        "title": {
         "text": "Overall Sentiment for EDM Song Lyrics"
        },
        "width": 1000
       }
      }
     },
     "metadata": {},
     "output_type": "display_data"
    }
   ],
   "source": [
    "# import plotly.express as px\n",
    "# Plot overall sentiment scores for genre\n",
    "\n",
    "positives = result_lyrics_df['lyrics_sent'].loc[result_lyrics_df['lyrics_sent'] == 1 ].count()\n",
    "negatives = result_lyrics_df['lyrics_sent'].loc[result_lyrics_df['lyrics_sent'] == -1 ].count()\n",
    "index_names = ['Positive', 'Negative']\n",
    "\n",
    "lyrics_sentiment = pd.DataFrame([positives,negatives], columns = ['Count'])\n",
    "lyrics_sentiment.index = index_names\n",
    "\n",
    "EDM_sentiment = px.pie(\n",
    "    lyrics_sentiment, \n",
    "    values = 'Count', \n",
    "    names=index_names, \n",
    "    hole = 0.4, \n",
    "    color_discrete_sequence=[\"green\", \"red\"],\n",
    "    width=1000, \n",
    "    height = 500,\n",
    "    title='Overall Sentiment for EDM Song Lyrics'\n",
    "    )  \n",
    "EDM_sentiment"
   ]
  },
  {
   "cell_type": "code",
   "execution_count": 206,
   "id": "5cf00617-be15-475b-a5c9-12dcc0484bd4",
   "metadata": {},
   "outputs": [
    {
     "data": {
      "text/html": [
       "<div>\n",
       "<style scoped>\n",
       "    .dataframe tbody tr th:only-of-type {\n",
       "        vertical-align: middle;\n",
       "    }\n",
       "\n",
       "    .dataframe tbody tr th {\n",
       "        vertical-align: top;\n",
       "    }\n",
       "\n",
       "    .dataframe thead th {\n",
       "        text-align: right;\n",
       "    }\n",
       "</style>\n",
       "<table border=\"1\" class=\"dataframe\">\n",
       "  <thead>\n",
       "    <tr style=\"text-align: right;\">\n",
       "      <th></th>\n",
       "      <th>lyrics_compound</th>\n",
       "      <th>lyrics_pos</th>\n",
       "      <th>lyrics_neu</th>\n",
       "      <th>lyrics_neg</th>\n",
       "      <th>lyrics_sent</th>\n",
       "    </tr>\n",
       "  </thead>\n",
       "  <tbody>\n",
       "    <tr>\n",
       "      <th>count</th>\n",
       "      <td>36.000000</td>\n",
       "      <td>36.000000</td>\n",
       "      <td>36.000000</td>\n",
       "      <td>36.000000</td>\n",
       "      <td>36.000000</td>\n",
       "    </tr>\n",
       "    <tr>\n",
       "      <th>mean</th>\n",
       "      <td>0.392039</td>\n",
       "      <td>0.128361</td>\n",
       "      <td>0.779528</td>\n",
       "      <td>0.092139</td>\n",
       "      <td>0.444444</td>\n",
       "    </tr>\n",
       "    <tr>\n",
       "      <th>std</th>\n",
       "      <td>0.776651</td>\n",
       "      <td>0.097282</td>\n",
       "      <td>0.152198</td>\n",
       "      <td>0.112492</td>\n",
       "      <td>0.843274</td>\n",
       "    </tr>\n",
       "    <tr>\n",
       "      <th>min</th>\n",
       "      <td>-0.996900</td>\n",
       "      <td>0.000000</td>\n",
       "      <td>0.262000</td>\n",
       "      <td>0.000000</td>\n",
       "      <td>-1.000000</td>\n",
       "    </tr>\n",
       "    <tr>\n",
       "      <th>25%</th>\n",
       "      <td>0.000000</td>\n",
       "      <td>0.066000</td>\n",
       "      <td>0.726750</td>\n",
       "      <td>0.029750</td>\n",
       "      <td>0.000000</td>\n",
       "    </tr>\n",
       "    <tr>\n",
       "      <th>50%</th>\n",
       "      <td>0.849950</td>\n",
       "      <td>0.110000</td>\n",
       "      <td>0.782000</td>\n",
       "      <td>0.064000</td>\n",
       "      <td>1.000000</td>\n",
       "    </tr>\n",
       "    <tr>\n",
       "      <th>75%</th>\n",
       "      <td>0.985225</td>\n",
       "      <td>0.175250</td>\n",
       "      <td>0.878750</td>\n",
       "      <td>0.099500</td>\n",
       "      <td>1.000000</td>\n",
       "    </tr>\n",
       "    <tr>\n",
       "      <th>max</th>\n",
       "      <td>0.999200</td>\n",
       "      <td>0.445000</td>\n",
       "      <td>1.000000</td>\n",
       "      <td>0.536000</td>\n",
       "      <td>1.000000</td>\n",
       "    </tr>\n",
       "  </tbody>\n",
       "</table>\n",
       "</div>"
      ],
      "text/plain": [
       "       lyrics_compound  lyrics_pos  lyrics_neu  lyrics_neg  lyrics_sent\n",
       "count        36.000000   36.000000   36.000000   36.000000    36.000000\n",
       "mean          0.392039    0.128361    0.779528    0.092139     0.444444\n",
       "std           0.776651    0.097282    0.152198    0.112492     0.843274\n",
       "min          -0.996900    0.000000    0.262000    0.000000    -1.000000\n",
       "25%           0.000000    0.066000    0.726750    0.029750     0.000000\n",
       "50%           0.849950    0.110000    0.782000    0.064000     1.000000\n",
       "75%           0.985225    0.175250    0.878750    0.099500     1.000000\n",
       "max           0.999200    0.445000    1.000000    0.536000     1.000000"
      ]
     },
     "execution_count": 206,
     "metadata": {},
     "output_type": "execute_result"
    }
   ],
   "source": [
    "# Describe lyrics sentiment\n",
    "result_lyrics_df.describe()"
   ]
  },
  {
   "cell_type": "markdown",
   "id": "4fc2a3b8-1b7c-429a-81cf-57d39c7d3072",
   "metadata": {
    "tags": []
   },
   "source": [
    "# NLTK NGrams and Frequency Analysis\n"
   ]
  },
  {
   "cell_type": "code",
   "execution_count": 207,
   "id": "d5150ab8-22ce-454d-851f-239c4645f2a4",
   "metadata": {},
   "outputs": [
    {
     "name": "stdout",
     "output_type": "stream",
     "text": [
      "{('run', 'run'): 49, ('let', 'go'): 46, ('lose', 'babe'): 29, ('need', 'love'): 28, ('love', 'tonight'): 25, ('babe', 'lose'): 25, ('keep', 'moving'): 24, ('lost', 'dancing'): 22, ('hold', 'hold'): 22, ('drive', 'night'): 21, ('tonight', 'need'): 20, ('go', 'let'): 17, ('dancing', 'lost'): 16, ('lost', 'lost'): 16, ('moving', 'keep'): 15, ('love', 'lololo'): 15, ('thinking', 'thinking'): 15, ('ohwoah', 'ohwoah'): 14, ('never', 'going'): 13, ('stop', 'shake'): 13, ('measure', 'man'): 12, ('hey', 'mama'): 12, ('blow', 'kiss'): 12, ('kiss', 'fire'): 12, ('fire', 'gun'): 12, ('gun', 'need'): 12, ('sending', 'so'): 12, ('world', 'hold'): 12, ('take', 'money'): 12, ('wasted', 'love'): 11, ('one', 'forever'): 10, ('take', 'hand'): 10, ('could', 'live'): 10, ('lean', 'blow'): 10, ('osonakoluna', 'osonakoluna'): 10, ('ani', 'kuni'): 10, ('kuni', 'chaouani'): 10, ('night', 'drive'): 10, ('lololo', 'love'): 10, ('every', 'time'): 10, ('til', 'morning'): 9, ('mind', 'like'): 9, ('like', 'hurricane'): 9, ('calling', 'name'): 9, ('so', 'sending'): 9, ('money', 'take'): 9, ('take', 'candy'): 8, ('candy', 'shop'): 8, ('shop', 'let'): 8, ('let', 'lick'): 8, ('lick', 'lollipop'): 8, ('lollipop', 'go'): 8, ('go', 'ahead'): 8, ('ahead', 'girl'): 8, ('girl', 'stop'): 8, ('stop', 'keep'): 8, ('keep', 'goin'): 8, ('goin', 'hit'): 8, ('hit', 'spot'): 8, ('spot', 'whoa'): 8, ('ooh', 'see'): 8, ('dancing', 'together'): 8, ('hour', 'pas'): 8, ('pas', 'let'): 8, ('let', 'know'): 8, ('know', 'need'): 8, ('need', 'ask'): 8, ('ask', 'alone'): 8, ('alone', 'feel'): 8, ('feel', 'rest'): 8, ('rest', 'patient'): 8, ('patient', 'lip'): 8, ('lip', 'eternal'): 8, ('eternal', 'bliss'): 8, ('bliss', 'glad'): 8, ('glad', 'know'): 8, ('live', 'could'): 8, ('woman', 'girl'): 8, ('girl', 'man'): 8, ('golden', 'see'): 8}\n"
     ]
    }
   ],
   "source": [
    "# Generate the Bitcoin N-grams where N=2\n",
    "lyrics_text = ' '.join(new_lyrics_df[\"Lyrics\"])\n",
    "lyrics_processed = tokenizer(lyrics_text)\n",
    "lyrics_ngrams = Counter(ngrams(lyrics_processed, n=2))\n",
    "print(dict(lyrics_ngrams.most_common(80)))"
   ]
  },
  {
   "cell_type": "code",
   "execution_count": 208,
   "id": "05280dad-b32e-45d4-9503-7c09c9c695f6",
   "metadata": {},
   "outputs": [],
   "source": [
    "# Use the token_count function to generate the top 50 words from the lyrics\n",
    "def token_count(Tokens, N=50):\n",
    "    \"\"\"Returns the top N tokens from the frequency count\"\"\"\n",
    "    return Counter(Tokens).most_common(N)"
   ]
  },
  {
   "cell_type": "code",
   "execution_count": 209,
   "id": "2d377666-78cd-43c0-9870-03879c6824db",
   "metadata": {},
   "outputs": [
    {
     "data": {
      "text/plain": [
       "[('love', 80),\n",
       " ('run', 73),\n",
       " ('let', 72),\n",
       " ('need', 66),\n",
       " ('go', 60),\n",
       " ('feel', 52),\n",
       " ('hold', 52),\n",
       " ('got', 51),\n",
       " ('lost', 50),\n",
       " ('like', 48),\n",
       " ('time', 48),\n",
       " ('know', 47),\n",
       " ('keep', 45),\n",
       " ('take', 44),\n",
       " ('never', 43),\n",
       " ('dancing', 41),\n",
       " ('lose', 39),\n",
       " ('see', 36),\n",
       " ('girl', 35),\n",
       " ('tonight', 34),\n",
       " ('one', 34),\n",
       " ('kiss', 34),\n",
       " ('night', 33),\n",
       " ('babe', 32),\n",
       " ('stop', 31),\n",
       " ('fire', 30),\n",
       " ('heart', 30),\n",
       " ('want', 27),\n",
       " ('thinking', 27),\n",
       " ('yeah', 26),\n",
       " ('man', 26),\n",
       " ('baby', 25),\n",
       " ('come', 25),\n",
       " ('u', 24),\n",
       " ('ooh', 24),\n",
       " ('could', 24),\n",
       " ('ohwoah', 24),\n",
       " ('moving', 24),\n",
       " ('drive', 24),\n",
       " ('get', 22),\n",
       " ('world', 22),\n",
       " ('golden', 22),\n",
       " ('osonakoluna', 22),\n",
       " ('shake', 22),\n",
       " ('find', 19),\n",
       " ('mind', 19),\n",
       " ('alone', 18),\n",
       " ('make', 18),\n",
       " ('measure', 18),\n",
       " ('mama', 18)]"
      ]
     },
     "execution_count": 209,
     "metadata": {},
     "output_type": "execute_result"
    }
   ],
   "source": [
    "# Use token_count to get the top 50 words from rnb lyrics\n",
    "lyrics_top_50 = token_count(lyrics_processed)\n",
    "lyrics_top_50"
   ]
  },
  {
   "cell_type": "code",
   "execution_count": 210,
   "id": "83a987b0-2af0-4c3c-8c80-6d766b45cc7c",
   "metadata": {
    "tags": []
   },
   "outputs": [
    {
     "data": {
      "text/html": [
       "<div>\n",
       "<style scoped>\n",
       "    .dataframe tbody tr th:only-of-type {\n",
       "        vertical-align: middle;\n",
       "    }\n",
       "\n",
       "    .dataframe tbody tr th {\n",
       "        vertical-align: top;\n",
       "    }\n",
       "\n",
       "    .dataframe thead th {\n",
       "        text-align: right;\n",
       "    }\n",
       "</style>\n",
       "<table border=\"1\" class=\"dataframe\">\n",
       "  <thead>\n",
       "    <tr style=\"text-align: right;\">\n",
       "      <th></th>\n",
       "      <th>Count</th>\n",
       "    </tr>\n",
       "    <tr>\n",
       "      <th>Word</th>\n",
       "      <th></th>\n",
       "    </tr>\n",
       "  </thead>\n",
       "  <tbody>\n",
       "    <tr>\n",
       "      <th>love</th>\n",
       "      <td>80</td>\n",
       "    </tr>\n",
       "    <tr>\n",
       "      <th>run</th>\n",
       "      <td>73</td>\n",
       "    </tr>\n",
       "    <tr>\n",
       "      <th>let</th>\n",
       "      <td>72</td>\n",
       "    </tr>\n",
       "    <tr>\n",
       "      <th>need</th>\n",
       "      <td>66</td>\n",
       "    </tr>\n",
       "    <tr>\n",
       "      <th>go</th>\n",
       "      <td>60</td>\n",
       "    </tr>\n",
       "    <tr>\n",
       "      <th>feel</th>\n",
       "      <td>52</td>\n",
       "    </tr>\n",
       "    <tr>\n",
       "      <th>hold</th>\n",
       "      <td>52</td>\n",
       "    </tr>\n",
       "    <tr>\n",
       "      <th>got</th>\n",
       "      <td>51</td>\n",
       "    </tr>\n",
       "    <tr>\n",
       "      <th>lost</th>\n",
       "      <td>50</td>\n",
       "    </tr>\n",
       "    <tr>\n",
       "      <th>like</th>\n",
       "      <td>48</td>\n",
       "    </tr>\n",
       "    <tr>\n",
       "      <th>time</th>\n",
       "      <td>48</td>\n",
       "    </tr>\n",
       "    <tr>\n",
       "      <th>know</th>\n",
       "      <td>47</td>\n",
       "    </tr>\n",
       "    <tr>\n",
       "      <th>keep</th>\n",
       "      <td>45</td>\n",
       "    </tr>\n",
       "    <tr>\n",
       "      <th>take</th>\n",
       "      <td>44</td>\n",
       "    </tr>\n",
       "    <tr>\n",
       "      <th>never</th>\n",
       "      <td>43</td>\n",
       "    </tr>\n",
       "    <tr>\n",
       "      <th>dancing</th>\n",
       "      <td>41</td>\n",
       "    </tr>\n",
       "    <tr>\n",
       "      <th>lose</th>\n",
       "      <td>39</td>\n",
       "    </tr>\n",
       "    <tr>\n",
       "      <th>see</th>\n",
       "      <td>36</td>\n",
       "    </tr>\n",
       "    <tr>\n",
       "      <th>girl</th>\n",
       "      <td>35</td>\n",
       "    </tr>\n",
       "    <tr>\n",
       "      <th>tonight</th>\n",
       "      <td>34</td>\n",
       "    </tr>\n",
       "    <tr>\n",
       "      <th>one</th>\n",
       "      <td>34</td>\n",
       "    </tr>\n",
       "    <tr>\n",
       "      <th>kiss</th>\n",
       "      <td>34</td>\n",
       "    </tr>\n",
       "    <tr>\n",
       "      <th>night</th>\n",
       "      <td>33</td>\n",
       "    </tr>\n",
       "    <tr>\n",
       "      <th>babe</th>\n",
       "      <td>32</td>\n",
       "    </tr>\n",
       "    <tr>\n",
       "      <th>stop</th>\n",
       "      <td>31</td>\n",
       "    </tr>\n",
       "    <tr>\n",
       "      <th>fire</th>\n",
       "      <td>30</td>\n",
       "    </tr>\n",
       "    <tr>\n",
       "      <th>heart</th>\n",
       "      <td>30</td>\n",
       "    </tr>\n",
       "    <tr>\n",
       "      <th>want</th>\n",
       "      <td>27</td>\n",
       "    </tr>\n",
       "    <tr>\n",
       "      <th>thinking</th>\n",
       "      <td>27</td>\n",
       "    </tr>\n",
       "    <tr>\n",
       "      <th>yeah</th>\n",
       "      <td>26</td>\n",
       "    </tr>\n",
       "    <tr>\n",
       "      <th>man</th>\n",
       "      <td>26</td>\n",
       "    </tr>\n",
       "    <tr>\n",
       "      <th>baby</th>\n",
       "      <td>25</td>\n",
       "    </tr>\n",
       "    <tr>\n",
       "      <th>come</th>\n",
       "      <td>25</td>\n",
       "    </tr>\n",
       "    <tr>\n",
       "      <th>u</th>\n",
       "      <td>24</td>\n",
       "    </tr>\n",
       "    <tr>\n",
       "      <th>ooh</th>\n",
       "      <td>24</td>\n",
       "    </tr>\n",
       "    <tr>\n",
       "      <th>could</th>\n",
       "      <td>24</td>\n",
       "    </tr>\n",
       "    <tr>\n",
       "      <th>ohwoah</th>\n",
       "      <td>24</td>\n",
       "    </tr>\n",
       "    <tr>\n",
       "      <th>moving</th>\n",
       "      <td>24</td>\n",
       "    </tr>\n",
       "    <tr>\n",
       "      <th>drive</th>\n",
       "      <td>24</td>\n",
       "    </tr>\n",
       "    <tr>\n",
       "      <th>get</th>\n",
       "      <td>22</td>\n",
       "    </tr>\n",
       "    <tr>\n",
       "      <th>world</th>\n",
       "      <td>22</td>\n",
       "    </tr>\n",
       "    <tr>\n",
       "      <th>golden</th>\n",
       "      <td>22</td>\n",
       "    </tr>\n",
       "    <tr>\n",
       "      <th>osonakoluna</th>\n",
       "      <td>22</td>\n",
       "    </tr>\n",
       "    <tr>\n",
       "      <th>shake</th>\n",
       "      <td>22</td>\n",
       "    </tr>\n",
       "    <tr>\n",
       "      <th>find</th>\n",
       "      <td>19</td>\n",
       "    </tr>\n",
       "    <tr>\n",
       "      <th>mind</th>\n",
       "      <td>19</td>\n",
       "    </tr>\n",
       "    <tr>\n",
       "      <th>alone</th>\n",
       "      <td>18</td>\n",
       "    </tr>\n",
       "    <tr>\n",
       "      <th>make</th>\n",
       "      <td>18</td>\n",
       "    </tr>\n",
       "    <tr>\n",
       "      <th>measure</th>\n",
       "      <td>18</td>\n",
       "    </tr>\n",
       "    <tr>\n",
       "      <th>mama</th>\n",
       "      <td>18</td>\n",
       "    </tr>\n",
       "  </tbody>\n",
       "</table>\n",
       "</div>"
      ],
      "text/plain": [
       "             Count\n",
       "Word              \n",
       "love            80\n",
       "run             73\n",
       "let             72\n",
       "need            66\n",
       "go              60\n",
       "feel            52\n",
       "hold            52\n",
       "got             51\n",
       "lost            50\n",
       "like            48\n",
       "time            48\n",
       "know            47\n",
       "keep            45\n",
       "take            44\n",
       "never           43\n",
       "dancing         41\n",
       "lose            39\n",
       "see             36\n",
       "girl            35\n",
       "tonight         34\n",
       "one             34\n",
       "kiss            34\n",
       "night           33\n",
       "babe            32\n",
       "stop            31\n",
       "fire            30\n",
       "heart           30\n",
       "want            27\n",
       "thinking        27\n",
       "yeah            26\n",
       "man             26\n",
       "baby            25\n",
       "come            25\n",
       "u               24\n",
       "ooh             24\n",
       "could           24\n",
       "ohwoah          24\n",
       "moving          24\n",
       "drive           24\n",
       "get             22\n",
       "world           22\n",
       "golden          22\n",
       "osonakoluna     22\n",
       "shake           22\n",
       "find            19\n",
       "mind            19\n",
       "alone           18\n",
       "make            18\n",
       "measure         18\n",
       "mama            18"
      ]
     },
     "execution_count": 210,
     "metadata": {},
     "output_type": "execute_result"
    }
   ],
   "source": [
    "# Create df for most common tokens\n",
    "\n",
    "lyrics_top50_df = pd.DataFrame(lyrics_top_50, columns=['Word', 'Count']).set_index('Word')\n",
    "lyrics_top50_df"
   ]
  },
  {
   "cell_type": "code",
   "execution_count": 211,
   "id": "b4b8ad34-aefe-4325-bf84-553df1efb0b8",
   "metadata": {},
   "outputs": [],
   "source": [
    "# Export Top Words dataframe to CSV\n",
    "lyrics_top50_df.to_csv('EDM_words.csv')"
   ]
  },
  {
   "cell_type": "code",
   "execution_count": 212,
   "id": "aa7c3a1b-cd19-4b19-8dd1-24be0d541c51",
   "metadata": {},
   "outputs": [
    {
     "data": {
      "application/vnd.plotly.v1+json": {
       "config": {
        "plotlyServerURL": "https://plot.ly"
       },
       "data": [
        {
         "alignmentgroup": "True",
         "hovertemplate": "Word=%{x}<br>Count=%{marker.color}<extra></extra>",
         "legendgroup": "",
         "marker": {
          "color": [
           80,
           73,
           72,
           66,
           60,
           52,
           52,
           51,
           50,
           48,
           48,
           47,
           45,
           44,
           43,
           41,
           39,
           36,
           35,
           34,
           34,
           34,
           33,
           32,
           31,
           30,
           30,
           27,
           27,
           26,
           26,
           25,
           25,
           24,
           24,
           24,
           24,
           24,
           24,
           22,
           22,
           22,
           22,
           22,
           19,
           19,
           18,
           18,
           18,
           18
          ],
          "coloraxis": "coloraxis",
          "pattern": {
           "shape": ""
          }
         },
         "name": "",
         "offsetgroup": "",
         "orientation": "v",
         "showlegend": false,
         "textposition": "auto",
         "type": "bar",
         "x": [
          "love",
          "run",
          "let",
          "need",
          "go",
          "feel",
          "hold",
          "got",
          "lost",
          "like",
          "time",
          "know",
          "keep",
          "take",
          "never",
          "dancing",
          "lose",
          "see",
          "girl",
          "tonight",
          "one",
          "kiss",
          "night",
          "babe",
          "stop",
          "fire",
          "heart",
          "want",
          "thinking",
          "yeah",
          "man",
          "baby",
          "come",
          "u",
          "ooh",
          "could",
          "ohwoah",
          "moving",
          "drive",
          "get",
          "world",
          "golden",
          "osonakoluna",
          "shake",
          "find",
          "mind",
          "alone",
          "make",
          "measure",
          "mama"
         ],
         "xaxis": "x",
         "y": [
          80,
          73,
          72,
          66,
          60,
          52,
          52,
          51,
          50,
          48,
          48,
          47,
          45,
          44,
          43,
          41,
          39,
          36,
          35,
          34,
          34,
          34,
          33,
          32,
          31,
          30,
          30,
          27,
          27,
          26,
          26,
          25,
          25,
          24,
          24,
          24,
          24,
          24,
          24,
          22,
          22,
          22,
          22,
          22,
          19,
          19,
          18,
          18,
          18,
          18
         ],
         "yaxis": "y"
        }
       ],
       "layout": {
        "barmode": "relative",
        "coloraxis": {
         "colorbar": {
          "title": {
           "text": "Count"
          }
         },
         "colorscale": [
          [
           0,
           "rgb(161, 105, 40)"
          ],
          [
           0.16666666666666666,
           "rgb(189, 146, 90)"
          ],
          [
           0.3333333333333333,
           "rgb(214, 189, 141)"
          ],
          [
           0.5,
           "rgb(237, 234, 194)"
          ],
          [
           0.6666666666666666,
           "rgb(181, 200, 184)"
          ],
          [
           0.8333333333333334,
           "rgb(121, 167, 172)"
          ],
          [
           1,
           "rgb(40, 135, 161)"
          ]
         ]
        },
        "legend": {
         "tracegroupgap": 0
        },
        "template": {
         "data": {
          "bar": [
           {
            "error_x": {
             "color": "#2a3f5f"
            },
            "error_y": {
             "color": "#2a3f5f"
            },
            "marker": {
             "line": {
              "color": "#E5ECF6",
              "width": 0.5
             },
             "pattern": {
              "fillmode": "overlay",
              "size": 10,
              "solidity": 0.2
             }
            },
            "type": "bar"
           }
          ],
          "barpolar": [
           {
            "marker": {
             "line": {
              "color": "#E5ECF6",
              "width": 0.5
             },
             "pattern": {
              "fillmode": "overlay",
              "size": 10,
              "solidity": 0.2
             }
            },
            "type": "barpolar"
           }
          ],
          "carpet": [
           {
            "aaxis": {
             "endlinecolor": "#2a3f5f",
             "gridcolor": "white",
             "linecolor": "white",
             "minorgridcolor": "white",
             "startlinecolor": "#2a3f5f"
            },
            "baxis": {
             "endlinecolor": "#2a3f5f",
             "gridcolor": "white",
             "linecolor": "white",
             "minorgridcolor": "white",
             "startlinecolor": "#2a3f5f"
            },
            "type": "carpet"
           }
          ],
          "choropleth": [
           {
            "colorbar": {
             "outlinewidth": 0,
             "ticks": ""
            },
            "type": "choropleth"
           }
          ],
          "contour": [
           {
            "colorbar": {
             "outlinewidth": 0,
             "ticks": ""
            },
            "colorscale": [
             [
              0,
              "#0d0887"
             ],
             [
              0.1111111111111111,
              "#46039f"
             ],
             [
              0.2222222222222222,
              "#7201a8"
             ],
             [
              0.3333333333333333,
              "#9c179e"
             ],
             [
              0.4444444444444444,
              "#bd3786"
             ],
             [
              0.5555555555555556,
              "#d8576b"
             ],
             [
              0.6666666666666666,
              "#ed7953"
             ],
             [
              0.7777777777777778,
              "#fb9f3a"
             ],
             [
              0.8888888888888888,
              "#fdca26"
             ],
             [
              1,
              "#f0f921"
             ]
            ],
            "type": "contour"
           }
          ],
          "contourcarpet": [
           {
            "colorbar": {
             "outlinewidth": 0,
             "ticks": ""
            },
            "type": "contourcarpet"
           }
          ],
          "heatmap": [
           {
            "colorbar": {
             "outlinewidth": 0,
             "ticks": ""
            },
            "colorscale": [
             [
              0,
              "#0d0887"
             ],
             [
              0.1111111111111111,
              "#46039f"
             ],
             [
              0.2222222222222222,
              "#7201a8"
             ],
             [
              0.3333333333333333,
              "#9c179e"
             ],
             [
              0.4444444444444444,
              "#bd3786"
             ],
             [
              0.5555555555555556,
              "#d8576b"
             ],
             [
              0.6666666666666666,
              "#ed7953"
             ],
             [
              0.7777777777777778,
              "#fb9f3a"
             ],
             [
              0.8888888888888888,
              "#fdca26"
             ],
             [
              1,
              "#f0f921"
             ]
            ],
            "type": "heatmap"
           }
          ],
          "heatmapgl": [
           {
            "colorbar": {
             "outlinewidth": 0,
             "ticks": ""
            },
            "colorscale": [
             [
              0,
              "#0d0887"
             ],
             [
              0.1111111111111111,
              "#46039f"
             ],
             [
              0.2222222222222222,
              "#7201a8"
             ],
             [
              0.3333333333333333,
              "#9c179e"
             ],
             [
              0.4444444444444444,
              "#bd3786"
             ],
             [
              0.5555555555555556,
              "#d8576b"
             ],
             [
              0.6666666666666666,
              "#ed7953"
             ],
             [
              0.7777777777777778,
              "#fb9f3a"
             ],
             [
              0.8888888888888888,
              "#fdca26"
             ],
             [
              1,
              "#f0f921"
             ]
            ],
            "type": "heatmapgl"
           }
          ],
          "histogram": [
           {
            "marker": {
             "pattern": {
              "fillmode": "overlay",
              "size": 10,
              "solidity": 0.2
             }
            },
            "type": "histogram"
           }
          ],
          "histogram2d": [
           {
            "colorbar": {
             "outlinewidth": 0,
             "ticks": ""
            },
            "colorscale": [
             [
              0,
              "#0d0887"
             ],
             [
              0.1111111111111111,
              "#46039f"
             ],
             [
              0.2222222222222222,
              "#7201a8"
             ],
             [
              0.3333333333333333,
              "#9c179e"
             ],
             [
              0.4444444444444444,
              "#bd3786"
             ],
             [
              0.5555555555555556,
              "#d8576b"
             ],
             [
              0.6666666666666666,
              "#ed7953"
             ],
             [
              0.7777777777777778,
              "#fb9f3a"
             ],
             [
              0.8888888888888888,
              "#fdca26"
             ],
             [
              1,
              "#f0f921"
             ]
            ],
            "type": "histogram2d"
           }
          ],
          "histogram2dcontour": [
           {
            "colorbar": {
             "outlinewidth": 0,
             "ticks": ""
            },
            "colorscale": [
             [
              0,
              "#0d0887"
             ],
             [
              0.1111111111111111,
              "#46039f"
             ],
             [
              0.2222222222222222,
              "#7201a8"
             ],
             [
              0.3333333333333333,
              "#9c179e"
             ],
             [
              0.4444444444444444,
              "#bd3786"
             ],
             [
              0.5555555555555556,
              "#d8576b"
             ],
             [
              0.6666666666666666,
              "#ed7953"
             ],
             [
              0.7777777777777778,
              "#fb9f3a"
             ],
             [
              0.8888888888888888,
              "#fdca26"
             ],
             [
              1,
              "#f0f921"
             ]
            ],
            "type": "histogram2dcontour"
           }
          ],
          "mesh3d": [
           {
            "colorbar": {
             "outlinewidth": 0,
             "ticks": ""
            },
            "type": "mesh3d"
           }
          ],
          "parcoords": [
           {
            "line": {
             "colorbar": {
              "outlinewidth": 0,
              "ticks": ""
             }
            },
            "type": "parcoords"
           }
          ],
          "pie": [
           {
            "automargin": true,
            "type": "pie"
           }
          ],
          "scatter": [
           {
            "marker": {
             "colorbar": {
              "outlinewidth": 0,
              "ticks": ""
             }
            },
            "type": "scatter"
           }
          ],
          "scatter3d": [
           {
            "line": {
             "colorbar": {
              "outlinewidth": 0,
              "ticks": ""
             }
            },
            "marker": {
             "colorbar": {
              "outlinewidth": 0,
              "ticks": ""
             }
            },
            "type": "scatter3d"
           }
          ],
          "scattercarpet": [
           {
            "marker": {
             "colorbar": {
              "outlinewidth": 0,
              "ticks": ""
             }
            },
            "type": "scattercarpet"
           }
          ],
          "scattergeo": [
           {
            "marker": {
             "colorbar": {
              "outlinewidth": 0,
              "ticks": ""
             }
            },
            "type": "scattergeo"
           }
          ],
          "scattergl": [
           {
            "marker": {
             "colorbar": {
              "outlinewidth": 0,
              "ticks": ""
             }
            },
            "type": "scattergl"
           }
          ],
          "scattermapbox": [
           {
            "marker": {
             "colorbar": {
              "outlinewidth": 0,
              "ticks": ""
             }
            },
            "type": "scattermapbox"
           }
          ],
          "scatterpolar": [
           {
            "marker": {
             "colorbar": {
              "outlinewidth": 0,
              "ticks": ""
             }
            },
            "type": "scatterpolar"
           }
          ],
          "scatterpolargl": [
           {
            "marker": {
             "colorbar": {
              "outlinewidth": 0,
              "ticks": ""
             }
            },
            "type": "scatterpolargl"
           }
          ],
          "scatterternary": [
           {
            "marker": {
             "colorbar": {
              "outlinewidth": 0,
              "ticks": ""
             }
            },
            "type": "scatterternary"
           }
          ],
          "surface": [
           {
            "colorbar": {
             "outlinewidth": 0,
             "ticks": ""
            },
            "colorscale": [
             [
              0,
              "#0d0887"
             ],
             [
              0.1111111111111111,
              "#46039f"
             ],
             [
              0.2222222222222222,
              "#7201a8"
             ],
             [
              0.3333333333333333,
              "#9c179e"
             ],
             [
              0.4444444444444444,
              "#bd3786"
             ],
             [
              0.5555555555555556,
              "#d8576b"
             ],
             [
              0.6666666666666666,
              "#ed7953"
             ],
             [
              0.7777777777777778,
              "#fb9f3a"
             ],
             [
              0.8888888888888888,
              "#fdca26"
             ],
             [
              1,
              "#f0f921"
             ]
            ],
            "type": "surface"
           }
          ],
          "table": [
           {
            "cells": {
             "fill": {
              "color": "#EBF0F8"
             },
             "line": {
              "color": "white"
             }
            },
            "header": {
             "fill": {
              "color": "#C8D4E3"
             },
             "line": {
              "color": "white"
             }
            },
            "type": "table"
           }
          ]
         },
         "layout": {
          "annotationdefaults": {
           "arrowcolor": "#2a3f5f",
           "arrowhead": 0,
           "arrowwidth": 1
          },
          "autotypenumbers": "strict",
          "coloraxis": {
           "colorbar": {
            "outlinewidth": 0,
            "ticks": ""
           }
          },
          "colorscale": {
           "diverging": [
            [
             0,
             "#8e0152"
            ],
            [
             0.1,
             "#c51b7d"
            ],
            [
             0.2,
             "#de77ae"
            ],
            [
             0.3,
             "#f1b6da"
            ],
            [
             0.4,
             "#fde0ef"
            ],
            [
             0.5,
             "#f7f7f7"
            ],
            [
             0.6,
             "#e6f5d0"
            ],
            [
             0.7,
             "#b8e186"
            ],
            [
             0.8,
             "#7fbc41"
            ],
            [
             0.9,
             "#4d9221"
            ],
            [
             1,
             "#276419"
            ]
           ],
           "sequential": [
            [
             0,
             "#0d0887"
            ],
            [
             0.1111111111111111,
             "#46039f"
            ],
            [
             0.2222222222222222,
             "#7201a8"
            ],
            [
             0.3333333333333333,
             "#9c179e"
            ],
            [
             0.4444444444444444,
             "#bd3786"
            ],
            [
             0.5555555555555556,
             "#d8576b"
            ],
            [
             0.6666666666666666,
             "#ed7953"
            ],
            [
             0.7777777777777778,
             "#fb9f3a"
            ],
            [
             0.8888888888888888,
             "#fdca26"
            ],
            [
             1,
             "#f0f921"
            ]
           ],
           "sequentialminus": [
            [
             0,
             "#0d0887"
            ],
            [
             0.1111111111111111,
             "#46039f"
            ],
            [
             0.2222222222222222,
             "#7201a8"
            ],
            [
             0.3333333333333333,
             "#9c179e"
            ],
            [
             0.4444444444444444,
             "#bd3786"
            ],
            [
             0.5555555555555556,
             "#d8576b"
            ],
            [
             0.6666666666666666,
             "#ed7953"
            ],
            [
             0.7777777777777778,
             "#fb9f3a"
            ],
            [
             0.8888888888888888,
             "#fdca26"
            ],
            [
             1,
             "#f0f921"
            ]
           ]
          },
          "colorway": [
           "#636efa",
           "#EF553B",
           "#00cc96",
           "#ab63fa",
           "#FFA15A",
           "#19d3f3",
           "#FF6692",
           "#B6E880",
           "#FF97FF",
           "#FECB52"
          ],
          "font": {
           "color": "#2a3f5f"
          },
          "geo": {
           "bgcolor": "white",
           "lakecolor": "white",
           "landcolor": "#E5ECF6",
           "showlakes": true,
           "showland": true,
           "subunitcolor": "white"
          },
          "hoverlabel": {
           "align": "left"
          },
          "hovermode": "closest",
          "mapbox": {
           "style": "light"
          },
          "paper_bgcolor": "white",
          "plot_bgcolor": "#E5ECF6",
          "polar": {
           "angularaxis": {
            "gridcolor": "white",
            "linecolor": "white",
            "ticks": ""
           },
           "bgcolor": "#E5ECF6",
           "radialaxis": {
            "gridcolor": "white",
            "linecolor": "white",
            "ticks": ""
           }
          },
          "scene": {
           "xaxis": {
            "backgroundcolor": "#E5ECF6",
            "gridcolor": "white",
            "gridwidth": 2,
            "linecolor": "white",
            "showbackground": true,
            "ticks": "",
            "zerolinecolor": "white"
           },
           "yaxis": {
            "backgroundcolor": "#E5ECF6",
            "gridcolor": "white",
            "gridwidth": 2,
            "linecolor": "white",
            "showbackground": true,
            "ticks": "",
            "zerolinecolor": "white"
           },
           "zaxis": {
            "backgroundcolor": "#E5ECF6",
            "gridcolor": "white",
            "gridwidth": 2,
            "linecolor": "white",
            "showbackground": true,
            "ticks": "",
            "zerolinecolor": "white"
           }
          },
          "shapedefaults": {
           "line": {
            "color": "#2a3f5f"
           }
          },
          "ternary": {
           "aaxis": {
            "gridcolor": "white",
            "linecolor": "white",
            "ticks": ""
           },
           "baxis": {
            "gridcolor": "white",
            "linecolor": "white",
            "ticks": ""
           },
           "bgcolor": "#E5ECF6",
           "caxis": {
            "gridcolor": "white",
            "linecolor": "white",
            "ticks": ""
           }
          },
          "title": {
           "x": 0.05
          },
          "xaxis": {
           "automargin": true,
           "gridcolor": "white",
           "linecolor": "white",
           "ticks": "",
           "title": {
            "standoff": 15
           },
           "zerolinecolor": "white",
           "zerolinewidth": 2
          },
          "yaxis": {
           "automargin": true,
           "gridcolor": "white",
           "linecolor": "white",
           "ticks": "",
           "title": {
            "standoff": 15
           },
           "zerolinecolor": "white",
           "zerolinewidth": 2
          }
         }
        },
        "title": {
         "text": "Top Words for EDM"
        },
        "xaxis": {
         "anchor": "y",
         "domain": [
          0,
          1
         ],
         "title": {
          "text": "Word"
         }
        },
        "yaxis": {
         "anchor": "x",
         "domain": [
          0,
          1
         ],
         "title": {
          "text": "Count"
         }
        }
       }
      }
     },
     "metadata": {},
     "output_type": "display_data"
    }
   ],
   "source": [
    "# Plot most common tokens\n",
    "lyrics_top50_plot = px.bar(\n",
    "    lyrics_top50_df,\n",
    "    y = 'Count',\n",
    "    color = \"Count\",\n",
    "    color_continuous_scale='earth',\n",
    "    title ='Top Words for EDM'\n",
    ")\n",
    "lyrics_top50_plot"
   ]
  },
  {
   "cell_type": "markdown",
   "id": "7d9668f0-d4ed-4bec-a4ef-f8ad4d67a658",
   "metadata": {},
   "source": [
    "# Word Clouds\n"
   ]
  },
  {
   "cell_type": "code",
   "execution_count": 213,
   "id": "533746de-1090-4f36-9f44-62b1b315d5ca",
   "metadata": {},
   "outputs": [
    {
     "data": {
      "text/plain": [
       "<wordcloud.wordcloud.WordCloud at 0x1c233e40430>"
      ]
     },
     "execution_count": 213,
     "metadata": {},
     "output_type": "execute_result"
    },
    {
     "data": {
      "image/png": "[encoded data removed]",
      "text/plain": [
       "<Figure size 1440x1440 with 1 Axes>"
      ]
     },
     "metadata": {
      "needs_background": "light"
     },
     "output_type": "display_data"
    }
   ],
   "source": [
    "# Generate the RnB lyrics word cloud\n",
    "lyrics_words_joined = ' '.join(lyrics_processed)\n",
    "\n",
    "mask = np.array(Image.open(\"Images/dj3.png\"))\n",
    "\n",
    "wccc = WordCloud(background_color=\"white\", max_words=2000, mask=mask, max_font_size=120, random_state=42, width=2000, height=1200, contour_color='black')\n",
    "\n",
    "# generate word cloud\n",
    "wccc.generate(lyrics_words_joined)\n",
    "\n",
    "# create coloring from image\n",
    "image_colors = ImageColorGenerator(mask)\n",
    "plt.figure(figsize=(20,20))\n",
    "plt.imshow(wccc.recolor(color_func=image_colors), interpolation=\"bilinear\")\n",
    "\n",
    "plt.axis(\"off\")\n",
    "plt.imshow(wccc)\n",
    "\n",
    "# Save image as png\n",
    "wccc.to_file(\"images/EDMwordcloud.png\")\n"
   ]
  },
  {
   "cell_type": "markdown",
   "id": "8bf53451-0423-42f7-9cd0-64cf92ac6ec6",
   "metadata": {},
   "source": [
    "# NER - Spacy\n",
    "In this section, we build a named entity recognition model for the hip hop lyrics, then visualize the tags using SpaCy."
   ]
  },
  {
   "cell_type": "code",
   "execution_count": 214,
   "id": "653ca1b5-9bec-456d-ad66-c695aebe377a",
   "metadata": {},
   "outputs": [],
   "source": [
    "# import spacy\n",
    "# from spacy import displacy\n",
    "# Load the spaCy model\n",
    "nlp = spacy.load('en_core_web_sm')"
   ]
  },
  {
   "cell_type": "code",
   "execution_count": 215,
   "id": "3ef62d5f-92a0-4761-a9d4-a9b812b4a9ec",
   "metadata": {},
   "outputs": [
    {
     "data": {
      "text/html": [
       "<span class=\"tex2jax_ignore\"><h2 style=\"margin: 0\">EDM NER</h2>\n",
       "\n",
       "<div class=\"entities\" style=\"line-height: 2.5; direction: ltr\">Oh Oh oh Oh-oh Oh, oh-oh  When you're tired, when you're lonely You can just reach out an arm Know I'll be there I'll help you weather the storm \n",
       "<mark class=\"entity\" style=\"background: #feca74; padding: 0.45em 0.6em; margin: 0 0.25em; line-height: 1; border-radius: 0.35em;\">\n",
       "    Us\n",
       "    <span style=\"font-size: 0.8em; font-weight: bold; line-height: 1; border-radius: 0.35em; vertical-align: middle; margin-left: 0.5rem\">GPE</span>\n",
       "</mark>\n",
       " together, nothing's ever felt more like home Know I'll be there You will never be alone  All I need is your love \n",
       "<mark class=\"entity\" style=\"background: #bfe1d9; padding: 0.45em 0.6em; margin: 0 0.25em; line-height: 1; border-radius: 0.35em;\">\n",
       "    tonight\n",
       "    <span style=\"font-size: 0.8em; font-weight: bold; line-height: 1; border-radius: 0.35em; vertical-align: middle; margin-left: 0.5rem\">TIME</span>\n",
       "</mark>\n",
       " All I need is your love \n",
       "<mark class=\"entity\" style=\"background: #bfe1d9; padding: 0.45em 0.6em; margin: 0 0.25em; line-height: 1; border-radius: 0.35em;\">\n",
       "    tonight\n",
       "    <span style=\"font-size: 0.8em; font-weight: bold; line-height: 1; border-radius: 0.35em; vertical-align: middle; margin-left: 0.5rem\">TIME</span>\n",
       "</mark>\n",
       " All I need is your love \n",
       "<mark class=\"entity\" style=\"background: #bfe1d9; padding: 0.45em 0.6em; margin: 0 0.25em; line-height: 1; border-radius: 0.35em;\">\n",
       "    tonight\n",
       "    <span style=\"font-size: 0.8em; font-weight: bold; line-height: 1; border-radius: 0.35em; vertical-align: middle; margin-left: 0.5rem\">TIME</span>\n",
       "</mark>\n",
       " (it's all I need) All I need is your love \n",
       "<mark class=\"entity\" style=\"background: #bfe1d9; padding: 0.45em 0.6em; margin: 0 0.25em; line-height: 1; border-radius: 0.35em;\">\n",
       "    tonight\n",
       "    <span style=\"font-size: 0.8em; font-weight: bold; line-height: 1; border-radius: 0.35em; vertical-align: middle; margin-left: 0.5rem\">TIME</span>\n",
       "</mark>\n",
       " (\n",
       "<mark class=\"entity\" style=\"background: #bfe1d9; padding: 0.45em 0.6em; margin: 0 0.25em; line-height: 1; border-radius: 0.35em;\">\n",
       "    tonight\n",
       "    <span style=\"font-size: 0.8em; font-weight: bold; line-height: 1; border-radius: 0.35em; vertical-align: middle; margin-left: 0.5rem\">TIME</span>\n",
       "</mark>\n",
       ", \n",
       "<mark class=\"entity\" style=\"background: #bfe1d9; padding: 0.45em 0.6em; margin: 0 0.25em; line-height: 1; border-radius: 0.35em;\">\n",
       "    tonight\n",
       "    <span style=\"font-size: 0.8em; font-weight: bold; line-height: 1; border-radius: 0.35em; vertical-align: middle; margin-left: 0.5rem\">TIME</span>\n",
       "</mark>\n",
       ", ooh)  Oh Oh oh Oh-oh Oh, oh-oh (love \n",
       "<mark class=\"entity\" style=\"background: #bfe1d9; padding: 0.45em 0.6em; margin: 0 0.25em; line-height: 1; border-radius: 0.35em;\">\n",
       "    tonight\n",
       "    <span style=\"font-size: 0.8em; font-weight: bold; line-height: 1; border-radius: 0.35em; vertical-align: middle; margin-left: 0.5rem\">TIME</span>\n",
       "</mark>\n",
       ")  In that moment, when you're feeling Like there's nothing at all Reach out to me Know that I'll answer the call \n",
       "<mark class=\"entity\" style=\"background: #feca74; padding: 0.45em 0.6em; margin: 0 0.25em; line-height: 1; border-radius: 0.35em;\">\n",
       "    Us\n",
       "    <span style=\"font-size: 0.8em; font-weight: bold; line-height: 1; border-radius: 0.35em; vertical-align: middle; margin-left: 0.5rem\">GPE</span>\n",
       "</mark>\n",
       " together, nothing's ever felt more like home Know I'll be there You will never be alone  All I need is your love \n",
       "<mark class=\"entity\" style=\"background: #bfe1d9; padding: 0.45em 0.6em; margin: 0 0.25em; line-height: 1; border-radius: 0.35em;\">\n",
       "    tonight\n",
       "    <span style=\"font-size: 0.8em; font-weight: bold; line-height: 1; border-radius: 0.35em; vertical-align: middle; margin-left: 0.5rem\">TIME</span>\n",
       "</mark>\n",
       " All I need is your love \n",
       "<mark class=\"entity\" style=\"background: #bfe1d9; padding: 0.45em 0.6em; margin: 0 0.25em; line-height: 1; border-radius: 0.35em;\">\n",
       "    tonight\n",
       "    <span style=\"font-size: 0.8em; font-weight: bold; line-height: 1; border-radius: 0.35em; vertical-align: middle; margin-left: 0.5rem\">TIME</span>\n",
       "</mark>\n",
       " All I need is your love \n",
       "<mark class=\"entity\" style=\"background: #bfe1d9; padding: 0.45em 0.6em; margin: 0 0.25em; line-height: 1; border-radius: 0.35em;\">\n",
       "    tonight\n",
       "    <span style=\"font-size: 0.8em; font-weight: bold; line-height: 1; border-radius: 0.35em; vertical-align: middle; margin-left: 0.5rem\">TIME</span>\n",
       "</mark>\n",
       " All I need is your love \n",
       "<mark class=\"entity\" style=\"background: #bfe1d9; padding: 0.45em 0.6em; margin: 0 0.25em; line-height: 1; border-radius: 0.35em;\">\n",
       "    tonight\n",
       "    <span style=\"font-size: 0.8em; font-weight: bold; line-height: 1; border-radius: 0.35em; vertical-align: middle; margin-left: 0.5rem\">TIME</span>\n",
       "</mark>\n",
       " All I need is your love \n",
       "<mark class=\"entity\" style=\"background: #bfe1d9; padding: 0.45em 0.6em; margin: 0 0.25em; line-height: 1; border-radius: 0.35em;\">\n",
       "    tonight\n",
       "    <span style=\"font-size: 0.8em; font-weight: bold; line-height: 1; border-radius: 0.35em; vertical-align: middle; margin-left: 0.5rem\">TIME</span>\n",
       "</mark>\n",
       " (oh, oh oh) All I need is your love \n",
       "<mark class=\"entity\" style=\"background: #bfe1d9; padding: 0.45em 0.6em; margin: 0 0.25em; line-height: 1; border-radius: 0.35em;\">\n",
       "    tonight\n",
       "    <span style=\"font-size: 0.8em; font-weight: bold; line-height: 1; border-radius: 0.35em; vertical-align: middle; margin-left: 0.5rem\">TIME</span>\n",
       "</mark>\n",
       " (oh-oh, oh oh-oh) All I need is your love \n",
       "<mark class=\"entity\" style=\"background: #bfe1d9; padding: 0.45em 0.6em; margin: 0 0.25em; line-height: 1; border-radius: 0.35em;\">\n",
       "    tonight\n",
       "    <span style=\"font-size: 0.8em; font-weight: bold; line-height: 1; border-radius: 0.35em; vertical-align: middle; margin-left: 0.5rem\">TIME</span>\n",
       "</mark>\n",
       " (oh, oh oh) All I need is your love \n",
       "<mark class=\"entity\" style=\"background: #bfe1d9; padding: 0.45em 0.6em; margin: 0 0.25em; line-height: 1; border-radius: 0.35em;\">\n",
       "    tonight\n",
       "    <span style=\"font-size: 0.8em; font-weight: bold; line-height: 1; border-radius: 0.35em; vertical-align: middle; margin-left: 0.5rem\">TIME</span>\n",
       "</mark>\n",
       " (oh-oh, oh oh-oh)  He, he-he-hey, \n",
       "<mark class=\"entity\" style=\"background: #bfe1d9; padding: 0.45em 0.6em; margin: 0 0.25em; line-height: 1; border-radius: 0.35em;\">\n",
       "    tonight\n",
       "    <span style=\"font-size: 0.8em; font-weight: bold; line-height: 1; border-radius: 0.35em; vertical-align: middle; margin-left: 0.5rem\">TIME</span>\n",
       "</mark>\n",
       " \n",
       "<mark class=\"entity\" style=\"background: #bfe1d9; padding: 0.45em 0.6em; margin: 0 0.25em; line-height: 1; border-radius: 0.35em;\">\n",
       "    Tonight\n",
       "    <span style=\"font-size: 0.8em; font-weight: bold; line-height: 1; border-radius: 0.35em; vertical-align: middle; margin-left: 0.5rem\">TIME</span>\n",
       "</mark>\n",
       ", yeah Oh Oh oh Oh-oh Oh, oh-oh Oh Oh oh Oh-oh Oh, oh-oh  All I need is your love \n",
       "<mark class=\"entity\" style=\"background: #bfe1d9; padding: 0.45em 0.6em; margin: 0 0.25em; line-height: 1; border-radius: 0.35em;\">\n",
       "    tonight\n",
       "    <span style=\"font-size: 0.8em; font-weight: bold; line-height: 1; border-radius: 0.35em; vertical-align: middle; margin-left: 0.5rem\">TIME</span>\n",
       "</mark>\n",
       " (all I need is your love, all I need is your love) All I need is your love \n",
       "<mark class=\"entity\" style=\"background: #bfe1d9; padding: 0.45em 0.6em; margin: 0 0.25em; line-height: 1; border-radius: 0.35em;\">\n",
       "    tonight\n",
       "    <span style=\"font-size: 0.8em; font-weight: bold; line-height: 1; border-radius: 0.35em; vertical-align: middle; margin-left: 0.5rem\">TIME</span>\n",
       "</mark>\n",
       " (all I need is your love, all I need is your love) All I need is your love \n",
       "<mark class=\"entity\" style=\"background: #bfe1d9; padding: 0.45em 0.6em; margin: 0 0.25em; line-height: 1; border-radius: 0.35em;\">\n",
       "    tonight\n",
       "    <span style=\"font-size: 0.8em; font-weight: bold; line-height: 1; border-radius: 0.35em; vertical-align: middle; margin-left: 0.5rem\">TIME</span>\n",
       "</mark>\n",
       " All I need is your love \n",
       "<mark class=\"entity\" style=\"background: #bfe1d9; padding: 0.45em 0.6em; margin: 0 0.25em; line-height: 1; border-radius: 0.35em;\">\n",
       "    tonight\n",
       "    <span style=\"font-size: 0.8em; font-weight: bold; line-height: 1; border-radius: 0.35em; vertical-align: middle; margin-left: 0.5rem\">TIME</span>\n",
       "</mark>\n",
       " (\n",
       "<mark class=\"entity\" style=\"background: #bfe1d9; padding: 0.45em 0.6em; margin: 0 0.25em; line-height: 1; border-radius: 0.35em;\">\n",
       "    tonight\n",
       "    <span style=\"font-size: 0.8em; font-weight: bold; line-height: 1; border-radius: 0.35em; vertical-align: middle; margin-left: 0.5rem\">TIME</span>\n",
       "</mark>\n",
       ") All I need is your love \n",
       "<mark class=\"entity\" style=\"background: #bfe1d9; padding: 0.45em 0.6em; margin: 0 0.25em; line-height: 1; border-radius: 0.35em;\">\n",
       "    tonight\n",
       "    <span style=\"font-size: 0.8em; font-weight: bold; line-height: 1; border-radius: 0.35em; vertical-align: middle; margin-left: 0.5rem\">TIME</span>\n",
       "</mark>\n",
       " (\n",
       "<mark class=\"entity\" style=\"background: #7aecec; padding: 0.45em 0.6em; margin: 0 0.25em; line-height: 1; border-radius: 0.35em;\">\n",
       "    hoo-hoo\n",
       "    <span style=\"font-size: 0.8em; font-weight: bold; line-height: 1; border-radius: 0.35em; vertical-align: middle; margin-left: 0.5rem\">ORG</span>\n",
       "</mark>\n",
       ", \n",
       "<mark class=\"entity\" style=\"background: #aa9cfc; padding: 0.45em 0.6em; margin: 0 0.25em; line-height: 1; border-radius: 0.35em;\">\n",
       "    ho\n",
       "    <span style=\"font-size: 0.8em; font-weight: bold; line-height: 1; border-radius: 0.35em; vertical-align: middle; margin-left: 0.5rem\">PERSON</span>\n",
       "</mark>\n",
       ") All I need is your love \n",
       "<mark class=\"entity\" style=\"background: #bfe1d9; padding: 0.45em 0.6em; margin: 0 0.25em; line-height: 1; border-radius: 0.35em;\">\n",
       "    tonight\n",
       "    <span style=\"font-size: 0.8em; font-weight: bold; line-height: 1; border-radius: 0.35em; vertical-align: middle; margin-left: 0.5rem\">TIME</span>\n",
       "</mark>\n",
       " (all I need, all I need) All I need is your love \n",
       "<mark class=\"entity\" style=\"background: #bfe1d9; padding: 0.45em 0.6em; margin: 0 0.25em; line-height: 1; border-radius: 0.35em;\">\n",
       "    tonight\n",
       "    <span style=\"font-size: 0.8em; font-weight: bold; line-height: 1; border-radius: 0.35em; vertical-align: middle; margin-left: 0.5rem\">TIME</span>\n",
       "</mark>\n",
       " (all I need, all I need) (han-yeah, han-yeah) All I need is your love \n",
       "<mark class=\"entity\" style=\"background: #bfe1d9; padding: 0.45em 0.6em; margin: 0 0.25em; line-height: 1; border-radius: 0.35em;\">\n",
       "    tonight\n",
       "    <span style=\"font-size: 0.8em; font-weight: bold; line-height: 1; border-radius: 0.35em; vertical-align: middle; margin-left: 0.5rem\">TIME</span>\n",
       "</mark>\n",
       " (to-night) All I need is your love \n",
       "<mark class=\"entity\" style=\"background: #bfe1d9; padding: 0.45em 0.6em; margin: 0 0.25em; line-height: 1; border-radius: 0.35em;\">\n",
       "    tonight\n",
       "    <span style=\"font-size: 0.8em; font-weight: bold; line-height: 1; border-radius: 0.35em; vertical-align: middle; margin-left: 0.5rem\">TIME</span>\n",
       "</mark>\n",
       " All I need is your love \n",
       "<mark class=\"entity\" style=\"background: #bfe1d9; padding: 0.45em 0.6em; margin: 0 0.25em; line-height: 1; border-radius: 0.35em;\">\n",
       "    tonight\n",
       "    <span style=\"font-size: 0.8em; font-weight: bold; line-height: 1; border-radius: 0.35em; vertical-align: middle; margin-left: 0.5rem\">TIME</span>\n",
       "</mark>\n",
       " All I need is your love \n",
       "<mark class=\"entity\" style=\"background: #bfe1d9; padding: 0.45em 0.6em; margin: 0 0.25em; line-height: 1; border-radius: 0.35em;\">\n",
       "    tonight\n",
       "    <span style=\"font-size: 0.8em; font-weight: bold; line-height: 1; border-radius: 0.35em; vertical-align: middle; margin-left: 0.5rem\">TIME</span>\n",
       "</mark>\n",
       " All I need is your love \n",
       "<mark class=\"entity\" style=\"background: #bfe1d9; padding: 0.45em 0.6em; margin: 0 0.25em; line-height: 1; border-radius: 0.35em;\">\n",
       "    tonight\n",
       "    <span style=\"font-size: 0.8em; font-weight: bold; line-height: 1; border-radius: 0.35em; vertical-align: middle; margin-left: 0.5rem\">TIME</span>\n",
       "</mark>\n",
       " I wanna fuck you slow with the lights on (Lights on, lights on, lights on) You're the only one I got my sights on (\n",
       "<mark class=\"entity\" style=\"background: #ff8197; padding: 0.45em 0.6em; margin: 0 0.25em; line-height: 1; border-radius: 0.35em;\">\n",
       "    Sights\n",
       "    <span style=\"font-size: 0.8em; font-weight: bold; line-height: 1; border-radius: 0.35em; vertical-align: middle; margin-left: 0.5rem\">LAW</span>\n",
       "</mark>\n",
       " on, sights on, sights on) Type of sex you could never put a price on (Price on, price on, price on) I'll take it off, you're the one I'll roll the dice on (\n",
       "<mark class=\"entity\" style=\"background: #7aecec; padding: 0.45em 0.6em; margin: 0 0.25em; line-height: 1; border-radius: 0.35em;\">\n",
       "    Dice\n",
       "    <span style=\"font-size: 0.8em; font-weight: bold; line-height: 1; border-radius: 0.35em; vertical-align: middle; margin-left: 0.5rem\">ORG</span>\n",
       "</mark>\n",
       " on, dice on, dice on) And I just want a baby with the right one (I just want a baby with the right) 'Cause I could never be the one to hide one (I could never be the one to hide)  And we lost a lot of things in the fire So it took a year for me to find out (Find out, find out)  I can't lose you, babe (I can't lose you) I can't lose you, babe (I can't lose you, babe) I can't lose you, babe (I can't lose you, babe) Oh-oh (oh-oh) I can't lose you, babe (I can't lose you) I can't lose you, babe (I can't lose you, babe) I can't lose you, babe Oh-oh (yeah)  I'm tired of being home alone (home alone) Used to have a girl a day (girl a day) But I want you to stay (I want you to stay, hey) You said you might be into girls (into girls) You said you're going through a phase (through a phase) Keeping your heart safe (keeping your heart safe, oh) Well, baby, you can bring a friend (bring a friend) She can ride on top your face (top your face) While I fuck you straight (While I fuck you straight, yeah)  And we lost a lot of things in the fire (fire) So it took a year for me to find out (Find out, find out)  I can't lose you, babe (I can't lose you) I can't lose you, babe (I can't lose you, babe) I can't lose you, babe (I can't lose you, babe) Oh-oh (oh-oh, oh-oh) I can't lose you, babe (I can't lose you) I can't lose you, babe (I can't lose you, babe) I can't lose you, babe (I can't lose you, babe) Oh-oh (woah)  I'm tired of being home alone Used to have a girl a day (girl a day) But I want you to stay (I want you to stay, hey)  I can't lose you, babe (I can't lose you) I can't lose you, babe (I can't lose you, babe) I can't lose you, babe (I can't lose you, babe) Oh-oh (oh-oh, oh-oh, oh-oh, oh-oh) Ooh, ooh-ooh-ooh (oh-oh, oh-oh, oh-oh) I can't lose you, babe (I can't lose you) I can't lose you, babe (I can't lose you, babe) I can't lose you, babe (I can't lose you, babe) Oh-oh (oh-oh, oh-oh, oh-oh, oh-oh) So seductive, let's go  I'll take you to the candy shop I'll let you lick the lollipop Go ahead, girl, don't you stop Keep goin' until you hit the spot, whoa I'll take you to the candy shop I'll let you lick the lollipop Go ahead, girl, don't you stop Keep goin' until you hit the spot, whoa  I'll take you to the candy shop I'll let you lick the lollipop Go ahead, girl, don't you stop Keep goin' until you hit the spot, whoa I'll take you to the candy shop I'll let you lick the lollipop Go ahead, girl, don't you stop Keep goin' until you hit the spot, whoa  Move your body  Girl, what we do (Girl, what we do) And where we do (And where we do) The things we do (The things we do) Are just between me and you, yeah (Oh yeah)  Girl, what we do (Girl, what we do) And where we do (And where we do) The things we do (The things we do) Are just between me and you, yeah (Oh yeah)  You could have it your way, how do you want it? You gon' back that thing up or should I push up on it? Temperature risin', okay, let's go to the next level Dance floor jam-packed, hot as a tea kettle I'll break it down for you now, baby, it's simple If you be a nympho, I be a nympho In the hotel or in the back of the rental On the beach or in the park, it's whatever you into Got the magic stick, I'm the love doctor Have your friends teasin' you 'bout how sprung I got you \n",
       "<mark class=\"entity\" style=\"background: #aa9cfc; padding: 0.45em 0.6em; margin: 0 0.25em; line-height: 1; border-radius: 0.35em;\">\n",
       "    Wanna\n",
       "    <span style=\"font-size: 0.8em; font-weight: bold; line-height: 1; border-radius: 0.35em; vertical-align: middle; margin-left: 0.5rem\">PERSON</span>\n",
       "</mark>\n",
       " show me you could work it, baby? No problem Get on top, then get to bounce around like a low rider I'm a seasoned vet when it come to this shit After you work up a sweat, you could play with the stick I'm tryin' to explain, baby, the best way I can I'll melt in your mouth, girl, not in your hand  I'll take you to the candy shop I'll let you lick the lollipop Go ahead, girl, don't you stop Keep goin' until you hit the spot, whoa I'll take you to the candy shop I'll let you lick the lollipop Go ahead, girl, don't you stop Keep goin' until you hit the spot, whoa  I'll take you to the candy shop I'll let you lick the lollipop Go ahead, girl, don't you stop Keep goin' until you hit the spot, whoa I'll take you to the candy shop I'll let you lick the lollipop Go ahead, girl, don't you stop Keep goin' until you hit the spot, whoa Open the door, just take me down, I wanna step into a dream Lift off the ground, once in the air, I'm floating up into the beat I see the sound, it's all around, it changed the ground under my feet It's red and blue, it's every hue, I think it's true, I need a drink  Music, feel it, lipstick, kiss it Music, feel it, lipstick, kiss it  Ooh, I see a lipstick I wanna, ooh, I wanna kiss it I see a, ooh, I see a lipstick I wanna, ooh, I wanna kiss it I see a, ooh, ooh  I see the sound, it's all around, it changed the ground under my feet It's red and blue, it's every hue, I think it's true, I need a drink  Music, no one forever Feel it, dancing together \n",
       "<mark class=\"entity\" style=\"background: #feca74; padding: 0.45em 0.6em; margin: 0 0.25em; line-height: 1; border-radius: 0.35em;\">\n",
       "    Lipstick\n",
       "    <span style=\"font-size: 0.8em; font-weight: bold; line-height: 1; border-radius: 0.35em; vertical-align: middle; margin-left: 0.5rem\">GPE</span>\n",
       "</mark>\n",
       ", no one forever \n",
       "<mark class=\"entity\" style=\"background: #feca74; padding: 0.45em 0.6em; margin: 0 0.25em; line-height: 1; border-radius: 0.35em;\">\n",
       "    Kiss\n",
       "    <span style=\"font-size: 0.8em; font-weight: bold; line-height: 1; border-radius: 0.35em; vertical-align: middle; margin-left: 0.5rem\">GPE</span>\n",
       "</mark>\n",
       " it, dancing together \n",
       "<mark class=\"entity\" style=\"background: #feca74; padding: 0.45em 0.6em; margin: 0 0.25em; line-height: 1; border-radius: 0.35em;\">\n",
       "    Music\n",
       "    <span style=\"font-size: 0.8em; font-weight: bold; line-height: 1; border-radius: 0.35em; vertical-align: middle; margin-left: 0.5rem\">GPE</span>\n",
       "</mark>\n",
       ", no one forever Feel it, dancing together \n",
       "<mark class=\"entity\" style=\"background: #feca74; padding: 0.45em 0.6em; margin: 0 0.25em; line-height: 1; border-radius: 0.35em;\">\n",
       "    Lipstick\n",
       "    <span style=\"font-size: 0.8em; font-weight: bold; line-height: 1; border-radius: 0.35em; vertical-align: middle; margin-left: 0.5rem\">GPE</span>\n",
       "</mark>\n",
       ", no one forever Kiss it  Ooh, I see a lipstick I wanna, ooh, I wanna kiss it I see a, ooh, I see a lipstick I wanna, ooh, I wanna kiss it I see a, ooh, ooh  No one forever \n",
       "<mark class=\"entity\" style=\"background: #feca74; padding: 0.45em 0.6em; margin: 0 0.25em; line-height: 1; border-radius: 0.35em;\">\n",
       "    Dancing\n",
       "    <span style=\"font-size: 0.8em; font-weight: bold; line-height: 1; border-radius: 0.35em; vertical-align: middle; margin-left: 0.5rem\">GPE</span>\n",
       "</mark>\n",
       " together No one forever Dancing together  Music, no one forever Feel it, dancing together \n",
       "<mark class=\"entity\" style=\"background: #feca74; padding: 0.45em 0.6em; margin: 0 0.25em; line-height: 1; border-radius: 0.35em;\">\n",
       "    Lipstick\n",
       "    <span style=\"font-size: 0.8em; font-weight: bold; line-height: 1; border-radius: 0.35em; vertical-align: middle; margin-left: 0.5rem\">GPE</span>\n",
       "</mark>\n",
       ", no one forever \n",
       "<mark class=\"entity\" style=\"background: #feca74; padding: 0.45em 0.6em; margin: 0 0.25em; line-height: 1; border-radius: 0.35em;\">\n",
       "    Kiss\n",
       "    <span style=\"font-size: 0.8em; font-weight: bold; line-height: 1; border-radius: 0.35em; vertical-align: middle; margin-left: 0.5rem\">GPE</span>\n",
       "</mark>\n",
       " it, dancing together \n",
       "<mark class=\"entity\" style=\"background: #feca74; padding: 0.45em 0.6em; margin: 0 0.25em; line-height: 1; border-radius: 0.35em;\">\n",
       "    Music\n",
       "    <span style=\"font-size: 0.8em; font-weight: bold; line-height: 1; border-radius: 0.35em; vertical-align: middle; margin-left: 0.5rem\">GPE</span>\n",
       "</mark>\n",
       ", no one forever Feel it, dancing together \n",
       "<mark class=\"entity\" style=\"background: #feca74; padding: 0.45em 0.6em; margin: 0 0.25em; line-height: 1; border-radius: 0.35em;\">\n",
       "    Lipstick\n",
       "    <span style=\"font-size: 0.8em; font-weight: bold; line-height: 1; border-radius: 0.35em; vertical-align: middle; margin-left: 0.5rem\">GPE</span>\n",
       "</mark>\n",
       ", no one forever Kiss it  Ooh, I see a lipstick I wanna, ooh, I wanna kiss it I see a, ooh, I see a lipstick I wanna, ooh, I wanna kiss it I see a, ooh, ooh Ooh I see you, you see me How pleasant, this feeling The moment you hold me I missed you, I'm sorry I've given what I have I've showed you I'm growing The ashes fall slowly As your voice consoles me  As the hours pass I will let you know That I need to ask Before I'm alone How it feels to rest On your patient lips To eternal bliss I'm so glad to know  As the hours pass I will let you know That I need to ask Before I'm alone How it feels to rest On your patient lips To eternal bliss I'm so glad to know  We're swaying to drum beats In motion, I'm feeling My patience controlling The question I won't speak We're telling the stories Our laughter, he knows me We're leaving, we're talking You're closer, it's calming  As the hours pass I will let you know That I need to ask Before I'm alone How it feels to rest On your patient lips To eternal bliss I'm so glad to know  As the hours pass I will let you know That I need to ask Before I'm alone How it feels to rest On your patient lips To eternal bliss I'm so glad to know  The night will hold us close and the stars will guide us home I've been waiting for this moment, we're finally alone I turn to ask the question, so anxious, my thoughts Your lips were soft like \n",
       "<mark class=\"entity\" style=\"background: #bfe1d9; padding: 0.45em 0.6em; margin: 0 0.25em; line-height: 1; border-radius: 0.35em;\">\n",
       "    winter\n",
       "    <span style=\"font-size: 0.8em; font-weight: bold; line-height: 1; border-radius: 0.35em; vertical-align: middle; margin-left: 0.5rem\">DATE</span>\n",
       "</mark>\n",
       ", in your passion, I was lost  As the hours pass I will let you know That I need to ask Before I'm alone How it feels to rest On your patient lips To eternal bliss I'm so glad to know  As the hours pass I will let you know That I need to ask Before I'm alone How it feels to rest On your patient lips To eternal bliss I'm so glad to know  As the hours pass I will let you know That I need to ask Before I'm alone How it feels to rest On your patient lips To eternal bliss I'm so glad to know  As the hours pass I will let you know That I need to ask Before I'm alone How it feels to rest On your patient lips To eternal bliss I'm so glad to know Music (we can do it) We're only human (I can feel it) Music (got me heated) Yeah, let's repeat it (Can you feel it?)  If you wanna ride, come ride with me Take me by the hand, feel the chemistry Losing track of time in the ecstasy It's getting out of hand, it's just you and me  But we are never going home (oh-woah, oh-woah) Let's go dancin' 'til the morning (oh-woah, oh-woah) And we are never going home (oh-woah, oh-woah) Let's go dancin' 'til the morning  \n",
       "<mark class=\"entity\" style=\"background: #f0d0ff; padding: 0.45em 0.6em; margin: 0 0.25em; line-height: 1; border-radius: 0.35em;\">\n",
       "    Music\n",
       "    <span style=\"font-size: 0.8em; font-weight: bold; line-height: 1; border-radius: 0.35em; vertical-align: middle; margin-left: 0.5rem\">WORK_OF_ART</span>\n",
       "</mark>\n",
       " (we can do it) We're only human (I can feel it) Music (got me heated) Yeah, let's repeat it (Can you feel it?)  If you wanna fly, come fly with me We'll go anywhere that you wanna be If you're feeling down, here's the remedy Losing track of time, it's just you and me  And we are never going home (oh-woah, oh-woah) Let's go dancin' 'til the morning (oh-woah, oh-woah) And we are never going home (oh-woah, oh-woah) Let's go dancin' 'til the \n",
       "<mark class=\"entity\" style=\"background: #bfe1d9; padding: 0.45em 0.6em; margin: 0 0.25em; line-height: 1; border-radius: 0.35em;\">\n",
       "    morning\n",
       "    <span style=\"font-size: 0.8em; font-weight: bold; line-height: 1; border-radius: 0.35em; vertical-align: middle; margin-left: 0.5rem\">TIME</span>\n",
       "</mark>\n",
       "  Music and we can do this Music (never going, never going, never going, never going) I know we hear it (never going, never going, never going) We can do it, oh, I can feel it We can do it, oh, I can feel it  And we are never going home (oh-woah, oh-woah) Let's go dancin' 'til the morning (oh-woah, oh-woah) And we are never going home (oh-woah, oh-woah) Let's go dancin' 'til the \n",
       "<mark class=\"entity\" style=\"background: #bfe1d9; padding: 0.45em 0.6em; margin: 0 0.25em; line-height: 1; border-radius: 0.35em;\">\n",
       "    morning\n",
       "    <span style=\"font-size: 0.8em; font-weight: bold; line-height: 1; border-radius: 0.35em; vertical-align: middle; margin-left: 0.5rem\">TIME</span>\n",
       "</mark>\n",
       "  Oh-woah, oh-woah Oh-woah, oh-woah Oh-woah, oh-woah \n",
       "<mark class=\"entity\" style=\"background: #aa9cfc; padding: 0.45em 0.6em; margin: 0 0.25em; line-height: 1; border-radius: 0.35em;\">\n",
       "    Mm\n",
       "    <span style=\"font-size: 0.8em; font-weight: bold; line-height: 1; border-radius: 0.35em; vertical-align: middle; margin-left: 0.5rem\">PERSON</span>\n",
       "</mark>\n",
       ", hmm  I want you to hold on, I want you to stay \n",
       "<mark class=\"entity\" style=\"background: #e4e7d2; padding: 0.45em 0.6em; margin: 0 0.25em; line-height: 1; border-radius: 0.35em;\">\n",
       "    A million\n",
       "    <span style=\"font-size: 0.8em; font-weight: bold; line-height: 1; border-radius: 0.35em; vertical-align: middle; margin-left: 0.5rem\">CARDINAL</span>\n",
       "</mark>\n",
       " words I don't know how to say I'm lookin' for shelter in my house of cards Oh, I'm lettin' down my guard  I'm countin' \n",
       "<mark class=\"entity\" style=\"background: #e4e7d2; padding: 0.45em 0.6em; margin: 0 0.25em; line-height: 1; border-radius: 0.35em;\">\n",
       "    one\n",
       "    <span style=\"font-size: 0.8em; font-weight: bold; line-height: 1; border-radius: 0.35em; vertical-align: middle; margin-left: 0.5rem\">CARDINAL</span>\n",
       "</mark>\n",
       ", \n",
       "<mark class=\"entity\" style=\"background: #e4e7d2; padding: 0.45em 0.6em; margin: 0 0.25em; line-height: 1; border-radius: 0.35em;\">\n",
       "    two\n",
       "    <span style=\"font-size: 0.8em; font-weight: bold; line-height: 1; border-radius: 0.35em; vertical-align: middle; margin-left: 0.5rem\">CARDINAL</span>\n",
       "</mark>\n",
       ", \n",
       "<mark class=\"entity\" style=\"background: #e4e7d2; padding: 0.45em 0.6em; margin: 0 0.25em; line-height: 1; border-radius: 0.35em;\">\n",
       "    three\n",
       "    <span style=\"font-size: 0.8em; font-weight: bold; line-height: 1; border-radius: 0.35em; vertical-align: middle; margin-left: 0.5rem\">CARDINAL</span>\n",
       "</mark>\n",
       ", \n",
       "<mark class=\"entity\" style=\"background: #e4e7d2; padding: 0.45em 0.6em; margin: 0 0.25em; line-height: 1; border-radius: 0.35em;\">\n",
       "    four\n",
       "    <span style=\"font-size: 0.8em; font-weight: bold; line-height: 1; border-radius: 0.35em; vertical-align: middle; margin-left: 0.5rem\">CARDINAL</span>\n",
       "</mark>\n",
       ", \n",
       "<mark class=\"entity\" style=\"background: #e4e7d2; padding: 0.45em 0.6em; margin: 0 0.25em; line-height: 1; border-radius: 0.35em;\">\n",
       "    five\n",
       "    <span style=\"font-size: 0.8em; font-weight: bold; line-height: 1; border-radius: 0.35em; vertical-align: middle; margin-left: 0.5rem\">CARDINAL</span>\n",
       "</mark>\n",
       " Hope we gonna be alright Don't know where our feelings hide Someone, please just shine a light  You're spinning through my mind like a hurricane Calling out your name in the heavy rain Blowing through my mind like the hurricane I'm losin' my faith in a heavy rain  Blowing through my mind like the hurricane  Won't beg you to call back 'cause there's no rewind I'm askin' myself, will our stars re-align You said I should move on and keep out the ghosts Get out of this danger zone  I'm counting \n",
       "<mark class=\"entity\" style=\"background: #e4e7d2; padding: 0.45em 0.6em; margin: 0 0.25em; line-height: 1; border-radius: 0.35em;\">\n",
       "    one\n",
       "    <span style=\"font-size: 0.8em; font-weight: bold; line-height: 1; border-radius: 0.35em; vertical-align: middle; margin-left: 0.5rem\">CARDINAL</span>\n",
       "</mark>\n",
       ", \n",
       "<mark class=\"entity\" style=\"background: #e4e7d2; padding: 0.45em 0.6em; margin: 0 0.25em; line-height: 1; border-radius: 0.35em;\">\n",
       "    two\n",
       "    <span style=\"font-size: 0.8em; font-weight: bold; line-height: 1; border-radius: 0.35em; vertical-align: middle; margin-left: 0.5rem\">CARDINAL</span>\n",
       "</mark>\n",
       ", \n",
       "<mark class=\"entity\" style=\"background: #e4e7d2; padding: 0.45em 0.6em; margin: 0 0.25em; line-height: 1; border-radius: 0.35em;\">\n",
       "    three\n",
       "    <span style=\"font-size: 0.8em; font-weight: bold; line-height: 1; border-radius: 0.35em; vertical-align: middle; margin-left: 0.5rem\">CARDINAL</span>\n",
       "</mark>\n",
       ", \n",
       "<mark class=\"entity\" style=\"background: #e4e7d2; padding: 0.45em 0.6em; margin: 0 0.25em; line-height: 1; border-radius: 0.35em;\">\n",
       "    four\n",
       "    <span style=\"font-size: 0.8em; font-weight: bold; line-height: 1; border-radius: 0.35em; vertical-align: middle; margin-left: 0.5rem\">CARDINAL</span>\n",
       "</mark>\n",
       ", \n",
       "<mark class=\"entity\" style=\"background: #e4e7d2; padding: 0.45em 0.6em; margin: 0 0.25em; line-height: 1; border-radius: 0.35em;\">\n",
       "    five\n",
       "    <span style=\"font-size: 0.8em; font-weight: bold; line-height: 1; border-radius: 0.35em; vertical-align: middle; margin-left: 0.5rem\">CARDINAL</span>\n",
       "</mark>\n",
       " Hope we gonna be alright (be alright, be alright) Don't know where our feelings hide Someone, please just shine a light  You're spinning through my mind like a hurricane Calling out your name in the heavy rain Blowing through my mind like the hurricane I'm losin' my faith in the heavy rain  You're blowing through my mind like the hurricane  Blowing through my mind like the hurricane Ooh, ooh, oh Blowing through my mind like the hurricane Blowing through my mind like the hurricane We've lost dancing (lost dancing) \n",
       "<mark class=\"entity\" style=\"background: #bfe1d9; padding: 0.45em 0.6em; margin: 0 0.25em; line-height: 1; border-radius: 0.35em;\">\n",
       "    This year\n",
       "    <span style=\"font-size: 0.8em; font-weight: bold; line-height: 1; border-radius: 0.35em; vertical-align: middle; margin-left: 0.5rem\">DATE</span>\n",
       "</mark>\n",
       " we've had to lose Our space, we've lost We've lost dancing  All these things that We took for granted (We-we-we-we-we've lost dancing)  (We-we-we-we-we've lost dancing)  \n",
       "<mark class=\"entity\" style=\"background: #bfe1d9; padding: 0.45em 0.6em; margin: 0 0.25em; line-height: 1; border-radius: 0.35em;\">\n",
       "    This year\n",
       "    <span style=\"font-size: 0.8em; font-weight: bold; line-height: 1; border-radius: 0.35em; vertical-align: middle; margin-left: 0.5rem\">DATE</span>\n",
       "</mark>\n",
       " we've had to lose Our space, we've lost dancing  We've lost The hugs with friends and- And people that we loved All thеse things that we took for granted (wе've lost dancing)  (We've lost dancing, we've lost dancing) If I can live through (we've lost dancing) \n",
       "<mark class=\"entity\" style=\"background: #bfe1d9; padding: 0.45em 0.6em; margin: 0 0.25em; line-height: 1; border-radius: 0.35em;\">\n",
       "    this next six months\n",
       "    <span style=\"font-size: 0.8em; font-weight: bold; line-height: 1; border-radius: 0.35em; vertical-align: middle; margin-left: 0.5rem\">DATE</span>\n",
       "</mark>\n",
       " (we've lost dancing) Day by day (we've lost dancing) If I can live through this (we've lost dancing) What comes next Will be Marvellous  (We've lost dancing)  We gon' make it through, through  Yeah, ooh  We've-dancing-lost, lost-dancing We've lost dancing, dancing, dancing, lost, lost dancing Lost, lost dancing We've lost dancing, dancing, dancing, lost, lost dancing Lost, lost dancing We've lost dancing, dancing, dancing, lost, lost dancing  We gon' make it through  Dancing, lost, lost, lost da-da-dancing \n",
       "<mark class=\"entity\" style=\"background: #feca74; padding: 0.45em 0.6em; margin: 0 0.25em; line-height: 1; border-radius: 0.35em;\">\n",
       "    Dancing\n",
       "    <span style=\"font-size: 0.8em; font-weight: bold; line-height: 1; border-radius: 0.35em; vertical-align: middle; margin-left: 0.5rem\">GPE</span>\n",
       "</mark>\n",
       ", lost, lost, lost da-da-dancing \n",
       "<mark class=\"entity\" style=\"background: #feca74; padding: 0.45em 0.6em; margin: 0 0.25em; line-height: 1; border-radius: 0.35em;\">\n",
       "    Dancing\n",
       "    <span style=\"font-size: 0.8em; font-weight: bold; line-height: 1; border-radius: 0.35em; vertical-align: middle; margin-left: 0.5rem\">GPE</span>\n",
       "</mark>\n",
       ", lost, lost, lost da-da-dancing \n",
       "<mark class=\"entity\" style=\"background: #feca74; padding: 0.45em 0.6em; margin: 0 0.25em; line-height: 1; border-radius: 0.35em;\">\n",
       "    Dancing\n",
       "    <span style=\"font-size: 0.8em; font-weight: bold; line-height: 1; border-radius: 0.35em; vertical-align: middle; margin-left: 0.5rem\">GPE</span>\n",
       "</mark>\n",
       ", lost, lost, lost da-da-dancing \n",
       "<mark class=\"entity\" style=\"background: #feca74; padding: 0.45em 0.6em; margin: 0 0.25em; line-height: 1; border-radius: 0.35em;\">\n",
       "    Dancing\n",
       "    <span style=\"font-size: 0.8em; font-weight: bold; line-height: 1; border-radius: 0.35em; vertical-align: middle; margin-left: 0.5rem\">GPE</span>\n",
       "</mark>\n",
       ", lost, lost, lost da-da-dancing We gon' make it through  What comes next Will be \n",
       "<mark class=\"entity\" style=\"background: #aa9cfc; padding: 0.45em 0.6em; margin: 0 0.25em; line-height: 1; border-radius: 0.35em;\">\n",
       "    Marvellous Waiting\n",
       "    <span style=\"font-size: 0.8em; font-weight: bold; line-height: 1; border-radius: 0.35em; vertical-align: middle; margin-left: 0.5rem\">PERSON</span>\n",
       "</mark>\n",
       " in a car Waiting for a ride in the dark The night city grows Look at the horizon glow  Waiting in a car Waiting for a ride in the dark Drinking in the lounge Following the neon signs  Waiting for a word Looking at the milky skyline The city is my church (city is my church) It wraps me in its blinding twilight  Waiting in a car Waiting for the right time Waiting in a car Waiting for the right time  Waiting in a car Waiting for the right time Waiting in a car Waiting for the right time  Waiting in a car Waiting for the right time Money rains from the sky above But keep the change 'cause I've got enough A little time and some tenderness You'll never buy my love  No other thing that's as precious to No other, there's no other Than a heart that feels and a heart that's true Something that you got to know, this girl  Woah! Take my hand Or them over Take my hand, you Or-or them over Take my hand, you Or them over Take my hand Or them over  These presents don't really come for free Your pay cheques don't mean that much to me Just take my hand and hold me tight You'll never buy my love  You buy me this and you buy me that To win over, win me over You got me wrong and that's a fact Something that you've got to know, this  Will you realize when I'm gone That I dance to a different song Will you realize when I'm gone That I dance to a different song It's a shame but I've got to go  Woah! Take my hand Or them over Take my hand, you Or-or them over Take my hand, you Or them over Take my hand Or them over Unless you understand it And find out what to do Don't think about it I'll be running with you  If I can't understand it I'll find another way Keep moving, keep moving  Keep moving, keep moving  Keep moving, keep moving  Bad Avenue If you coming like that, then it's about time you know In a new house, in a new place If you change Keep moving, keep moving  I can hear the alarm I won't take it much longer (keep moving, keep moving) Are you breaking my heart? Thanks for making me stronger (keep moving)  Someone's got to find the truth If you change When you livin' like that, you can spend the right time, you know (oh-oh, oh-oh)  In a new house In the \n",
       "<mark class=\"entity\" style=\"background: #feca74; padding: 0.45em 0.6em; margin: 0 0.25em; line-height: 1; border-radius: 0.35em;\">\n",
       "    UK\n",
       "    <span style=\"font-size: 0.8em; font-weight: bold; line-height: 1; border-radius: 0.35em; vertical-align: middle; margin-left: 0.5rem\">GPE</span>\n",
       "</mark>\n",
       " If you change Keep moving, keep moving  I can hear the alarm I won't take it much longer (keep moving, keep moving) Are you breaking my heart? Thanks for making me stronger I could live with it, I could live with it, oh  I could live with it, I could live with it, oh I could live with it, I could live with it, oh I could live with it, I could live with it, oh-oh-oh  Unless you understand it Then find out what to do Don't think about it I'll be running with you  If I can't understand it I'll find another way I could live with it, I could live with it, oh  You gotta move it You gotta move it You gotta move it Keep moving, keep moving  You gotta move it You gotta move it You gotta move it Keep moving, keep moving  Keep moving, keep moving  Keep moving, keep moving \n",
       "<mark class=\"entity\" style=\"background: #feca74; padding: 0.45em 0.6em; margin: 0 0.25em; line-height: 1; border-radius: 0.35em;\">\n",
       "    Ruhum\n",
       "    <span style=\"font-size: 0.8em; font-weight: bold; line-height: 1; border-radius: 0.35em; vertical-align: middle; margin-left: 0.5rem\">GPE</span>\n",
       "</mark>\n",
       " yeniden doğdu Ama sanki her şey kayboldu \n",
       "<mark class=\"entity\" style=\"background: #aa9cfc; padding: 0.45em 0.6em; margin: 0 0.25em; line-height: 1; border-radius: 0.35em;\">\n",
       "    Çok derin hislerim\n",
       "    <span style=\"font-size: 0.8em; font-weight: bold; line-height: 1; border-radius: 0.35em; vertical-align: middle; margin-left: 0.5rem\">PERSON</span>\n",
       "</mark>\n",
       ", oh-oh  Omzum yükle doldu \n",
       "<mark class=\"entity\" style=\"background: #7aecec; padding: 0.45em 0.6em; margin: 0 0.25em; line-height: 1; border-radius: 0.35em;\">\n",
       "    Ama\n",
       "    <span style=\"font-size: 0.8em; font-weight: bold; line-height: 1; border-radius: 0.35em; vertical-align: middle; margin-left: 0.5rem\">ORG</span>\n",
       "</mark>\n",
       " bende \n",
       "<mark class=\"entity\" style=\"background: #aa9cfc; padding: 0.45em 0.6em; margin: 0 0.25em; line-height: 1; border-radius: 0.35em;\">\n",
       "    vazgeçmek yoktu Bitmedi\n",
       "    <span style=\"font-size: 0.8em; font-weight: bold; line-height: 1; border-radius: 0.35em; vertical-align: middle; margin-left: 0.5rem\">PERSON</span>\n",
       "</mark>\n",
       ", bitmedi, \n",
       "<mark class=\"entity\" style=\"background: #aa9cfc; padding: 0.45em 0.6em; margin: 0 0.25em; line-height: 1; border-radius: 0.35em;\">\n",
       "    bitirmedim  Ben\n",
       "    <span style=\"font-size: 0.8em; font-weight: bold; line-height: 1; border-radius: 0.35em; vertical-align: middle; margin-left: 0.5rem\">PERSON</span>\n",
       "</mark>\n",
       " özel değilim ya da \n",
       "<mark class=\"entity\" style=\"background: #aa9cfc; padding: 0.45em 0.6em; margin: 0 0.25em; line-height: 1; border-radius: 0.35em;\">\n",
       "    öyle bi'\n",
       "    <span style=\"font-size: 0.8em; font-weight: bold; line-height: 1; border-radius: 0.35em; vertical-align: middle; margin-left: 0.5rem\">PERSON</span>\n",
       "</mark>\n",
       " şey \n",
       "<mark class=\"entity\" style=\"background: #aa9cfc; padding: 0.45em 0.6em; margin: 0 0.25em; line-height: 1; border-radius: 0.35em;\">\n",
       "    Ama\n",
       "    <span style=\"font-size: 0.8em; font-weight: bold; line-height: 1; border-radius: 0.35em; vertical-align: middle; margin-left: 0.5rem\">PERSON</span>\n",
       "</mark>\n",
       " sen varken hep böyle hissettim \n",
       "<mark class=\"entity\" style=\"background: #aa9cfc; padding: 0.45em 0.6em; margin: 0 0.25em; line-height: 1; border-radius: 0.35em;\">\n",
       "    Böyle\n",
       "    <span style=\"font-size: 0.8em; font-weight: bold; line-height: 1; border-radius: 0.35em; vertical-align: middle; margin-left: 0.5rem\">PERSON</span>\n",
       "</mark>\n",
       " hissettim  \n",
       "<mark class=\"entity\" style=\"background: #feca74; padding: 0.45em 0.6em; margin: 0 0.25em; line-height: 1; border-radius: 0.35em;\">\n",
       "    Yanan\n",
       "    <span style=\"font-size: 0.8em; font-weight: bold; line-height: 1; border-radius: 0.35em; vertical-align: middle; margin-left: 0.5rem\">GPE</span>\n",
       "</mark>\n",
       " her şey kül mü olmalı? \n",
       "<mark class=\"entity\" style=\"background: #aa9cfc; padding: 0.45em 0.6em; margin: 0 0.25em; line-height: 1; border-radius: 0.35em;\">\n",
       "    Bunu\n",
       "    <span style=\"font-size: 0.8em; font-weight: bold; line-height: 1; border-radius: 0.35em; vertical-align: middle; margin-left: 0.5rem\">PERSON</span>\n",
       "</mark>\n",
       " sen de hatırlarsın da artık geç  \n",
       "<mark class=\"entity\" style=\"background: #aa9cfc; padding: 0.45em 0.6em; margin: 0 0.25em; line-height: 1; border-radius: 0.35em;\">\n",
       "    Böyle\n",
       "    <span style=\"font-size: 0.8em; font-weight: bold; line-height: 1; border-radius: 0.35em; vertical-align: middle; margin-left: 0.5rem\">PERSON</span>\n",
       "</mark>\n",
       " hissettim  \n",
       "<mark class=\"entity\" style=\"background: #aa9cfc; padding: 0.45em 0.6em; margin: 0 0.25em; line-height: 1; border-radius: 0.35em;\">\n",
       "    Ben\n",
       "    <span style=\"font-size: 0.8em; font-weight: bold; line-height: 1; border-radius: 0.35em; vertical-align: middle; margin-left: 0.5rem\">PERSON</span>\n",
       "</mark>\n",
       " özel değilim ya da \n",
       "<mark class=\"entity\" style=\"background: #aa9cfc; padding: 0.45em 0.6em; margin: 0 0.25em; line-height: 1; border-radius: 0.35em;\">\n",
       "    öyle bi'\n",
       "    <span style=\"font-size: 0.8em; font-weight: bold; line-height: 1; border-radius: 0.35em; vertical-align: middle; margin-left: 0.5rem\">PERSON</span>\n",
       "</mark>\n",
       " şey \n",
       "<mark class=\"entity\" style=\"background: #aa9cfc; padding: 0.45em 0.6em; margin: 0 0.25em; line-height: 1; border-radius: 0.35em;\">\n",
       "    Ama\n",
       "    <span style=\"font-size: 0.8em; font-weight: bold; line-height: 1; border-radius: 0.35em; vertical-align: middle; margin-left: 0.5rem\">PERSON</span>\n",
       "</mark>\n",
       " sen varken hep böyle hissettim \n",
       "<mark class=\"entity\" style=\"background: #aa9cfc; padding: 0.45em 0.6em; margin: 0 0.25em; line-height: 1; border-radius: 0.35em;\">\n",
       "    Böyle\n",
       "    <span style=\"font-size: 0.8em; font-weight: bold; line-height: 1; border-radius: 0.35em; vertical-align: middle; margin-left: 0.5rem\">PERSON</span>\n",
       "</mark>\n",
       " hissettim  \n",
       "<mark class=\"entity\" style=\"background: #feca74; padding: 0.45em 0.6em; margin: 0 0.25em; line-height: 1; border-radius: 0.35em;\">\n",
       "    Yanan\n",
       "    <span style=\"font-size: 0.8em; font-weight: bold; line-height: 1; border-radius: 0.35em; vertical-align: middle; margin-left: 0.5rem\">GPE</span>\n",
       "</mark>\n",
       " her şey kül mü olmalı? \n",
       "<mark class=\"entity\" style=\"background: #aa9cfc; padding: 0.45em 0.6em; margin: 0 0.25em; line-height: 1; border-radius: 0.35em;\">\n",
       "    Bunu\n",
       "    <span style=\"font-size: 0.8em; font-weight: bold; line-height: 1; border-radius: 0.35em; vertical-align: middle; margin-left: 0.5rem\">PERSON</span>\n",
       "</mark>\n",
       " sen de hatırlarsın da artık geç  Artık çok geç  Hissettim Nobody feels the pain behind the love you show Nobody feels the burden that is yours alone If when the morning comes you're not with me (destiny) I know that you'll return with destiny  Only you can truly understand The measure of a hero, is the measure of a man (I wanna kiss it better, the measure of a man) The measure of a man (I wanna kiss it better, the measure of a man)  Your body bears the scars of every man I know So softly I wanna kiss it better, the scarlet letter To me, you don't belong If when the morning comes, you're not with me (destiny) I know that you'll return with destiny  Only you can truly understand The measure of a hero, is the measure of a man (I wanna kiss it better, the measure of a man) The measure of a man (I wanna kiss it better, the measure of a man)  It's the manners that make a man But the hammers that break a man \n",
       "<mark class=\"entity\" style=\"background: #aa9cfc; padding: 0.45em 0.6em; margin: 0 0.25em; line-height: 1; border-radius: 0.35em;\">\n",
       "    Damn\n",
       "    <span style=\"font-size: 0.8em; font-weight: bold; line-height: 1; border-radius: 0.35em; vertical-align: middle; margin-left: 0.5rem\">PERSON</span>\n",
       "</mark>\n",
       ", they wanted to see me broke But I flipped the script and I broke the pen \n",
       "<mark class=\"entity\" style=\"background: #aa9cfc; padding: 0.45em 0.6em; margin: 0 0.25em; line-height: 1; border-radius: 0.35em;\">\n",
       "    Young\n",
       "    <span style=\"font-size: 0.8em; font-weight: bold; line-height: 1; border-radius: 0.35em; vertical-align: middle; margin-left: 0.5rem\">PERSON</span>\n",
       "</mark>\n",
       " and wealthy Don't let it overwhelm me I still give thanks Still can't tell me Nothin', the system failed me I still bounced back  I run this ting, got a lot of endurance What you know about drastic measures? I married the hustle Me and the game, like \n",
       "<mark class=\"entity\" style=\"background: #aa9cfc; padding: 0.45em 0.6em; margin: 0 0.25em; line-height: 1; border-radius: 0.35em;\">\n",
       "    Harry\n",
       "    <span style=\"font-size: 0.8em; font-weight: bold; line-height: 1; border-radius: 0.35em; vertical-align: middle; margin-left: 0.5rem\">PERSON</span>\n",
       "</mark>\n",
       " and \n",
       "<mark class=\"entity\" style=\"background: #aa9cfc; padding: 0.45em 0.6em; margin: 0 0.25em; line-height: 1; border-radius: 0.35em;\">\n",
       "    Meaghan\n",
       "    <span style=\"font-size: 0.8em; font-weight: bold; line-height: 1; border-radius: 0.35em; vertical-align: middle; margin-left: 0.5rem\">PERSON</span>\n",
       "</mark>\n",
       " Some man in my hood too jealous Why do you feel that we carry a weapon?  Take time and trust the process Life's a game of chess, not checkers Told bro that, &quot;You gotta stop stressin'&quot; &quot;Gotta stop thinkin' you won't get through it&quot; &quot;It's all in your mind&quot; &quot;I failed a couple of times&quot; &quot;I got up and got back to it&quot;  Only (only) you can (you can) truly (truly) understand The measure (measure) of a (of a) hero is the measure of a man The measure of a man  Only you can truly understand The measure of a hero, is the measure of a man The measure of a man Be my woman, girl, and I'll be your man Be my woman, girl, and I'll be your man  Yes, I be your woman Yes, I be your baby Yes, I be whatever that you tell me when you ready Yes, I be your girl, forever your lady You ain't never gotta worry I'm down for you, baby  Best believe that when you need that I'll provide that, you will always have it I'll be on deck, keep it in check When you need that, I'ma let you have it  Beating my drum like dum di-di-day I like the dirty rhythm you play I wanna hear you calling my name Like, hey mama, mama, hey mama, \n",
       "<mark class=\"entity\" style=\"background: #aa9cfc; padding: 0.45em 0.6em; margin: 0 0.25em; line-height: 1; border-radius: 0.35em;\">\n",
       "    ma Banging\n",
       "    <span style=\"font-size: 0.8em; font-weight: bold; line-height: 1; border-radius: 0.35em; vertical-align: middle; margin-left: 0.5rem\">PERSON</span>\n",
       "</mark>\n",
       " the drum like dum di-di-day I know you want it in the worst way I wanna hear you calling my name Like, hey mama, mama, hey mama, ma  Be my woman, girl, and I'll be your man Be my woman, girl, and I'll be your man  Yes, I do the cooking Yes, I do the cleaning Plus, I keep the na-na real sweet for your eating Yes, you be the boss, and yes, I be respecting Whatever that you tell me 'Cause it's game you be spitting, oh  Best believe that when you need that I'll provide that, you will always have it I'll be on deck, keep it in check When you need that, I'ma let you have it  Beating my drum like dum di-di-day I like the dirty rhythm you play I wanna hear you calling my name Like, hey mama, mama, hey mama, \n",
       "<mark class=\"entity\" style=\"background: #aa9cfc; padding: 0.45em 0.6em; margin: 0 0.25em; line-height: 1; border-radius: 0.35em;\">\n",
       "    ma Banging\n",
       "    <span style=\"font-size: 0.8em; font-weight: bold; line-height: 1; border-radius: 0.35em; vertical-align: middle; margin-left: 0.5rem\">PERSON</span>\n",
       "</mark>\n",
       " the drum like dum di-di-day I know you want it in the worst way I wanna hear you calling my name Like, hey mama, mama, hey mama, ma  Be my woman, girl, and I'll be your man Be my woman, girl, and I'll be your man  Whole crew got the juice yo' game the truth My screams is the proof them other dudes get the deuce So when I speed in the coupe, leaving this interview It ain't nothin' new I been f---in' with you None of them b----s ain't taking you Just tell 'em to make a U, huh That's how it be, I come \n",
       "<mark class=\"entity\" style=\"background: #e4e7d2; padding: 0.45em 0.6em; margin: 0 0.25em; line-height: 1; border-radius: 0.35em;\">\n",
       "    first\n",
       "    <span style=\"font-size: 0.8em; font-weight: bold; line-height: 1; border-radius: 0.35em; vertical-align: middle; margin-left: 0.5rem\">ORDINAL</span>\n",
       "</mark>\n",
       " like debut, huh So, baby, when you need that Give me the word, I'm no good I'll be bad for my baby  So I make sure that he's getting his share So I make sure that his baby take care So I make sure I'm on my toes, on my knees Keep him pleased, rub him down Be a lady and a freak, oh  Beating my drum like dum di-di-day I like the dirty rhythm you play I wanna hear you calling my name Like, hey mama, mama, hey mama, \n",
       "<mark class=\"entity\" style=\"background: #aa9cfc; padding: 0.45em 0.6em; margin: 0 0.25em; line-height: 1; border-radius: 0.35em;\">\n",
       "    ma Banging\n",
       "    <span style=\"font-size: 0.8em; font-weight: bold; line-height: 1; border-radius: 0.35em; vertical-align: middle; margin-left: 0.5rem\">PERSON</span>\n",
       "</mark>\n",
       " the drum like dum di-di-day I know you want it in the worst way I wanna hear you calling my name Like, hey mama, mama, hey mama, ma  Be my woman, girl, and I'll be your man Be my woman, girl, and I'll be your man You got the devil in your eyes You went and took me by surprise (sing that shit) Say what you wanna say I won't go back If you wanna hit the road Then let's go then Let's just go and see the world And show them what it really means to live life \n",
       "<mark class=\"entity\" style=\"background: #ddd; padding: 0.45em 0.6em; margin: 0 0.25em; line-height: 1; border-radius: 0.35em;\">\n",
       "    Golden  \n",
       "    <span style=\"font-size: 0.8em; font-weight: bold; line-height: 1; border-radius: 0.35em; vertical-align: middle; margin-left: 0.5rem\">FAC</span>\n",
       "</mark>\n",
       "Yeah, we're golden baby girl, we're golden They about to see us shine 'cause we're golden They can never break us down 'cause we're golden They about to see us glow 'cause we're golden Yeah, we're golden baby girl, we're golden They about to see us shine 'cause we're golden They can never break us down 'cause we're golden They about to see us glow 'cause we're golden  You got the devil in your eyes (sing that shit) You went and took me by surprise (I love you) Say what you wanna say I won't go back If you wanna hit the road Then let's go then Let's just go and see the world And show them what it really means to live life \n",
       "<mark class=\"entity\" style=\"background: #ddd; padding: 0.45em 0.6em; margin: 0 0.25em; line-height: 1; border-radius: 0.35em;\">\n",
       "    Golden  \n",
       "    <span style=\"font-size: 0.8em; font-weight: bold; line-height: 1; border-radius: 0.35em; vertical-align: middle; margin-left: 0.5rem\">FAC</span>\n",
       "</mark>\n",
       "Yeah, we're golden, baby girl, we're golden They about to see us shine 'cause we're golden They can never break us down 'cause we're golden They about to see us glow 'cause we're golden Yeah, we're golden baby girl, we're golden They about to see us shine 'cause we're golden They can never break us down 'cause we're golden They about to see us glow 'cause we're golden  Thank you Let's keep moving \n",
       "<mark class=\"entity\" style=\"background: #aa9cfc; padding: 0.45em 0.6em; margin: 0 0.25em; line-height: 1; border-radius: 0.35em;\">\n",
       "    Cap\n",
       "    <span style=\"font-size: 0.8em; font-weight: bold; line-height: 1; border-radius: 0.35em; vertical-align: middle; margin-left: 0.5rem\">PERSON</span>\n",
       "</mark>\n",
       " Do you recall, not long ago We would walk on the sidewalk? Innocent, remember? All we did was care for each other  But the night was warm We were bold and young All around the wind blows We would only hold on to let go  Blow a kiss, fire a gun We need someone to lean on \n",
       "<mark class=\"entity\" style=\"background: #aa9cfc; padding: 0.45em 0.6em; margin: 0 0.25em; line-height: 1; border-radius: 0.35em;\">\n",
       "    Blow\n",
       "    <span style=\"font-size: 0.8em; font-weight: bold; line-height: 1; border-radius: 0.35em; vertical-align: middle; margin-left: 0.5rem\">PERSON</span>\n",
       "</mark>\n",
       " a kiss, fire a gun All we need is somebody to lean on  Blow a kiss, fire a gun We need someone to lean on \n",
       "<mark class=\"entity\" style=\"background: #aa9cfc; padding: 0.45em 0.6em; margin: 0 0.25em; line-height: 1; border-radius: 0.35em;\">\n",
       "    Blow\n",
       "    <span style=\"font-size: 0.8em; font-weight: bold; line-height: 1; border-radius: 0.35em; vertical-align: middle; margin-left: 0.5rem\">PERSON</span>\n",
       "</mark>\n",
       " a kiss, fire a gun All we need is somebody to lean on  What will we do when we get old? Will we walk down the same road? Will you be there by my side? Standing strong as the waves roll over  When the nights are long Longing for you to come home All around the wind blows We would only hold on to let go  Blow a kiss, fire a gun We need someone to lean on \n",
       "<mark class=\"entity\" style=\"background: #aa9cfc; padding: 0.45em 0.6em; margin: 0 0.25em; line-height: 1; border-radius: 0.35em;\">\n",
       "    Blow\n",
       "    <span style=\"font-size: 0.8em; font-weight: bold; line-height: 1; border-radius: 0.35em; vertical-align: middle; margin-left: 0.5rem\">PERSON</span>\n",
       "</mark>\n",
       " a kiss, fire a gun All we need is somebody to lean on  Blow a kiss, fire a gun We need someone to lean on \n",
       "<mark class=\"entity\" style=\"background: #aa9cfc; padding: 0.45em 0.6em; margin: 0 0.25em; line-height: 1; border-radius: 0.35em;\">\n",
       "    Blow\n",
       "    <span style=\"font-size: 0.8em; font-weight: bold; line-height: 1; border-radius: 0.35em; vertical-align: middle; margin-left: 0.5rem\">PERSON</span>\n",
       "</mark>\n",
       " a kiss, fire a gun All we need is somebody to lean on  All we need is somebody to lean on All we need is somebody to lean on \n",
       "<mark class=\"entity\" style=\"background: #feca74; padding: 0.45em 0.6em; margin: 0 0.25em; line-height: 1; border-radius: 0.35em;\">\n",
       "    Lean\n",
       "    <span style=\"font-size: 0.8em; font-weight: bold; line-height: 1; border-radius: 0.35em; vertical-align: middle; margin-left: 0.5rem\">GPE</span>\n",
       "</mark>\n",
       " on, lean on, lean on, lean on...  Blow a kiss, fire a gun We need someone to lean on \n",
       "<mark class=\"entity\" style=\"background: #aa9cfc; padding: 0.45em 0.6em; margin: 0 0.25em; line-height: 1; border-radius: 0.35em;\">\n",
       "    Blow\n",
       "    <span style=\"font-size: 0.8em; font-weight: bold; line-height: 1; border-radius: 0.35em; vertical-align: middle; margin-left: 0.5rem\">PERSON</span>\n",
       "</mark>\n",
       " a kiss, fire a gun All we need is somebody to lean on  Blow a kiss, fire a gun We need someone to lean on \n",
       "<mark class=\"entity\" style=\"background: #aa9cfc; padding: 0.45em 0.6em; margin: 0 0.25em; line-height: 1; border-radius: 0.35em;\">\n",
       "    Blow\n",
       "    <span style=\"font-size: 0.8em; font-weight: bold; line-height: 1; border-radius: 0.35em; vertical-align: middle; margin-left: 0.5rem\">PERSON</span>\n",
       "</mark>\n",
       " a kiss, fire a gun All we need is somebody to lean on \n",
       "<mark class=\"entity\" style=\"background: #7aecec; padding: 0.45em 0.6em; margin: 0 0.25em; line-height: 1; border-radius: 0.35em;\">\n",
       "    Omapadikero\n",
       "    <span style=\"font-size: 0.8em; font-weight: bold; line-height: 1; border-radius: 0.35em; vertical-align: middle; margin-left: 0.5rem\">ORG</span>\n",
       "</mark>\n",
       " osonakoluna \n",
       "<mark class=\"entity\" style=\"background: #feca74; padding: 0.45em 0.6em; margin: 0 0.25em; line-height: 1; border-radius: 0.35em;\">\n",
       "    Saniladikero\n",
       "    <span style=\"font-size: 0.8em; font-weight: bold; line-height: 1; border-radius: 0.35em; vertical-align: middle; margin-left: 0.5rem\">GPE</span>\n",
       "</mark>\n",
       " osonakoluna \n",
       "<mark class=\"entity\" style=\"background: #feca74; padding: 0.45em 0.6em; margin: 0 0.25em; line-height: 1; border-radius: 0.35em;\">\n",
       "    Osonakoluna\n",
       "    <span style=\"font-size: 0.8em; font-weight: bold; line-height: 1; border-radius: 0.35em; vertical-align: middle; margin-left: 0.5rem\">GPE</span>\n",
       "</mark>\n",
       ", osonakoluna  Omapadikero osonakoluna \n",
       "<mark class=\"entity\" style=\"background: #feca74; padding: 0.45em 0.6em; margin: 0 0.25em; line-height: 1; border-radius: 0.35em;\">\n",
       "    Saniladikero\n",
       "    <span style=\"font-size: 0.8em; font-weight: bold; line-height: 1; border-radius: 0.35em; vertical-align: middle; margin-left: 0.5rem\">GPE</span>\n",
       "</mark>\n",
       " osonakoluna \n",
       "<mark class=\"entity\" style=\"background: #feca74; padding: 0.45em 0.6em; margin: 0 0.25em; line-height: 1; border-radius: 0.35em;\">\n",
       "    Osonakoluna\n",
       "    <span style=\"font-size: 0.8em; font-weight: bold; line-height: 1; border-radius: 0.35em; vertical-align: middle; margin-left: 0.5rem\">GPE</span>\n",
       "</mark>\n",
       ", osonakoluna  Ohh-ohhh, ohh-ohhh \n",
       "<mark class=\"entity\" style=\"background: #aa9cfc; padding: 0.45em 0.6em; margin: 0 0.25em; line-height: 1; border-radius: 0.35em;\">\n",
       "    Lilongwe\n",
       "    <span style=\"font-size: 0.8em; font-weight: bold; line-height: 1; border-radius: 0.35em; vertical-align: middle; margin-left: 0.5rem\">PERSON</span>\n",
       "</mark>\n",
       " sawuaa \n",
       "<mark class=\"entity\" style=\"background: #feca74; padding: 0.45em 0.6em; margin: 0 0.25em; line-height: 1; border-radius: 0.35em;\">\n",
       "    Angola\n",
       "    <span style=\"font-size: 0.8em; font-weight: bold; line-height: 1; border-radius: 0.35em; vertical-align: middle; margin-left: 0.5rem\">GPE</span>\n",
       "</mark>\n",
       " nekiwa \n",
       "<mark class=\"entity\" style=\"background: #aa9cfc; padding: 0.45em 0.6em; margin: 0 0.25em; line-height: 1; border-radius: 0.35em;\">\n",
       "    Osonakoluna Ohh\n",
       "    <span style=\"font-size: 0.8em; font-weight: bold; line-height: 1; border-radius: 0.35em; vertical-align: middle; margin-left: 0.5rem\">PERSON</span>\n",
       "</mark>\n",
       "-ohhh, ohh-ohhh \n",
       "<mark class=\"entity\" style=\"background: #7aecec; padding: 0.45em 0.6em; margin: 0 0.25em; line-height: 1; border-radius: 0.35em;\">\n",
       "    Makeba\n",
       "    <span style=\"font-size: 0.8em; font-weight: bold; line-height: 1; border-radius: 0.35em; vertical-align: middle; margin-left: 0.5rem\">ORG</span>\n",
       "</mark>\n",
       " sawuaa \n",
       "<mark class=\"entity\" style=\"background: #aa9cfc; padding: 0.45em 0.6em; margin: 0 0.25em; line-height: 1; border-radius: 0.35em;\">\n",
       "    Fela Kuti\n",
       "    <span style=\"font-size: 0.8em; font-weight: bold; line-height: 1; border-radius: 0.35em; vertical-align: middle; margin-left: 0.5rem\">PERSON</span>\n",
       "</mark>\n",
       " nekiwa \n",
       "<mark class=\"entity\" style=\"background: #feca74; padding: 0.45em 0.6em; margin: 0 0.25em; line-height: 1; border-radius: 0.35em;\">\n",
       "    Osonakoluna\n",
       "    <span style=\"font-size: 0.8em; font-weight: bold; line-height: 1; border-radius: 0.35em; vertical-align: middle; margin-left: 0.5rem\">GPE</span>\n",
       "</mark>\n",
       ", osonakoluna  Oh, zomanule \n",
       "<mark class=\"entity\" style=\"background: #feca74; padding: 0.45em 0.6em; margin: 0 0.25em; line-height: 1; border-radius: 0.35em;\">\n",
       "    Iniima\n",
       "    <span style=\"font-size: 0.8em; font-weight: bold; line-height: 1; border-radius: 0.35em; vertical-align: middle; margin-left: 0.5rem\">GPE</span>\n",
       "</mark>\n",
       " nomanule Oh, nomanuaa \n",
       "<mark class=\"entity\" style=\"background: #aa9cfc; padding: 0.45em 0.6em; margin: 0 0.25em; line-height: 1; border-radius: 0.35em;\">\n",
       "    Iniima nomanuaa\n",
       "    <span style=\"font-size: 0.8em; font-weight: bold; line-height: 1; border-radius: 0.35em; vertical-align: middle; margin-left: 0.5rem\">PERSON</span>\n",
       "</mark>\n",
       "  Oh, zomanule \n",
       "<mark class=\"entity\" style=\"background: #feca74; padding: 0.45em 0.6em; margin: 0 0.25em; line-height: 1; border-radius: 0.35em;\">\n",
       "    Iniima\n",
       "    <span style=\"font-size: 0.8em; font-weight: bold; line-height: 1; border-radius: 0.35em; vertical-align: middle; margin-left: 0.5rem\">GPE</span>\n",
       "</mark>\n",
       " nomanule Oh, nomanuaa \n",
       "<mark class=\"entity\" style=\"background: #c887fb; padding: 0.45em 0.6em; margin: 0 0.25em; line-height: 1; border-radius: 0.35em;\">\n",
       "    Iniima\n",
       "    <span style=\"font-size: 0.8em; font-weight: bold; line-height: 1; border-radius: 0.35em; vertical-align: middle; margin-left: 0.5rem\">NORP</span>\n",
       "</mark>\n",
       " nomanuaa  Omapadikero osonakoluna \n",
       "<mark class=\"entity\" style=\"background: #feca74; padding: 0.45em 0.6em; margin: 0 0.25em; line-height: 1; border-radius: 0.35em;\">\n",
       "    Saniladikero\n",
       "    <span style=\"font-size: 0.8em; font-weight: bold; line-height: 1; border-radius: 0.35em; vertical-align: middle; margin-left: 0.5rem\">GPE</span>\n",
       "</mark>\n",
       " osonakoluna \n",
       "<mark class=\"entity\" style=\"background: #feca74; padding: 0.45em 0.6em; margin: 0 0.25em; line-height: 1; border-radius: 0.35em;\">\n",
       "    Osonakoluna\n",
       "    <span style=\"font-size: 0.8em; font-weight: bold; line-height: 1; border-radius: 0.35em; vertical-align: middle; margin-left: 0.5rem\">GPE</span>\n",
       "</mark>\n",
       ", osonakoluna  Omapadikero osonakoluna \n",
       "<mark class=\"entity\" style=\"background: #feca74; padding: 0.45em 0.6em; margin: 0 0.25em; line-height: 1; border-radius: 0.35em;\">\n",
       "    Saniladikero\n",
       "    <span style=\"font-size: 0.8em; font-weight: bold; line-height: 1; border-radius: 0.35em; vertical-align: middle; margin-left: 0.5rem\">GPE</span>\n",
       "</mark>\n",
       " osonakoluna \n",
       "<mark class=\"entity\" style=\"background: #feca74; padding: 0.45em 0.6em; margin: 0 0.25em; line-height: 1; border-radius: 0.35em;\">\n",
       "    Osonakoluna\n",
       "    <span style=\"font-size: 0.8em; font-weight: bold; line-height: 1; border-radius: 0.35em; vertical-align: middle; margin-left: 0.5rem\">GPE</span>\n",
       "</mark>\n",
       ", osonakoluna  Ohh-ohhh, ohh-ohhh \n",
       "<mark class=\"entity\" style=\"background: #aa9cfc; padding: 0.45em 0.6em; margin: 0 0.25em; line-height: 1; border-radius: 0.35em;\">\n",
       "    Lilongwe\n",
       "    <span style=\"font-size: 0.8em; font-weight: bold; line-height: 1; border-radius: 0.35em; vertical-align: middle; margin-left: 0.5rem\">PERSON</span>\n",
       "</mark>\n",
       " sawuaa \n",
       "<mark class=\"entity\" style=\"background: #feca74; padding: 0.45em 0.6em; margin: 0 0.25em; line-height: 1; border-radius: 0.35em;\">\n",
       "    Angola\n",
       "    <span style=\"font-size: 0.8em; font-weight: bold; line-height: 1; border-radius: 0.35em; vertical-align: middle; margin-left: 0.5rem\">GPE</span>\n",
       "</mark>\n",
       " nekiwa \n",
       "<mark class=\"entity\" style=\"background: #aa9cfc; padding: 0.45em 0.6em; margin: 0 0.25em; line-height: 1; border-radius: 0.35em;\">\n",
       "    Osonakoluna Ohh\n",
       "    <span style=\"font-size: 0.8em; font-weight: bold; line-height: 1; border-radius: 0.35em; vertical-align: middle; margin-left: 0.5rem\">PERSON</span>\n",
       "</mark>\n",
       "-ohhh, ohh-ohhh \n",
       "<mark class=\"entity\" style=\"background: #7aecec; padding: 0.45em 0.6em; margin: 0 0.25em; line-height: 1; border-radius: 0.35em;\">\n",
       "    Makeba\n",
       "    <span style=\"font-size: 0.8em; font-weight: bold; line-height: 1; border-radius: 0.35em; vertical-align: middle; margin-left: 0.5rem\">ORG</span>\n",
       "</mark>\n",
       " sawuaa \n",
       "<mark class=\"entity\" style=\"background: #aa9cfc; padding: 0.45em 0.6em; margin: 0 0.25em; line-height: 1; border-radius: 0.35em;\">\n",
       "    Fela Kuti\n",
       "    <span style=\"font-size: 0.8em; font-weight: bold; line-height: 1; border-radius: 0.35em; vertical-align: middle; margin-left: 0.5rem\">PERSON</span>\n",
       "</mark>\n",
       " nekiwa \n",
       "<mark class=\"entity\" style=\"background: #feca74; padding: 0.45em 0.6em; margin: 0 0.25em; line-height: 1; border-radius: 0.35em;\">\n",
       "    Osonakoluna\n",
       "    <span style=\"font-size: 0.8em; font-weight: bold; line-height: 1; border-radius: 0.35em; vertical-align: middle; margin-left: 0.5rem\">GPE</span>\n",
       "</mark>\n",
       ", osonakoluna  Oh, zomanule \n",
       "<mark class=\"entity\" style=\"background: #feca74; padding: 0.45em 0.6em; margin: 0 0.25em; line-height: 1; border-radius: 0.35em;\">\n",
       "    Iniima\n",
       "    <span style=\"font-size: 0.8em; font-weight: bold; line-height: 1; border-radius: 0.35em; vertical-align: middle; margin-left: 0.5rem\">GPE</span>\n",
       "</mark>\n",
       " nomanule Oh, nomanuaa \n",
       "<mark class=\"entity\" style=\"background: #aa9cfc; padding: 0.45em 0.6em; margin: 0 0.25em; line-height: 1; border-radius: 0.35em;\">\n",
       "    Iniima nomanuaa\n",
       "    <span style=\"font-size: 0.8em; font-weight: bold; line-height: 1; border-radius: 0.35em; vertical-align: middle; margin-left: 0.5rem\">PERSON</span>\n",
       "</mark>\n",
       "  Oh, zomanule \n",
       "<mark class=\"entity\" style=\"background: #feca74; padding: 0.45em 0.6em; margin: 0 0.25em; line-height: 1; border-radius: 0.35em;\">\n",
       "    Iniima\n",
       "    <span style=\"font-size: 0.8em; font-weight: bold; line-height: 1; border-radius: 0.35em; vertical-align: middle; margin-left: 0.5rem\">GPE</span>\n",
       "</mark>\n",
       " nomanule Oh, nomanuaa \n",
       "<mark class=\"entity\" style=\"background: #c887fb; padding: 0.45em 0.6em; margin: 0 0.25em; line-height: 1; border-radius: 0.35em;\">\n",
       "    Iniima\n",
       "    <span style=\"font-size: 0.8em; font-weight: bold; line-height: 1; border-radius: 0.35em; vertical-align: middle; margin-left: 0.5rem\">NORP</span>\n",
       "</mark>\n",
       " nomanuaa We're riding down the boulevard We're riding through the dark night With \n",
       "<mark class=\"entity\" style=\"background: #e4e7d2; padding: 0.45em 0.6em; margin: 0 0.25em; line-height: 1; border-radius: 0.35em;\">\n",
       "    half\n",
       "    <span style=\"font-size: 0.8em; font-weight: bold; line-height: 1; border-radius: 0.35em; vertical-align: middle; margin-left: 0.5rem\">CARDINAL</span>\n",
       "</mark>\n",
       " the tank and empty heart Pretending we're in love but it's never enough As the sirens fill the lonely air Oh, how did we get here, now, now, now, babe? We see a storm is closing in \n",
       "<mark class=\"entity\" style=\"background: #feca74; padding: 0.45em 0.6em; margin: 0 0.25em; line-height: 1; border-radius: 0.35em;\">\n",
       "    Pretending\n",
       "    <span style=\"font-size: 0.8em; font-weight: bold; line-height: 1; border-radius: 0.35em; vertical-align: middle; margin-left: 0.5rem\">GPE</span>\n",
       "</mark>\n",
       " we ain't scared  Don't say a word while we dance with the devil You brought a fire to a world so cold We're out of time on the highway to never Hold on, hold on, hold on, hold on  Don't say a word while we dance with the devil You brought a fire to a world so cold We're out of time on the highway to never Hold on, hold on, hold on, hold on  We're running all the red lights down No way that we can stop, nah, nah A quarter tank and almost gone \n",
       "<mark class=\"entity\" style=\"background: #aa9cfc; padding: 0.45em 0.6em; margin: 0 0.25em; line-height: 1; border-radius: 0.35em;\">\n",
       "    Pretending\n",
       "    <span style=\"font-size: 0.8em; font-weight: bold; line-height: 1; border-radius: 0.35em; vertical-align: middle; margin-left: 0.5rem\">PERSON</span>\n",
       "</mark>\n",
       " we're in love but it's never enough, nah I wish we could take it back in time Before we crossed the line, now, now, now, babe We see a storm is closing in I reach out for your hand  Don't say a word while we dance with the devil You brought a fire to a world so cold We're out of time on the highway to never Hold on, hold on, hold on, hold on, hold on  Don't say a word while we dance with the devil You brought a fire to a world so cold We're out of time on the highway to never Hold on, hold on, hold on, hold on, hold on  Hold on, oh, yeah, yeah, oh Hold on  Don't say a word while we dance with the devil You brought a fire to a world so cold We're out of time on the highway to never Hold on, hold on, hold on, hold on, hold on  Don't say a word while we dance with the devil You brought a fire to a world so cold We're out of time on the highway to never Hold on, hold on, hold on, hold on Ani kuni chaouani \n",
       "<mark class=\"entity\" style=\"background: #aa9cfc; padding: 0.45em 0.6em; margin: 0 0.25em; line-height: 1; border-radius: 0.35em;\">\n",
       "    Ani\n",
       "    <span style=\"font-size: 0.8em; font-weight: bold; line-height: 1; border-radius: 0.35em; vertical-align: middle; margin-left: 0.5rem\">PERSON</span>\n",
       "</mark>\n",
       " kuni chaouani \n",
       "<mark class=\"entity\" style=\"background: #aa9cfc; padding: 0.45em 0.6em; margin: 0 0.25em; line-height: 1; border-radius: 0.35em;\">\n",
       "    Awawa bikana\n",
       "    <span style=\"font-size: 0.8em; font-weight: bold; line-height: 1; border-radius: 0.35em; vertical-align: middle; margin-left: 0.5rem\">PERSON</span>\n",
       "</mark>\n",
       " caïna \n",
       "<mark class=\"entity\" style=\"background: #7aecec; padding: 0.45em 0.6em; margin: 0 0.25em; line-height: 1; border-radius: 0.35em;\">\n",
       "    Awawa bikana\n",
       "    <span style=\"font-size: 0.8em; font-weight: bold; line-height: 1; border-radius: 0.35em; vertical-align: middle; margin-left: 0.5rem\">ORG</span>\n",
       "</mark>\n",
       " caïna Éiaouni \n",
       "<mark class=\"entity\" style=\"background: #c887fb; padding: 0.45em 0.6em; margin: 0 0.25em; line-height: 1; border-radius: 0.35em;\">\n",
       "    bissinni\n",
       "    <span style=\"font-size: 0.8em; font-weight: bold; line-height: 1; border-radius: 0.35em; vertical-align: middle; margin-left: 0.5rem\">NORP</span>\n",
       "</mark>\n",
       " Éiaouni \n",
       "<mark class=\"entity\" style=\"background: #aa9cfc; padding: 0.45em 0.6em; margin: 0 0.25em; line-height: 1; border-radius: 0.35em;\">\n",
       "    bissinni A\n",
       "    <span style=\"font-size: 0.8em; font-weight: bold; line-height: 1; border-radius: 0.35em; vertical-align: middle; margin-left: 0.5rem\">PERSON</span>\n",
       "</mark>\n",
       ", A A, A, A, A, A, yeah  Ani kuni chaouani \n",
       "<mark class=\"entity\" style=\"background: #aa9cfc; padding: 0.45em 0.6em; margin: 0 0.25em; line-height: 1; border-radius: 0.35em;\">\n",
       "    Ani\n",
       "    <span style=\"font-size: 0.8em; font-weight: bold; line-height: 1; border-radius: 0.35em; vertical-align: middle; margin-left: 0.5rem\">PERSON</span>\n",
       "</mark>\n",
       " kuni chaouani \n",
       "<mark class=\"entity\" style=\"background: #aa9cfc; padding: 0.45em 0.6em; margin: 0 0.25em; line-height: 1; border-radius: 0.35em;\">\n",
       "    Awawa bikana\n",
       "    <span style=\"font-size: 0.8em; font-weight: bold; line-height: 1; border-radius: 0.35em; vertical-align: middle; margin-left: 0.5rem\">PERSON</span>\n",
       "</mark>\n",
       " caïna \n",
       "<mark class=\"entity\" style=\"background: #7aecec; padding: 0.45em 0.6em; margin: 0 0.25em; line-height: 1; border-radius: 0.35em;\">\n",
       "    Awawa bikana\n",
       "    <span style=\"font-size: 0.8em; font-weight: bold; line-height: 1; border-radius: 0.35em; vertical-align: middle; margin-left: 0.5rem\">ORG</span>\n",
       "</mark>\n",
       " caïna \n",
       "<mark class=\"entity\" style=\"background: #aa9cfc; padding: 0.45em 0.6em; margin: 0 0.25em; line-height: 1; border-radius: 0.35em;\">\n",
       "    Ani kuni\n",
       "    <span style=\"font-size: 0.8em; font-weight: bold; line-height: 1; border-radius: 0.35em; vertical-align: middle; margin-left: 0.5rem\">PERSON</span>\n",
       "</mark>\n",
       " chaouani \n",
       "<mark class=\"entity\" style=\"background: #aa9cfc; padding: 0.45em 0.6em; margin: 0 0.25em; line-height: 1; border-radius: 0.35em;\">\n",
       "    Ani\n",
       "    <span style=\"font-size: 0.8em; font-weight: bold; line-height: 1; border-radius: 0.35em; vertical-align: middle; margin-left: 0.5rem\">PERSON</span>\n",
       "</mark>\n",
       " kuni chaouani Éiaouni bissinni  Ani kuni chaouani \n",
       "<mark class=\"entity\" style=\"background: #aa9cfc; padding: 0.45em 0.6em; margin: 0 0.25em; line-height: 1; border-radius: 0.35em;\">\n",
       "    Ani\n",
       "    <span style=\"font-size: 0.8em; font-weight: bold; line-height: 1; border-radius: 0.35em; vertical-align: middle; margin-left: 0.5rem\">PERSON</span>\n",
       "</mark>\n",
       " kuni chaouani \n",
       "<mark class=\"entity\" style=\"background: #aa9cfc; padding: 0.45em 0.6em; margin: 0 0.25em; line-height: 1; border-radius: 0.35em;\">\n",
       "    Awawa bikana\n",
       "    <span style=\"font-size: 0.8em; font-weight: bold; line-height: 1; border-radius: 0.35em; vertical-align: middle; margin-left: 0.5rem\">PERSON</span>\n",
       "</mark>\n",
       " caïna \n",
       "<mark class=\"entity\" style=\"background: #7aecec; padding: 0.45em 0.6em; margin: 0 0.25em; line-height: 1; border-radius: 0.35em;\">\n",
       "    Awawa bikana\n",
       "    <span style=\"font-size: 0.8em; font-weight: bold; line-height: 1; border-radius: 0.35em; vertical-align: middle; margin-left: 0.5rem\">ORG</span>\n",
       "</mark>\n",
       " caïna Éiaouni \n",
       "<mark class=\"entity\" style=\"background: #c887fb; padding: 0.45em 0.6em; margin: 0 0.25em; line-height: 1; border-radius: 0.35em;\">\n",
       "    bissinni\n",
       "    <span style=\"font-size: 0.8em; font-weight: bold; line-height: 1; border-radius: 0.35em; vertical-align: middle; margin-left: 0.5rem\">NORP</span>\n",
       "</mark>\n",
       " Éiaouni \n",
       "<mark class=\"entity\" style=\"background: #aa9cfc; padding: 0.45em 0.6em; margin: 0 0.25em; line-height: 1; border-radius: 0.35em;\">\n",
       "    bissinni A\n",
       "    <span style=\"font-size: 0.8em; font-weight: bold; line-height: 1; border-radius: 0.35em; vertical-align: middle; margin-left: 0.5rem\">PERSON</span>\n",
       "</mark>\n",
       ", A A, A, A, A, A, yeah  A-I-U-A-I I-U-A-A A-I-U-A-I A-I-A-A-A A-I-U-A-I A-I-U-A-A-A A-I-U-A-I A-I-I-O-A-I A-I-O-I-O I-O-A-A A-I-O-I-O I-O-A-I-I-I A-I-O-I-O I-O-A-A A-I-O-I-O Yeah  Ani kuni \n",
       "<mark class=\"entity\" style=\"background: #aa9cfc; padding: 0.45em 0.6em; margin: 0 0.25em; line-height: 1; border-radius: 0.35em;\">\n",
       "    Chaouani Ani\n",
       "    <span style=\"font-size: 0.8em; font-weight: bold; line-height: 1; border-radius: 0.35em; vertical-align: middle; margin-left: 0.5rem\">PERSON</span>\n",
       "</mark>\n",
       " kuni \n",
       "<mark class=\"entity\" style=\"background: #aa9cfc; padding: 0.45em 0.6em; margin: 0 0.25em; line-height: 1; border-radius: 0.35em;\">\n",
       "    Chaouani\n",
       "    <span style=\"font-size: 0.8em; font-weight: bold; line-height: 1; border-radius: 0.35em; vertical-align: middle; margin-left: 0.5rem\">PERSON</span>\n",
       "</mark>\n",
       "  Éiaouni \n",
       "<mark class=\"entity\" style=\"background: #aa9cfc; padding: 0.45em 0.6em; margin: 0 0.25em; line-height: 1; border-radius: 0.35em;\">\n",
       "    Bissinni\n",
       "    <span style=\"font-size: 0.8em; font-weight: bold; line-height: 1; border-radius: 0.35em; vertical-align: middle; margin-left: 0.5rem\">PERSON</span>\n",
       "</mark>\n",
       "  Éiaouni Bissinni There is a house built out of stone \n",
       "<mark class=\"entity\" style=\"background: #feca74; padding: 0.45em 0.6em; margin: 0 0.25em; line-height: 1; border-radius: 0.35em;\">\n",
       "    Wooden\n",
       "    <span style=\"font-size: 0.8em; font-weight: bold; line-height: 1; border-radius: 0.35em; vertical-align: middle; margin-left: 0.5rem\">GPE</span>\n",
       "</mark>\n",
       " floors, walls and window sills Tables and chairs worn by all of the dust This is a place where I don't feel alone This is a place where I feel at home  And I built a home For you For me Until it disappeared From me From you And now, it's time to leave and turn to dust  Out in the garden where we planted the seeds There is a tree as old as me Branches were sewn by the colour of green Ground had arose and passed its knees By the cracks of the skin I climbed to the top I climbed the tree to see the world  When the gust came around to blow me down Held on as tightly as you held on to me Held on as tightly as you held on to me  And I built a home For you For me Until it disappeared From me From you And now, it's time to leave and turn to dust Drive  I, I never thought I'd be your type (I, I, I) On my mind, the kind of love I can't describe (I, I, I)  You got me running (oh, no) Away from our history (oh, no) And through the darkness (oh, no) Oh, I can see you and me  When you find a love that's right You can drive \n",
       "<mark class=\"entity\" style=\"background: #bfe1d9; padding: 0.45em 0.6em; margin: 0 0.25em; line-height: 1; border-radius: 0.35em;\">\n",
       "    all night\n",
       "    <span style=\"font-size: 0.8em; font-weight: bold; line-height: 1; border-radius: 0.35em; vertical-align: middle; margin-left: 0.5rem\">TIME</span>\n",
       "</mark>\n",
       ", drive \n",
       "<mark class=\"entity\" style=\"background: #bfe1d9; padding: 0.45em 0.6em; margin: 0 0.25em; line-height: 1; border-radius: 0.35em;\">\n",
       "    all night\n",
       "    <span style=\"font-size: 0.8em; font-weight: bold; line-height: 1; border-radius: 0.35em; vertical-align: middle; margin-left: 0.5rem\">TIME</span>\n",
       "</mark>\n",
       " (ah, ah) Do what makes you feel alive You can drive \n",
       "<mark class=\"entity\" style=\"background: #bfe1d9; padding: 0.45em 0.6em; margin: 0 0.25em; line-height: 1; border-radius: 0.35em;\">\n",
       "    all night\n",
       "    <span style=\"font-size: 0.8em; font-weight: bold; line-height: 1; border-radius: 0.35em; vertical-align: middle; margin-left: 0.5rem\">TIME</span>\n",
       "</mark>\n",
       ", drive all night 'Cause the road's calling, over again \n",
       "<mark class=\"entity\" style=\"background: #aa9cfc; padding: 0.45em 0.6em; margin: 0 0.25em; line-height: 1; border-radius: 0.35em;\">\n",
       "    Ride\n",
       "    <span style=\"font-size: 0.8em; font-weight: bold; line-height: 1; border-radius: 0.35em; vertical-align: middle; margin-left: 0.5rem\">PERSON</span>\n",
       "</mark>\n",
       " 'til the morning Ride 'til the end, oh When you find a love that's right You can drive \n",
       "<mark class=\"entity\" style=\"background: #bfe1d9; padding: 0.45em 0.6em; margin: 0 0.25em; line-height: 1; border-radius: 0.35em;\">\n",
       "    all night\n",
       "    <span style=\"font-size: 0.8em; font-weight: bold; line-height: 1; border-radius: 0.35em; vertical-align: middle; margin-left: 0.5rem\">TIME</span>\n",
       "</mark>\n",
       ", drive all night  Faith, remember how we were back then (I, I, I) I can't fake emotions, I can't comprehend (I, I, I)  You got me running (oh, no) Away from our history (oh, no) And through the darkness (oh, no) Oh, I can see you and me (oh, no)  Drive When you find a love that's right You can drive \n",
       "<mark class=\"entity\" style=\"background: #bfe1d9; padding: 0.45em 0.6em; margin: 0 0.25em; line-height: 1; border-radius: 0.35em;\">\n",
       "    all night\n",
       "    <span style=\"font-size: 0.8em; font-weight: bold; line-height: 1; border-radius: 0.35em; vertical-align: middle; margin-left: 0.5rem\">TIME</span>\n",
       "</mark>\n",
       ", drive \n",
       "<mark class=\"entity\" style=\"background: #bfe1d9; padding: 0.45em 0.6em; margin: 0 0.25em; line-height: 1; border-radius: 0.35em;\">\n",
       "    all night\n",
       "    <span style=\"font-size: 0.8em; font-weight: bold; line-height: 1; border-radius: 0.35em; vertical-align: middle; margin-left: 0.5rem\">TIME</span>\n",
       "</mark>\n",
       " (ah, ah) Do what makes you feel alive You can drive \n",
       "<mark class=\"entity\" style=\"background: #bfe1d9; padding: 0.45em 0.6em; margin: 0 0.25em; line-height: 1; border-radius: 0.35em;\">\n",
       "    all night\n",
       "    <span style=\"font-size: 0.8em; font-weight: bold; line-height: 1; border-radius: 0.35em; vertical-align: middle; margin-left: 0.5rem\">TIME</span>\n",
       "</mark>\n",
       ", drive all night 'Cause the road's calling, over again \n",
       "<mark class=\"entity\" style=\"background: #aa9cfc; padding: 0.45em 0.6em; margin: 0 0.25em; line-height: 1; border-radius: 0.35em;\">\n",
       "    Ride\n",
       "    <span style=\"font-size: 0.8em; font-weight: bold; line-height: 1; border-radius: 0.35em; vertical-align: middle; margin-left: 0.5rem\">PERSON</span>\n",
       "</mark>\n",
       " 'til the morning Ride 'til the end, oh When you find a love that's right You can drive \n",
       "<mark class=\"entity\" style=\"background: #bfe1d9; padding: 0.45em 0.6em; margin: 0 0.25em; line-height: 1; border-radius: 0.35em;\">\n",
       "    all night\n",
       "    <span style=\"font-size: 0.8em; font-weight: bold; line-height: 1; border-radius: 0.35em; vertical-align: middle; margin-left: 0.5rem\">TIME</span>\n",
       "</mark>\n",
       ", drive \n",
       "<mark class=\"entity\" style=\"background: #bfe1d9; padding: 0.45em 0.6em; margin: 0 0.25em; line-height: 1; border-radius: 0.35em;\">\n",
       "    all night\n",
       "    <span style=\"font-size: 0.8em; font-weight: bold; line-height: 1; border-radius: 0.35em; vertical-align: middle; margin-left: 0.5rem\">TIME</span>\n",
       "</mark>\n",
       "  You and me, history I'm running from the rest of my life Through the darkness, I see your eyes And realize that I, that I  Drive When you find a love that's right You can drive \n",
       "<mark class=\"entity\" style=\"background: #bfe1d9; padding: 0.45em 0.6em; margin: 0 0.25em; line-height: 1; border-radius: 0.35em;\">\n",
       "    all night\n",
       "    <span style=\"font-size: 0.8em; font-weight: bold; line-height: 1; border-radius: 0.35em; vertical-align: middle; margin-left: 0.5rem\">TIME</span>\n",
       "</mark>\n",
       ", drive \n",
       "<mark class=\"entity\" style=\"background: #bfe1d9; padding: 0.45em 0.6em; margin: 0 0.25em; line-height: 1; border-radius: 0.35em;\">\n",
       "    all night\n",
       "    <span style=\"font-size: 0.8em; font-weight: bold; line-height: 1; border-radius: 0.35em; vertical-align: middle; margin-left: 0.5rem\">TIME</span>\n",
       "</mark>\n",
       " (ah, ah) Do what makes you feel alive You can drive \n",
       "<mark class=\"entity\" style=\"background: #bfe1d9; padding: 0.45em 0.6em; margin: 0 0.25em; line-height: 1; border-radius: 0.35em;\">\n",
       "    all night\n",
       "    <span style=\"font-size: 0.8em; font-weight: bold; line-height: 1; border-radius: 0.35em; vertical-align: middle; margin-left: 0.5rem\">TIME</span>\n",
       "</mark>\n",
       ", drive all night 'Cause the road's calling, over again \n",
       "<mark class=\"entity\" style=\"background: #aa9cfc; padding: 0.45em 0.6em; margin: 0 0.25em; line-height: 1; border-radius: 0.35em;\">\n",
       "    Ride\n",
       "    <span style=\"font-size: 0.8em; font-weight: bold; line-height: 1; border-radius: 0.35em; vertical-align: middle; margin-left: 0.5rem\">PERSON</span>\n",
       "</mark>\n",
       " 'til the morning Ride 'til the end, oh When you find a love that's right You can drive \n",
       "<mark class=\"entity\" style=\"background: #bfe1d9; padding: 0.45em 0.6em; margin: 0 0.25em; line-height: 1; border-radius: 0.35em;\">\n",
       "    all night\n",
       "    <span style=\"font-size: 0.8em; font-weight: bold; line-height: 1; border-radius: 0.35em; vertical-align: middle; margin-left: 0.5rem\">TIME</span>\n",
       "</mark>\n",
       ", drive all night  Drive all night Sending out an SOS Sending out an SOS Sending out an SOS Sending out an \n",
       "<mark class=\"entity\" style=\"background: #7aecec; padding: 0.45em 0.6em; margin: 0 0.25em; line-height: 1; border-radius: 0.35em;\">\n",
       "    SOS\n",
       "    <span style=\"font-size: 0.8em; font-weight: bold; line-height: 1; border-radius: 0.35em; vertical-align: middle; margin-left: 0.5rem\">ORG</span>\n",
       "</mark>\n",
       "  Just a castaway, an island lost at sea, oh Another lonely day With no one here but me, oh More loneliness than any man could bear Rescue me before I fall into despair, oh  Sending out an SOS Sending out an SOS Sending out an SOS Sending out an SOS  Message in a bottle, yeah Message in a bottle, yeah  Walked out \n",
       "<mark class=\"entity\" style=\"background: #bfe1d9; padding: 0.45em 0.6em; margin: 0 0.25em; line-height: 1; border-radius: 0.35em;\">\n",
       "    this morning\n",
       "    <span style=\"font-size: 0.8em; font-weight: bold; line-height: 1; border-radius: 0.35em; vertical-align: middle; margin-left: 0.5rem\">TIME</span>\n",
       "</mark>\n",
       " Don't believe what I saw \n",
       "<mark class=\"entity\" style=\"background: #e4e7d2; padding: 0.45em 0.6em; margin: 0 0.25em; line-height: 1; border-radius: 0.35em;\">\n",
       "    Hundred billion\n",
       "    <span style=\"font-size: 0.8em; font-weight: bold; line-height: 1; border-radius: 0.35em; vertical-align: middle; margin-left: 0.5rem\">CARDINAL</span>\n",
       "</mark>\n",
       " bottles Washed up on the shore Seems I'm not alone at being alone \n",
       "<mark class=\"entity\" style=\"background: #e4e7d2; padding: 0.45em 0.6em; margin: 0 0.25em; line-height: 1; border-radius: 0.35em;\">\n",
       "    Hundred billion\n",
       "    <span style=\"font-size: 0.8em; font-weight: bold; line-height: 1; border-radius: 0.35em; vertical-align: middle; margin-left: 0.5rem\">CARDINAL</span>\n",
       "</mark>\n",
       " castaways Looking for a home  Sending out an SOS Sending out an SOS Sending out an SOS Sending out an SOS  Message in a bottle, yeah I don't trust nobody I don't even trust my mind \n",
       "<mark class=\"entity\" style=\"background: #aa9cfc; padding: 0.45em 0.6em; margin: 0 0.25em; line-height: 1; border-radius: 0.35em;\">\n",
       "    Losin\n",
       "    <span style=\"font-size: 0.8em; font-weight: bold; line-height: 1; border-radius: 0.35em; vertical-align: middle; margin-left: 0.5rem\">PERSON</span>\n",
       "</mark>\n",
       "' everybody They can never take the grind People always switchin' sides People always hit my line Never ask me how I'm doin' They just wanna waste my time So I don't hate nobody Just stay up out my life  And I won't hurt nobody So just stay up out my sights People always hold me down They just told me that I'd drown When you livin' how I'm livin' All these leeches come around  'Cause we don't trust nobody We don't even trust our minds \n",
       "<mark class=\"entity\" style=\"background: #aa9cfc; padding: 0.45em 0.6em; margin: 0 0.25em; line-height: 1; border-radius: 0.35em;\">\n",
       "    Losin\n",
       "    <span style=\"font-size: 0.8em; font-weight: bold; line-height: 1; border-radius: 0.35em; vertical-align: middle; margin-left: 0.5rem\">PERSON</span>\n",
       "</mark>\n",
       "' everybody From them drugs to suicide I was always gettin' high Never took a look outside I was livin' in the dark \n",
       "<mark class=\"entity\" style=\"background: #aa9cfc; padding: 0.45em 0.6em; margin: 0 0.25em; line-height: 1; border-radius: 0.35em;\">\n",
       "    Thinkin\n",
       "    <span style=\"font-size: 0.8em; font-weight: bold; line-height: 1; border-radius: 0.35em; vertical-align: middle; margin-left: 0.5rem\">PERSON</span>\n",
       "</mark>\n",
       "' I would never shine  Now I got everybody If I want it then it's mine So I help everybody I'm thinkin' back when it was time I was broken, I was down I was lost but now I'm found I was fightin' in the trenches With no one ever around So fuck everybody If you want it come and get it I won't hurt nobody I'm a motherfuckin' menace I was showerin' at the school I was sleepin' out the Civic I was skippin' on my meals I was reachin' all my limits  I don't trust nobody I don't even trust my mind I'm losin' everybody They can never take the grind People always switchin' sides People always hit my line Never ask me how I'm doin' They just wanna waste my time So I don't hate nobody Just stay up out my life And I won't hurt nobody  So just stay up out my sights People always hold me down They just told me that I'd drown When you livin' how I'm livin' All these leeches come around  'Cause they robbed all my money And I'll never get it back I don't fault nobody 'Cause I'm comin' fuckin' back I just listen to my lawyers But the judge don't listen back See they got this full disclosure And they comin' for my neck They don't know shit about me So just give me my respect All the music that I've made I ain't never got a check  I been doin' all this shit With like \n",
       "<mark class=\"entity\" style=\"background: #e4e7d2; padding: 0.45em 0.6em; margin: 0 0.25em; line-height: 1; border-radius: 0.35em;\">\n",
       "    two\n",
       "    <span style=\"font-size: 0.8em; font-weight: bold; line-height: 1; border-radius: 0.35em; vertical-align: middle; margin-left: 0.5rem\">CARDINAL</span>\n",
       "</mark>\n",
       " hands behind my back I just focus on my shows 'Cause that's the only thing that's left You don't know shit about me That's the reason why you don't come around me You're scared of me cause I'm talkin' loudly You can blow that smoke Won't come around me  You can talk that shit but don't know about it I see that shit don't talk about it But I will spray no silver at it 'Cause it's \n",
       "<mark class=\"entity\" style=\"background: #bfe1d9; padding: 0.45em 0.6em; margin: 0 0.25em; line-height: 1; border-radius: 0.35em;\">\n",
       "    five years\n",
       "    <span style=\"font-size: 0.8em; font-weight: bold; line-height: 1; border-radius: 0.35em; vertical-align: middle; margin-left: 0.5rem\">DATE</span>\n",
       "</mark>\n",
       " I don't own shit and I'm still drivin'  Like fuck You lift my heart up When the rest of me is down You, you enchant me, even when you're not around  If there are boundaries, I will try to knock them down I'm latching on babe Now I know what I have found  I feel we're close enough I wanna lock in your love I think we're close enough Could I lock in your love, baby?  Now I got you in my space I won't let go of you Got you shackled in my embrace I'm latching on to you  Now I got you in my space I won't let go of you Got you shackled in my embrace I'm latching on to you  I'm so encaptured, got me wrapped up in your touch Feel so enamored, hold me tight within your clutch How do you do it, you got me losing every breath What did you give me to make my heart beat out my chest?  I feel we're close enough I wanna lock in your love I think we're close enough Could I lock in your love, baby? I think we're close enough I wanna lock in your love I think we're close enough Could I lock in your love, baby?  Now I got you in my space I won't let go of you Got you shackled in my embrace I'm latching on to you  Now I got you in my space I won't let go with you Got you shackled in my embrace I'm latching on to you I'm latching on to you  (I'm latching on to you) I won't let go of you (I won't let go) Got you shackled in my embrace (I don't wanna let go) I'm latching on to you (I won't let go, I won't let go)  (I won't let go, I won't let go) Open up your heart, what do you feel Open up your heart, what do you feel is real, yeah The big bang may be \n",
       "<mark class=\"entity\" style=\"background: #bfe1d9; padding: 0.45em 0.6em; margin: 0 0.25em; line-height: 1; border-radius: 0.35em;\">\n",
       "    a million years\n",
       "    <span style=\"font-size: 0.8em; font-weight: bold; line-height: 1; border-radius: 0.35em; vertical-align: middle; margin-left: 0.5rem\">DATE</span>\n",
       "</mark>\n",
       " away, oh But I can't think of a better time to say  Look inside, you'll find a deeper love The kind that only comes from high above If you'll ever meet your inner child, don't cry, no, no Tell them everything is gonna be alright  World, hold on instead of messing with our future Open up inside \n",
       "<mark class=\"entity\" style=\"background: #7aecec; padding: 0.45em 0.6em; margin: 0 0.25em; line-height: 1; border-radius: 0.35em;\">\n",
       "    World\n",
       "    <span style=\"font-size: 0.8em; font-weight: bold; line-height: 1; border-radius: 0.35em; vertical-align: middle; margin-left: 0.5rem\">ORG</span>\n",
       "</mark>\n",
       ", hold on, one day you will have to answer To the children of the sky  World, hold on, instead of messing with our future Tell me no more lies \n",
       "<mark class=\"entity\" style=\"background: #f0d0ff; padding: 0.45em 0.6em; margin: 0 0.25em; line-height: 1; border-radius: 0.35em;\">\n",
       "    World\n",
       "    <span style=\"font-size: 0.8em; font-weight: bold; line-height: 1; border-radius: 0.35em; vertical-align: middle; margin-left: 0.5rem\">WORK_OF_ART</span>\n",
       "</mark>\n",
       ", hold on, one day you will have to answer To the children of the sky  World, hold on instead of messing with our future Open up inside \n",
       "<mark class=\"entity\" style=\"background: #7aecec; padding: 0.45em 0.6em; margin: 0 0.25em; line-height: 1; border-radius: 0.35em;\">\n",
       "    World\n",
       "    <span style=\"font-size: 0.8em; font-weight: bold; line-height: 1; border-radius: 0.35em; vertical-align: middle; margin-left: 0.5rem\">ORG</span>\n",
       "</mark>\n",
       ", hold on, one day you will have to answer To the children of the sky  World, hold on, instead of messing with our future Tell me no more lies \n",
       "<mark class=\"entity\" style=\"background: #f0d0ff; padding: 0.45em 0.6em; margin: 0 0.25em; line-height: 1; border-radius: 0.35em;\">\n",
       "    World\n",
       "    <span style=\"font-size: 0.8em; font-weight: bold; line-height: 1; border-radius: 0.35em; vertical-align: middle; margin-left: 0.5rem\">WORK_OF_ART</span>\n",
       "</mark>\n",
       ", hold on, one day you will have to answer To the children of the sky  World, hold on instead of messing with our future Open up inside \n",
       "<mark class=\"entity\" style=\"background: #7aecec; padding: 0.45em 0.6em; margin: 0 0.25em; line-height: 1; border-radius: 0.35em;\">\n",
       "    World\n",
       "    <span style=\"font-size: 0.8em; font-weight: bold; line-height: 1; border-radius: 0.35em; vertical-align: middle; margin-left: 0.5rem\">ORG</span>\n",
       "</mark>\n",
       ", hold on, one day you will have to answer To the children of the sky  World, hold on, instead of messing with our future Tell me no more lies \n",
       "<mark class=\"entity\" style=\"background: #f0d0ff; padding: 0.45em 0.6em; margin: 0 0.25em; line-height: 1; border-radius: 0.35em;\">\n",
       "    World\n",
       "    <span style=\"font-size: 0.8em; font-weight: bold; line-height: 1; border-radius: 0.35em; vertical-align: middle; margin-left: 0.5rem\">WORK_OF_ART</span>\n",
       "</mark>\n",
       ", hold on, one day you will have to answer To the children of the sky It's the most wonderful time of the year With the kids jingle belling And everyone telling you, &quot;Be of good cheer!&quot; It's the most wonderful time of the year  It's the hap-happiest season of all With those holiday greetings and gay happy meetings When friends come to call It's the hap-happiest season of all  There'll be parties for hosting \n",
       "<mark class=\"entity\" style=\"background: #aa9cfc; padding: 0.45em 0.6em; margin: 0 0.25em; line-height: 1; border-radius: 0.35em;\">\n",
       "    Marshmallows\n",
       "    <span style=\"font-size: 0.8em; font-weight: bold; line-height: 1; border-radius: 0.35em; vertical-align: middle; margin-left: 0.5rem\">PERSON</span>\n",
       "</mark>\n",
       " for toasting And caroling out in the snow There'll be scary ghost stories And tales of the glories of Christmases long, long ago  It's the most wonderful time of the year There'll be much mistletoeing And hearts will be glowing when loved ones are near It's the most wonderful time of the year  There'll be parties for hosting \n",
       "<mark class=\"entity\" style=\"background: #aa9cfc; padding: 0.45em 0.6em; margin: 0 0.25em; line-height: 1; border-radius: 0.35em;\">\n",
       "    Marshmallows\n",
       "    <span style=\"font-size: 0.8em; font-weight: bold; line-height: 1; border-radius: 0.35em; vertical-align: middle; margin-left: 0.5rem\">PERSON</span>\n",
       "</mark>\n",
       " for toasting And caroling out in the snow There'll be scary ghost stories And tales of the glories of Christmases long, long ago  It's the most wonderful time of the year There'll be much mistletoeing And hearts will be glowing when loved ones are near It's the most wonderful time Yes, the most wonderful time Oh, the most wonderful time of the yeah Welcome to the \n",
       "<mark class=\"entity\" style=\"background: #bfe1d9; padding: 0.45em 0.6em; margin: 0 0.25em; line-height: 1; border-radius: 0.35em;\">\n",
       "    Five Nights\n",
       "    <span style=\"font-size: 0.8em; font-weight: bold; line-height: 1; border-radius: 0.35em; vertical-align: middle; margin-left: 0.5rem\">DATE</span>\n",
       "</mark>\n",
       " at \n",
       "<mark class=\"entity\" style=\"background: #7aecec; padding: 0.45em 0.6em; margin: 0 0.25em; line-height: 1; border-radius: 0.35em;\">\n",
       "    Freddy's\n",
       "    <span style=\"font-size: 0.8em; font-weight: bold; line-height: 1; border-radius: 0.35em; vertical-align: middle; margin-left: 0.5rem\">ORG</span>\n",
       "</mark>\n",
       " Experience For your safety For the children's safety And for those around you Run Run Run Run Run Run Run Run  Let me welcome you New comer to your job If you listen You'll survive this I believe that You can overcome the terrors That you'll see here The puppet's watching Always stalking  Be careful now  Second night Will we survive  This demonized \n",
       "<mark class=\"entity\" style=\"background: #7aecec; padding: 0.45em 0.6em; margin: 0 0.25em; line-height: 1; border-radius: 0.35em;\">\n",
       "    Animatronic\n",
       "    <span style=\"font-size: 0.8em; font-weight: bold; line-height: 1; border-radius: 0.35em; vertical-align: middle; margin-left: 0.5rem\">ORG</span>\n",
       "</mark>\n",
       "?  Come third night  I've lost my sight Reset the cameras Seal the air vent  Listen closely Hear him crawling In the air ducts \n",
       "<mark class=\"entity\" style=\"background: #aa9cfc; padding: 0.45em 0.6em; margin: 0 0.25em; line-height: 1; border-radius: 0.35em;\">\n",
       "    System\n",
       "    <span style=\"font-size: 0.8em; font-weight: bold; line-height: 1; border-radius: 0.35em; vertical-align: middle; margin-left: 0.5rem\">PERSON</span>\n",
       "</mark>\n",
       " reset!  Hallucinating Vision fading They're watching me Anticipating  Run run Crash the system Run run From Freddy Run run Will you make it? Run run Keep it steady Run run  While they're not here Run run \n",
       "<mark class=\"entity\" style=\"background: #7aecec; padding: 0.45em 0.6em; margin: 0 0.25em; line-height: 1; border-radius: 0.35em;\">\n",
       "    Mangle\n",
       "    <span style=\"font-size: 0.8em; font-weight: bold; line-height: 1; border-radius: 0.35em; vertical-align: middle; margin-left: 0.5rem\">ORG</span>\n",
       "</mark>\n",
       "'s screaming Run run System error Run run  Watch your breathing  Run run Crash the system Run run From Freddy Run run Will you make it? Run run  Keep it steady Run run While they're not here Run run \n",
       "<mark class=\"entity\" style=\"background: #7aecec; padding: 0.45em 0.6em; margin: 0 0.25em; line-height: 1; border-radius: 0.35em;\">\n",
       "    Mangle\n",
       "    <span style=\"font-size: 0.8em; font-weight: bold; line-height: 1; border-radius: 0.35em; vertical-align: middle; margin-left: 0.5rem\">ORG</span>\n",
       "</mark>\n",
       "'s screaming Run run System error Run run Watch your breathing Run run Crash the system Run run From Freddy Run run Will you make it? Run run Keep it steady Run run While they're not here Run run \n",
       "<mark class=\"entity\" style=\"background: #7aecec; padding: 0.45em 0.6em; margin: 0 0.25em; line-height: 1; border-radius: 0.35em;\">\n",
       "    Mangle\n",
       "    <span style=\"font-size: 0.8em; font-weight: bold; line-height: 1; border-radius: 0.35em; vertical-align: middle; margin-left: 0.5rem\">ORG</span>\n",
       "</mark>\n",
       "'s screaming Run run System error Run run Watch your breathing Run run Run run Run run Run run Run run Run run Run run Run run  Now it's \n",
       "<mark class=\"entity\" style=\"background: #bfe1d9; padding: 0.45em 0.6em; margin: 0 0.25em; line-height: 1; border-radius: 0.35em;\">\n",
       "    6 a.m.\n",
       "    <span style=\"font-size: 0.8em; font-weight: bold; line-height: 1; border-radius: 0.35em; vertical-align: middle; margin-left: 0.5rem\">TIME</span>\n",
       "</mark>\n",
       " You've made it through the night \n",
       "<mark class=\"entity\" style=\"background: #e4e7d2; padding: 0.45em 0.6em; margin: 0 0.25em; line-height: 1; border-radius: 0.35em;\">\n",
       "    One\n",
       "    <span style=\"font-size: 0.8em; font-weight: bold; line-height: 1; border-radius: 0.35em; vertical-align: middle; margin-left: 0.5rem\">CARDINAL</span>\n",
       "</mark>\n",
       " more down \n",
       "<mark class=\"entity\" style=\"background: #e4e7d2; padding: 0.45em 0.6em; margin: 0 0.25em; line-height: 1; border-radius: 0.35em;\">\n",
       "    Two\n",
       "    <span style=\"font-size: 0.8em; font-weight: bold; line-height: 1; border-radius: 0.35em; vertical-align: middle; margin-left: 0.5rem\">CARDINAL</span>\n",
       "</mark>\n",
       " more to go How long can you survive? The terror here It's very very real \n",
       "<mark class=\"entity\" style=\"background: #bfe1d9; padding: 0.45em 0.6em; margin: 0 0.25em; line-height: 1; border-radius: 0.35em;\">\n",
       "    Five nights\n",
       "    <span style=\"font-size: 0.8em; font-weight: bold; line-height: 1; border-radius: 0.35em; vertical-align: middle; margin-left: 0.5rem\">TIME</span>\n",
       "</mark>\n",
       " You'll simple just live or you'll die I'm so tired of playing Playing with this bow and arrow \n",
       "<mark class=\"entity\" style=\"background: #aa9cfc; padding: 0.45em 0.6em; margin: 0 0.25em; line-height: 1; border-radius: 0.35em;\">\n",
       "    Gon\n",
       "    <span style=\"font-size: 0.8em; font-weight: bold; line-height: 1; border-radius: 0.35em; vertical-align: middle; margin-left: 0.5rem\">PERSON</span>\n",
       "</mark>\n",
       "na give my heart away Leave it to the other girls to play For I've been a temptress too long Just...  Give me a reason to love you Give me a reason to be a woman I just wanna be a woman  From this time, unchained We're all looking at a different picture Through this new frame of mind \n",
       "<mark class=\"entity\" style=\"background: #e4e7d2; padding: 0.45em 0.6em; margin: 0 0.25em; line-height: 1; border-radius: 0.35em;\">\n",
       "    A thousand\n",
       "    <span style=\"font-size: 0.8em; font-weight: bold; line-height: 1; border-radius: 0.35em; vertical-align: middle; margin-left: 0.5rem\">CARDINAL</span>\n",
       "</mark>\n",
       " flowers could bloom Move over and give us some room, yeah  Give me a reason to love you Give me a reason to be a woman I just want to be a woman  So don't you stop being a man Just take a little look From our side when you can Sow a little tenderness No matter if you cry  Give me a reason to love you Give me a reason to be a woman I just want to be a woman  It's all I wanna be, is all a woman For this is the beginning Of forever and ever It's time to move over It's all I want to be  I'm so tired of playing Playing with this bow and arrow \n",
       "<mark class=\"entity\" style=\"background: #aa9cfc; padding: 0.45em 0.6em; margin: 0 0.25em; line-height: 1; border-radius: 0.35em;\">\n",
       "    Gon\n",
       "    <span style=\"font-size: 0.8em; font-weight: bold; line-height: 1; border-radius: 0.35em; vertical-align: middle; margin-left: 0.5rem\">PERSON</span>\n",
       "</mark>\n",
       "na give my heart away Leave it to the other girls to play For I've been a temptress too long Just...  Give me a reason to love you \n",
       "<mark class=\"entity\" style=\"background: #aa9cfc; padding: 0.45em 0.6em; margin: 0 0.25em; line-height: 1; border-radius: 0.35em;\">\n",
       "    Lo\n",
       "    <span style=\"font-size: 0.8em; font-weight: bold; line-height: 1; border-radius: 0.35em; vertical-align: middle; margin-left: 0.5rem\">PERSON</span>\n",
       "</mark>\n",
       "-lo-lo, love Lo-lo-lo, love Lo-lo-lo, lo-lo-love  So outspoken, you don't even notice Every word you say gets right under my skin Out of focus but your heart is open Always trying but I feel like giving in  Keep breaking hearts to pieces I know I'm beyond the reason I'm afraid you're getting over us  Wasted love, don't give up But you're tryna save us, am I trying not to? Get wasted, love, wake me up Oh, tell me I'm dreaming, and say this ain't another wasted love  Lo-lo-lo, love Lo-lo-lo, love Lo-lo-lo, lo-lo-love Wasted love Lo-lo-lo, love Lo-lo-lo, love Lo-lo-lo, lo-lo-love  My emotions overflowing oceans Takes me to the point I can't control myself If I knew how to find the words, I'd tell you I admit that sometimes I can use your help  Keep breaking hearts to pieces I know I'm beyond the reason I'm afraid you're getting over us  Wasted love, don't give up But you're tryna save us, am I trying not to? Get wasted, love, wake me up Oh, tell me I'm dreaming, and say this ain't another wasted love  Lo-lo-lo, love Lo-lo-lo, love Lo-lo-lo, lo-lo-love Wasted love Lo-lo-lo, love Lo-lo-lo, love Lo-lo-lo, lo-lo-love Wasted love  Wasted love  Wasted love I was on fire for you Where did you go? I could've died for you How could you not know? I was alive with you But you brought in the cold Was I being lied to? Wish I never met you Started to regret you  My heart just dropped Thinking about you My heart just stops When I'm without you  I was on fire for you  I was on fire for you  I was on fire for you You breaking me down Don't know what should I do When you come around I'm leaving without you, love I have no choice I know I'm being lied to I just need some time to Stop thinking about you  My heart just dropped Thinking about you My heart just stops When I'm without you  My heart just dropped Thinking about you My heart just stops When I'm without you  I was on fire for you  I was on fire for you  I was on fire for you  I was on fire for you  I was on fire for you I'm giving you a night call to tell you how I feel I want to drive you through the night, down the hills I'm gonna tell you something you don't want to hear I'm gonna show you where it's dark, but have no fear  There's something inside you It's hard to explain They're talking about you boy But you're still the same  There's something inside you It's hard to explain They're talking about you boy But you're still the same  I'm giving you a night call to tell you how I feel I want to drive you through the night, down the hills I'm gonna tell you something you don't want to hear I'm gonna show you where it's dark, but have no fear  There's something inside you It's hard to explain They're talking about you boy But you're still the same  There's something inside you It's hard to explain They're talking about you boy But you're still the same  There's something inside you (there's something inside you) It's hard to explain (it's hard to explain) They're talking about you boy (they're talking about you boy) But you're still the same I fly like paper, get high like planes If you catch me at the border I got visas in my name If you come around here, I make 'em all day I get one done in a \n",
       "<mark class=\"entity\" style=\"background: #e4e7d2; padding: 0.45em 0.6em; margin: 0 0.25em; line-height: 1; border-radius: 0.35em;\">\n",
       "    second\n",
       "    <span style=\"font-size: 0.8em; font-weight: bold; line-height: 1; border-radius: 0.35em; vertical-align: middle; margin-left: 0.5rem\">ORDINAL</span>\n",
       "</mark>\n",
       " if you wait  I fly like paper, get high like planes If you catch me at the border, I got visas in my name If you come around here, I make 'em all day I get one done in a \n",
       "<mark class=\"entity\" style=\"background: #e4e7d2; padding: 0.45em 0.6em; margin: 0 0.25em; line-height: 1; border-radius: 0.35em;\">\n",
       "    second\n",
       "    <span style=\"font-size: 0.8em; font-weight: bold; line-height: 1; border-radius: 0.35em; vertical-align: middle; margin-left: 0.5rem\">ORDINAL</span>\n",
       "</mark>\n",
       " if you wait  Sometimes I think sittin' on trains Every stop I get to I'm clocking that game \n",
       "<mark class=\"entity\" style=\"background: #7aecec; padding: 0.45em 0.6em; margin: 0 0.25em; line-height: 1; border-radius: 0.35em;\">\n",
       "    Everyone\n",
       "    <span style=\"font-size: 0.8em; font-weight: bold; line-height: 1; border-radius: 0.35em; vertical-align: middle; margin-left: 0.5rem\">ORG</span>\n",
       "</mark>\n",
       "'s a winner, we're making our fame \n",
       "<mark class=\"entity\" style=\"background: #ddd; padding: 0.45em 0.6em; margin: 0 0.25em; line-height: 1; border-radius: 0.35em;\">\n",
       "    Bona\n",
       "    <span style=\"font-size: 0.8em; font-weight: bold; line-height: 1; border-radius: 0.35em; vertical-align: middle; margin-left: 0.5rem\">FAC</span>\n",
       "</mark>\n",
       " fide hustler making my name  Sometimes I think sittin' on trains Every stop I get to I'm clocking that game \n",
       "<mark class=\"entity\" style=\"background: #7aecec; padding: 0.45em 0.6em; margin: 0 0.25em; line-height: 1; border-radius: 0.35em;\">\n",
       "    Everyone\n",
       "    <span style=\"font-size: 0.8em; font-weight: bold; line-height: 1; border-radius: 0.35em; vertical-align: middle; margin-left: 0.5rem\">ORG</span>\n",
       "</mark>\n",
       "'s a winner, we're making our fame \n",
       "<mark class=\"entity\" style=\"background: #ddd; padding: 0.45em 0.6em; margin: 0 0.25em; line-height: 1; border-radius: 0.35em;\">\n",
       "    Bona\n",
       "    <span style=\"font-size: 0.8em; font-weight: bold; line-height: 1; border-radius: 0.35em; vertical-align: middle; margin-left: 0.5rem\">FAC</span>\n",
       "</mark>\n",
       " fide hustler making my name  All I wanna do is- And a- And take your money All I wanna do is- And a- And take your money  All I wanna do is- And a- And take your money All I wanna do is- And a- And take your money  Pirate skulls and bones Sticks and stones and weed and bongs Running when we hit 'em \n",
       "<mark class=\"entity\" style=\"background: #c887fb; padding: 0.45em 0.6em; margin: 0 0.25em; line-height: 1; border-radius: 0.35em;\">\n",
       "    Lethal\n",
       "    <span style=\"font-size: 0.8em; font-weight: bold; line-height: 1; border-radius: 0.35em; vertical-align: middle; margin-left: 0.5rem\">NORP</span>\n",
       "</mark>\n",
       " poison for the system  Pirate skulls and bones Sticks and stones and weed and bongs Running when we hit 'em \n",
       "<mark class=\"entity\" style=\"background: #c887fb; padding: 0.45em 0.6em; margin: 0 0.25em; line-height: 1; border-radius: 0.35em;\">\n",
       "    Lethal\n",
       "    <span style=\"font-size: 0.8em; font-weight: bold; line-height: 1; border-radius: 0.35em; vertical-align: middle; margin-left: 0.5rem\">NORP</span>\n",
       "</mark>\n",
       " poison for the system  No one on the corner has swagger like us Hit me on my burner prepaid wireless We pack and deliver like \n",
       "<mark class=\"entity\" style=\"background: #7aecec; padding: 0.45em 0.6em; margin: 0 0.25em; line-height: 1; border-radius: 0.35em;\">\n",
       "    UPS\n",
       "    <span style=\"font-size: 0.8em; font-weight: bold; line-height: 1; border-radius: 0.35em; vertical-align: middle; margin-left: 0.5rem\">ORG</span>\n",
       "</mark>\n",
       " trucks Already going to hell, just pumping that gas  No one on the corner has swagger like us Hit me on my burner prepaid wireless We pack and deliver like \n",
       "<mark class=\"entity\" style=\"background: #7aecec; padding: 0.45em 0.6em; margin: 0 0.25em; line-height: 1; border-radius: 0.35em;\">\n",
       "    UPS\n",
       "    <span style=\"font-size: 0.8em; font-weight: bold; line-height: 1; border-radius: 0.35em; vertical-align: middle; margin-left: 0.5rem\">ORG</span>\n",
       "</mark>\n",
       " trucks Already going to hell, just pumping that gas  All I wanna do is- And a- And take your money All I wanna do is- And a- And take your money  All I wanna do is- And a- And take your money All I wanna do is- And a- And take your money  M.I.A Third world democracy Yeah, I've got more records than the \n",
       "<mark class=\"entity\" style=\"background: #7aecec; padding: 0.45em 0.6em; margin: 0 0.25em; line-height: 1; border-radius: 0.35em;\">\n",
       "    KGB\n",
       "    <span style=\"font-size: 0.8em; font-weight: bold; line-height: 1; border-radius: 0.35em; vertical-align: middle; margin-left: 0.5rem\">ORG</span>\n",
       "</mark>\n",
       " So, uh, no funny business (Are you ready all?)  Some, some, some I, some I murder Some, I some I let go Some, some, some I, some I murder Some I, some I let go  All I wanna do is- And a- And take your money All I wanna do is- And a- And take your money  All I wanna do is- And a- And take your money All I wanna do is- And a- And take your money Shake it Don't stop Shake it Don't stop Shake it Don't stop Shake it Don't stop  Shake ayy ass Don't stop Shake ayy ass Shake it Shake ayy ass Don't stop Shake it Shake ayy ass Don't stop Shake it Don't stop Shake ayy ass Don't stop Shake it Don't stop Shake it Don't stop  Shake ayy ass Don't stop Shake ayy ass Shake it Don't stop Shake it Shake shake shake shake ayy ass We must have been stone crazy When we thought we were just friends 'Cause I miss you, baby And I've got those feelings again  I guess I'm all confused about you I feel so in love Oh, baby, what can I do?  I've been thinking about you I've been thinking about you I've been thinking about you I've been thinking about you  Suddenly we're strangers I watch you walkin' away She was my \n",
       "<mark class=\"entity\" style=\"background: #e4e7d2; padding: 0.45em 0.6em; margin: 0 0.25em; line-height: 1; border-radius: 0.35em;\">\n",
       "    one\n",
       "    <span style=\"font-size: 0.8em; font-weight: bold; line-height: 1; border-radius: 0.35em; vertical-align: middle; margin-left: 0.5rem\">CARDINAL</span>\n",
       "</mark>\n",
       " temptation Oh, I did not want her to stay  Deep down, I'm still confused about you Oh, yes I have baby I feel so in love Oh, baby, what can I do?  I've been thinking about you I've been thinking about you I've been thinking about you I've been thinking about you Got you on my mind  I've been thinking about you I've been thinking about you I've been thinking about you I've been thinking about you Got you on my mind  What good is being here without you? I wanna know I feel so in love Oh, baby, what can I do?  I've been thinking about you I've been thinking about you I've been thinking about you, uhh-yeah I've been thinking about you  I've been thinking about you Oh baby, can't get you out of my mind I've been thinking about you I've been thinking about you You read me baby, I think about you all the time I've been thinking about you I've been thinking about you Got you on my mind I've been thinking about you I've been thinking about you I caught you watching me under the light Can I realign? They say it's easy to leave you behind I don't wanna try  Come, come and take that test Hold courage to your chest Don't wanna wait for you Don't wanna have to lose All that I've compromised To feel another high I've got to keep it down \n",
       "<mark class=\"entity\" style=\"background: #bfe1d9; padding: 0.45em 0.6em; margin: 0 0.25em; line-height: 1; border-radius: 0.35em;\">\n",
       "    tonight\n",
       "    <span style=\"font-size: 0.8em; font-weight: bold; line-height: 1; border-radius: 0.35em; vertical-align: middle; margin-left: 0.5rem\">TIME</span>\n",
       "</mark>\n",
       "  And oh, oh, oh I was a King under your control And oh, oh, oh I wanna feel like you've let me go So let me go  Don't you remember how I used to like Being on the line? I dreamed you dreamed of me calling out my name Is it worth the price?  Come, come and take that test Hold courage to your chest Don't wanna wait for you Don't wanna have to lose All that I've compromised To feel another high I've got to keep it down \n",
       "<mark class=\"entity\" style=\"background: #bfe1d9; padding: 0.45em 0.6em; margin: 0 0.25em; line-height: 1; border-radius: 0.35em;\">\n",
       "    tonight\n",
       "    <span style=\"font-size: 0.8em; font-weight: bold; line-height: 1; border-radius: 0.35em; vertical-align: middle; margin-left: 0.5rem\">TIME</span>\n",
       "</mark>\n",
       "  And oh, oh, oh I was a King under your control And oh, oh, oh I wanna feel like you've let me go  I had to break myself to carry on No love and no admission Take this from me \n",
       "<mark class=\"entity\" style=\"background: #bfe1d9; padding: 0.45em 0.6em; margin: 0 0.25em; line-height: 1; border-radius: 0.35em;\">\n",
       "    tonight\n",
       "    <span style=\"font-size: 0.8em; font-weight: bold; line-height: 1; border-radius: 0.35em; vertical-align: middle; margin-left: 0.5rem\">TIME</span>\n",
       "</mark>\n",
       "  Oh oh, let's fight Oh oh, let's fight Oh oh, let's fight Oh oh  And oh, oh, oh I was a King under your control And oh, oh, oh I wanna feel like you've let me go So let me go  Let go, let go, let go of everything Let go, let go, let go of everything Let go, let go, let go of everything Let go, let go, let go of everything I still hear your voice when you sleep next to me I still feel your touch in my dreams (in my dreams) Forgive me, my weakness, but I don't know why Without you, it's hard to survive  'Cause every time we touch, I get this feeling And every time we kiss, I swear I can fly Can't you feel my heart beat fast? I want this to last Need you by my side  'Cause every time we touch, I feel the static And every time we kiss, I reach for the sky Can't you hear my heart beat slow? I can't let you go I want you in my life  Your arms are my castle, your heart is my sky They wipe away tears that I cry (that I cry) The good and the bad times, we've been through them all You make me rise when I fall  'Cause every time we touch, I get this feeling And every time we kiss, I swear I can fly Can't you feel my heart beat fast? I want this to last Need you by my side  'Cause every time we touch, I feel the static And every time we kiss, I reach for the sky Can't you hear my heart beat slow? I can't let you go Want you in my life  'Cause every time we touch, I get this feeling And every time we kiss, I swear I can fly Can't you feel my heart beat fast? I want this to last Need you by my side</div></span>"
      ],
      "text/plain": [
       "<IPython.core.display.HTML object>"
      ]
     },
     "metadata": {},
     "output_type": "display_data"
    }
   ],
   "source": [
    "# Run the NER processor on all of the text\n",
    "edm_ner = nlp(lyrics_text)\n",
    "\n",
    "# Add a title to the document\n",
    "edm_ner.user_data['title'] = 'EDM NER'\n",
    "displacy.render(edm_ner, style='ent')"
   ]
  },
  {
   "cell_type": "code",
   "execution_count": 216,
   "id": "5dc891ce-6033-4703-bd14-8a250b4ea629",
   "metadata": {},
   "outputs": [
    {
     "data": {
      "text/html": [
       "<div>\n",
       "<style scoped>\n",
       "    .dataframe tbody tr th:only-of-type {\n",
       "        vertical-align: middle;\n",
       "    }\n",
       "\n",
       "    .dataframe tbody tr th {\n",
       "        vertical-align: top;\n",
       "    }\n",
       "\n",
       "    .dataframe thead th {\n",
       "        text-align: right;\n",
       "    }\n",
       "</style>\n",
       "<table border=\"1\" class=\"dataframe\">\n",
       "  <thead>\n",
       "    <tr style=\"text-align: right;\">\n",
       "      <th></th>\n",
       "      <th>Frequency</th>\n",
       "      <th>Label</th>\n",
       "    </tr>\n",
       "  </thead>\n",
       "  <tbody>\n",
       "    <tr>\n",
       "      <th>tonight</th>\n",
       "      <td>32</td>\n",
       "      <td>TIME</td>\n",
       "    </tr>\n",
       "    <tr>\n",
       "      <th>all night</th>\n",
       "      <td>14</td>\n",
       "      <td>TIME</td>\n",
       "    </tr>\n",
       "    <tr>\n",
       "      <th>World</th>\n",
       "      <td>6</td>\n",
       "      <td>ORG</td>\n",
       "    </tr>\n",
       "    <tr>\n",
       "      <th>Osonakoluna</th>\n",
       "      <td>6</td>\n",
       "      <td>GPE</td>\n",
       "    </tr>\n",
       "    <tr>\n",
       "      <th>Awawa bikana</th>\n",
       "      <td>6</td>\n",
       "      <td>PERSON</td>\n",
       "    </tr>\n",
       "    <tr>\n",
       "      <th>...</th>\n",
       "      <td>...</td>\n",
       "      <td>...</td>\n",
       "    </tr>\n",
       "    <tr>\n",
       "      <th>Ani kuni</th>\n",
       "      <td>1</td>\n",
       "      <td>PERSON</td>\n",
       "    </tr>\n",
       "    <tr>\n",
       "      <th>Chaouani Ani</th>\n",
       "      <td>1</td>\n",
       "      <td>PERSON</td>\n",
       "    </tr>\n",
       "    <tr>\n",
       "      <th>Chaouani</th>\n",
       "      <td>1</td>\n",
       "      <td>PERSON</td>\n",
       "    </tr>\n",
       "    <tr>\n",
       "      <th>first</th>\n",
       "      <td>1</td>\n",
       "      <td>ORDINAL</td>\n",
       "    </tr>\n",
       "    <tr>\n",
       "      <th>A thousand</th>\n",
       "      <td>1</td>\n",
       "      <td>CARDINAL</td>\n",
       "    </tr>\n",
       "  </tbody>\n",
       "</table>\n",
       "<p>96 rows × 2 columns</p>\n",
       "</div>"
      ],
      "text/plain": [
       "              Frequency     Label\n",
       "tonight              32      TIME\n",
       "all night            14      TIME\n",
       "World                 6       ORG\n",
       "Osonakoluna           6       GPE\n",
       "Awawa bikana          6    PERSON\n",
       "...                 ...       ...\n",
       "Ani kuni              1    PERSON\n",
       "Chaouani Ani          1    PERSON\n",
       "Chaouani              1    PERSON\n",
       "first                 1   ORDINAL\n",
       "A thousand            1  CARDINAL\n",
       "\n",
       "[96 rows x 2 columns]"
      ]
     },
     "execution_count": 216,
     "metadata": {},
     "output_type": "execute_result"
    }
   ],
   "source": [
    "# List all Entities\n",
    "\n",
    "ent_labels=[]\n",
    "entities=[]\n",
    "\n",
    "for ent in rnb_ner.ents:\n",
    "    ent_labels.append(ent.label_)\n",
    "    entities.append(ent.text)\n",
    "\n",
    "# Obtain frequency for each named entity\n",
    "\n",
    "entities_freq = pd.DataFrame.from_dict([Counter(entities)]).T\n",
    "entities_freq.columns = ['Frequency']\n",
    "entities_freq.sort_values(by= 'Frequency', ascending=False, inplace = True)\n",
    "\n",
    "\n",
    "# Retrieve labels for unique named entities\n",
    "\n",
    "unique_nes = entities_freq.index.tolist()\n",
    "\n",
    "labels = []\n",
    "\n",
    "for word in unique_nes:\n",
    "    idx = entities.index(word)\n",
    "    label = ent_labels[idx]\n",
    "    labels.append(label)\n",
    "\n",
    "entities_freq['Label'] = labels\n",
    "\n",
    "entities_freq"
   ]
  },
  {
   "cell_type": "code",
   "execution_count": 217,
   "id": "d07bf084-7dbc-4859-876e-229cd9c91b5d",
   "metadata": {},
   "outputs": [
    {
     "data": {
      "text/html": [
       "<div>\n",
       "<style scoped>\n",
       "    .dataframe tbody tr th:only-of-type {\n",
       "        vertical-align: middle;\n",
       "    }\n",
       "\n",
       "    .dataframe tbody tr th {\n",
       "        vertical-align: top;\n",
       "    }\n",
       "\n",
       "    .dataframe thead th {\n",
       "        text-align: right;\n",
       "    }\n",
       "</style>\n",
       "<table border=\"1\" class=\"dataframe\">\n",
       "  <thead>\n",
       "    <tr style=\"text-align: right;\">\n",
       "      <th></th>\n",
       "      <th>Named_Entity</th>\n",
       "      <th>Count</th>\n",
       "    </tr>\n",
       "  </thead>\n",
       "  <tbody>\n",
       "    <tr>\n",
       "      <th>0</th>\n",
       "      <td>PERSON</td>\n",
       "      <td>66</td>\n",
       "    </tr>\n",
       "    <tr>\n",
       "      <th>1</th>\n",
       "      <td>TIME</td>\n",
       "      <td>52</td>\n",
       "    </tr>\n",
       "    <tr>\n",
       "      <th>2</th>\n",
       "      <td>GPE</td>\n",
       "      <td>38</td>\n",
       "    </tr>\n",
       "    <tr>\n",
       "      <th>3</th>\n",
       "      <td>ORG</td>\n",
       "      <td>23</td>\n",
       "    </tr>\n",
       "    <tr>\n",
       "      <th>4</th>\n",
       "      <td>CARDINAL</td>\n",
       "      <td>19</td>\n",
       "    </tr>\n",
       "  </tbody>\n",
       "</table>\n",
       "</div>"
      ],
      "text/plain": [
       "  Named_Entity  Count\n",
       "0       PERSON     66\n",
       "1         TIME     52\n",
       "2          GPE     38\n",
       "3          ORG     23\n",
       "4     CARDINAL     19"
      ]
     },
     "execution_count": 217,
     "metadata": {},
     "output_type": "execute_result"
    }
   ],
   "source": [
    "# Bar chart of frequencies of Named Entities\n",
    "\n",
    "entities_count = pd.DataFrame.from_dict([Counter(ent_labels)]).T\n",
    "entities_count.columns = ['Count']\n",
    "\n",
    "entities_count.sort_values('Count',inplace=True, ascending=False)\n",
    "\n",
    "entities_count.reset_index(inplace=True)\n",
    "entities_count = entities_count.rename(columns = {'index':'Named_Entity'})\n",
    "\n",
    "entities_count.head()"
   ]
  },
  {
   "cell_type": "code",
   "execution_count": 218,
   "id": "b8c05568-e5a6-4920-a6a8-f93d019a95e3",
   "metadata": {},
   "outputs": [
    {
     "data": {
      "application/vnd.plotly.v1+json": {
       "config": {
        "plotlyServerURL": "https://plot.ly"
       },
       "data": [
        {
         "alignmentgroup": "True",
         "hovertemplate": "Named_Entity=%{x}<br>Count=%{marker.color}<extra></extra>",
         "legendgroup": "",
         "marker": {
          "color": [
           66,
           52,
           38,
           23,
           19,
           7,
           6,
           4,
           4,
           3,
           1
          ],
          "coloraxis": "coloraxis",
          "pattern": {
           "shape": ""
          }
         },
         "name": "",
         "offsetgroup": "",
         "orientation": "v",
         "showlegend": false,
         "textposition": "auto",
         "type": "bar",
         "x": [
          "PERSON",
          "TIME",
          "GPE",
          "ORG",
          "CARDINAL",
          "DATE",
          "NORP",
          "WORK_OF_ART",
          "FAC",
          "ORDINAL",
          "LAW"
         ],
         "xaxis": "x",
         "y": [
          66,
          52,
          38,
          23,
          19,
          7,
          6,
          4,
          4,
          3,
          1
         ],
         "yaxis": "y"
        }
       ],
       "layout": {
        "barmode": "relative",
        "coloraxis": {
         "colorbar": {
          "title": {
           "text": "Count"
          }
         },
         "colorscale": [
          [
           0,
           "rgb(161, 105, 40)"
          ],
          [
           0.16666666666666666,
           "rgb(189, 146, 90)"
          ],
          [
           0.3333333333333333,
           "rgb(214, 189, 141)"
          ],
          [
           0.5,
           "rgb(237, 234, 194)"
          ],
          [
           0.6666666666666666,
           "rgb(181, 200, 184)"
          ],
          [
           0.8333333333333334,
           "rgb(121, 167, 172)"
          ],
          [
           1,
           "rgb(40, 135, 161)"
          ]
         ]
        },
        "legend": {
         "tracegroupgap": 0
        },
        "template": {
         "data": {
          "bar": [
           {
            "error_x": {
             "color": "#2a3f5f"
            },
            "error_y": {
             "color": "#2a3f5f"
            },
            "marker": {
             "line": {
              "color": "#E5ECF6",
              "width": 0.5
             },
             "pattern": {
              "fillmode": "overlay",
              "size": 10,
              "solidity": 0.2
             }
            },
            "type": "bar"
           }
          ],
          "barpolar": [
           {
            "marker": {
             "line": {
              "color": "#E5ECF6",
              "width": 0.5
             },
             "pattern": {
              "fillmode": "overlay",
              "size": 10,
              "solidity": 0.2
             }
            },
            "type": "barpolar"
           }
          ],
          "carpet": [
           {
            "aaxis": {
             "endlinecolor": "#2a3f5f",
             "gridcolor": "white",
             "linecolor": "white",
             "minorgridcolor": "white",
             "startlinecolor": "#2a3f5f"
            },
            "baxis": {
             "endlinecolor": "#2a3f5f",
             "gridcolor": "white",
             "linecolor": "white",
             "minorgridcolor": "white",
             "startlinecolor": "#2a3f5f"
            },
            "type": "carpet"
           }
          ],
          "choropleth": [
           {
            "colorbar": {
             "outlinewidth": 0,
             "ticks": ""
            },
            "type": "choropleth"
           }
          ],
          "contour": [
           {
            "colorbar": {
             "outlinewidth": 0,
             "ticks": ""
            },
            "colorscale": [
             [
              0,
              "#0d0887"
             ],
             [
              0.1111111111111111,
              "#46039f"
             ],
             [
              0.2222222222222222,
              "#7201a8"
             ],
             [
              0.3333333333333333,
              "#9c179e"
             ],
             [
              0.4444444444444444,
              "#bd3786"
             ],
             [
              0.5555555555555556,
              "#d8576b"
             ],
             [
              0.6666666666666666,
              "#ed7953"
             ],
             [
              0.7777777777777778,
              "#fb9f3a"
             ],
             [
              0.8888888888888888,
              "#fdca26"
             ],
             [
              1,
              "#f0f921"
             ]
            ],
            "type": "contour"
           }
          ],
          "contourcarpet": [
           {
            "colorbar": {
             "outlinewidth": 0,
             "ticks": ""
            },
            "type": "contourcarpet"
           }
          ],
          "heatmap": [
           {
            "colorbar": {
             "outlinewidth": 0,
             "ticks": ""
            },
            "colorscale": [
             [
              0,
              "#0d0887"
             ],
             [
              0.1111111111111111,
              "#46039f"
             ],
             [
              0.2222222222222222,
              "#7201a8"
             ],
             [
              0.3333333333333333,
              "#9c179e"
             ],
             [
              0.4444444444444444,
              "#bd3786"
             ],
             [
              0.5555555555555556,
              "#d8576b"
             ],
             [
              0.6666666666666666,
              "#ed7953"
             ],
             [
              0.7777777777777778,
              "#fb9f3a"
             ],
             [
              0.8888888888888888,
              "#fdca26"
             ],
             [
              1,
              "#f0f921"
             ]
            ],
            "type": "heatmap"
           }
          ],
          "heatmapgl": [
           {
            "colorbar": {
             "outlinewidth": 0,
             "ticks": ""
            },
            "colorscale": [
             [
              0,
              "#0d0887"
             ],
             [
              0.1111111111111111,
              "#46039f"
             ],
             [
              0.2222222222222222,
              "#7201a8"
             ],
             [
              0.3333333333333333,
              "#9c179e"
             ],
             [
              0.4444444444444444,
              "#bd3786"
             ],
             [
              0.5555555555555556,
              "#d8576b"
             ],
             [
              0.6666666666666666,
              "#ed7953"
             ],
             [
              0.7777777777777778,
              "#fb9f3a"
             ],
             [
              0.8888888888888888,
              "#fdca26"
             ],
             [
              1,
              "#f0f921"
             ]
            ],
            "type": "heatmapgl"
           }
          ],
          "histogram": [
           {
            "marker": {
             "pattern": {
              "fillmode": "overlay",
              "size": 10,
              "solidity": 0.2
             }
            },
            "type": "histogram"
           }
          ],
          "histogram2d": [
           {
            "colorbar": {
             "outlinewidth": 0,
             "ticks": ""
            },
            "colorscale": [
             [
              0,
              "#0d0887"
             ],
             [
              0.1111111111111111,
              "#46039f"
             ],
             [
              0.2222222222222222,
              "#7201a8"
             ],
             [
              0.3333333333333333,
              "#9c179e"
             ],
             [
              0.4444444444444444,
              "#bd3786"
             ],
             [
              0.5555555555555556,
              "#d8576b"
             ],
             [
              0.6666666666666666,
              "#ed7953"
             ],
             [
              0.7777777777777778,
              "#fb9f3a"
             ],
             [
              0.8888888888888888,
              "#fdca26"
             ],
             [
              1,
              "#f0f921"
             ]
            ],
            "type": "histogram2d"
           }
          ],
          "histogram2dcontour": [
           {
            "colorbar": {
             "outlinewidth": 0,
             "ticks": ""
            },
            "colorscale": [
             [
              0,
              "#0d0887"
             ],
             [
              0.1111111111111111,
              "#46039f"
             ],
             [
              0.2222222222222222,
              "#7201a8"
             ],
             [
              0.3333333333333333,
              "#9c179e"
             ],
             [
              0.4444444444444444,
              "#bd3786"
             ],
             [
              0.5555555555555556,
              "#d8576b"
             ],
             [
              0.6666666666666666,
              "#ed7953"
             ],
             [
              0.7777777777777778,
              "#fb9f3a"
             ],
             [
              0.8888888888888888,
              "#fdca26"
             ],
             [
              1,
              "#f0f921"
             ]
            ],
            "type": "histogram2dcontour"
           }
          ],
          "mesh3d": [
           {
            "colorbar": {
             "outlinewidth": 0,
             "ticks": ""
            },
            "type": "mesh3d"
           }
          ],
          "parcoords": [
           {
            "line": {
             "colorbar": {
              "outlinewidth": 0,
              "ticks": ""
             }
            },
            "type": "parcoords"
           }
          ],
          "pie": [
           {
            "automargin": true,
            "type": "pie"
           }
          ],
          "scatter": [
           {
            "marker": {
             "colorbar": {
              "outlinewidth": 0,
              "ticks": ""
             }
            },
            "type": "scatter"
           }
          ],
          "scatter3d": [
           {
            "line": {
             "colorbar": {
              "outlinewidth": 0,
              "ticks": ""
             }
            },
            "marker": {
             "colorbar": {
              "outlinewidth": 0,
              "ticks": ""
             }
            },
            "type": "scatter3d"
           }
          ],
          "scattercarpet": [
           {
            "marker": {
             "colorbar": {
              "outlinewidth": 0,
              "ticks": ""
             }
            },
            "type": "scattercarpet"
           }
          ],
          "scattergeo": [
           {
            "marker": {
             "colorbar": {
              "outlinewidth": 0,
              "ticks": ""
             }
            },
            "type": "scattergeo"
           }
          ],
          "scattergl": [
           {
            "marker": {
             "colorbar": {
              "outlinewidth": 0,
              "ticks": ""
             }
            },
            "type": "scattergl"
           }
          ],
          "scattermapbox": [
           {
            "marker": {
             "colorbar": {
              "outlinewidth": 0,
              "ticks": ""
             }
            },
            "type": "scattermapbox"
           }
          ],
          "scatterpolar": [
           {
            "marker": {
             "colorbar": {
              "outlinewidth": 0,
              "ticks": ""
             }
            },
            "type": "scatterpolar"
           }
          ],
          "scatterpolargl": [
           {
            "marker": {
             "colorbar": {
              "outlinewidth": 0,
              "ticks": ""
             }
            },
            "type": "scatterpolargl"
           }
          ],
          "scatterternary": [
           {
            "marker": {
             "colorbar": {
              "outlinewidth": 0,
              "ticks": ""
             }
            },
            "type": "scatterternary"
           }
          ],
          "surface": [
           {
            "colorbar": {
             "outlinewidth": 0,
             "ticks": ""
            },
            "colorscale": [
             [
              0,
              "#0d0887"
             ],
             [
              0.1111111111111111,
              "#46039f"
             ],
             [
              0.2222222222222222,
              "#7201a8"
             ],
             [
              0.3333333333333333,
              "#9c179e"
             ],
             [
              0.4444444444444444,
              "#bd3786"
             ],
             [
              0.5555555555555556,
              "#d8576b"
             ],
             [
              0.6666666666666666,
              "#ed7953"
             ],
             [
              0.7777777777777778,
              "#fb9f3a"
             ],
             [
              0.8888888888888888,
              "#fdca26"
             ],
             [
              1,
              "#f0f921"
             ]
            ],
            "type": "surface"
           }
          ],
          "table": [
           {
            "cells": {
             "fill": {
              "color": "#EBF0F8"
             },
             "line": {
              "color": "white"
             }
            },
            "header": {
             "fill": {
              "color": "#C8D4E3"
             },
             "line": {
              "color": "white"
             }
            },
            "type": "table"
           }
          ]
         },
         "layout": {
          "annotationdefaults": {
           "arrowcolor": "#2a3f5f",
           "arrowhead": 0,
           "arrowwidth": 1
          },
          "autotypenumbers": "strict",
          "coloraxis": {
           "colorbar": {
            "outlinewidth": 0,
            "ticks": ""
           }
          },
          "colorscale": {
           "diverging": [
            [
             0,
             "#8e0152"
            ],
            [
             0.1,
             "#c51b7d"
            ],
            [
             0.2,
             "#de77ae"
            ],
            [
             0.3,
             "#f1b6da"
            ],
            [
             0.4,
             "#fde0ef"
            ],
            [
             0.5,
             "#f7f7f7"
            ],
            [
             0.6,
             "#e6f5d0"
            ],
            [
             0.7,
             "#b8e186"
            ],
            [
             0.8,
             "#7fbc41"
            ],
            [
             0.9,
             "#4d9221"
            ],
            [
             1,
             "#276419"
            ]
           ],
           "sequential": [
            [
             0,
             "#0d0887"
            ],
            [
             0.1111111111111111,
             "#46039f"
            ],
            [
             0.2222222222222222,
             "#7201a8"
            ],
            [
             0.3333333333333333,
             "#9c179e"
            ],
            [
             0.4444444444444444,
             "#bd3786"
            ],
            [
             0.5555555555555556,
             "#d8576b"
            ],
            [
             0.6666666666666666,
             "#ed7953"
            ],
            [
             0.7777777777777778,
             "#fb9f3a"
            ],
            [
             0.8888888888888888,
             "#fdca26"
            ],
            [
             1,
             "#f0f921"
            ]
           ],
           "sequentialminus": [
            [
             0,
             "#0d0887"
            ],
            [
             0.1111111111111111,
             "#46039f"
            ],
            [
             0.2222222222222222,
             "#7201a8"
            ],
            [
             0.3333333333333333,
             "#9c179e"
            ],
            [
             0.4444444444444444,
             "#bd3786"
            ],
            [
             0.5555555555555556,
             "#d8576b"
            ],
            [
             0.6666666666666666,
             "#ed7953"
            ],
            [
             0.7777777777777778,
             "#fb9f3a"
            ],
            [
             0.8888888888888888,
             "#fdca26"
            ],
            [
             1,
             "#f0f921"
            ]
           ]
          },
          "colorway": [
           "#636efa",
           "#EF553B",
           "#00cc96",
           "#ab63fa",
           "#FFA15A",
           "#19d3f3",
           "#FF6692",
           "#B6E880",
           "#FF97FF",
           "#FECB52"
          ],
          "font": {
           "color": "#2a3f5f"
          },
          "geo": {
           "bgcolor": "white",
           "lakecolor": "white",
           "landcolor": "#E5ECF6",
           "showlakes": true,
           "showland": true,
           "subunitcolor": "white"
          },
          "hoverlabel": {
           "align": "left"
          },
          "hovermode": "closest",
          "mapbox": {
           "style": "light"
          },
          "paper_bgcolor": "white",
          "plot_bgcolor": "#E5ECF6",
          "polar": {
           "angularaxis": {
            "gridcolor": "white",
            "linecolor": "white",
            "ticks": ""
           },
           "bgcolor": "#E5ECF6",
           "radialaxis": {
            "gridcolor": "white",
            "linecolor": "white",
            "ticks": ""
           }
          },
          "scene": {
           "xaxis": {
            "backgroundcolor": "#E5ECF6",
            "gridcolor": "white",
            "gridwidth": 2,
            "linecolor": "white",
            "showbackground": true,
            "ticks": "",
            "zerolinecolor": "white"
           },
           "yaxis": {
            "backgroundcolor": "#E5ECF6",
            "gridcolor": "white",
            "gridwidth": 2,
            "linecolor": "white",
            "showbackground": true,
            "ticks": "",
            "zerolinecolor": "white"
           },
           "zaxis": {
            "backgroundcolor": "#E5ECF6",
            "gridcolor": "white",
            "gridwidth": 2,
            "linecolor": "white",
            "showbackground": true,
            "ticks": "",
            "zerolinecolor": "white"
           }
          },
          "shapedefaults": {
           "line": {
            "color": "#2a3f5f"
           }
          },
          "ternary": {
           "aaxis": {
            "gridcolor": "white",
            "linecolor": "white",
            "ticks": ""
           },
           "baxis": {
            "gridcolor": "white",
            "linecolor": "white",
            "ticks": ""
           },
           "bgcolor": "#E5ECF6",
           "caxis": {
            "gridcolor": "white",
            "linecolor": "white",
            "ticks": ""
           }
          },
          "title": {
           "x": 0.05
          },
          "xaxis": {
           "automargin": true,
           "gridcolor": "white",
           "linecolor": "white",
           "ticks": "",
           "title": {
            "standoff": 15
           },
           "zerolinecolor": "white",
           "zerolinewidth": 2
          },
          "yaxis": {
           "automargin": true,
           "gridcolor": "white",
           "linecolor": "white",
           "ticks": "",
           "title": {
            "standoff": 15
           },
           "zerolinecolor": "white",
           "zerolinewidth": 2
          }
         }
        },
        "title": {
         "text": "Top Named Entities found in EDM Songs"
        },
        "xaxis": {
         "anchor": "y",
         "domain": [
          0,
          1
         ],
         "title": {
          "text": "Named_Entity"
         }
        },
        "yaxis": {
         "anchor": "x",
         "domain": [
          0,
          1
         ],
         "title": {
          "text": "Count"
         }
        }
       }
      }
     },
     "metadata": {},
     "output_type": "display_data"
    }
   ],
   "source": [
    "fig = px.bar(\n",
    "    entities_count,\n",
    "    x=\"Named_Entity\",\n",
    "    y=\"Count\",\n",
    "    color = \"Count\",\n",
    "    color_continuous_scale='earth',\n",
    "    title = \"Top Named Entities found in EDM Songs\"\n",
    "     )\n",
    "fig.show()"
   ]
  },
  {
   "cell_type": "code",
   "execution_count": 219,
   "id": "fe8127a4-2082-4438-86eb-454e8c16f05e",
   "metadata": {},
   "outputs": [],
   "source": [
    "# Export Entities dataframe to CSV\n",
    "entities_count.to_csv('EDM_entity_count.csv', index=False)"
   ]
  },
  {
   "cell_type": "markdown",
   "id": "a3711c23-0d07-4f24-b064-38514f5158fe",
   "metadata": {},
   "source": [
    "# Build a Markov Chain Function\n",
    "We are going to build a simple Markov chain function that creates a dictionary:\n",
    "\n",
    "- The keys should be all of the words in the corpus\n",
    "- The values should be a list of the words that follow the keys"
   ]
  },
  {
   "cell_type": "code",
   "execution_count": 220,
   "id": "7f30a922-196e-4db7-8b38-d5ad62eb03b7",
   "metadata": {},
   "outputs": [],
   "source": [
    "# from collections import defaultdict\n",
    "\n",
    "def markov_chain(text):\n",
    "    '''The input is a string of text and the output will be a dictionary with each word as\n",
    "       a key and each value as the list of words that come after the key in the text.'''\n",
    "    \n",
    "    # Tokenize the text by word, though including punctuation\n",
    "    words = text.split(' ')\n",
    "#     for t in text:\n",
    "#         words = t.split(' ')\n",
    "#         print(words[0])\n",
    "    \n",
    "    # Initialize a default dictionary to hold all of the words and next words\n",
    "    m_dict = defaultdict(list)\n",
    "    \n",
    "    # Create a zipped list of all of the word pairs and put them in word: list of next words format\n",
    "    for current_word, next_word in zip(words[0:-1], words[1:]):\n",
    "        m_dict[current_word].append(next_word)\n",
    "\n",
    "    # Convert the default dict back into a dictionary\n",
    "    m_dict = dict(m_dict)\n",
    "    return m_dict"
   ]
  },
  {
   "cell_type": "code",
   "execution_count": 221,
   "metadata": {},
   "outputs": [],
   "source": [
    "# Text generation function\n",
    "def generate_sentence(chain, count=15):\n",
    "    '''Input a dictionary in the format of key = current word, value = list of next words\n",
    "       along with the number of words you would like to see in your generated sentence.'''\n",
    "\n",
    "    # Capitalize the first word\n",
    "    word1 = random.choice(list(chain.keys()))\n",
    "    sentence = word1.capitalize()\n",
    "\n",
    "    # Generate the second word from the value list. Set the new word as the first word. Repeat.\n",
    "    for i in range(count-1):\n",
    "        word2 = random.choice(chain[word1])\n",
    "        word1 = word2\n",
    "        sentence += ' ' + word2\n",
    "\n",
    "    # End it with a period\n",
    "    sentence += '.'\n",
    "    return(sentence)"
   ]
  },
  {
   "cell_type": "code",
   "execution_count": 222,
   "id": "67662086-f3d9-4f97-b658-aa935c2162df",
   "metadata": {},
   "outputs": [],
   "source": [
    "# Create the dictionary for lyrics, take a look at it\n",
    "# lyrics_dict = new_lyrics_df['Lyrics_str'].apply(markov_chain)\n",
    "\n",
    "lyrics_dict = markov_chain(lyrics_text)\n"
   ]
  },
  {
   "cell_type": "code",
   "execution_count": 223,
   "id": "19474bff",
   "metadata": {},
   "outputs": [],
   "source": [
    "lines = []\n",
    "line = []\n",
    "\n",
    "num_sentences=32\n",
    "\n",
    "with open('markov_EDM.txt', 'w') as file:\n",
    "    file.write('EDM Song by Markov Chains')\n",
    "    file.write('\\n')\n",
    "    file.write('------------------------------------------')\n",
    "    file.write('\\n')\n",
    "\n",
    "    for num in range(0,num_sentences):\n",
    "        line = generate_sentence(lyrics_dict)\n",
    "        lines.append(line)\n",
    "        file.write(line)\n",
    "        file.write('\\n')"
   ]
  },
  {
   "cell_type": "markdown",
   "id": "2fa77889-5625-4ac9-ad06-186886d19939",
   "metadata": {},
   "source": [
    "# Create a Text Generator\n",
    "We're going to create a function that generates sentences. It will take two things as inputs:\n",
    "\n",
    "- The dictionary you just created\n",
    "- The number of words you want generated"
   ]
  },
  {
   "cell_type": "code",
   "execution_count": 224,
   "id": "473f8ce5-a831-4824-8ddc-e3af67576598",
   "metadata": {},
   "outputs": [],
   "source": [
    "# import random\n",
    "\n",
    "def generate_sentence(chain, count=10):\n",
    "    '''Input a dictionary in the format of key = current word, value = list of next words\n",
    "       along with the number of words you would like to see in your generated sentence.'''\n",
    "\n",
    "    # Capitalize the first word\n",
    "    word1 = random.choice(list(chain.keys()))\n",
    "    sentence = word1.capitalize()\n",
    "\n",
    "    # Generate the second word from the value list. Set the new word as the first word. Repeat.\n",
    "    for i in range(count-1):\n",
    "        word2 = random.choice(chain[word1])\n",
    "        word1 = word2\n",
    "        sentence += ' ' + word2\n",
    "\n",
    "    # End it with a period\n",
    "    sentence += '.'\n",
    "    return(sentence)"
   ]
  },
  {
   "cell_type": "code",
   "execution_count": null,
   "id": "fc88d3f9-b736-4676-b5c7-6379b133a0e6",
   "metadata": {},
   "outputs": [],
   "source": []
  },
  {
   "cell_type": "code",
   "execution_count": 225,
   "id": "c9ea962f",
   "metadata": {},
   "outputs": [],
   "source": [
    "from nltk.lm import MLE # language model\n",
    "from nltk import word_tokenize, sent_tokenize\n",
    "from nltk.util import pad_sequence, bigrams, ngrams, everygrams\n",
    "from nltk.lm.preprocessing import pad_both_ends, flatten, padded_everygram_pipeline\n",
    "from nltk.tokenize.treebank import TreebankWordDetokenizer"
   ]
  },
  {
   "cell_type": "code",
   "execution_count": 226,
   "id": "385702bb",
   "metadata": {},
   "outputs": [],
   "source": [
    "# Tokenize lyrics corpus\n",
    "lyrics_corpus = list(lyrics_df['Lyrics'].apply(word_tokenize))\n",
    "n = 4\n",
    "train_data, padded_sents = padded_everygram_pipeline(n, lyrics_corpus)\n",
    "# Train and fit the model\n",
    "EDM_model = MLE(n) # Lets train a 4-grams model\n",
    "EDM_model.fit(train_data, padded_sents)"
   ]
  },
  {
   "cell_type": "code",
   "execution_count": 227,
   "id": "66d6c1c9",
   "metadata": {},
   "outputs": [],
   "source": [
    "# Clean up the generated tokens to make it human-like.\n",
    "\n",
    "detokenize = TreebankWordDetokenizer().detokenize\n",
    "\n",
    "def generate_sent(model, num_words, random_seed):\n",
    "    \"\"\"\n",
    "    :param model: An ngram language model from `nltk.lm.model`.\n",
    "    :param num_words: Max no. of words to generate.\n",
    "    :param random_seed: Seed value for random.\n",
    "    \"\"\"\n",
    "    content = []\n",
    "    for token in model.generate(num_words, random_seed=random_seed):\n",
    "        if token == '<s>':\n",
    "            continue\n",
    "        if token == '</s>':\n",
    "            break\n",
    "        content.append(token)\n",
    "    return detokenize(content)"
   ]
  },
  {
   "cell_type": "code",
   "execution_count": 228,
   "id": "d0cde37d",
   "metadata": {},
   "outputs": [
    {
     "data": {
      "text/plain": [
       "2123"
      ]
     },
     "execution_count": 228,
     "metadata": {},
     "output_type": "execute_result"
    }
   ],
   "source": [
    "# Predict text\n",
    "mle_text = generate_sent(EDM_model, num_words=500, random_seed=10)\n",
    "len(mle_text)  \n",
    "\n",
    "# Note: pick a random seed that gives you 1000+ characters as the len(mle_text) \n",
    "# or run the generate_sent again until you hit your target size of lyrics"
   ]
  },
  {
   "cell_type": "code",
   "execution_count": 229,
   "id": "183326ab",
   "metadata": {},
   "outputs": [],
   "source": [
    "with open('EDM_mle.txt', 'w', encoding=\"utf-8\") as file:\n",
    "    file.write(mle_text)"
   ]
  },
  {
   "cell_type": "code",
   "execution_count": 230,
   "id": "a6c11bcf",
   "metadata": {},
   "outputs": [
    {
     "data": {
      "text/plain": [
       "\"it Beating my drum like dum di-di-day I like the dirty rhythm you play I wannado is- And a- And take your money Pirate skulls and bones Sticks and stones and weed and bongs Running when we hit 'em Lethal poison for the system Pirate skulls and bones Sticks and stones and weed and bongs Running when we hit 'em Lethal poison for the system No one on the corner has swagger like us Hit me on my burner prepaid wireless We pack and deliver like UPS trucks Already going to hell, just pumping that gas No one on the corner has swagger like us Hit me on my burner prepaid wireless We pack and deliver like UPS trucks Already going to hell, just pumping that gas No one on the corner has swagger like us Hit me on my burner prepaid wireless We pack and deliver like UPS trucks Already going to hell, just pumping that gas All I wannakiss it I see a, ooh, I see a lipstick I wannado is- And a- And take your money All I wannastep into a dream Lift off the ground, once in the air, I'm floating up into the beat I see the sound, it's just you and me And we are never going home (oh-woah, oh-woah) Let's go dancin' 'til the morning Music (we can do this Music (never going, never going) I know we hear it (never going, never going) I know that you'll return with destiny Only you can truly understand The measure of a man The measure of a man) Your body bears the scars of every man I know So softly I wannahear you calling my name Like, hey mama, ma Banging the drum like dum di-di-day I know you want it in the worst way I wannakiss it I see a, ooh, I see a lipstick I wanna, ooh, I wanna, ooh, I see a, ooh, I see a, ooh, I see a, ooh, ooh No one forever Dancing together No one forever Dancing together Music, no one forever Feel it, dancing together Lipstick, no one forever Kiss it Ooh, I see a, ooh, I wannahear you calling my name Like, hey mama, mama, hey mama, mama, hey mama, ma Be my woman, girl, and I'll be your man Whole crew got the juice yo' game the truth My screams is the proof them other dudes get the deuce So when I speed in the coupe, leaving this interview It ain't nothin' new I been f---in' with you None\""
      ]
     },
     "execution_count": 230,
     "metadata": {},
     "output_type": "execute_result"
    }
   ],
   "source": [
    "mle_text"
   ]
  },
  {
   "cell_type": "code",
   "execution_count": 231,
   "id": "4e97c601",
   "metadata": {},
   "outputs": [
    {
     "data": {
      "text/plain": [
       "['it ',\n",
       " 'Beating my drum like dum di',\n",
       " '-di',\n",
       " '-day I like the dirty rhythm you play I wannado is',\n",
       " '- ',\n",
       " 'And a',\n",
       " '- ',\n",
       " 'And take your money ',\n",
       " 'Pirate skulls and bones ',\n",
       " 'Sticks and stones and weed and bongs ',\n",
       " \"Running when we hit 'em \",\n",
       " 'Lethal poison for the system ',\n",
       " 'Pirate skulls and bones ',\n",
       " 'Sticks and stones and weed and bongs ',\n",
       " \"Running when we hit 'em \",\n",
       " 'Lethal poison for the system ',\n",
       " 'No one on the corner has swagger like us ',\n",
       " 'Hit me on my burner prepaid wireless ',\n",
       " 'We pack and deliver like ',\n",
       " 'U',\n",
       " 'P',\n",
       " 'S trucks ',\n",
       " 'Already going to hell, just pumping that gas ',\n",
       " 'No one on the corner has swagger like us ',\n",
       " 'Hit me on my burner prepaid wireless ',\n",
       " 'We pack and deliver like ',\n",
       " 'U',\n",
       " 'P',\n",
       " 'S trucks ',\n",
       " 'Already going to hell, just pumping that gas ',\n",
       " 'No one on the corner has swagger like us ',\n",
       " 'Hit me on my burner prepaid wireless ',\n",
       " 'We pack and deliver like ',\n",
       " 'U',\n",
       " 'P',\n",
       " 'S trucks ',\n",
       " 'Already going to hell, just pumping that gas ',\n",
       " 'All I wannakiss it I see a, ooh, I see a lipstick I wannado is',\n",
       " '- ',\n",
       " 'And a',\n",
       " '- ',\n",
       " 'And take your money ',\n",
       " 'All I wannastep into a dream ',\n",
       " \"Lift off the ground, once in the air, I'm floating up into the beat I see the sound, it's just you and me \",\n",
       " 'And we are never going home (oh',\n",
       " '-woah, oh',\n",
       " '-woah) ',\n",
       " \"Let's go dancin' 'til the morning \",\n",
       " 'Music (we can do this ',\n",
       " \"Music (never going, never going) I know we hear it (never going, never going) I know that you'll return with destiny \",\n",
       " 'Only you can truly understand ',\n",
       " 'The measure of a man ',\n",
       " 'The measure of a man) ',\n",
       " 'Your body bears the scars of every man I know ',\n",
       " 'So softly I wannahear you calling my name ',\n",
       " 'Like, hey mama, ma ',\n",
       " 'Banging the drum like dum di',\n",
       " '-di',\n",
       " '-day I know you want it in the worst way I wannakiss it I see a, ooh, I see a lipstick I wanna, ooh, I wanna, ooh, I see a, ooh, I see a, ooh, I see a, ooh, ooh ',\n",
       " 'No one forever ',\n",
       " 'Dancing together ',\n",
       " 'No one forever ',\n",
       " 'Dancing together ',\n",
       " 'Music, no one forever ',\n",
       " 'Feel it, dancing together ',\n",
       " 'Lipstick, no one forever ',\n",
       " 'Kiss it ',\n",
       " 'Ooh, I see a, ooh, I wannahear you calling my name ',\n",
       " 'Like, hey mama, mama, hey mama, mama, hey mama, ma ',\n",
       " \"Be my woman, girl, and I'll be your man \",\n",
       " \"Whole crew got the juice yo' game the truth \",\n",
       " 'My screams is the proof them other dudes get the deuce ',\n",
       " \"So when I speed in the coupe, leaving this interview It ain't nothin' new I been f\",\n",
       " '-',\n",
       " '-',\n",
       " \"-in' with you \",\n",
       " 'None']"
      ]
     },
     "execution_count": 231,
     "metadata": {},
     "output_type": "execute_result"
    }
   ],
   "source": [
    "mle_lyrics = [s for s in re.split(\"([A-H-J-Z][^A-H-J-Z]*)\", mle_text) if s]\n",
    "mle_lyrics"
   ]
  },
  {
   "cell_type": "markdown",
   "id": "3e88f879",
   "metadata": {},
   "source": [
    "# Generate Audio from MLE Lyrics"
   ]
  },
  {
   "cell_type": "code",
   "execution_count": 236,
   "id": "974c9400",
   "metadata": {},
   "outputs": [],
   "source": [
    "from gtts import gTTS \n",
    "import os\n",
    "speech = gTTS(text = mle_text, lang = 'en', slow = True)\n",
    "speech.save(\"mle_lyrics_EDM.mp4\")"
   ]
  },
  {
   "cell_type": "code",
   "execution_count": null,
   "id": "c53dd7a8",
   "metadata": {},
   "outputs": [],
   "source": []
  }
 ],
 "metadata": {
  "kernelspec": {
   "display_name": "Python 3 (ipykernel)",
   "language": "python",
   "name": "python3"
  },
  "language_info": {
   "codemirror_mode": {
    "name": "ipython",
    "version": 3
   },
   "file_extension": ".py",
   "mimetype": "text/x-python",
   "name": "python",
   "nbconvert_exporter": "python",
   "pygments_lexer": "ipython3",
   "version": "3.8.8"
  }
 },
 "nbformat": 4,
 "nbformat_minor": 5
}
